{
 "cells": [
  {
   "cell_type": "markdown",
   "metadata": {},
   "source": [
    "## Import Tensorflow Libraries"
   ]
  },
  {
   "cell_type": "code",
   "execution_count": 1,
   "metadata": {},
   "outputs": [],
   "source": [
    "import matplotlib.pyplot as plt\n",
    "import numpy as np\n",
    "import os\n",
    "import PIL\n",
    "import tensorflow as tf\n",
    "\n",
    "from tensorflow import keras\n",
    "from tensorflow.keras import layers\n",
    "from tensorflow.keras.models import Sequential\n",
    "\n",
    "os.environ['TF_CPP_MIN_LOG_LEVEL']='2'\n",
    "tf.compat.v1.logging.set_verbosity(tf.compat.v1.logging.ERROR)"
   ]
  },
  {
   "cell_type": "markdown",
   "metadata": {},
   "source": [
    "## Create our Training Dataset and Validation Dataset"
   ]
  },
  {
   "cell_type": "code",
   "execution_count": 40,
   "metadata": {},
   "outputs": [
    {
     "name": "stdout",
     "output_type": "stream",
     "text": [
      "Found 673148 files belonging to 4 classes.\n",
      "Using 572176 files for training.\n",
      "Found 673148 files belonging to 4 classes.\n",
      "Using 100972 files for validation.\n",
      "['Gore', 'None', 'Pornographic', 'Racy']\n"
     ]
    }
   ],
   "source": [
    "data_dir = \"nvme_drive/Training Data\"\n",
    "AUTOTUNE = tf.data.AUTOTUNE\n",
    "\n",
    "batch_size = 64\n",
    "img_height = 180\n",
    "img_width = 180\n",
    "train_ds = train_ds = tf.keras.utils.image_dataset_from_directory(\n",
    "  data_dir,\n",
    "  validation_split=0.15,\n",
    "  subset=\"training\",\n",
    "  seed=12345689,\n",
    "  image_size=(img_height, img_width),\n",
    "  batch_size=batch_size)\n",
    "\n",
    "\n",
    "\n",
    "\n",
    "val_ds = tf.keras.utils.image_dataset_from_directory(\n",
    "  data_dir,\n",
    "  validation_split=0.15,\n",
    "  subset=\"validation\",\n",
    "  seed=12345689,\n",
    "  image_size=(img_height, img_width),\n",
    "  batch_size=batch_size)\n",
    "\n",
    "\n",
    "class_names = train_ds.class_names\n",
    "print(class_names)"
   ]
  },
  {
   "cell_type": "markdown",
   "metadata": {},
   "source": [
    "## Create Model"
   ]
  },
  {
   "cell_type": "markdown",
   "metadata": {},
   "source": [
    "### Resize and Rescale all Datasets"
   ]
  },
  {
   "cell_type": "code",
   "execution_count": 41,
   "metadata": {},
   "outputs": [],
   "source": [
    "data_augmentation = keras.Sequential(\n",
    "  [\n",
    "    layers.RandomFlip(\"horizontal\",\n",
    "                      input_shape=(img_height,\n",
    "                                  img_width,\n",
    "                                  3)),\n",
    "    layers.RandomRotation(0.1),\n",
    "    layers.RandomZoom(0.1),\n",
    "  ]\n",
    ")\n",
    "\n",
    "resize_and_rescale = tf.keras.Sequential([\n",
    "  layers.Resizing(img_height, img_width),\n",
    "  layers.Rescaling(1./255)\n",
    "])\n",
    "\n",
    "\n",
    "val_ds = val_ds.map(lambda x, y: (resize_and_rescale(x), y), num_parallel_calls=AUTOTUNE)\n",
    "train_ds = train_ds.map(lambda x, y: (resize_and_rescale(x), y), num_parallel_calls=AUTOTUNE)\n",
    "\n",
    "#Data augmentation should only be applied to the training dataset\n",
    "train_ds = train_ds.map(lambda x, y: (data_augmentation(x, training=True), y), num_parallel_calls=AUTOTUNE)\n",
    "\n",
    "#Buffered prefetching applied to all datasets\n",
    "train_ds = train_ds.prefetch(buffer_size=AUTOTUNE)\n",
    "val_ds = val_ds.prefetch(buffer_size=AUTOTUNE)"
   ]
  },
  {
   "cell_type": "markdown",
   "metadata": {},
   "source": [
    "#### Dropout regularization of the Network"
   ]
  },
  {
   "cell_type": "code",
   "execution_count": 42,
   "metadata": {},
   "outputs": [
    {
     "name": "stdout",
     "output_type": "stream",
     "text": [
      "Model: \"sequential_43\"\n",
      "_________________________________________________________________\n",
      " Layer (type)                Output Shape              Param #   \n",
      "=================================================================\n",
      " rescaling_22 (Rescaling)    (None, 180, 180, 3)       0         \n",
      "                                                                 \n",
      " conv2d_3 (Conv2D)           (None, 180, 180, 16)      448       \n",
      "                                                                 \n",
      " max_pooling2d_3 (MaxPooling  (None, 90, 90, 16)       0         \n",
      " 2D)                                                             \n",
      "                                                                 \n",
      " conv2d_4 (Conv2D)           (None, 90, 90, 32)        4640      \n",
      "                                                                 \n",
      " max_pooling2d_4 (MaxPooling  (None, 45, 45, 32)       0         \n",
      " 2D)                                                             \n",
      "                                                                 \n",
      " conv2d_5 (Conv2D)           (None, 45, 45, 64)        18496     \n",
      "                                                                 \n",
      " max_pooling2d_5 (MaxPooling  (None, 22, 22, 64)       0         \n",
      " 2D)                                                             \n",
      "                                                                 \n",
      " dropout_1 (Dropout)         (None, 22, 22, 64)        0         \n",
      "                                                                 \n",
      " flatten_1 (Flatten)         (None, 30976)             0         \n",
      "                                                                 \n",
      " dense_2 (Dense)             (None, 128)               3965056   \n",
      "                                                                 \n",
      " dense_3 (Dense)             (None, 4)                 516       \n",
      "                                                                 \n",
      "=================================================================\n",
      "Total params: 3,989,156\n",
      "Trainable params: 3,989,156\n",
      "Non-trainable params: 0\n",
      "_________________________________________________________________\n"
     ]
    }
   ],
   "source": [
    "num_classes = len(class_names)\n",
    "\n",
    "model = Sequential([\n",
    "  layers.Rescaling(1./255, input_shape=(img_height, img_width, 3)),\n",
    "  layers.Conv2D(16, 3, padding='same', activation='relu'),\n",
    "  layers.MaxPooling2D(),\n",
    "  layers.Conv2D(32, 3, padding='same', activation='relu'),\n",
    "  layers.MaxPooling2D(),\n",
    "  layers.Conv2D(64, 3, padding='same', activation='relu'),\n",
    "  layers.MaxPooling2D(),\n",
    "  layers.Dropout(0.2),\n",
    "  layers.Flatten(),\n",
    "  layers.Dense(128, activation='relu'),\n",
    "  layers.Dense(num_classes)\n",
    "])\n",
    "\n",
    "model.compile(optimizer='adam',\n",
    "              loss=tf.keras.losses.SparseCategoricalCrossentropy(from_logits=True),\n",
    "              metrics=['accuracy'])\n",
    "model.build()\n",
    "model.summary()\n"
   ]
  },
  {
   "cell_type": "markdown",
   "metadata": {},
   "source": [
    "## Train the Model"
   ]
  },
  {
   "cell_type": "code",
   "execution_count": 44,
   "metadata": {},
   "outputs": [
    {
     "name": "stdout",
     "output_type": "stream",
     "text": [
      "Epoch 1/12\n",
      "8941/8941 [==============================] - 236s 26ms/step - loss: 0.8170 - accuracy: 0.6568 - val_loss: 0.8152 - val_accuracy: 0.6589\n",
      "Epoch 2/12\n",
      "8941/8941 [==============================] - 236s 26ms/step - loss: 0.8170 - accuracy: 0.6568 - val_loss: 0.8151 - val_accuracy: 0.6589\n",
      "Epoch 3/12\n",
      "8941/8941 [==============================] - 236s 26ms/step - loss: 0.8170 - accuracy: 0.6568 - val_loss: 0.8151 - val_accuracy: 0.6589\n",
      "Epoch 4/12\n",
      "8941/8941 [==============================] - 235s 26ms/step - loss: 0.8170 - accuracy: 0.6568 - val_loss: 0.8152 - val_accuracy: 0.6589\n",
      "Epoch 5/12\n",
      "8941/8941 [==============================] - 236s 26ms/step - loss: 0.8170 - accuracy: 0.6568 - val_loss: 0.8151 - val_accuracy: 0.6589\n",
      "Epoch 6/12\n",
      "8941/8941 [==============================] - 236s 26ms/step - loss: 0.8170 - accuracy: 0.6568 - val_loss: 0.8151 - val_accuracy: 0.6589\n",
      "Epoch 7/12\n",
      "8941/8941 [==============================] - 236s 26ms/step - loss: 0.8170 - accuracy: 0.6568 - val_loss: 0.8151 - val_accuracy: 0.6589\n",
      "Epoch 8/12\n",
      "8941/8941 [==============================] - 236s 26ms/step - loss: 0.8170 - accuracy: 0.6568 - val_loss: 0.8152 - val_accuracy: 0.6589\n",
      "Epoch 9/12\n",
      "8941/8941 [==============================] - 236s 26ms/step - loss: 0.8170 - accuracy: 0.6568 - val_loss: 0.8151 - val_accuracy: 0.6589\n",
      "Epoch 10/12\n",
      "8941/8941 [==============================] - 236s 26ms/step - loss: 0.8170 - accuracy: 0.6568 - val_loss: 0.8152 - val_accuracy: 0.6589\n",
      "Epoch 11/12\n",
      "8941/8941 [==============================] - 236s 26ms/step - loss: 0.8170 - accuracy: 0.6568 - val_loss: 0.8152 - val_accuracy: 0.6589\n",
      "Epoch 12/12\n",
      "8941/8941 [==============================] - 236s 26ms/step - loss: 0.8170 - accuracy: 0.6568 - val_loss: 0.8151 - val_accuracy: 0.6589\n"
     ]
    }
   ],
   "source": [
    "epochs=12\n",
    "history = model.fit(\n",
    "  train_ds,\n",
    "  validation_data=val_ds,\n",
    "  epochs=epochs\n",
    ")"
   ]
  },
  {
   "cell_type": "markdown",
   "metadata": {},
   "source": [
    "## Get Training Results"
   ]
  },
  {
   "cell_type": "code",
   "execution_count": 45,
   "metadata": {},
   "outputs": [
    {
     "data": {
      "image/png": "[encoded data removed]",
      "text/plain": [
       "<Figure size 576x576 with 2 Axes>"
      ]
     },
     "metadata": {
      "needs_background": "light"
     },
     "output_type": "display_data"
    }
   ],
   "source": [
    "acc = history.history['accuracy']\n",
    "val_acc = history.history['val_accuracy']\n",
    "\n",
    "loss = history.history['loss']\n",
    "val_loss = history.history['val_loss']\n",
    "\n",
    "epochs_range = range(epochs)\n",
    "\n",
    "plt.figure(figsize=(8, 8))\n",
    "plt.subplot(1, 2, 1)\n",
    "plt.plot(epochs_range, acc, label='Training Accuracy')\n",
    "plt.plot(epochs_range, val_acc, label='Validation Accuracy')\n",
    "plt.legend(loc='lower right')\n",
    "plt.title('Training and Validation Accuracy')\n",
    "\n",
    "plt.subplot(1, 2, 2)\n",
    "plt.plot(epochs_range, loss, label='Training Loss')\n",
    "plt.plot(epochs_range, val_loss, label='Validation Loss')\n",
    "plt.legend(loc='upper right')\n",
    "plt.title('Training and Validation Loss')\n",
    "plt.show()"
   ]
  },
  {
   "cell_type": "markdown",
   "metadata": {},
   "source": [
    "## Test Our Model"
   ]
  },
  {
   "cell_type": "code",
   "execution_count": 9,
   "metadata": {},
   "outputs": [
    {
     "ename": "FileNotFoundError",
     "evalue": "[Errno 2] No such file or directory: ''",
     "output_type": "error",
     "traceback": [
      "\u001b[0;31m---------------------------------------------------------------------------\u001b[0m",
      "\u001b[0;31mFileNotFoundError\u001b[0m                         Traceback (most recent call last)",
      "\u001b[1;32m/Users/liaduerr/Desktop/Work/Pamaxie.Research/training.ipynb Cell 21\u001b[0m in \u001b[0;36m<cell line: 3>\u001b[0;34m()\u001b[0m\n\u001b[1;32m      <a href='vscode-notebook-cell:/Users/liaduerr/Desktop/Work/Pamaxie.Research/training.ipynb#ch0000020?line=0'>1</a>\u001b[0m \u001b[39m#Predict on the current dataset\u001b[39;00m\n\u001b[1;32m      <a href='vscode-notebook-cell:/Users/liaduerr/Desktop/Work/Pamaxie.Research/training.ipynb#ch0000020?line=1'>2</a>\u001b[0m image_path \u001b[39m=\u001b[39m \u001b[39m\"\u001b[39m\u001b[39m\"\u001b[39m\n\u001b[0;32m----> <a href='vscode-notebook-cell:/Users/liaduerr/Desktop/Work/Pamaxie.Research/training.ipynb#ch0000020?line=2'>3</a>\u001b[0m img \u001b[39m=\u001b[39m tf\u001b[39m.\u001b[39;49mkeras\u001b[39m.\u001b[39;49mutils\u001b[39m.\u001b[39;49mload_img(\n\u001b[1;32m      <a href='vscode-notebook-cell:/Users/liaduerr/Desktop/Work/Pamaxie.Research/training.ipynb#ch0000020?line=3'>4</a>\u001b[0m     image_path, target_size\u001b[39m=\u001b[39;49m(img_height, img_width)\n\u001b[1;32m      <a href='vscode-notebook-cell:/Users/liaduerr/Desktop/Work/Pamaxie.Research/training.ipynb#ch0000020?line=4'>5</a>\u001b[0m )\n\u001b[1;32m      <a href='vscode-notebook-cell:/Users/liaduerr/Desktop/Work/Pamaxie.Research/training.ipynb#ch0000020?line=5'>6</a>\u001b[0m img_array \u001b[39m=\u001b[39m tf\u001b[39m.\u001b[39mkeras\u001b[39m.\u001b[39mutils\u001b[39m.\u001b[39mimg_to_array(img)\n\u001b[1;32m      <a href='vscode-notebook-cell:/Users/liaduerr/Desktop/Work/Pamaxie.Research/training.ipynb#ch0000020?line=6'>7</a>\u001b[0m img_array \u001b[39m=\u001b[39m tf\u001b[39m.\u001b[39mexpand_dims(img_array, \u001b[39m0\u001b[39m) \u001b[39m# Create a batch\u001b[39;00m\n",
      "File \u001b[0;32m/media/anaconda3/envs/tf/lib/python3.9/site-packages/keras/utils/image_utils.py:393\u001b[0m, in \u001b[0;36mload_img\u001b[0;34m(path, grayscale, color_mode, target_size, interpolation, keep_aspect_ratio)\u001b[0m\n\u001b[1;32m    391\u001b[0m   \u001b[39mif\u001b[39;00m \u001b[39misinstance\u001b[39m(path, pathlib\u001b[39m.\u001b[39mPath):\n\u001b[1;32m    392\u001b[0m     path \u001b[39m=\u001b[39m \u001b[39mstr\u001b[39m(path\u001b[39m.\u001b[39mresolve())\n\u001b[0;32m--> 393\u001b[0m   \u001b[39mwith\u001b[39;00m \u001b[39mopen\u001b[39;49m(path, \u001b[39m'\u001b[39;49m\u001b[39mrb\u001b[39;49m\u001b[39m'\u001b[39;49m) \u001b[39mas\u001b[39;00m f:\n\u001b[1;32m    394\u001b[0m     img \u001b[39m=\u001b[39m pil_image\u001b[39m.\u001b[39mopen(io\u001b[39m.\u001b[39mBytesIO(f\u001b[39m.\u001b[39mread()))\n\u001b[1;32m    395\u001b[0m \u001b[39melse\u001b[39;00m:\n",
      "\u001b[0;31mFileNotFoundError\u001b[0m: [Errno 2] No such file or directory: ''"
     ]
    }
   ],
   "source": [
    "#Predict on the current dataset\n",
    "image_path = \"\"\n",
    "img = tf.keras.utils.load_img(\n",
    "    image_path, target_size=(img_height, img_width)\n",
    ")\n",
    "img_array = tf.keras.utils.img_to_array(img)\n",
    "img_array = tf.expand_dims(img_array, 0) # Create a batch\n",
    "\n",
    "predictions = model.predict(img_array)\n",
    "score = tf.nn.softmax(predictions[0])"
   ]
  },
  {
   "cell_type": "markdown",
   "metadata": {},
   "source": [
    "## Save our Dataset"
   ]
  },
  {
   "cell_type": "code",
   "execution_count": 8,
   "metadata": {},
   "outputs": [
    {
     "name": "stderr",
     "output_type": "stream",
     "text": [
      "WARNING:absl:Found untraced functions such as _jit_compiled_convolution_op, _jit_compiled_convolution_op, _jit_compiled_convolution_op while saving (showing 3 of 3). These functions will not be directly callable after loading.\n"
     ]
    }
   ],
   "source": [
    "import time\n",
    "\n",
    "timestr = time.strftime(\"%Y%m%d-%H%M%S\")\n",
    "model.save(\"nvme_drive/Trained Models/\" + timestr + \"-SafetyNet\")"
   ]
  }
 ],
 "metadata": {
  "kernelspec": {
   "display_name": "tf",
   "language": "python",
   "name": "tf"
  },
  "language_info": {
   "codemirror_mode": {
    "name": "ipython",
    "version": 3
   },
   "file_extension": ".py",
   "mimetype": "text/x-python",
   "name": "python",
   "nbconvert_exporter": "python",
   "pygments_lexer": "ipython3",
   "version": "3.9.13"
  },
  "orig_nbformat": 4,
  "vscode": {
   "interpreter": {
    "hash": "f1188f51769fed59e56fd530c36f4b435fb65a95ce4848f4093b5ef8d38f9aac"
   }
  }
 },
 "nbformat": 4,
 "nbformat_minor": 2
}
