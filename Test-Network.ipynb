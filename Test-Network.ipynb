{
 "cells": [
  {
   "cell_type": "code",
   "execution_count": 23,
   "metadata": {},
   "outputs": [
    {
     "name": "stdout",
     "output_type": "stream",
     "text": [
      "Creating folder: nvme_drive/scraped_files/20220821-003129-reddit\n",
      "Creating folder: nvme_drive/scraped_files/PREDICTED_20220821-003129-reddit\n",
      "Executable script is: \n",
      "python3 scraper-scripts/reddit-scraper/scraper.py -l 100000 -p month -d nvme_drive/scraped_files/20220821-003129-reddit nsfw\n"
     ]
    }
   ],
   "source": [
    "import argparse\n",
    "import sys\n",
    "import praw\n",
    "import glob\n",
    "import os\n",
    "import errno\n",
    "import time\n",
    "import shutil\n",
    "import uuid\n",
    "\n",
    "import tensorflow as tf\n",
    "import numpy as np\n",
    "\n",
    "from PIL import Image\n",
    "from skimage import transform\n",
    "from keras.models import load_model\n",
    "from tensorflow import keras\n",
    "from tensorflow.keras import layers\n",
    "from tensorflow.keras.models import Sequential\n",
    "\n",
    "physical_devices = tf.config.list_physical_devices('GPU') \n",
    "for gpu_instance in physical_devices: \n",
    "    tf.config.experimental.set_memory_growth(gpu_instance, True)\n",
    "\n",
    "timestr = time.strftime(\"%Y%m%d-%H%M%S\")\n",
    "class_names = ['Gore', 'None', 'Pornographic', 'Racy']\n",
    "\n",
    "REDDIT_NAME = \"nsfw\"\n",
    "MAX_NUM_FILES = 100000\n",
    "ACTIVE_SAFETY_NET_MODEL_PATH = \"nvme_drive/Active Models/SafetyNet\"\n",
    "ACTIVE_SYMBOL_NET_MODEL_PATH = \"nvme_drive/Active Models/SymbolNet\"\n",
    "SCRIPT_LOCATION = \"scraper-scripts/reddit-scraper/scraper.py\"\n",
    "OUTPUT_DIRECTORY = \"nvme_drive/scraped_files/\" + timestr + \"-reddit\"\n",
    "PREDICT_DIRECTORY = \"nvme_drive/scraped_files/PREDICTED_\" + timestr + \"-reddit\"\n",
    "\n",
    "if not os.path.isdir(OUTPUT_DIRECTORY):\n",
    "    print(\"Creating folder: \" + OUTPUT_DIRECTORY)\n",
    "    os.makedirs(OUTPUT_DIRECTORY)\n",
    "\n",
    "if not os.path.isdir(PREDICT_DIRECTORY):\n",
    "    print(\"Creating folder: \" + PREDICT_DIRECTORY)\n",
    "    os.makedirs(PREDICT_DIRECTORY)\n",
    "\n",
    "COMMAND = \"python3 \"  + SCRIPT_LOCATION + \" -l \" + str(MAX_NUM_FILES) + \" -p month -d \" + OUTPUT_DIRECTORY + \" \" + REDDIT_NAME\n",
    "print(\"Executable script is: \\n\" + COMMAND)"
   ]
  },
  {
   "cell_type": "code",
   "execution_count": 24,
   "metadata": {},
   "outputs": [
    {
     "name": "stderr",
     "output_type": "stream",
     "text": [
      "/media/jupyter_notebooks/scraper-scripts/reddit-scraper/scraper.py:36: DeprecationWarning: Positional arguments for 'BaseListingMixin.top' will no longer be supported in PRAW 8.\n",
      "Call this function with 'time_filter' as a keyword argument.\n",
      "  hot_subreddit = reddit.subreddit(args.subreddit).top(args.period,\n",
      "[gallery-dl][debug] Version 1.22.4\n",
      "[gallery-dl][debug] Python 3.9.13 - Linux-5.18.10-76051810-generic-x86_64-with-glibc2.35\n",
      "[gallery-dl][debug] requests 2.28.1 - urllib3 1.26.11\n",
      "[1/997] https://i.redd.it/eiymcs8md1u81.gif?1\n",
      "[gallery-dl][debug] Starting DownloadJob for 'https://i.redd.it/eiymcs8md1u81.gif?1'\n",
      "[reddit][debug] Using RedditImageExtractor for 'https://i.redd.it/eiymcs8md1u81.gif?1'\n",
      "[urllib3.connectionpool][debug] Starting new HTTPS connection (1): i.redd.it:443\n",
      "[urllib3.connectionpool][debug] https://i.redd.it:443 \"GET /eiymcs8md1u81.gif?1 HTTP/1.1\" 200 5056651\n"
     ]
    },
    {
     "name": "stdout",
     "output_type": "stream",
     "text": [
      "nvme_drive/scraped_files/20220821-003129-reddit/reddit/eiymcs8md1u81.gif\n"
     ]
    },
    {
     "name": "stderr",
     "output_type": "stream",
     "text": [
      "[2/997] https://redgifs.com/watch/scalycooperativepony\n",
      "[gallery-dl][debug] Starting DownloadJob for 'https://redgifs.com/watch/scalycooperativepony'\n",
      "[redgifs][debug] Using RedgifsImageExtractor for 'https://redgifs.com/watch/scalycooperativepony'\n",
      "[urllib3.connectionpool][debug] Starting new HTTPS connection (1): api.redgifs.com:443\n",
      "[urllib3.connectionpool][debug] https://api.redgifs.com:443 \"GET /v2/gifs/scalycooperativepony HTTP/1.1\" 200 None\n",
      "[urllib3.connectionpool][debug] Starting new HTTPS connection (1): thumbs2.redgifs.com:443\n",
      "[urllib3.connectionpool][debug] https://thumbs2.redgifs.com:443 \"GET /ScalyCooperativePony.mp4 HTTP/1.1\" 200 4041249\n"
     ]
    },
    {
     "name": "stdout",
     "output_type": "stream",
     "text": [
      "nvme_drive/scraped_files/20220821-003129-reddit/redgifs/redgifs_scalycooperativepony.mp4\n"
     ]
    },
    {
     "name": "stderr",
     "output_type": "stream",
     "text": [
      "[3/997] https://redgifs.com/watch/lawngreengreenserpent\n",
      "[gallery-dl][debug] Starting DownloadJob for 'https://redgifs.com/watch/lawngreengreenserpent'\n",
      "[redgifs][debug] Using RedgifsImageExtractor for 'https://redgifs.com/watch/lawngreengreenserpent'\n",
      "[urllib3.connectionpool][debug] https://api.redgifs.com:443 \"GET /v2/gifs/lawngreengreenserpent HTTP/1.1\" 200 None\n",
      "[urllib3.connectionpool][debug] https://thumbs2.redgifs.com:443 \"GET /LawngreenGreenSerpent.mp4 HTTP/1.1\" 200 14550654\n"
     ]
    },
    {
     "name": "stdout",
     "output_type": "stream",
     "text": [
      "nvme_drive/scraped_files/20220821-003129-reddit/redgifs/redgifs_lawngreengreenserpent.mp4\n"
     ]
    },
    {
     "name": "stderr",
     "output_type": "stream",
     "text": [
      "[4/997] https://i.redd.it/qxlmcobqiwa91.gif?1\n",
      "[gallery-dl][debug] Starting DownloadJob for 'https://i.redd.it/qxlmcobqiwa91.gif?1'\n",
      "[reddit][debug] Using RedditImageExtractor for 'https://i.redd.it/qxlmcobqiwa91.gif?1'\n",
      "[urllib3.connectionpool][debug] https://i.redd.it:443 \"GET /qxlmcobqiwa91.gif?1 HTTP/1.1\" 200 3083725\n"
     ]
    },
    {
     "name": "stdout",
     "output_type": "stream",
     "text": [
      "nvme_drive/scraped_files/20220821-003129-reddit/reddit/qxlmcobqiwa91.gif\n"
     ]
    },
    {
     "name": "stderr",
     "output_type": "stream",
     "text": [
      "[5/997] https://i.redd.it/s24hfnqweug91.gif\n",
      "[gallery-dl][debug] Starting DownloadJob for 'https://i.redd.it/s24hfnqweug91.gif'\n",
      "[reddit][debug] Using RedditImageExtractor for 'https://i.redd.it/s24hfnqweug91.gif'\n",
      "[urllib3.connectionpool][debug] https://i.redd.it:443 \"GET /s24hfnqweug91.gif HTTP/1.1\" 200 5075752\n"
     ]
    },
    {
     "name": "stdout",
     "output_type": "stream",
     "text": [
      "nvme_drive/scraped_files/20220821-003129-reddit/reddit/s24hfnqweug91.gif\n"
     ]
    },
    {
     "name": "stderr",
     "output_type": "stream",
     "text": [
      "[6/997] https://i.imgur.com/N1fwRhS.gifv\n",
      "[gallery-dl][debug] Starting DownloadJob for 'https://i.imgur.com/N1fwRhS.gifv'\n",
      "[imgur][debug] Using ImgurImageExtractor for 'https://i.imgur.com/N1fwRhS.gifv'\n",
      "[urllib3.connectionpool][debug] Starting new HTTPS connection (1): api.imgur.com:443\n",
      "[urllib3.connectionpool][debug] https://api.imgur.com:443 \"GET /post/v1/media/N1fwRhS?include=media%2Ctags%2Caccount HTTP/1.1\" 200 467\n",
      "[urllib3.connectionpool][debug] Starting new HTTPS connection (1): i.imgur.com:443\n",
      "[urllib3.connectionpool][debug] https://i.imgur.com:443 \"GET /N1fwRhS.mp4 HTTP/1.1\" 200 2776843\n"
     ]
    },
    {
     "name": "stdout",
     "output_type": "stream",
     "text": [
      "nvme_drive/scraped_files/20220821-003129-reddit/imgur/imgur_N1fwRhS_Lift to reveal.mp4\n",
      "nvme_drive/scraped_files/20220821-003129-reddit/reddit/4dbtl7f382h91.gif\n"
     ]
    },
    {
     "name": "stderr",
     "output_type": "stream",
     "text": [
      "[7/997] https://i.redd.it/4dbtl7f382h91.gif\n",
      "[gallery-dl][debug] Starting DownloadJob for 'https://i.redd.it/4dbtl7f382h91.gif'\n",
      "[reddit][debug] Using RedditImageExtractor for 'https://i.redd.it/4dbtl7f382h91.gif'\n",
      "[urllib3.connectionpool][debug] https://i.redd.it:443 \"GET /4dbtl7f382h91.gif HTTP/1.1\" 200 616992\n",
      "[8/997] https://i.imgur.com/CDTjrY4.gifv\n",
      "[gallery-dl][debug] Starting DownloadJob for 'https://i.imgur.com/CDTjrY4.gifv'\n",
      "[imgur][debug] Using ImgurImageExtractor for 'https://i.imgur.com/CDTjrY4.gifv'\n",
      "[urllib3.connectionpool][debug] https://api.imgur.com:443 \"GET /post/v1/media/CDTjrY4?include=media%2Ctags%2Caccount HTTP/1.1\" 200 460\n",
      "[urllib3.connectionpool][debug] https://i.imgur.com:443 \"GET /CDTjrY4.mp4 HTTP/1.1\" 200 1648128\n"
     ]
    },
    {
     "name": "stdout",
     "output_type": "stream",
     "text": [
      "nvme_drive/scraped_files/20220821-003129-reddit/imgur/imgur_CDTjrY4_So hot.mp4\n"
     ]
    },
    {
     "name": "stderr",
     "output_type": "stream",
     "text": [
      "[9/997] https://i.redd.it/bxatj6itcfv81.gif?1\n",
      "[gallery-dl][debug] Starting DownloadJob for 'https://i.redd.it/bxatj6itcfv81.gif?1'\n",
      "[reddit][debug] Using RedditImageExtractor for 'https://i.redd.it/bxatj6itcfv81.gif?1'\n",
      "[urllib3.connectionpool][debug] https://i.redd.it:443 \"GET /bxatj6itcfv81.gif?1 HTTP/1.1\" 200 5950208\n"
     ]
    },
    {
     "name": "stdout",
     "output_type": "stream",
     "text": [
      "nvme_drive/scraped_files/20220821-003129-reddit/reddit/bxatj6itcfv81.gif\n"
     ]
    },
    {
     "name": "stderr",
     "output_type": "stream",
     "text": [
      "[10/997] https://redgifs.com/watch/illroughsunfish\n",
      "[gallery-dl][debug] Starting DownloadJob for 'https://redgifs.com/watch/illroughsunfish'\n",
      "[redgifs][debug] Using RedgifsImageExtractor for 'https://redgifs.com/watch/illroughsunfish'\n",
      "[urllib3.connectionpool][debug] https://api.redgifs.com:443 \"GET /v2/gifs/illroughsunfish HTTP/1.1\" 200 None\n",
      "[urllib3.connectionpool][debug] https://thumbs2.redgifs.com:443 \"GET /IllRoughSunfish.mp4 HTTP/1.1\" 200 19392659\n"
     ]
    },
    {
     "name": "stdout",
     "output_type": "stream",
     "text": [
      "nvme_drive/scraped_files/20220821-003129-reddit/redgifs/redgifs_illroughsunfish.mp4\n"
     ]
    },
    {
     "name": "stderr",
     "output_type": "stream",
     "text": [
      "[11/997] https://i.redd.it/70wn7zfg8uf91.gif\n",
      "[gallery-dl][debug] Starting DownloadJob for 'https://i.redd.it/70wn7zfg8uf91.gif'\n",
      "[reddit][debug] Using RedditImageExtractor for 'https://i.redd.it/70wn7zfg8uf91.gif'\n",
      "[urllib3.connectionpool][debug] https://i.redd.it:443 \"GET /70wn7zfg8uf91.gif HTTP/1.1\" 200 5791849\n"
     ]
    },
    {
     "name": "stdout",
     "output_type": "stream",
     "text": [
      "nvme_drive/scraped_files/20220821-003129-reddit/reddit/70wn7zfg8uf91.gif\n"
     ]
    },
    {
     "name": "stderr",
     "output_type": "stream",
     "text": [
      "[12/997] https://i.redd.it/zm4kak495pn81.gif?1\n",
      "[gallery-dl][debug] Starting DownloadJob for 'https://i.redd.it/zm4kak495pn81.gif?1'\n",
      "[reddit][debug] Using RedditImageExtractor for 'https://i.redd.it/zm4kak495pn81.gif?1'\n",
      "[urllib3.connectionpool][debug] https://i.redd.it:443 \"GET /zm4kak495pn81.gif?1 HTTP/1.1\" 200 9855614\n"
     ]
    },
    {
     "name": "stdout",
     "output_type": "stream",
     "text": [
      "nvme_drive/scraped_files/20220821-003129-reddit/reddit/zm4kak495pn81.gif\n"
     ]
    },
    {
     "name": "stderr",
     "output_type": "stream",
     "text": [
      "[13/997] https://i.redd.it/lpefkv2tubg91.gif\n",
      "[gallery-dl][debug] Starting DownloadJob for 'https://i.redd.it/lpefkv2tubg91.gif'\n",
      "[reddit][debug] Using RedditImageExtractor for 'https://i.redd.it/lpefkv2tubg91.gif'\n",
      "[urllib3.connectionpool][debug] https://i.redd.it:443 \"GET /lpefkv2tubg91.gif HTTP/1.1\" 200 2091643\n"
     ]
    },
    {
     "name": "stdout",
     "output_type": "stream",
     "text": [
      "nvme_drive/scraped_files/20220821-003129-reddit/reddit/lpefkv2tubg91.gif\n"
     ]
    },
    {
     "name": "stderr",
     "output_type": "stream",
     "text": [
      "[14/997] https://i.imgur.com/594kSX7.gif\n",
      "[gallery-dl][debug] Starting DownloadJob for 'https://i.imgur.com/594kSX7.gif'\n",
      "[imgur][debug] Using ImgurImageExtractor for 'https://i.imgur.com/594kSX7.gif'\n",
      "[urllib3.connectionpool][debug] https://api.imgur.com:443 \"GET /post/v1/media/594kSX7?include=media%2Ctags%2Caccount HTTP/1.1\" 200 480\n",
      "[urllib3.connectionpool][debug] https://i.imgur.com:443 \"GET /594kSX7.mp4 HTTP/1.1\" 200 31353005\n"
     ]
    },
    {
     "name": "stdout",
     "output_type": "stream",
     "text": [
      "nvme_drive/scraped_files/20220821-003129-reddit/imgur/imgur_594kSX7_At the game.mp4\n"
     ]
    },
    {
     "name": "stderr",
     "output_type": "stream",
     "text": [
      "[15/997] https://i.imgur.com/FceJ7Hk.gifv\n",
      "[gallery-dl][debug] Starting DownloadJob for 'https://i.imgur.com/FceJ7Hk.gifv'\n",
      "[imgur][debug] Using ImgurImageExtractor for 'https://i.imgur.com/FceJ7Hk.gifv'\n",
      "[urllib3.connectionpool][debug] https://api.imgur.com:443 \"GET /post/v1/media/FceJ7Hk?include=media%2Ctags%2Caccount HTTP/1.1\" 200 462\n",
      "[urllib3.connectionpool][debug] https://i.imgur.com:443 \"GET /FceJ7Hk.mp4 HTTP/1.1\" 200 703981\n"
     ]
    },
    {
     "name": "stdout",
     "output_type": "stream",
     "text": [
      "nvme_drive/scraped_files/20220821-003129-reddit/imgur/imgur_FceJ7Hk_Do a little dance.mp4\n"
     ]
    },
    {
     "name": "stderr",
     "output_type": "stream",
     "text": [
      "[16/997] https://redgifs.com/watch/peruwickediberianchiffchaff\n",
      "[gallery-dl][debug] Starting DownloadJob for 'https://redgifs.com/watch/peruwickediberianchiffchaff'\n",
      "[redgifs][debug] Using RedgifsImageExtractor for 'https://redgifs.com/watch/peruwickediberianchiffchaff'\n",
      "[urllib3.connectionpool][debug] https://api.redgifs.com:443 \"GET /v2/gifs/peruwickediberianchiffchaff HTTP/1.1\" 200 None\n",
      "[urllib3.connectionpool][debug] https://thumbs2.redgifs.com:443 \"GET /PeruWickedIberianchiffchaff.mp4 HTTP/1.1\" 200 1491361\n"
     ]
    },
    {
     "name": "stdout",
     "output_type": "stream",
     "text": [
      "nvme_drive/scraped_files/20220821-003129-reddit/redgifs/redgifs_peruwickediberianchiffchaff.mp4\n"
     ]
    },
    {
     "name": "stderr",
     "output_type": "stream",
     "text": [
      "[17/997] https://i.redd.it/o2p4l6q0g2e91.gif\n",
      "[gallery-dl][debug] Starting DownloadJob for 'https://i.redd.it/o2p4l6q0g2e91.gif'\n",
      "[reddit][debug] Using RedditImageExtractor for 'https://i.redd.it/o2p4l6q0g2e91.gif'\n",
      "[urllib3.connectionpool][debug] https://i.redd.it:443 \"GET /o2p4l6q0g2e91.gif HTTP/1.1\" 200 2592132\n"
     ]
    },
    {
     "name": "stdout",
     "output_type": "stream",
     "text": [
      "nvme_drive/scraped_files/20220821-003129-reddit/reddit/o2p4l6q0g2e91.gif\n"
     ]
    },
    {
     "name": "stderr",
     "output_type": "stream",
     "text": [
      "[18/997] https://www.redgifs.com/watch/beneficialprestigioussilverfish\n",
      "[gallery-dl][debug] Starting DownloadJob for 'https://www.redgifs.com/watch/beneficialprestigioussilverfish'\n",
      "[redgifs][debug] Using RedgifsImageExtractor for 'https://www.redgifs.com/watch/beneficialprestigioussilverfish'\n",
      "[urllib3.connectionpool][debug] https://api.redgifs.com:443 \"GET /v2/gifs/beneficialprestigioussilverfish HTTP/1.1\" 200 None\n",
      "[urllib3.connectionpool][debug] https://thumbs2.redgifs.com:443 \"GET /BeneficialPrestigiousSilverfish.mp4 HTTP/1.1\" 200 30501968\n"
     ]
    },
    {
     "name": "stdout",
     "output_type": "stream",
     "text": [
      "nvme_drive/scraped_files/20220821-003129-reddit/redgifs/redgifs_beneficialprestigioussilverfish.mp4\n"
     ]
    },
    {
     "name": "stderr",
     "output_type": "stream",
     "text": [
      "[19/997] https://www.redgifs.com/watch/greatovercookedtanager\n",
      "[gallery-dl][debug] Starting DownloadJob for 'https://www.redgifs.com/watch/greatovercookedtanager'\n",
      "[redgifs][debug] Using RedgifsImageExtractor for 'https://www.redgifs.com/watch/greatovercookedtanager'\n",
      "[urllib3.connectionpool][debug] https://api.redgifs.com:443 \"GET /v2/gifs/greatovercookedtanager HTTP/1.1\" 200 None\n",
      "[urllib3.connectionpool][debug] https://thumbs2.redgifs.com:443 \"GET /GreatOvercookedTanager.mp4 HTTP/1.1\" 200 6348087\n"
     ]
    },
    {
     "name": "stdout",
     "output_type": "stream",
     "text": [
      "nvme_drive/scraped_files/20220821-003129-reddit/redgifs/redgifs_greatovercookedtanager.mp4\n"
     ]
    },
    {
     "name": "stderr",
     "output_type": "stream",
     "text": [
      "[20/997] https://i.imgur.com/6OdAMlg.gifv\n",
      "[gallery-dl][debug] Starting DownloadJob for 'https://i.imgur.com/6OdAMlg.gifv'\n",
      "[imgur][debug] Using ImgurImageExtractor for 'https://i.imgur.com/6OdAMlg.gifv'\n",
      "[urllib3.connectionpool][debug] https://api.imgur.com:443 \"GET /post/v1/media/6OdAMlg?include=media%2Ctags%2Caccount HTTP/1.1\" 200 464\n",
      "[urllib3.connectionpool][debug] https://i.imgur.com:443 \"GET /6OdAMlg.mp4 HTTP/1.1\" 200 3857221\n"
     ]
    },
    {
     "name": "stdout",
     "output_type": "stream",
     "text": [
      "nvme_drive/scraped_files/20220821-003129-reddit/imgur/imgur_6OdAMlg_Carrie Stevens.mp4\n"
     ]
    },
    {
     "name": "stderr",
     "output_type": "stream",
     "text": [
      "[21/997] https://i.imgur.com/oVrgV0p.jpg\n",
      "[gallery-dl][debug] Starting DownloadJob for 'https://i.imgur.com/oVrgV0p.jpg'\n",
      "[imgur][debug] Using ImgurImageExtractor for 'https://i.imgur.com/oVrgV0p.jpg'\n",
      "[urllib3.connectionpool][debug] https://api.imgur.com:443 \"GET /post/v1/media/oVrgV0p?include=media%2Ctags%2Caccount HTTP/1.1\" 200 450\n",
      "[urllib3.connectionpool][debug] https://i.imgur.com:443 \"GET /oVrgV0p.jpg HTTP/1.1\" 200 738094\n"
     ]
    },
    {
     "name": "stdout",
     "output_type": "stream",
     "text": [
      "nvme_drive/scraped_files/20220821-003129-reddit/imgur/imgur_oVrgV0p_What a babe.jpg\n"
     ]
    },
    {
     "name": "stderr",
     "output_type": "stream",
     "text": [
      "[22/997] https://i.redd.it/6i62s0sqxme91.gif\n",
      "[gallery-dl][debug] Starting DownloadJob for 'https://i.redd.it/6i62s0sqxme91.gif'\n",
      "[reddit][debug] Using RedditImageExtractor for 'https://i.redd.it/6i62s0sqxme91.gif'\n",
      "[urllib3.connectionpool][debug] https://i.redd.it:443 \"GET /6i62s0sqxme91.gif HTTP/1.1\" 200 2398351\n"
     ]
    },
    {
     "name": "stdout",
     "output_type": "stream",
     "text": [
      "nvme_drive/scraped_files/20220821-003129-reddit/reddit/6i62s0sqxme91.gif\n"
     ]
    },
    {
     "name": "stderr",
     "output_type": "stream",
     "text": [
      "[23/997] https://redgifs.com/watch/adorablestridentfinch\n",
      "[gallery-dl][debug] Starting DownloadJob for 'https://redgifs.com/watch/adorablestridentfinch'\n",
      "[redgifs][debug] Using RedgifsImageExtractor for 'https://redgifs.com/watch/adorablestridentfinch'\n",
      "[urllib3.connectionpool][debug] https://api.redgifs.com:443 \"GET /v2/gifs/adorablestridentfinch HTTP/1.1\" 200 None\n",
      "[urllib3.connectionpool][debug] https://thumbs2.redgifs.com:443 \"GET /AdorableStridentFinch.mp4 HTTP/1.1\" 200 2703097\n"
     ]
    },
    {
     "name": "stdout",
     "output_type": "stream",
     "text": [
      "nvme_drive/scraped_files/20220821-003129-reddit/redgifs/redgifs_adorablestridentfinch.mp4\n"
     ]
    },
    {
     "name": "stderr",
     "output_type": "stream",
     "text": [
      "[24/997] https://redgifs.com/watch/drearyambitiousringtailedlemur\n",
      "[gallery-dl][debug] Starting DownloadJob for 'https://redgifs.com/watch/drearyambitiousringtailedlemur'\n",
      "[redgifs][debug] Using RedgifsImageExtractor for 'https://redgifs.com/watch/drearyambitiousringtailedlemur'\n",
      "[urllib3.connectionpool][debug] https://api.redgifs.com:443 \"GET /v2/gifs/drearyambitiousringtailedlemur HTTP/1.1\" 200 None\n",
      "[urllib3.connectionpool][debug] https://thumbs2.redgifs.com:443 \"GET /DrearyAmbitiousRingtailedlemur.mp4 HTTP/1.1\" 200 42901337\n"
     ]
    },
    {
     "name": "stdout",
     "output_type": "stream",
     "text": [
      "nvme_drive/scraped_files/20220821-003129-reddit/redgifs/redgifs_drearyambitiousringtailedlemur.mp4\n"
     ]
    },
    {
     "name": "stderr",
     "output_type": "stream",
     "text": [
      "[25/997] https://i.redd.it/bvgvcveunud91.gif\n",
      "[gallery-dl][debug] Starting DownloadJob for 'https://i.redd.it/bvgvcveunud91.gif'\n",
      "[reddit][debug] Using RedditImageExtractor for 'https://i.redd.it/bvgvcveunud91.gif'\n",
      "[urllib3.connectionpool][debug] https://i.redd.it:443 \"GET /bvgvcveunud91.gif HTTP/1.1\" 200 20344490\n"
     ]
    },
    {
     "name": "stdout",
     "output_type": "stream",
     "text": [
      "nvme_drive/scraped_files/20220821-003129-reddit/reddit/bvgvcveunud91.gif\n"
     ]
    },
    {
     "name": "stderr",
     "output_type": "stream",
     "text": [
      "[26/997] https://redgifs.com/watch/mealyunfinishedswift\n",
      "[gallery-dl][debug] Starting DownloadJob for 'https://redgifs.com/watch/mealyunfinishedswift'\n",
      "[redgifs][debug] Using RedgifsImageExtractor for 'https://redgifs.com/watch/mealyunfinishedswift'\n",
      "[urllib3.connectionpool][debug] https://api.redgifs.com:443 \"GET /v2/gifs/mealyunfinishedswift HTTP/1.1\" 200 None\n",
      "[urllib3.connectionpool][debug] https://thumbs2.redgifs.com:443 \"GET /MealyUnfinishedSwift.mp4 HTTP/1.1\" 200 34800854\n"
     ]
    },
    {
     "name": "stdout",
     "output_type": "stream",
     "text": [
      "nvme_drive/scraped_files/20220821-003129-reddit/redgifs/redgifs_mealyunfinishedswift.mp4\n"
     ]
    },
    {
     "name": "stderr",
     "output_type": "stream",
     "text": [
      "[27/997] https://i.redd.it/7msxeo3zdrk81.gif?1\n",
      "[gallery-dl][debug] Starting DownloadJob for 'https://i.redd.it/7msxeo3zdrk81.gif?1'\n",
      "[reddit][debug] Using RedditImageExtractor for 'https://i.redd.it/7msxeo3zdrk81.gif?1'\n",
      "[urllib3.connectionpool][debug] https://i.redd.it:443 \"GET /7msxeo3zdrk81.gif?1 HTTP/1.1\" 200 8434781\n"
     ]
    },
    {
     "name": "stdout",
     "output_type": "stream",
     "text": [
      "nvme_drive/scraped_files/20220821-003129-reddit/reddit/7msxeo3zdrk81.gif\n",
      "nvme_drive/scraped_files/20220821-003129-reddit/reddit/abc3t0iocah91.jpg\n"
     ]
    },
    {
     "name": "stderr",
     "output_type": "stream",
     "text": [
      "[28/997] https://i.redd.it/abc3t0iocah91.jpg\n",
      "[gallery-dl][debug] Starting DownloadJob for 'https://i.redd.it/abc3t0iocah91.jpg'\n",
      "[reddit][debug] Using RedditImageExtractor for 'https://i.redd.it/abc3t0iocah91.jpg'\n",
      "[urllib3.connectionpool][debug] https://i.redd.it:443 \"GET /abc3t0iocah91.jpg HTTP/1.1\" 200 294592\n",
      "[29/997] https://redgifs.com/watch/vainunrealisticmurrelet\n",
      "[gallery-dl][debug] Starting DownloadJob for 'https://redgifs.com/watch/vainunrealisticmurrelet'\n",
      "[redgifs][debug] Using RedgifsImageExtractor for 'https://redgifs.com/watch/vainunrealisticmurrelet'\n",
      "[urllib3.connectionpool][debug] https://api.redgifs.com:443 \"GET /v2/gifs/vainunrealisticmurrelet HTTP/1.1\" 200 None\n",
      "[urllib3.connectionpool][debug] https://thumbs2.redgifs.com:443 \"GET /VainUnrealisticMurrelet.mp4 HTTP/1.1\" 200 20804203\n"
     ]
    },
    {
     "name": "stdout",
     "output_type": "stream",
     "text": [
      "nvme_drive/scraped_files/20220821-003129-reddit/redgifs/redgifs_vainunrealisticmurrelet.mp4\n"
     ]
    },
    {
     "name": "stderr",
     "output_type": "stream",
     "text": [
      "[30/997] https://www.redgifs.com/watch/insignificantanothererin\n",
      "[gallery-dl][debug] Starting DownloadJob for 'https://www.redgifs.com/watch/insignificantanothererin'\n",
      "[redgifs][debug] Using RedgifsImageExtractor for 'https://www.redgifs.com/watch/insignificantanothererin'\n",
      "[urllib3.connectionpool][debug] https://api.redgifs.com:443 \"GET /v2/gifs/insignificantanothererin HTTP/1.1\" 200 None\n",
      "[urllib3.connectionpool][debug] https://thumbs2.redgifs.com:443 \"GET /InsignificantAnotherErin.mp4 HTTP/1.1\" 200 2150605\n"
     ]
    },
    {
     "name": "stdout",
     "output_type": "stream",
     "text": [
      "nvme_drive/scraped_files/20220821-003129-reddit/redgifs/redgifs_insignificantanothererin.mp4\n"
     ]
    },
    {
     "name": "stderr",
     "output_type": "stream",
     "text": [
      "[31/997] https://redgifs.com/watch/aquamarinemenacingankole\n",
      "[gallery-dl][debug] Starting DownloadJob for 'https://redgifs.com/watch/aquamarinemenacingankole'\n",
      "[redgifs][debug] Using RedgifsImageExtractor for 'https://redgifs.com/watch/aquamarinemenacingankole'\n",
      "[urllib3.connectionpool][debug] https://api.redgifs.com:443 \"GET /v2/gifs/aquamarinemenacingankole HTTP/1.1\" 200 None\n",
      "[urllib3.connectionpool][debug] https://thumbs2.redgifs.com:443 \"GET /AquamarineMenacingAnkole.mp4 HTTP/1.1\" 200 12575040\n"
     ]
    },
    {
     "name": "stdout",
     "output_type": "stream",
     "text": [
      "nvme_drive/scraped_files/20220821-003129-reddit/redgifs/redgifs_aquamarinemenacingankole.mp4\n"
     ]
    },
    {
     "name": "stderr",
     "output_type": "stream",
     "text": [
      "[32/997] https://i.redd.it/zb4om0hyk4f91.gif\n",
      "[gallery-dl][debug] Starting DownloadJob for 'https://i.redd.it/zb4om0hyk4f91.gif'\n",
      "[reddit][debug] Using RedditImageExtractor for 'https://i.redd.it/zb4om0hyk4f91.gif'\n",
      "[urllib3.connectionpool][debug] https://i.redd.it:443 \"GET /zb4om0hyk4f91.gif HTTP/1.1\" 200 1757119\n"
     ]
    },
    {
     "name": "stdout",
     "output_type": "stream",
     "text": [
      "nvme_drive/scraped_files/20220821-003129-reddit/reddit/zb4om0hyk4f91.gif\n"
     ]
    },
    {
     "name": "stderr",
     "output_type": "stream",
     "text": [
      "[33/997] https://i.redd.it/jnz5idv08ge91.gif\n",
      "[gallery-dl][debug] Starting DownloadJob for 'https://i.redd.it/jnz5idv08ge91.gif'\n",
      "[reddit][debug] Using RedditImageExtractor for 'https://i.redd.it/jnz5idv08ge91.gif'\n",
      "[urllib3.connectionpool][debug] https://i.redd.it:443 \"GET /jnz5idv08ge91.gif HTTP/1.1\" 200 4961468\n"
     ]
    },
    {
     "name": "stdout",
     "output_type": "stream",
     "text": [
      "nvme_drive/scraped_files/20220821-003129-reddit/reddit/jnz5idv08ge91.gif\n"
     ]
    },
    {
     "name": "stderr",
     "output_type": "stream",
     "text": [
      "[34/997] https://i.redd.it/4929vkzx0qe91.gif\n",
      "[gallery-dl][debug] Starting DownloadJob for 'https://i.redd.it/4929vkzx0qe91.gif'\n",
      "[reddit][debug] Using RedditImageExtractor for 'https://i.redd.it/4929vkzx0qe91.gif'\n",
      "[urllib3.connectionpool][debug] https://i.redd.it:443 \"GET /4929vkzx0qe91.gif HTTP/1.1\" 200 2048931\n"
     ]
    },
    {
     "name": "stdout",
     "output_type": "stream",
     "text": [
      "nvme_drive/scraped_files/20220821-003129-reddit/reddit/4929vkzx0qe91.gif\n"
     ]
    },
    {
     "name": "stderr",
     "output_type": "stream",
     "text": [
      "[35/997] https://i.redd.it/164zo5onaji91.gif\n",
      "[gallery-dl][debug] Starting DownloadJob for 'https://i.redd.it/164zo5onaji91.gif'\n",
      "[reddit][debug] Using RedditImageExtractor for 'https://i.redd.it/164zo5onaji91.gif'\n",
      "[urllib3.connectionpool][debug] https://i.redd.it:443 \"GET /164zo5onaji91.gif HTTP/1.1\" 200 2027561\n"
     ]
    },
    {
     "name": "stdout",
     "output_type": "stream",
     "text": [
      "nvme_drive/scraped_files/20220821-003129-reddit/reddit/164zo5onaji91.gif\n",
      "nvme_drive/scraped_files/20220821-003129-reddit/reddit/lzs8cy2w73f91.jpg\n"
     ]
    },
    {
     "name": "stderr",
     "output_type": "stream",
     "text": [
      "[36/997] https://i.redd.it/lzs8cy2w73f91.jpg\n",
      "[gallery-dl][debug] Starting DownloadJob for 'https://i.redd.it/lzs8cy2w73f91.jpg'\n",
      "[reddit][debug] Using RedditImageExtractor for 'https://i.redd.it/lzs8cy2w73f91.jpg'\n",
      "[urllib3.connectionpool][debug] https://i.redd.it:443 \"GET /lzs8cy2w73f91.jpg HTTP/1.1\" 200 137831\n",
      "[37/997] https://redgifs.com/watch/wanfrizzyicelandgull\n",
      "[gallery-dl][debug] Starting DownloadJob for 'https://redgifs.com/watch/wanfrizzyicelandgull'\n",
      "[redgifs][debug] Using RedgifsImageExtractor for 'https://redgifs.com/watch/wanfrizzyicelandgull'\n",
      "[urllib3.connectionpool][debug] https://api.redgifs.com:443 \"GET /v2/gifs/wanfrizzyicelandgull HTTP/1.1\" 200 None\n",
      "[urllib3.connectionpool][debug] https://thumbs2.redgifs.com:443 \"GET /WanFrizzyIcelandgull.mp4 HTTP/1.1\" 200 18275071\n"
     ]
    },
    {
     "name": "stdout",
     "output_type": "stream",
     "text": [
      "nvme_drive/scraped_files/20220821-003129-reddit/redgifs/redgifs_wanfrizzyicelandgull.mp4\n"
     ]
    },
    {
     "name": "stderr",
     "output_type": "stream",
     "text": [
      "[38/997] https://i.redd.it/wcnrlv5lhjd91.gif\n",
      "[gallery-dl][debug] Starting DownloadJob for 'https://i.redd.it/wcnrlv5lhjd91.gif'\n",
      "[reddit][debug] Using RedditImageExtractor for 'https://i.redd.it/wcnrlv5lhjd91.gif'\n",
      "[urllib3.connectionpool][debug] https://i.redd.it:443 \"GET /wcnrlv5lhjd91.gif HTTP/1.1\" 200 2558828\n"
     ]
    },
    {
     "name": "stdout",
     "output_type": "stream",
     "text": [
      "nvme_drive/scraped_files/20220821-003129-reddit/reddit/wcnrlv5lhjd91.gif\n"
     ]
    },
    {
     "name": "stderr",
     "output_type": "stream",
     "text": [
      "[39/997] https://redgifs.com/watch/nuttysveltevulpesvulpes\n",
      "[gallery-dl][debug] Starting DownloadJob for 'https://redgifs.com/watch/nuttysveltevulpesvulpes'\n",
      "[redgifs][debug] Using RedgifsImageExtractor for 'https://redgifs.com/watch/nuttysveltevulpesvulpes'\n",
      "[urllib3.connectionpool][debug] https://api.redgifs.com:443 \"GET /v2/gifs/nuttysveltevulpesvulpes HTTP/1.1\" 200 None\n",
      "[urllib3.connectionpool][debug] https://thumbs2.redgifs.com:443 \"GET /NuttySvelteVulpesvulpes.mp4 HTTP/1.1\" 200 8651601\n"
     ]
    },
    {
     "name": "stdout",
     "output_type": "stream",
     "text": [
      "nvme_drive/scraped_files/20220821-003129-reddit/redgifs/redgifs_nuttysveltevulpesvulpes.mp4\n"
     ]
    },
    {
     "name": "stderr",
     "output_type": "stream",
     "text": [
      "[40/997] https://www.redgifs.com/watch/mediumforestgreenanimatedqueenconch\n",
      "[gallery-dl][debug] Starting DownloadJob for 'https://www.redgifs.com/watch/mediumforestgreenanimatedqueenconch'\n",
      "[redgifs][debug] Using RedgifsImageExtractor for 'https://www.redgifs.com/watch/mediumforestgreenanimatedqueenconch'\n",
      "[urllib3.connectionpool][debug] https://api.redgifs.com:443 \"GET /v2/gifs/mediumforestgreenanimatedqueenconch HTTP/1.1\" 200 None\n",
      "[urllib3.connectionpool][debug] https://thumbs2.redgifs.com:443 \"GET /MediumforestgreenAnimatedQueenconch.mp4 HTTP/1.1\" 200 16255848\n"
     ]
    },
    {
     "name": "stdout",
     "output_type": "stream",
     "text": [
      "nvme_drive/scraped_files/20220821-003129-reddit/redgifs/redgifs_mediumforestgreenanimatedqueenconch.mp4\n"
     ]
    },
    {
     "name": "stderr",
     "output_type": "stream",
     "text": [
      "[41/997] https://i.imgur.com/1mX8RaJ.jpg\n",
      "[gallery-dl][debug] Starting DownloadJob for 'https://i.imgur.com/1mX8RaJ.jpg'\n",
      "[imgur][debug] Using ImgurImageExtractor for 'https://i.imgur.com/1mX8RaJ.jpg'\n",
      "[urllib3.connectionpool][debug] https://api.imgur.com:443 \"GET /post/v1/media/1mX8RaJ?include=media%2Ctags%2Caccount HTTP/1.1\" 200 454\n",
      "[urllib3.connectionpool][debug] https://i.imgur.com:443 \"GET /1mX8RaJ.jpg HTTP/1.1\" 200 609796\n"
     ]
    },
    {
     "name": "stdout",
     "output_type": "stream",
     "text": [
      "nvme_drive/scraped_files/20220821-003129-reddit/imgur/imgur_1mX8RaJ_Pretty Pair.jpg\n"
     ]
    },
    {
     "name": "stderr",
     "output_type": "stream",
     "text": [
      "[42/997] https://i.redd.it/6iuswxl5slg91.png\n",
      "[gallery-dl][debug] Starting DownloadJob for 'https://i.redd.it/6iuswxl5slg91.png'\n",
      "[reddit][debug] Using RedditImageExtractor for 'https://i.redd.it/6iuswxl5slg91.png'\n",
      "[urllib3.connectionpool][debug] https://i.redd.it:443 \"GET /6iuswxl5slg91.png HTTP/1.1\" 200 2510360\n"
     ]
    },
    {
     "name": "stdout",
     "output_type": "stream",
     "text": [
      "nvme_drive/scraped_files/20220821-003129-reddit/reddit/6iuswxl5slg91.png\n"
     ]
    },
    {
     "name": "stderr",
     "output_type": "stream",
     "text": [
      "[43/997] https://redgifs.com/watch/evilscratchybarnowl\n",
      "[gallery-dl][debug] Starting DownloadJob for 'https://redgifs.com/watch/evilscratchybarnowl'\n",
      "[redgifs][debug] Using RedgifsImageExtractor for 'https://redgifs.com/watch/evilscratchybarnowl'\n",
      "[urllib3.connectionpool][debug] https://api.redgifs.com:443 \"GET /v2/gifs/evilscratchybarnowl HTTP/1.1\" 200 None\n",
      "[urllib3.connectionpool][debug] https://thumbs2.redgifs.com:443 \"GET /EvilScratchyBarnowl.mp4 HTTP/1.1\" 200 30966848\n"
     ]
    },
    {
     "name": "stdout",
     "output_type": "stream",
     "text": [
      "nvme_drive/scraped_files/20220821-003129-reddit/redgifs/redgifs_evilscratchybarnowl.mp4\n",
      "nvme_drive/scraped_files/20220821-003129-reddit/reddit/5x529gbza3g91.jpg\n",
      "nvme_drive/scraped_files/20220821-003129-reddit/reddit/td4owbefk7h91.gif\n"
     ]
    },
    {
     "name": "stderr",
     "output_type": "stream",
     "text": [
      "[44/997] https://i.redd.it/5x529gbza3g91.jpg\n",
      "[gallery-dl][debug] Starting DownloadJob for 'https://i.redd.it/5x529gbza3g91.jpg'\n",
      "[reddit][debug] Using RedditImageExtractor for 'https://i.redd.it/5x529gbza3g91.jpg'\n",
      "[urllib3.connectionpool][debug] https://i.redd.it:443 \"GET /5x529gbza3g91.jpg HTTP/1.1\" 200 267538\n",
      "[45/997] https://i.redd.it/td4owbefk7h91.gif\n",
      "[gallery-dl][debug] Starting DownloadJob for 'https://i.redd.it/td4owbefk7h91.gif'\n",
      "[reddit][debug] Using RedditImageExtractor for 'https://i.redd.it/td4owbefk7h91.gif'\n",
      "[urllib3.connectionpool][debug] https://i.redd.it:443 \"GET /td4owbefk7h91.gif HTTP/1.1\" 200 584852\n",
      "[46/997] https://i.imgur.com/iFeyJpP.gif\n",
      "[gallery-dl][debug] Starting DownloadJob for 'https://i.imgur.com/iFeyJpP.gif'\n",
      "[imgur][debug] Using ImgurImageExtractor for 'https://i.imgur.com/iFeyJpP.gif'\n",
      "[urllib3.connectionpool][debug] https://api.imgur.com:443 \"GET /post/v1/media/iFeyJpP?include=media%2Ctags%2Caccount HTTP/1.1\" 200 470\n",
      "[urllib3.connectionpool][debug] https://i.imgur.com:443 \"GET /iFeyJpP.mp4 HTTP/1.1\" 200 260619\n",
      "[47/997] https://i.imgur.com/gdIkOcO.gifv\n",
      "[gallery-dl][debug] Starting DownloadJob for 'https://i.imgur.com/gdIkOcO.gifv'\n",
      "[imgur][debug] Using ImgurImageExtractor for 'https://i.imgur.com/gdIkOcO.gifv'\n",
      "[urllib3.connectionpool][debug] https://api.imgur.com:443 \"GET /post/v1/media/gdIkOcO?include=media%2Ctags%2Caccount HTTP/1.1\" 200 462\n",
      "[urllib3.connectionpool][debug] https://i.imgur.com:443 \"GET /gdIkOcO.mp4 HTTP/1.1\" 200 915495\n"
     ]
    },
    {
     "name": "stdout",
     "output_type": "stream",
     "text": [
      "nvme_drive/scraped_files/20220821-003129-reddit/imgur/imgur_iFeyJpP_Sandy jiggles.mp4\n",
      "nvme_drive/scraped_files/20220821-003129-reddit/imgur/imgur_gdIkOcO_assuming the position.mp4\n"
     ]
    },
    {
     "name": "stderr",
     "output_type": "stream",
     "text": [
      "[48/997] https://i.imgur.com/0rZhRQ7.gifv\n",
      "[gallery-dl][debug] Starting DownloadJob for 'https://i.imgur.com/0rZhRQ7.gifv'\n",
      "[imgur][debug] Using ImgurImageExtractor for 'https://i.imgur.com/0rZhRQ7.gifv'\n",
      "[urllib3.connectionpool][debug] https://api.imgur.com:443 \"GET /post/v1/media/0rZhRQ7?include=media%2Ctags%2Caccount HTTP/1.1\" 200 462\n",
      "[urllib3.connectionpool][debug] https://i.imgur.com:443 \"GET /0rZhRQ7.mp4 HTTP/1.1\" 200 4123666\n"
     ]
    },
    {
     "name": "stdout",
     "output_type": "stream",
     "text": [
      "nvme_drive/scraped_files/20220821-003129-reddit/imgur/imgur_0rZhRQ7_Petite Beauty.mp4\n"
     ]
    },
    {
     "name": "stderr",
     "output_type": "stream",
     "text": [
      "[49/997] https://i.redd.it/reagajemmnd91.gif\n",
      "[gallery-dl][debug] Starting DownloadJob for 'https://i.redd.it/reagajemmnd91.gif'\n",
      "[reddit][debug] Using RedditImageExtractor for 'https://i.redd.it/reagajemmnd91.gif'\n",
      "[urllib3.connectionpool][debug] https://i.redd.it:443 \"GET /reagajemmnd91.gif HTTP/1.1\" 200 5031893\n"
     ]
    },
    {
     "name": "stdout",
     "output_type": "stream",
     "text": [
      "nvme_drive/scraped_files/20220821-003129-reddit/reddit/reagajemmnd91.gif\n"
     ]
    },
    {
     "name": "stderr",
     "output_type": "stream",
     "text": [
      "[50/997] https://redgifs.com/watch/concreteidealisticcowrie\n",
      "[gallery-dl][debug] Starting DownloadJob for 'https://redgifs.com/watch/concreteidealisticcowrie'\n",
      "[redgifs][debug] Using RedgifsImageExtractor for 'https://redgifs.com/watch/concreteidealisticcowrie'\n",
      "[urllib3.connectionpool][debug] https://api.redgifs.com:443 \"GET /v2/gifs/concreteidealisticcowrie HTTP/1.1\" 200 None\n",
      "[urllib3.connectionpool][debug] https://thumbs2.redgifs.com:443 \"GET /ConcreteIdealisticCowrie.mp4 HTTP/1.1\" 200 10160760\n"
     ]
    },
    {
     "name": "stdout",
     "output_type": "stream",
     "text": [
      "nvme_drive/scraped_files/20220821-003129-reddit/redgifs/redgifs_concreteidealisticcowrie.mp4\n"
     ]
    },
    {
     "name": "stderr",
     "output_type": "stream",
     "text": [
      "[51/997] https://i.redd.it/g2evnoexcbd91.gif\n",
      "[gallery-dl][debug] Starting DownloadJob for 'https://i.redd.it/g2evnoexcbd91.gif'\n",
      "[reddit][debug] Using RedditImageExtractor for 'https://i.redd.it/g2evnoexcbd91.gif'\n",
      "[urllib3.connectionpool][debug] https://i.redd.it:443 \"GET /g2evnoexcbd91.gif HTTP/1.1\" 200 18100744\n"
     ]
    },
    {
     "name": "stdout",
     "output_type": "stream",
     "text": [
      "nvme_drive/scraped_files/20220821-003129-reddit/reddit/g2evnoexcbd91.gif\n",
      "nvme_drive/scraped_files/20220821-003129-reddit/imgur/imgur_vfT6YVb_Gorgeous.jpg\n"
     ]
    },
    {
     "name": "stderr",
     "output_type": "stream",
     "text": [
      "[52/997] https://i.imgur.com/vfT6YVb.jpg\n",
      "[gallery-dl][debug] Starting DownloadJob for 'https://i.imgur.com/vfT6YVb.jpg'\n",
      "[imgur][debug] Using ImgurImageExtractor for 'https://i.imgur.com/vfT6YVb.jpg'\n",
      "[urllib3.connectionpool][debug] https://api.imgur.com:443 \"GET /post/v1/media/vfT6YVb?include=media%2Ctags%2Caccount HTTP/1.1\" 200 448\n",
      "[urllib3.connectionpool][debug] https://i.imgur.com:443 \"GET /vfT6YVb.jpg HTTP/1.1\" 200 261974\n",
      "[53/997] https://i.imgur.com/KJ37kKc.gifv\n",
      "[gallery-dl][debug] Starting DownloadJob for 'https://i.imgur.com/KJ37kKc.gifv'\n",
      "[imgur][debug] Using ImgurImageExtractor for 'https://i.imgur.com/KJ37kKc.gifv'\n",
      "[urllib3.connectionpool][debug] https://api.imgur.com:443 \"GET /post/v1/media/KJ37kKc?include=media%2Ctags%2Caccount HTTP/1.1\" 200 456\n",
      "[urllib3.connectionpool][debug] https://i.imgur.com:443 \"GET /KJ37kKc.mp4 HTTP/1.1\" 200 2734470\n"
     ]
    },
    {
     "name": "stdout",
     "output_type": "stream",
     "text": [
      "nvme_drive/scraped_files/20220821-003129-reddit/imgur/imgur_KJ37kKc_on off.mp4\n"
     ]
    },
    {
     "name": "stderr",
     "output_type": "stream",
     "text": [
      "[54/997] https://redgifs.com/watch/angrybrowntowhee\n",
      "[gallery-dl][debug] Starting DownloadJob for 'https://redgifs.com/watch/angrybrowntowhee'\n",
      "[redgifs][debug] Using RedgifsImageExtractor for 'https://redgifs.com/watch/angrybrowntowhee'\n",
      "[urllib3.connectionpool][debug] https://api.redgifs.com:443 \"GET /v2/gifs/angrybrowntowhee HTTP/1.1\" 200 None\n",
      "[urllib3.connectionpool][debug] https://thumbs2.redgifs.com:443 \"GET /AngryBrownTowhee.mp4 HTTP/1.1\" 200 1183768\n",
      "[55/997] https://i.redd.it/pfxr85lp9ee91.jpg\n",
      "[gallery-dl][debug] Starting DownloadJob for 'https://i.redd.it/pfxr85lp9ee91.jpg'\n",
      "[reddit][debug] Using RedditImageExtractor for 'https://i.redd.it/pfxr85lp9ee91.jpg'\n",
      "[urllib3.connectionpool][debug] https://i.redd.it:443 \"GET /pfxr85lp9ee91.jpg HTTP/1.1\" 200 2202407\n"
     ]
    },
    {
     "name": "stdout",
     "output_type": "stream",
     "text": [
      "nvme_drive/scraped_files/20220821-003129-reddit/redgifs/redgifs_angrybrowntowhee.mp4\n",
      "nvme_drive/scraped_files/20220821-003129-reddit/reddit/pfxr85lp9ee91.jpg\n",
      "nvme_drive/scraped_files/20220821-003129-reddit/imgur/imgur_v2m0KBS_Flexible.jpg\n"
     ]
    },
    {
     "name": "stderr",
     "output_type": "stream",
     "text": [
      "[56/997] https://i.imgur.com/v2m0KBS.jpg\n",
      "[gallery-dl][debug] Starting DownloadJob for 'https://i.imgur.com/v2m0KBS.jpg'\n",
      "[imgur][debug] Using ImgurImageExtractor for 'https://i.imgur.com/v2m0KBS.jpg'\n",
      "[urllib3.connectionpool][debug] https://api.imgur.com:443 \"GET /post/v1/media/v2m0KBS?include=media%2Ctags%2Caccount HTTP/1.1\" 200 447\n",
      "[urllib3.connectionpool][debug] https://i.imgur.com:443 \"GET /v2m0KBS.jpg HTTP/1.1\" 200 243739\n",
      "[57/997] https://i.redd.it/gkf18kcs4fi91.jpg\n",
      "[gallery-dl][debug] Starting DownloadJob for 'https://i.redd.it/gkf18kcs4fi91.jpg'\n",
      "[reddit][debug] Using RedditImageExtractor for 'https://i.redd.it/gkf18kcs4fi91.jpg'\n",
      "[urllib3.connectionpool][debug] https://i.redd.it:443 \"GET /gkf18kcs4fi91.jpg HTTP/1.1\" 200 798691\n"
     ]
    },
    {
     "name": "stdout",
     "output_type": "stream",
     "text": [
      "nvme_drive/scraped_files/20220821-003129-reddit/reddit/gkf18kcs4fi91.jpg\n"
     ]
    },
    {
     "name": "stderr",
     "output_type": "stream",
     "text": [
      "[58/997] https://redgifs.com/watch/shrillscentedgibbon\n",
      "[gallery-dl][debug] Starting DownloadJob for 'https://redgifs.com/watch/shrillscentedgibbon'\n",
      "[redgifs][debug] Using RedgifsImageExtractor for 'https://redgifs.com/watch/shrillscentedgibbon'\n",
      "[urllib3.connectionpool][debug] https://api.redgifs.com:443 \"GET /v2/gifs/shrillscentedgibbon HTTP/1.1\" 200 None\n",
      "[urllib3.connectionpool][debug] https://thumbs2.redgifs.com:443 \"GET /ShrillScentedGibbon.mp4 HTTP/1.1\" 200 12358934\n"
     ]
    },
    {
     "name": "stdout",
     "output_type": "stream",
     "text": [
      "nvme_drive/scraped_files/20220821-003129-reddit/redgifs/redgifs_shrillscentedgibbon.mp4\n",
      "nvme_drive/scraped_files/20220821-003129-reddit/reddit/nncvg3jwjqf91.jpg\n"
     ]
    },
    {
     "name": "stderr",
     "output_type": "stream",
     "text": [
      "[59/997] https://i.redd.it/nncvg3jwjqf91.jpg\n",
      "[gallery-dl][debug] Starting DownloadJob for 'https://i.redd.it/nncvg3jwjqf91.jpg'\n",
      "[reddit][debug] Using RedditImageExtractor for 'https://i.redd.it/nncvg3jwjqf91.jpg'\n",
      "[urllib3.connectionpool][debug] https://i.redd.it:443 \"GET /nncvg3jwjqf91.jpg HTTP/1.1\" 200 471076\n",
      "[60/997] https://i.imgur.com/rnjbJoq.gif\n",
      "[gallery-dl][debug] Starting DownloadJob for 'https://i.imgur.com/rnjbJoq.gif'\n",
      "[imgur][debug] Using ImgurImageExtractor for 'https://i.imgur.com/rnjbJoq.gif'\n",
      "[urllib3.connectionpool][debug] https://api.imgur.com:443 \"GET /post/v1/media/rnjbJoq?include=media%2Ctags%2Caccount HTTP/1.1\" 404 141\n",
      "[imgur][error] HttpError: '404 Not Found' for 'https://api.imgur.com/post/v1/media/rnjbJoq'\n",
      "[61/997] https://i.redd.it/wajukxsf89g91.gif\n",
      "[gallery-dl][debug] Starting DownloadJob for 'https://i.redd.it/wajukxsf89g91.gif'\n",
      "[reddit][debug] Using RedditImageExtractor for 'https://i.redd.it/wajukxsf89g91.gif'\n",
      "[urllib3.connectionpool][debug] https://i.redd.it:443 \"GET /wajukxsf89g91.gif HTTP/1.1\" 200 4428683\n"
     ]
    },
    {
     "name": "stdout",
     "output_type": "stream",
     "text": [
      "nvme_drive/scraped_files/20220821-003129-reddit/reddit/wajukxsf89g91.gif\n"
     ]
    },
    {
     "name": "stderr",
     "output_type": "stream",
     "text": [
      "[62/997] https://redgifs.com/watch/rightcomposedamericanshorthair\n",
      "[gallery-dl][debug] Starting DownloadJob for 'https://redgifs.com/watch/rightcomposedamericanshorthair'\n",
      "[redgifs][debug] Using RedgifsImageExtractor for 'https://redgifs.com/watch/rightcomposedamericanshorthair'\n",
      "[urllib3.connectionpool][debug] https://api.redgifs.com:443 \"GET /v2/gifs/rightcomposedamericanshorthair HTTP/1.1\" 200 None\n",
      "[urllib3.connectionpool][debug] https://thumbs2.redgifs.com:443 \"GET /RightComposedAmericanshorthair.mp4 HTTP/1.1\" 200 21260772\n"
     ]
    },
    {
     "name": "stdout",
     "output_type": "stream",
     "text": [
      "nvme_drive/scraped_files/20220821-003129-reddit/redgifs/redgifs_rightcomposedamericanshorthair.mp4\n"
     ]
    },
    {
     "name": "stderr",
     "output_type": "stream",
     "text": [
      "[63/997] https://redgifs.com/watch/apprehensivewelltodooctopus\n",
      "[gallery-dl][debug] Starting DownloadJob for 'https://redgifs.com/watch/apprehensivewelltodooctopus'\n",
      "[redgifs][debug] Using RedgifsImageExtractor for 'https://redgifs.com/watch/apprehensivewelltodooctopus'\n",
      "[urllib3.connectionpool][debug] https://api.redgifs.com:443 \"GET /v2/gifs/apprehensivewelltodooctopus HTTP/1.1\" 200 None\n",
      "[urllib3.connectionpool][debug] https://thumbs2.redgifs.com:443 \"GET /ApprehensiveWelltodoOctopus.mp4 HTTP/1.1\" 200 22350636\n"
     ]
    },
    {
     "name": "stdout",
     "output_type": "stream",
     "text": [
      "nvme_drive/scraped_files/20220821-003129-reddit/redgifs/redgifs_apprehensivewelltodooctopus.mp4\n"
     ]
    },
    {
     "name": "stderr",
     "output_type": "stream",
     "text": [
      "[64/997] https://redgifs.com/watch/impolitenoteworthyloris\n",
      "[gallery-dl][debug] Starting DownloadJob for 'https://redgifs.com/watch/impolitenoteworthyloris'\n",
      "[redgifs][debug] Using RedgifsImageExtractor for 'https://redgifs.com/watch/impolitenoteworthyloris'\n",
      "[urllib3.connectionpool][debug] https://api.redgifs.com:443 \"GET /v2/gifs/impolitenoteworthyloris HTTP/1.1\" 200 None\n",
      "[urllib3.connectionpool][debug] https://thumbs2.redgifs.com:443 \"GET /ImpoliteNoteworthyLoris.mp4 HTTP/1.1\" 200 1618931\n"
     ]
    },
    {
     "name": "stdout",
     "output_type": "stream",
     "text": [
      "nvme_drive/scraped_files/20220821-003129-reddit/redgifs/redgifs_impolitenoteworthyloris.mp4\n"
     ]
    },
    {
     "name": "stderr",
     "output_type": "stream",
     "text": [
      "[65/997] https://i.imgur.com/RJCCvfF.gifv\n",
      "[gallery-dl][debug] Starting DownloadJob for 'https://i.imgur.com/RJCCvfF.gifv'\n",
      "[imgur][debug] Using ImgurImageExtractor for 'https://i.imgur.com/RJCCvfF.gifv'\n",
      "[urllib3.connectionpool][debug] https://api.imgur.com:443 \"GET /post/v1/media/RJCCvfF?include=media%2Ctags%2Caccount HTTP/1.1\" 200 463\n",
      "[urllib3.connectionpool][debug] https://i.imgur.com:443 \"GET /RJCCvfF.mp4 HTTP/1.1\" 200 3668167\n"
     ]
    },
    {
     "name": "stdout",
     "output_type": "stream",
     "text": [
      "nvme_drive/scraped_files/20220821-003129-reddit/imgur/imgur_RJCCvfF_Kate Winslet.mp4\n",
      "nvme_drive/scraped_files/20220821-003129-reddit/imgur/imgur_ZfRU1Iu_Under the skirt.jpg\n"
     ]
    },
    {
     "name": "stderr",
     "output_type": "stream",
     "text": [
      "[66/997] https://i.imgur.com/ZfRU1Iu.jpg\n",
      "[gallery-dl][debug] Starting DownloadJob for 'https://i.imgur.com/ZfRU1Iu.jpg'\n",
      "[imgur][debug] Using ImgurImageExtractor for 'https://i.imgur.com/ZfRU1Iu.jpg'\n",
      "[urllib3.connectionpool][debug] https://api.imgur.com:443 \"GET /post/v1/media/ZfRU1Iu?include=media%2Ctags%2Caccount HTTP/1.1\" 200 532\n",
      "[urllib3.connectionpool][debug] https://i.imgur.com:443 \"GET /ZfRU1Iu.jpg HTTP/1.1\" 200 298114\n",
      "[67/997] https://i.redd.it/25y8cu0usyc91.gif\n",
      "[gallery-dl][debug] Starting DownloadJob for 'https://i.redd.it/25y8cu0usyc91.gif'\n",
      "[reddit][debug] Using RedditImageExtractor for 'https://i.redd.it/25y8cu0usyc91.gif'\n",
      "[urllib3.connectionpool][debug] https://i.redd.it:443 \"GET /25y8cu0usyc91.gif HTTP/1.1\" 200 1159643\n",
      "[68/997] https://i.redd.it/v316vo76mah91.gif\n",
      "[gallery-dl][debug] Starting DownloadJob for 'https://i.redd.it/v316vo76mah91.gif'\n",
      "[reddit][debug] Using RedditImageExtractor for 'https://i.redd.it/v316vo76mah91.gif'\n",
      "[urllib3.connectionpool][debug] https://i.redd.it:443 \"GET /v316vo76mah91.gif HTTP/1.1\" 200 5255373\n"
     ]
    },
    {
     "name": "stdout",
     "output_type": "stream",
     "text": [
      "nvme_drive/scraped_files/20220821-003129-reddit/reddit/25y8cu0usyc91.gif\n",
      "nvme_drive/scraped_files/20220821-003129-reddit/reddit/v316vo76mah91.gif\n"
     ]
    },
    {
     "name": "stderr",
     "output_type": "stream",
     "text": [
      "[69/997] https://i.redd.it/z1gvu3st8wg91.gif\n",
      "[gallery-dl][debug] Starting DownloadJob for 'https://i.redd.it/z1gvu3st8wg91.gif'\n",
      "[reddit][debug] Using RedditImageExtractor for 'https://i.redd.it/z1gvu3st8wg91.gif'\n",
      "[urllib3.connectionpool][debug] https://i.redd.it:443 \"GET /z1gvu3st8wg91.gif HTTP/1.1\" 200 14908480\n"
     ]
    },
    {
     "name": "stdout",
     "output_type": "stream",
     "text": [
      "nvme_drive/scraped_files/20220821-003129-reddit/reddit/z1gvu3st8wg91.gif\n"
     ]
    },
    {
     "name": "stderr",
     "output_type": "stream",
     "text": [
      "[70/997] https://i.redd.it/ob10hoiulii91.gif\n",
      "[gallery-dl][debug] Starting DownloadJob for 'https://i.redd.it/ob10hoiulii91.gif'\n",
      "[reddit][debug] Using RedditImageExtractor for 'https://i.redd.it/ob10hoiulii91.gif'\n",
      "[urllib3.connectionpool][debug] https://i.redd.it:443 \"GET /ob10hoiulii91.gif HTTP/1.1\" 200 4580105\n"
     ]
    },
    {
     "name": "stdout",
     "output_type": "stream",
     "text": [
      "nvme_drive/scraped_files/20220821-003129-reddit/reddit/ob10hoiulii91.gif\n",
      "nvme_drive/scraped_files/20220821-003129-reddit/reddit/xixvvlwnq4h91.jpg\n"
     ]
    },
    {
     "name": "stderr",
     "output_type": "stream",
     "text": [
      "[71/997] https://i.redd.it/xixvvlwnq4h91.jpg\n",
      "[gallery-dl][debug] Starting DownloadJob for 'https://i.redd.it/xixvvlwnq4h91.jpg'\n",
      "[reddit][debug] Using RedditImageExtractor for 'https://i.redd.it/xixvvlwnq4h91.jpg'\n",
      "[urllib3.connectionpool][debug] https://i.redd.it:443 \"GET /xixvvlwnq4h91.jpg HTTP/1.1\" 200 162051\n",
      "[72/997] https://redgifs.com/watch/mintcreamsturdyyellowbelliedmarmot\n",
      "[gallery-dl][debug] Starting DownloadJob for 'https://redgifs.com/watch/mintcreamsturdyyellowbelliedmarmot'\n",
      "[redgifs][debug] Using RedgifsImageExtractor for 'https://redgifs.com/watch/mintcreamsturdyyellowbelliedmarmot'\n",
      "[urllib3.connectionpool][debug] https://api.redgifs.com:443 \"GET /v2/gifs/mintcreamsturdyyellowbelliedmarmot HTTP/1.1\" 200 None\n",
      "[urllib3.connectionpool][debug] https://thumbs2.redgifs.com:443 \"GET /MintcreamSturdyYellowbelliedmarmot.mp4 HTTP/1.1\" 200 6881354\n"
     ]
    },
    {
     "name": "stdout",
     "output_type": "stream",
     "text": [
      "nvme_drive/scraped_files/20220821-003129-reddit/redgifs/redgifs_mintcreamsturdyyellowbelliedmarmot.mp4\n"
     ]
    },
    {
     "name": "stderr",
     "output_type": "stream",
     "text": [
      "[73/997] https://i.redd.it/zrrf3ikb3vc91.gif\n",
      "[gallery-dl][debug] Starting DownloadJob for 'https://i.redd.it/zrrf3ikb3vc91.gif'\n",
      "[reddit][debug] Using RedditImageExtractor for 'https://i.redd.it/zrrf3ikb3vc91.gif'\n",
      "[urllib3.connectionpool][debug] https://i.redd.it:443 \"GET /zrrf3ikb3vc91.gif HTTP/1.1\" 200 4055257\n"
     ]
    },
    {
     "name": "stdout",
     "output_type": "stream",
     "text": [
      "nvme_drive/scraped_files/20220821-003129-reddit/reddit/zrrf3ikb3vc91.gif\n"
     ]
    },
    {
     "name": "stderr",
     "output_type": "stream",
     "text": [
      "[74/997] https://www.redgifs.com/watch/bubblyunevenweevil\n",
      "[gallery-dl][debug] Starting DownloadJob for 'https://www.redgifs.com/watch/bubblyunevenweevil'\n",
      "[redgifs][debug] Using RedgifsImageExtractor for 'https://www.redgifs.com/watch/bubblyunevenweevil'\n",
      "[urllib3.connectionpool][debug] https://api.redgifs.com:443 \"GET /v2/gifs/bubblyunevenweevil HTTP/1.1\" 200 None\n",
      "[urllib3.connectionpool][debug] https://thumbs2.redgifs.com:443 \"GET /BubblyUnevenWeevil.mp4 HTTP/1.1\" 200 36281464\n"
     ]
    },
    {
     "name": "stdout",
     "output_type": "stream",
     "text": [
      "nvme_drive/scraped_files/20220821-003129-reddit/redgifs/redgifs_bubblyunevenweevil.mp4\n"
     ]
    },
    {
     "name": "stderr",
     "output_type": "stream",
     "text": [
      "[75/997] https://www.redgifs.com/watch/subdueddarkredhen\n",
      "[gallery-dl][debug] Starting DownloadJob for 'https://www.redgifs.com/watch/subdueddarkredhen'\n",
      "[redgifs][debug] Using RedgifsImageExtractor for 'https://www.redgifs.com/watch/subdueddarkredhen'\n",
      "[urllib3.connectionpool][debug] https://api.redgifs.com:443 \"GET /v2/gifs/subdueddarkredhen HTTP/1.1\" 200 None\n",
      "[urllib3.connectionpool][debug] https://thumbs2.redgifs.com:443 \"GET /SubduedDarkredHen.mp4 HTTP/1.1\" 200 8737999\n"
     ]
    },
    {
     "name": "stdout",
     "output_type": "stream",
     "text": [
      "nvme_drive/scraped_files/20220821-003129-reddit/redgifs/redgifs_subdueddarkredhen.mp4\n",
      "nvme_drive/scraped_files/20220821-003129-reddit/reddit/z3hbba4j59h91.jpg\n"
     ]
    },
    {
     "name": "stderr",
     "output_type": "stream",
     "text": [
      "[76/997] https://i.redd.it/z3hbba4j59h91.jpg\n",
      "[gallery-dl][debug] Starting DownloadJob for 'https://i.redd.it/z3hbba4j59h91.jpg'\n",
      "[reddit][debug] Using RedditImageExtractor for 'https://i.redd.it/z3hbba4j59h91.jpg'\n",
      "[urllib3.connectionpool][debug] https://i.redd.it:443 \"GET /z3hbba4j59h91.jpg HTTP/1.1\" 200 1100128\n",
      "[77/997] https://i.redd.it/bqhc21t6sud91.gif\n",
      "[gallery-dl][debug] Starting DownloadJob for 'https://i.redd.it/bqhc21t6sud91.gif'\n",
      "[reddit][debug] Using RedditImageExtractor for 'https://i.redd.it/bqhc21t6sud91.gif'\n",
      "[urllib3.connectionpool][debug] https://i.redd.it:443 \"GET /bqhc21t6sud91.gif HTTP/1.1\" 200 12151778\n"
     ]
    },
    {
     "name": "stdout",
     "output_type": "stream",
     "text": [
      "nvme_drive/scraped_files/20220821-003129-reddit/reddit/bqhc21t6sud91.gif\n"
     ]
    },
    {
     "name": "stderr",
     "output_type": "stream",
     "text": [
      "[78/997] https://i.redd.it/71d1fmyea3i91.gif\n",
      "[gallery-dl][debug] Starting DownloadJob for 'https://i.redd.it/71d1fmyea3i91.gif'\n",
      "[reddit][debug] Using RedditImageExtractor for 'https://i.redd.it/71d1fmyea3i91.gif'\n",
      "[urllib3.connectionpool][debug] https://i.redd.it:443 \"GET /71d1fmyea3i91.gif HTTP/1.1\" 200 4849088\n"
     ]
    },
    {
     "name": "stdout",
     "output_type": "stream",
     "text": [
      "nvme_drive/scraped_files/20220821-003129-reddit/reddit/71d1fmyea3i91.gif\n"
     ]
    },
    {
     "name": "stderr",
     "output_type": "stream",
     "text": [
      "[79/997] https://redgifs.com/watch/rudedopeyneedlefish\n",
      "[gallery-dl][debug] Starting DownloadJob for 'https://redgifs.com/watch/rudedopeyneedlefish'\n",
      "[redgifs][debug] Using RedgifsImageExtractor for 'https://redgifs.com/watch/rudedopeyneedlefish'\n",
      "[urllib3.connectionpool][debug] https://api.redgifs.com:443 \"GET /v2/gifs/rudedopeyneedlefish HTTP/1.1\" 200 None\n",
      "[urllib3.connectionpool][debug] https://thumbs2.redgifs.com:443 \"GET /RudeDopeyNeedlefish.mp4 HTTP/1.1\" 200 38230247\n"
     ]
    },
    {
     "name": "stdout",
     "output_type": "stream",
     "text": [
      "nvme_drive/scraped_files/20220821-003129-reddit/redgifs/redgifs_rudedopeyneedlefish.mp4\n",
      "nvme_drive/scraped_files/20220821-003129-reddit/reddit/4bgx7r9vcwf91.jpg\n"
     ]
    },
    {
     "name": "stderr",
     "output_type": "stream",
     "text": [
      "[80/997] https://i.redd.it/4bgx7r9vcwf91.jpg\n",
      "[gallery-dl][debug] Starting DownloadJob for 'https://i.redd.it/4bgx7r9vcwf91.jpg'\n",
      "[reddit][debug] Using RedditImageExtractor for 'https://i.redd.it/4bgx7r9vcwf91.jpg'\n",
      "[urllib3.connectionpool][debug] https://i.redd.it:443 \"GET /4bgx7r9vcwf91.jpg HTTP/1.1\" 200 131404\n",
      "[81/997] https://redgifs.com/watch/oliveintentsnowmonkey\n",
      "[gallery-dl][debug] Starting DownloadJob for 'https://redgifs.com/watch/oliveintentsnowmonkey'\n",
      "[redgifs][debug] Using RedgifsImageExtractor for 'https://redgifs.com/watch/oliveintentsnowmonkey'\n",
      "[urllib3.connectionpool][debug] https://api.redgifs.com:443 \"GET /v2/gifs/oliveintentsnowmonkey HTTP/1.1\" 200 None\n",
      "[urllib3.connectionpool][debug] https://thumbs2.redgifs.com:443 \"GET /OliveIntentSnowmonkey.mp4 HTTP/1.1\" 200 14407896\n"
     ]
    },
    {
     "name": "stdout",
     "output_type": "stream",
     "text": [
      "nvme_drive/scraped_files/20220821-003129-reddit/redgifs/redgifs_oliveintentsnowmonkey.mp4\n"
     ]
    },
    {
     "name": "stderr",
     "output_type": "stream",
     "text": [
      "[82/997] https://i.imgur.com/oUGhV0e.gifv\n",
      "[gallery-dl][debug] Starting DownloadJob for 'https://i.imgur.com/oUGhV0e.gifv'\n",
      "[imgur][debug] Using ImgurImageExtractor for 'https://i.imgur.com/oUGhV0e.gifv'\n",
      "[urllib3.connectionpool][debug] https://api.imgur.com:443 \"GET /post/v1/media/oUGhV0e?include=media%2Ctags%2Caccount HTTP/1.1\" 200 462\n",
      "[urllib3.connectionpool][debug] https://i.imgur.com:443 \"GET /oUGhV0e.mp4 HTTP/1.1\" 200 3931731\n"
     ]
    },
    {
     "name": "stdout",
     "output_type": "stream",
     "text": [
      "nvme_drive/scraped_files/20220821-003129-reddit/imgur/imgur_oUGhV0e_Mia Malkova.mp4\n",
      "nvme_drive/scraped_files/20220821-003129-reddit/imgur/imgur_zoFIwO7_love the tanlines.jpg\n"
     ]
    },
    {
     "name": "stderr",
     "output_type": "stream",
     "text": [
      "[83/997] http://i.imgur.com/zoFIwO7.png\n",
      "[gallery-dl][debug] Starting DownloadJob for 'http://i.imgur.com/zoFIwO7.png'\n",
      "[imgur][debug] Using ImgurImageExtractor for 'http://i.imgur.com/zoFIwO7.png'\n",
      "[urllib3.connectionpool][debug] https://api.imgur.com:443 \"GET /post/v1/media/zoFIwO7?include=media%2Ctags%2Caccount HTTP/1.1\" 200 468\n",
      "[urllib3.connectionpool][debug] https://i.imgur.com:443 \"GET /zoFIwO7.jpg HTTP/1.1\" 200 100905\n",
      "[84/997] https://redgifs.com/watch/bigheartednewerin\n",
      "[gallery-dl][debug] Starting DownloadJob for 'https://redgifs.com/watch/bigheartednewerin'\n",
      "[redgifs][debug] Using RedgifsImageExtractor for 'https://redgifs.com/watch/bigheartednewerin'\n",
      "[urllib3.connectionpool][debug] https://api.redgifs.com:443 \"GET /v2/gifs/bigheartednewerin HTTP/1.1\" 200 None\n",
      "[urllib3.connectionpool][debug] https://thumbs2.redgifs.com:443 \"GET /BigheartedNewErin.mp4 HTTP/1.1\" 200 17573299\n"
     ]
    },
    {
     "name": "stdout",
     "output_type": "stream",
     "text": [
      "nvme_drive/scraped_files/20220821-003129-reddit/redgifs/redgifs_bigheartednewerin.mp4\n"
     ]
    },
    {
     "name": "stderr",
     "output_type": "stream",
     "text": [
      "[85/997] https://www.redgifs.com/watch/adorablefirmrooster\n",
      "[gallery-dl][debug] Starting DownloadJob for 'https://www.redgifs.com/watch/adorablefirmrooster'\n",
      "[redgifs][debug] Using RedgifsImageExtractor for 'https://www.redgifs.com/watch/adorablefirmrooster'\n",
      "[urllib3.connectionpool][debug] https://api.redgifs.com:443 \"GET /v2/gifs/adorablefirmrooster HTTP/1.1\" 200 None\n",
      "[urllib3.connectionpool][debug] https://thumbs2.redgifs.com:443 \"GET /AdorableFirmRooster.mp4 HTTP/1.1\" 200 14694221\n"
     ]
    },
    {
     "name": "stdout",
     "output_type": "stream",
     "text": [
      "nvme_drive/scraped_files/20220821-003129-reddit/redgifs/redgifs_adorablefirmrooster.mp4\n"
     ]
    },
    {
     "name": "stderr",
     "output_type": "stream",
     "text": [
      "[86/997] https://redgifs.com/watch/jaggedhelplesshoneycreeper\n",
      "[gallery-dl][debug] Starting DownloadJob for 'https://redgifs.com/watch/jaggedhelplesshoneycreeper'\n",
      "[redgifs][debug] Using RedgifsImageExtractor for 'https://redgifs.com/watch/jaggedhelplesshoneycreeper'\n",
      "[urllib3.connectionpool][debug] https://api.redgifs.com:443 \"GET /v2/gifs/jaggedhelplesshoneycreeper HTTP/1.1\" 200 None\n",
      "[urllib3.connectionpool][debug] https://thumbs2.redgifs.com:443 \"GET /JaggedHelplessHoneycreeper.mp4 HTTP/1.1\" 200 9431505\n"
     ]
    },
    {
     "name": "stdout",
     "output_type": "stream",
     "text": [
      "nvme_drive/scraped_files/20220821-003129-reddit/redgifs/redgifs_jaggedhelplesshoneycreeper.mp4\n",
      "nvme_drive/scraped_files/20220821-003129-reddit/reddit/k4btjft5fzc91.jpg\n"
     ]
    },
    {
     "name": "stderr",
     "output_type": "stream",
     "text": [
      "[87/997] https://i.redd.it/k4btjft5fzc91.jpg\n",
      "[gallery-dl][debug] Starting DownloadJob for 'https://i.redd.it/k4btjft5fzc91.jpg'\n",
      "[reddit][debug] Using RedditImageExtractor for 'https://i.redd.it/k4btjft5fzc91.jpg'\n",
      "[urllib3.connectionpool][debug] https://i.redd.it:443 \"GET /k4btjft5fzc91.jpg HTTP/1.1\" 200 114489\n",
      "[88/997] https://i.imgur.com/ttCE2xJ.jpg\n",
      "[gallery-dl][debug] Starting DownloadJob for 'https://i.imgur.com/ttCE2xJ.jpg'\n",
      "[imgur][debug] Using ImgurImageExtractor for 'https://i.imgur.com/ttCE2xJ.jpg'\n",
      "[urllib3.connectionpool][debug] https://api.imgur.com:443 \"GET /post/v1/media/ttCE2xJ?include=media%2Ctags%2Caccount HTTP/1.1\" 200 489\n",
      "[urllib3.connectionpool][debug] https://i.imgur.com:443 \"GET /ttCE2xJ.jpg HTTP/1.1\" 200 700997\n"
     ]
    },
    {
     "name": "stdout",
     "output_type": "stream",
     "text": [
      "nvme_drive/scraped_files/20220821-003129-reddit/imgur/imgur_ttCE2xJ_Farmer's daughter.jpg\n"
     ]
    },
    {
     "name": "stderr",
     "output_type": "stream",
     "text": [
      "[89/997] https://i.redd.it/kqjiiz3ymff91.gif\n",
      "[gallery-dl][debug] Starting DownloadJob for 'https://i.redd.it/kqjiiz3ymff91.gif'\n",
      "[reddit][debug] Using RedditImageExtractor for 'https://i.redd.it/kqjiiz3ymff91.gif'\n",
      "[urllib3.connectionpool][debug] https://i.redd.it:443 \"GET /kqjiiz3ymff91.gif HTTP/1.1\" 200 10034379\n"
     ]
    },
    {
     "name": "stdout",
     "output_type": "stream",
     "text": [
      "nvme_drive/scraped_files/20220821-003129-reddit/reddit/kqjiiz3ymff91.gif\n"
     ]
    },
    {
     "name": "stderr",
     "output_type": "stream",
     "text": [
      "[90/997] https://i.imgur.com/L1dmEiR.gifv\n",
      "[gallery-dl][debug] Starting DownloadJob for 'https://i.imgur.com/L1dmEiR.gifv'\n",
      "[imgur][debug] Using ImgurImageExtractor for 'https://i.imgur.com/L1dmEiR.gifv'\n",
      "[urllib3.connectionpool][debug] https://api.imgur.com:443 \"GET /post/v1/media/L1dmEiR?include=media%2Ctags%2Caccount HTTP/1.1\" 200 467\n",
      "[urllib3.connectionpool][debug] https://i.imgur.com:443 \"GET /L1dmEiR.mp4 HTTP/1.1\" 200 7086901\n"
     ]
    },
    {
     "name": "stdout",
     "output_type": "stream",
     "text": [
      "nvme_drive/scraped_files/20220821-003129-reddit/imgur/imgur_L1dmEiR_As Big As Her Head.mp4\n"
     ]
    },
    {
     "name": "stderr",
     "output_type": "stream",
     "text": [
      "[91/997] https://redgifs.com/watch/showycrazyspringtail\n",
      "[gallery-dl][debug] Starting DownloadJob for 'https://redgifs.com/watch/showycrazyspringtail'\n",
      "[redgifs][debug] Using RedgifsImageExtractor for 'https://redgifs.com/watch/showycrazyspringtail'\n",
      "[urllib3.connectionpool][debug] https://api.redgifs.com:443 \"GET /v2/gifs/showycrazyspringtail HTTP/1.1\" 200 None\n",
      "[urllib3.connectionpool][debug] https://thumbs2.redgifs.com:443 \"GET /ShowyCrazySpringtail.mp4 HTTP/1.1\" 200 7759318\n"
     ]
    },
    {
     "name": "stdout",
     "output_type": "stream",
     "text": [
      "nvme_drive/scraped_files/20220821-003129-reddit/redgifs/redgifs_showycrazyspringtail.mp4\n"
     ]
    },
    {
     "name": "stderr",
     "output_type": "stream",
     "text": [
      "[92/997] https://redgifs.com/watch/unitedpunctualnightingale\n",
      "[gallery-dl][debug] Starting DownloadJob for 'https://redgifs.com/watch/unitedpunctualnightingale'\n",
      "[redgifs][debug] Using RedgifsImageExtractor for 'https://redgifs.com/watch/unitedpunctualnightingale'\n",
      "[urllib3.connectionpool][debug] https://api.redgifs.com:443 \"GET /v2/gifs/unitedpunctualnightingale HTTP/1.1\" 200 None\n",
      "[urllib3.connectionpool][debug] https://thumbs2.redgifs.com:443 \"GET /UnitedPunctualNightingale.mp4 HTTP/1.1\" 200 9639539\n"
     ]
    },
    {
     "name": "stdout",
     "output_type": "stream",
     "text": [
      "nvme_drive/scraped_files/20220821-003129-reddit/redgifs/redgifs_unitedpunctualnightingale.mp4\n"
     ]
    },
    {
     "name": "stderr",
     "output_type": "stream",
     "text": [
      "[93/997] https://i.redd.it/4fczq1x2p4e91.gif\n",
      "[gallery-dl][debug] Starting DownloadJob for 'https://i.redd.it/4fczq1x2p4e91.gif'\n",
      "[reddit][debug] Using RedditImageExtractor for 'https://i.redd.it/4fczq1x2p4e91.gif'\n",
      "[urllib3.connectionpool][debug] https://i.redd.it:443 \"GET /4fczq1x2p4e91.gif HTTP/1.1\" 200 1585692\n"
     ]
    },
    {
     "name": "stdout",
     "output_type": "stream",
     "text": [
      "nvme_drive/scraped_files/20220821-003129-reddit/reddit/4fczq1x2p4e91.gif\n"
     ]
    },
    {
     "name": "stderr",
     "output_type": "stream",
     "text": [
      "[94/997] https://redgifs.com/watch/lawfulusedilsamochadegu\n",
      "[gallery-dl][debug] Starting DownloadJob for 'https://redgifs.com/watch/lawfulusedilsamochadegu'\n",
      "[redgifs][debug] Using RedgifsImageExtractor for 'https://redgifs.com/watch/lawfulusedilsamochadegu'\n",
      "[urllib3.connectionpool][debug] https://api.redgifs.com:443 \"GET /v2/gifs/lawfulusedilsamochadegu HTTP/1.1\" 200 None\n",
      "[urllib3.connectionpool][debug] https://thumbs2.redgifs.com:443 \"GET /LawfulUsedIlsamochadegu.mp4 HTTP/1.1\" 200 9986755\n"
     ]
    },
    {
     "name": "stdout",
     "output_type": "stream",
     "text": [
      "nvme_drive/scraped_files/20220821-003129-reddit/redgifs/redgifs_lawfulusedilsamochadegu.mp4\n"
     ]
    },
    {
     "name": "stderr",
     "output_type": "stream",
     "text": [
      "[95/997] https://redgifs.com/watch/darkredqualifiedharpyeagle\n",
      "[gallery-dl][debug] Starting DownloadJob for 'https://redgifs.com/watch/darkredqualifiedharpyeagle'\n",
      "[redgifs][debug] Using RedgifsImageExtractor for 'https://redgifs.com/watch/darkredqualifiedharpyeagle'\n",
      "[urllib3.connectionpool][debug] https://api.redgifs.com:443 \"GET /v2/gifs/darkredqualifiedharpyeagle HTTP/1.1\" 200 None\n",
      "[urllib3.connectionpool][debug] https://thumbs2.redgifs.com:443 \"GET /DarkredQualifiedHarpyeagle.mp4 HTTP/1.1\" 200 7953884\n"
     ]
    },
    {
     "name": "stdout",
     "output_type": "stream",
     "text": [
      "nvme_drive/scraped_files/20220821-003129-reddit/redgifs/redgifs_darkredqualifiedharpyeagle.mp4\n"
     ]
    },
    {
     "name": "stderr",
     "output_type": "stream",
     "text": [
      "[96/997] https://www.redgifs.com/watch/ovalliveamericancurl\n",
      "[gallery-dl][debug] Starting DownloadJob for 'https://www.redgifs.com/watch/ovalliveamericancurl'\n",
      "[redgifs][debug] Using RedgifsImageExtractor for 'https://www.redgifs.com/watch/ovalliveamericancurl'\n",
      "[urllib3.connectionpool][debug] https://api.redgifs.com:443 \"GET /v2/gifs/ovalliveamericancurl HTTP/1.1\" 200 None\n",
      "[urllib3.connectionpool][debug] https://thumbs2.redgifs.com:443 \"GET /OvalLiveAmericancurl.mp4 HTTP/1.1\" 200 19403166\n"
     ]
    },
    {
     "name": "stdout",
     "output_type": "stream",
     "text": [
      "nvme_drive/scraped_files/20220821-003129-reddit/redgifs/redgifs_ovalliveamericancurl.mp4\n"
     ]
    },
    {
     "name": "stderr",
     "output_type": "stream",
     "text": [
      "[97/997] https://i.redd.it/d49hn8crxxg91.gif\n",
      "[gallery-dl][debug] Starting DownloadJob for 'https://i.redd.it/d49hn8crxxg91.gif'\n",
      "[reddit][debug] Using RedditImageExtractor for 'https://i.redd.it/d49hn8crxxg91.gif'\n",
      "[urllib3.connectionpool][debug] https://i.redd.it:443 \"GET /d49hn8crxxg91.gif HTTP/1.1\" 200 11012847\n"
     ]
    },
    {
     "name": "stdout",
     "output_type": "stream",
     "text": [
      "nvme_drive/scraped_files/20220821-003129-reddit/reddit/d49hn8crxxg91.gif\n",
      "nvme_drive/scraped_files/20220821-003129-reddit/reddit/5ogp4t21qtf91.jpg\n"
     ]
    },
    {
     "name": "stderr",
     "output_type": "stream",
     "text": [
      "[98/997] https://i.redd.it/5ogp4t21qtf91.jpg\n",
      "[gallery-dl][debug] Starting DownloadJob for 'https://i.redd.it/5ogp4t21qtf91.jpg'\n",
      "[reddit][debug] Using RedditImageExtractor for 'https://i.redd.it/5ogp4t21qtf91.jpg'\n",
      "[urllib3.connectionpool][debug] https://i.redd.it:443 \"GET /5ogp4t21qtf91.jpg HTTP/1.1\" 200 1108728\n",
      "[99/997] https://redgifs.com/watch/aggressivehollowkarakul\n",
      "[gallery-dl][debug] Starting DownloadJob for 'https://redgifs.com/watch/aggressivehollowkarakul'\n",
      "[redgifs][debug] Using RedgifsImageExtractor for 'https://redgifs.com/watch/aggressivehollowkarakul'\n",
      "[urllib3.connectionpool][debug] https://api.redgifs.com:443 \"GET /v2/gifs/aggressivehollowkarakul HTTP/1.1\" 200 None\n",
      "[urllib3.connectionpool][debug] https://thumbs2.redgifs.com:443 \"GET /AggressiveHollowKarakul.mp4 HTTP/1.1\" 200 16343348\n"
     ]
    },
    {
     "name": "stdout",
     "output_type": "stream",
     "text": [
      "nvme_drive/scraped_files/20220821-003129-reddit/redgifs/redgifs_aggressivehollowkarakul.mp4\n"
     ]
    },
    {
     "name": "stderr",
     "output_type": "stream",
     "text": [
      "[100/997] https://i.redd.it/rsu9ykbtqos51.gif?1\n",
      "[gallery-dl][debug] Starting DownloadJob for 'https://i.redd.it/rsu9ykbtqos51.gif?1'\n",
      "[reddit][debug] Using RedditImageExtractor for 'https://i.redd.it/rsu9ykbtqos51.gif?1'\n",
      "[urllib3.connectionpool][debug] https://i.redd.it:443 \"GET /rsu9ykbtqos51.gif?1 HTTP/1.1\" 200 3491469\n"
     ]
    },
    {
     "name": "stdout",
     "output_type": "stream",
     "text": [
      "nvme_drive/scraped_files/20220821-003129-reddit/reddit/rsu9ykbtqos51.gif\n",
      "nvme_drive/scraped_files/20220821-003129-reddit/reddit/am77guzz0ng91.jpg\n",
      "nvme_drive/scraped_files/20220821-003129-reddit/reddit/su2mvmxe0di91.jpg\n"
     ]
    },
    {
     "name": "stderr",
     "output_type": "stream",
     "text": [
      "[101/997] https://i.redd.it/am77guzz0ng91.jpg\n",
      "[gallery-dl][debug] Starting DownloadJob for 'https://i.redd.it/am77guzz0ng91.jpg'\n",
      "[reddit][debug] Using RedditImageExtractor for 'https://i.redd.it/am77guzz0ng91.jpg'\n",
      "[urllib3.connectionpool][debug] https://i.redd.it:443 \"GET /am77guzz0ng91.jpg HTTP/1.1\" 200 161847\n",
      "[102/997] https://i.redd.it/su2mvmxe0di91.jpg\n",
      "[gallery-dl][debug] Starting DownloadJob for 'https://i.redd.it/su2mvmxe0di91.jpg'\n",
      "[reddit][debug] Using RedditImageExtractor for 'https://i.redd.it/su2mvmxe0di91.jpg'\n",
      "[urllib3.connectionpool][debug] https://i.redd.it:443 \"GET /su2mvmxe0di91.jpg HTTP/1.1\" 200 223459\n",
      "[103/997] https://i.imgur.com/SLS6uEI.jpg\n",
      "[gallery-dl][debug] Starting DownloadJob for 'https://i.imgur.com/SLS6uEI.jpg'\n",
      "[imgur][debug] Using ImgurImageExtractor for 'https://i.imgur.com/SLS6uEI.jpg'\n",
      "[urllib3.connectionpool][debug] https://api.imgur.com:443 \"GET /post/v1/media/SLS6uEI?include=media%2Ctags%2Caccount HTTP/1.1\" 200 464\n",
      "[urllib3.connectionpool][debug] https://i.imgur.com:443 \"GET /SLS6uEI.jpg HTTP/1.1\" 200 602731\n",
      "[104/997] https://i.imgur.com/0f6maGF.jpg\n",
      "[gallery-dl][debug] Starting DownloadJob for 'https://i.imgur.com/0f6maGF.jpg'\n",
      "[imgur][debug] Using ImgurImageExtractor for 'https://i.imgur.com/0f6maGF.jpg'\n"
     ]
    },
    {
     "name": "stdout",
     "output_type": "stream",
     "text": [
      "nvme_drive/scraped_files/20220821-003129-reddit/imgur/imgur_SLS6uEI_Damn.jpg\n",
      "nvme_drive/scraped_files/20220821-003129-reddit/imgur/imgur_0f6maGF_Oiled up with amazing tits.jpg\n"
     ]
    },
    {
     "name": "stderr",
     "output_type": "stream",
     "text": [
      "[urllib3.connectionpool][debug] https://api.imgur.com:443 \"GET /post/v1/media/0f6maGF?include=media%2Ctags%2Caccount HTTP/1.1\" 200 510\n",
      "[urllib3.connectionpool][debug] https://i.imgur.com:443 \"GET /0f6maGF.jpg HTTP/1.1\" 200 81065\n",
      "[105/997] https://i.imgur.com/YcwCFvU.gifv\n",
      "[gallery-dl][debug] Starting DownloadJob for 'https://i.imgur.com/YcwCFvU.gifv'\n",
      "[imgur][debug] Using ImgurImageExtractor for 'https://i.imgur.com/YcwCFvU.gifv'\n",
      "[urllib3.connectionpool][debug] https://api.imgur.com:443 \"GET /post/v1/media/YcwCFvU?include=media%2Ctags%2Caccount HTTP/1.1\" 200 462\n",
      "[urllib3.connectionpool][debug] https://i.imgur.com:443 \"GET /YcwCFvU.mp4 HTTP/1.1\" 200 3419440\n"
     ]
    },
    {
     "name": "stdout",
     "output_type": "stream",
     "text": [
      "nvme_drive/scraped_files/20220821-003129-reddit/imgur/imgur_YcwCFvU_A work of art.mp4\n"
     ]
    },
    {
     "name": "stderr",
     "output_type": "stream",
     "text": [
      "[106/997] https://redgifs.com/watch/admiredopenhammerheadshark\n",
      "[gallery-dl][debug] Starting DownloadJob for 'https://redgifs.com/watch/admiredopenhammerheadshark'\n",
      "[redgifs][debug] Using RedgifsImageExtractor for 'https://redgifs.com/watch/admiredopenhammerheadshark'\n",
      "[urllib3.connectionpool][debug] https://api.redgifs.com:443 \"GET /v2/gifs/admiredopenhammerheadshark HTTP/1.1\" 200 None\n",
      "[urllib3.connectionpool][debug] https://thumbs2.redgifs.com:443 \"GET /AdmiredOpenHammerheadshark.mp4 HTTP/1.1\" 200 5681699\n"
     ]
    },
    {
     "name": "stdout",
     "output_type": "stream",
     "text": [
      "nvme_drive/scraped_files/20220821-003129-reddit/redgifs/redgifs_admiredopenhammerheadshark.mp4\n"
     ]
    },
    {
     "name": "stderr",
     "output_type": "stream",
     "text": [
      "[107/997] https://i.redd.it/xx72w3tghfe91.gif\n",
      "[gallery-dl][debug] Starting DownloadJob for 'https://i.redd.it/xx72w3tghfe91.gif'\n",
      "[reddit][debug] Using RedditImageExtractor for 'https://i.redd.it/xx72w3tghfe91.gif'\n",
      "[urllib3.connectionpool][debug] https://i.redd.it:443 \"GET /xx72w3tghfe91.gif HTTP/1.1\" 200 1433955\n"
     ]
    },
    {
     "name": "stdout",
     "output_type": "stream",
     "text": [
      "nvme_drive/scraped_files/20220821-003129-reddit/reddit/xx72w3tghfe91.gif\n"
     ]
    },
    {
     "name": "stderr",
     "output_type": "stream",
     "text": [
      "[108/997] https://www.redgifs.com/watch/moralfarflungmurrelet\n",
      "[gallery-dl][debug] Starting DownloadJob for 'https://www.redgifs.com/watch/moralfarflungmurrelet'\n",
      "[redgifs][debug] Using RedgifsImageExtractor for 'https://www.redgifs.com/watch/moralfarflungmurrelet'\n",
      "[urllib3.connectionpool][debug] https://api.redgifs.com:443 \"GET /v2/gifs/moralfarflungmurrelet HTTP/1.1\" 200 None\n",
      "[urllib3.connectionpool][debug] https://thumbs2.redgifs.com:443 \"GET /MoralFarflungMurrelet.mp4 HTTP/1.1\" 200 26029240\n"
     ]
    },
    {
     "name": "stdout",
     "output_type": "stream",
     "text": [
      "nvme_drive/scraped_files/20220821-003129-reddit/redgifs/redgifs_moralfarflungmurrelet.mp4\n"
     ]
    },
    {
     "name": "stderr",
     "output_type": "stream",
     "text": [
      "[109/997] https://i.redd.it/zeklvh7oueg91.gif\n",
      "[gallery-dl][debug] Starting DownloadJob for 'https://i.redd.it/zeklvh7oueg91.gif'\n",
      "[reddit][debug] Using RedditImageExtractor for 'https://i.redd.it/zeklvh7oueg91.gif'\n",
      "[urllib3.connectionpool][debug] https://i.redd.it:443 \"GET /zeklvh7oueg91.gif HTTP/1.1\" 200 7038278\n"
     ]
    },
    {
     "name": "stdout",
     "output_type": "stream",
     "text": [
      "nvme_drive/scraped_files/20220821-003129-reddit/reddit/zeklvh7oueg91.gif\n"
     ]
    },
    {
     "name": "stderr",
     "output_type": "stream",
     "text": [
      "[110/997] https://i.imgur.com/C6NsdjA.gifv\n",
      "[gallery-dl][debug] Starting DownloadJob for 'https://i.imgur.com/C6NsdjA.gifv'\n",
      "[imgur][debug] Using ImgurImageExtractor for 'https://i.imgur.com/C6NsdjA.gifv'\n",
      "[urllib3.connectionpool][debug] https://api.imgur.com:443 \"GET /post/v1/media/C6NsdjA?include=media%2Ctags%2Caccount HTTP/1.1\" 200 466\n",
      "[urllib3.connectionpool][debug] https://i.imgur.com:443 \"GET /C6NsdjA.mp4 HTTP/1.1\" 200 11433767\n"
     ]
    },
    {
     "name": "stdout",
     "output_type": "stream",
     "text": [
      "nvme_drive/scraped_files/20220821-003129-reddit/imgur/imgur_C6NsdjA_follow the leader.mp4\n"
     ]
    },
    {
     "name": "stderr",
     "output_type": "stream",
     "text": [
      "[111/997] https://i.redd.it/ck5qgepkane91.gif\n",
      "[gallery-dl][debug] Starting DownloadJob for 'https://i.redd.it/ck5qgepkane91.gif'\n",
      "[reddit][debug] Using RedditImageExtractor for 'https://i.redd.it/ck5qgepkane91.gif'\n",
      "[urllib3.connectionpool][debug] https://i.redd.it:443 \"GET /ck5qgepkane91.gif HTTP/1.1\" 200 2186122\n"
     ]
    },
    {
     "name": "stdout",
     "output_type": "stream",
     "text": [
      "nvme_drive/scraped_files/20220821-003129-reddit/reddit/ck5qgepkane91.gif\n",
      "nvme_drive/scraped_files/20220821-003129-reddit/imgur/imgur_96gCJF4_Wide Rim Hat.jpg\n"
     ]
    },
    {
     "name": "stderr",
     "output_type": "stream",
     "text": [
      "[112/997] https://i.imgur.com/96gCJF4.jpg\n",
      "[gallery-dl][debug] Starting DownloadJob for 'https://i.imgur.com/96gCJF4.jpg'\n",
      "[imgur][debug] Using ImgurImageExtractor for 'https://i.imgur.com/96gCJF4.jpg'\n",
      "[urllib3.connectionpool][debug] https://api.imgur.com:443 \"GET /post/v1/media/96gCJF4?include=media%2Ctags%2Caccount HTTP/1.1\" 200 452\n",
      "[urllib3.connectionpool][debug] https://i.imgur.com:443 \"GET /96gCJF4.jpg HTTP/1.1\" 200 72836\n",
      "[113/997] https://redgifs.com/watch/ivorylumberingindianrhinoceros\n",
      "[gallery-dl][debug] Starting DownloadJob for 'https://redgifs.com/watch/ivorylumberingindianrhinoceros'\n",
      "[redgifs][debug] Using RedgifsImageExtractor for 'https://redgifs.com/watch/ivorylumberingindianrhinoceros'\n",
      "[urllib3.connectionpool][debug] https://api.redgifs.com:443 \"GET /v2/gifs/ivorylumberingindianrhinoceros HTTP/1.1\" 200 None\n",
      "[urllib3.connectionpool][debug] https://thumbs2.redgifs.com:443 \"GET /IvoryLumberingIndianrhinoceros.mp4 HTTP/1.1\" 200 7775990\n"
     ]
    },
    {
     "name": "stdout",
     "output_type": "stream",
     "text": [
      "nvme_drive/scraped_files/20220821-003129-reddit/redgifs/redgifs_ivorylumberingindianrhinoceros.mp4\n"
     ]
    },
    {
     "name": "stderr",
     "output_type": "stream",
     "text": [
      "[114/997] https://i.imgur.com/1eKYf2d.jpg\n",
      "[gallery-dl][debug] Starting DownloadJob for 'https://i.imgur.com/1eKYf2d.jpg'\n",
      "[imgur][debug] Using ImgurImageExtractor for 'https://i.imgur.com/1eKYf2d.jpg'\n",
      "[urllib3.connectionpool][debug] https://api.imgur.com:443 \"GET /post/v1/media/1eKYf2d?include=media%2Ctags%2Caccount HTTP/1.1\" 200 447\n",
      "[urllib3.connectionpool][debug] https://i.imgur.com:443 \"GET /1eKYf2d.jpg HTTP/1.1\" 200 974973\n"
     ]
    },
    {
     "name": "stdout",
     "output_type": "stream",
     "text": [
      "nvme_drive/scraped_files/20220821-003129-reddit/imgur/imgur_1eKYf2d_Fantastic.jpg\n"
     ]
    },
    {
     "name": "stderr",
     "output_type": "stream",
     "text": [
      "[115/997] https://i.redd.it/cc0wi6hv0rh91.gif\n",
      "[gallery-dl][debug] Starting DownloadJob for 'https://i.redd.it/cc0wi6hv0rh91.gif'\n",
      "[reddit][debug] Using RedditImageExtractor for 'https://i.redd.it/cc0wi6hv0rh91.gif'\n",
      "[urllib3.connectionpool][debug] https://i.redd.it:443 \"GET /cc0wi6hv0rh91.gif HTTP/1.1\" 200 12841521\n"
     ]
    },
    {
     "name": "stdout",
     "output_type": "stream",
     "text": [
      "nvme_drive/scraped_files/20220821-003129-reddit/reddit/cc0wi6hv0rh91.gif\n"
     ]
    },
    {
     "name": "stderr",
     "output_type": "stream",
     "text": [
      "[116/997] https://i.imgur.com/YKzdzc6.jpg\n",
      "[gallery-dl][debug] Starting DownloadJob for 'https://i.imgur.com/YKzdzc6.jpg'\n",
      "[imgur][debug] Using ImgurImageExtractor for 'https://i.imgur.com/YKzdzc6.jpg'\n",
      "[urllib3.connectionpool][debug] https://api.imgur.com:443 \"GET /post/v1/media/YKzdzc6?include=media%2Ctags%2Caccount HTTP/1.1\" 200 491\n",
      "[urllib3.connectionpool][debug] https://i.imgur.com:443 \"GET /YKzdzc6.jpg HTTP/1.1\" 200 772722\n"
     ]
    },
    {
     "name": "stdout",
     "output_type": "stream",
     "text": [
      "nvme_drive/scraped_files/20220821-003129-reddit/imgur/imgur_YKzdzc6_White wine.jpg\n"
     ]
    },
    {
     "name": "stderr",
     "output_type": "stream",
     "text": [
      "[117/997] https://redgifs.com/watch/misguidedbuzzingheron\n",
      "[gallery-dl][debug] Starting DownloadJob for 'https://redgifs.com/watch/misguidedbuzzingheron'\n",
      "[redgifs][debug] Using RedgifsImageExtractor for 'https://redgifs.com/watch/misguidedbuzzingheron'\n",
      "[urllib3.connectionpool][debug] https://api.redgifs.com:443 \"GET /v2/gifs/misguidedbuzzingheron HTTP/1.1\" 200 None\n",
      "[urllib3.connectionpool][debug] https://thumbs2.redgifs.com:443 \"GET /MisguidedBuzzingHeron.mp4 HTTP/1.1\" 200 14199686\n"
     ]
    },
    {
     "name": "stdout",
     "output_type": "stream",
     "text": [
      "nvme_drive/scraped_files/20220821-003129-reddit/redgifs/redgifs_misguidedbuzzingheron.mp4\n"
     ]
    },
    {
     "name": "stderr",
     "output_type": "stream",
     "text": [
      "[118/997] https://www.redgifs.com/watch/reasonablewickedostrich\n",
      "[gallery-dl][debug] Starting DownloadJob for 'https://www.redgifs.com/watch/reasonablewickedostrich'\n",
      "[redgifs][debug] Using RedgifsImageExtractor for 'https://www.redgifs.com/watch/reasonablewickedostrich'\n",
      "[urllib3.connectionpool][debug] https://api.redgifs.com:443 \"GET /v2/gifs/reasonablewickedostrich HTTP/1.1\" 200 None\n",
      "[urllib3.connectionpool][debug] https://thumbs2.redgifs.com:443 \"GET /ReasonableWickedOstrich.mp4 HTTP/1.1\" 200 23922001\n"
     ]
    },
    {
     "name": "stdout",
     "output_type": "stream",
     "text": [
      "nvme_drive/scraped_files/20220821-003129-reddit/redgifs/redgifs_reasonablewickedostrich.mp4\n"
     ]
    },
    {
     "name": "stderr",
     "output_type": "stream",
     "text": [
      "[119/997] https://redgifs.com/watch/opulentsurefootedzebra\n",
      "[gallery-dl][debug] Starting DownloadJob for 'https://redgifs.com/watch/opulentsurefootedzebra'\n",
      "[redgifs][debug] Using RedgifsImageExtractor for 'https://redgifs.com/watch/opulentsurefootedzebra'\n",
      "[urllib3.connectionpool][debug] https://api.redgifs.com:443 \"GET /v2/gifs/opulentsurefootedzebra HTTP/1.1\" 200 None\n",
      "[urllib3.connectionpool][debug] https://thumbs2.redgifs.com:443 \"GET /OpulentSurefootedZebra.mp4 HTTP/1.1\" 200 9144182\n"
     ]
    },
    {
     "name": "stdout",
     "output_type": "stream",
     "text": [
      "nvme_drive/scraped_files/20220821-003129-reddit/redgifs/redgifs_opulentsurefootedzebra.mp4\n",
      "nvme_drive/scraped_files/20220821-003129-reddit/reddit/vkjq9czg7je91.gif\n"
     ]
    },
    {
     "name": "stderr",
     "output_type": "stream",
     "text": [
      "[120/997] https://i.redd.it/vkjq9czg7je91.gif\n",
      "[gallery-dl][debug] Starting DownloadJob for 'https://i.redd.it/vkjq9czg7je91.gif'\n",
      "[reddit][debug] Using RedditImageExtractor for 'https://i.redd.it/vkjq9czg7je91.gif'\n",
      "[urllib3.connectionpool][debug] https://i.redd.it:443 \"GET /vkjq9czg7je91.gif HTTP/1.1\" 200 1119690\n",
      "[121/997] https://i.imgur.com/uRJWAgC.jpg\n",
      "[gallery-dl][debug] Starting DownloadJob for 'https://i.imgur.com/uRJWAgC.jpg'\n",
      "[imgur][debug] Using ImgurImageExtractor for 'https://i.imgur.com/uRJWAgC.jpg'\n",
      "[urllib3.connectionpool][debug] https://api.imgur.com:443 \"GET /post/v1/media/uRJWAgC?include=media%2Ctags%2Caccount HTTP/1.1\" 200 530\n",
      "[urllib3.connectionpool][debug] https://i.imgur.com:443 \"GET /uRJWAgC.jpg HTTP/1.1\" 200 157350\n",
      "[122/997] https://redgifs.com/watch/pleasingwretchedwaterdogs\n",
      "[gallery-dl][debug] Starting DownloadJob for 'https://redgifs.com/watch/pleasingwretchedwaterdogs'\n",
      "[redgifs][debug] Using RedgifsImageExtractor for 'https://redgifs.com/watch/pleasingwretchedwaterdogs'\n",
      "[urllib3.connectionpool][debug] https://api.redgifs.com:443 \"GET /v2/gifs/pleasingwretchedwaterdogs HTTP/1.1\" 200 None\n"
     ]
    },
    {
     "name": "stdout",
     "output_type": "stream",
     "text": [
      "nvme_drive/scraped_files/20220821-003129-reddit/imgur/imgur_uRJWAgC_White mesh underwear.jpg\n"
     ]
    },
    {
     "name": "stderr",
     "output_type": "stream",
     "text": [
      "[urllib3.connectionpool][debug] https://thumbs2.redgifs.com:443 \"GET /PleasingWretchedWaterdogs.mp4 HTTP/1.1\" 200 10699823\n"
     ]
    },
    {
     "name": "stdout",
     "output_type": "stream",
     "text": [
      "nvme_drive/scraped_files/20220821-003129-reddit/redgifs/redgifs_pleasingwretchedwaterdogs.mp4\n"
     ]
    },
    {
     "name": "stderr",
     "output_type": "stream",
     "text": [
      "[123/997] https://i.imgur.com/PEEWkkk.jpg\n",
      "[gallery-dl][debug] Starting DownloadJob for 'https://i.imgur.com/PEEWkkk.jpg'\n",
      "[imgur][debug] Using ImgurImageExtractor for 'https://i.imgur.com/PEEWkkk.jpg'\n",
      "[urllib3.connectionpool][debug] https://api.imgur.com:443 \"GET /post/v1/media/PEEWkkk?include=media%2Ctags%2Caccount HTTP/1.1\" 200 456\n",
      "[urllib3.connectionpool][debug] https://i.imgur.com:443 \"GET /PEEWkkk.jpg HTTP/1.1\" 200 577200\n"
     ]
    },
    {
     "name": "stdout",
     "output_type": "stream",
     "text": [
      "nvme_drive/scraped_files/20220821-003129-reddit/imgur/imgur_PEEWkkk_Busting Out.jpg\n"
     ]
    },
    {
     "name": "stderr",
     "output_type": "stream",
     "text": [
      "[124/997] https://i.redd.it/rf4i3l4gn9g91.gif\n",
      "[gallery-dl][debug] Starting DownloadJob for 'https://i.redd.it/rf4i3l4gn9g91.gif'\n",
      "[reddit][debug] Using RedditImageExtractor for 'https://i.redd.it/rf4i3l4gn9g91.gif'\n",
      "[urllib3.connectionpool][debug] https://i.redd.it:443 \"GET /rf4i3l4gn9g91.gif HTTP/1.1\" 200 4414958\n"
     ]
    },
    {
     "name": "stdout",
     "output_type": "stream",
     "text": [
      "nvme_drive/scraped_files/20220821-003129-reddit/reddit/rf4i3l4gn9g91.gif\n",
      "nvme_drive/scraped_files/20220821-003129-reddit/reddit/vy38lpkfjci91.jpg\n"
     ]
    },
    {
     "name": "stderr",
     "output_type": "stream",
     "text": [
      "[125/997] https://i.redd.it/vy38lpkfjci91.jpg\n",
      "[gallery-dl][debug] Starting DownloadJob for 'https://i.redd.it/vy38lpkfjci91.jpg'\n",
      "[reddit][debug] Using RedditImageExtractor for 'https://i.redd.it/vy38lpkfjci91.jpg'\n",
      "[urllib3.connectionpool][debug] https://i.redd.it:443 \"GET /vy38lpkfjci91.jpg HTTP/1.1\" 200 173635\n",
      "[126/997] https://redgifs.com/watch/sveltebountifulbluebird\n",
      "[gallery-dl][debug] Starting DownloadJob for 'https://redgifs.com/watch/sveltebountifulbluebird'\n",
      "[redgifs][debug] Using RedgifsImageExtractor for 'https://redgifs.com/watch/sveltebountifulbluebird'\n",
      "[urllib3.connectionpool][debug] https://api.redgifs.com:443 \"GET /v2/gifs/sveltebountifulbluebird HTTP/1.1\" 200 None\n",
      "[urllib3.connectionpool][debug] https://thumbs2.redgifs.com:443 \"GET /SvelteBountifulBluebird.mp4 HTTP/1.1\" 200 2600669\n"
     ]
    },
    {
     "name": "stdout",
     "output_type": "stream",
     "text": [
      "nvme_drive/scraped_files/20220821-003129-reddit/redgifs/redgifs_sveltebountifulbluebird.mp4\n"
     ]
    },
    {
     "name": "stderr",
     "output_type": "stream",
     "text": [
      "[127/997] https://i.imgur.com/zirr5ZU.jpg\n",
      "[gallery-dl][debug] Starting DownloadJob for 'https://i.imgur.com/zirr5ZU.jpg'\n",
      "[imgur][debug] Using ImgurImageExtractor for 'https://i.imgur.com/zirr5ZU.jpg'\n",
      "[urllib3.connectionpool][debug] https://api.imgur.com:443 \"GET /post/v1/media/zirr5ZU?include=media%2Ctags%2Caccount HTTP/1.1\" 200 447\n",
      "[urllib3.connectionpool][debug] https://i.imgur.com:443 \"GET /zirr5ZU.jpg HTTP/1.1\" 200 761782\n"
     ]
    },
    {
     "name": "stdout",
     "output_type": "stream",
     "text": [
      "nvme_drive/scraped_files/20220821-003129-reddit/imgur/imgur_zirr5ZU_Ass Up.jpg\n"
     ]
    },
    {
     "name": "stderr",
     "output_type": "stream",
     "text": [
      "[128/997] https://redgifs.com/watch/murkyflusteredelephantbeetle\n",
      "[gallery-dl][debug] Starting DownloadJob for 'https://redgifs.com/watch/murkyflusteredelephantbeetle'\n",
      "[redgifs][debug] Using RedgifsImageExtractor for 'https://redgifs.com/watch/murkyflusteredelephantbeetle'\n",
      "[urllib3.connectionpool][debug] https://api.redgifs.com:443 \"GET /v2/gifs/murkyflusteredelephantbeetle HTTP/1.1\" 200 None\n",
      "[urllib3.connectionpool][debug] https://thumbs2.redgifs.com:443 \"GET /MurkyFlusteredElephantbeetle.mp4 HTTP/1.1\" 200 10513453\n"
     ]
    },
    {
     "name": "stdout",
     "output_type": "stream",
     "text": [
      "nvme_drive/scraped_files/20220821-003129-reddit/redgifs/redgifs_murkyflusteredelephantbeetle.mp4\n"
     ]
    },
    {
     "name": "stderr",
     "output_type": "stream",
     "text": [
      "[129/997] https://redgifs.com/watch/joyfulgrumpyaddax\n",
      "[gallery-dl][debug] Starting DownloadJob for 'https://redgifs.com/watch/joyfulgrumpyaddax'\n",
      "[redgifs][debug] Using RedgifsImageExtractor for 'https://redgifs.com/watch/joyfulgrumpyaddax'\n",
      "[urllib3.connectionpool][debug] https://api.redgifs.com:443 \"GET /v2/gifs/joyfulgrumpyaddax HTTP/1.1\" 200 None\n",
      "[urllib3.connectionpool][debug] https://thumbs2.redgifs.com:443 \"GET /JoyfulGrumpyAddax.mp4 HTTP/1.1\" 200 20380540\n"
     ]
    },
    {
     "name": "stdout",
     "output_type": "stream",
     "text": [
      "nvme_drive/scraped_files/20220821-003129-reddit/redgifs/redgifs_joyfulgrumpyaddax.mp4\n",
      "nvme_drive/scraped_files/20220821-003129-reddit/imgur/imgur_wifZ8ei_Preparation for sleep.jpg\n"
     ]
    },
    {
     "name": "stderr",
     "output_type": "stream",
     "text": [
      "[130/997] https://i.imgur.com/wifZ8ei.jpg\n",
      "[gallery-dl][debug] Starting DownloadJob for 'https://i.imgur.com/wifZ8ei.jpg'\n",
      "[imgur][debug] Using ImgurImageExtractor for 'https://i.imgur.com/wifZ8ei.jpg'\n",
      "[urllib3.connectionpool][debug] https://api.imgur.com:443 \"GET /post/v1/media/wifZ8ei?include=media%2Ctags%2Caccount HTTP/1.1\" 200 552\n",
      "[urllib3.connectionpool][debug] https://i.imgur.com:443 \"GET /wifZ8ei.jpg HTTP/1.1\" 200 121144\n",
      "[131/997] https://i.imgur.com/NVGMmcf.gifv\n",
      "[gallery-dl][debug] Starting DownloadJob for 'https://i.imgur.com/NVGMmcf.gifv'\n",
      "[imgur][debug] Using ImgurImageExtractor for 'https://i.imgur.com/NVGMmcf.gifv'\n",
      "[urllib3.connectionpool][debug] https://api.imgur.com:443 \"GET /post/v1/media/NVGMmcf?include=media%2Ctags%2Caccount HTTP/1.1\" 200 458\n",
      "[urllib3.connectionpool][debug] https://i.imgur.com:443 \"GET /NVGMmcf.mp4 HTTP/1.1\" 200 6385988\n"
     ]
    },
    {
     "name": "stdout",
     "output_type": "stream",
     "text": [
      "nvme_drive/scraped_files/20220821-003129-reddit/imgur/imgur_NVGMmcf_HOT.mp4\n"
     ]
    },
    {
     "name": "stderr",
     "output_type": "stream",
     "text": [
      "[132/997] https://www.redgifs.com/watch/forestgreenmiserableindigowingedparrot\n",
      "[gallery-dl][debug] Starting DownloadJob for 'https://www.redgifs.com/watch/forestgreenmiserableindigowingedparrot'\n",
      "[redgifs][debug] Using RedgifsImageExtractor for 'https://www.redgifs.com/watch/forestgreenmiserableindigowingedparrot'\n",
      "[urllib3.connectionpool][debug] https://api.redgifs.com:443 \"GET /v2/gifs/forestgreenmiserableindigowingedparrot HTTP/1.1\" 200 None\n",
      "[urllib3.connectionpool][debug] https://thumbs2.redgifs.com:443 \"GET /ForestgreenMiserableIndigowingedparrot.mp4 HTTP/1.1\" 200 51306203\n"
     ]
    },
    {
     "name": "stdout",
     "output_type": "stream",
     "text": [
      "nvme_drive/scraped_files/20220821-003129-reddit/redgifs/redgifs_forestgreenmiserableindigowingedparrot.mp4\n",
      "nvme_drive/scraped_files/20220821-003129-reddit/reddit/z9sxt3ozu7h91.jpg\n"
     ]
    },
    {
     "name": "stderr",
     "output_type": "stream",
     "text": [
      "[133/997] https://i.redd.it/z9sxt3ozu7h91.jpg\n",
      "[gallery-dl][debug] Starting DownloadJob for 'https://i.redd.it/z9sxt3ozu7h91.jpg'\n",
      "[reddit][debug] Using RedditImageExtractor for 'https://i.redd.it/z9sxt3ozu7h91.jpg'\n",
      "[urllib3.connectionpool][debug] https://i.redd.it:443 \"GET /z9sxt3ozu7h91.jpg HTTP/1.1\" 200 235291\n",
      "[134/997] https://i.imgur.com/2S6vCmR.jpg\n",
      "[gallery-dl][debug] Starting DownloadJob for 'https://i.imgur.com/2S6vCmR.jpg'\n",
      "[imgur][debug] Using ImgurImageExtractor for 'https://i.imgur.com/2S6vCmR.jpg'\n",
      "[urllib3.connectionpool][debug] https://api.imgur.com:443 \"GET /post/v1/media/2S6vCmR?include=media%2Ctags%2Caccount HTTP/1.1\" 200 453\n",
      "[urllib3.connectionpool][debug] https://i.imgur.com:443 \"GET /2S6vCmR.jpg HTTP/1.1\" 200 634315\n",
      "[135/997] https://i.imgur.com/yjhvKs3.jpg\n",
      "[gallery-dl][debug] Starting DownloadJob for 'https://i.imgur.com/yjhvKs3.jpg'\n",
      "[imgur][debug] Using ImgurImageExtractor for 'https://i.imgur.com/yjhvKs3.jpg'\n"
     ]
    },
    {
     "name": "stdout",
     "output_type": "stream",
     "text": [
      "nvme_drive/scraped_files/20220821-003129-reddit/imgur/imgur_2S6vCmR_Terrific Titties.jpg\n"
     ]
    },
    {
     "name": "stderr",
     "output_type": "stream",
     "text": [
      "[urllib3.connectionpool][debug] https://api.imgur.com:443 \"GET /post/v1/media/yjhvKs3?include=media%2Ctags%2Caccount HTTP/1.1\" 200 449\n",
      "[urllib3.connectionpool][debug] https://i.imgur.com:443 \"GET /yjhvKs3.jpg HTTP/1.1\" 200 513662\n",
      "[136/997] https://redgifs.com/watch/tintedredindochinahogdeer\n",
      "[gallery-dl][debug] Starting DownloadJob for 'https://redgifs.com/watch/tintedredindochinahogdeer'\n",
      "[redgifs][debug] Using RedgifsImageExtractor for 'https://redgifs.com/watch/tintedredindochinahogdeer'\n",
      "[urllib3.connectionpool][debug] https://api.redgifs.com:443 \"GET /v2/gifs/tintedredindochinahogdeer HTTP/1.1\" 200 None\n"
     ]
    },
    {
     "name": "stdout",
     "output_type": "stream",
     "text": [
      "nvme_drive/scraped_files/20220821-003129-reddit/imgur/imgur_yjhvKs3_Pool Day.jpg\n"
     ]
    },
    {
     "name": "stderr",
     "output_type": "stream",
     "text": [
      "[urllib3.connectionpool][debug] https://thumbs2.redgifs.com:443 \"GET /TintedRedIndochinahogdeer.mp4 HTTP/1.1\" 200 14675224\n"
     ]
    },
    {
     "name": "stdout",
     "output_type": "stream",
     "text": [
      "nvme_drive/scraped_files/20220821-003129-reddit/redgifs/redgifs_tintedredindochinahogdeer.mp4\n"
     ]
    },
    {
     "name": "stderr",
     "output_type": "stream",
     "text": [
      "[137/997] https://i.imgur.com/kyRgxAL.jpg\n",
      "[gallery-dl][debug] Starting DownloadJob for 'https://i.imgur.com/kyRgxAL.jpg'\n",
      "[imgur][debug] Using ImgurImageExtractor for 'https://i.imgur.com/kyRgxAL.jpg'\n",
      "[urllib3.connectionpool][debug] https://api.imgur.com:443 \"GET /post/v1/media/kyRgxAL?include=media%2Ctags%2Caccount HTTP/1.1\" 200 490\n",
      "[urllib3.connectionpool][debug] https://i.imgur.com:443 \"GET /kyRgxAL.jpg HTTP/1.1\" 200 1116722\n"
     ]
    },
    {
     "name": "stdout",
     "output_type": "stream",
     "text": [
      "nvme_drive/scraped_files/20220821-003129-reddit/imgur/imgur_kyRgxAL_Outstanding.jpg\n"
     ]
    },
    {
     "name": "stderr",
     "output_type": "stream",
     "text": [
      "[138/997] https://i.redd.it/9upz0gfqx6d91.gif\n",
      "[gallery-dl][debug] Starting DownloadJob for 'https://i.redd.it/9upz0gfqx6d91.gif'\n",
      "[reddit][debug] Using RedditImageExtractor for 'https://i.redd.it/9upz0gfqx6d91.gif'\n",
      "[urllib3.connectionpool][debug] https://i.redd.it:443 \"GET /9upz0gfqx6d91.gif HTTP/1.1\" 200 1952344\n"
     ]
    },
    {
     "name": "stdout",
     "output_type": "stream",
     "text": [
      "nvme_drive/scraped_files/20220821-003129-reddit/reddit/9upz0gfqx6d91.gif\n"
     ]
    },
    {
     "name": "stderr",
     "output_type": "stream",
     "text": [
      "[139/997] https://redgifs.com/watch/complexrowdyadmiralbutterfly\n",
      "[gallery-dl][debug] Starting DownloadJob for 'https://redgifs.com/watch/complexrowdyadmiralbutterfly'\n",
      "[redgifs][debug] Using RedgifsImageExtractor for 'https://redgifs.com/watch/complexrowdyadmiralbutterfly'\n",
      "[urllib3.connectionpool][debug] https://api.redgifs.com:443 \"GET /v2/gifs/complexrowdyadmiralbutterfly HTTP/1.1\" 200 None\n",
      "[urllib3.connectionpool][debug] https://thumbs2.redgifs.com:443 \"GET /ComplexRowdyAdmiralbutterfly.mp4 HTTP/1.1\" 200 3751652\n"
     ]
    },
    {
     "name": "stdout",
     "output_type": "stream",
     "text": [
      "nvme_drive/scraped_files/20220821-003129-reddit/redgifs/redgifs_complexrowdyadmiralbutterfly.mp4\n",
      "nvme_drive/scraped_files/20220821-003129-reddit/reddit/qj081c4ihve91.jpg\n"
     ]
    },
    {
     "name": "stderr",
     "output_type": "stream",
     "text": [
      "[140/997] https://i.redd.it/qj081c4ihve91.jpg\n",
      "[gallery-dl][debug] Starting DownloadJob for 'https://i.redd.it/qj081c4ihve91.jpg'\n",
      "[reddit][debug] Using RedditImageExtractor for 'https://i.redd.it/qj081c4ihve91.jpg'\n",
      "[urllib3.connectionpool][debug] https://i.redd.it:443 \"GET /qj081c4ihve91.jpg HTTP/1.1\" 200 92780\n",
      "[141/997] https://i.redd.it/pcw9hrpskwg91.gif\n",
      "[gallery-dl][debug] Starting DownloadJob for 'https://i.redd.it/pcw9hrpskwg91.gif'\n",
      "[reddit][debug] Using RedditImageExtractor for 'https://i.redd.it/pcw9hrpskwg91.gif'\n",
      "[urllib3.connectionpool][debug] https://i.redd.it:443 \"GET /pcw9hrpskwg91.gif HTTP/1.1\" 200 18619989\n"
     ]
    },
    {
     "name": "stdout",
     "output_type": "stream",
     "text": [
      "nvme_drive/scraped_files/20220821-003129-reddit/reddit/pcw9hrpskwg91.gif\n",
      "nvme_drive/scraped_files/20220821-003129-reddit/imgur/imgur_7tZOYY9_Solar stripes.jpg\n"
     ]
    },
    {
     "name": "stderr",
     "output_type": "stream",
     "text": [
      "[142/997] https://i.imgur.com/7tZOYY9.jpg\n",
      "[gallery-dl][debug] Starting DownloadJob for 'https://i.imgur.com/7tZOYY9.jpg'\n",
      "[imgur][debug] Using ImgurImageExtractor for 'https://i.imgur.com/7tZOYY9.jpg'\n",
      "[urllib3.connectionpool][debug] https://api.imgur.com:443 \"GET /post/v1/media/7tZOYY9?include=media%2Ctags%2Caccount HTTP/1.1\" 200 477\n",
      "[urllib3.connectionpool][debug] https://i.imgur.com:443 \"GET /7tZOYY9.jpg HTTP/1.1\" 200 130818\n",
      "[143/997] https://redgifs.com/watch/fatallightgrayling\n",
      "[gallery-dl][debug] Starting DownloadJob for 'https://redgifs.com/watch/fatallightgrayling'\n",
      "[redgifs][debug] Using RedgifsImageExtractor for 'https://redgifs.com/watch/fatallightgrayling'\n",
      "[urllib3.connectionpool][debug] https://api.redgifs.com:443 \"GET /v2/gifs/fatallightgrayling HTTP/1.1\" 200 None\n",
      "[urllib3.connectionpool][debug] https://thumbs2.redgifs.com:443 \"GET /FatalLightgrayLing.mp4 HTTP/1.1\" 200 15926746\n"
     ]
    },
    {
     "name": "stdout",
     "output_type": "stream",
     "text": [
      "nvme_drive/scraped_files/20220821-003129-reddit/redgifs/redgifs_fatallightgrayling.mp4\n",
      "nvme_drive/scraped_files/20220821-003129-reddit/reddit/whfvu3difwd91.jpg\n"
     ]
    },
    {
     "name": "stderr",
     "output_type": "stream",
     "text": [
      "[144/997] https://i.redd.it/whfvu3difwd91.jpg\n",
      "[gallery-dl][debug] Starting DownloadJob for 'https://i.redd.it/whfvu3difwd91.jpg'\n",
      "[reddit][debug] Using RedditImageExtractor for 'https://i.redd.it/whfvu3difwd91.jpg'\n",
      "[urllib3.connectionpool][debug] https://i.redd.it:443 \"GET /whfvu3difwd91.jpg HTTP/1.1\" 200 729780\n",
      "[145/997] https://redgifs.com/watch/sociableunlinedamericanquarterhorse\n",
      "[gallery-dl][debug] Starting DownloadJob for 'https://redgifs.com/watch/sociableunlinedamericanquarterhorse'\n",
      "[redgifs][debug] Using RedgifsImageExtractor for 'https://redgifs.com/watch/sociableunlinedamericanquarterhorse'\n",
      "[urllib3.connectionpool][debug] https://api.redgifs.com:443 \"GET /v2/gifs/sociableunlinedamericanquarterhorse HTTP/1.1\" 200 None\n",
      "[urllib3.connectionpool][debug] https://thumbs2.redgifs.com:443 \"GET /SociableUnlinedAmericanquarterhorse.mp4 HTTP/1.1\" 200 3920286\n"
     ]
    },
    {
     "name": "stdout",
     "output_type": "stream",
     "text": [
      "nvme_drive/scraped_files/20220821-003129-reddit/redgifs/redgifs_sociableunlinedamericanquarterhorse.mp4\n"
     ]
    },
    {
     "name": "stderr",
     "output_type": "stream",
     "text": [
      "[146/997] https://i.imgur.com/UOWY7k6.jpg\n",
      "[gallery-dl][debug] Starting DownloadJob for 'https://i.imgur.com/UOWY7k6.jpg'\n",
      "[imgur][debug] Using ImgurImageExtractor for 'https://i.imgur.com/UOWY7k6.jpg'\n",
      "[urllib3.connectionpool][debug] https://api.imgur.com:443 \"GET /post/v1/media/UOWY7k6?include=media%2Ctags%2Caccount HTTP/1.1\" 200 451\n",
      "[urllib3.connectionpool][debug] https://i.imgur.com:443 \"GET /UOWY7k6.jpg HTTP/1.1\" 200 639967\n"
     ]
    },
    {
     "name": "stdout",
     "output_type": "stream",
     "text": [
      "nvme_drive/scraped_files/20220821-003129-reddit/imgur/imgur_UOWY7k6_God Damn.jpg\n",
      "nvme_drive/scraped_files/20220821-003129-reddit/reddit/xkhbn7yjv2h91.jpg\n"
     ]
    },
    {
     "name": "stderr",
     "output_type": "stream",
     "text": [
      "[147/997] https://i.redd.it/xkhbn7yjv2h91.jpg\n",
      "[gallery-dl][debug] Starting DownloadJob for 'https://i.redd.it/xkhbn7yjv2h91.jpg'\n",
      "[reddit][debug] Using RedditImageExtractor for 'https://i.redd.it/xkhbn7yjv2h91.jpg'\n",
      "[urllib3.connectionpool][debug] https://i.redd.it:443 \"GET /xkhbn7yjv2h91.jpg HTTP/1.1\" 200 647613\n",
      "[148/997] https://i.redd.it/nbz0rircw8i91.gif\n",
      "[gallery-dl][debug] Starting DownloadJob for 'https://i.redd.it/nbz0rircw8i91.gif'\n",
      "[reddit][debug] Using RedditImageExtractor for 'https://i.redd.it/nbz0rircw8i91.gif'\n",
      "[urllib3.connectionpool][debug] https://i.redd.it:443 \"GET /nbz0rircw8i91.gif HTTP/1.1\" 200 8019966\n"
     ]
    },
    {
     "name": "stdout",
     "output_type": "stream",
     "text": [
      "nvme_drive/scraped_files/20220821-003129-reddit/reddit/nbz0rircw8i91.gif\n"
     ]
    },
    {
     "name": "stderr",
     "output_type": "stream",
     "text": [
      "[149/997] https://www.redgifs.com/watch/flippantfinishedbergerpicard\n",
      "[gallery-dl][debug] Starting DownloadJob for 'https://www.redgifs.com/watch/flippantfinishedbergerpicard'\n",
      "[redgifs][debug] Using RedgifsImageExtractor for 'https://www.redgifs.com/watch/flippantfinishedbergerpicard'\n",
      "[urllib3.connectionpool][debug] https://api.redgifs.com:443 \"GET /v2/gifs/flippantfinishedbergerpicard HTTP/1.1\" 200 None\n",
      "[urllib3.connectionpool][debug] https://thumbs2.redgifs.com:443 \"GET /FlippantFinishedBergerpicard.mp4 HTTP/1.1\" 200 3424182\n"
     ]
    },
    {
     "name": "stdout",
     "output_type": "stream",
     "text": [
      "nvme_drive/scraped_files/20220821-003129-reddit/redgifs/redgifs_flippantfinishedbergerpicard.mp4\n"
     ]
    },
    {
     "name": "stderr",
     "output_type": "stream",
     "text": [
      "[150/997] https://i.redd.it/ar7kvuef9hf91.gif\n",
      "[gallery-dl][debug] Starting DownloadJob for 'https://i.redd.it/ar7kvuef9hf91.gif'\n",
      "[reddit][debug] Using RedditImageExtractor for 'https://i.redd.it/ar7kvuef9hf91.gif'\n",
      "[urllib3.connectionpool][debug] https://i.redd.it:443 \"GET /ar7kvuef9hf91.gif HTTP/1.1\" 200 4620382\n"
     ]
    },
    {
     "name": "stdout",
     "output_type": "stream",
     "text": [
      "nvme_drive/scraped_files/20220821-003129-reddit/reddit/ar7kvuef9hf91.gif\n",
      "nvme_drive/scraped_files/20220821-003129-reddit/reddit/j0onazpxd0y81.jpg\n",
      "nvme_drive/scraped_files/20220821-003129-reddit/reddit/30c4xqf63bd91.jpg\n"
     ]
    },
    {
     "name": "stderr",
     "output_type": "stream",
     "text": [
      "[151/997] https://i.redd.it/j0onazpxd0y81.jpg\n",
      "[gallery-dl][debug] Starting DownloadJob for 'https://i.redd.it/j0onazpxd0y81.jpg'\n",
      "[reddit][debug] Using RedditImageExtractor for 'https://i.redd.it/j0onazpxd0y81.jpg'\n",
      "[urllib3.connectionpool][debug] https://i.redd.it:443 \"GET /j0onazpxd0y81.jpg HTTP/1.1\" 200 49113\n",
      "[152/997] https://i.redd.it/30c4xqf63bd91.jpg\n",
      "[gallery-dl][debug] Starting DownloadJob for 'https://i.redd.it/30c4xqf63bd91.jpg'\n",
      "[reddit][debug] Using RedditImageExtractor for 'https://i.redd.it/30c4xqf63bd91.jpg'\n",
      "[urllib3.connectionpool][debug] https://i.redd.it:443 \"GET /30c4xqf63bd91.jpg HTTP/1.1\" 200 608925\n",
      "[153/997] https://i.redd.it/bjynl6fks5h91.gif\n",
      "[gallery-dl][debug] Starting DownloadJob for 'https://i.redd.it/bjynl6fks5h91.gif'\n",
      "[reddit][debug] Using RedditImageExtractor for 'https://i.redd.it/bjynl6fks5h91.gif'\n",
      "[urllib3.connectionpool][debug] https://i.redd.it:443 \"GET /bjynl6fks5h91.gif HTTP/1.1\" 200 1228369\n"
     ]
    },
    {
     "name": "stdout",
     "output_type": "stream",
     "text": [
      "nvme_drive/scraped_files/20220821-003129-reddit/reddit/bjynl6fks5h91.gif\n"
     ]
    },
    {
     "name": "stderr",
     "output_type": "stream",
     "text": [
      "[154/997] https://i.redd.it/f00hiu19q8f91.jpg\n",
      "[gallery-dl][debug] Starting DownloadJob for 'https://i.redd.it/f00hiu19q8f91.jpg'\n",
      "[reddit][debug] Using RedditImageExtractor for 'https://i.redd.it/f00hiu19q8f91.jpg'\n",
      "[urllib3.connectionpool][debug] https://i.redd.it:443 \"GET /f00hiu19q8f91.jpg HTTP/1.1\" 200 5301252\n"
     ]
    },
    {
     "name": "stdout",
     "output_type": "stream",
     "text": [
      "nvme_drive/scraped_files/20220821-003129-reddit/reddit/f00hiu19q8f91.jpg\n"
     ]
    },
    {
     "name": "stderr",
     "output_type": "stream",
     "text": [
      "[155/997] https://i.redd.it/n28bzqutnod91.gif\n",
      "[gallery-dl][debug] Starting DownloadJob for 'https://i.redd.it/n28bzqutnod91.gif'\n",
      "[reddit][debug] Using RedditImageExtractor for 'https://i.redd.it/n28bzqutnod91.gif'\n",
      "[urllib3.connectionpool][debug] https://i.redd.it:443 \"GET /n28bzqutnod91.gif HTTP/1.1\" 200 1859990\n"
     ]
    },
    {
     "name": "stdout",
     "output_type": "stream",
     "text": [
      "nvme_drive/scraped_files/20220821-003129-reddit/reddit/n28bzqutnod91.gif\n"
     ]
    },
    {
     "name": "stderr",
     "output_type": "stream",
     "text": [
      "[156/997] https://i.redd.it/v61dosiao5g91.jpg\n",
      "[gallery-dl][debug] Starting DownloadJob for 'https://i.redd.it/v61dosiao5g91.jpg'\n",
      "[reddit][debug] Using RedditImageExtractor for 'https://i.redd.it/v61dosiao5g91.jpg'\n",
      "[urllib3.connectionpool][debug] https://i.redd.it:443 \"GET /v61dosiao5g91.jpg HTTP/1.1\" 200 1086976\n"
     ]
    },
    {
     "name": "stdout",
     "output_type": "stream",
     "text": [
      "nvme_drive/scraped_files/20220821-003129-reddit/reddit/v61dosiao5g91.jpg\n",
      "nvme_drive/scraped_files/20220821-003129-reddit/reddit/tsr8ipsnuhd91.jpg\n",
      "nvme_drive/scraped_files/20220821-003129-reddit/reddit/z911s0y9bxh91.jpg\n"
     ]
    },
    {
     "name": "stderr",
     "output_type": "stream",
     "text": [
      "[157/997] https://i.redd.it/tsr8ipsnuhd91.jpg\n",
      "[gallery-dl][debug] Starting DownloadJob for 'https://i.redd.it/tsr8ipsnuhd91.jpg'\n",
      "[reddit][debug] Using RedditImageExtractor for 'https://i.redd.it/tsr8ipsnuhd91.jpg'\n",
      "[urllib3.connectionpool][debug] https://i.redd.it:443 \"GET /tsr8ipsnuhd91.jpg HTTP/1.1\" 200 406762\n",
      "[158/997] https://i.redd.it/z911s0y9bxh91.jpg\n",
      "[gallery-dl][debug] Starting DownloadJob for 'https://i.redd.it/z911s0y9bxh91.jpg'\n",
      "[reddit][debug] Using RedditImageExtractor for 'https://i.redd.it/z911s0y9bxh91.jpg'\n",
      "[urllib3.connectionpool][debug] https://i.redd.it:443 \"GET /z911s0y9bxh91.jpg HTTP/1.1\" 200 34518\n",
      "[159/997] https://i.imgur.com/vFtL0A1.gifv\n",
      "[gallery-dl][debug] Starting DownloadJob for 'https://i.imgur.com/vFtL0A1.gifv'\n",
      "[imgur][debug] Using ImgurImageExtractor for 'https://i.imgur.com/vFtL0A1.gifv'\n",
      "[urllib3.connectionpool][debug] https://api.imgur.com:443 \"GET /post/v1/media/vFtL0A1?include=media%2Ctags%2Caccount HTTP/1.1\" 200 462\n",
      "[urllib3.connectionpool][debug] https://i.imgur.com:443 \"GET /vFtL0A1.mp4 HTTP/1.1\" 200 3315157\n"
     ]
    },
    {
     "name": "stdout",
     "output_type": "stream",
     "text": [
      "nvme_drive/scraped_files/20220821-003129-reddit/imgur/imgur_vFtL0A1_a good stretch.mp4\n"
     ]
    },
    {
     "name": "stderr",
     "output_type": "stream",
     "text": [
      "[160/997] https://redgifs.com/watch/forthrightadventurousdiscus\n",
      "[gallery-dl][debug] Starting DownloadJob for 'https://redgifs.com/watch/forthrightadventurousdiscus'\n",
      "[redgifs][debug] Using RedgifsImageExtractor for 'https://redgifs.com/watch/forthrightadventurousdiscus'\n",
      "[urllib3.connectionpool][debug] https://api.redgifs.com:443 \"GET /v2/gifs/forthrightadventurousdiscus HTTP/1.1\" 200 None\n",
      "[urllib3.connectionpool][debug] https://thumbs2.redgifs.com:443 \"GET /ForthrightAdventurousDiscus.mp4 HTTP/1.1\" 200 3565269\n"
     ]
    },
    {
     "name": "stdout",
     "output_type": "stream",
     "text": [
      "nvme_drive/scraped_files/20220821-003129-reddit/redgifs/redgifs_forthrightadventurousdiscus.mp4\n"
     ]
    },
    {
     "name": "stderr",
     "output_type": "stream",
     "text": [
      "[161/997] https://www.redgifs.com/watch/mediumorchidtautamericanshorthair\n",
      "[gallery-dl][debug] Starting DownloadJob for 'https://www.redgifs.com/watch/mediumorchidtautamericanshorthair'\n",
      "[redgifs][debug] Using RedgifsImageExtractor for 'https://www.redgifs.com/watch/mediumorchidtautamericanshorthair'\n",
      "[urllib3.connectionpool][debug] https://api.redgifs.com:443 \"GET /v2/gifs/mediumorchidtautamericanshorthair HTTP/1.1\" 200 None\n",
      "[urllib3.connectionpool][debug] https://thumbs2.redgifs.com:443 \"GET /MediumorchidTautAmericanshorthair.mp4 HTTP/1.1\" 200 33170425\n"
     ]
    },
    {
     "name": "stdout",
     "output_type": "stream",
     "text": [
      "nvme_drive/scraped_files/20220821-003129-reddit/redgifs/redgifs_mediumorchidtautamericanshorthair.mp4\n",
      "nvme_drive/scraped_files/20220821-003129-reddit/reddit/vqfdpqwro8f91.gif\n"
     ]
    },
    {
     "name": "stderr",
     "output_type": "stream",
     "text": [
      "[162/997] https://i.redd.it/vqfdpqwro8f91.gif\n",
      "[gallery-dl][debug] Starting DownloadJob for 'https://i.redd.it/vqfdpqwro8f91.gif'\n",
      "[reddit][debug] Using RedditImageExtractor for 'https://i.redd.it/vqfdpqwro8f91.gif'\n",
      "[urllib3.connectionpool][debug] https://i.redd.it:443 \"GET /vqfdpqwro8f91.gif HTTP/1.1\" 200 559346\n",
      "[163/997] https://redgifs.com/watch/medicaloptimisticstinkbug\n",
      "[gallery-dl][debug] Starting DownloadJob for 'https://redgifs.com/watch/medicaloptimisticstinkbug'\n",
      "[redgifs][debug] Using RedgifsImageExtractor for 'https://redgifs.com/watch/medicaloptimisticstinkbug'\n",
      "[urllib3.connectionpool][debug] https://api.redgifs.com:443 \"GET /v2/gifs/medicaloptimisticstinkbug HTTP/1.1\" 200 None\n",
      "[urllib3.connectionpool][debug] https://thumbs2.redgifs.com:443 \"GET /MedicalOptimisticStinkbug.mp4 HTTP/1.1\" 200 17475149\n"
     ]
    },
    {
     "name": "stdout",
     "output_type": "stream",
     "text": [
      "nvme_drive/scraped_files/20220821-003129-reddit/redgifs/redgifs_medicaloptimisticstinkbug.mp4\n"
     ]
    },
    {
     "name": "stderr",
     "output_type": "stream",
     "text": [
      "[164/997] https://redgifs.com/watch/weepymeatydunnart\n",
      "[gallery-dl][debug] Starting DownloadJob for 'https://redgifs.com/watch/weepymeatydunnart'\n",
      "[redgifs][debug] Using RedgifsImageExtractor for 'https://redgifs.com/watch/weepymeatydunnart'\n",
      "[urllib3.connectionpool][debug] https://api.redgifs.com:443 \"GET /v2/gifs/weepymeatydunnart HTTP/1.1\" 200 None\n",
      "[urllib3.connectionpool][debug] https://thumbs2.redgifs.com:443 \"GET /WeepyMeatyDunnart.mp4 HTTP/1.1\" 200 5522046\n"
     ]
    },
    {
     "name": "stdout",
     "output_type": "stream",
     "text": [
      "nvme_drive/scraped_files/20220821-003129-reddit/redgifs/redgifs_weepymeatydunnart.mp4\n"
     ]
    },
    {
     "name": "stderr",
     "output_type": "stream",
     "text": [
      "[165/997] https://redgifs.com/watch/unsteadyalarmingsloth\n",
      "[gallery-dl][debug] Starting DownloadJob for 'https://redgifs.com/watch/unsteadyalarmingsloth'\n",
      "[redgifs][debug] Using RedgifsImageExtractor for 'https://redgifs.com/watch/unsteadyalarmingsloth'\n",
      "[urllib3.connectionpool][debug] https://api.redgifs.com:443 \"GET /v2/gifs/unsteadyalarmingsloth HTTP/1.1\" 200 None\n",
      "[urllib3.connectionpool][debug] https://thumbs2.redgifs.com:443 \"GET /UnsteadyAlarmingSloth.mp4 HTTP/1.1\" 200 50430123\n"
     ]
    },
    {
     "name": "stdout",
     "output_type": "stream",
     "text": [
      "nvme_drive/scraped_files/20220821-003129-reddit/redgifs/redgifs_unsteadyalarmingsloth.mp4\n"
     ]
    },
    {
     "name": "stderr",
     "output_type": "stream",
     "text": [
      "[166/997] https://redgifs.com/watch/drearysubduedantbear\n",
      "[gallery-dl][debug] Starting DownloadJob for 'https://redgifs.com/watch/drearysubduedantbear'\n",
      "[redgifs][debug] Using RedgifsImageExtractor for 'https://redgifs.com/watch/drearysubduedantbear'\n",
      "[urllib3.connectionpool][debug] https://api.redgifs.com:443 \"GET /v2/gifs/drearysubduedantbear HTTP/1.1\" 200 None\n",
      "[urllib3.connectionpool][debug] https://thumbs2.redgifs.com:443 \"GET /DrearySubduedAntbear.mp4 HTTP/1.1\" 200 5988532\n"
     ]
    },
    {
     "name": "stdout",
     "output_type": "stream",
     "text": [
      "nvme_drive/scraped_files/20220821-003129-reddit/redgifs/redgifs_drearysubduedantbear.mp4\n"
     ]
    },
    {
     "name": "stderr",
     "output_type": "stream",
     "text": [
      "[167/997] https://redgifs.com/watch/realisticrosydodo\n",
      "[gallery-dl][debug] Starting DownloadJob for 'https://redgifs.com/watch/realisticrosydodo'\n",
      "[redgifs][debug] Using RedgifsImageExtractor for 'https://redgifs.com/watch/realisticrosydodo'\n",
      "[urllib3.connectionpool][debug] https://api.redgifs.com:443 \"GET /v2/gifs/realisticrosydodo HTTP/1.1\" 200 None\n",
      "[urllib3.connectionpool][debug] https://thumbs2.redgifs.com:443 \"GET /RealisticRosyDodo.mp4 HTTP/1.1\" 200 14173386\n"
     ]
    },
    {
     "name": "stdout",
     "output_type": "stream",
     "text": [
      "nvme_drive/scraped_files/20220821-003129-reddit/redgifs/redgifs_realisticrosydodo.mp4\n",
      "nvme_drive/scraped_files/20220821-003129-reddit/reddit/pc2zpobhcag91.jpg\n"
     ]
    },
    {
     "name": "stderr",
     "output_type": "stream",
     "text": [
      "[168/997] https://i.redd.it/pc2zpobhcag91.jpg\n",
      "[gallery-dl][debug] Starting DownloadJob for 'https://i.redd.it/pc2zpobhcag91.jpg'\n",
      "[reddit][debug] Using RedditImageExtractor for 'https://i.redd.it/pc2zpobhcag91.jpg'\n",
      "[urllib3.connectionpool][debug] https://i.redd.it:443 \"GET /pc2zpobhcag91.jpg HTTP/1.1\" 200 73863\n",
      "[169/997] https://i.imgur.com/RsA0kDb.gifv\n",
      "[gallery-dl][debug] Starting DownloadJob for 'https://i.imgur.com/RsA0kDb.gifv'\n",
      "[imgur][debug] Using ImgurImageExtractor for 'https://i.imgur.com/RsA0kDb.gifv'\n",
      "[urllib3.connectionpool][debug] https://api.imgur.com:443 \"GET /post/v1/media/RsA0kDb?include=media%2Ctags%2Caccount HTTP/1.1\" 200 462\n",
      "[urllib3.connectionpool][debug] https://i.imgur.com:443 \"GET /RsA0kDb.mp4 HTTP/1.1\" 200 6923408\n"
     ]
    },
    {
     "name": "stdout",
     "output_type": "stream",
     "text": [
      "nvme_drive/scraped_files/20220821-003129-reddit/imgur/imgur_RsA0kDb_Bedroom moves.mp4\n"
     ]
    },
    {
     "name": "stderr",
     "output_type": "stream",
     "text": [
      "[170/997] https://redgifs.com/watch/straightlividtakin\n",
      "[gallery-dl][debug] Starting DownloadJob for 'https://redgifs.com/watch/straightlividtakin'\n",
      "[redgifs][debug] Using RedgifsImageExtractor for 'https://redgifs.com/watch/straightlividtakin'\n",
      "[urllib3.connectionpool][debug] https://api.redgifs.com:443 \"GET /v2/gifs/straightlividtakin HTTP/1.1\" 200 None\n",
      "[urllib3.connectionpool][debug] https://thumbs2.redgifs.com:443 \"GET /StraightLividTakin.mp4 HTTP/1.1\" 200 30172778\n"
     ]
    },
    {
     "name": "stdout",
     "output_type": "stream",
     "text": [
      "nvme_drive/scraped_files/20220821-003129-reddit/redgifs/redgifs_straightlividtakin.mp4\n"
     ]
    },
    {
     "name": "stderr",
     "output_type": "stream",
     "text": [
      "[171/997] https://i.redd.it/55jfldmhz8e91.gif\n",
      "[gallery-dl][debug] Starting DownloadJob for 'https://i.redd.it/55jfldmhz8e91.gif'\n",
      "[reddit][debug] Using RedditImageExtractor for 'https://i.redd.it/55jfldmhz8e91.gif'\n",
      "[urllib3.connectionpool][debug] https://i.redd.it:443 \"GET /55jfldmhz8e91.gif HTTP/1.1\" 200 2310072\n"
     ]
    },
    {
     "name": "stdout",
     "output_type": "stream",
     "text": [
      "nvme_drive/scraped_files/20220821-003129-reddit/reddit/55jfldmhz8e91.gif\n",
      "nvme_drive/scraped_files/20220821-003129-reddit/imgur/imgur_qpRkqnQ_Gorgeous.jpg\n"
     ]
    },
    {
     "name": "stderr",
     "output_type": "stream",
     "text": [
      "[172/997] https://i.imgur.com/qpRkqnQ.jpg\n",
      "[gallery-dl][debug] Starting DownloadJob for 'https://i.imgur.com/qpRkqnQ.jpg'\n",
      "[imgur][debug] Using ImgurImageExtractor for 'https://i.imgur.com/qpRkqnQ.jpg'\n",
      "[urllib3.connectionpool][debug] https://api.imgur.com:443 \"GET /post/v1/media/qpRkqnQ?include=media%2Ctags%2Caccount HTTP/1.1\" 200 447\n",
      "[urllib3.connectionpool][debug] https://i.imgur.com:443 \"GET /qpRkqnQ.jpg HTTP/1.1\" 200 303151\n",
      "[173/997] https://www.redgifs.com/watch/animatedwearydorado\n",
      "[gallery-dl][debug] Starting DownloadJob for 'https://www.redgifs.com/watch/animatedwearydorado'\n",
      "[redgifs][debug] Using RedgifsImageExtractor for 'https://www.redgifs.com/watch/animatedwearydorado'\n",
      "[urllib3.connectionpool][debug] https://api.redgifs.com:443 \"GET /v2/gifs/animatedwearydorado HTTP/1.1\" 200 None\n",
      "[urllib3.connectionpool][debug] https://thumbs2.redgifs.com:443 \"GET /AnimatedWearyDorado.mp4 HTTP/1.1\" 200 32427650\n"
     ]
    },
    {
     "name": "stdout",
     "output_type": "stream",
     "text": [
      "nvme_drive/scraped_files/20220821-003129-reddit/redgifs/redgifs_animatedwearydorado.mp4\n",
      "nvme_drive/scraped_files/20220821-003129-reddit/reddit/8euy3kibx7w81.jpg\n",
      "nvme_drive/scraped_files/20220821-003129-reddit/reddit/6nfaz92485f91.jpg\n"
     ]
    },
    {
     "name": "stderr",
     "output_type": "stream",
     "text": [
      "[174/997] https://i.redd.it/8euy3kibx7w81.jpg\n",
      "[gallery-dl][debug] Starting DownloadJob for 'https://i.redd.it/8euy3kibx7w81.jpg'\n",
      "[reddit][debug] Using RedditImageExtractor for 'https://i.redd.it/8euy3kibx7w81.jpg'\n",
      "[urllib3.connectionpool][debug] https://i.redd.it:443 \"GET /8euy3kibx7w81.jpg HTTP/1.1\" 200 213577\n",
      "[175/997] https://i.redd.it/6nfaz92485f91.jpg\n",
      "[gallery-dl][debug] Starting DownloadJob for 'https://i.redd.it/6nfaz92485f91.jpg'\n",
      "[reddit][debug] Using RedditImageExtractor for 'https://i.redd.it/6nfaz92485f91.jpg'\n",
      "[urllib3.connectionpool][debug] https://i.redd.it:443 \"GET /6nfaz92485f91.jpg HTTP/1.1\" 200 755338\n",
      "[176/997] https://i.redd.it/sjesklz5f1e91.jpg\n",
      "[gallery-dl][debug] Starting DownloadJob for 'https://i.redd.it/sjesklz5f1e91.jpg'\n",
      "[reddit][debug] Using RedditImageExtractor for 'https://i.redd.it/sjesklz5f1e91.jpg'\n",
      "[urllib3.connectionpool][debug] https://i.redd.it:443 \"GET /sjesklz5f1e91.jpg HTTP/1.1\" 200 2920681\n"
     ]
    },
    {
     "name": "stdout",
     "output_type": "stream",
     "text": [
      "nvme_drive/scraped_files/20220821-003129-reddit/reddit/sjesklz5f1e91.jpg\n",
      "nvme_drive/scraped_files/20220821-003129-reddit/reddit/5ytobspobni91.jpg\n"
     ]
    },
    {
     "name": "stderr",
     "output_type": "stream",
     "text": [
      "[177/997] https://i.redd.it/5ytobspobni91.jpg\n",
      "[gallery-dl][debug] Starting DownloadJob for 'https://i.redd.it/5ytobspobni91.jpg'\n",
      "[reddit][debug] Using RedditImageExtractor for 'https://i.redd.it/5ytobspobni91.jpg'\n",
      "[urllib3.connectionpool][debug] https://i.redd.it:443 \"GET /5ytobspobni91.jpg HTTP/1.1\" 200 128933\n",
      "[178/997] https://redgifs.com/watch/bigheartedorganicaustralianfurseal\n",
      "[gallery-dl][debug] Starting DownloadJob for 'https://redgifs.com/watch/bigheartedorganicaustralianfurseal'\n",
      "[redgifs][debug] Using RedgifsImageExtractor for 'https://redgifs.com/watch/bigheartedorganicaustralianfurseal'\n",
      "[urllib3.connectionpool][debug] https://api.redgifs.com:443 \"GET /v2/gifs/bigheartedorganicaustralianfurseal HTTP/1.1\" 200 None\n",
      "[urllib3.connectionpool][debug] https://thumbs2.redgifs.com:443 \"GET /BigheartedOrganicAustralianfurseal.mp4 HTTP/1.1\" 200 14278209\n"
     ]
    },
    {
     "name": "stdout",
     "output_type": "stream",
     "text": [
      "nvme_drive/scraped_files/20220821-003129-reddit/redgifs/redgifs_bigheartedorganicaustralianfurseal.mp4\n"
     ]
    },
    {
     "name": "stderr",
     "output_type": "stream",
     "text": [
      "[179/997] https://i.imgur.com/3qHWxW4.jpg\n",
      "[gallery-dl][debug] Starting DownloadJob for 'https://i.imgur.com/3qHWxW4.jpg'\n",
      "[imgur][debug] Using ImgurImageExtractor for 'https://i.imgur.com/3qHWxW4.jpg'\n",
      "[urllib3.connectionpool][debug] https://api.imgur.com:443 \"GET /post/v1/media/3qHWxW4?include=media%2Ctags%2Caccount HTTP/1.1\" 200 450\n",
      "[urllib3.connectionpool][debug] https://i.imgur.com:443 \"GET /3qHWxW4.jpg HTTP/1.1\" 200 920065\n"
     ]
    },
    {
     "name": "stdout",
     "output_type": "stream",
     "text": [
      "nvme_drive/scraped_files/20220821-003129-reddit/imgur/imgur_3qHWxW4_Hot as hell.jpg\n"
     ]
    },
    {
     "name": "stderr",
     "output_type": "stream",
     "text": [
      "[180/997] https://i.imgur.com/RFMpuea.jpg\n",
      "[gallery-dl][debug] Starting DownloadJob for 'https://i.imgur.com/RFMpuea.jpg'\n",
      "[imgur][debug] Using ImgurImageExtractor for 'https://i.imgur.com/RFMpuea.jpg'\n",
      "[urllib3.connectionpool][debug] https://api.imgur.com:443 \"GET /post/v1/media/RFMpuea?include=media%2Ctags%2Caccount HTTP/1.1\" 200 445\n",
      "[urllib3.connectionpool][debug] https://i.imgur.com:443 \"GET /RFMpuea.jpg HTTP/1.1\" 200 927972\n"
     ]
    },
    {
     "name": "stdout",
     "output_type": "stream",
     "text": [
      "nvme_drive/scraped_files/20220821-003129-reddit/imgur/imgur_RFMpuea_Fay.jpg\n"
     ]
    },
    {
     "name": "stderr",
     "output_type": "stream",
     "text": [
      "[181/997] https://redgifs.com/watch/wrongglassamericancrow\n",
      "[gallery-dl][debug] Starting DownloadJob for 'https://redgifs.com/watch/wrongglassamericancrow'\n",
      "[redgifs][debug] Using RedgifsImageExtractor for 'https://redgifs.com/watch/wrongglassamericancrow'\n",
      "[urllib3.connectionpool][debug] https://api.redgifs.com:443 \"GET /v2/gifs/wrongglassamericancrow HTTP/1.1\" 200 None\n",
      "[urllib3.connectionpool][debug] https://thumbs2.redgifs.com:443 \"GET /WrongGlassAmericancrow.mp4 HTTP/1.1\" 200 7008248\n"
     ]
    },
    {
     "name": "stdout",
     "output_type": "stream",
     "text": [
      "nvme_drive/scraped_files/20220821-003129-reddit/redgifs/redgifs_wrongglassamericancrow.mp4\n"
     ]
    },
    {
     "name": "stderr",
     "output_type": "stream",
     "text": [
      "[182/997] https://i.imgur.com/6asa5TW.jpg\n",
      "[gallery-dl][debug] Starting DownloadJob for 'https://i.imgur.com/6asa5TW.jpg'\n",
      "[imgur][debug] Using ImgurImageExtractor for 'https://i.imgur.com/6asa5TW.jpg'\n",
      "[urllib3.connectionpool][debug] https://api.imgur.com:443 \"GET /post/v1/media/6asa5TW?include=media%2Ctags%2Caccount HTTP/1.1\" 200 444\n",
      "[urllib3.connectionpool][debug] https://i.imgur.com:443 \"GET /6asa5TW.jpg HTTP/1.1\" 200 846832\n"
     ]
    },
    {
     "name": "stdout",
     "output_type": "stream",
     "text": [
      "nvme_drive/scraped_files/20220821-003129-reddit/imgur/imgur_6asa5TW_Selti.jpg\n",
      "nvme_drive/scraped_files/20220821-003129-reddit/reddit/s175mb45xag91.jpg\n"
     ]
    },
    {
     "name": "stderr",
     "output_type": "stream",
     "text": [
      "[183/997] https://i.redd.it/s175mb45xag91.jpg\n",
      "[gallery-dl][debug] Starting DownloadJob for 'https://i.redd.it/s175mb45xag91.jpg'\n",
      "[reddit][debug] Using RedditImageExtractor for 'https://i.redd.it/s175mb45xag91.jpg'\n",
      "[urllib3.connectionpool][debug] https://i.redd.it:443 \"GET /s175mb45xag91.jpg HTTP/1.1\" 200 145204\n",
      "[184/997] https://i.redd.it/9kajrtsz6mi91.jpg\n",
      "[gallery-dl][debug] Starting DownloadJob for 'https://i.redd.it/9kajrtsz6mi91.jpg'\n",
      "[reddit][debug] Using RedditImageExtractor for 'https://i.redd.it/9kajrtsz6mi91.jpg'\n",
      "[urllib3.connectionpool][debug] https://i.redd.it:443 \"GET /9kajrtsz6mi91.jpg HTTP/1.1\" 200 2549491\n"
     ]
    },
    {
     "name": "stdout",
     "output_type": "stream",
     "text": [
      "nvme_drive/scraped_files/20220821-003129-reddit/reddit/9kajrtsz6mi91.jpg\n"
     ]
    },
    {
     "name": "stderr",
     "output_type": "stream",
     "text": [
      "[185/997] https://redgifs.com/watch/monumentalsteelindianjackal\n",
      "[gallery-dl][debug] Starting DownloadJob for 'https://redgifs.com/watch/monumentalsteelindianjackal'\n",
      "[redgifs][debug] Using RedgifsImageExtractor for 'https://redgifs.com/watch/monumentalsteelindianjackal'\n",
      "[urllib3.connectionpool][debug] https://api.redgifs.com:443 \"GET /v2/gifs/monumentalsteelindianjackal HTTP/1.1\" 200 None\n",
      "[urllib3.connectionpool][debug] https://thumbs2.redgifs.com:443 \"GET /MonumentalSteelIndianjackal.mp4 HTTP/1.1\" 200 4650096\n"
     ]
    },
    {
     "name": "stdout",
     "output_type": "stream",
     "text": [
      "nvme_drive/scraped_files/20220821-003129-reddit/redgifs/redgifs_monumentalsteelindianjackal.mp4\n",
      "nvme_drive/scraped_files/20220821-003129-reddit/reddit/l1cujjuw2kd91.gif\n",
      "nvme_drive/scraped_files/20220821-003129-reddit/reddit/7t059ftk3ii91.jpg\n"
     ]
    },
    {
     "name": "stderr",
     "output_type": "stream",
     "text": [
      "[186/997] https://i.redd.it/l1cujjuw2kd91.gif\n",
      "[gallery-dl][debug] Starting DownloadJob for 'https://i.redd.it/l1cujjuw2kd91.gif'\n",
      "[reddit][debug] Using RedditImageExtractor for 'https://i.redd.it/l1cujjuw2kd91.gif'\n",
      "[urllib3.connectionpool][debug] https://i.redd.it:443 \"GET /l1cujjuw2kd91.gif HTTP/1.1\" 200 235047\n",
      "[187/997] https://i.redd.it/7t059ftk3ii91.jpg\n",
      "[gallery-dl][debug] Starting DownloadJob for 'https://i.redd.it/7t059ftk3ii91.jpg'\n",
      "[reddit][debug] Using RedditImageExtractor for 'https://i.redd.it/7t059ftk3ii91.jpg'\n",
      "[urllib3.connectionpool][debug] https://i.redd.it:443 \"GET /7t059ftk3ii91.jpg HTTP/1.1\" 200 229973\n",
      "[188/997] https://redgifs.com/watch/surefootedlopsidedzebraswallowtailbutterfly\n",
      "[gallery-dl][debug] Starting DownloadJob for 'https://redgifs.com/watch/surefootedlopsidedzebraswallowtailbutterfly'\n",
      "[redgifs][debug] Using RedgifsImageExtractor for 'https://redgifs.com/watch/surefootedlopsidedzebraswallowtailbutterfly'\n",
      "[urllib3.connectionpool][debug] https://api.redgifs.com:443 \"GET /v2/gifs/surefootedlopsidedzebraswallowtailbutterfly HTTP/1.1\" 200 None\n",
      "[urllib3.connectionpool][debug] https://thumbs2.redgifs.com:443 \"GET /SurefootedLopsidedZebraswallowtailbutterfly.mp4 HTTP/1.1\" 200 19950762\n"
     ]
    },
    {
     "name": "stdout",
     "output_type": "stream",
     "text": [
      "nvme_drive/scraped_files/20220821-003129-reddit/redgifs/redgifs_surefootedlopsidedzebraswallowtailbutterfly.mp4\n",
      "nvme_drive/scraped_files/20220821-003129-reddit/reddit/h33tw44y2tf91.jpg\n"
     ]
    },
    {
     "name": "stderr",
     "output_type": "stream",
     "text": [
      "[189/997] https://i.redd.it/h33tw44y2tf91.jpg\n",
      "[gallery-dl][debug] Starting DownloadJob for 'https://i.redd.it/h33tw44y2tf91.jpg'\n",
      "[reddit][debug] Using RedditImageExtractor for 'https://i.redd.it/h33tw44y2tf91.jpg'\n",
      "[urllib3.connectionpool][debug] https://i.redd.it:443 \"GET /h33tw44y2tf91.jpg HTTP/1.1\" 200 227964\n",
      "[190/997] https://redgifs.com/watch/insecureagonizingbrocketdeer\n",
      "[gallery-dl][debug] Starting DownloadJob for 'https://redgifs.com/watch/insecureagonizingbrocketdeer'\n",
      "[redgifs][debug] Using RedgifsImageExtractor for 'https://redgifs.com/watch/insecureagonizingbrocketdeer'\n",
      "[urllib3.connectionpool][debug] https://api.redgifs.com:443 \"GET /v2/gifs/insecureagonizingbrocketdeer HTTP/1.1\" 200 None\n",
      "[urllib3.connectionpool][debug] https://thumbs2.redgifs.com:443 \"GET /InsecureAgonizingBrocketdeer.mp4 HTTP/1.1\" 200 17757733\n"
     ]
    },
    {
     "name": "stdout",
     "output_type": "stream",
     "text": [
      "nvme_drive/scraped_files/20220821-003129-reddit/redgifs/redgifs_insecureagonizingbrocketdeer.mp4\n"
     ]
    },
    {
     "name": "stderr",
     "output_type": "stream",
     "text": [
      "[191/997] https://i.redd.it/pl1c9fcku6h91.gif\n",
      "[gallery-dl][debug] Starting DownloadJob for 'https://i.redd.it/pl1c9fcku6h91.gif'\n",
      "[reddit][debug] Using RedditImageExtractor for 'https://i.redd.it/pl1c9fcku6h91.gif'\n",
      "[urllib3.connectionpool][debug] https://i.redd.it:443 \"GET /pl1c9fcku6h91.gif HTTP/1.1\" 200 2988061\n"
     ]
    },
    {
     "name": "stdout",
     "output_type": "stream",
     "text": [
      "nvme_drive/scraped_files/20220821-003129-reddit/reddit/pl1c9fcku6h91.gif\n"
     ]
    },
    {
     "name": "stderr",
     "output_type": "stream",
     "text": [
      "[192/997] https://i.imgur.com/EoD2zKQ.jpg\n",
      "[gallery-dl][debug] Starting DownloadJob for 'https://i.imgur.com/EoD2zKQ.jpg'\n",
      "[imgur][debug] Using ImgurImageExtractor for 'https://i.imgur.com/EoD2zKQ.jpg'\n",
      "[urllib3.connectionpool][debug] https://api.imgur.com:443 \"GET /post/v1/media/EoD2zKQ?include=media%2Ctags%2Caccount HTTP/1.1\" 200 460\n",
      "[urllib3.connectionpool][debug] https://i.imgur.com:443 \"GET /EoD2zKQ.jpg HTTP/1.1\" 200 266660\n"
     ]
    },
    {
     "name": "stdout",
     "output_type": "stream",
     "text": [
      "nvme_drive/scraped_files/20220821-003129-reddit/imgur/imgur_EoD2zKQ_Looking slightly dazed.jpg\n"
     ]
    },
    {
     "name": "stderr",
     "output_type": "stream",
     "text": [
      "[193/997] https://i.imgur.com/Le99uPX.jpg\n",
      "[gallery-dl][debug] Starting DownloadJob for 'https://i.imgur.com/Le99uPX.jpg'\n",
      "[imgur][debug] Using ImgurImageExtractor for 'https://i.imgur.com/Le99uPX.jpg'\n",
      "[urllib3.connectionpool][debug] https://api.imgur.com:443 \"GET /post/v1/media/Le99uPX?include=media%2Ctags%2Caccount HTTP/1.1\" 200 472\n",
      "[urllib3.connectionpool][debug] https://i.imgur.com:443 \"GET /Le99uPX.jpg HTTP/1.1\" 200 107694\n",
      "[194/997] https://i.imgur.com/zOQzylv.jpg\n",
      "[gallery-dl][debug] Starting DownloadJob for 'https://i.imgur.com/zOQzylv.jpg'\n",
      "[imgur][debug] Using ImgurImageExtractor for 'https://i.imgur.com/zOQzylv.jpg'\n"
     ]
    },
    {
     "name": "stdout",
     "output_type": "stream",
     "text": [
      "nvme_drive/scraped_files/20220821-003129-reddit/imgur/imgur_Le99uPX_Large breasted beauty.jpg\n"
     ]
    },
    {
     "name": "stderr",
     "output_type": "stream",
     "text": [
      "[urllib3.connectionpool][debug] https://api.imgur.com:443 \"GET /post/v1/media/zOQzylv?include=media%2Ctags%2Caccount HTTP/1.1\" 200 483\n",
      "[urllib3.connectionpool][debug] https://i.imgur.com:443 \"GET /zOQzylv.jpg HTTP/1.1\" 200 803880\n",
      "[195/997] https://i.redd.it/46ft8pstwli91.gif\n",
      "[gallery-dl][debug] Starting DownloadJob for 'https://i.redd.it/46ft8pstwli91.gif'\n",
      "[reddit][debug] Using RedditImageExtractor for 'https://i.redd.it/46ft8pstwli91.gif'\n",
      "[urllib3.connectionpool][debug] https://i.redd.it:443 \"GET /46ft8pstwli91.gif HTTP/1.1\" 200 2049675\n"
     ]
    },
    {
     "name": "stdout",
     "output_type": "stream",
     "text": [
      "nvme_drive/scraped_files/20220821-003129-reddit/imgur/imgur_zOQzylv_Top Tier.jpg\n",
      "nvme_drive/scraped_files/20220821-003129-reddit/reddit/46ft8pstwli91.gif\n",
      "nvme_drive/scraped_files/20220821-003129-reddit/imgur/imgur_oDDNmA9_On off.jpg\n"
     ]
    },
    {
     "name": "stderr",
     "output_type": "stream",
     "text": [
      "[196/997] https://i.imgur.com/oDDNmA9.jpg\n",
      "[gallery-dl][debug] Starting DownloadJob for 'https://i.imgur.com/oDDNmA9.jpg'\n",
      "[imgur][debug] Using ImgurImageExtractor for 'https://i.imgur.com/oDDNmA9.jpg'\n",
      "[urllib3.connectionpool][debug] https://api.imgur.com:443 \"GET /post/v1/media/oDDNmA9?include=media%2Ctags%2Caccount HTTP/1.1\" 200 461\n",
      "[urllib3.connectionpool][debug] https://i.imgur.com:443 \"GET /oDDNmA9.jpg HTTP/1.1\" 200 246058\n",
      "[197/997] https://www.redgifs.com/watch/ruralanxiousdamselfly\n",
      "[gallery-dl][debug] Starting DownloadJob for 'https://www.redgifs.com/watch/ruralanxiousdamselfly'\n",
      "[redgifs][debug] Using RedgifsImageExtractor for 'https://www.redgifs.com/watch/ruralanxiousdamselfly'\n",
      "[urllib3.connectionpool][debug] https://api.redgifs.com:443 \"GET /v2/gifs/ruralanxiousdamselfly HTTP/1.1\" 200 None\n",
      "[urllib3.connectionpool][debug] https://thumbs2.redgifs.com:443 \"GET /RuralAnxiousDamselfly.mp4 HTTP/1.1\" 200 22221958\n"
     ]
    },
    {
     "name": "stdout",
     "output_type": "stream",
     "text": [
      "nvme_drive/scraped_files/20220821-003129-reddit/redgifs/redgifs_ruralanxiousdamselfly.mp4\n"
     ]
    },
    {
     "name": "stderr",
     "output_type": "stream",
     "text": [
      "[198/997] https://redgifs.com/watch/tanincompatibleflatfish\n",
      "[gallery-dl][debug] Starting DownloadJob for 'https://redgifs.com/watch/tanincompatibleflatfish'\n",
      "[redgifs][debug] Using RedgifsImageExtractor for 'https://redgifs.com/watch/tanincompatibleflatfish'\n",
      "[urllib3.connectionpool][debug] https://api.redgifs.com:443 \"GET /v2/gifs/tanincompatibleflatfish HTTP/1.1\" 200 None\n",
      "[urllib3.connectionpool][debug] https://thumbs2.redgifs.com:443 \"GET /TanIncompatibleFlatfish.mp4 HTTP/1.1\" 200 10383329\n"
     ]
    },
    {
     "name": "stdout",
     "output_type": "stream",
     "text": [
      "nvme_drive/scraped_files/20220821-003129-reddit/redgifs/redgifs_tanincompatibleflatfish.mp4\n",
      "nvme_drive/scraped_files/20220821-003129-reddit/imgur/imgur_TFnE0Vs_Huge tits.jpg\n"
     ]
    },
    {
     "name": "stderr",
     "output_type": "stream",
     "text": [
      "[199/997] https://i.imgur.com/TFnE0Vs.jpg\n",
      "[gallery-dl][debug] Starting DownloadJob for 'https://i.imgur.com/TFnE0Vs.jpg'\n",
      "[imgur][debug] Using ImgurImageExtractor for 'https://i.imgur.com/TFnE0Vs.jpg'\n",
      "[urllib3.connectionpool][debug] https://api.imgur.com:443 \"GET /post/v1/media/TFnE0Vs?include=media%2Ctags%2Caccount HTTP/1.1\" 200 466\n",
      "[urllib3.connectionpool][debug] https://i.imgur.com:443 \"GET /TFnE0Vs.jpg HTTP/1.1\" 200 99105\n",
      "[200/997] https://i.redd.it/yyz6k7jj9ai91.gif\n",
      "[gallery-dl][debug] Starting DownloadJob for 'https://i.redd.it/yyz6k7jj9ai91.gif'\n",
      "[reddit][debug] Using RedditImageExtractor for 'https://i.redd.it/yyz6k7jj9ai91.gif'\n",
      "[urllib3.connectionpool][debug] https://i.redd.it:443 \"GET /yyz6k7jj9ai91.gif HTTP/1.1\" 200 13879147\n"
     ]
    },
    {
     "name": "stdout",
     "output_type": "stream",
     "text": [
      "nvme_drive/scraped_files/20220821-003129-reddit/reddit/yyz6k7jj9ai91.gif\n"
     ]
    },
    {
     "name": "stderr",
     "output_type": "stream",
     "text": [
      "[201/997] https://i.redd.it/hdmk5cvs8uf91.jpg\n",
      "[gallery-dl][debug] Starting DownloadJob for 'https://i.redd.it/hdmk5cvs8uf91.jpg'\n",
      "[reddit][debug] Using RedditImageExtractor for 'https://i.redd.it/hdmk5cvs8uf91.jpg'\n",
      "[urllib3.connectionpool][debug] https://i.redd.it:443 \"GET /hdmk5cvs8uf91.jpg HTTP/1.1\" 200 827027\n"
     ]
    },
    {
     "name": "stdout",
     "output_type": "stream",
     "text": [
      "nvme_drive/scraped_files/20220821-003129-reddit/reddit/hdmk5cvs8uf91.jpg\n"
     ]
    },
    {
     "name": "stderr",
     "output_type": "stream",
     "text": [
      "[202/997] https://redgifs.com/watch/earnestpoliticalredstart\n",
      "[gallery-dl][debug] Starting DownloadJob for 'https://redgifs.com/watch/earnestpoliticalredstart'\n",
      "[redgifs][debug] Using RedgifsImageExtractor for 'https://redgifs.com/watch/earnestpoliticalredstart'\n",
      "[urllib3.connectionpool][debug] https://api.redgifs.com:443 \"GET /v2/gifs/earnestpoliticalredstart HTTP/1.1\" 200 None\n",
      "[urllib3.connectionpool][debug] https://thumbs2.redgifs.com:443 \"GET /EarnestPoliticalRedstart.mp4 HTTP/1.1\" 200 3534533\n"
     ]
    },
    {
     "name": "stdout",
     "output_type": "stream",
     "text": [
      "nvme_drive/scraped_files/20220821-003129-reddit/redgifs/redgifs_earnestpoliticalredstart.mp4\n",
      "nvme_drive/scraped_files/20220821-003129-reddit/reddit/kvohpqbfhwe91.jpg\n"
     ]
    },
    {
     "name": "stderr",
     "output_type": "stream",
     "text": [
      "[203/997] https://i.redd.it/kvohpqbfhwe91.jpg\n",
      "[gallery-dl][debug] Starting DownloadJob for 'https://i.redd.it/kvohpqbfhwe91.jpg'\n",
      "[reddit][debug] Using RedditImageExtractor for 'https://i.redd.it/kvohpqbfhwe91.jpg'\n",
      "[urllib3.connectionpool][debug] https://i.redd.it:443 \"GET /kvohpqbfhwe91.jpg HTTP/1.1\" 200 709195\n",
      "[204/997] https://i.imgur.com/VdPysb5.jpg\n",
      "[gallery-dl][debug] Starting DownloadJob for 'https://i.imgur.com/VdPysb5.jpg'\n",
      "[imgur][debug] Using ImgurImageExtractor for 'https://i.imgur.com/VdPysb5.jpg'\n",
      "[urllib3.connectionpool][debug] https://api.imgur.com:443 \"GET /post/v1/media/VdPysb5?include=media%2Ctags%2Caccount HTTP/1.1\" 200 475\n",
      "[urllib3.connectionpool][debug] https://i.imgur.com:443 \"GET /VdPysb5.jpg HTTP/1.1\" 200 225642\n",
      "[205/997] https://redgifs.com/watch/draftysmartquetzal\n",
      "[gallery-dl][debug] Starting DownloadJob for 'https://redgifs.com/watch/draftysmartquetzal'\n",
      "[redgifs][debug] Using RedgifsImageExtractor for 'https://redgifs.com/watch/draftysmartquetzal'\n",
      "[urllib3.connectionpool][debug] https://api.redgifs.com:443 \"GET /v2/gifs/draftysmartquetzal HTTP/1.1\" 200 None\n"
     ]
    },
    {
     "name": "stdout",
     "output_type": "stream",
     "text": [
      "nvme_drive/scraped_files/20220821-003129-reddit/imgur/imgur_VdPysb5_Onorin (album in comments).jpg\n"
     ]
    },
    {
     "name": "stderr",
     "output_type": "stream",
     "text": [
      "[urllib3.connectionpool][debug] https://thumbs2.redgifs.com:443 \"GET /DraftySmartQuetzal.mp4 HTTP/1.1\" 200 12619177\n"
     ]
    },
    {
     "name": "stdout",
     "output_type": "stream",
     "text": [
      "nvme_drive/scraped_files/20220821-003129-reddit/redgifs/redgifs_draftysmartquetzal.mp4\n"
     ]
    },
    {
     "name": "stderr",
     "output_type": "stream",
     "text": [
      "[206/997] https://i.redd.it/3up9py72a2e91.jpg\n",
      "[gallery-dl][debug] Starting DownloadJob for 'https://i.redd.it/3up9py72a2e91.jpg'\n",
      "[reddit][debug] Using RedditImageExtractor for 'https://i.redd.it/3up9py72a2e91.jpg'\n",
      "[urllib3.connectionpool][debug] https://i.redd.it:443 \"GET /3up9py72a2e91.jpg HTTP/1.1\" 200 2257143\n"
     ]
    },
    {
     "name": "stdout",
     "output_type": "stream",
     "text": [
      "nvme_drive/scraped_files/20220821-003129-reddit/reddit/3up9py72a2e91.jpg\n",
      "nvme_drive/scraped_files/20220821-003129-reddit/reddit/1ynalj8ce8e91.jpg\n"
     ]
    },
    {
     "name": "stderr",
     "output_type": "stream",
     "text": [
      "[207/997] https://i.redd.it/1ynalj8ce8e91.jpg\n",
      "[gallery-dl][debug] Starting DownloadJob for 'https://i.redd.it/1ynalj8ce8e91.jpg'\n",
      "[reddit][debug] Using RedditImageExtractor for 'https://i.redd.it/1ynalj8ce8e91.jpg'\n",
      "[urllib3.connectionpool][debug] https://i.redd.it:443 \"GET /1ynalj8ce8e91.jpg HTTP/1.1\" 200 501773\n",
      "[208/997] https://www.redgifs.com/watch/cheapfriendlycod\n",
      "[gallery-dl][debug] Starting DownloadJob for 'https://www.redgifs.com/watch/cheapfriendlycod'\n",
      "[redgifs][debug] Using RedgifsImageExtractor for 'https://www.redgifs.com/watch/cheapfriendlycod'\n",
      "[urllib3.connectionpool][debug] https://api.redgifs.com:443 \"GET /v2/gifs/cheapfriendlycod HTTP/1.1\" 200 None\n",
      "[urllib3.connectionpool][debug] https://thumbs2.redgifs.com:443 \"GET /CheapFriendlyCod.mp4 HTTP/1.1\" 200 18265260\n"
     ]
    },
    {
     "name": "stdout",
     "output_type": "stream",
     "text": [
      "nvme_drive/scraped_files/20220821-003129-reddit/redgifs/redgifs_cheapfriendlycod.mp4\n"
     ]
    },
    {
     "name": "stderr",
     "output_type": "stream",
     "text": [
      "[209/997] https://i.redd.it/386am86yf9i91.jpg\n",
      "[gallery-dl][debug] Starting DownloadJob for 'https://i.redd.it/386am86yf9i91.jpg'\n",
      "[reddit][debug] Using RedditImageExtractor for 'https://i.redd.it/386am86yf9i91.jpg'\n",
      "[urllib3.connectionpool][debug] https://i.redd.it:443 \"GET /386am86yf9i91.jpg HTTP/1.1\" 200 2363662\n"
     ]
    },
    {
     "name": "stdout",
     "output_type": "stream",
     "text": [
      "nvme_drive/scraped_files/20220821-003129-reddit/reddit/386am86yf9i91.jpg\n",
      "nvme_drive/scraped_files/20220821-003129-reddit/reddit/t6iyhawgdjf91.jpg\n"
     ]
    },
    {
     "name": "stderr",
     "output_type": "stream",
     "text": [
      "[210/997] https://i.redd.it/t6iyhawgdjf91.jpg\n",
      "[gallery-dl][debug] Starting DownloadJob for 'https://i.redd.it/t6iyhawgdjf91.jpg'\n",
      "[reddit][debug] Using RedditImageExtractor for 'https://i.redd.it/t6iyhawgdjf91.jpg'\n",
      "[urllib3.connectionpool][debug] https://i.redd.it:443 \"GET /t6iyhawgdjf91.jpg HTTP/1.1\" 200 170379\n",
      "[211/997] https://redgifs.com/watch/costlywonderfulxuanhuasaurus\n",
      "[gallery-dl][debug] Starting DownloadJob for 'https://redgifs.com/watch/costlywonderfulxuanhuasaurus'\n",
      "[redgifs][debug] Using RedgifsImageExtractor for 'https://redgifs.com/watch/costlywonderfulxuanhuasaurus'\n",
      "[urllib3.connectionpool][debug] https://api.redgifs.com:443 \"GET /v2/gifs/costlywonderfulxuanhuasaurus HTTP/1.1\" 200 None\n",
      "[urllib3.connectionpool][debug] https://thumbs2.redgifs.com:443 \"GET /CostlyWonderfulXuanhuasaurus.mp4 HTTP/1.1\" 200 17549355\n"
     ]
    },
    {
     "name": "stdout",
     "output_type": "stream",
     "text": [
      "nvme_drive/scraped_files/20220821-003129-reddit/redgifs/redgifs_costlywonderfulxuanhuasaurus.mp4\n"
     ]
    },
    {
     "name": "stderr",
     "output_type": "stream",
     "text": [
      "[212/997] https://i.imgur.com/BiAmAsR.png\n",
      "[gallery-dl][debug] Starting DownloadJob for 'https://i.imgur.com/BiAmAsR.png'\n",
      "[imgur][debug] Using ImgurImageExtractor for 'https://i.imgur.com/BiAmAsR.png'\n",
      "[urllib3.connectionpool][debug] https://api.imgur.com:443 \"GET /post/v1/media/BiAmAsR?include=media%2Ctags%2Caccount HTTP/1.1\" 200 482\n",
      "[urllib3.connectionpool][debug] https://i.imgur.com:443 \"GET /BiAmAsR.png HTTP/1.1\" 200 2334981\n"
     ]
    },
    {
     "name": "stdout",
     "output_type": "stream",
     "text": [
      "nvme_drive/scraped_files/20220821-003129-reddit/imgur/imgur_BiAmAsR_Smokeshow.png\n"
     ]
    },
    {
     "name": "stderr",
     "output_type": "stream",
     "text": [
      "[213/997] https://redgifs.com/watch/unpleasantmadabalone\n",
      "[gallery-dl][debug] Starting DownloadJob for 'https://redgifs.com/watch/unpleasantmadabalone'\n",
      "[redgifs][debug] Using RedgifsImageExtractor for 'https://redgifs.com/watch/unpleasantmadabalone'\n",
      "[urllib3.connectionpool][debug] https://api.redgifs.com:443 \"GET /v2/gifs/unpleasantmadabalone HTTP/1.1\" 200 None\n",
      "[urllib3.connectionpool][debug] https://thumbs2.redgifs.com:443 \"GET /UnpleasantMadAbalone.mp4 HTTP/1.1\" 200 40076570\n"
     ]
    },
    {
     "name": "stdout",
     "output_type": "stream",
     "text": [
      "nvme_drive/scraped_files/20220821-003129-reddit/redgifs/redgifs_unpleasantmadabalone.mp4\n"
     ]
    },
    {
     "name": "stderr",
     "output_type": "stream",
     "text": [
      "[214/997] https://i.imgur.com/EsXMZqb.jpg\n",
      "[gallery-dl][debug] Starting DownloadJob for 'https://i.imgur.com/EsXMZqb.jpg'\n",
      "[imgur][debug] Using ImgurImageExtractor for 'https://i.imgur.com/EsXMZqb.jpg'\n",
      "[urllib3.connectionpool][debug] https://api.imgur.com:443 \"GET /post/v1/media/EsXMZqb?include=media%2Ctags%2Caccount HTTP/1.1\" 200 482\n",
      "[urllib3.connectionpool][debug] https://i.imgur.com:443 \"GET /EsXMZqb.jpg HTTP/1.1\" 200 1844053\n"
     ]
    },
    {
     "name": "stdout",
     "output_type": "stream",
     "text": [
      "nvme_drive/scraped_files/20220821-003129-reddit/imgur/imgur_EsXMZqb_Hiking day.jpg\n",
      "nvme_drive/scraped_files/20220821-003129-reddit/reddit/phyz9n3vb3h91.jpg\n"
     ]
    },
    {
     "name": "stderr",
     "output_type": "stream",
     "text": [
      "[215/997] https://i.redd.it/phyz9n3vb3h91.jpg\n",
      "[gallery-dl][debug] Starting DownloadJob for 'https://i.redd.it/phyz9n3vb3h91.jpg'\n",
      "[reddit][debug] Using RedditImageExtractor for 'https://i.redd.it/phyz9n3vb3h91.jpg'\n",
      "[urllib3.connectionpool][debug] https://i.redd.it:443 \"GET /phyz9n3vb3h91.jpg HTTP/1.1\" 200 60292\n",
      "[216/997] https://i.redd.it/p50kzwd2wmd91.gif\n",
      "[gallery-dl][debug] Starting DownloadJob for 'https://i.redd.it/p50kzwd2wmd91.gif'\n",
      "[reddit][debug] Using RedditImageExtractor for 'https://i.redd.it/p50kzwd2wmd91.gif'\n",
      "[urllib3.connectionpool][debug] https://i.redd.it:443 \"GET /p50kzwd2wmd91.gif HTTP/1.1\" 200 4301350\n"
     ]
    },
    {
     "name": "stdout",
     "output_type": "stream",
     "text": [
      "nvme_drive/scraped_files/20220821-003129-reddit/reddit/p50kzwd2wmd91.gif\n",
      "nvme_drive/scraped_files/20220821-003129-reddit/imgur/imgur_0qm8at4_Tanya.jpg\n"
     ]
    },
    {
     "name": "stderr",
     "output_type": "stream",
     "text": [
      "[217/997] https://i.imgur.com/0qm8at4.jpeg\n",
      "[gallery-dl][debug] Starting DownloadJob for 'https://i.imgur.com/0qm8at4.jpeg'\n",
      "[imgur][debug] Using ImgurImageExtractor for 'https://i.imgur.com/0qm8at4.jpeg'\n",
      "[urllib3.connectionpool][debug] https://api.imgur.com:443 \"GET /post/v1/media/0qm8at4?include=media%2Ctags%2Caccount HTTP/1.1\" 200 441\n",
      "[urllib3.connectionpool][debug] https://i.imgur.com:443 \"GET /0qm8at4.jpg HTTP/1.1\" 200 287212\n",
      "[218/997] https://www.redgifs.com/watch/triangularresponsiblealpaca\n",
      "[gallery-dl][debug] Starting DownloadJob for 'https://www.redgifs.com/watch/triangularresponsiblealpaca'\n",
      "[redgifs][debug] Using RedgifsImageExtractor for 'https://www.redgifs.com/watch/triangularresponsiblealpaca'\n",
      "[urllib3.connectionpool][debug] https://api.redgifs.com:443 \"GET /v2/gifs/triangularresponsiblealpaca HTTP/1.1\" 200 None\n",
      "[urllib3.connectionpool][debug] https://thumbs2.redgifs.com:443 \"GET /TriangularResponsibleAlpaca.mp4 HTTP/1.1\" 200 11621044\n"
     ]
    },
    {
     "name": "stdout",
     "output_type": "stream",
     "text": [
      "nvme_drive/scraped_files/20220821-003129-reddit/redgifs/redgifs_triangularresponsiblealpaca.mp4\n",
      "nvme_drive/scraped_files/20220821-003129-reddit/imgur/imgur_qW4hK3Q_Impeccable sense of fashion.jpg\n"
     ]
    },
    {
     "name": "stderr",
     "output_type": "stream",
     "text": [
      "[219/997] https://i.imgur.com/qW4hK3Q.jpg\n",
      "[gallery-dl][debug] Starting DownloadJob for 'https://i.imgur.com/qW4hK3Q.jpg'\n",
      "[imgur][debug] Using ImgurImageExtractor for 'https://i.imgur.com/qW4hK3Q.jpg'\n",
      "[urllib3.connectionpool][debug] https://api.imgur.com:443 \"GET /post/v1/media/qW4hK3Q?include=media%2Ctags%2Caccount HTTP/1.1\" 200 461\n",
      "[urllib3.connectionpool][debug] https://i.imgur.com:443 \"GET /qW4hK3Q.jpg HTTP/1.1\" 200 253700\n",
      "[220/997] https://i.redd.it/rzh50pi3agh91.gif\n",
      "[gallery-dl][debug] Starting DownloadJob for 'https://i.redd.it/rzh50pi3agh91.gif'\n",
      "[reddit][debug] Using RedditImageExtractor for 'https://i.redd.it/rzh50pi3agh91.gif'\n",
      "[urllib3.connectionpool][debug] https://i.redd.it:443 \"GET /rzh50pi3agh91.gif HTTP/1.1\" 200 18193274\n"
     ]
    },
    {
     "name": "stdout",
     "output_type": "stream",
     "text": [
      "nvme_drive/scraped_files/20220821-003129-reddit/reddit/rzh50pi3agh91.gif\n"
     ]
    },
    {
     "name": "stderr",
     "output_type": "stream",
     "text": [
      "[221/997] https://i.imgur.com/w2KD0sc.jpg\n",
      "[gallery-dl][debug] Starting DownloadJob for 'https://i.imgur.com/w2KD0sc.jpg'\n",
      "[imgur][debug] Using ImgurImageExtractor for 'https://i.imgur.com/w2KD0sc.jpg'\n",
      "[urllib3.connectionpool][debug] https://api.imgur.com:443 \"GET /post/v1/media/w2KD0sc?include=media%2Ctags%2Caccount HTTP/1.1\" 200 475\n",
      "[urllib3.connectionpool][debug] https://i.imgur.com:443 \"GET /w2KD0sc.jpg HTTP/1.1\" 200 593983\n"
     ]
    },
    {
     "name": "stdout",
     "output_type": "stream",
     "text": [
      "nvme_drive/scraped_files/20220821-003129-reddit/imgur/imgur_w2KD0sc_Statuesque tatted beauty.jpg\n"
     ]
    },
    {
     "name": "stderr",
     "output_type": "stream",
     "text": [
      "[222/997] https://i.imgur.com/ZC0U3GP.jpg\n",
      "[gallery-dl][debug] Starting DownloadJob for 'https://i.imgur.com/ZC0U3GP.jpg'\n",
      "[imgur][debug] Using ImgurImageExtractor for 'https://i.imgur.com/ZC0U3GP.jpg'\n",
      "[urllib3.connectionpool][debug] https://api.imgur.com:443 \"GET /post/v1/media/ZC0U3GP?include=media%2Ctags%2Caccount HTTP/1.1\" 200 451\n",
      "[urllib3.connectionpool][debug] https://i.imgur.com:443 \"GET /ZC0U3GP.jpg HTTP/1.1\" 200 979089\n"
     ]
    },
    {
     "name": "stdout",
     "output_type": "stream",
     "text": [
      "nvme_drive/scraped_files/20220821-003129-reddit/imgur/imgur_ZC0U3GP_Exquisite.jpg\n",
      "nvme_drive/scraped_files/20220821-003129-reddit/reddit/rtu0z43mhah91.jpg\n",
      "nvme_drive/scraped_files/20220821-003129-reddit/redgifs/redgifs_opulentmerrygermanshepherd.mp4\n"
     ]
    },
    {
     "name": "stderr",
     "output_type": "stream",
     "text": [
      "[223/997] https://i.redd.it/rtu0z43mhah91.jpg\n",
      "[gallery-dl][debug] Starting DownloadJob for 'https://i.redd.it/rtu0z43mhah91.jpg'\n",
      "[reddit][debug] Using RedditImageExtractor for 'https://i.redd.it/rtu0z43mhah91.jpg'\n",
      "[urllib3.connectionpool][debug] https://i.redd.it:443 \"GET /rtu0z43mhah91.jpg HTTP/1.1\" 200 72702\n",
      "[224/997] https://redgifs.com/watch/opulentmerrygermanshepherd\n",
      "[gallery-dl][debug] Starting DownloadJob for 'https://redgifs.com/watch/opulentmerrygermanshepherd'\n",
      "[redgifs][debug] Using RedgifsImageExtractor for 'https://redgifs.com/watch/opulentmerrygermanshepherd'\n",
      "[urllib3.connectionpool][debug] https://api.redgifs.com:443 \"GET /v2/gifs/opulentmerrygermanshepherd HTTP/1.1\" 200 None\n",
      "[urllib3.connectionpool][debug] https://thumbs2.redgifs.com:443 \"GET /OpulentMerryGermanshepherd.mp4 HTTP/1.1\" 200 114747\n",
      "[225/997] https://i.imgur.com/DE4cEX3.jpg\n",
      "[gallery-dl][debug] Starting DownloadJob for 'https://i.imgur.com/DE4cEX3.jpg'\n",
      "[imgur][debug] Using ImgurImageExtractor for 'https://i.imgur.com/DE4cEX3.jpg'\n",
      "[urllib3.connectionpool][debug] https://api.imgur.com:443 \"GET /post/v1/media/DE4cEX3?include=media%2Ctags%2Caccount HTTP/1.1\" 200 467\n",
      "[urllib3.connectionpool][debug] https://i.imgur.com:443 \"GET /DE4cEX3.jpg HTTP/1.1\" 200 1264613\n"
     ]
    },
    {
     "name": "stdout",
     "output_type": "stream",
     "text": [
      "nvme_drive/scraped_files/20220821-003129-reddit/imgur/imgur_DE4cEX3_Disrobing.jpg\n"
     ]
    },
    {
     "name": "stderr",
     "output_type": "stream",
     "text": [
      "[226/997] https://www.redgifs.com/watch/lonelywelloffheterodontosaurus\n",
      "[gallery-dl][debug] Starting DownloadJob for 'https://www.redgifs.com/watch/lonelywelloffheterodontosaurus'\n",
      "[redgifs][debug] Using RedgifsImageExtractor for 'https://www.redgifs.com/watch/lonelywelloffheterodontosaurus'\n",
      "[urllib3.connectionpool][debug] https://api.redgifs.com:443 \"GET /v2/gifs/lonelywelloffheterodontosaurus HTTP/1.1\" 200 None\n",
      "[urllib3.connectionpool][debug] https://thumbs2.redgifs.com:443 \"GET /LonelyWelloffHeterodontosaurus.mp4 HTTP/1.1\" 200 27786403\n"
     ]
    },
    {
     "name": "stdout",
     "output_type": "stream",
     "text": [
      "nvme_drive/scraped_files/20220821-003129-reddit/redgifs/redgifs_lonelywelloffheterodontosaurus.mp4\n",
      "nvme_drive/scraped_files/20220821-003129-reddit/reddit/3v4ello3dbg91.jpg\n"
     ]
    },
    {
     "name": "stderr",
     "output_type": "stream",
     "text": [
      "[227/997] https://i.redd.it/3v4ello3dbg91.jpg\n",
      "[gallery-dl][debug] Starting DownloadJob for 'https://i.redd.it/3v4ello3dbg91.jpg'\n",
      "[reddit][debug] Using RedditImageExtractor for 'https://i.redd.it/3v4ello3dbg91.jpg'\n",
      "[urllib3.connectionpool][debug] https://i.redd.it:443 \"GET /3v4ello3dbg91.jpg HTTP/1.1\" 200 117467\n",
      "[228/997] https://i.redd.it/5tuydbrvo6e91.jpg\n",
      "[gallery-dl][debug] Starting DownloadJob for 'https://i.redd.it/5tuydbrvo6e91.jpg'\n",
      "[reddit][debug] Using RedditImageExtractor for 'https://i.redd.it/5tuydbrvo6e91.jpg'\n",
      "[urllib3.connectionpool][debug] https://i.redd.it:443 \"GET /5tuydbrvo6e91.jpg HTTP/1.1\" 200 2738500\n"
     ]
    },
    {
     "name": "stdout",
     "output_type": "stream",
     "text": [
      "nvme_drive/scraped_files/20220821-003129-reddit/reddit/5tuydbrvo6e91.jpg\n"
     ]
    },
    {
     "name": "stderr",
     "output_type": "stream",
     "text": [
      "[229/997] https://i.redd.it/w63rs7lngoi91.gif\n",
      "[gallery-dl][debug] Starting DownloadJob for 'https://i.redd.it/w63rs7lngoi91.gif'\n",
      "[reddit][debug] Using RedditImageExtractor for 'https://i.redd.it/w63rs7lngoi91.gif'\n",
      "[urllib3.connectionpool][debug] https://i.redd.it:443 \"GET /w63rs7lngoi91.gif HTTP/1.1\" 200 10186872\n"
     ]
    },
    {
     "name": "stdout",
     "output_type": "stream",
     "text": [
      "nvme_drive/scraped_files/20220821-003129-reddit/reddit/w63rs7lngoi91.gif\n",
      "nvme_drive/scraped_files/20220821-003129-reddit/imgur/imgur_5Q2IBc3_Gorgeous.jpg\n"
     ]
    },
    {
     "name": "stderr",
     "output_type": "stream",
     "text": [
      "[230/997] https://i.imgur.com/5Q2IBc3.jpg\n",
      "[gallery-dl][debug] Starting DownloadJob for 'https://i.imgur.com/5Q2IBc3.jpg'\n",
      "[imgur][debug] Using ImgurImageExtractor for 'https://i.imgur.com/5Q2IBc3.jpg'\n",
      "[urllib3.connectionpool][debug] https://api.imgur.com:443 \"GET /post/v1/media/5Q2IBc3?include=media%2Ctags%2Caccount HTTP/1.1\" 200 448\n",
      "[urllib3.connectionpool][debug] https://i.imgur.com:443 \"GET /5Q2IBc3.jpg HTTP/1.1\" 200 419048\n",
      "[231/997] https://i.imgur.com/Bo4Kve6.jpg\n",
      "[gallery-dl][debug] Starting DownloadJob for 'https://i.imgur.com/Bo4Kve6.jpg'\n",
      "[imgur][debug] Using ImgurImageExtractor for 'https://i.imgur.com/Bo4Kve6.jpg'\n",
      "[urllib3.connectionpool][debug] https://api.imgur.com:443 \"GET /post/v1/media/Bo4Kve6?include=media%2Ctags%2Caccount HTTP/1.1\" 200 448\n",
      "[urllib3.connectionpool][debug] https://i.imgur.com:443 \"GET /Bo4Kve6.jpg HTTP/1.1\" 200 215063\n",
      "[232/997] https://i.imgur.com/7qWH3Py.jpg\n",
      "[gallery-dl][debug] Starting DownloadJob for 'https://i.imgur.com/7qWH3Py.jpg'\n",
      "[imgur][debug] Using ImgurImageExtractor for 'https://i.imgur.com/7qWH3Py.jpg'\n",
      "[urllib3.connectionpool][debug] https://api.imgur.com:443 \"GET /post/v1/media/7qWH3Py?include=media%2Ctags%2Caccount HTTP/1.1\" 200 459\n",
      "[urllib3.connectionpool][debug] https://i.imgur.com:443 \"GET /7qWH3Py.jpg HTTP/1.1\" 200 179301\n"
     ]
    },
    {
     "name": "stdout",
     "output_type": "stream",
     "text": [
      "nvme_drive/scraped_files/20220821-003129-reddit/imgur/imgur_Bo4Kve6_Good Lord.jpg\n",
      "nvme_drive/scraped_files/20220821-003129-reddit/imgur/imgur_7qWH3Py_Katerina Hartlova.jpg\n",
      "nvme_drive/scraped_files/20220821-003129-reddit/reddit/2s9ylx1554d91.jpg\n"
     ]
    },
    {
     "name": "stderr",
     "output_type": "stream",
     "text": [
      "[233/997] https://i.redd.it/2s9ylx1554d91.jpg\n",
      "[gallery-dl][debug] Starting DownloadJob for 'https://i.redd.it/2s9ylx1554d91.jpg'\n",
      "[reddit][debug] Using RedditImageExtractor for 'https://i.redd.it/2s9ylx1554d91.jpg'\n",
      "[urllib3.connectionpool][debug] https://i.redd.it:443 \"GET /2s9ylx1554d91.jpg HTTP/1.1\" 200 71884\n",
      "[234/997] https://i.imgur.com/IlMXPhN.jpg\n",
      "[gallery-dl][debug] Starting DownloadJob for 'https://i.imgur.com/IlMXPhN.jpg'\n",
      "[imgur][debug] Using ImgurImageExtractor for 'https://i.imgur.com/IlMXPhN.jpg'\n",
      "[urllib3.connectionpool][debug] https://api.imgur.com:443 \"GET /post/v1/media/IlMXPhN?include=media%2Ctags%2Caccount HTTP/1.1\" 200 476\n",
      "[urllib3.connectionpool][debug] https://i.imgur.com:443 \"GET /IlMXPhN.jpg HTTP/1.1\" 200 99080\n",
      "[235/997] https://i.redd.it/tcvty409wag91.jpg\n",
      "[gallery-dl][debug] Starting DownloadJob for 'https://i.redd.it/tcvty409wag91.jpg'\n",
      "[reddit][debug] Using RedditImageExtractor for 'https://i.redd.it/tcvty409wag91.jpg'\n",
      "[urllib3.connectionpool][debug] https://i.redd.it:443 \"GET /tcvty409wag91.jpg HTTP/1.1\" 200 268952\n"
     ]
    },
    {
     "name": "stdout",
     "output_type": "stream",
     "text": [
      "nvme_drive/scraped_files/20220821-003129-reddit/imgur/imgur_IlMXPhN_Heavenly.jpg\n",
      "nvme_drive/scraped_files/20220821-003129-reddit/reddit/tcvty409wag91.jpg\n"
     ]
    },
    {
     "name": "stderr",
     "output_type": "stream",
     "text": [
      "[236/997] https://redgifs.com/watch/impeccablefrontmetamorphosis\n",
      "[gallery-dl][debug] Starting DownloadJob for 'https://redgifs.com/watch/impeccablefrontmetamorphosis'\n",
      "[redgifs][debug] Using RedgifsImageExtractor for 'https://redgifs.com/watch/impeccablefrontmetamorphosis'\n",
      "[urllib3.connectionpool][debug] https://api.redgifs.com:443 \"GET /v2/gifs/impeccablefrontmetamorphosis HTTP/1.1\" 200 None\n",
      "[urllib3.connectionpool][debug] https://thumbs2.redgifs.com:443 \"GET /ImpeccableFrontMetamorphosis.mp4 HTTP/1.1\" 200 8678559\n"
     ]
    },
    {
     "name": "stdout",
     "output_type": "stream",
     "text": [
      "nvme_drive/scraped_files/20220821-003129-reddit/redgifs/redgifs_impeccablefrontmetamorphosis.mp4\n",
      "nvme_drive/scraped_files/20220821-003129-reddit/reddit/xjm311pvrae91.jpg\n"
     ]
    },
    {
     "name": "stderr",
     "output_type": "stream",
     "text": [
      "[237/997] https://i.redd.it/xjm311pvrae91.jpg\n",
      "[gallery-dl][debug] Starting DownloadJob for 'https://i.redd.it/xjm311pvrae91.jpg'\n",
      "[reddit][debug] Using RedditImageExtractor for 'https://i.redd.it/xjm311pvrae91.jpg'\n",
      "[urllib3.connectionpool][debug] https://i.redd.it:443 \"GET /xjm311pvrae91.jpg HTTP/1.1\" 200 65093\n",
      "[238/997] https://i.imgur.com/Cq31xq6.gifv\n",
      "[gallery-dl][debug] Starting DownloadJob for 'https://i.imgur.com/Cq31xq6.gifv'\n",
      "[imgur][debug] Using ImgurImageExtractor for 'https://i.imgur.com/Cq31xq6.gifv'\n",
      "[urllib3.connectionpool][debug] https://api.imgur.com:443 \"GET /post/v1/media/Cq31xq6?include=media%2Ctags%2Caccount HTTP/1.1\" 200 461\n",
      "[urllib3.connectionpool][debug] https://i.imgur.com:443 \"GET /Cq31xq6.mp4 HTTP/1.1\" 200 3809292\n"
     ]
    },
    {
     "name": "stdout",
     "output_type": "stream",
     "text": [
      "nvme_drive/scraped_files/20220821-003129-reddit/imgur/imgur_Cq31xq6_Her On Top.mp4\n",
      "nvme_drive/scraped_files/20220821-003129-reddit/reddit/1mw6w6fjdqg91.jpg\n"
     ]
    },
    {
     "name": "stderr",
     "output_type": "stream",
     "text": [
      "[239/997] https://i.redd.it/1mw6w6fjdqg91.jpg\n",
      "[gallery-dl][debug] Starting DownloadJob for 'https://i.redd.it/1mw6w6fjdqg91.jpg'\n",
      "[reddit][debug] Using RedditImageExtractor for 'https://i.redd.it/1mw6w6fjdqg91.jpg'\n",
      "[urllib3.connectionpool][debug] https://i.redd.it:443 \"GET /1mw6w6fjdqg91.jpg HTTP/1.1\" 200 166444\n",
      "[240/997] https://i.imgur.com/zzgRgit.jpg\n",
      "[gallery-dl][debug] Starting DownloadJob for 'https://i.imgur.com/zzgRgit.jpg'\n",
      "[imgur][debug] Using ImgurImageExtractor for 'https://i.imgur.com/zzgRgit.jpg'\n",
      "[urllib3.connectionpool][debug] https://api.imgur.com:443 \"GET /post/v1/media/zzgRgit?include=media%2Ctags%2Caccount HTTP/1.1\" 200 492\n",
      "[urllib3.connectionpool][debug] https://i.imgur.com:443 \"GET /zzgRgit.jpg HTTP/1.1\" 200 1080516\n",
      "[241/997] https://i.imgur.com/UpdGjwq.jpg\n",
      "[gallery-dl][debug] Starting DownloadJob for 'https://i.imgur.com/UpdGjwq.jpg'\n",
      "[imgur][debug] Using ImgurImageExtractor for 'https://i.imgur.com/UpdGjwq.jpg'\n"
     ]
    },
    {
     "name": "stdout",
     "output_type": "stream",
     "text": [
      "nvme_drive/scraped_files/20220821-003129-reddit/imgur/imgur_zzgRgit_Tattoos and tan.jpg\n",
      "nvme_drive/scraped_files/20220821-003129-reddit/imgur/imgur_UpdGjwq_Taking a breather on the quad.jpg\n"
     ]
    },
    {
     "name": "stderr",
     "output_type": "stream",
     "text": [
      "[urllib3.connectionpool][debug] https://api.imgur.com:443 \"GET /post/v1/media/UpdGjwq?include=media%2Ctags%2Caccount HTTP/1.1\" 200 459\n",
      "[urllib3.connectionpool][debug] https://i.imgur.com:443 \"GET /UpdGjwq.jpg HTTP/1.1\" 200 270171\n",
      "[242/997] https://redgifs.com/watch/worriedlightslategraywillet\n",
      "[gallery-dl][debug] Starting DownloadJob for 'https://redgifs.com/watch/worriedlightslategraywillet'\n",
      "[redgifs][debug] Using RedgifsImageExtractor for 'https://redgifs.com/watch/worriedlightslategraywillet'\n",
      "[urllib3.connectionpool][debug] https://api.redgifs.com:443 \"GET /v2/gifs/worriedlightslategraywillet HTTP/1.1\" 200 None\n",
      "[urllib3.connectionpool][debug] https://thumbs2.redgifs.com:443 \"GET /WorriedLightslategrayWillet.mp4 HTTP/1.1\" 200 11567834\n"
     ]
    },
    {
     "name": "stdout",
     "output_type": "stream",
     "text": [
      "nvme_drive/scraped_files/20220821-003129-reddit/redgifs/redgifs_worriedlightslategraywillet.mp4\n",
      "nvme_drive/scraped_files/20220821-003129-reddit/reddit/vok3fk8jdbi91.gif\n"
     ]
    },
    {
     "name": "stderr",
     "output_type": "stream",
     "text": [
      "[243/997] https://i.redd.it/vok3fk8jdbi91.gif\n",
      "[gallery-dl][debug] Starting DownloadJob for 'https://i.redd.it/vok3fk8jdbi91.gif'\n",
      "[reddit][debug] Using RedditImageExtractor for 'https://i.redd.it/vok3fk8jdbi91.gif'\n",
      "[urllib3.connectionpool][debug] https://i.redd.it:443 \"GET /vok3fk8jdbi91.gif HTTP/1.1\" 200 788305\n",
      "[244/997] https://i.redd.it/orwhfa9ozai91.jpg\n",
      "[gallery-dl][debug] Starting DownloadJob for 'https://i.redd.it/orwhfa9ozai91.jpg'\n",
      "[reddit][debug] Using RedditImageExtractor for 'https://i.redd.it/orwhfa9ozai91.jpg'\n",
      "[urllib3.connectionpool][debug] https://i.redd.it:443 \"GET /orwhfa9ozai91.jpg HTTP/1.1\" 200 467947\n"
     ]
    },
    {
     "name": "stdout",
     "output_type": "stream",
     "text": [
      "nvme_drive/scraped_files/20220821-003129-reddit/reddit/orwhfa9ozai91.jpg\n",
      "nvme_drive/scraped_files/20220821-003129-reddit/reddit/34fou1pv9kd91.jpg\n"
     ]
    },
    {
     "name": "stderr",
     "output_type": "stream",
     "text": [
      "[245/997] https://i.redd.it/34fou1pv9kd91.jpg\n",
      "[gallery-dl][debug] Starting DownloadJob for 'https://i.redd.it/34fou1pv9kd91.jpg'\n",
      "[reddit][debug] Using RedditImageExtractor for 'https://i.redd.it/34fou1pv9kd91.jpg'\n",
      "[urllib3.connectionpool][debug] https://i.redd.it:443 \"GET /34fou1pv9kd91.jpg HTTP/1.1\" 200 310652\n",
      "[246/997] https://i.imgur.com/EY8h37o.gifv\n",
      "[gallery-dl][debug] Starting DownloadJob for 'https://i.imgur.com/EY8h37o.gifv'\n",
      "[imgur][debug] Using ImgurImageExtractor for 'https://i.imgur.com/EY8h37o.gifv'\n",
      "[urllib3.connectionpool][debug] https://api.imgur.com:443 \"GET /post/v1/media/EY8h37o?include=media%2Ctags%2Caccount HTTP/1.1\" 200 460\n",
      "[urllib3.connectionpool][debug] https://i.imgur.com:443 \"GET /EY8h37o.mp4 HTTP/1.1\" 200 1295496\n"
     ]
    },
    {
     "name": "stdout",
     "output_type": "stream",
     "text": [
      "nvme_drive/scraped_files/20220821-003129-reddit/imgur/imgur_EY8h37o_Best Friends.mp4\n",
      "nvme_drive/scraped_files/20220821-003129-reddit/reddit/0zld3gxejyd91.jpg\n"
     ]
    },
    {
     "name": "stderr",
     "output_type": "stream",
     "text": [
      "[247/997] https://i.redd.it/0zld3gxejyd91.jpg\n",
      "[gallery-dl][debug] Starting DownloadJob for 'https://i.redd.it/0zld3gxejyd91.jpg'\n",
      "[reddit][debug] Using RedditImageExtractor for 'https://i.redd.it/0zld3gxejyd91.jpg'\n",
      "[urllib3.connectionpool][debug] https://i.redd.it:443 \"GET /0zld3gxejyd91.jpg HTTP/1.1\" 200 101504\n",
      "[248/997] https://redgifs.com/watch/feistyfirstpolyturator\n",
      "[gallery-dl][debug] Starting DownloadJob for 'https://redgifs.com/watch/feistyfirstpolyturator'\n",
      "[redgifs][debug] Using RedgifsImageExtractor for 'https://redgifs.com/watch/feistyfirstpolyturator'\n",
      "[urllib3.connectionpool][debug] https://api.redgifs.com:443 \"GET /v2/gifs/feistyfirstpolyturator HTTP/1.1\" 200 None\n",
      "[urllib3.connectionpool][debug] https://thumbs2.redgifs.com:443 \"GET /FeistyFirstPolyturator.mp4 HTTP/1.1\" 200 27351296\n"
     ]
    },
    {
     "name": "stdout",
     "output_type": "stream",
     "text": [
      "nvme_drive/scraped_files/20220821-003129-reddit/redgifs/redgifs_feistyfirstpolyturator.mp4\n"
     ]
    },
    {
     "name": "stderr",
     "output_type": "stream",
     "text": [
      "[249/997] https://i.imgur.com/0wY29Nv.jpg\n",
      "[gallery-dl][debug] Starting DownloadJob for 'https://i.imgur.com/0wY29Nv.jpg'\n",
      "[imgur][debug] Using ImgurImageExtractor for 'https://i.imgur.com/0wY29Nv.jpg'\n",
      "[urllib3.connectionpool][debug] https://api.imgur.com:443 \"GET /post/v1/media/0wY29Nv?include=media%2Ctags%2Caccount HTTP/1.1\" 200 452\n",
      "[urllib3.connectionpool][debug] https://i.imgur.com:443 \"GET /0wY29Nv.jpg HTTP/1.1\" 200 1019859\n"
     ]
    },
    {
     "name": "stdout",
     "output_type": "stream",
     "text": [
      "nvme_drive/scraped_files/20220821-003129-reddit/imgur/imgur_0wY29Nv_Eye Candy.jpg\n",
      "nvme_drive/scraped_files/20220821-003129-reddit/imgur/imgur_Nw7MqB1_That Arch.jpg\n"
     ]
    },
    {
     "name": "stderr",
     "output_type": "stream",
     "text": [
      "[250/997] https://i.imgur.com/Nw7MqB1.jpg\n",
      "[gallery-dl][debug] Starting DownloadJob for 'https://i.imgur.com/Nw7MqB1.jpg'\n",
      "[imgur][debug] Using ImgurImageExtractor for 'https://i.imgur.com/Nw7MqB1.jpg'\n",
      "[urllib3.connectionpool][debug] https://api.imgur.com:443 \"GET /post/v1/media/Nw7MqB1?include=media%2Ctags%2Caccount HTTP/1.1\" 200 449\n",
      "[urllib3.connectionpool][debug] https://i.imgur.com:443 \"GET /Nw7MqB1.jpg HTTP/1.1\" 200 139605\n",
      "[251/997] https://redgifs.com/watch/peacefulgoodnaturedkouprey\n",
      "[gallery-dl][debug] Starting DownloadJob for 'https://redgifs.com/watch/peacefulgoodnaturedkouprey'\n",
      "[redgifs][debug] Using RedgifsImageExtractor for 'https://redgifs.com/watch/peacefulgoodnaturedkouprey'\n",
      "[urllib3.connectionpool][debug] https://api.redgifs.com:443 \"GET /v2/gifs/peacefulgoodnaturedkouprey HTTP/1.1\" 200 None\n",
      "[urllib3.connectionpool][debug] https://thumbs2.redgifs.com:443 \"GET /PeacefulGoodnaturedKouprey.mp4 HTTP/1.1\" 200 8679691\n"
     ]
    },
    {
     "name": "stdout",
     "output_type": "stream",
     "text": [
      "nvme_drive/scraped_files/20220821-003129-reddit/redgifs/redgifs_peacefulgoodnaturedkouprey.mp4\n"
     ]
    },
    {
     "name": "stderr",
     "output_type": "stream",
     "text": [
      "[252/997] https://www.redgifs.com/watch/greenyellowonlyicterinewarbler\n",
      "[gallery-dl][debug] Starting DownloadJob for 'https://www.redgifs.com/watch/greenyellowonlyicterinewarbler'\n",
      "[redgifs][debug] Using RedgifsImageExtractor for 'https://www.redgifs.com/watch/greenyellowonlyicterinewarbler'\n",
      "[urllib3.connectionpool][debug] https://api.redgifs.com:443 \"GET /v2/gifs/greenyellowonlyicterinewarbler HTTP/1.1\" 200 None\n",
      "[urllib3.connectionpool][debug] https://thumbs2.redgifs.com:443 \"GET /GreenyellowOnlyIcterinewarbler.mp4 HTTP/1.1\" 200 12169747\n"
     ]
    },
    {
     "name": "stdout",
     "output_type": "stream",
     "text": [
      "nvme_drive/scraped_files/20220821-003129-reddit/redgifs/redgifs_greenyellowonlyicterinewarbler.mp4\n"
     ]
    },
    {
     "name": "stderr",
     "output_type": "stream",
     "text": [
      "[253/997] https://www.redgifs.com/watch/agonizingtrickyspreadwing\n",
      "[gallery-dl][debug] Starting DownloadJob for 'https://www.redgifs.com/watch/agonizingtrickyspreadwing'\n",
      "[redgifs][debug] Using RedgifsImageExtractor for 'https://www.redgifs.com/watch/agonizingtrickyspreadwing'\n",
      "[urllib3.connectionpool][debug] https://api.redgifs.com:443 \"GET /v2/gifs/agonizingtrickyspreadwing HTTP/1.1\" 200 None\n",
      "[urllib3.connectionpool][debug] https://thumbs2.redgifs.com:443 \"GET /AgonizingTrickySpreadwing.mp4 HTTP/1.1\" 200 4192621\n"
     ]
    },
    {
     "name": "stdout",
     "output_type": "stream",
     "text": [
      "nvme_drive/scraped_files/20220821-003129-reddit/redgifs/redgifs_agonizingtrickyspreadwing.mp4\n"
     ]
    },
    {
     "name": "stderr",
     "output_type": "stream",
     "text": [
      "[254/997] https://redgifs.com/watch/normalsourxenoposeidon\n",
      "[gallery-dl][debug] Starting DownloadJob for 'https://redgifs.com/watch/normalsourxenoposeidon'\n",
      "[redgifs][debug] Using RedgifsImageExtractor for 'https://redgifs.com/watch/normalsourxenoposeidon'\n",
      "[urllib3.connectionpool][debug] https://api.redgifs.com:443 \"GET /v2/gifs/normalsourxenoposeidon HTTP/1.1\" 200 None\n",
      "[urllib3.connectionpool][debug] https://thumbs2.redgifs.com:443 \"GET /NormalSourXenoposeidon.mp4 HTTP/1.1\" 200 14660867\n"
     ]
    },
    {
     "name": "stdout",
     "output_type": "stream",
     "text": [
      "nvme_drive/scraped_files/20220821-003129-reddit/redgifs/redgifs_normalsourxenoposeidon.mp4\n",
      "nvme_drive/scraped_files/20220821-003129-reddit/imgur/imgur_wmHoBbk_On off.jpg\n"
     ]
    },
    {
     "name": "stderr",
     "output_type": "stream",
     "text": [
      "[255/997] https://i.imgur.com/wmHoBbk.jpg\n",
      "[gallery-dl][debug] Starting DownloadJob for 'https://i.imgur.com/wmHoBbk.jpg'\n",
      "[imgur][debug] Using ImgurImageExtractor for 'https://i.imgur.com/wmHoBbk.jpg'\n",
      "[urllib3.connectionpool][debug] https://api.imgur.com:443 \"GET /post/v1/media/wmHoBbk?include=media%2Ctags%2Caccount HTTP/1.1\" 200 472\n",
      "[urllib3.connectionpool][debug] https://i.imgur.com:443 \"GET /wmHoBbk.jpg HTTP/1.1\" 200 269641\n",
      "[256/997] https://i.imgur.com/x0CPrQ5.jpeg\n",
      "[gallery-dl][debug] Starting DownloadJob for 'https://i.imgur.com/x0CPrQ5.jpeg'\n",
      "[imgur][debug] Using ImgurImageExtractor for 'https://i.imgur.com/x0CPrQ5.jpeg'\n",
      "[urllib3.connectionpool][debug] https://api.imgur.com:443 \"GET /post/v1/media/x0CPrQ5?include=media%2Ctags%2Caccount HTTP/1.1\" 200 445\n",
      "[urllib3.connectionpool][debug] https://i.imgur.com:443 \"GET /x0CPrQ5.jpg HTTP/1.1\" 200 108327\n",
      "[257/997] https://www.redgifs.com/watch/triflingcrispneondwarfgourami\n",
      "[gallery-dl][debug] Starting DownloadJob for 'https://www.redgifs.com/watch/triflingcrispneondwarfgourami'\n",
      "[redgifs][debug] Using RedgifsImageExtractor for 'https://www.redgifs.com/watch/triflingcrispneondwarfgourami'\n"
     ]
    },
    {
     "name": "stdout",
     "output_type": "stream",
     "text": [
      "nvme_drive/scraped_files/20220821-003129-reddit/imgur/imgur_x0CPrQ5_Bianka.jpg\n"
     ]
    },
    {
     "name": "stderr",
     "output_type": "stream",
     "text": [
      "[urllib3.connectionpool][debug] https://api.redgifs.com:443 \"GET /v2/gifs/triflingcrispneondwarfgourami HTTP/1.1\" 200 None\n",
      "[urllib3.connectionpool][debug] https://thumbs2.redgifs.com:443 \"GET /TriflingCrispNeondwarfgourami.mp4 HTTP/1.1\" 200 28115375\n"
     ]
    },
    {
     "name": "stdout",
     "output_type": "stream",
     "text": [
      "nvme_drive/scraped_files/20220821-003129-reddit/redgifs/redgifs_triflingcrispneondwarfgourami.mp4\n",
      "nvme_drive/scraped_files/20220821-003129-reddit/reddit/b0a0c17pjjc91.jpg\n"
     ]
    },
    {
     "name": "stderr",
     "output_type": "stream",
     "text": [
      "[258/997] https://i.redd.it/b0a0c17pjjc91.jpg\n",
      "[gallery-dl][debug] Starting DownloadJob for 'https://i.redd.it/b0a0c17pjjc91.jpg'\n",
      "[reddit][debug] Using RedditImageExtractor for 'https://i.redd.it/b0a0c17pjjc91.jpg'\n",
      "[urllib3.connectionpool][debug] https://i.redd.it:443 \"GET /b0a0c17pjjc91.jpg HTTP/1.1\" 200 122542\n",
      "[259/997] https://i.imgur.com/XHqnv2F.jpg\n",
      "[gallery-dl][debug] Starting DownloadJob for 'https://i.imgur.com/XHqnv2F.jpg'\n",
      "[imgur][debug] Using ImgurImageExtractor for 'https://i.imgur.com/XHqnv2F.jpg'\n",
      "[urllib3.connectionpool][debug] https://api.imgur.com:443 \"GET /post/v1/media/XHqnv2F?include=media%2Ctags%2Caccount HTTP/1.1\" 200 452\n",
      "[urllib3.connectionpool][debug] https://i.imgur.com:443 \"GET /XHqnv2F.jpg HTTP/1.1\" 200 1009870\n",
      "[260/997] https://i.redd.it/6htc2k645pd91.jpg\n",
      "[gallery-dl][debug] Starting DownloadJob for 'https://i.redd.it/6htc2k645pd91.jpg'\n",
      "[reddit][debug] Using RedditImageExtractor for 'https://i.redd.it/6htc2k645pd91.jpg'\n",
      "[urllib3.connectionpool][debug] https://i.redd.it:443 \"GET /6htc2k645pd91.jpg HTTP/1.1\" 200 642554\n"
     ]
    },
    {
     "name": "stdout",
     "output_type": "stream",
     "text": [
      "nvme_drive/scraped_files/20220821-003129-reddit/imgur/imgur_XHqnv2F_Bubble Bath.jpg\n",
      "nvme_drive/scraped_files/20220821-003129-reddit/reddit/6htc2k645pd91.jpg\n"
     ]
    },
    {
     "name": "stderr",
     "output_type": "stream",
     "text": [
      "[261/997] https://redgifs.com/watch/vitalliquidqueenconch\n",
      "[gallery-dl][debug] Starting DownloadJob for 'https://redgifs.com/watch/vitalliquidqueenconch'\n",
      "[redgifs][debug] Using RedgifsImageExtractor for 'https://redgifs.com/watch/vitalliquidqueenconch'\n",
      "[urllib3.connectionpool][debug] https://api.redgifs.com:443 \"GET /v2/gifs/vitalliquidqueenconch HTTP/1.1\" 200 None\n",
      "[urllib3.connectionpool][debug] https://thumbs2.redgifs.com:443 \"GET /VitalLiquidQueenconch.mp4 HTTP/1.1\" 200 8975441\n"
     ]
    },
    {
     "name": "stdout",
     "output_type": "stream",
     "text": [
      "nvme_drive/scraped_files/20220821-003129-reddit/redgifs/redgifs_vitalliquidqueenconch.mp4\n",
      "nvme_drive/scraped_files/20220821-003129-reddit/reddit/e4iejcj89vd91.jpg\n"
     ]
    },
    {
     "name": "stderr",
     "output_type": "stream",
     "text": [
      "[262/997] https://i.redd.it/e4iejcj89vd91.jpg\n",
      "[gallery-dl][debug] Starting DownloadJob for 'https://i.redd.it/e4iejcj89vd91.jpg'\n",
      "[reddit][debug] Using RedditImageExtractor for 'https://i.redd.it/e4iejcj89vd91.jpg'\n",
      "[urllib3.connectionpool][debug] https://i.redd.it:443 \"GET /e4iejcj89vd91.jpg HTTP/1.1\" 200 1166299\n",
      "[263/997] https://i.redd.it/8x1x9pwbhie91.jpg\n",
      "[gallery-dl][debug] Starting DownloadJob for 'https://i.redd.it/8x1x9pwbhie91.jpg'\n",
      "[reddit][debug] Using RedditImageExtractor for 'https://i.redd.it/8x1x9pwbhie91.jpg'\n",
      "[urllib3.connectionpool][debug] https://i.redd.it:443 \"GET /8x1x9pwbhie91.jpg HTTP/1.1\" 200 1521971\n"
     ]
    },
    {
     "name": "stdout",
     "output_type": "stream",
     "text": [
      "nvme_drive/scraped_files/20220821-003129-reddit/reddit/8x1x9pwbhie91.jpg\n"
     ]
    },
    {
     "name": "stderr",
     "output_type": "stream",
     "text": [
      "[264/997] https://www.redgifs.com/watch/luxuriousflusteredmountainlion\n",
      "[gallery-dl][debug] Starting DownloadJob for 'https://www.redgifs.com/watch/luxuriousflusteredmountainlion'\n",
      "[redgifs][debug] Using RedgifsImageExtractor for 'https://www.redgifs.com/watch/luxuriousflusteredmountainlion'\n",
      "[urllib3.connectionpool][debug] https://api.redgifs.com:443 \"GET /v2/gifs/luxuriousflusteredmountainlion HTTP/1.1\" 200 None\n",
      "[urllib3.connectionpool][debug] https://thumbs2.redgifs.com:443 \"GET /LuxuriousFlusteredMountainlion.mp4 HTTP/1.1\" 200 26735949\n"
     ]
    },
    {
     "name": "stdout",
     "output_type": "stream",
     "text": [
      "nvme_drive/scraped_files/20220821-003129-reddit/redgifs/redgifs_luxuriousflusteredmountainlion.mp4\n"
     ]
    },
    {
     "name": "stderr",
     "output_type": "stream",
     "text": [
      "[265/997] https://i.imgur.com/m6Cpcvk.jpg\n",
      "[gallery-dl][debug] Starting DownloadJob for 'https://i.imgur.com/m6Cpcvk.jpg'\n",
      "[imgur][debug] Using ImgurImageExtractor for 'https://i.imgur.com/m6Cpcvk.jpg'\n",
      "[urllib3.connectionpool][debug] https://api.imgur.com:443 \"GET /post/v1/media/m6Cpcvk?include=media%2Ctags%2Caccount HTTP/1.1\" 200 446\n",
      "[urllib3.connectionpool][debug] https://i.imgur.com:443 \"GET /m6Cpcvk.jpg HTTP/1.1\" 200 935127\n"
     ]
    },
    {
     "name": "stdout",
     "output_type": "stream",
     "text": [
      "nvme_drive/scraped_files/20220821-003129-reddit/imgur/imgur_m6Cpcvk_Stacked.jpg\n"
     ]
    },
    {
     "name": "stderr",
     "output_type": "stream",
     "text": [
      "[266/997] https://redgifs.com/watch/mindlessuneventrumpeterbird\n",
      "[gallery-dl][debug] Starting DownloadJob for 'https://redgifs.com/watch/mindlessuneventrumpeterbird'\n",
      "[redgifs][debug] Using RedgifsImageExtractor for 'https://redgifs.com/watch/mindlessuneventrumpeterbird'\n",
      "[urllib3.connectionpool][debug] https://api.redgifs.com:443 \"GET /v2/gifs/mindlessuneventrumpeterbird HTTP/1.1\" 200 None\n",
      "[urllib3.connectionpool][debug] https://thumbs2.redgifs.com:443 \"GET /MindlessUnevenTrumpeterbird.mp4 HTTP/1.1\" 200 37030363\n"
     ]
    },
    {
     "name": "stdout",
     "output_type": "stream",
     "text": [
      "nvme_drive/scraped_files/20220821-003129-reddit/redgifs/redgifs_mindlessuneventrumpeterbird.mp4\n"
     ]
    },
    {
     "name": "stderr",
     "output_type": "stream",
     "text": [
      "[267/997] https://www.redgifs.com/watch/putridoriginalaustralianfurseal\n",
      "[gallery-dl][debug] Starting DownloadJob for 'https://www.redgifs.com/watch/putridoriginalaustralianfurseal'\n",
      "[redgifs][debug] Using RedgifsImageExtractor for 'https://www.redgifs.com/watch/putridoriginalaustralianfurseal'\n",
      "[urllib3.connectionpool][debug] https://api.redgifs.com:443 \"GET /v2/gifs/putridoriginalaustralianfurseal HTTP/1.1\" 200 None\n",
      "[urllib3.connectionpool][debug] https://thumbs2.redgifs.com:443 \"GET /PutridOriginalAustralianfurseal.mp4 HTTP/1.1\" 200 5408695\n"
     ]
    },
    {
     "name": "stdout",
     "output_type": "stream",
     "text": [
      "nvme_drive/scraped_files/20220821-003129-reddit/redgifs/redgifs_putridoriginalaustralianfurseal.mp4\n"
     ]
    },
    {
     "name": "stderr",
     "output_type": "stream",
     "text": [
      "[268/997] https://redgifs.com/watch/spitefuldarkkhakisardine\n",
      "[gallery-dl][debug] Starting DownloadJob for 'https://redgifs.com/watch/spitefuldarkkhakisardine'\n",
      "[redgifs][debug] Using RedgifsImageExtractor for 'https://redgifs.com/watch/spitefuldarkkhakisardine'\n",
      "[urllib3.connectionpool][debug] https://api.redgifs.com:443 \"GET /v2/gifs/spitefuldarkkhakisardine HTTP/1.1\" 200 None\n",
      "[urllib3.connectionpool][debug] https://thumbs2.redgifs.com:443 \"GET /SpitefulDarkkhakiSardine.mp4 HTTP/1.1\" 200 27215047\n"
     ]
    },
    {
     "name": "stdout",
     "output_type": "stream",
     "text": [
      "nvme_drive/scraped_files/20220821-003129-reddit/redgifs/redgifs_spitefuldarkkhakisardine.mp4\n"
     ]
    },
    {
     "name": "stderr",
     "output_type": "stream",
     "text": [
      "[269/997] https://i.imgur.com/06fUZT2.jpeg\n",
      "[gallery-dl][debug] Starting DownloadJob for 'https://i.imgur.com/06fUZT2.jpeg'\n",
      "[imgur][debug] Using ImgurImageExtractor for 'https://i.imgur.com/06fUZT2.jpeg'\n",
      "[urllib3.connectionpool][debug] https://api.imgur.com:443 \"GET /post/v1/media/06fUZT2?include=media%2Ctags%2Caccount HTTP/1.1\" 200 445\n",
      "[urllib3.connectionpool][debug] https://i.imgur.com:443 \"GET /06fUZT2.jpg HTTP/1.1\" 200 2238473\n"
     ]
    },
    {
     "name": "stdout",
     "output_type": "stream",
     "text": [
      "nvme_drive/scraped_files/20220821-003129-reddit/imgur/imgur_06fUZT2_Seltin.jpg\n"
     ]
    },
    {
     "name": "stderr",
     "output_type": "stream",
     "text": [
      "[270/997] https://redgifs.com/watch/watchfulauthorizedfunnelweaverspider\n",
      "[gallery-dl][debug] Starting DownloadJob for 'https://redgifs.com/watch/watchfulauthorizedfunnelweaverspider'\n",
      "[redgifs][debug] Using RedgifsImageExtractor for 'https://redgifs.com/watch/watchfulauthorizedfunnelweaverspider'\n",
      "[urllib3.connectionpool][debug] https://api.redgifs.com:443 \"GET /v2/gifs/watchfulauthorizedfunnelweaverspider HTTP/1.1\" 200 None\n",
      "[urllib3.connectionpool][debug] https://thumbs2.redgifs.com:443 \"GET /WatchfulAuthorizedFunnelweaverspider.mp4 HTTP/1.1\" 200 7593477\n"
     ]
    },
    {
     "name": "stdout",
     "output_type": "stream",
     "text": [
      "nvme_drive/scraped_files/20220821-003129-reddit/redgifs/redgifs_watchfulauthorizedfunnelweaverspider.mp4\n"
     ]
    },
    {
     "name": "stderr",
     "output_type": "stream",
     "text": [
      "[271/997] https://i.imgur.com/G1PXDeN.gifv\n",
      "[gallery-dl][debug] Starting DownloadJob for 'https://i.imgur.com/G1PXDeN.gifv'\n",
      "[imgur][debug] Using ImgurImageExtractor for 'https://i.imgur.com/G1PXDeN.gifv'\n",
      "[urllib3.connectionpool][debug] https://api.imgur.com:443 \"GET /post/v1/media/G1PXDeN?include=media%2Ctags%2Caccount HTTP/1.1\" 200 483\n",
      "[urllib3.connectionpool][debug] https://i.imgur.com:443 \"GET /G1PXDeN.mp4 HTTP/1.1\" 200 699315\n"
     ]
    },
    {
     "name": "stdout",
     "output_type": "stream",
     "text": [
      "nvme_drive/scraped_files/20220821-003129-reddit/imgur/imgur_G1PXDeN_Those cakes definitely needed some icing.mp4\n"
     ]
    },
    {
     "name": "stderr",
     "output_type": "stream",
     "text": [
      "[272/997] https://redgifs.com/watch/forcefulbabyishclingfish\n",
      "[gallery-dl][debug] Starting DownloadJob for 'https://redgifs.com/watch/forcefulbabyishclingfish'\n",
      "[redgifs][debug] Using RedgifsImageExtractor for 'https://redgifs.com/watch/forcefulbabyishclingfish'\n",
      "[urllib3.connectionpool][debug] https://api.redgifs.com:443 \"GET /v2/gifs/forcefulbabyishclingfish HTTP/1.1\" 200 None\n",
      "[urllib3.connectionpool][debug] https://thumbs2.redgifs.com:443 \"GET /ForcefulBabyishClingfish.mp4 HTTP/1.1\" 200 13830578\n"
     ]
    },
    {
     "name": "stdout",
     "output_type": "stream",
     "text": [
      "nvme_drive/scraped_files/20220821-003129-reddit/redgifs/redgifs_forcefulbabyishclingfish.mp4\n",
      "nvme_drive/scraped_files/20220821-003129-reddit/imgur/imgur_Fl4sB0E_what a pair.jpg\n"
     ]
    },
    {
     "name": "stderr",
     "output_type": "stream",
     "text": [
      "[273/997] https://i.imgur.com/Fl4sB0E.jpg\n",
      "[gallery-dl][debug] Starting DownloadJob for 'https://i.imgur.com/Fl4sB0E.jpg'\n",
      "[imgur][debug] Using ImgurImageExtractor for 'https://i.imgur.com/Fl4sB0E.jpg'\n",
      "[urllib3.connectionpool][debug] https://api.imgur.com:443 \"GET /post/v1/media/Fl4sB0E?include=media%2Ctags%2Caccount HTTP/1.1\" 200 449\n",
      "[urllib3.connectionpool][debug] https://i.imgur.com:443 \"GET /Fl4sB0E.jpg HTTP/1.1\" 200 133506\n",
      "[274/997] https://i.redd.it/jzb8bre7ufg91.jpg\n",
      "[gallery-dl][debug] Starting DownloadJob for 'https://i.redd.it/jzb8bre7ufg91.jpg'\n",
      "[reddit][debug] Using RedditImageExtractor for 'https://i.redd.it/jzb8bre7ufg91.jpg'\n",
      "[urllib3.connectionpool][debug] https://i.redd.it:443 \"GET /jzb8bre7ufg91.jpg HTTP/1.1\" 200 1018915\n"
     ]
    },
    {
     "name": "stdout",
     "output_type": "stream",
     "text": [
      "nvme_drive/scraped_files/20220821-003129-reddit/reddit/jzb8bre7ufg91.jpg\n",
      "nvme_drive/scraped_files/20220821-003129-reddit/reddit/qmvagtn8x8d91.jpg\n"
     ]
    },
    {
     "name": "stderr",
     "output_type": "stream",
     "text": [
      "[275/997] https://i.redd.it/qmvagtn8x8d91.jpg\n",
      "[gallery-dl][debug] Starting DownloadJob for 'https://i.redd.it/qmvagtn8x8d91.jpg'\n",
      "[reddit][debug] Using RedditImageExtractor for 'https://i.redd.it/qmvagtn8x8d91.jpg'\n",
      "[urllib3.connectionpool][debug] https://i.redd.it:443 \"GET /qmvagtn8x8d91.jpg HTTP/1.1\" 200 170674\n",
      "[276/997] https://redgifs.com/watch/scientificslushyhapuka\n",
      "[gallery-dl][debug] Starting DownloadJob for 'https://redgifs.com/watch/scientificslushyhapuka'\n",
      "[redgifs][debug] Using RedgifsImageExtractor for 'https://redgifs.com/watch/scientificslushyhapuka'\n",
      "[urllib3.connectionpool][debug] https://api.redgifs.com:443 \"GET /v2/gifs/scientificslushyhapuka HTTP/1.1\" 200 None\n",
      "[urllib3.connectionpool][debug] https://thumbs2.redgifs.com:443 \"GET /ScientificSlushyHapuka.mp4 HTTP/1.1\" 200 40628888\n"
     ]
    },
    {
     "name": "stdout",
     "output_type": "stream",
     "text": [
      "nvme_drive/scraped_files/20220821-003129-reddit/redgifs/redgifs_scientificslushyhapuka.mp4\n"
     ]
    },
    {
     "name": "stderr",
     "output_type": "stream",
     "text": [
      "[277/997] https://i.redd.it/c63iln9olpe91.jpg\n",
      "[gallery-dl][debug] Starting DownloadJob for 'https://i.redd.it/c63iln9olpe91.jpg'\n",
      "[reddit][debug] Using RedditImageExtractor for 'https://i.redd.it/c63iln9olpe91.jpg'\n",
      "[urllib3.connectionpool][debug] https://i.redd.it:443 \"GET /c63iln9olpe91.jpg HTTP/1.1\" 200 1874402\n"
     ]
    },
    {
     "name": "stdout",
     "output_type": "stream",
     "text": [
      "nvme_drive/scraped_files/20220821-003129-reddit/reddit/c63iln9olpe91.jpg\n",
      "nvme_drive/scraped_files/20220821-003129-reddit/imgur/imgur_G43PDAc_A spread brunette, waiting to be eaten.jpg\n"
     ]
    },
    {
     "name": "stderr",
     "output_type": "stream",
     "text": [
      "[278/997] https://i.imgur.com/G43PDAc.jpg\n",
      "[gallery-dl][debug] Starting DownloadJob for 'https://i.imgur.com/G43PDAc.jpg'\n",
      "[imgur][debug] Using ImgurImageExtractor for 'https://i.imgur.com/G43PDAc.jpg'\n",
      "[urllib3.connectionpool][debug] https://api.imgur.com:443 \"GET /post/v1/media/G43PDAc?include=media%2Ctags%2Caccount HTTP/1.1\" 200 473\n",
      "[urllib3.connectionpool][debug] https://i.imgur.com:443 \"GET /G43PDAc.jpg HTTP/1.1\" 200 157467\n",
      "[279/997] https://www.redgifs.com/watch/cheerfulacceptablefrenchbulldog\n",
      "[gallery-dl][debug] Starting DownloadJob for 'https://www.redgifs.com/watch/cheerfulacceptablefrenchbulldog'\n",
      "[redgifs][debug] Using RedgifsImageExtractor for 'https://www.redgifs.com/watch/cheerfulacceptablefrenchbulldog'\n",
      "[urllib3.connectionpool][debug] https://api.redgifs.com:443 \"GET /v2/gifs/cheerfulacceptablefrenchbulldog HTTP/1.1\" 200 None\n",
      "[urllib3.connectionpool][debug] https://thumbs2.redgifs.com:443 \"GET /CheerfulAcceptableFrenchbulldog.mp4 HTTP/1.1\" 200 3690298\n"
     ]
    },
    {
     "name": "stdout",
     "output_type": "stream",
     "text": [
      "nvme_drive/scraped_files/20220821-003129-reddit/redgifs/redgifs_cheerfulacceptablefrenchbulldog.mp4\n"
     ]
    },
    {
     "name": "stderr",
     "output_type": "stream",
     "text": [
      "[280/997] https://i.imgur.com/OZw5N3t.jpg\n",
      "[gallery-dl][debug] Starting DownloadJob for 'https://i.imgur.com/OZw5N3t.jpg'\n",
      "[imgur][debug] Using ImgurImageExtractor for 'https://i.imgur.com/OZw5N3t.jpg'\n",
      "[urllib3.connectionpool][debug] https://api.imgur.com:443 \"GET /post/v1/media/OZw5N3t?include=media%2Ctags%2Caccount HTTP/1.1\" 200 460\n",
      "[urllib3.connectionpool][debug] https://i.imgur.com:443 \"GET /OZw5N3t.jpg HTTP/1.1\" 200 719298\n"
     ]
    },
    {
     "name": "stdout",
     "output_type": "stream",
     "text": [
      "nvme_drive/scraped_files/20220821-003129-reddit/imgur/imgur_OZw5N3t_Natural beauty.jpg\n"
     ]
    },
    {
     "name": "stderr",
     "output_type": "stream",
     "text": [
      "[281/997] https://i.imgur.com/cZnA7kA.gifv\n",
      "[gallery-dl][debug] Starting DownloadJob for 'https://i.imgur.com/cZnA7kA.gifv'\n",
      "[imgur][debug] Using ImgurImageExtractor for 'https://i.imgur.com/cZnA7kA.gifv'\n",
      "[urllib3.connectionpool][debug] https://api.imgur.com:443 \"GET /post/v1/media/cZnA7kA?include=media%2Ctags%2Caccount HTTP/1.1\" 200 451\n",
      "[urllib3.connectionpool][debug] https://i.imgur.com:443 \"GET /cZnA7kA.mp4 HTTP/1.1\" 200 841768\n"
     ]
    },
    {
     "name": "stdout",
     "output_type": "stream",
     "text": [
      "nvme_drive/scraped_files/20220821-003129-reddit/imgur/imgur_cZnA7kA_jiggle.mp4\n"
     ]
    },
    {
     "name": "stderr",
     "output_type": "stream",
     "text": [
      "[282/997] https://i.redd.it/om6mcygqkch91.gif\n",
      "[gallery-dl][debug] Starting DownloadJob for 'https://i.redd.it/om6mcygqkch91.gif'\n",
      "[reddit][debug] Using RedditImageExtractor for 'https://i.redd.it/om6mcygqkch91.gif'\n",
      "[urllib3.connectionpool][debug] https://i.redd.it:443 \"GET /om6mcygqkch91.gif HTTP/1.1\" 200 1643735\n"
     ]
    },
    {
     "name": "stdout",
     "output_type": "stream",
     "text": [
      "nvme_drive/scraped_files/20220821-003129-reddit/reddit/om6mcygqkch91.gif\n",
      "nvme_drive/scraped_files/20220821-003129-reddit/reddit/p1d8znlah4f91.jpg\n"
     ]
    },
    {
     "name": "stderr",
     "output_type": "stream",
     "text": [
      "[283/997] https://i.redd.it/p1d8znlah4f91.jpg\n",
      "[gallery-dl][debug] Starting DownloadJob for 'https://i.redd.it/p1d8znlah4f91.jpg'\n",
      "[reddit][debug] Using RedditImageExtractor for 'https://i.redd.it/p1d8znlah4f91.jpg'\n",
      "[urllib3.connectionpool][debug] https://i.redd.it:443 \"GET /p1d8znlah4f91.jpg HTTP/1.1\" 200 242532\n",
      "[284/997] https://i.imgur.com/WOe6n1B.jpg\n",
      "[gallery-dl][debug] Starting DownloadJob for 'https://i.imgur.com/WOe6n1B.jpg'\n",
      "[imgur][debug] Using ImgurImageExtractor for 'https://i.imgur.com/WOe6n1B.jpg'\n",
      "[urllib3.connectionpool][debug] https://api.imgur.com:443 \"GET /post/v1/media/WOe6n1B?include=media%2Ctags%2Caccount HTTP/1.1\" 200 449\n",
      "[urllib3.connectionpool][debug] https://i.imgur.com:443 \"GET /WOe6n1B.jpg HTTP/1.1\" 200 126024\n",
      "[285/997] https://redgifs.com/watch/reflectingsuperiornudibranch\n",
      "[gallery-dl][debug] Starting DownloadJob for 'https://redgifs.com/watch/reflectingsuperiornudibranch'\n",
      "[redgifs][debug] Using RedgifsImageExtractor for 'https://redgifs.com/watch/reflectingsuperiornudibranch'\n",
      "[urllib3.connectionpool][debug] https://api.redgifs.com:443 \"GET /v2/gifs/reflectingsuperiornudibranch HTTP/1.1\" 200 None\n"
     ]
    },
    {
     "name": "stdout",
     "output_type": "stream",
     "text": [
      "nvme_drive/scraped_files/20220821-003129-reddit/imgur/imgur_WOe6n1B_Left vs right.jpg\n"
     ]
    },
    {
     "name": "stderr",
     "output_type": "stream",
     "text": [
      "[urllib3.connectionpool][debug] https://thumbs2.redgifs.com:443 \"GET /ReflectingSuperiorNudibranch.mp4 HTTP/1.1\" 200 7529581\n"
     ]
    },
    {
     "name": "stdout",
     "output_type": "stream",
     "text": [
      "nvme_drive/scraped_files/20220821-003129-reddit/redgifs/redgifs_reflectingsuperiornudibranch.mp4\n"
     ]
    },
    {
     "name": "stderr",
     "output_type": "stream",
     "text": [
      "[286/997] https://i.redd.it/j44porbblpg91.gif\n",
      "[gallery-dl][debug] Starting DownloadJob for 'https://i.redd.it/j44porbblpg91.gif'\n",
      "[reddit][debug] Using RedditImageExtractor for 'https://i.redd.it/j44porbblpg91.gif'\n",
      "[urllib3.connectionpool][debug] https://i.redd.it:443 \"GET /j44porbblpg91.gif HTTP/1.1\" 200 2048593\n"
     ]
    },
    {
     "name": "stdout",
     "output_type": "stream",
     "text": [
      "nvme_drive/scraped_files/20220821-003129-reddit/reddit/j44porbblpg91.gif\n",
      "nvme_drive/scraped_files/20220821-003129-reddit/imgur/imgur_SRkbxCa_Malena.mp4\n"
     ]
    },
    {
     "name": "stderr",
     "output_type": "stream",
     "text": [
      "[287/997] https://i.imgur.com/SRkbxCa.gifv\n",
      "[gallery-dl][debug] Starting DownloadJob for 'https://i.imgur.com/SRkbxCa.gifv'\n",
      "[imgur][debug] Using ImgurImageExtractor for 'https://i.imgur.com/SRkbxCa.gifv'\n",
      "[urllib3.connectionpool][debug] https://api.imgur.com:443 \"GET /post/v1/media/SRkbxCa?include=media%2Ctags%2Caccount HTTP/1.1\" 200 461\n",
      "[urllib3.connectionpool][debug] https://i.imgur.com:443 \"GET /SRkbxCa.mp4 HTTP/1.1\" 200 223307\n",
      "[288/997] https://www.redgifs.com/watch/tenderdrearymountaincat\n",
      "[gallery-dl][debug] Starting DownloadJob for 'https://www.redgifs.com/watch/tenderdrearymountaincat'\n",
      "[redgifs][debug] Using RedgifsImageExtractor for 'https://www.redgifs.com/watch/tenderdrearymountaincat'\n",
      "[urllib3.connectionpool][debug] https://api.redgifs.com:443 \"GET /v2/gifs/tenderdrearymountaincat HTTP/1.1\" 200 None\n",
      "[urllib3.connectionpool][debug] https://thumbs2.redgifs.com:443 \"GET /TenderDrearyMountaincat.mp4 HTTP/1.1\" 200 4375631\n"
     ]
    },
    {
     "name": "stdout",
     "output_type": "stream",
     "text": [
      "nvme_drive/scraped_files/20220821-003129-reddit/redgifs/redgifs_tenderdrearymountaincat.mp4\n"
     ]
    },
    {
     "name": "stderr",
     "output_type": "stream",
     "text": [
      "[289/997] https://i.imgur.com/3C2R8vJ.gifv\n",
      "[gallery-dl][debug] Starting DownloadJob for 'https://i.imgur.com/3C2R8vJ.gifv'\n",
      "[imgur][debug] Using ImgurImageExtractor for 'https://i.imgur.com/3C2R8vJ.gifv'\n",
      "[urllib3.connectionpool][debug] https://api.imgur.com:443 \"GET /post/v1/media/3C2R8vJ?include=media%2Ctags%2Caccount HTTP/1.1\" 200 462\n",
      "[urllib3.connectionpool][debug] https://i.imgur.com:443 \"GET /3C2R8vJ.mp4 HTTP/1.1\" 200 5584512\n"
     ]
    },
    {
     "name": "stdout",
     "output_type": "stream",
     "text": [
      "nvme_drive/scraped_files/20220821-003129-reddit/imgur/imgur_3C2R8vJ_Elite Cheeks.mp4\n",
      "nvme_drive/scraped_files/20220821-003129-reddit/reddit/r25o71m8sff91.gif\n",
      "nvme_drive/scraped_files/20220821-003129-reddit/reddit/hocldcvu4de91.jpg\n"
     ]
    },
    {
     "name": "stderr",
     "output_type": "stream",
     "text": [
      "[290/997] https://i.redd.it/r25o71m8sff91.gif\n",
      "[gallery-dl][debug] Starting DownloadJob for 'https://i.redd.it/r25o71m8sff91.gif'\n",
      "[reddit][debug] Using RedditImageExtractor for 'https://i.redd.it/r25o71m8sff91.gif'\n",
      "[urllib3.connectionpool][debug] https://i.redd.it:443 \"GET /r25o71m8sff91.gif HTTP/1.1\" 200 737358\n",
      "[291/997] https://i.redd.it/hocldcvu4de91.jpg\n",
      "[gallery-dl][debug] Starting DownloadJob for 'https://i.redd.it/hocldcvu4de91.jpg'\n",
      "[reddit][debug] Using RedditImageExtractor for 'https://i.redd.it/hocldcvu4de91.jpg'\n",
      "[urllib3.connectionpool][debug] https://i.redd.it:443 \"GET /hocldcvu4de91.jpg HTTP/1.1\" 200 149929\n",
      "[292/997] https://i.imgur.com/wgGkKU4.gif\n",
      "[gallery-dl][debug] Starting DownloadJob for 'https://i.imgur.com/wgGkKU4.gif'\n",
      "[imgur][debug] Using ImgurImageExtractor for 'https://i.imgur.com/wgGkKU4.gif'\n",
      "[urllib3.connectionpool][debug] https://api.imgur.com:443 \"GET /post/v1/media/wgGkKU4?include=media%2Ctags%2Caccount HTTP/1.1\" 200 471\n",
      "[urllib3.connectionpool][debug] https://i.imgur.com:443 \"GET /wgGkKU4.mp4 HTTP/1.1\" 200 8258078\n"
     ]
    },
    {
     "name": "stdout",
     "output_type": "stream",
     "text": [
      "nvme_drive/scraped_files/20220821-003129-reddit/imgur/imgur_wgGkKU4_Damn.mp4\n"
     ]
    },
    {
     "name": "stderr",
     "output_type": "stream",
     "text": [
      "[293/997] https://www.redgifs.com/watch/spitefulsardoniceelelephant\n",
      "[gallery-dl][debug] Starting DownloadJob for 'https://www.redgifs.com/watch/spitefulsardoniceelelephant'\n",
      "[redgifs][debug] Using RedgifsImageExtractor for 'https://www.redgifs.com/watch/spitefulsardoniceelelephant'\n",
      "[urllib3.connectionpool][debug] https://api.redgifs.com:443 \"GET /v2/gifs/spitefulsardoniceelelephant HTTP/1.1\" 200 None\n",
      "[urllib3.connectionpool][debug] https://thumbs2.redgifs.com:443 \"GET /SpitefulSardonicEelelephant.mp4 HTTP/1.1\" 200 6069946\n"
     ]
    },
    {
     "name": "stdout",
     "output_type": "stream",
     "text": [
      "nvme_drive/scraped_files/20220821-003129-reddit/redgifs/redgifs_spitefulsardoniceelelephant.mp4\n",
      "nvme_drive/scraped_files/20220821-003129-reddit/imgur/imgur_QnlLVua_A dinner offering.jpg\n"
     ]
    },
    {
     "name": "stderr",
     "output_type": "stream",
     "text": [
      "[294/997] https://i.imgur.com/QnlLVua.jpg\n",
      "[gallery-dl][debug] Starting DownloadJob for 'https://i.imgur.com/QnlLVua.jpg'\n",
      "[imgur][debug] Using ImgurImageExtractor for 'https://i.imgur.com/QnlLVua.jpg'\n",
      "[urllib3.connectionpool][debug] https://api.imgur.com:443 \"GET /post/v1/media/QnlLVua?include=media%2Ctags%2Caccount HTTP/1.1\" 200 462\n",
      "[urllib3.connectionpool][debug] https://i.imgur.com:443 \"GET /QnlLVua.jpg HTTP/1.1\" 200 88916\n",
      "[295/997] https://redgifs.com/watch/littlenocturnalwhimbrel\n",
      "[gallery-dl][debug] Starting DownloadJob for 'https://redgifs.com/watch/littlenocturnalwhimbrel'\n",
      "[redgifs][debug] Using RedgifsImageExtractor for 'https://redgifs.com/watch/littlenocturnalwhimbrel'\n",
      "[urllib3.connectionpool][debug] https://api.redgifs.com:443 \"GET /v2/gifs/littlenocturnalwhimbrel HTTP/1.1\" 200 None\n",
      "[urllib3.connectionpool][debug] https://thumbs2.redgifs.com:443 \"GET /LittleNocturnalWhimbrel.mp4 HTTP/1.1\" 200 9610937\n"
     ]
    },
    {
     "name": "stdout",
     "output_type": "stream",
     "text": [
      "nvme_drive/scraped_files/20220821-003129-reddit/redgifs/redgifs_littlenocturnalwhimbrel.mp4\n"
     ]
    },
    {
     "name": "stderr",
     "output_type": "stream",
     "text": [
      "[296/997] https://i.imgur.com/Bjc9V0E.jpg\n",
      "[gallery-dl][debug] Starting DownloadJob for 'https://i.imgur.com/Bjc9V0E.jpg'\n",
      "[imgur][debug] Using ImgurImageExtractor for 'https://i.imgur.com/Bjc9V0E.jpg'\n",
      "[urllib3.connectionpool][debug] https://api.imgur.com:443 \"GET /post/v1/media/Bjc9V0E?include=media%2Ctags%2Caccount HTTP/1.1\" 200 472\n",
      "[urllib3.connectionpool][debug] https://i.imgur.com:443 \"GET /Bjc9V0E.jpg HTTP/1.1\" 200 915129\n"
     ]
    },
    {
     "name": "stdout",
     "output_type": "stream",
     "text": [
      "nvme_drive/scraped_files/20220821-003129-reddit/imgur/imgur_Bjc9V0E_Heavy hangers.jpg\n",
      "nvme_drive/scraped_files/20220821-003129-reddit/reddit/45fu34ooead91.jpg\n",
      "nvme_drive/scraped_files/20220821-003129-reddit/reddit/ignvctajhte91.jpg\n"
     ]
    },
    {
     "name": "stderr",
     "output_type": "stream",
     "text": [
      "[297/997] https://i.redd.it/45fu34ooead91.jpg\n",
      "[gallery-dl][debug] Starting DownloadJob for 'https://i.redd.it/45fu34ooead91.jpg'\n",
      "[reddit][debug] Using RedditImageExtractor for 'https://i.redd.it/45fu34ooead91.jpg'\n",
      "[urllib3.connectionpool][debug] https://i.redd.it:443 \"GET /45fu34ooead91.jpg HTTP/1.1\" 200 46841\n",
      "[298/997] https://i.redd.it/ignvctajhte91.jpg\n",
      "[gallery-dl][debug] Starting DownloadJob for 'https://i.redd.it/ignvctajhte91.jpg'\n",
      "[reddit][debug] Using RedditImageExtractor for 'https://i.redd.it/ignvctajhte91.jpg'\n",
      "[urllib3.connectionpool][debug] https://i.redd.it:443 \"GET /ignvctajhte91.jpg HTTP/1.1\" 200 392639\n",
      "[299/997] https://i.imgur.com/JCbyjOo.jpg\n",
      "[gallery-dl][debug] Starting DownloadJob for 'https://i.imgur.com/JCbyjOo.jpg'\n",
      "[imgur][debug] Using ImgurImageExtractor for 'https://i.imgur.com/JCbyjOo.jpg'\n",
      "[urllib3.connectionpool][debug] https://api.imgur.com:443 \"GET /post/v1/media/JCbyjOo?include=media%2Ctags%2Caccount HTTP/1.1\" 200 465\n",
      "[urllib3.connectionpool][debug] https://i.imgur.com:443 \"GET /JCbyjOo.jpg HTTP/1.1\" 200 235147\n",
      "[300/997] https://i.imgur.com/52EIsFc.gifv\n",
      "[gallery-dl][debug] Starting DownloadJob for 'https://i.imgur.com/52EIsFc.gifv'\n",
      "[imgur][debug] Using ImgurImageExtractor for 'https://i.imgur.com/52EIsFc.gifv'\n",
      "[urllib3.connectionpool][debug] https://api.imgur.com:443 \"GET /post/v1/media/52EIsFc?include=media%2Ctags%2Caccount HTTP/1.1\" 200 491\n",
      "[urllib3.connectionpool][debug] https://i.imgur.com:443 \"GET /52EIsFc.mp4 HTTP/1.1\" 200 2307591\n"
     ]
    },
    {
     "name": "stdout",
     "output_type": "stream",
     "text": [
      "nvme_drive/scraped_files/20220821-003129-reddit/imgur/imgur_JCbyjOo_She is ready for the beach.jpg\n",
      "nvme_drive/scraped_files/20220821-003129-reddit/imgur/imgur_52EIsFc_Jillian Janson plays with herself while being watched.mp4\n"
     ]
    },
    {
     "name": "stderr",
     "output_type": "stream",
     "text": [
      "[301/997] https://www.redgifs.com/watch/loosegraciousmouflon\n",
      "[gallery-dl][debug] Starting DownloadJob for 'https://www.redgifs.com/watch/loosegraciousmouflon'\n",
      "[redgifs][debug] Using RedgifsImageExtractor for 'https://www.redgifs.com/watch/loosegraciousmouflon'\n",
      "[urllib3.connectionpool][debug] https://api.redgifs.com:443 \"GET /v2/gifs/loosegraciousmouflon HTTP/1.1\" 200 None\n",
      "[urllib3.connectionpool][debug] https://thumbs2.redgifs.com:443 \"GET /LooseGraciousMouflon.mp4 HTTP/1.1\" 200 3527208\n"
     ]
    },
    {
     "name": "stdout",
     "output_type": "stream",
     "text": [
      "nvme_drive/scraped_files/20220821-003129-reddit/redgifs/redgifs_loosegraciousmouflon.mp4\n"
     ]
    },
    {
     "name": "stderr",
     "output_type": "stream",
     "text": [
      "[302/997] https://redgifs.com/watch/sophisticatedvisiblebluebottlejellyfish\n",
      "[gallery-dl][debug] Starting DownloadJob for 'https://redgifs.com/watch/sophisticatedvisiblebluebottlejellyfish'\n",
      "[redgifs][debug] Using RedgifsImageExtractor for 'https://redgifs.com/watch/sophisticatedvisiblebluebottlejellyfish'\n",
      "[urllib3.connectionpool][debug] https://api.redgifs.com:443 \"GET /v2/gifs/sophisticatedvisiblebluebottlejellyfish HTTP/1.1\" 200 None\n",
      "[urllib3.connectionpool][debug] https://thumbs2.redgifs.com:443 \"GET /SophisticatedVisibleBluebottlejellyfish.mp4 HTTP/1.1\" 200 29416094\n"
     ]
    },
    {
     "name": "stdout",
     "output_type": "stream",
     "text": [
      "nvme_drive/scraped_files/20220821-003129-reddit/redgifs/redgifs_sophisticatedvisiblebluebottlejellyfish.mp4\n"
     ]
    },
    {
     "name": "stderr",
     "output_type": "stream",
     "text": [
      "[303/997] https://redgifs.com/watch/fussynotedmastodon\n",
      "[gallery-dl][debug] Starting DownloadJob for 'https://redgifs.com/watch/fussynotedmastodon'\n",
      "[redgifs][debug] Using RedgifsImageExtractor for 'https://redgifs.com/watch/fussynotedmastodon'\n",
      "[urllib3.connectionpool][debug] https://api.redgifs.com:443 \"GET /v2/gifs/fussynotedmastodon HTTP/1.1\" 200 None\n",
      "[urllib3.connectionpool][debug] https://thumbs2.redgifs.com:443 \"GET /FussyNotedMastodon.mp4 HTTP/1.1\" 200 7545266\n"
     ]
    },
    {
     "name": "stdout",
     "output_type": "stream",
     "text": [
      "nvme_drive/scraped_files/20220821-003129-reddit/redgifs/redgifs_fussynotedmastodon.mp4\n"
     ]
    },
    {
     "name": "stderr",
     "output_type": "stream",
     "text": [
      "[304/997] https://redgifs.com/watch/wingedsamenakedmolerat\n",
      "[gallery-dl][debug] Starting DownloadJob for 'https://redgifs.com/watch/wingedsamenakedmolerat'\n",
      "[redgifs][debug] Using RedgifsImageExtractor for 'https://redgifs.com/watch/wingedsamenakedmolerat'\n",
      "[urllib3.connectionpool][debug] https://api.redgifs.com:443 \"GET /v2/gifs/wingedsamenakedmolerat HTTP/1.1\" 200 None\n",
      "[urllib3.connectionpool][debug] https://thumbs2.redgifs.com:443 \"GET /WingedSameNakedmolerat.mp4 HTTP/1.1\" 200 42428476\n"
     ]
    },
    {
     "name": "stdout",
     "output_type": "stream",
     "text": [
      "nvme_drive/scraped_files/20220821-003129-reddit/redgifs/redgifs_wingedsamenakedmolerat.mp4\n",
      "nvme_drive/scraped_files/20220821-003129-reddit/imgur/imgur_hnE7Wi0_Feeling frosty.jpg\n"
     ]
    },
    {
     "name": "stderr",
     "output_type": "stream",
     "text": [
      "[305/997] https://i.imgur.com/hnE7Wi0.jpg\n",
      "[gallery-dl][debug] Starting DownloadJob for 'https://i.imgur.com/hnE7Wi0.jpg'\n",
      "[imgur][debug] Using ImgurImageExtractor for 'https://i.imgur.com/hnE7Wi0.jpg'\n",
      "[urllib3.connectionpool][debug] https://api.imgur.com:443 \"GET /post/v1/media/hnE7Wi0?include=media%2Ctags%2Caccount HTTP/1.1\" 200 471\n",
      "[urllib3.connectionpool][debug] https://i.imgur.com:443 \"GET /hnE7Wi0.jpg HTTP/1.1\" 200 185808\n",
      "[306/997] https://i.redd.it/zz9v9ucjsle91.jpg\n",
      "[gallery-dl][debug] Starting DownloadJob for 'https://i.redd.it/zz9v9ucjsle91.jpg'\n",
      "[reddit][debug] Using RedditImageExtractor for 'https://i.redd.it/zz9v9ucjsle91.jpg'\n",
      "[urllib3.connectionpool][debug] https://i.redd.it:443 \"GET /zz9v9ucjsle91.jpg HTTP/1.1\" 200 2655192\n"
     ]
    },
    {
     "name": "stdout",
     "output_type": "stream",
     "text": [
      "nvme_drive/scraped_files/20220821-003129-reddit/reddit/zz9v9ucjsle91.jpg\n"
     ]
    },
    {
     "name": "stderr",
     "output_type": "stream",
     "text": [
      "[307/997] https://www.redgifs.com/watch/sinfulmealywidowspider\n",
      "[gallery-dl][debug] Starting DownloadJob for 'https://www.redgifs.com/watch/sinfulmealywidowspider'\n",
      "[redgifs][debug] Using RedgifsImageExtractor for 'https://www.redgifs.com/watch/sinfulmealywidowspider'\n",
      "[urllib3.connectionpool][debug] https://api.redgifs.com:443 \"GET /v2/gifs/sinfulmealywidowspider HTTP/1.1\" 200 None\n",
      "[urllib3.connectionpool][debug] https://thumbs2.redgifs.com:443 \"GET /SinfulMealyWidowspider.mp4 HTTP/1.1\" 200 51669370\n"
     ]
    },
    {
     "name": "stdout",
     "output_type": "stream",
     "text": [
      "nvme_drive/scraped_files/20220821-003129-reddit/redgifs/redgifs_sinfulmealywidowspider.mp4\n"
     ]
    },
    {
     "name": "stderr",
     "output_type": "stream",
     "text": [
      "[308/997] https://i.redd.it/m7i15y7i8ae91.jpg\n",
      "[gallery-dl][debug] Starting DownloadJob for 'https://i.redd.it/m7i15y7i8ae91.jpg'\n",
      "[reddit][debug] Using RedditImageExtractor for 'https://i.redd.it/m7i15y7i8ae91.jpg'\n",
      "[urllib3.connectionpool][debug] https://i.redd.it:443 \"GET /m7i15y7i8ae91.jpg HTTP/1.1\" 200 2316862\n"
     ]
    },
    {
     "name": "stdout",
     "output_type": "stream",
     "text": [
      "nvme_drive/scraped_files/20220821-003129-reddit/reddit/m7i15y7i8ae91.jpg\n",
      "nvme_drive/scraped_files/20220821-003129-reddit/reddit/brxvgha037e91.jpg\n"
     ]
    },
    {
     "name": "stderr",
     "output_type": "stream",
     "text": [
      "[309/997] https://i.redd.it/brxvgha037e91.jpg\n",
      "[gallery-dl][debug] Starting DownloadJob for 'https://i.redd.it/brxvgha037e91.jpg'\n",
      "[reddit][debug] Using RedditImageExtractor for 'https://i.redd.it/brxvgha037e91.jpg'\n",
      "[urllib3.connectionpool][debug] https://i.redd.it:443 \"GET /brxvgha037e91.jpg HTTP/1.1\" 200 156808\n",
      "[310/997] https://i.imgur.com/nTc8Wfw.jpg\n",
      "[gallery-dl][debug] Starting DownloadJob for 'https://i.imgur.com/nTc8Wfw.jpg'\n",
      "[imgur][debug] Using ImgurImageExtractor for 'https://i.imgur.com/nTc8Wfw.jpg'\n",
      "[urllib3.connectionpool][debug] https://api.imgur.com:443 \"GET /post/v1/media/nTc8Wfw?include=media%2Ctags%2Caccount HTTP/1.1\" 200 492\n",
      "[urllib3.connectionpool][debug] https://i.imgur.com:443 \"GET /nTc8Wfw.jpg HTTP/1.1\" 200 1915946\n"
     ]
    },
    {
     "name": "stdout",
     "output_type": "stream",
     "text": [
      "nvme_drive/scraped_files/20220821-003129-reddit/imgur/imgur_nTc8Wfw_That Ass.jpg\n"
     ]
    },
    {
     "name": "stderr",
     "output_type": "stream",
     "text": [
      "[311/997] https://redgifs.com/watch/blacksquaregyrfalcon\n",
      "[gallery-dl][debug] Starting DownloadJob for 'https://redgifs.com/watch/blacksquaregyrfalcon'\n",
      "[redgifs][debug] Using RedgifsImageExtractor for 'https://redgifs.com/watch/blacksquaregyrfalcon'\n",
      "[urllib3.connectionpool][debug] https://api.redgifs.com:443 \"GET /v2/gifs/blacksquaregyrfalcon HTTP/1.1\" 200 None\n",
      "[urllib3.connectionpool][debug] https://thumbs2.redgifs.com:443 \"GET /BlackSquareGyrfalcon.mp4 HTTP/1.1\" 200 34769704\n"
     ]
    },
    {
     "name": "stdout",
     "output_type": "stream",
     "text": [
      "nvme_drive/scraped_files/20220821-003129-reddit/redgifs/redgifs_blacksquaregyrfalcon.mp4\n",
      "nvme_drive/scraped_files/20220821-003129-reddit/reddit/fm6xirau4wg91.jpg\n"
     ]
    },
    {
     "name": "stderr",
     "output_type": "stream",
     "text": [
      "[312/997] https://i.redd.it/fm6xirau4wg91.jpg\n",
      "[gallery-dl][debug] Starting DownloadJob for 'https://i.redd.it/fm6xirau4wg91.jpg'\n",
      "[reddit][debug] Using RedditImageExtractor for 'https://i.redd.it/fm6xirau4wg91.jpg'\n",
      "[urllib3.connectionpool][debug] https://i.redd.it:443 \"GET /fm6xirau4wg91.jpg HTTP/1.1\" 200 83511\n",
      "[313/997] https://i.imgur.com/jocK4LQ.jpg\n",
      "[gallery-dl][debug] Starting DownloadJob for 'https://i.imgur.com/jocK4LQ.jpg'\n",
      "[imgur][debug] Using ImgurImageExtractor for 'https://i.imgur.com/jocK4LQ.jpg'\n",
      "[urllib3.connectionpool][debug] https://api.imgur.com:443 \"GET /post/v1/media/jocK4LQ?include=media%2Ctags%2Caccount HTTP/1.1\" 200 485\n",
      "[urllib3.connectionpool][debug] https://i.imgur.com:443 \"GET /jocK4LQ.jpg HTTP/1.1\" 200 1655476\n"
     ]
    },
    {
     "name": "stdout",
     "output_type": "stream",
     "text": [
      "nvme_drive/scraped_files/20220821-003129-reddit/imgur/imgur_jocK4LQ_Aerial.jpg\n"
     ]
    },
    {
     "name": "stderr",
     "output_type": "stream",
     "text": [
      "[314/997] https://i.redd.it/heyv598e5jm61.jpg\n",
      "[gallery-dl][debug] Starting DownloadJob for 'https://i.redd.it/heyv598e5jm61.jpg'\n",
      "[reddit][debug] Using RedditImageExtractor for 'https://i.redd.it/heyv598e5jm61.jpg'\n",
      "[urllib3.connectionpool][debug] https://i.redd.it:443 \"GET /heyv598e5jm61.jpg HTTP/1.1\" 200 1565252\n"
     ]
    },
    {
     "name": "stdout",
     "output_type": "stream",
     "text": [
      "nvme_drive/scraped_files/20220821-003129-reddit/reddit/heyv598e5jm61.jpg\n"
     ]
    },
    {
     "name": "stderr",
     "output_type": "stream",
     "text": [
      "[315/997] https://i.imgur.com/3C1Uljo.jpg\n",
      "[gallery-dl][debug] Starting DownloadJob for 'https://i.imgur.com/3C1Uljo.jpg'\n",
      "[imgur][debug] Using ImgurImageExtractor for 'https://i.imgur.com/3C1Uljo.jpg'\n",
      "[urllib3.connectionpool][debug] https://api.imgur.com:443 \"GET /post/v1/media/3C1Uljo?include=media%2Ctags%2Caccount HTTP/1.1\" 200 470\n",
      "[urllib3.connectionpool][debug] https://i.imgur.com:443 \"GET /3C1Uljo.jpg HTTP/1.1\" 200 399017\n"
     ]
    },
    {
     "name": "stdout",
     "output_type": "stream",
     "text": [
      "nvme_drive/scraped_files/20220821-003129-reddit/imgur/imgur_3C1Uljo_Hair to butt.jpg\n"
     ]
    },
    {
     "name": "stderr",
     "output_type": "stream",
     "text": [
      "[316/997] https://redgifs.com/watch/hugehollowbrahmanbull\n",
      "[gallery-dl][debug] Starting DownloadJob for 'https://redgifs.com/watch/hugehollowbrahmanbull'\n",
      "[redgifs][debug] Using RedgifsImageExtractor for 'https://redgifs.com/watch/hugehollowbrahmanbull'\n",
      "[urllib3.connectionpool][debug] https://api.redgifs.com:443 \"GET /v2/gifs/hugehollowbrahmanbull HTTP/1.1\" 200 None\n",
      "[urllib3.connectionpool][debug] https://thumbs2.redgifs.com:443 \"GET /HugeHollowBrahmanbull.mp4 HTTP/1.1\" 200 2911614\n"
     ]
    },
    {
     "name": "stdout",
     "output_type": "stream",
     "text": [
      "nvme_drive/scraped_files/20220821-003129-reddit/redgifs/redgifs_hugehollowbrahmanbull.mp4\n"
     ]
    },
    {
     "name": "stderr",
     "output_type": "stream",
     "text": [
      "[317/997] https://www.redgifs.com/watch/blindloyalwaterboatman\n",
      "[gallery-dl][debug] Starting DownloadJob for 'https://www.redgifs.com/watch/blindloyalwaterboatman'\n",
      "[redgifs][debug] Using RedgifsImageExtractor for 'https://www.redgifs.com/watch/blindloyalwaterboatman'\n",
      "[urllib3.connectionpool][debug] https://api.redgifs.com:443 \"GET /v2/gifs/blindloyalwaterboatman HTTP/1.1\" 200 None\n",
      "[urllib3.connectionpool][debug] https://thumbs2.redgifs.com:443 \"GET /BlindLoyalWaterboatman.mp4 HTTP/1.1\" 200 17761069\n"
     ]
    },
    {
     "name": "stdout",
     "output_type": "stream",
     "text": [
      "nvme_drive/scraped_files/20220821-003129-reddit/redgifs/redgifs_blindloyalwaterboatman.mp4\n"
     ]
    },
    {
     "name": "stderr",
     "output_type": "stream",
     "text": [
      "[318/997] https://i.imgur.com/B7ZaDvB.jpg\n",
      "[gallery-dl][debug] Starting DownloadJob for 'https://i.imgur.com/B7ZaDvB.jpg'\n",
      "[imgur][debug] Using ImgurImageExtractor for 'https://i.imgur.com/B7ZaDvB.jpg'\n",
      "[urllib3.connectionpool][debug] https://api.imgur.com:443 \"GET /post/v1/media/B7ZaDvB?include=media%2Ctags%2Caccount HTTP/1.1\" 200 477\n",
      "[urllib3.connectionpool][debug] https://i.imgur.com:443 \"GET /B7ZaDvB.jpg HTTP/1.1\" 200 749249\n"
     ]
    },
    {
     "name": "stdout",
     "output_type": "stream",
     "text": [
      "nvme_drive/scraped_files/20220821-003129-reddit/imgur/imgur_B7ZaDvB_Marta Gromova and Katti Colour.jpg\n",
      "nvme_drive/scraped_files/20220821-003129-reddit/reddit/78ipgxqmgeh91.jpg\n"
     ]
    },
    {
     "name": "stderr",
     "output_type": "stream",
     "text": [
      "[319/997] https://i.redd.it/78ipgxqmgeh91.jpg\n",
      "[gallery-dl][debug] Starting DownloadJob for 'https://i.redd.it/78ipgxqmgeh91.jpg'\n",
      "[reddit][debug] Using RedditImageExtractor for 'https://i.redd.it/78ipgxqmgeh91.jpg'\n",
      "[urllib3.connectionpool][debug] https://i.redd.it:443 \"GET /78ipgxqmgeh91.jpg HTTP/1.1\" 200 55469\n",
      "[320/997] https://i.redd.it/nbd6imkcwjf91.jpg\n",
      "[gallery-dl][debug] Starting DownloadJob for 'https://i.redd.it/nbd6imkcwjf91.jpg'\n",
      "[reddit][debug] Using RedditImageExtractor for 'https://i.redd.it/nbd6imkcwjf91.jpg'\n",
      "[urllib3.connectionpool][debug] https://i.redd.it:443 \"GET /nbd6imkcwjf91.jpg HTTP/1.1\" 200 1165366\n"
     ]
    },
    {
     "name": "stdout",
     "output_type": "stream",
     "text": [
      "nvme_drive/scraped_files/20220821-003129-reddit/reddit/nbd6imkcwjf91.jpg\n",
      "nvme_drive/scraped_files/20220821-003129-reddit/imgur/imgur_xINJhHU_Nice Pair.jpg\n"
     ]
    },
    {
     "name": "stderr",
     "output_type": "stream",
     "text": [
      "[321/997] https://i.imgur.com/xINJhHU.jpg\n",
      "[gallery-dl][debug] Starting DownloadJob for 'https://i.imgur.com/xINJhHU.jpg'\n",
      "[imgur][debug] Using ImgurImageExtractor for 'https://i.imgur.com/xINJhHU.jpg'\n",
      "[urllib3.connectionpool][debug] https://api.imgur.com:443 \"GET /post/v1/media/xINJhHU?include=media%2Ctags%2Caccount HTTP/1.1\" 200 450\n",
      "[urllib3.connectionpool][debug] https://i.imgur.com:443 \"GET /xINJhHU.jpg HTTP/1.1\" 200 69663\n",
      "[322/997] https://www.redgifs.com/watch/firstbigtsetsefly\n",
      "[gallery-dl][debug] Starting DownloadJob for 'https://www.redgifs.com/watch/firstbigtsetsefly'\n",
      "[redgifs][debug] Using RedgifsImageExtractor for 'https://www.redgifs.com/watch/firstbigtsetsefly'\n",
      "[urllib3.connectionpool][debug] https://api.redgifs.com:443 \"GET /v2/gifs/firstbigtsetsefly HTTP/1.1\" 200 None\n",
      "[urllib3.connectionpool][debug] https://thumbs2.redgifs.com:443 \"GET /FirstBigTsetsefly.mp4 HTTP/1.1\" 200 29778769\n"
     ]
    },
    {
     "name": "stdout",
     "output_type": "stream",
     "text": [
      "nvme_drive/scraped_files/20220821-003129-reddit/redgifs/redgifs_firstbigtsetsefly.mp4\n"
     ]
    },
    {
     "name": "stderr",
     "output_type": "stream",
     "text": [
      "[323/997] https://redgifs.com/watch/powerlessdensedove\n",
      "[gallery-dl][debug] Starting DownloadJob for 'https://redgifs.com/watch/powerlessdensedove'\n",
      "[redgifs][debug] Using RedgifsImageExtractor for 'https://redgifs.com/watch/powerlessdensedove'\n",
      "[urllib3.connectionpool][debug] https://api.redgifs.com:443 \"GET /v2/gifs/powerlessdensedove HTTP/1.1\" 200 None\n",
      "[urllib3.connectionpool][debug] https://thumbs2.redgifs.com:443 \"GET /PowerlessDenseDove.mp4 HTTP/1.1\" 200 15713381\n"
     ]
    },
    {
     "name": "stdout",
     "output_type": "stream",
     "text": [
      "nvme_drive/scraped_files/20220821-003129-reddit/redgifs/redgifs_powerlessdensedove.mp4\n"
     ]
    },
    {
     "name": "stderr",
     "output_type": "stream",
     "text": [
      "[324/997] https://redgifs.com/watch/damprubberyequestrian\n",
      "[gallery-dl][debug] Starting DownloadJob for 'https://redgifs.com/watch/damprubberyequestrian'\n",
      "[redgifs][debug] Using RedgifsImageExtractor for 'https://redgifs.com/watch/damprubberyequestrian'\n",
      "[urllib3.connectionpool][debug] https://api.redgifs.com:443 \"GET /v2/gifs/damprubberyequestrian HTTP/1.1\" 200 None\n",
      "[urllib3.connectionpool][debug] https://thumbs2.redgifs.com:443 \"GET /DampRubberyEquestrian.mp4 HTTP/1.1\" 200 9608403\n"
     ]
    },
    {
     "name": "stdout",
     "output_type": "stream",
     "text": [
      "nvme_drive/scraped_files/20220821-003129-reddit/redgifs/redgifs_damprubberyequestrian.mp4\n",
      "nvme_drive/scraped_files/20220821-003129-reddit/reddit/88n312m4fue91.jpg\n",
      "nvme_drive/scraped_files/20220821-003129-reddit/reddit/26yqmhsxaeg91.jpg\n"
     ]
    },
    {
     "name": "stderr",
     "output_type": "stream",
     "text": [
      "[325/997] https://i.redd.it/88n312m4fue91.jpg\n",
      "[gallery-dl][debug] Starting DownloadJob for 'https://i.redd.it/88n312m4fue91.jpg'\n",
      "[reddit][debug] Using RedditImageExtractor for 'https://i.redd.it/88n312m4fue91.jpg'\n",
      "[urllib3.connectionpool][debug] https://i.redd.it:443 \"GET /88n312m4fue91.jpg HTTP/1.1\" 200 354815\n",
      "[326/997] https://i.redd.it/26yqmhsxaeg91.jpg\n",
      "[gallery-dl][debug] Starting DownloadJob for 'https://i.redd.it/26yqmhsxaeg91.jpg'\n",
      "[reddit][debug] Using RedditImageExtractor for 'https://i.redd.it/26yqmhsxaeg91.jpg'\n",
      "[urllib3.connectionpool][debug] https://i.redd.it:443 \"GET /26yqmhsxaeg91.jpg HTTP/1.1\" 200 180095\n",
      "[327/997] https://www.redgifs.com/watch/totaluniformzebraswallowtailbutterfly\n",
      "[gallery-dl][debug] Starting DownloadJob for 'https://www.redgifs.com/watch/totaluniformzebraswallowtailbutterfly'\n",
      "[redgifs][debug] Using RedgifsImageExtractor for 'https://www.redgifs.com/watch/totaluniformzebraswallowtailbutterfly'\n",
      "[urllib3.connectionpool][debug] https://api.redgifs.com:443 \"GET /v2/gifs/totaluniformzebraswallowtailbutterfly HTTP/1.1\" 200 None\n",
      "[urllib3.connectionpool][debug] https://thumbs2.redgifs.com:443 \"GET /TotalUniformZebraswallowtailbutterfly.mp4 HTTP/1.1\" 200 12042738\n"
     ]
    },
    {
     "name": "stdout",
     "output_type": "stream",
     "text": [
      "nvme_drive/scraped_files/20220821-003129-reddit/redgifs/redgifs_totaluniformzebraswallowtailbutterfly.mp4\n"
     ]
    },
    {
     "name": "stderr",
     "output_type": "stream",
     "text": [
      "[328/997] https://www.redgifs.com/watch/talkativeboringstag\n",
      "[gallery-dl][debug] Starting DownloadJob for 'https://www.redgifs.com/watch/talkativeboringstag'\n",
      "[redgifs][debug] Using RedgifsImageExtractor for 'https://www.redgifs.com/watch/talkativeboringstag'\n",
      "[urllib3.connectionpool][debug] https://api.redgifs.com:443 \"GET /v2/gifs/talkativeboringstag HTTP/1.1\" 200 None\n",
      "[urllib3.connectionpool][debug] https://thumbs2.redgifs.com:443 \"GET /TalkativeBoringStag.mp4 HTTP/1.1\" 200 47125028\n"
     ]
    },
    {
     "name": "stdout",
     "output_type": "stream",
     "text": [
      "nvme_drive/scraped_files/20220821-003129-reddit/redgifs/redgifs_talkativeboringstag.mp4\n"
     ]
    },
    {
     "name": "stderr",
     "output_type": "stream",
     "text": [
      "[329/997] https://i.redd.it/ch33foe7swg91.jpg\n",
      "[gallery-dl][debug] Starting DownloadJob for 'https://i.redd.it/ch33foe7swg91.jpg'\n",
      "[reddit][debug] Using RedditImageExtractor for 'https://i.redd.it/ch33foe7swg91.jpg'\n",
      "[urllib3.connectionpool][debug] https://i.redd.it:443 \"GET /ch33foe7swg91.jpg HTTP/1.1\" 200 1350132\n"
     ]
    },
    {
     "name": "stdout",
     "output_type": "stream",
     "text": [
      "nvme_drive/scraped_files/20220821-003129-reddit/reddit/ch33foe7swg91.jpg\n",
      "nvme_drive/scraped_files/20220821-003129-reddit/imgur/imgur_lFZohrl_Too much to choose from.jpg\n"
     ]
    },
    {
     "name": "stderr",
     "output_type": "stream",
     "text": [
      "[330/997] https://i.imgur.com/lFZohrl.jpg\n",
      "[gallery-dl][debug] Starting DownloadJob for 'https://i.imgur.com/lFZohrl.jpg'\n",
      "[imgur][debug] Using ImgurImageExtractor for 'https://i.imgur.com/lFZohrl.jpg'\n",
      "[urllib3.connectionpool][debug] https://api.imgur.com:443 \"GET /post/v1/media/lFZohrl?include=media%2Ctags%2Caccount HTTP/1.1\" 200 474\n",
      "[urllib3.connectionpool][debug] https://i.imgur.com:443 \"GET /lFZohrl.jpg HTTP/1.1\" 200 205920\n",
      "[331/997] https://www.redgifs.com/watch/annualreliableboutu\n",
      "[gallery-dl][debug] Starting DownloadJob for 'https://www.redgifs.com/watch/annualreliableboutu'\n",
      "[redgifs][debug] Using RedgifsImageExtractor for 'https://www.redgifs.com/watch/annualreliableboutu'\n",
      "[urllib3.connectionpool][debug] https://api.redgifs.com:443 \"GET /v2/gifs/annualreliableboutu HTTP/1.1\" 200 None\n",
      "[urllib3.connectionpool][debug] https://thumbs2.redgifs.com:443 \"GET /AnnualReliableBoutu.mp4 HTTP/1.1\" 200 32856182\n"
     ]
    },
    {
     "name": "stdout",
     "output_type": "stream",
     "text": [
      "nvme_drive/scraped_files/20220821-003129-reddit/redgifs/redgifs_annualreliableboutu.mp4\n",
      "nvme_drive/scraped_files/20220821-003129-reddit/reddit/qiv6sir2kxf91.jpg\n"
     ]
    },
    {
     "name": "stderr",
     "output_type": "stream",
     "text": [
      "[332/997] https://i.redd.it/qiv6sir2kxf91.jpg\n",
      "[gallery-dl][debug] Starting DownloadJob for 'https://i.redd.it/qiv6sir2kxf91.jpg'\n",
      "[reddit][debug] Using RedditImageExtractor for 'https://i.redd.it/qiv6sir2kxf91.jpg'\n",
      "[urllib3.connectionpool][debug] https://i.redd.it:443 \"GET /qiv6sir2kxf91.jpg HTTP/1.1\" 200 257493\n",
      "[333/997] https://i.redd.it/7185rrkv4ge91.gif\n",
      "[gallery-dl][debug] Starting DownloadJob for 'https://i.redd.it/7185rrkv4ge91.gif'\n",
      "[reddit][debug] Using RedditImageExtractor for 'https://i.redd.it/7185rrkv4ge91.gif'\n",
      "[urllib3.connectionpool][debug] https://i.redd.it:443 \"GET /7185rrkv4ge91.gif HTTP/1.1\" 200 2675903\n"
     ]
    },
    {
     "name": "stdout",
     "output_type": "stream",
     "text": [
      "nvme_drive/scraped_files/20220821-003129-reddit/reddit/7185rrkv4ge91.gif\n"
     ]
    },
    {
     "name": "stderr",
     "output_type": "stream",
     "text": [
      "[334/997] https://www.redgifs.com/watch/giantsuperioraruanas\n",
      "[gallery-dl][debug] Starting DownloadJob for 'https://www.redgifs.com/watch/giantsuperioraruanas'\n",
      "[redgifs][debug] Using RedgifsImageExtractor for 'https://www.redgifs.com/watch/giantsuperioraruanas'\n",
      "[urllib3.connectionpool][debug] https://api.redgifs.com:443 \"GET /v2/gifs/giantsuperioraruanas HTTP/1.1\" 200 None\n",
      "[urllib3.connectionpool][debug] https://thumbs2.redgifs.com:443 \"GET /GiantSuperiorAruanas.mp4 HTTP/1.1\" 200 30576443\n"
     ]
    },
    {
     "name": "stdout",
     "output_type": "stream",
     "text": [
      "nvme_drive/scraped_files/20220821-003129-reddit/redgifs/redgifs_giantsuperioraruanas.mp4\n"
     ]
    },
    {
     "name": "stderr",
     "output_type": "stream",
     "text": [
      "[335/997] https://i.imgur.com/lRsBuTb.gifv\n",
      "[gallery-dl][debug] Starting DownloadJob for 'https://i.imgur.com/lRsBuTb.gifv'\n",
      "[imgur][debug] Using ImgurImageExtractor for 'https://i.imgur.com/lRsBuTb.gifv'\n",
      "[urllib3.connectionpool][debug] https://api.imgur.com:443 \"GET /post/v1/media/lRsBuTb?include=media%2Ctags%2Caccount HTTP/1.1\" 200 457\n",
      "[urllib3.connectionpool][debug] https://i.imgur.com:443 \"GET /lRsBuTb.mp4 HTTP/1.1\" 200 5954314\n"
     ]
    },
    {
     "name": "stdout",
     "output_type": "stream",
     "text": [
      "nvme_drive/scraped_files/20220821-003129-reddit/imgur/imgur_lRsBuTb_girls night.mp4\n"
     ]
    },
    {
     "name": "stderr",
     "output_type": "stream",
     "text": [
      "[336/997] https://redgifs.com/watch/starchymushysawfish\n",
      "[gallery-dl][debug] Starting DownloadJob for 'https://redgifs.com/watch/starchymushysawfish'\n",
      "[redgifs][debug] Using RedgifsImageExtractor for 'https://redgifs.com/watch/starchymushysawfish'\n",
      "[urllib3.connectionpool][debug] https://api.redgifs.com:443 \"GET /v2/gifs/starchymushysawfish HTTP/1.1\" 200 None\n",
      "[urllib3.connectionpool][debug] https://thumbs2.redgifs.com:443 \"GET /StarchyMushySawfish.mp4 HTTP/1.1\" 200 14020361\n"
     ]
    },
    {
     "name": "stdout",
     "output_type": "stream",
     "text": [
      "nvme_drive/scraped_files/20220821-003129-reddit/redgifs/redgifs_starchymushysawfish.mp4\n",
      "nvme_drive/scraped_files/20220821-003129-reddit/reddit/7emeaq96hoh91.jpg\n",
      "nvme_drive/scraped_files/20220821-003129-reddit/reddit/xnpvkj9idjh91.jpg\n"
     ]
    },
    {
     "name": "stderr",
     "output_type": "stream",
     "text": [
      "[337/997] https://i.redd.it/7emeaq96hoh91.jpg\n",
      "[gallery-dl][debug] Starting DownloadJob for 'https://i.redd.it/7emeaq96hoh91.jpg'\n",
      "[reddit][debug] Using RedditImageExtractor for 'https://i.redd.it/7emeaq96hoh91.jpg'\n",
      "[urllib3.connectionpool][debug] https://i.redd.it:443 \"GET /7emeaq96hoh91.jpg HTTP/1.1\" 200 93813\n",
      "[338/997] https://i.redd.it/xnpvkj9idjh91.jpg\n",
      "[gallery-dl][debug] Starting DownloadJob for 'https://i.redd.it/xnpvkj9idjh91.jpg'\n",
      "[reddit][debug] Using RedditImageExtractor for 'https://i.redd.it/xnpvkj9idjh91.jpg'\n",
      "[urllib3.connectionpool][debug] https://i.redd.it:443 \"GET /xnpvkj9idjh91.jpg HTTP/1.1\" 200 302570\n",
      "[339/997] https://i.imgur.com/uRcuqF5.jpg\n",
      "[gallery-dl][debug] Starting DownloadJob for 'https://i.imgur.com/uRcuqF5.jpg'\n",
      "[imgur][debug] Using ImgurImageExtractor for 'https://i.imgur.com/uRcuqF5.jpg'\n",
      "[urllib3.connectionpool][debug] https://api.imgur.com:443 \"GET /post/v1/media/uRcuqF5?include=media%2Ctags%2Caccount HTTP/1.1\" 200 472\n",
      "[urllib3.connectionpool][debug] https://i.imgur.com:443 \"GET /uRcuqF5.jpg HTTP/1.1\" 200 1680310\n"
     ]
    },
    {
     "name": "stdout",
     "output_type": "stream",
     "text": [
      "nvme_drive/scraped_files/20220821-003129-reddit/imgur/imgur_uRcuqF5_Eleven Pretty Pussies.jpg\n"
     ]
    },
    {
     "name": "stderr",
     "output_type": "stream",
     "text": [
      "[340/997] https://www.redgifs.com/watch/livelycomposedcatfish\n",
      "[gallery-dl][debug] Starting DownloadJob for 'https://www.redgifs.com/watch/livelycomposedcatfish'\n",
      "[redgifs][debug] Using RedgifsImageExtractor for 'https://www.redgifs.com/watch/livelycomposedcatfish'\n",
      "[urllib3.connectionpool][debug] https://api.redgifs.com:443 \"GET /v2/gifs/livelycomposedcatfish HTTP/1.1\" 200 None\n",
      "[urllib3.connectionpool][debug] https://thumbs2.redgifs.com:443 \"GET /LivelyComposedCatfish.mp4 HTTP/1.1\" 200 9544083\n"
     ]
    },
    {
     "name": "stdout",
     "output_type": "stream",
     "text": [
      "nvme_drive/scraped_files/20220821-003129-reddit/redgifs/redgifs_livelycomposedcatfish.mp4\n"
     ]
    },
    {
     "name": "stderr",
     "output_type": "stream",
     "text": [
      "[341/997] https://redgifs.com/watch/uncommondotingarabianoryx\n",
      "[gallery-dl][debug] Starting DownloadJob for 'https://redgifs.com/watch/uncommondotingarabianoryx'\n",
      "[redgifs][debug] Using RedgifsImageExtractor for 'https://redgifs.com/watch/uncommondotingarabianoryx'\n",
      "[urllib3.connectionpool][debug] https://api.redgifs.com:443 \"GET /v2/gifs/uncommondotingarabianoryx HTTP/1.1\" 200 None\n",
      "[urllib3.connectionpool][debug] https://thumbs2.redgifs.com:443 \"GET /UncommonDotingArabianoryx.mp4 HTTP/1.1\" 200 12591461\n"
     ]
    },
    {
     "name": "stdout",
     "output_type": "stream",
     "text": [
      "nvme_drive/scraped_files/20220821-003129-reddit/redgifs/redgifs_uncommondotingarabianoryx.mp4\n"
     ]
    },
    {
     "name": "stderr",
     "output_type": "stream",
     "text": [
      "[342/997] https://www.redgifs.com/watch/blondvigorousibisbill?rel=u%3Aburgerprince%3Bo%3Arecent\n",
      "[gallery-dl][debug] Starting DownloadJob for 'https://www.redgifs.com/watch/blondvigorousibisbill?rel=u%3Aburgerprince%3Bo%3Arecent'\n",
      "[redgifs][debug] Using RedgifsImageExtractor for 'https://www.redgifs.com/watch/blondvigorousibisbill?rel=u%3Aburgerprince%3Bo%3Arecent'\n",
      "[urllib3.connectionpool][debug] https://api.redgifs.com:443 \"GET /v2/gifs/blondvigorousibisbill HTTP/1.1\" 200 None\n",
      "[urllib3.connectionpool][debug] https://thumbs2.redgifs.com:443 \"GET /BlondVigorousIbisbill.mp4 HTTP/1.1\" 200 35822600\n"
     ]
    },
    {
     "name": "stdout",
     "output_type": "stream",
     "text": [
      "nvme_drive/scraped_files/20220821-003129-reddit/redgifs/redgifs_blondvigorousibisbill.mp4\n",
      "nvme_drive/scraped_files/20220821-003129-reddit/imgur/imgur_1SCJtTs_Nensi B - Biyane.jpg\n"
     ]
    },
    {
     "name": "stderr",
     "output_type": "stream",
     "text": [
      "[343/997] https://i.imgur.com/1SCJtTs.jpg\n",
      "[gallery-dl][debug] Starting DownloadJob for 'https://i.imgur.com/1SCJtTs.jpg'\n",
      "[imgur][debug] Using ImgurImageExtractor for 'https://i.imgur.com/1SCJtTs.jpg'\n",
      "[urllib3.connectionpool][debug] https://api.imgur.com:443 \"GET /post/v1/media/1SCJtTs?include=media%2Ctags%2Caccount HTTP/1.1\" 200 493\n",
      "[urllib3.connectionpool][debug] https://i.imgur.com:443 \"GET /1SCJtTs.jpg HTTP/1.1\" 200 376309\n",
      "[344/997] https://i.imgur.com/TPo2dDd.jpg\n",
      "[gallery-dl][debug] Starting DownloadJob for 'https://i.imgur.com/TPo2dDd.jpg'\n",
      "[imgur][debug] Using ImgurImageExtractor for 'https://i.imgur.com/TPo2dDd.jpg'\n",
      "[urllib3.connectionpool][debug] https://api.imgur.com:443 \"GET /post/v1/media/TPo2dDd?include=media%2Ctags%2Caccount HTTP/1.1\" 200 492\n",
      "[urllib3.connectionpool][debug] https://i.imgur.com:443 \"GET /TPo2dDd.jpg HTTP/1.1\" 200 507945\n",
      "[345/997] https://i.redd.it/plmlkwwozgi91.jpg\n",
      "[gallery-dl][debug] Starting DownloadJob for 'https://i.redd.it/plmlkwwozgi91.jpg'\n",
      "[reddit][debug] Using RedditImageExtractor for 'https://i.redd.it/plmlkwwozgi91.jpg'\n"
     ]
    },
    {
     "name": "stdout",
     "output_type": "stream",
     "text": [
      "nvme_drive/scraped_files/20220821-003129-reddit/imgur/imgur_TPo2dDd_Trying to hide.jpg\n"
     ]
    },
    {
     "name": "stderr",
     "output_type": "stream",
     "text": [
      "[urllib3.connectionpool][debug] https://i.redd.it:443 \"GET /plmlkwwozgi91.jpg HTTP/1.1\" 200 1741886\n"
     ]
    },
    {
     "name": "stdout",
     "output_type": "stream",
     "text": [
      "nvme_drive/scraped_files/20220821-003129-reddit/reddit/plmlkwwozgi91.jpg\n",
      "nvme_drive/scraped_files/20220821-003129-reddit/imgur/imgur_Dh27upJ_Nice pairs.jpg\n"
     ]
    },
    {
     "name": "stderr",
     "output_type": "stream",
     "text": [
      "[346/997] https://i.imgur.com/Dh27upJ.jpg\n",
      "[gallery-dl][debug] Starting DownloadJob for 'https://i.imgur.com/Dh27upJ.jpg'\n",
      "[imgur][debug] Using ImgurImageExtractor for 'https://i.imgur.com/Dh27upJ.jpg'\n",
      "[urllib3.connectionpool][debug] https://api.imgur.com:443 \"GET /post/v1/media/Dh27upJ?include=media%2Ctags%2Caccount HTTP/1.1\" 200 466\n",
      "[urllib3.connectionpool][debug] https://i.imgur.com:443 \"GET /Dh27upJ.jpg HTTP/1.1\" 200 258578\n",
      "[347/997] https://i.imgur.com/U7RqqDo.jpg\n",
      "[gallery-dl][debug] Starting DownloadJob for 'https://i.imgur.com/U7RqqDo.jpg'\n",
      "[imgur][debug] Using ImgurImageExtractor for 'https://i.imgur.com/U7RqqDo.jpg'\n",
      "[urllib3.connectionpool][debug] https://api.imgur.com:443 \"GET /post/v1/media/U7RqqDo?include=media%2Ctags%2Caccount HTTP/1.1\" 200 501\n",
      "[urllib3.connectionpool][debug] https://i.imgur.com:443 \"GET /U7RqqDo.jpg HTTP/1.1\" 200 259218\n",
      "[348/997] https://www.redgifs.com/watch/primarybumpynorwaylobster\n",
      "[gallery-dl][debug] Starting DownloadJob for 'https://www.redgifs.com/watch/primarybumpynorwaylobster'\n",
      "[redgifs][debug] Using RedgifsImageExtractor for 'https://www.redgifs.com/watch/primarybumpynorwaylobster'\n",
      "[urllib3.connectionpool][debug] https://api.redgifs.com:443 \"GET /v2/gifs/primarybumpynorwaylobster HTTP/1.1\" 200 None\n"
     ]
    },
    {
     "name": "stdout",
     "output_type": "stream",
     "text": [
      "nvme_drive/scraped_files/20220821-003129-reddit/imgur/imgur_U7RqqDo_Leg Stretch.jpg\n"
     ]
    },
    {
     "name": "stderr",
     "output_type": "stream",
     "text": [
      "[urllib3.connectionpool][debug] https://thumbs2.redgifs.com:443 \"GET /PrimaryBumpyNorwaylobster.mp4 HTTP/1.1\" 200 11034826\n"
     ]
    },
    {
     "name": "stdout",
     "output_type": "stream",
     "text": [
      "nvme_drive/scraped_files/20220821-003129-reddit/redgifs/redgifs_primarybumpynorwaylobster.mp4\n",
      "nvme_drive/scraped_files/20220821-003129-reddit/imgur/imgur_jlMMc2H_Changing Room Selfie.jpg\n",
      "nvme_drive/scraped_files/20220821-003129-reddit/reddit/l6q9upm75hd91.jpg\n"
     ]
    },
    {
     "name": "stderr",
     "output_type": "stream",
     "text": [
      "[349/997] https://i.imgur.com/jlMMc2H.jpg\n",
      "[gallery-dl][debug] Starting DownloadJob for 'https://i.imgur.com/jlMMc2H.jpg'\n",
      "[imgur][debug] Using ImgurImageExtractor for 'https://i.imgur.com/jlMMc2H.jpg'\n",
      "[urllib3.connectionpool][debug] https://api.imgur.com:443 \"GET /post/v1/media/jlMMc2H?include=media%2Ctags%2Caccount HTTP/1.1\" 200 456\n",
      "[urllib3.connectionpool][debug] https://i.imgur.com:443 \"GET /jlMMc2H.jpg HTTP/1.1\" 200 172273\n",
      "[350/997] https://i.redd.it/l6q9upm75hd91.jpg\n",
      "[gallery-dl][debug] Starting DownloadJob for 'https://i.redd.it/l6q9upm75hd91.jpg'\n",
      "[reddit][debug] Using RedditImageExtractor for 'https://i.redd.it/l6q9upm75hd91.jpg'\n",
      "[urllib3.connectionpool][debug] https://i.redd.it:443 \"GET /l6q9upm75hd91.jpg HTTP/1.1\" 200 70569\n",
      "[351/997] https://i.redd.it/ywn7edb39pd91.jpg\n",
      "[gallery-dl][debug] Starting DownloadJob for 'https://i.redd.it/ywn7edb39pd91.jpg'\n",
      "[reddit][debug] Using RedditImageExtractor for 'https://i.redd.it/ywn7edb39pd91.jpg'\n",
      "[urllib3.connectionpool][debug] https://i.redd.it:443 \"GET /ywn7edb39pd91.jpg HTTP/1.1\" 200 451694\n"
     ]
    },
    {
     "name": "stdout",
     "output_type": "stream",
     "text": [
      "nvme_drive/scraped_files/20220821-003129-reddit/reddit/ywn7edb39pd91.jpg\n",
      "nvme_drive/scraped_files/20220821-003129-reddit/reddit/uslad6rhlpd91.jpg\n"
     ]
    },
    {
     "name": "stderr",
     "output_type": "stream",
     "text": [
      "[352/997] https://i.redd.it/uslad6rhlpd91.jpg\n",
      "[gallery-dl][debug] Starting DownloadJob for 'https://i.redd.it/uslad6rhlpd91.jpg'\n",
      "[reddit][debug] Using RedditImageExtractor for 'https://i.redd.it/uslad6rhlpd91.jpg'\n",
      "[urllib3.connectionpool][debug] https://i.redd.it:443 \"GET /uslad6rhlpd91.jpg HTTP/1.1\" 200 134658\n",
      "[353/997] https://i.imgur.com/4kdnJya.gif\n",
      "[gallery-dl][debug] Starting DownloadJob for 'https://i.imgur.com/4kdnJya.gif'\n",
      "[imgur][debug] Using ImgurImageExtractor for 'https://i.imgur.com/4kdnJya.gif'\n",
      "[urllib3.connectionpool][debug] https://api.imgur.com:443 \"GET /post/v1/media/4kdnJya?include=media%2Ctags%2Caccount HTTP/1.1\" 200 500\n",
      "[urllib3.connectionpool][debug] https://i.imgur.com:443 \"GET /4kdnJya.mp4 HTTP/1.1\" 200 2331180\n"
     ]
    },
    {
     "name": "stdout",
     "output_type": "stream",
     "text": [
      "nvme_drive/scraped_files/20220821-003129-reddit/imgur/imgur_4kdnJya_Prime Jennifer Connelly was the epitome of female beauty.mp4\n",
      "nvme_drive/scraped_files/20220821-003129-reddit/reddit/v9agte7kaie91.jpg\n"
     ]
    },
    {
     "name": "stderr",
     "output_type": "stream",
     "text": [
      "[354/997] https://i.redd.it/v9agte7kaie91.jpg\n",
      "[gallery-dl][debug] Starting DownloadJob for 'https://i.redd.it/v9agte7kaie91.jpg'\n",
      "[reddit][debug] Using RedditImageExtractor for 'https://i.redd.it/v9agte7kaie91.jpg'\n",
      "[urllib3.connectionpool][debug] https://i.redd.it:443 \"GET /v9agte7kaie91.jpg HTTP/1.1\" 200 460404\n",
      "[355/997] https://i.imgur.com/vAiFCgC.jpg\n",
      "[gallery-dl][debug] Starting DownloadJob for 'https://i.imgur.com/vAiFCgC.jpg'\n",
      "[imgur][debug] Using ImgurImageExtractor for 'https://i.imgur.com/vAiFCgC.jpg'\n",
      "[urllib3.connectionpool][debug] https://api.imgur.com:443 \"GET /post/v1/media/vAiFCgC?include=media%2Ctags%2Caccount HTTP/1.1\" 200 601\n",
      "[urllib3.connectionpool][debug] https://i.imgur.com:443 \"GET /vAiFCgC.jpg HTTP/1.1\" 200 208954\n",
      "[356/997] https://redgifs.com/watch/mountainouswordywatermoccasin\n",
      "[gallery-dl][debug] Starting DownloadJob for 'https://redgifs.com/watch/mountainouswordywatermoccasin'\n",
      "[redgifs][debug] Using RedgifsImageExtractor for 'https://redgifs.com/watch/mountainouswordywatermoccasin'\n",
      "[urllib3.connectionpool][debug] https://api.redgifs.com:443 \"GET /v2/gifs/mountainouswordywatermoccasin HTTP/1.1\" 200 None\n",
      "[urllib3.connectionpool][debug] https://thumbs2.redgifs.com:443 \"GET /MountainousWordyWatermoccasin.mp4 HTTP/1.1\" 200 21116211\n"
     ]
    },
    {
     "name": "stdout",
     "output_type": "stream",
     "text": [
      "nvme_drive/scraped_files/20220821-003129-reddit/imgur/imgur_vAiFCgC_Wow.jpg\n",
      "nvme_drive/scraped_files/20220821-003129-reddit/redgifs/redgifs_mountainouswordywatermoccasin.mp4\n"
     ]
    },
    {
     "name": "stderr",
     "output_type": "stream",
     "text": [
      "[357/997] https://redgifs.com/watch/nervousincomparableasp\n",
      "[gallery-dl][debug] Starting DownloadJob for 'https://redgifs.com/watch/nervousincomparableasp'\n",
      "[redgifs][debug] Using RedgifsImageExtractor for 'https://redgifs.com/watch/nervousincomparableasp'\n",
      "[urllib3.connectionpool][debug] https://api.redgifs.com:443 \"GET /v2/gifs/nervousincomparableasp HTTP/1.1\" 200 None\n",
      "[urllib3.connectionpool][debug] https://thumbs2.redgifs.com:443 \"GET /NervousIncomparableAsp.mp4 HTTP/1.1\" 200 44375964\n"
     ]
    },
    {
     "name": "stdout",
     "output_type": "stream",
     "text": [
      "nvme_drive/scraped_files/20220821-003129-reddit/redgifs/redgifs_nervousincomparableasp.mp4\n"
     ]
    },
    {
     "name": "stderr",
     "output_type": "stream",
     "text": [
      "[358/997] https://i.imgur.com/1bKuJBz.gif\n",
      "[gallery-dl][debug] Starting DownloadJob for 'https://i.imgur.com/1bKuJBz.gif'\n",
      "[imgur][debug] Using ImgurImageExtractor for 'https://i.imgur.com/1bKuJBz.gif'\n",
      "[urllib3.connectionpool][debug] https://api.imgur.com:443 \"GET /post/v1/media/1bKuJBz?include=media%2Ctags%2Caccount HTTP/1.1\" 200 484\n",
      "[urllib3.connectionpool][debug] https://i.imgur.com:443 \"GET /1bKuJBz.mp4 HTTP/1.1\" 200 5765636\n"
     ]
    },
    {
     "name": "stdout",
     "output_type": "stream",
     "text": [
      "nvme_drive/scraped_files/20220821-003129-reddit/imgur/imgur_1bKuJBz_Damn.mp4\n",
      "nvme_drive/scraped_files/20220821-003129-reddit/imgur/imgur_y8OASeo_Seize The Day.jpg\n"
     ]
    },
    {
     "name": "stderr",
     "output_type": "stream",
     "text": [
      "[359/997] https://i.imgur.com/y8OASeo.jpg\n",
      "[gallery-dl][debug] Starting DownloadJob for 'https://i.imgur.com/y8OASeo.jpg'\n",
      "[imgur][debug] Using ImgurImageExtractor for 'https://i.imgur.com/y8OASeo.jpg'\n",
      "[urllib3.connectionpool][debug] https://api.imgur.com:443 \"GET /post/v1/media/y8OASeo?include=media%2Ctags%2Caccount HTTP/1.1\" 200 490\n",
      "[urllib3.connectionpool][debug] https://i.imgur.com:443 \"GET /y8OASeo.jpg HTTP/1.1\" 200 298865\n",
      "[360/997] https://i.redd.it/eorf5j447be91.jpg\n",
      "[gallery-dl][debug] Starting DownloadJob for 'https://i.redd.it/eorf5j447be91.jpg'\n",
      "[reddit][debug] Using RedditImageExtractor for 'https://i.redd.it/eorf5j447be91.jpg'\n",
      "[urllib3.connectionpool][debug] https://i.redd.it:443 \"GET /eorf5j447be91.jpg HTTP/1.1\" 200 512544\n",
      "[361/997] https://i.imgur.com/f9djDVv.jpg\n",
      "[gallery-dl][debug] Starting DownloadJob for 'https://i.imgur.com/f9djDVv.jpg'\n",
      "[imgur][debug] Using ImgurImageExtractor for 'https://i.imgur.com/f9djDVv.jpg'\n"
     ]
    },
    {
     "name": "stdout",
     "output_type": "stream",
     "text": [
      "nvme_drive/scraped_files/20220821-003129-reddit/reddit/eorf5j447be91.jpg\n",
      "nvme_drive/scraped_files/20220821-003129-reddit/imgur/imgur_f9djDVv_Stacked.jpg\n"
     ]
    },
    {
     "name": "stderr",
     "output_type": "stream",
     "text": [
      "[urllib3.connectionpool][debug] https://api.imgur.com:443 \"GET /post/v1/media/f9djDVv?include=media%2Ctags%2Caccount HTTP/1.1\" 200 446\n",
      "[urllib3.connectionpool][debug] https://i.imgur.com:443 \"GET /f9djDVv.jpg HTTP/1.1\" 200 304111\n",
      "[362/997] https://www.redgifs.com/watch/masculinecircularduckbillcat\n",
      "[gallery-dl][debug] Starting DownloadJob for 'https://www.redgifs.com/watch/masculinecircularduckbillcat'\n",
      "[redgifs][debug] Using RedgifsImageExtractor for 'https://www.redgifs.com/watch/masculinecircularduckbillcat'\n",
      "[urllib3.connectionpool][debug] https://api.redgifs.com:443 \"GET /v2/gifs/masculinecircularduckbillcat HTTP/1.1\" 200 None\n",
      "[urllib3.connectionpool][debug] https://thumbs2.redgifs.com:443 \"GET /MasculineCircularDuckbillcat.mp4 HTTP/1.1\" 200 12441398\n"
     ]
    },
    {
     "name": "stdout",
     "output_type": "stream",
     "text": [
      "nvme_drive/scraped_files/20220821-003129-reddit/redgifs/redgifs_masculinecircularduckbillcat.mp4\n"
     ]
    },
    {
     "name": "stderr",
     "output_type": "stream",
     "text": [
      "[363/997] https://www.redgifs.com/watch/urbanscientificgrouse\n",
      "[gallery-dl][debug] Starting DownloadJob for 'https://www.redgifs.com/watch/urbanscientificgrouse'\n",
      "[redgifs][debug] Using RedgifsImageExtractor for 'https://www.redgifs.com/watch/urbanscientificgrouse'\n",
      "[urllib3.connectionpool][debug] https://api.redgifs.com:443 \"GET /v2/gifs/urbanscientificgrouse HTTP/1.1\" 200 None\n",
      "[urllib3.connectionpool][debug] https://thumbs2.redgifs.com:443 \"GET /UrbanScientificGrouse.mp4 HTTP/1.1\" 200 43593504\n"
     ]
    },
    {
     "name": "stdout",
     "output_type": "stream",
     "text": [
      "nvme_drive/scraped_files/20220821-003129-reddit/redgifs/redgifs_urbanscientificgrouse.mp4\n"
     ]
    },
    {
     "name": "stderr",
     "output_type": "stream",
     "text": [
      "[364/997] https://i.imgur.com/FenXv99.gifv\n",
      "[gallery-dl][debug] Starting DownloadJob for 'https://i.imgur.com/FenXv99.gifv'\n",
      "[imgur][debug] Using ImgurImageExtractor for 'https://i.imgur.com/FenXv99.gifv'\n",
      "[urllib3.connectionpool][debug] https://api.imgur.com:443 \"GET /post/v1/media/FenXv99?include=media%2Ctags%2Caccount HTTP/1.1\" 200 458\n",
      "[urllib3.connectionpool][debug] https://i.imgur.com:443 \"GET /FenXv99.mp4 HTTP/1.1\" 200 2251073\n"
     ]
    },
    {
     "name": "stdout",
     "output_type": "stream",
     "text": [
      "nvme_drive/scraped_files/20220821-003129-reddit/imgur/imgur_FenXv99_spread em.mp4\n"
     ]
    },
    {
     "name": "stderr",
     "output_type": "stream",
     "text": [
      "[365/997] https://www.redgifs.com/watch/goldenblondadder\n",
      "[gallery-dl][debug] Starting DownloadJob for 'https://www.redgifs.com/watch/goldenblondadder'\n",
      "[redgifs][debug] Using RedgifsImageExtractor for 'https://www.redgifs.com/watch/goldenblondadder'\n",
      "[urllib3.connectionpool][debug] https://api.redgifs.com:443 \"GET /v2/gifs/goldenblondadder HTTP/1.1\" 200 None\n",
      "[urllib3.connectionpool][debug] https://thumbs2.redgifs.com:443 \"GET /GoldenBlondAdder.mp4 HTTP/1.1\" 200 4058985\n"
     ]
    },
    {
     "name": "stdout",
     "output_type": "stream",
     "text": [
      "nvme_drive/scraped_files/20220821-003129-reddit/redgifs/redgifs_goldenblondadder.mp4\n",
      "nvme_drive/scraped_files/20220821-003129-reddit/imgur/imgur_wSEm8Cl_Eye Candy.jpg\n"
     ]
    },
    {
     "name": "stderr",
     "output_type": "stream",
     "text": [
      "[366/997] https://i.imgur.com/wSEm8Cl.jpg\n",
      "[gallery-dl][debug] Starting DownloadJob for 'https://i.imgur.com/wSEm8Cl.jpg'\n",
      "[imgur][debug] Using ImgurImageExtractor for 'https://i.imgur.com/wSEm8Cl.jpg'\n",
      "[urllib3.connectionpool][debug] https://api.imgur.com:443 \"GET /post/v1/media/wSEm8Cl?include=media%2Ctags%2Caccount HTTP/1.1\" 200 448\n",
      "[urllib3.connectionpool][debug] https://i.imgur.com:443 \"GET /wSEm8Cl.jpg HTTP/1.1\" 200 399285\n",
      "[367/997] https://redgifs.com/watch/wanpurpleamberpenshell\n",
      "[gallery-dl][debug] Starting DownloadJob for 'https://redgifs.com/watch/wanpurpleamberpenshell'\n",
      "[redgifs][debug] Using RedgifsImageExtractor for 'https://redgifs.com/watch/wanpurpleamberpenshell'\n",
      "[urllib3.connectionpool][debug] https://api.redgifs.com:443 \"GET /v2/gifs/wanpurpleamberpenshell HTTP/1.1\" 200 None\n",
      "[urllib3.connectionpool][debug] https://thumbs2.redgifs.com:443 \"GET /WanPurpleAmberpenshell.mp4 HTTP/1.1\" 200 17124430\n"
     ]
    },
    {
     "name": "stdout",
     "output_type": "stream",
     "text": [
      "nvme_drive/scraped_files/20220821-003129-reddit/redgifs/redgifs_wanpurpleamberpenshell.mp4\n"
     ]
    },
    {
     "name": "stderr",
     "output_type": "stream",
     "text": [
      "[368/997] https://www.redgifs.com/watch/keenlimegreenibex\n",
      "[gallery-dl][debug] Starting DownloadJob for 'https://www.redgifs.com/watch/keenlimegreenibex'\n",
      "[redgifs][debug] Using RedgifsImageExtractor for 'https://www.redgifs.com/watch/keenlimegreenibex'\n",
      "[urllib3.connectionpool][debug] https://api.redgifs.com:443 \"GET /v2/gifs/keenlimegreenibex HTTP/1.1\" 200 None\n",
      "[urllib3.connectionpool][debug] https://thumbs2.redgifs.com:443 \"GET /KeenLimegreenIbex.mp4 HTTP/1.1\" 200 19639497\n"
     ]
    },
    {
     "name": "stdout",
     "output_type": "stream",
     "text": [
      "nvme_drive/scraped_files/20220821-003129-reddit/redgifs/redgifs_keenlimegreenibex.mp4\n"
     ]
    },
    {
     "name": "stderr",
     "output_type": "stream",
     "text": [
      "[369/997] https://i.redd.it/x7jab626pig91.gif\n",
      "[gallery-dl][debug] Starting DownloadJob for 'https://i.redd.it/x7jab626pig91.gif'\n",
      "[reddit][debug] Using RedditImageExtractor for 'https://i.redd.it/x7jab626pig91.gif'\n",
      "[urllib3.connectionpool][debug] https://i.redd.it:443 \"GET /x7jab626pig91.gif HTTP/1.1\" 200 19028862\n"
     ]
    },
    {
     "name": "stdout",
     "output_type": "stream",
     "text": [
      "nvme_drive/scraped_files/20220821-003129-reddit/reddit/x7jab626pig91.gif\n"
     ]
    },
    {
     "name": "stderr",
     "output_type": "stream",
     "text": [
      "[370/997] https://i.redd.it/4o3r31wjm9g91.jpg\n",
      "[gallery-dl][debug] Starting DownloadJob for 'https://i.redd.it/4o3r31wjm9g91.jpg'\n",
      "[reddit][debug] Using RedditImageExtractor for 'https://i.redd.it/4o3r31wjm9g91.jpg'\n",
      "[urllib3.connectionpool][debug] https://i.redd.it:443 \"GET /4o3r31wjm9g91.jpg HTTP/1.1\" 200 1279132\n"
     ]
    },
    {
     "name": "stdout",
     "output_type": "stream",
     "text": [
      "nvme_drive/scraped_files/20220821-003129-reddit/reddit/4o3r31wjm9g91.jpg\n"
     ]
    },
    {
     "name": "stderr",
     "output_type": "stream",
     "text": [
      "[371/997] https://i.imgur.com/HETAEpg.jpg\n",
      "[gallery-dl][debug] Starting DownloadJob for 'https://i.imgur.com/HETAEpg.jpg'\n",
      "[imgur][debug] Using ImgurImageExtractor for 'https://i.imgur.com/HETAEpg.jpg'\n",
      "[urllib3.connectionpool][debug] https://api.imgur.com:443 \"GET /post/v1/media/HETAEpg?include=media%2Ctags%2Caccount HTTP/1.1\" 200 472\n",
      "[urllib3.connectionpool][debug] https://i.imgur.com:443 \"GET /HETAEpg.jpg HTTP/1.1\" 200 700164\n"
     ]
    },
    {
     "name": "stdout",
     "output_type": "stream",
     "text": [
      "nvme_drive/scraped_files/20220821-003129-reddit/imgur/imgur_HETAEpg_Lifting a leg.jpg\n"
     ]
    },
    {
     "name": "stderr",
     "output_type": "stream",
     "text": [
      "[372/997] https://redgifs.com/watch/worthwhilewornamurratsnake\n",
      "[gallery-dl][debug] Starting DownloadJob for 'https://redgifs.com/watch/worthwhilewornamurratsnake'\n",
      "[redgifs][debug] Using RedgifsImageExtractor for 'https://redgifs.com/watch/worthwhilewornamurratsnake'\n",
      "[urllib3.connectionpool][debug] https://api.redgifs.com:443 \"GET /v2/gifs/worthwhilewornamurratsnake HTTP/1.1\" 200 None\n",
      "[urllib3.connectionpool][debug] https://thumbs2.redgifs.com:443 \"GET /WorthwhileWornAmurratsnake.mp4 HTTP/1.1\" 200 7543506\n"
     ]
    },
    {
     "name": "stdout",
     "output_type": "stream",
     "text": [
      "nvme_drive/scraped_files/20220821-003129-reddit/redgifs/redgifs_worthwhilewornamurratsnake.mp4\n"
     ]
    },
    {
     "name": "stderr",
     "output_type": "stream",
     "text": [
      "[373/997] https://i.imgur.com/m1HWZLC.jpg\n",
      "[gallery-dl][debug] Starting DownloadJob for 'https://i.imgur.com/m1HWZLC.jpg'\n",
      "[imgur][debug] Using ImgurImageExtractor for 'https://i.imgur.com/m1HWZLC.jpg'\n",
      "[urllib3.connectionpool][debug] https://api.imgur.com:443 \"GET /post/v1/media/m1HWZLC?include=media%2Ctags%2Caccount HTTP/1.1\" 200 481\n",
      "[urllib3.connectionpool][debug] https://i.imgur.com:443 \"GET /m1HWZLC.jpg HTTP/1.1\" 200 2333652\n"
     ]
    },
    {
     "name": "stdout",
     "output_type": "stream",
     "text": [
      "nvme_drive/scraped_files/20220821-003129-reddit/imgur/imgur_m1HWZLC_Selfshot in the bathroom.jpg\n"
     ]
    },
    {
     "name": "stderr",
     "output_type": "stream",
     "text": [
      "[374/997] https://www.redgifs.com/watch/creamynoisytinamou\n",
      "[gallery-dl][debug] Starting DownloadJob for 'https://www.redgifs.com/watch/creamynoisytinamou'\n",
      "[redgifs][debug] Using RedgifsImageExtractor for 'https://www.redgifs.com/watch/creamynoisytinamou'\n",
      "[urllib3.connectionpool][debug] https://api.redgifs.com:443 \"GET /v2/gifs/creamynoisytinamou HTTP/1.1\" 200 None\n",
      "[urllib3.connectionpool][debug] https://thumbs2.redgifs.com:443 \"GET /CreamyNoisyTinamou.mp4 HTTP/1.1\" 200 8692656\n"
     ]
    },
    {
     "name": "stdout",
     "output_type": "stream",
     "text": [
      "nvme_drive/scraped_files/20220821-003129-reddit/redgifs/redgifs_creamynoisytinamou.mp4\n"
     ]
    },
    {
     "name": "stderr",
     "output_type": "stream",
     "text": [
      "[375/997] https://i.imgur.com/5zHyjtJ.jpg\n",
      "[gallery-dl][debug] Starting DownloadJob for 'https://i.imgur.com/5zHyjtJ.jpg'\n",
      "[imgur][debug] Using ImgurImageExtractor for 'https://i.imgur.com/5zHyjtJ.jpg'\n",
      "[urllib3.connectionpool][debug] https://api.imgur.com:443 \"GET /post/v1/media/5zHyjtJ?include=media%2Ctags%2Caccount HTTP/1.1\" 200 449\n",
      "[urllib3.connectionpool][debug] https://i.imgur.com:443 \"GET /5zHyjtJ.jpg HTTP/1.1\" 200 849016\n"
     ]
    },
    {
     "name": "stdout",
     "output_type": "stream",
     "text": [
      "nvme_drive/scraped_files/20220821-003129-reddit/imgur/imgur_5zHyjtJ_So Sexy.jpg\n"
     ]
    },
    {
     "name": "stderr",
     "output_type": "stream",
     "text": [
      "[376/997] https://i.imgur.com/peE3eyJ.gifv\n",
      "[gallery-dl][debug] Starting DownloadJob for 'https://i.imgur.com/peE3eyJ.gifv'\n",
      "[imgur][debug] Using ImgurImageExtractor for 'https://i.imgur.com/peE3eyJ.gifv'\n",
      "[urllib3.connectionpool][debug] https://api.imgur.com:443 \"GET /post/v1/media/peE3eyJ?include=media%2Ctags%2Caccount HTTP/1.1\" 200 464\n",
      "[urllib3.connectionpool][debug] https://i.imgur.com:443 \"GET /peE3eyJ.mp4 HTTP/1.1\" 200 32824759\n"
     ]
    },
    {
     "name": "stdout",
     "output_type": "stream",
     "text": [
      "nvme_drive/scraped_files/20220821-003129-reddit/imgur/imgur_peE3eyJ_on the high seas.mp4\n",
      "nvme_drive/scraped_files/20220821-003129-reddit/reddit/4eb4p228l7a71.jpg\n"
     ]
    },
    {
     "name": "stderr",
     "output_type": "stream",
     "text": [
      "[377/997] https://i.redd.it/4eb4p228l7a71.jpg\n",
      "[gallery-dl][debug] Starting DownloadJob for 'https://i.redd.it/4eb4p228l7a71.jpg'\n",
      "[reddit][debug] Using RedditImageExtractor for 'https://i.redd.it/4eb4p228l7a71.jpg'\n",
      "[urllib3.connectionpool][debug] https://i.redd.it:443 \"GET /4eb4p228l7a71.jpg HTTP/1.1\" 200 307439\n",
      "[378/997] https://www.redgifs.com/watch/hospitablecornyarabianwildcat\n",
      "[gallery-dl][debug] Starting DownloadJob for 'https://www.redgifs.com/watch/hospitablecornyarabianwildcat'\n",
      "[redgifs][debug] Using RedgifsImageExtractor for 'https://www.redgifs.com/watch/hospitablecornyarabianwildcat'\n",
      "[urllib3.connectionpool][debug] https://api.redgifs.com:443 \"GET /v2/gifs/hospitablecornyarabianwildcat HTTP/1.1\" 200 None\n",
      "[urllib3.connectionpool][debug] https://thumbs2.redgifs.com:443 \"GET /HospitableCornyArabianwildcat.mp4 HTTP/1.1\" 200 4147008\n"
     ]
    },
    {
     "name": "stdout",
     "output_type": "stream",
     "text": [
      "nvme_drive/scraped_files/20220821-003129-reddit/redgifs/redgifs_hospitablecornyarabianwildcat.mp4\n"
     ]
    },
    {
     "name": "stderr",
     "output_type": "stream",
     "text": [
      "[379/997] https://redgifs.com/watch/blanchedalmondworthlessequine\n",
      "[gallery-dl][debug] Starting DownloadJob for 'https://redgifs.com/watch/blanchedalmondworthlessequine'\n",
      "[redgifs][debug] Using RedgifsImageExtractor for 'https://redgifs.com/watch/blanchedalmondworthlessequine'\n",
      "[urllib3.connectionpool][debug] https://api.redgifs.com:443 \"GET /v2/gifs/blanchedalmondworthlessequine HTTP/1.1\" 200 None\n",
      "[urllib3.connectionpool][debug] https://thumbs2.redgifs.com:443 \"GET /BlanchedalmondWorthlessEquine.mp4 HTTP/1.1\" 200 10653557\n"
     ]
    },
    {
     "name": "stdout",
     "output_type": "stream",
     "text": [
      "nvme_drive/scraped_files/20220821-003129-reddit/redgifs/redgifs_blanchedalmondworthlessequine.mp4\n",
      "nvme_drive/scraped_files/20220821-003129-reddit/reddit/gp4v571droh91.jpg\n",
      "nvme_drive/scraped_files/20220821-003129-reddit/reddit/rg18hh88hhg91.jpg\n"
     ]
    },
    {
     "name": "stderr",
     "output_type": "stream",
     "text": [
      "[380/997] https://i.redd.it/gp4v571droh91.jpg\n",
      "[gallery-dl][debug] Starting DownloadJob for 'https://i.redd.it/gp4v571droh91.jpg'\n",
      "[reddit][debug] Using RedditImageExtractor for 'https://i.redd.it/gp4v571droh91.jpg'\n",
      "[urllib3.connectionpool][debug] https://i.redd.it:443 \"GET /gp4v571droh91.jpg HTTP/1.1\" 200 678526\n",
      "[381/997] https://i.redd.it/rg18hh88hhg91.jpg\n",
      "[gallery-dl][debug] Starting DownloadJob for 'https://i.redd.it/rg18hh88hhg91.jpg'\n",
      "[reddit][debug] Using RedditImageExtractor for 'https://i.redd.it/rg18hh88hhg91.jpg'\n",
      "[urllib3.connectionpool][debug] https://i.redd.it:443 \"GET /rg18hh88hhg91.jpg HTTP/1.1\" 200 267272\n",
      "[382/997] https://www.redgifs.com/watch/suburbanharddobermanpinscher\n",
      "[gallery-dl][debug] Starting DownloadJob for 'https://www.redgifs.com/watch/suburbanharddobermanpinscher'\n",
      "[redgifs][debug] Using RedgifsImageExtractor for 'https://www.redgifs.com/watch/suburbanharddobermanpinscher'\n",
      "[urllib3.connectionpool][debug] https://api.redgifs.com:443 \"GET /v2/gifs/suburbanharddobermanpinscher HTTP/1.1\" 200 None\n",
      "[urllib3.connectionpool][debug] https://thumbs2.redgifs.com:443 \"GET /SuburbanHardDobermanpinscher.mp4 HTTP/1.1\" 200 23468293\n"
     ]
    },
    {
     "name": "stdout",
     "output_type": "stream",
     "text": [
      "nvme_drive/scraped_files/20220821-003129-reddit/redgifs/redgifs_suburbanharddobermanpinscher.mp4\n"
     ]
    },
    {
     "name": "stderr",
     "output_type": "stream",
     "text": [
      "[383/997] https://www.redgifs.com/watch/marriedharmoniousdarklingbeetle\n",
      "[gallery-dl][debug] Starting DownloadJob for 'https://www.redgifs.com/watch/marriedharmoniousdarklingbeetle'\n",
      "[redgifs][debug] Using RedgifsImageExtractor for 'https://www.redgifs.com/watch/marriedharmoniousdarklingbeetle'\n",
      "[urllib3.connectionpool][debug] https://api.redgifs.com:443 \"GET /v2/gifs/marriedharmoniousdarklingbeetle HTTP/1.1\" 200 None\n",
      "[urllib3.connectionpool][debug] https://thumbs2.redgifs.com:443 \"GET /MarriedHarmoniousDarklingbeetle.mp4 HTTP/1.1\" 200 13432584\n"
     ]
    },
    {
     "name": "stdout",
     "output_type": "stream",
     "text": [
      "nvme_drive/scraped_files/20220821-003129-reddit/redgifs/redgifs_marriedharmoniousdarklingbeetle.mp4\n"
     ]
    },
    {
     "name": "stderr",
     "output_type": "stream",
     "text": [
      "[384/997] https://i.imgur.com/oOJrxo7.jpg\n",
      "[gallery-dl][debug] Starting DownloadJob for 'https://i.imgur.com/oOJrxo7.jpg'\n",
      "[imgur][debug] Using ImgurImageExtractor for 'https://i.imgur.com/oOJrxo7.jpg'\n",
      "[urllib3.connectionpool][debug] https://api.imgur.com:443 \"GET /post/v1/media/oOJrxo7?include=media%2Ctags%2Caccount HTTP/1.1\" 200 498\n",
      "[urllib3.connectionpool][debug] https://i.imgur.com:443 \"GET /oOJrxo7.jpg HTTP/1.1\" 200 465424\n"
     ]
    },
    {
     "name": "stdout",
     "output_type": "stream",
     "text": [
      "nvme_drive/scraped_files/20220821-003129-reddit/imgur/imgur_oOJrxo7_Wavy haired ginger with pale skin and deep blue eyes.jpg\n",
      "nvme_drive/scraped_files/20220821-003129-reddit/reddit/crfkfinrw7g91.jpg\n"
     ]
    },
    {
     "name": "stderr",
     "output_type": "stream",
     "text": [
      "[385/997] https://i.redd.it/crfkfinrw7g91.jpg\n",
      "[gallery-dl][debug] Starting DownloadJob for 'https://i.redd.it/crfkfinrw7g91.jpg'\n",
      "[reddit][debug] Using RedditImageExtractor for 'https://i.redd.it/crfkfinrw7g91.jpg'\n",
      "[urllib3.connectionpool][debug] https://i.redd.it:443 \"GET /crfkfinrw7g91.jpg HTTP/1.1\" 200 47902\n",
      "[386/997] https://i.imgur.com/tA2Lycq.jpg\n",
      "[gallery-dl][debug] Starting DownloadJob for 'https://i.imgur.com/tA2Lycq.jpg'\n",
      "[imgur][debug] Using ImgurImageExtractor for 'https://i.imgur.com/tA2Lycq.jpg'\n",
      "[urllib3.connectionpool][debug] https://api.imgur.com:443 \"GET /post/v1/media/tA2Lycq?include=media%2Ctags%2Caccount HTTP/1.1\" 200 472\n",
      "[urllib3.connectionpool][debug] https://i.imgur.com:443 \"GET /tA2Lycq.jpg HTTP/1.1\" 200 897908\n"
     ]
    },
    {
     "name": "stdout",
     "output_type": "stream",
     "text": [
      "nvme_drive/scraped_files/20220821-003129-reddit/imgur/imgur_tA2Lycq_Her nipples are divine.jpg\n"
     ]
    },
    {
     "name": "stderr",
     "output_type": "stream",
     "text": [
      "[387/997] https://i.imgur.com/ZKOkg9J.jpeg\n",
      "[gallery-dl][debug] Starting DownloadJob for 'https://i.imgur.com/ZKOkg9J.jpeg'\n",
      "[imgur][debug] Using ImgurImageExtractor for 'https://i.imgur.com/ZKOkg9J.jpeg'\n",
      "[urllib3.connectionpool][debug] https://api.imgur.com:443 \"GET /post/v1/media/ZKOkg9J?include=media%2Ctags%2Caccount HTTP/1.1\" 200 467\n",
      "[urllib3.connectionpool][debug] https://i.imgur.com:443 \"GET /ZKOkg9J.jpg HTTP/1.1\" 200 3037362\n"
     ]
    },
    {
     "name": "stdout",
     "output_type": "stream",
     "text": [
      "nvme_drive/scraped_files/20220821-003129-reddit/imgur/imgur_ZKOkg9J_Guinevere Huney.jpg\n",
      "nvme_drive/scraped_files/20220821-003129-reddit/reddit/0qgwdauw0pc91.jpg\n"
     ]
    },
    {
     "name": "stderr",
     "output_type": "stream",
     "text": [
      "[388/997] https://i.redd.it/0qgwdauw0pc91.jpg\n",
      "[gallery-dl][debug] Starting DownloadJob for 'https://i.redd.it/0qgwdauw0pc91.jpg'\n",
      "[reddit][debug] Using RedditImageExtractor for 'https://i.redd.it/0qgwdauw0pc91.jpg'\n",
      "[urllib3.connectionpool][debug] https://i.redd.it:443 \"GET /0qgwdauw0pc91.jpg HTTP/1.1\" 200 206538\n",
      "[389/997] https://i.redd.it/13ccz6tqq3d91.jpg\n",
      "[gallery-dl][debug] Starting DownloadJob for 'https://i.redd.it/13ccz6tqq3d91.jpg'\n",
      "[reddit][debug] Using RedditImageExtractor for 'https://i.redd.it/13ccz6tqq3d91.jpg'\n",
      "[urllib3.connectionpool][debug] https://i.redd.it:443 \"GET /13ccz6tqq3d91.jpg HTTP/1.1\" 200 1117456\n"
     ]
    },
    {
     "name": "stdout",
     "output_type": "stream",
     "text": [
      "nvme_drive/scraped_files/20220821-003129-reddit/reddit/13ccz6tqq3d91.jpg\n",
      "nvme_drive/scraped_files/20220821-003129-reddit/imgur/imgur_51LeB49_At the beach.jpg\n"
     ]
    },
    {
     "name": "stderr",
     "output_type": "stream",
     "text": [
      "[390/997] https://i.imgur.com/51LeB49.jpg\n",
      "[gallery-dl][debug] Starting DownloadJob for 'https://i.imgur.com/51LeB49.jpg'\n",
      "[imgur][debug] Using ImgurImageExtractor for 'https://i.imgur.com/51LeB49.jpg'\n",
      "[urllib3.connectionpool][debug] https://api.imgur.com:443 \"GET /post/v1/media/51LeB49?include=media%2Ctags%2Caccount HTTP/1.1\" 200 506\n",
      "[urllib3.connectionpool][debug] https://i.imgur.com:443 \"GET /51LeB49.jpg HTTP/1.1\" 200 391007\n",
      "[391/997] https://i.imgur.com/ly7OecO.jpeg\n",
      "[gallery-dl][debug] Starting DownloadJob for 'https://i.imgur.com/ly7OecO.jpeg'\n",
      "[imgur][debug] Using ImgurImageExtractor for 'https://i.imgur.com/ly7OecO.jpeg'\n",
      "[urllib3.connectionpool][debug] https://api.imgur.com:443 \"GET /post/v1/media/ly7OecO?include=media%2Ctags%2Caccount HTTP/1.1\" 200 457\n",
      "[urllib3.connectionpool][debug] https://i.imgur.com:443 \"GET /ly7OecO.jpg HTTP/1.1\" 200 1787492\n"
     ]
    },
    {
     "name": "stdout",
     "output_type": "stream",
     "text": [
      "nvme_drive/scraped_files/20220821-003129-reddit/imgur/imgur_ly7OecO_Neu (High Res).jpg\n",
      "nvme_drive/scraped_files/20220821-003129-reddit/reddit/87puad1dt8g91.jpg\n"
     ]
    },
    {
     "name": "stderr",
     "output_type": "stream",
     "text": [
      "[392/997] https://i.redd.it/87puad1dt8g91.jpg\n",
      "[gallery-dl][debug] Starting DownloadJob for 'https://i.redd.it/87puad1dt8g91.jpg'\n",
      "[reddit][debug] Using RedditImageExtractor for 'https://i.redd.it/87puad1dt8g91.jpg'\n",
      "[urllib3.connectionpool][debug] https://i.redd.it:443 \"GET /87puad1dt8g91.jpg HTTP/1.1\" 200 851756\n",
      "[393/997] https://www.redgifs.com/watch/frenchbrightbufeo\n",
      "[gallery-dl][debug] Starting DownloadJob for 'https://www.redgifs.com/watch/frenchbrightbufeo'\n",
      "[redgifs][debug] Using RedgifsImageExtractor for 'https://www.redgifs.com/watch/frenchbrightbufeo'\n",
      "[urllib3.connectionpool][debug] https://api.redgifs.com:443 \"GET /v2/gifs/frenchbrightbufeo HTTP/1.1\" 200 None\n",
      "[urllib3.connectionpool][debug] https://thumbs2.redgifs.com:443 \"GET /FrenchBrightBufeo.mp4 HTTP/1.1\" 200 3146484\n"
     ]
    },
    {
     "name": "stdout",
     "output_type": "stream",
     "text": [
      "nvme_drive/scraped_files/20220821-003129-reddit/redgifs/redgifs_frenchbrightbufeo.mp4\n",
      "nvme_drive/scraped_files/20220821-003129-reddit/reddit/msyk6wcdwia91.jpg\n"
     ]
    },
    {
     "name": "stderr",
     "output_type": "stream",
     "text": [
      "[394/997] https://i.redd.it/msyk6wcdwia91.jpg\n",
      "[gallery-dl][debug] Starting DownloadJob for 'https://i.redd.it/msyk6wcdwia91.jpg'\n",
      "[reddit][debug] Using RedditImageExtractor for 'https://i.redd.it/msyk6wcdwia91.jpg'\n",
      "[urllib3.connectionpool][debug] https://i.redd.it:443 \"GET /msyk6wcdwia91.jpg HTTP/1.1\" 200 140090\n",
      "[395/997] https://i.imgur.com/iNNn8oL.jpeg\n",
      "[gallery-dl][debug] Starting DownloadJob for 'https://i.imgur.com/iNNn8oL.jpeg'\n",
      "[imgur][debug] Using ImgurImageExtractor for 'https://i.imgur.com/iNNn8oL.jpeg'\n",
      "[urllib3.connectionpool][debug] https://api.imgur.com:443 \"GET /post/v1/media/iNNn8oL?include=media%2Ctags%2Caccount HTTP/1.1\" 200 452\n",
      "[urllib3.connectionpool][debug] https://i.imgur.com:443 \"GET /iNNn8oL.jpg HTTP/1.1\" 200 256352\n"
     ]
    },
    {
     "name": "stdout",
     "output_type": "stream",
     "text": [
      "nvme_drive/scraped_files/20220821-003129-reddit/imgur/imgur_iNNn8oL_Blue-winged angel.jpg\n"
     ]
    },
    {
     "name": "stderr",
     "output_type": "stream",
     "text": [
      "[396/997] https://redgifs.com/watch/wellmadesuddenwarbler\n",
      "[gallery-dl][debug] Starting DownloadJob for 'https://redgifs.com/watch/wellmadesuddenwarbler'\n",
      "[redgifs][debug] Using RedgifsImageExtractor for 'https://redgifs.com/watch/wellmadesuddenwarbler'\n",
      "[urllib3.connectionpool][debug] https://api.redgifs.com:443 \"GET /v2/gifs/wellmadesuddenwarbler HTTP/1.1\" 200 None\n",
      "[urllib3.connectionpool][debug] https://thumbs2.redgifs.com:443 \"GET /WellmadeSuddenWarbler.mp4 HTTP/1.1\" 200 14942287\n"
     ]
    },
    {
     "name": "stdout",
     "output_type": "stream",
     "text": [
      "nvme_drive/scraped_files/20220821-003129-reddit/redgifs/redgifs_wellmadesuddenwarbler.mp4\n",
      "nvme_drive/scraped_files/20220821-003129-reddit/imgur/imgur_46RmS7J_Shhh!.jpg\n"
     ]
    },
    {
     "name": "stderr",
     "output_type": "stream",
     "text": [
      "[397/997] https://i.imgur.com/46RmS7J.jpeg\n",
      "[gallery-dl][debug] Starting DownloadJob for 'https://i.imgur.com/46RmS7J.jpeg'\n",
      "[imgur][debug] Using ImgurImageExtractor for 'https://i.imgur.com/46RmS7J.jpeg'\n",
      "[urllib3.connectionpool][debug] https://api.imgur.com:443 \"GET /post/v1/media/46RmS7J?include=media%2Ctags%2Caccount HTTP/1.1\" 200 445\n",
      "[urllib3.connectionpool][debug] https://i.imgur.com:443 \"GET /46RmS7J.jpg HTTP/1.1\" 200 79897\n",
      "[398/997] https://redgifs.com/watch/unevenyellowbengaltiger\n",
      "[gallery-dl][debug] Starting DownloadJob for 'https://redgifs.com/watch/unevenyellowbengaltiger'\n",
      "[redgifs][debug] Using RedgifsImageExtractor for 'https://redgifs.com/watch/unevenyellowbengaltiger'\n",
      "[urllib3.connectionpool][debug] https://api.redgifs.com:443 \"GET /v2/gifs/unevenyellowbengaltiger HTTP/1.1\" 200 None\n",
      "[urllib3.connectionpool][debug] https://thumbs2.redgifs.com:443 \"GET /UnevenYellowBengaltiger.mp4 HTTP/1.1\" 200 1489143\n"
     ]
    },
    {
     "name": "stdout",
     "output_type": "stream",
     "text": [
      "nvme_drive/scraped_files/20220821-003129-reddit/redgifs/redgifs_unevenyellowbengaltiger.mp4\n"
     ]
    },
    {
     "name": "stderr",
     "output_type": "stream",
     "text": [
      "[399/997] https://redgifs.com/watch/indianredcomplexpaca\n",
      "[gallery-dl][debug] Starting DownloadJob for 'https://redgifs.com/watch/indianredcomplexpaca'\n",
      "[redgifs][debug] Using RedgifsImageExtractor for 'https://redgifs.com/watch/indianredcomplexpaca'\n",
      "[urllib3.connectionpool][debug] https://api.redgifs.com:443 \"GET /v2/gifs/indianredcomplexpaca HTTP/1.1\" 200 None\n",
      "[urllib3.connectionpool][debug] https://thumbs2.redgifs.com:443 \"GET /IndianredComplexPaca.mp4 HTTP/1.1\" 200 61146738\n"
     ]
    },
    {
     "name": "stdout",
     "output_type": "stream",
     "text": [
      "nvme_drive/scraped_files/20220821-003129-reddit/redgifs/redgifs_indianredcomplexpaca.mp4\n",
      "nvme_drive/scraped_files/20220821-003129-reddit/imgur/imgur_8l7ZjGe_Rachel (album in comments).jpg\n"
     ]
    },
    {
     "name": "stderr",
     "output_type": "stream",
     "text": [
      "[400/997] https://i.imgur.com/8l7ZjGe.jpg\n",
      "[gallery-dl][debug] Starting DownloadJob for 'https://i.imgur.com/8l7ZjGe.jpg'\n",
      "[imgur][debug] Using ImgurImageExtractor for 'https://i.imgur.com/8l7ZjGe.jpg'\n",
      "[urllib3.connectionpool][debug] https://api.imgur.com:443 \"GET /post/v1/media/8l7ZjGe?include=media%2Ctags%2Caccount HTTP/1.1\" 200 467\n",
      "[urllib3.connectionpool][debug] https://i.imgur.com:443 \"GET /8l7ZjGe.jpg HTTP/1.1\" 200 186103\n",
      "[401/997] https://i.imgur.com/YFiMRhF.jpeg\n",
      "[gallery-dl][debug] Starting DownloadJob for 'https://i.imgur.com/YFiMRhF.jpeg'\n",
      "[imgur][debug] Using ImgurImageExtractor for 'https://i.imgur.com/YFiMRhF.jpeg'\n",
      "[urllib3.connectionpool][debug] https://api.imgur.com:443 \"GET /post/v1/media/YFiMRhF?include=media%2Ctags%2Caccount HTTP/1.1\" 200 448\n",
      "[urllib3.connectionpool][debug] https://i.imgur.com:443 \"GET /YFiMRhF.jpg HTTP/1.1\" 200 601527\n",
      "[402/997] https://i.imgur.com/mAFZN6m.jpg\n",
      "[gallery-dl][debug] Starting DownloadJob for 'https://i.imgur.com/mAFZN6m.jpg'\n",
      "[imgur][debug] Using ImgurImageExtractor for 'https://i.imgur.com/mAFZN6m.jpg'\n"
     ]
    },
    {
     "name": "stdout",
     "output_type": "stream",
     "text": [
      "nvme_drive/scraped_files/20220821-003129-reddit/imgur/imgur_YFiMRhF_Red heat.jpg\n"
     ]
    },
    {
     "name": "stderr",
     "output_type": "stream",
     "text": [
      "[urllib3.connectionpool][debug] https://api.imgur.com:443 \"GET /post/v1/media/mAFZN6m?include=media%2Ctags%2Caccount HTTP/1.1\" 200 475\n",
      "[urllib3.connectionpool][debug] https://i.imgur.com:443 \"GET /mAFZN6m.jpg HTTP/1.1\" 200 1305018\n",
      "[403/997] https://i.imgur.com/4JsN00i.jpeg\n",
      "[gallery-dl][debug] Starting DownloadJob for 'https://i.imgur.com/4JsN00i.jpeg'\n",
      "[imgur][debug] Using ImgurImageExtractor for 'https://i.imgur.com/4JsN00i.jpeg'\n"
     ]
    },
    {
     "name": "stdout",
     "output_type": "stream",
     "text": [
      "nvme_drive/scraped_files/20220821-003129-reddit/imgur/imgur_mAFZN6m_Hijabi Hiker.jpg\n"
     ]
    },
    {
     "name": "stderr",
     "output_type": "stream",
     "text": [
      "[urllib3.connectionpool][debug] https://api.imgur.com:443 \"GET /post/v1/media/4JsN00i?include=media%2Ctags%2Caccount HTTP/1.1\" 200 452\n",
      "[urllib3.connectionpool][debug] https://i.imgur.com:443 \"GET /4JsN00i.jpg HTTP/1.1\" 200 1623888\n"
     ]
    },
    {
     "name": "stdout",
     "output_type": "stream",
     "text": [
      "nvme_drive/scraped_files/20220821-003129-reddit/imgur/imgur_4JsN00i_Touching back.jpg\n"
     ]
    },
    {
     "name": "stderr",
     "output_type": "stream",
     "text": [
      "[404/997] https://redgifs.com/watch/amazingmindlessflicker\n",
      "[gallery-dl][debug] Starting DownloadJob for 'https://redgifs.com/watch/amazingmindlessflicker'\n",
      "[redgifs][debug] Using RedgifsImageExtractor for 'https://redgifs.com/watch/amazingmindlessflicker'\n",
      "[urllib3.connectionpool][debug] https://api.redgifs.com:443 \"GET /v2/gifs/amazingmindlessflicker HTTP/1.1\" 200 None\n",
      "[urllib3.connectionpool][debug] https://thumbs2.redgifs.com:443 \"GET /AmazingMindlessFlicker.mp4 HTTP/1.1\" 200 35715750\n"
     ]
    },
    {
     "name": "stdout",
     "output_type": "stream",
     "text": [
      "nvme_drive/scraped_files/20220821-003129-reddit/redgifs/redgifs_amazingmindlessflicker.mp4\n"
     ]
    },
    {
     "name": "stderr",
     "output_type": "stream",
     "text": [
      "[405/997] https://i.imgur.com/P0iDAhO.jpeg\n",
      "[gallery-dl][debug] Starting DownloadJob for 'https://i.imgur.com/P0iDAhO.jpeg'\n",
      "[imgur][debug] Using ImgurImageExtractor for 'https://i.imgur.com/P0iDAhO.jpeg'\n",
      "[urllib3.connectionpool][debug] https://api.imgur.com:443 \"GET /post/v1/media/P0iDAhO?include=media%2Ctags%2Caccount HTTP/1.1\" 200 451\n",
      "[urllib3.connectionpool][debug] https://i.imgur.com:443 \"GET /P0iDAhO.jpg HTTP/1.1\" 200 650056\n"
     ]
    },
    {
     "name": "stdout",
     "output_type": "stream",
     "text": [
      "nvme_drive/scraped_files/20220821-003129-reddit/imgur/imgur_P0iDAhO_Lana Lane.jpg\n"
     ]
    },
    {
     "name": "stderr",
     "output_type": "stream",
     "text": [
      "[406/997] https://www.redgifs.com/watch/soggyevilazurewingedmagpie\n",
      "[gallery-dl][debug] Starting DownloadJob for 'https://www.redgifs.com/watch/soggyevilazurewingedmagpie'\n",
      "[redgifs][debug] Using RedgifsImageExtractor for 'https://www.redgifs.com/watch/soggyevilazurewingedmagpie'\n",
      "[urllib3.connectionpool][debug] https://api.redgifs.com:443 \"GET /v2/gifs/soggyevilazurewingedmagpie HTTP/1.1\" 200 None\n",
      "[urllib3.connectionpool][debug] https://thumbs2.redgifs.com:443 \"GET /SoggyEvilAzurewingedmagpie.mp4 HTTP/1.1\" 200 4203047\n"
     ]
    },
    {
     "name": "stdout",
     "output_type": "stream",
     "text": [
      "nvme_drive/scraped_files/20220821-003129-reddit/redgifs/redgifs_soggyevilazurewingedmagpie.mp4\n"
     ]
    },
    {
     "name": "stderr",
     "output_type": "stream",
     "text": [
      "[407/997] https://redgifs.com/watch/lastinglawngreenboa\n",
      "[gallery-dl][debug] Starting DownloadJob for 'https://redgifs.com/watch/lastinglawngreenboa'\n",
      "[redgifs][debug] Using RedgifsImageExtractor for 'https://redgifs.com/watch/lastinglawngreenboa'\n",
      "[urllib3.connectionpool][debug] https://api.redgifs.com:443 \"GET /v2/gifs/lastinglawngreenboa HTTP/1.1\" 200 None\n",
      "[urllib3.connectionpool][debug] https://thumbs2.redgifs.com:443 \"GET /LastingLawngreenBoa.mp4 HTTP/1.1\" 200 37657236\n"
     ]
    },
    {
     "name": "stdout",
     "output_type": "stream",
     "text": [
      "nvme_drive/scraped_files/20220821-003129-reddit/redgifs/redgifs_lastinglawngreenboa.mp4\n"
     ]
    },
    {
     "name": "stderr",
     "output_type": "stream",
     "text": [
      "[408/997] https://i.imgur.com/Gm3rsfA.jpg\n",
      "[gallery-dl][debug] Starting DownloadJob for 'https://i.imgur.com/Gm3rsfA.jpg'\n",
      "[imgur][debug] Using ImgurImageExtractor for 'https://i.imgur.com/Gm3rsfA.jpg'\n",
      "[urllib3.connectionpool][debug] https://api.imgur.com:443 \"GET /post/v1/media/Gm3rsfA?include=media%2Ctags%2Caccount HTTP/1.1\" 200 454\n",
      "[urllib3.connectionpool][debug] https://i.imgur.com:443 \"GET /Gm3rsfA.jpg HTTP/1.1\" 200 859969\n"
     ]
    },
    {
     "name": "stdout",
     "output_type": "stream",
     "text": [
      "nvme_drive/scraped_files/20220821-003129-reddit/imgur/imgur_Gm3rsfA_Big pierced tits.jpg\n"
     ]
    },
    {
     "name": "stderr",
     "output_type": "stream",
     "text": [
      "[409/997] https://www.redgifs.com/watch/cleverjoyouswyvern\n",
      "[gallery-dl][debug] Starting DownloadJob for 'https://www.redgifs.com/watch/cleverjoyouswyvern'\n",
      "[redgifs][debug] Using RedgifsImageExtractor for 'https://www.redgifs.com/watch/cleverjoyouswyvern'\n",
      "[urllib3.connectionpool][debug] https://api.redgifs.com:443 \"GET /v2/gifs/cleverjoyouswyvern HTTP/1.1\" 200 None\n",
      "[urllib3.connectionpool][debug] https://thumbs2.redgifs.com:443 \"GET /CleverJoyousWyvern.mp4 HTTP/1.1\" 200 25925133\n"
     ]
    },
    {
     "name": "stdout",
     "output_type": "stream",
     "text": [
      "nvme_drive/scraped_files/20220821-003129-reddit/redgifs/redgifs_cleverjoyouswyvern.mp4\n"
     ]
    },
    {
     "name": "stderr",
     "output_type": "stream",
     "text": [
      "[410/997] https://redgifs.com/watch/salmoncheapleafhopper\n",
      "[gallery-dl][debug] Starting DownloadJob for 'https://redgifs.com/watch/salmoncheapleafhopper'\n",
      "[redgifs][debug] Using RedgifsImageExtractor for 'https://redgifs.com/watch/salmoncheapleafhopper'\n",
      "[urllib3.connectionpool][debug] https://api.redgifs.com:443 \"GET /v2/gifs/salmoncheapleafhopper HTTP/1.1\" 200 None\n",
      "[urllib3.connectionpool][debug] https://thumbs2.redgifs.com:443 \"GET /SalmonCheapLeafhopper.mp4 HTTP/1.1\" 200 5427467\n"
     ]
    },
    {
     "name": "stdout",
     "output_type": "stream",
     "text": [
      "nvme_drive/scraped_files/20220821-003129-reddit/redgifs/redgifs_salmoncheapleafhopper.mp4\n"
     ]
    },
    {
     "name": "stderr",
     "output_type": "stream",
     "text": [
      "[411/997] https://redgifs.com/watch/forthrightbouncyfrilledlizard\n",
      "[gallery-dl][debug] Starting DownloadJob for 'https://redgifs.com/watch/forthrightbouncyfrilledlizard'\n",
      "[redgifs][debug] Using RedgifsImageExtractor for 'https://redgifs.com/watch/forthrightbouncyfrilledlizard'\n",
      "[urllib3.connectionpool][debug] https://api.redgifs.com:443 \"GET /v2/gifs/forthrightbouncyfrilledlizard HTTP/1.1\" 410 60\n",
      "[redgifs][error] HttpError: '410 Gone' for 'https://api.redgifs.com/v2/gifs/forthrightbouncyfrilledlizard'\n",
      "[412/997] https://i.imgur.com/ke2luGx.jpg\n",
      "[gallery-dl][debug] Starting DownloadJob for 'https://i.imgur.com/ke2luGx.jpg'\n",
      "[imgur][debug] Using ImgurImageExtractor for 'https://i.imgur.com/ke2luGx.jpg'\n",
      "[urllib3.connectionpool][debug] https://api.imgur.com:443 \"GET /post/v1/media/ke2luGx?include=media%2Ctags%2Caccount HTTP/1.1\" 200 476\n",
      "[urllib3.connectionpool][debug] https://i.imgur.com:443 \"GET /ke2luGx.jpg HTTP/1.1\" 200 56679\n",
      "[413/997] https://i.redd.it/fe8bdnvtybd91.png\n",
      "[gallery-dl][debug] Starting DownloadJob for 'https://i.redd.it/fe8bdnvtybd91.png'\n",
      "[reddit][debug] Using RedditImageExtractor for 'https://i.redd.it/fe8bdnvtybd91.png'\n",
      "[urllib3.connectionpool][debug] https://i.redd.it:443 \"GET /fe8bdnvtybd91.png HTTP/1.1\" 200 1675998\n"
     ]
    },
    {
     "name": "stdout",
     "output_type": "stream",
     "text": [
      "nvme_drive/scraped_files/20220821-003129-reddit/imgur/imgur_ke2luGx_Damn.jpg\n",
      "nvme_drive/scraped_files/20220821-003129-reddit/reddit/fe8bdnvtybd91.png\n",
      "nvme_drive/scraped_files/20220821-003129-reddit/reddit/jmhhlfj2rqd91.jpg\n"
     ]
    },
    {
     "name": "stderr",
     "output_type": "stream",
     "text": [
      "[414/997] https://i.redd.it/jmhhlfj2rqd91.jpg\n",
      "[gallery-dl][debug] Starting DownloadJob for 'https://i.redd.it/jmhhlfj2rqd91.jpg'\n",
      "[reddit][debug] Using RedditImageExtractor for 'https://i.redd.it/jmhhlfj2rqd91.jpg'\n",
      "[urllib3.connectionpool][debug] https://i.redd.it:443 \"GET /jmhhlfj2rqd91.jpg HTTP/1.1\" 200 310600\n",
      "[415/997] https://redgifs.com/watch/surefootedtastyguillemot\n",
      "[gallery-dl][debug] Starting DownloadJob for 'https://redgifs.com/watch/surefootedtastyguillemot'\n",
      "[redgifs][debug] Using RedgifsImageExtractor for 'https://redgifs.com/watch/surefootedtastyguillemot'\n",
      "[urllib3.connectionpool][debug] https://api.redgifs.com:443 \"GET /v2/gifs/surefootedtastyguillemot HTTP/1.1\" 200 None\n",
      "[urllib3.connectionpool][debug] https://thumbs2.redgifs.com:443 \"GET /SurefootedTastyGuillemot.mp4 HTTP/1.1\" 200 11525525\n"
     ]
    },
    {
     "name": "stdout",
     "output_type": "stream",
     "text": [
      "nvme_drive/scraped_files/20220821-003129-reddit/redgifs/redgifs_surefootedtastyguillemot.mp4\n",
      "nvme_drive/scraped_files/20220821-003129-reddit/reddit/3117dob2wii91.jpg\n"
     ]
    },
    {
     "name": "stderr",
     "output_type": "stream",
     "text": [
      "[416/997] https://i.redd.it/3117dob2wii91.jpg\n",
      "[gallery-dl][debug] Starting DownloadJob for 'https://i.redd.it/3117dob2wii91.jpg'\n",
      "[reddit][debug] Using RedditImageExtractor for 'https://i.redd.it/3117dob2wii91.jpg'\n",
      "[urllib3.connectionpool][debug] https://i.redd.it:443 \"GET /3117dob2wii91.jpg HTTP/1.1\" 200 345462\n",
      "[417/997] https://i.redd.it/bz8kyefrxfd91.jpg\n",
      "[gallery-dl][debug] Starting DownloadJob for 'https://i.redd.it/bz8kyefrxfd91.jpg'\n",
      "[reddit][debug] Using RedditImageExtractor for 'https://i.redd.it/bz8kyefrxfd91.jpg'\n",
      "[urllib3.connectionpool][debug] https://i.redd.it:443 \"GET /bz8kyefrxfd91.jpg HTTP/1.1\" 200 517282\n"
     ]
    },
    {
     "name": "stdout",
     "output_type": "stream",
     "text": [
      "nvme_drive/scraped_files/20220821-003129-reddit/reddit/bz8kyefrxfd91.jpg\n"
     ]
    },
    {
     "name": "stderr",
     "output_type": "stream",
     "text": [
      "[418/997] https://redgifs.com/watch/shabbymeaslysiberiantiger\n",
      "[gallery-dl][debug] Starting DownloadJob for 'https://redgifs.com/watch/shabbymeaslysiberiantiger'\n",
      "[redgifs][debug] Using RedgifsImageExtractor for 'https://redgifs.com/watch/shabbymeaslysiberiantiger'\n",
      "[urllib3.connectionpool][debug] https://api.redgifs.com:443 \"GET /v2/gifs/shabbymeaslysiberiantiger HTTP/1.1\" 200 None\n",
      "[urllib3.connectionpool][debug] https://thumbs2.redgifs.com:443 \"GET /ShabbyMeaslySiberiantiger.mp4 HTTP/1.1\" 200 48065087\n"
     ]
    },
    {
     "name": "stdout",
     "output_type": "stream",
     "text": [
      "nvme_drive/scraped_files/20220821-003129-reddit/redgifs/redgifs_shabbymeaslysiberiantiger.mp4\n"
     ]
    },
    {
     "name": "stderr",
     "output_type": "stream",
     "text": [
      "[419/997] https://www.redgifs.com/watch/unwittingdapperassassinbug\n",
      "[gallery-dl][debug] Starting DownloadJob for 'https://www.redgifs.com/watch/unwittingdapperassassinbug'\n",
      "[redgifs][debug] Using RedgifsImageExtractor for 'https://www.redgifs.com/watch/unwittingdapperassassinbug'\n",
      "[urllib3.connectionpool][debug] https://api.redgifs.com:443 \"GET /v2/gifs/unwittingdapperassassinbug HTTP/1.1\" 200 None\n",
      "[urllib3.connectionpool][debug] https://thumbs2.redgifs.com:443 \"GET /UnwittingDapperAssassinbug.mp4 HTTP/1.1\" 200 24069533\n"
     ]
    },
    {
     "name": "stdout",
     "output_type": "stream",
     "text": [
      "nvme_drive/scraped_files/20220821-003129-reddit/redgifs/redgifs_unwittingdapperassassinbug.mp4\n"
     ]
    },
    {
     "name": "stderr",
     "output_type": "stream",
     "text": [
      "[420/997] https://redgifs.com/watch/olivesalmonvipersquid\n",
      "[gallery-dl][debug] Starting DownloadJob for 'https://redgifs.com/watch/olivesalmonvipersquid'\n",
      "[redgifs][debug] Using RedgifsImageExtractor for 'https://redgifs.com/watch/olivesalmonvipersquid'\n",
      "[urllib3.connectionpool][debug] https://api.redgifs.com:443 \"GET /v2/gifs/olivesalmonvipersquid HTTP/1.1\" 200 None\n",
      "[urllib3.connectionpool][debug] https://thumbs2.redgifs.com:443 \"GET /OliveSalmonVipersquid.mp4 HTTP/1.1\" 200 18729848\n"
     ]
    },
    {
     "name": "stdout",
     "output_type": "stream",
     "text": [
      "nvme_drive/scraped_files/20220821-003129-reddit/redgifs/redgifs_olivesalmonvipersquid.mp4\n",
      "nvme_drive/scraped_files/20220821-003129-reddit/reddit/b5sexv8r46g91.jpg\n"
     ]
    },
    {
     "name": "stderr",
     "output_type": "stream",
     "text": [
      "[421/997] https://i.redd.it/b5sexv8r46g91.jpg\n",
      "[gallery-dl][debug] Starting DownloadJob for 'https://i.redd.it/b5sexv8r46g91.jpg'\n",
      "[reddit][debug] Using RedditImageExtractor for 'https://i.redd.it/b5sexv8r46g91.jpg'\n",
      "[urllib3.connectionpool][debug] https://i.redd.it:443 \"GET /b5sexv8r46g91.jpg HTTP/1.1\" 200 127159\n",
      "[422/997] https://i.redd.it/egocqsrorue91.gif\n",
      "[gallery-dl][debug] Starting DownloadJob for 'https://i.redd.it/egocqsrorue91.gif'\n",
      "[reddit][debug] Using RedditImageExtractor for 'https://i.redd.it/egocqsrorue91.gif'\n",
      "[urllib3.connectionpool][debug] https://i.redd.it:443 \"GET /egocqsrorue91.gif HTTP/1.1\" 200 3592011\n"
     ]
    },
    {
     "name": "stdout",
     "output_type": "stream",
     "text": [
      "nvme_drive/scraped_files/20220821-003129-reddit/reddit/egocqsrorue91.gif\n"
     ]
    },
    {
     "name": "stderr",
     "output_type": "stream",
     "text": [
      "[423/997] https://i.redd.it/tfrdrpl6c7g91.jpg\n",
      "[gallery-dl][debug] Starting DownloadJob for 'https://i.redd.it/tfrdrpl6c7g91.jpg'\n",
      "[reddit][debug] Using RedditImageExtractor for 'https://i.redd.it/tfrdrpl6c7g91.jpg'\n",
      "[urllib3.connectionpool][debug] https://i.redd.it:443 \"GET /tfrdrpl6c7g91.jpg HTTP/1.1\" 200 2400938\n"
     ]
    },
    {
     "name": "stdout",
     "output_type": "stream",
     "text": [
      "nvme_drive/scraped_files/20220821-003129-reddit/reddit/tfrdrpl6c7g91.jpg\n"
     ]
    },
    {
     "name": "stderr",
     "output_type": "stream",
     "text": [
      "[424/997] https://i.redd.it/4sxunpwpwch91.gif\n",
      "[gallery-dl][debug] Starting DownloadJob for 'https://i.redd.it/4sxunpwpwch91.gif'\n",
      "[reddit][debug] Using RedditImageExtractor for 'https://i.redd.it/4sxunpwpwch91.gif'\n",
      "[urllib3.connectionpool][debug] https://i.redd.it:443 \"GET /4sxunpwpwch91.gif HTTP/1.1\" 200 1814174\n"
     ]
    },
    {
     "name": "stdout",
     "output_type": "stream",
     "text": [
      "nvme_drive/scraped_files/20220821-003129-reddit/reddit/4sxunpwpwch91.gif\n",
      "nvme_drive/scraped_files/20220821-003129-reddit/imgur/imgur_UFhXKvj_flash 'em.jpg\n"
     ]
    },
    {
     "name": "stderr",
     "output_type": "stream",
     "text": [
      "[425/997] https://i.imgur.com/UFhXKvj.jpg\n",
      "[gallery-dl][debug] Starting DownloadJob for 'https://i.imgur.com/UFhXKvj.jpg'\n",
      "[imgur][debug] Using ImgurImageExtractor for 'https://i.imgur.com/UFhXKvj.jpg'\n",
      "[urllib3.connectionpool][debug] https://api.imgur.com:443 \"GET /post/v1/media/UFhXKvj?include=media%2Ctags%2Caccount HTTP/1.1\" 200 466\n",
      "[urllib3.connectionpool][debug] https://i.imgur.com:443 \"GET /UFhXKvj.jpg HTTP/1.1\" 200 166336\n",
      "[426/997] https://redgifs.com/watch/delectablebruisedwallaroo\n",
      "[gallery-dl][debug] Starting DownloadJob for 'https://redgifs.com/watch/delectablebruisedwallaroo'\n",
      "[redgifs][debug] Using RedgifsImageExtractor for 'https://redgifs.com/watch/delectablebruisedwallaroo'\n",
      "[urllib3.connectionpool][debug] https://api.redgifs.com:443 \"GET /v2/gifs/delectablebruisedwallaroo HTTP/1.1\" 200 None\n",
      "[urllib3.connectionpool][debug] https://thumbs2.redgifs.com:443 \"GET /DelectableBruisedWallaroo.mp4 HTTP/1.1\" 200 37134884\n"
     ]
    },
    {
     "name": "stdout",
     "output_type": "stream",
     "text": [
      "nvme_drive/scraped_files/20220821-003129-reddit/redgifs/redgifs_delectablebruisedwallaroo.mp4\n"
     ]
    },
    {
     "name": "stderr",
     "output_type": "stream",
     "text": [
      "[427/997] https://i.redd.it/ag0v9b529od91.gif\n",
      "[gallery-dl][debug] Starting DownloadJob for 'https://i.redd.it/ag0v9b529od91.gif'\n",
      "[reddit][debug] Using RedditImageExtractor for 'https://i.redd.it/ag0v9b529od91.gif'\n",
      "[urllib3.connectionpool][debug] https://i.redd.it:443 \"GET /ag0v9b529od91.gif HTTP/1.1\" 200 18100547\n"
     ]
    },
    {
     "name": "stdout",
     "output_type": "stream",
     "text": [
      "nvme_drive/scraped_files/20220821-003129-reddit/reddit/ag0v9b529od91.gif\n"
     ]
    },
    {
     "name": "stderr",
     "output_type": "stream",
     "text": [
      "[428/997] https://www.redgifs.com/watch/drabjadedpaperwasp\n",
      "[gallery-dl][debug] Starting DownloadJob for 'https://www.redgifs.com/watch/drabjadedpaperwasp'\n",
      "[redgifs][debug] Using RedgifsImageExtractor for 'https://www.redgifs.com/watch/drabjadedpaperwasp'\n",
      "[urllib3.connectionpool][debug] https://api.redgifs.com:443 \"GET /v2/gifs/drabjadedpaperwasp HTTP/1.1\" 200 None\n",
      "[urllib3.connectionpool][debug] https://thumbs2.redgifs.com:443 \"GET /DrabJadedPaperwasp.mp4 HTTP/1.1\" 200 18701879\n"
     ]
    },
    {
     "name": "stdout",
     "output_type": "stream",
     "text": [
      "nvme_drive/scraped_files/20220821-003129-reddit/redgifs/redgifs_drabjadedpaperwasp.mp4\n"
     ]
    },
    {
     "name": "stderr",
     "output_type": "stream",
     "text": [
      "[429/997] https://i.imgur.com/TJWDGZQ.jpg\n",
      "[gallery-dl][debug] Starting DownloadJob for 'https://i.imgur.com/TJWDGZQ.jpg'\n",
      "[imgur][debug] Using ImgurImageExtractor for 'https://i.imgur.com/TJWDGZQ.jpg'\n",
      "[urllib3.connectionpool][debug] https://api.imgur.com:443 \"GET /post/v1/media/TJWDGZQ?include=media%2Ctags%2Caccount HTTP/1.1\" 200 456\n",
      "[urllib3.connectionpool][debug] https://i.imgur.com:443 \"GET /TJWDGZQ.jpg HTTP/1.1\" 200 611606\n"
     ]
    },
    {
     "name": "stdout",
     "output_type": "stream",
     "text": [
      "nvme_drive/scraped_files/20220821-003129-reddit/imgur/imgur_TJWDGZQ_Hot Body.jpg\n",
      "nvme_drive/scraped_files/20220821-003129-reddit/reddit/gi5ux5yg57g91.jpg\n",
      "nvme_drive/scraped_files/20220821-003129-reddit/reddit/9h8pljz06hf91.jpg\n"
     ]
    },
    {
     "name": "stderr",
     "output_type": "stream",
     "text": [
      "[430/997] https://i.redd.it/gi5ux5yg57g91.jpg\n",
      "[gallery-dl][debug] Starting DownloadJob for 'https://i.redd.it/gi5ux5yg57g91.jpg'\n",
      "[reddit][debug] Using RedditImageExtractor for 'https://i.redd.it/gi5ux5yg57g91.jpg'\n",
      "[urllib3.connectionpool][debug] https://i.redd.it:443 \"GET /gi5ux5yg57g91.jpg HTTP/1.1\" 200 110890\n",
      "[431/997] https://i.redd.it/9h8pljz06hf91.jpg\n",
      "[gallery-dl][debug] Starting DownloadJob for 'https://i.redd.it/9h8pljz06hf91.jpg'\n",
      "[reddit][debug] Using RedditImageExtractor for 'https://i.redd.it/9h8pljz06hf91.jpg'\n",
      "[urllib3.connectionpool][debug] https://i.redd.it:443 \"GET /9h8pljz06hf91.jpg HTTP/1.1\" 200 246885\n",
      "[432/997] https://www.redgifs.com/watch/fittingornateowl\n",
      "[gallery-dl][debug] Starting DownloadJob for 'https://www.redgifs.com/watch/fittingornateowl'\n",
      "[redgifs][debug] Using RedgifsImageExtractor for 'https://www.redgifs.com/watch/fittingornateowl'\n",
      "[urllib3.connectionpool][debug] https://api.redgifs.com:443 \"GET /v2/gifs/fittingornateowl HTTP/1.1\" 200 None\n",
      "[urllib3.connectionpool][debug] https://thumbs2.redgifs.com:443 \"GET /FittingOrnateOwl.mp4 HTTP/1.1\" 200 4950983\n"
     ]
    },
    {
     "name": "stdout",
     "output_type": "stream",
     "text": [
      "nvme_drive/scraped_files/20220821-003129-reddit/redgifs/redgifs_fittingornateowl.mp4\n"
     ]
    },
    {
     "name": "stderr",
     "output_type": "stream",
     "text": [
      "[433/997] https://i.imgur.com/IDu2uLb.gifv\n",
      "[gallery-dl][debug] Starting DownloadJob for 'https://i.imgur.com/IDu2uLb.gifv'\n",
      "[imgur][debug] Using ImgurImageExtractor for 'https://i.imgur.com/IDu2uLb.gifv'\n",
      "[urllib3.connectionpool][debug] https://api.imgur.com:443 \"GET /post/v1/media/IDu2uLb?include=media%2Ctags%2Caccount HTTP/1.1\" 200 456\n",
      "[urllib3.connectionpool][debug] https://i.imgur.com:443 \"GET /IDu2uLb.mp4 HTTP/1.1\" 200 1804074\n"
     ]
    },
    {
     "name": "stdout",
     "output_type": "stream",
     "text": [
      "nvme_drive/scraped_files/20220821-003129-reddit/imgur/imgur_IDu2uLb_So Soft.mp4\n",
      "nvme_drive/scraped_files/20220821-003129-reddit/imgur/imgur_tM2wpcV_Respect the classics.jpg\n"
     ]
    },
    {
     "name": "stderr",
     "output_type": "stream",
     "text": [
      "[434/997] https://i.imgur.com/tM2wpcV.jpg\n",
      "[gallery-dl][debug] Starting DownloadJob for 'https://i.imgur.com/tM2wpcV.jpg'\n",
      "[imgur][debug] Using ImgurImageExtractor for 'https://i.imgur.com/tM2wpcV.jpg'\n",
      "[urllib3.connectionpool][debug] https://api.imgur.com:443 \"GET /post/v1/media/tM2wpcV?include=media%2Ctags%2Caccount HTTP/1.1\" 200 463\n",
      "[urllib3.connectionpool][debug] https://i.imgur.com:443 \"GET /tM2wpcV.jpg HTTP/1.1\" 200 97001\n",
      "[435/997] https://i.imgur.com/pRDzqYc.jpg\n",
      "[gallery-dl][debug] Starting DownloadJob for 'https://i.imgur.com/pRDzqYc.jpg'\n",
      "[imgur][debug] Using ImgurImageExtractor for 'https://i.imgur.com/pRDzqYc.jpg'\n",
      "[urllib3.connectionpool][debug] https://api.imgur.com:443 \"GET /post/v1/media/pRDzqYc?include=media%2Ctags%2Caccount HTTP/1.1\" 200 449\n",
      "[urllib3.connectionpool][debug] https://i.imgur.com:443 \"GET /pRDzqYc.jpg HTTP/1.1\" 200 261585\n",
      "[436/997] https://www.redgifs.com/watch/violetmediocrespringbok\n",
      "[gallery-dl][debug] Starting DownloadJob for 'https://www.redgifs.com/watch/violetmediocrespringbok'\n",
      "[redgifs][debug] Using RedgifsImageExtractor for 'https://www.redgifs.com/watch/violetmediocrespringbok'\n",
      "[urllib3.connectionpool][debug] https://api.redgifs.com:443 \"GET /v2/gifs/violetmediocrespringbok HTTP/1.1\" 200 None\n",
      "[urllib3.connectionpool][debug] https://thumbs2.redgifs.com:443 \"GET /VioletMediocreSpringbok.mp4 HTTP/1.1\" 200 38984410\n"
     ]
    },
    {
     "name": "stdout",
     "output_type": "stream",
     "text": [
      "nvme_drive/scraped_files/20220821-003129-reddit/imgur/imgur_pRDzqYc_In control.jpg\n",
      "nvme_drive/scraped_files/20220821-003129-reddit/redgifs/redgifs_violetmediocrespringbok.mp4\n"
     ]
    },
    {
     "name": "stderr",
     "output_type": "stream",
     "text": [
      "[437/997] https://redgifs.com/watch/infamousboldneonblueguppy\n",
      "[gallery-dl][debug] Starting DownloadJob for 'https://redgifs.com/watch/infamousboldneonblueguppy'\n",
      "[redgifs][debug] Using RedgifsImageExtractor for 'https://redgifs.com/watch/infamousboldneonblueguppy'\n",
      "[urllib3.connectionpool][debug] https://api.redgifs.com:443 \"GET /v2/gifs/infamousboldneonblueguppy HTTP/1.1\" 200 None\n",
      "[urllib3.connectionpool][debug] https://thumbs2.redgifs.com:443 \"GET /InfamousBoldNeonblueguppy.mp4 HTTP/1.1\" 200 25687840\n"
     ]
    },
    {
     "name": "stdout",
     "output_type": "stream",
     "text": [
      "nvme_drive/scraped_files/20220821-003129-reddit/redgifs/redgifs_infamousboldneonblueguppy.mp4\n"
     ]
    },
    {
     "name": "stderr",
     "output_type": "stream",
     "text": [
      "[438/997] https://redgifs.com/watch/hurtfulallmaiasaura\n",
      "[gallery-dl][debug] Starting DownloadJob for 'https://redgifs.com/watch/hurtfulallmaiasaura'\n",
      "[redgifs][debug] Using RedgifsImageExtractor for 'https://redgifs.com/watch/hurtfulallmaiasaura'\n",
      "[urllib3.connectionpool][debug] https://api.redgifs.com:443 \"GET /v2/gifs/hurtfulallmaiasaura HTTP/1.1\" 200 None\n",
      "[urllib3.connectionpool][debug] https://thumbs2.redgifs.com:443 \"GET /HurtfulAllMaiasaura.mp4 HTTP/1.1\" 200 32514183\n"
     ]
    },
    {
     "name": "stdout",
     "output_type": "stream",
     "text": [
      "nvme_drive/scraped_files/20220821-003129-reddit/redgifs/redgifs_hurtfulallmaiasaura.mp4\n"
     ]
    },
    {
     "name": "stderr",
     "output_type": "stream",
     "text": [
      "[439/997] https://i.imgur.com/4QzRF9s.jpeg\n",
      "[gallery-dl][debug] Starting DownloadJob for 'https://i.imgur.com/4QzRF9s.jpeg'\n",
      "[imgur][debug] Using ImgurImageExtractor for 'https://i.imgur.com/4QzRF9s.jpeg'\n",
      "[urllib3.connectionpool][debug] https://api.imgur.com:443 \"GET /post/v1/media/4QzRF9s?include=media%2Ctags%2Caccount HTTP/1.1\" 200 449\n",
      "[urllib3.connectionpool][debug] https://i.imgur.com:443 \"GET /4QzRF9s.jpg HTTP/1.1\" 200 177205\n",
      "[440/997] https://i.redd.it/ugb30mt5f4h91.jpg\n",
      "[gallery-dl][debug] Starting DownloadJob for 'https://i.redd.it/ugb30mt5f4h91.jpg'\n",
      "[reddit][debug] Using RedditImageExtractor for 'https://i.redd.it/ugb30mt5f4h91.jpg'\n",
      "[urllib3.connectionpool][debug] https://i.redd.it:443 \"GET /ugb30mt5f4h91.jpg HTTP/1.1\" 200 1111391\n",
      "[441/997] https://i.imgur.com/GepdXsw.jpg\n",
      "[gallery-dl][debug] Starting DownloadJob for 'https://i.imgur.com/GepdXsw.jpg'\n",
      "[imgur][debug] Using ImgurImageExtractor for 'https://i.imgur.com/GepdXsw.jpg'\n"
     ]
    },
    {
     "name": "stdout",
     "output_type": "stream",
     "text": [
      "nvme_drive/scraped_files/20220821-003129-reddit/imgur/imgur_4QzRF9s_Scintillating.jpg\n",
      "nvme_drive/scraped_files/20220821-003129-reddit/reddit/ugb30mt5f4h91.jpg\n"
     ]
    },
    {
     "name": "stderr",
     "output_type": "stream",
     "text": [
      "[urllib3.connectionpool][debug] https://api.imgur.com:443 \"GET /post/v1/media/GepdXsw?include=media%2Ctags%2Caccount HTTP/1.1\" 200 462\n",
      "[urllib3.connectionpool][debug] https://i.imgur.com:443 \"GET /GepdXsw.jpg HTTP/1.1\" 200 1275802\n",
      "[442/997] https://i.redd.it/i9rd51zat7i91.jpg\n",
      "[gallery-dl][debug] Starting DownloadJob for 'https://i.redd.it/i9rd51zat7i91.jpg'\n",
      "[reddit][debug] Using RedditImageExtractor for 'https://i.redd.it/i9rd51zat7i91.jpg'\n"
     ]
    },
    {
     "name": "stdout",
     "output_type": "stream",
     "text": [
      "nvme_drive/scraped_files/20220821-003129-reddit/imgur/imgur_GepdXsw_Busty cutie.jpg\n",
      "nvme_drive/scraped_files/20220821-003129-reddit/reddit/i9rd51zat7i91.jpg\n"
     ]
    },
    {
     "name": "stderr",
     "output_type": "stream",
     "text": [
      "[urllib3.connectionpool][debug] https://i.redd.it:443 \"GET /i9rd51zat7i91.jpg HTTP/1.1\" 200 23823\n",
      "[443/997] https://i.imgur.com/LbSr1zI.jpg\n",
      "[gallery-dl][debug] Starting DownloadJob for 'https://i.imgur.com/LbSr1zI.jpg'\n",
      "[imgur][debug] Using ImgurImageExtractor for 'https://i.imgur.com/LbSr1zI.jpg'\n",
      "[urllib3.connectionpool][debug] https://api.imgur.com:443 \"GET /post/v1/media/LbSr1zI?include=media%2Ctags%2Caccount HTTP/1.1\" 200 484\n",
      "[urllib3.connectionpool][debug] https://i.imgur.com:443 \"GET /LbSr1zI.jpg HTTP/1.1\" 200 1984826\n"
     ]
    },
    {
     "name": "stdout",
     "output_type": "stream",
     "text": [
      "nvme_drive/scraped_files/20220821-003129-reddit/imgur/imgur_LbSr1zI_cowgirl.jpg\n"
     ]
    },
    {
     "name": "stderr",
     "output_type": "stream",
     "text": [
      "[444/997] https://www.redgifs.com/watch/quaintlimpingbluet\n",
      "[gallery-dl][debug] Starting DownloadJob for 'https://www.redgifs.com/watch/quaintlimpingbluet'\n",
      "[redgifs][debug] Using RedgifsImageExtractor for 'https://www.redgifs.com/watch/quaintlimpingbluet'\n",
      "[urllib3.connectionpool][debug] https://api.redgifs.com:443 \"GET /v2/gifs/quaintlimpingbluet HTTP/1.1\" 200 None\n",
      "[urllib3.connectionpool][debug] https://thumbs2.redgifs.com:443 \"GET /QuaintLimpingBluet.mp4 HTTP/1.1\" 200 10448812\n"
     ]
    },
    {
     "name": "stdout",
     "output_type": "stream",
     "text": [
      "nvme_drive/scraped_files/20220821-003129-reddit/redgifs/redgifs_quaintlimpingbluet.mp4\n"
     ]
    },
    {
     "name": "stderr",
     "output_type": "stream",
     "text": [
      "[445/997] https://redgifs.com/watch/forkedalienatedcarpenterant\n",
      "[gallery-dl][debug] Starting DownloadJob for 'https://redgifs.com/watch/forkedalienatedcarpenterant'\n",
      "[redgifs][debug] Using RedgifsImageExtractor for 'https://redgifs.com/watch/forkedalienatedcarpenterant'\n",
      "[urllib3.connectionpool][debug] https://api.redgifs.com:443 \"GET /v2/gifs/forkedalienatedcarpenterant HTTP/1.1\" 200 None\n",
      "[urllib3.connectionpool][debug] https://thumbs2.redgifs.com:443 \"GET /ForkedAlienatedCarpenterant.mp4 HTTP/1.1\" 200 18358593\n"
     ]
    },
    {
     "name": "stdout",
     "output_type": "stream",
     "text": [
      "nvme_drive/scraped_files/20220821-003129-reddit/redgifs/redgifs_forkedalienatedcarpenterant.mp4\n",
      "nvme_drive/scraped_files/20220821-003129-reddit/reddit/g52y2650khg91.jpg\n"
     ]
    },
    {
     "name": "stderr",
     "output_type": "stream",
     "text": [
      "[446/997] https://i.redd.it/g52y2650khg91.jpg\n",
      "[gallery-dl][debug] Starting DownloadJob for 'https://i.redd.it/g52y2650khg91.jpg'\n",
      "[reddit][debug] Using RedditImageExtractor for 'https://i.redd.it/g52y2650khg91.jpg'\n",
      "[urllib3.connectionpool][debug] https://i.redd.it:443 \"GET /g52y2650khg91.jpg HTTP/1.1\" 200 181312\n",
      "[447/997] https://redgifs.com/watch/ultimateheartfeltflycatcher\n",
      "[gallery-dl][debug] Starting DownloadJob for 'https://redgifs.com/watch/ultimateheartfeltflycatcher'\n",
      "[redgifs][debug] Using RedgifsImageExtractor for 'https://redgifs.com/watch/ultimateheartfeltflycatcher'\n",
      "[urllib3.connectionpool][debug] https://api.redgifs.com:443 \"GET /v2/gifs/ultimateheartfeltflycatcher HTTP/1.1\" 200 None\n",
      "[urllib3.connectionpool][debug] https://thumbs2.redgifs.com:443 \"GET /UltimateHeartfeltFlycatcher.mp4 HTTP/1.1\" 200 21989803\n"
     ]
    },
    {
     "name": "stdout",
     "output_type": "stream",
     "text": [
      "nvme_drive/scraped_files/20220821-003129-reddit/redgifs/redgifs_ultimateheartfeltflycatcher.mp4\n"
     ]
    },
    {
     "name": "stderr",
     "output_type": "stream",
     "text": [
      "[448/997] https://i.redd.it/d75jcrxzrod91.jpg\n",
      "[gallery-dl][debug] Starting DownloadJob for 'https://i.redd.it/d75jcrxzrod91.jpg'\n",
      "[reddit][debug] Using RedditImageExtractor for 'https://i.redd.it/d75jcrxzrod91.jpg'\n",
      "[urllib3.connectionpool][debug] https://i.redd.it:443 \"GET /d75jcrxzrod91.jpg HTTP/1.1\" 200 2193091\n"
     ]
    },
    {
     "name": "stdout",
     "output_type": "stream",
     "text": [
      "nvme_drive/scraped_files/20220821-003129-reddit/reddit/d75jcrxzrod91.jpg\n"
     ]
    },
    {
     "name": "stderr",
     "output_type": "stream",
     "text": [
      "[449/997] https://i.imgur.com/glzeXZw.jpg\n",
      "[gallery-dl][debug] Starting DownloadJob for 'https://i.imgur.com/glzeXZw.jpg'\n",
      "[imgur][debug] Using ImgurImageExtractor for 'https://i.imgur.com/glzeXZw.jpg'\n",
      "[urllib3.connectionpool][debug] https://api.imgur.com:443 \"GET /post/v1/media/glzeXZw?include=media%2Ctags%2Caccount HTTP/1.1\" 200 492\n",
      "[urllib3.connectionpool][debug] https://i.imgur.com:443 \"GET /glzeXZw.jpg HTTP/1.1\" 200 706008\n"
     ]
    },
    {
     "name": "stdout",
     "output_type": "stream",
     "text": [
      "nvme_drive/scraped_files/20220821-003129-reddit/imgur/imgur_glzeXZw_Clover On A Couch.jpg\n"
     ]
    },
    {
     "name": "stderr",
     "output_type": "stream",
     "text": [
      "[450/997] https://redgifs.com/watch/ornatedistantiguanodon\n",
      "[gallery-dl][debug] Starting DownloadJob for 'https://redgifs.com/watch/ornatedistantiguanodon'\n",
      "[redgifs][debug] Using RedgifsImageExtractor for 'https://redgifs.com/watch/ornatedistantiguanodon'\n",
      "[urllib3.connectionpool][debug] https://api.redgifs.com:443 \"GET /v2/gifs/ornatedistantiguanodon HTTP/1.1\" 200 None\n",
      "[urllib3.connectionpool][debug] https://thumbs2.redgifs.com:443 \"GET /OrnateDistantIguanodon.mp4 HTTP/1.1\" 200 40472194\n"
     ]
    },
    {
     "name": "stdout",
     "output_type": "stream",
     "text": [
      "nvme_drive/scraped_files/20220821-003129-reddit/redgifs/redgifs_ornatedistantiguanodon.mp4\n",
      "nvme_drive/scraped_files/20220821-003129-reddit/imgur/imgur_pY7kDz4_10_10.jpg\n",
      "nvme_drive/scraped_files/20220821-003129-reddit/reddit/f1nv88rmp5d91.jpg\n"
     ]
    },
    {
     "name": "stderr",
     "output_type": "stream",
     "text": [
      "[451/997] https://i.imgur.com/pY7kDz4.jpg\n",
      "[gallery-dl][debug] Starting DownloadJob for 'https://i.imgur.com/pY7kDz4.jpg'\n",
      "[imgur][debug] Using ImgurImageExtractor for 'https://i.imgur.com/pY7kDz4.jpg'\n",
      "[urllib3.connectionpool][debug] https://api.imgur.com:443 \"GET /post/v1/media/pY7kDz4?include=media%2Ctags%2Caccount HTTP/1.1\" 200 486\n",
      "[urllib3.connectionpool][debug] https://i.imgur.com:443 \"GET /pY7kDz4.jpg HTTP/1.1\" 200 272216\n",
      "[452/997] https://i.redd.it/f1nv88rmp5d91.jpg\n",
      "[gallery-dl][debug] Starting DownloadJob for 'https://i.redd.it/f1nv88rmp5d91.jpg'\n",
      "[reddit][debug] Using RedditImageExtractor for 'https://i.redd.it/f1nv88rmp5d91.jpg'\n",
      "[urllib3.connectionpool][debug] https://i.redd.it:443 \"GET /f1nv88rmp5d91.jpg HTTP/1.1\" 200 84867\n",
      "[453/997] https://i.imgur.com/iXj9lsv.jpeg\n",
      "[gallery-dl][debug] Starting DownloadJob for 'https://i.imgur.com/iXj9lsv.jpeg'\n",
      "[imgur][debug] Using ImgurImageExtractor for 'https://i.imgur.com/iXj9lsv.jpeg'\n",
      "[urllib3.connectionpool][debug] https://api.imgur.com:443 \"GET /post/v1/media/iXj9lsv?include=media%2Ctags%2Caccount HTTP/1.1\" 200 467\n",
      "[urllib3.connectionpool][debug] https://i.imgur.com:443 \"GET /iXj9lsv.jpg HTTP/1.1\" 200 241840\n",
      "[454/997] https://i.redd.it/ikzrnhrwknd91.jpg\n",
      "[gallery-dl][debug] Starting DownloadJob for 'https://i.redd.it/ikzrnhrwknd91.jpg'\n",
      "[reddit][debug] Using RedditImageExtractor for 'https://i.redd.it/ikzrnhrwknd91.jpg'\n",
      "[urllib3.connectionpool][debug] https://i.redd.it:443 \"GET /ikzrnhrwknd91.jpg HTTP/1.1\" 200 2391332\n"
     ]
    },
    {
     "name": "stdout",
     "output_type": "stream",
     "text": [
      "nvme_drive/scraped_files/20220821-003129-reddit/imgur/imgur_iXj9lsv_Ashlynn Brooke (AI Upscaled).jpg\n",
      "nvme_drive/scraped_files/20220821-003129-reddit/reddit/ikzrnhrwknd91.jpg\n"
     ]
    },
    {
     "name": "stderr",
     "output_type": "stream",
     "text": [
      "[455/997] https://redgifs.com/watch/growingincomparablecub\n",
      "[gallery-dl][debug] Starting DownloadJob for 'https://redgifs.com/watch/growingincomparablecub'\n",
      "[redgifs][debug] Using RedgifsImageExtractor for 'https://redgifs.com/watch/growingincomparablecub'\n",
      "[urllib3.connectionpool][debug] https://api.redgifs.com:443 \"GET /v2/gifs/growingincomparablecub HTTP/1.1\" 200 None\n",
      "[urllib3.connectionpool][debug] https://thumbs2.redgifs.com:443 \"GET /GrowingIncomparableCub.mp4 HTTP/1.1\" 200 10813781\n"
     ]
    },
    {
     "name": "stdout",
     "output_type": "stream",
     "text": [
      "nvme_drive/scraped_files/20220821-003129-reddit/redgifs/redgifs_growingincomparablecub.mp4\n"
     ]
    },
    {
     "name": "stderr",
     "output_type": "stream",
     "text": [
      "[456/997] https://www.redgifs.com/watch/milddampgalapagosdove\n",
      "[gallery-dl][debug] Starting DownloadJob for 'https://www.redgifs.com/watch/milddampgalapagosdove'\n",
      "[redgifs][debug] Using RedgifsImageExtractor for 'https://www.redgifs.com/watch/milddampgalapagosdove'\n",
      "[urllib3.connectionpool][debug] https://api.redgifs.com:443 \"GET /v2/gifs/milddampgalapagosdove HTTP/1.1\" 200 None\n",
      "[urllib3.connectionpool][debug] https://thumbs2.redgifs.com:443 \"GET /MildDampGalapagosdove.mp4 HTTP/1.1\" 200 39685243\n"
     ]
    },
    {
     "name": "stdout",
     "output_type": "stream",
     "text": [
      "nvme_drive/scraped_files/20220821-003129-reddit/redgifs/redgifs_milddampgalapagosdove.mp4\n",
      "nvme_drive/scraped_files/20220821-003129-reddit/reddit/6y3aob9ukug91.jpg\n"
     ]
    },
    {
     "name": "stderr",
     "output_type": "stream",
     "text": [
      "[457/997] https://i.redd.it/6y3aob9ukug91.jpg\n",
      "[gallery-dl][debug] Starting DownloadJob for 'https://i.redd.it/6y3aob9ukug91.jpg'\n",
      "[reddit][debug] Using RedditImageExtractor for 'https://i.redd.it/6y3aob9ukug91.jpg'\n",
      "[urllib3.connectionpool][debug] https://i.redd.it:443 \"GET /6y3aob9ukug91.jpg HTTP/1.1\" 200 143386\n",
      "[458/997] https://i.imgur.com/2sGCa4L.jpeg\n",
      "[gallery-dl][debug] Starting DownloadJob for 'https://i.imgur.com/2sGCa4L.jpeg'\n",
      "[imgur][debug] Using ImgurImageExtractor for 'https://i.imgur.com/2sGCa4L.jpeg'\n",
      "[urllib3.connectionpool][debug] https://api.imgur.com:443 \"GET /post/v1/media/2sGCa4L?include=media%2Ctags%2Caccount HTTP/1.1\" 200 445\n",
      "[urllib3.connectionpool][debug] https://i.imgur.com:443 \"GET /2sGCa4L.jpg HTTP/1.1\" 200 56737\n",
      "[459/997] https://i.redd.it/cwjxgbruiaf91.jpg\n",
      "[gallery-dl][debug] Starting DownloadJob for 'https://i.redd.it/cwjxgbruiaf91.jpg'\n",
      "[reddit][debug] Using RedditImageExtractor for 'https://i.redd.it/cwjxgbruiaf91.jpg'\n",
      "[urllib3.connectionpool][debug] https://i.redd.it:443 \"GET /cwjxgbruiaf91.jpg HTTP/1.1\" 200 1133654\n",
      "[460/997] https://i.redd.it/sja6qpu4ihh91.jpg\n",
      "[gallery-dl][debug] Starting DownloadJob for 'https://i.redd.it/sja6qpu4ihh91.jpg'\n",
      "[reddit][debug] Using RedditImageExtractor for 'https://i.redd.it/sja6qpu4ihh91.jpg'\n"
     ]
    },
    {
     "name": "stdout",
     "output_type": "stream",
     "text": [
      "nvme_drive/scraped_files/20220821-003129-reddit/imgur/imgur_2sGCa4L_Titled tiles.jpg\n",
      "nvme_drive/scraped_files/20220821-003129-reddit/reddit/cwjxgbruiaf91.jpg\n"
     ]
    },
    {
     "name": "stderr",
     "output_type": "stream",
     "text": [
      "[urllib3.connectionpool][debug] https://i.redd.it:443 \"GET /sja6qpu4ihh91.jpg HTTP/1.1\" 200 285393\n",
      "[461/997] https://i.redd.it/q4tcrf11xbh91.jpg\n",
      "[gallery-dl][debug] Starting DownloadJob for 'https://i.redd.it/q4tcrf11xbh91.jpg'\n",
      "[reddit][debug] Using RedditImageExtractor for 'https://i.redd.it/q4tcrf11xbh91.jpg'\n",
      "[urllib3.connectionpool][debug] https://i.redd.it:443 \"GET /q4tcrf11xbh91.jpg HTTP/1.1\" 200 1992824\n"
     ]
    },
    {
     "name": "stdout",
     "output_type": "stream",
     "text": [
      "nvme_drive/scraped_files/20220821-003129-reddit/reddit/sja6qpu4ihh91.jpg\n",
      "nvme_drive/scraped_files/20220821-003129-reddit/reddit/q4tcrf11xbh91.jpg\n",
      "nvme_drive/scraped_files/20220821-003129-reddit/reddit/kcap0cawryb91.jpg\n",
      "nvme_drive/scraped_files/20220821-003129-reddit/reddit/xtmqh0ztecg91.jpg\n"
     ]
    },
    {
     "name": "stderr",
     "output_type": "stream",
     "text": [
      "[462/997] https://i.redd.it/kcap0cawryb91.jpg\n",
      "[gallery-dl][debug] Starting DownloadJob for 'https://i.redd.it/kcap0cawryb91.jpg'\n",
      "[reddit][debug] Using RedditImageExtractor for 'https://i.redd.it/kcap0cawryb91.jpg'\n",
      "[urllib3.connectionpool][debug] https://i.redd.it:443 \"GET /kcap0cawryb91.jpg HTTP/1.1\" 200 1096860\n",
      "[463/997] https://i.redd.it/xtmqh0ztecg91.jpg\n",
      "[gallery-dl][debug] Starting DownloadJob for 'https://i.redd.it/xtmqh0ztecg91.jpg'\n",
      "[reddit][debug] Using RedditImageExtractor for 'https://i.redd.it/xtmqh0ztecg91.jpg'\n",
      "[urllib3.connectionpool][debug] https://i.redd.it:443 \"GET /xtmqh0ztecg91.jpg HTTP/1.1\" 200 63000\n",
      "[464/997] https://redgifs.com/watch/vividpresenthornet\n",
      "[gallery-dl][debug] Starting DownloadJob for 'https://redgifs.com/watch/vividpresenthornet'\n",
      "[redgifs][debug] Using RedgifsImageExtractor for 'https://redgifs.com/watch/vividpresenthornet'\n",
      "[urllib3.connectionpool][debug] https://api.redgifs.com:443 \"GET /v2/gifs/vividpresenthornet HTTP/1.1\" 200 None\n",
      "[urllib3.connectionpool][debug] https://thumbs2.redgifs.com:443 \"GET /VividPresentHornet.mp4 HTTP/1.1\" 200 6574808\n"
     ]
    },
    {
     "name": "stdout",
     "output_type": "stream",
     "text": [
      "nvme_drive/scraped_files/20220821-003129-reddit/redgifs/redgifs_vividpresenthornet.mp4\n"
     ]
    },
    {
     "name": "stderr",
     "output_type": "stream",
     "text": [
      "[465/997] http://i.imgur.com/7wn0E5N.gifv\n",
      "[gallery-dl][debug] Starting DownloadJob for 'http://i.imgur.com/7wn0E5N.gifv'\n",
      "[imgur][debug] Using ImgurImageExtractor for 'http://i.imgur.com/7wn0E5N.gifv'\n",
      "[urllib3.connectionpool][debug] https://api.imgur.com:443 \"GET /post/v1/media/7wn0E5N?include=media%2Ctags%2Caccount HTTP/1.1\" 200 462\n",
      "[urllib3.connectionpool][debug] https://i.imgur.com:443 \"GET /7wn0E5N.mp4 HTTP/1.1\" 200 8338444\n"
     ]
    },
    {
     "name": "stdout",
     "output_type": "stream",
     "text": [
      "nvme_drive/scraped_files/20220821-003129-reddit/imgur/imgur_7wn0E5N_Indian boobies.mp4\n"
     ]
    },
    {
     "name": "stderr",
     "output_type": "stream",
     "text": [
      "[466/997] https://i.imgur.com/Y8vG6db.jpg\n",
      "[gallery-dl][debug] Starting DownloadJob for 'https://i.imgur.com/Y8vG6db.jpg'\n",
      "[imgur][debug] Using ImgurImageExtractor for 'https://i.imgur.com/Y8vG6db.jpg'\n",
      "[urllib3.connectionpool][debug] https://api.imgur.com:443 \"GET /post/v1/media/Y8vG6db?include=media%2Ctags%2Caccount HTTP/1.1\" 200 463\n",
      "[urllib3.connectionpool][debug] https://i.imgur.com:443 \"GET /Y8vG6db.jpg HTTP/1.1\" 200 2166042\n"
     ]
    },
    {
     "name": "stdout",
     "output_type": "stream",
     "text": [
      "nvme_drive/scraped_files/20220821-003129-reddit/imgur/imgur_Y8vG6db_Kristy Garret.jpg\n",
      "nvme_drive/scraped_files/20220821-003129-reddit/imgur/imgur_Qq8SRuS_Kinda cute.jpg\n"
     ]
    },
    {
     "name": "stderr",
     "output_type": "stream",
     "text": [
      "[467/997] https://i.imgur.com/Qq8SRuS.jpg\n",
      "[gallery-dl][debug] Starting DownloadJob for 'https://i.imgur.com/Qq8SRuS.jpg'\n",
      "[imgur][debug] Using ImgurImageExtractor for 'https://i.imgur.com/Qq8SRuS.jpg'\n",
      "[urllib3.connectionpool][debug] https://api.imgur.com:443 \"GET /post/v1/media/Qq8SRuS?include=media%2Ctags%2Caccount HTTP/1.1\" 200 465\n",
      "[urllib3.connectionpool][debug] https://i.imgur.com:443 \"GET /Qq8SRuS.jpg HTTP/1.1\" 200 318961\n",
      "[468/997] https://i.imgur.com/9wMFXza.jpg\n",
      "[gallery-dl][debug] Starting DownloadJob for 'https://i.imgur.com/9wMFXza.jpg'\n",
      "[imgur][debug] Using ImgurImageExtractor for 'https://i.imgur.com/9wMFXza.jpg'\n",
      "[urllib3.connectionpool][debug] https://api.imgur.com:443 \"GET /post/v1/media/9wMFXza?include=media%2Ctags%2Caccount HTTP/1.1\" 200 467\n",
      "[urllib3.connectionpool][debug] https://i.imgur.com:443 \"GET /9wMFXza.jpg HTTP/1.1\" 200 253796\n",
      "[469/997] https://i.redd.it/o4tm5yryiff91.jpg\n",
      "[gallery-dl][debug] Starting DownloadJob for 'https://i.redd.it/o4tm5yryiff91.jpg'\n",
      "[reddit][debug] Using RedditImageExtractor for 'https://i.redd.it/o4tm5yryiff91.jpg'\n",
      "[urllib3.connectionpool][debug] https://i.redd.it:443 \"GET /o4tm5yryiff91.jpg HTTP/1.1\" 200 108572\n",
      "[470/997] https://i.redd.it/m76jehg3b3e91.jpg\n",
      "[gallery-dl][debug] Starting DownloadJob for 'https://i.redd.it/m76jehg3b3e91.jpg'\n",
      "[reddit][debug] Using RedditImageExtractor for 'https://i.redd.it/m76jehg3b3e91.jpg'\n",
      "[urllib3.connectionpool][debug] https://i.redd.it:443 \"GET /m76jehg3b3e91.jpg HTTP/1.1\" 200 158709\n",
      "[471/997] https://i.imgur.com/3Y5PGzR.jpg\n",
      "[gallery-dl][debug] Starting DownloadJob for 'https://i.imgur.com/3Y5PGzR.jpg'\n",
      "[imgur][debug] Using ImgurImageExtractor for 'https://i.imgur.com/3Y5PGzR.jpg'\n"
     ]
    },
    {
     "name": "stdout",
     "output_type": "stream",
     "text": [
      "nvme_drive/scraped_files/20220821-003129-reddit/imgur/imgur_9wMFXza_First sip of coffee in the morning.jpg\n",
      "nvme_drive/scraped_files/20220821-003129-reddit/reddit/o4tm5yryiff91.jpg\n",
      "nvme_drive/scraped_files/20220821-003129-reddit/reddit/m76jehg3b3e91.jpg\n"
     ]
    },
    {
     "name": "stderr",
     "output_type": "stream",
     "text": [
      "[urllib3.connectionpool][debug] https://api.imgur.com:443 \"GET /post/v1/media/3Y5PGzR?include=media%2Ctags%2Caccount HTTP/1.1\" 200 492\n",
      "[urllib3.connectionpool][debug] https://i.imgur.com:443 \"GET /3Y5PGzR.jpg HTTP/1.1\" 200 173019\n",
      "[472/997] https://www.redgifs.com/watch/sandyunknownroach\n",
      "[gallery-dl][debug] Starting DownloadJob for 'https://www.redgifs.com/watch/sandyunknownroach'\n",
      "[redgifs][debug] Using RedgifsImageExtractor for 'https://www.redgifs.com/watch/sandyunknownroach'\n",
      "[urllib3.connectionpool][debug] https://api.redgifs.com:443 \"GET /v2/gifs/sandyunknownroach HTTP/1.1\" 200 None\n"
     ]
    },
    {
     "name": "stdout",
     "output_type": "stream",
     "text": [
      "nvme_drive/scraped_files/20220821-003129-reddit/imgur/imgur_3Y5PGzR_I see this and I can imagine entering this honey.jpg\n"
     ]
    },
    {
     "name": "stderr",
     "output_type": "stream",
     "text": [
      "[urllib3.connectionpool][debug] https://thumbs2.redgifs.com:443 \"GET /SandyUnknownRoach.mp4 HTTP/1.1\" 200 5813381\n"
     ]
    },
    {
     "name": "stdout",
     "output_type": "stream",
     "text": [
      "nvme_drive/scraped_files/20220821-003129-reddit/redgifs/redgifs_sandyunknownroach.mp4\n"
     ]
    },
    {
     "name": "stderr",
     "output_type": "stream",
     "text": [
      "[473/997] https://i.imgur.com/SIx4hOE.jpg\n",
      "[gallery-dl][debug] Starting DownloadJob for 'https://i.imgur.com/SIx4hOE.jpg'\n",
      "[imgur][debug] Using ImgurImageExtractor for 'https://i.imgur.com/SIx4hOE.jpg'\n",
      "[urllib3.connectionpool][debug] https://api.imgur.com:443 \"GET /post/v1/media/SIx4hOE?include=media%2Ctags%2Caccount HTTP/1.1\" 200 449\n",
      "[urllib3.connectionpool][debug] https://i.imgur.com:443 \"GET /SIx4hOE.jpg HTTP/1.1\" 200 460073\n"
     ]
    },
    {
     "name": "stdout",
     "output_type": "stream",
     "text": [
      "nvme_drive/scraped_files/20220821-003129-reddit/imgur/imgur_SIx4hOE_Pose lineup.jpg\n"
     ]
    },
    {
     "name": "stderr",
     "output_type": "stream",
     "text": [
      "[474/997] https://www.redgifs.com/watch/dimwittedcrushingdrongo?rel=u%3Aburgerprince%3Bo%3Arecent\n",
      "[gallery-dl][debug] Starting DownloadJob for 'https://www.redgifs.com/watch/dimwittedcrushingdrongo?rel=u%3Aburgerprince%3Bo%3Arecent'\n",
      "[redgifs][debug] Using RedgifsImageExtractor for 'https://www.redgifs.com/watch/dimwittedcrushingdrongo?rel=u%3Aburgerprince%3Bo%3Arecent'\n",
      "[urllib3.connectionpool][debug] https://api.redgifs.com:443 \"GET /v2/gifs/dimwittedcrushingdrongo HTTP/1.1\" 200 None\n",
      "[urllib3.connectionpool][debug] https://thumbs2.redgifs.com:443 \"GET /DimwittedCrushingDrongo.mp4 HTTP/1.1\" 200 47094174\n"
     ]
    },
    {
     "name": "stdout",
     "output_type": "stream",
     "text": [
      "nvme_drive/scraped_files/20220821-003129-reddit/redgifs/redgifs_dimwittedcrushingdrongo.mp4\n",
      "nvme_drive/scraped_files/20220821-003129-reddit/reddit/eo0efyeo2ee91.jpg\n"
     ]
    },
    {
     "name": "stderr",
     "output_type": "stream",
     "text": [
      "[475/997] https://i.redd.it/eo0efyeo2ee91.jpg\n",
      "[gallery-dl][debug] Starting DownloadJob for 'https://i.redd.it/eo0efyeo2ee91.jpg'\n",
      "[reddit][debug] Using RedditImageExtractor for 'https://i.redd.it/eo0efyeo2ee91.jpg'\n",
      "[urllib3.connectionpool][debug] https://i.redd.it:443 \"GET /eo0efyeo2ee91.jpg HTTP/1.1\" 200 114067\n",
      "[476/997] https://i.imgur.com/7UK6poB.jpeg\n",
      "[gallery-dl][debug] Starting DownloadJob for 'https://i.imgur.com/7UK6poB.jpeg'\n",
      "[imgur][debug] Using ImgurImageExtractor for 'https://i.imgur.com/7UK6poB.jpeg'\n",
      "[urllib3.connectionpool][debug] https://api.imgur.com:443 \"GET /post/v1/media/7UK6poB?include=media%2Ctags%2Caccount HTTP/1.1\" 200 444\n",
      "[urllib3.connectionpool][debug] https://i.imgur.com:443 \"GET /7UK6poB.jpg HTTP/1.1\" 200 67472\n",
      "[477/997] https://redgifs.com/watch/unconsciousmediumvioletredmeerkat\n",
      "[gallery-dl][debug] Starting DownloadJob for 'https://redgifs.com/watch/unconsciousmediumvioletredmeerkat'\n",
      "[redgifs][debug] Using RedgifsImageExtractor for 'https://redgifs.com/watch/unconsciousmediumvioletredmeerkat'\n",
      "[urllib3.connectionpool][debug] https://api.redgifs.com:443 \"GET /v2/gifs/unconsciousmediumvioletredmeerkat HTTP/1.1\" 200 None\n",
      "[urllib3.connectionpool][debug] https://thumbs2.redgifs.com:443 \"GET /UnconsciousMediumvioletredMeerkat.mp4 HTTP/1.1\" 200 27868294\n"
     ]
    },
    {
     "name": "stdout",
     "output_type": "stream",
     "text": [
      "nvme_drive/scraped_files/20220821-003129-reddit/imgur/imgur_7UK6poB_Smooth.jpg\n",
      "nvme_drive/scraped_files/20220821-003129-reddit/redgifs/redgifs_unconsciousmediumvioletredmeerkat.mp4\n"
     ]
    },
    {
     "name": "stderr",
     "output_type": "stream",
     "text": [
      "[478/997] https://i.imgur.com/InW71ms.png\n",
      "[gallery-dl][debug] Starting DownloadJob for 'https://i.imgur.com/InW71ms.png'\n",
      "[imgur][debug] Using ImgurImageExtractor for 'https://i.imgur.com/InW71ms.png'\n",
      "[urllib3.connectionpool][debug] https://api.imgur.com:443 \"GET /post/v1/media/InW71ms?include=media%2Ctags%2Caccount HTTP/1.1\" 200 471\n",
      "[urllib3.connectionpool][debug] https://i.imgur.com:443 \"GET /InW71ms.png HTTP/1.1\" 200 2644504\n"
     ]
    },
    {
     "name": "stdout",
     "output_type": "stream",
     "text": [
      "nvme_drive/scraped_files/20220821-003129-reddit/imgur/imgur_InW71ms_Zuzana Drabinov has Spectacular tits.png\n"
     ]
    },
    {
     "name": "stderr",
     "output_type": "stream",
     "text": [
      "[479/997] https://i.redd.it/71g7seu368i91.gif\n",
      "[gallery-dl][debug] Starting DownloadJob for 'https://i.redd.it/71g7seu368i91.gif'\n",
      "[reddit][debug] Using RedditImageExtractor for 'https://i.redd.it/71g7seu368i91.gif'\n",
      "[urllib3.connectionpool][debug] https://i.redd.it:443 \"GET /71g7seu368i91.gif HTTP/1.1\" 200 2921438\n"
     ]
    },
    {
     "name": "stdout",
     "output_type": "stream",
     "text": [
      "nvme_drive/scraped_files/20220821-003129-reddit/reddit/71g7seu368i91.gif\n",
      "nvme_drive/scraped_files/20220821-003129-reddit/reddit/hv5ewemrjoh91.jpg\n"
     ]
    },
    {
     "name": "stderr",
     "output_type": "stream",
     "text": [
      "[480/997] https://i.redd.it/hv5ewemrjoh91.jpg\n",
      "[gallery-dl][debug] Starting DownloadJob for 'https://i.redd.it/hv5ewemrjoh91.jpg'\n",
      "[reddit][debug] Using RedditImageExtractor for 'https://i.redd.it/hv5ewemrjoh91.jpg'\n",
      "[urllib3.connectionpool][debug] https://i.redd.it:443 \"GET /hv5ewemrjoh91.jpg HTTP/1.1\" 200 656320\n",
      "[481/997] https://i.imgur.com/rZoc7lf.jpg\n",
      "[gallery-dl][debug] Starting DownloadJob for 'https://i.imgur.com/rZoc7lf.jpg'\n",
      "[imgur][debug] Using ImgurImageExtractor for 'https://i.imgur.com/rZoc7lf.jpg'\n",
      "[urllib3.connectionpool][debug] https://api.imgur.com:443 \"GET /post/v1/media/rZoc7lf?include=media%2Ctags%2Caccount HTTP/1.1\" 200 482\n",
      "[urllib3.connectionpool][debug] https://i.imgur.com:443 \"GET /rZoc7lf.jpg HTTP/1.1\" 200 214005\n",
      "[482/997] https://i.imgur.com/A3AIYQp.gifv\n",
      "[gallery-dl][debug] Starting DownloadJob for 'https://i.imgur.com/A3AIYQp.gifv'\n",
      "[imgur][debug] Using ImgurImageExtractor for 'https://i.imgur.com/A3AIYQp.gifv'\n",
      "[urllib3.connectionpool][debug] https://api.imgur.com:443 \"GET /post/v1/media/A3AIYQp?include=media%2Ctags%2Caccount HTTP/1.1\" 200 481\n",
      "[urllib3.connectionpool][debug] https://i.imgur.com:443 \"GET /A3AIYQp.mp4 HTTP/1.1\" 200 5610236\n"
     ]
    },
    {
     "name": "stdout",
     "output_type": "stream",
     "text": [
      "nvme_drive/scraped_files/20220821-003129-reddit/imgur/imgur_rZoc7lf_Covered up.jpg\n",
      "nvme_drive/scraped_files/20220821-003129-reddit/imgur/imgur_A3AIYQp_Leila Lowfire (German actress).mp4\n"
     ]
    },
    {
     "name": "stderr",
     "output_type": "stream",
     "text": [
      "[483/997] https://i.redd.it/5qnacie352e91.gif\n",
      "[gallery-dl][debug] Starting DownloadJob for 'https://i.redd.it/5qnacie352e91.gif'\n",
      "[reddit][debug] Using RedditImageExtractor for 'https://i.redd.it/5qnacie352e91.gif'\n",
      "[urllib3.connectionpool][debug] https://i.redd.it:443 \"GET /5qnacie352e91.gif HTTP/1.1\" 200 2085869\n"
     ]
    },
    {
     "name": "stdout",
     "output_type": "stream",
     "text": [
      "nvme_drive/scraped_files/20220821-003129-reddit/reddit/5qnacie352e91.gif\n",
      "nvme_drive/scraped_files/20220821-003129-reddit/imgur/imgur_4K0N7qK_Phenomenal side view from the bathtub.jpg\n"
     ]
    },
    {
     "name": "stderr",
     "output_type": "stream",
     "text": [
      "[484/997] https://i.imgur.com/4K0N7qK.jpg\n",
      "[gallery-dl][debug] Starting DownloadJob for 'https://i.imgur.com/4K0N7qK.jpg'\n",
      "[imgur][debug] Using ImgurImageExtractor for 'https://i.imgur.com/4K0N7qK.jpg'\n",
      "[urllib3.connectionpool][debug] https://api.imgur.com:443 \"GET /post/v1/media/4K0N7qK?include=media%2Ctags%2Caccount HTTP/1.1\" 200 489\n",
      "[urllib3.connectionpool][debug] https://i.imgur.com:443 \"GET /4K0N7qK.jpg HTTP/1.1\" 200 41056\n",
      "[485/997] https://i.redd.it/e7go8ak3i0g91.jpg\n",
      "[gallery-dl][debug] Starting DownloadJob for 'https://i.redd.it/e7go8ak3i0g91.jpg'\n",
      "[reddit][debug] Using RedditImageExtractor for 'https://i.redd.it/e7go8ak3i0g91.jpg'\n",
      "[urllib3.connectionpool][debug] https://i.redd.it:443 \"GET /e7go8ak3i0g91.jpg HTTP/1.1\" 200 3459979\n"
     ]
    },
    {
     "name": "stdout",
     "output_type": "stream",
     "text": [
      "nvme_drive/scraped_files/20220821-003129-reddit/reddit/e7go8ak3i0g91.jpg\n",
      "nvme_drive/scraped_files/20220821-003129-reddit/imgur/imgur_vbRXmqt_Huntress in the wild.jpg\n"
     ]
    },
    {
     "name": "stderr",
     "output_type": "stream",
     "text": [
      "[486/997] https://i.imgur.com/vbRXmqt.jpg\n",
      "[gallery-dl][debug] Starting DownloadJob for 'https://i.imgur.com/vbRXmqt.jpg'\n",
      "[imgur][debug] Using ImgurImageExtractor for 'https://i.imgur.com/vbRXmqt.jpg'\n",
      "[urllib3.connectionpool][debug] https://api.imgur.com:443 \"GET /post/v1/media/vbRXmqt?include=media%2Ctags%2Caccount HTTP/1.1\" 200 457\n",
      "[urllib3.connectionpool][debug] https://i.imgur.com:443 \"GET /vbRXmqt.jpg HTTP/1.1\" 200 129845\n",
      "[487/997] https://redgifs.com/watch/regulartremendousarmednylonshrimp\n",
      "[gallery-dl][debug] Starting DownloadJob for 'https://redgifs.com/watch/regulartremendousarmednylonshrimp'\n",
      "[redgifs][debug] Using RedgifsImageExtractor for 'https://redgifs.com/watch/regulartremendousarmednylonshrimp'\n",
      "[urllib3.connectionpool][debug] https://api.redgifs.com:443 \"GET /v2/gifs/regulartremendousarmednylonshrimp HTTP/1.1\" 200 None\n",
      "[urllib3.connectionpool][debug] https://thumbs2.redgifs.com:443 \"GET /RegularTremendousArmednylonshrimp.mp4 HTTP/1.1\" 200 33434242\n"
     ]
    },
    {
     "name": "stdout",
     "output_type": "stream",
     "text": [
      "nvme_drive/scraped_files/20220821-003129-reddit/redgifs/redgifs_regulartremendousarmednylonshrimp.mp4\n"
     ]
    },
    {
     "name": "stderr",
     "output_type": "stream",
     "text": [
      "[488/997] https://i.redd.it/vytj549l6ii91.gif\n",
      "[gallery-dl][debug] Starting DownloadJob for 'https://i.redd.it/vytj549l6ii91.gif'\n",
      "[reddit][debug] Using RedditImageExtractor for 'https://i.redd.it/vytj549l6ii91.gif'\n",
      "[urllib3.connectionpool][debug] https://i.redd.it:443 \"GET /vytj549l6ii91.gif HTTP/1.1\" 200 3745819\n"
     ]
    },
    {
     "name": "stdout",
     "output_type": "stream",
     "text": [
      "nvme_drive/scraped_files/20220821-003129-reddit/reddit/vytj549l6ii91.gif\n",
      "nvme_drive/scraped_files/20220821-003129-reddit/reddit/zezw9ckg9rg91.jpg\n"
     ]
    },
    {
     "name": "stderr",
     "output_type": "stream",
     "text": [
      "[489/997] https://i.redd.it/zezw9ckg9rg91.jpg\n",
      "[gallery-dl][debug] Starting DownloadJob for 'https://i.redd.it/zezw9ckg9rg91.jpg'\n",
      "[reddit][debug] Using RedditImageExtractor for 'https://i.redd.it/zezw9ckg9rg91.jpg'\n",
      "[urllib3.connectionpool][debug] https://i.redd.it:443 \"GET /zezw9ckg9rg91.jpg HTTP/1.1\" 200 58713\n",
      "[490/997] https://i.imgur.com/agd0DZd.jpg\n",
      "[gallery-dl][debug] Starting DownloadJob for 'https://i.imgur.com/agd0DZd.jpg'\n",
      "[imgur][debug] Using ImgurImageExtractor for 'https://i.imgur.com/agd0DZd.jpg'\n",
      "[urllib3.connectionpool][debug] https://api.imgur.com:443 \"GET /post/v1/media/agd0DZd?include=media%2Ctags%2Caccount HTTP/1.1\" 200 467\n",
      "[urllib3.connectionpool][debug] https://i.imgur.com:443 \"GET /agd0DZd.jpg HTTP/1.1\" 200 1668273\n"
     ]
    },
    {
     "name": "stdout",
     "output_type": "stream",
     "text": [
      "nvme_drive/scraped_files/20220821-003129-reddit/imgur/imgur_agd0DZd_Girl with books.jpg\n"
     ]
    },
    {
     "name": "stderr",
     "output_type": "stream",
     "text": [
      "[491/997] https://www.redgifs.com/watch/dearestanotherallosaurus\n",
      "[gallery-dl][debug] Starting DownloadJob for 'https://www.redgifs.com/watch/dearestanotherallosaurus'\n",
      "[redgifs][debug] Using RedgifsImageExtractor for 'https://www.redgifs.com/watch/dearestanotherallosaurus'\n",
      "[urllib3.connectionpool][debug] https://api.redgifs.com:443 \"GET /v2/gifs/dearestanotherallosaurus HTTP/1.1\" 200 None\n",
      "[urllib3.connectionpool][debug] https://thumbs2.redgifs.com:443 \"GET /DearestAnotherAllosaurus.mp4 HTTP/1.1\" 200 11169408\n"
     ]
    },
    {
     "name": "stdout",
     "output_type": "stream",
     "text": [
      "nvme_drive/scraped_files/20220821-003129-reddit/redgifs/redgifs_dearestanotherallosaurus.mp4\n",
      "nvme_drive/scraped_files/20220821-003129-reddit/reddit/eiucmqajdsg91.jpg\n"
     ]
    },
    {
     "name": "stderr",
     "output_type": "stream",
     "text": [
      "[492/997] https://i.redd.it/eiucmqajdsg91.jpg\n",
      "[gallery-dl][debug] Starting DownloadJob for 'https://i.redd.it/eiucmqajdsg91.jpg'\n",
      "[reddit][debug] Using RedditImageExtractor for 'https://i.redd.it/eiucmqajdsg91.jpg'\n",
      "[urllib3.connectionpool][debug] https://i.redd.it:443 \"GET /eiucmqajdsg91.jpg HTTP/1.1\" 200 536554\n",
      "[493/997] https://i.redd.it/0govikn4ikg91.gif\n",
      "[gallery-dl][debug] Starting DownloadJob for 'https://i.redd.it/0govikn4ikg91.gif'\n",
      "[reddit][debug] Using RedditImageExtractor for 'https://i.redd.it/0govikn4ikg91.gif'\n",
      "[urllib3.connectionpool][debug] https://i.redd.it:443 \"GET /0govikn4ikg91.gif HTTP/1.1\" 200 2195942\n"
     ]
    },
    {
     "name": "stdout",
     "output_type": "stream",
     "text": [
      "nvme_drive/scraped_files/20220821-003129-reddit/reddit/0govikn4ikg91.gif\n"
     ]
    },
    {
     "name": "stderr",
     "output_type": "stream",
     "text": [
      "[494/997] https://i.imgur.com/GAJ8VFJ.jpg\n",
      "[gallery-dl][debug] Starting DownloadJob for 'https://i.imgur.com/GAJ8VFJ.jpg'\n",
      "[imgur][debug] Using ImgurImageExtractor for 'https://i.imgur.com/GAJ8VFJ.jpg'\n",
      "[urllib3.connectionpool][debug] https://api.imgur.com:443 \"GET /post/v1/media/GAJ8VFJ?include=media%2Ctags%2Caccount HTTP/1.1\" 200 495\n",
      "[urllib3.connectionpool][debug] https://i.imgur.com:443 \"GET /GAJ8VFJ.jpg HTTP/1.1\" 200 1097120\n",
      "[495/997] https://i.redd.it/d42fpw0gmaf91.jpg\n",
      "[gallery-dl][debug] Starting DownloadJob for 'https://i.redd.it/d42fpw0gmaf91.jpg'\n",
      "[reddit][debug] Using RedditImageExtractor for 'https://i.redd.it/d42fpw0gmaf91.jpg'\n",
      "[urllib3.connectionpool][debug] https://i.redd.it:443 \"GET /d42fpw0gmaf91.jpg HTTP/1.1\" 200 353659\n"
     ]
    },
    {
     "name": "stdout",
     "output_type": "stream",
     "text": [
      "nvme_drive/scraped_files/20220821-003129-reddit/imgur/imgur_GAJ8VFJ_little black dress.jpg\n",
      "nvme_drive/scraped_files/20220821-003129-reddit/reddit/d42fpw0gmaf91.jpg\n"
     ]
    },
    {
     "name": "stderr",
     "output_type": "stream",
     "text": [
      "[496/997] http://i.imgur.com/R86LdCp.gifv\n",
      "[gallery-dl][debug] Starting DownloadJob for 'http://i.imgur.com/R86LdCp.gifv'\n",
      "[imgur][debug] Using ImgurImageExtractor for 'http://i.imgur.com/R86LdCp.gifv'\n",
      "[urllib3.connectionpool][debug] https://api.imgur.com:443 \"GET /post/v1/media/R86LdCp?include=media%2Ctags%2Caccount HTTP/1.1\" 200 472\n",
      "[urllib3.connectionpool][debug] https://i.imgur.com:443 \"GET /R86LdCp.mp4 HTTP/1.1\" 200 19653855\n"
     ]
    },
    {
     "name": "stdout",
     "output_type": "stream",
     "text": [
      "nvme_drive/scraped_files/20220821-003129-reddit/imgur/imgur_R86LdCp_getting nude in the forest.mp4\n",
      "nvme_drive/scraped_files/20220821-003129-reddit/reddit/qvue7v389yd91.jpg\n"
     ]
    },
    {
     "name": "stderr",
     "output_type": "stream",
     "text": [
      "[497/997] https://i.redd.it/qvue7v389yd91.jpg\n",
      "[gallery-dl][debug] Starting DownloadJob for 'https://i.redd.it/qvue7v389yd91.jpg'\n",
      "[reddit][debug] Using RedditImageExtractor for 'https://i.redd.it/qvue7v389yd91.jpg'\n",
      "[urllib3.connectionpool][debug] https://i.redd.it:443 \"GET /qvue7v389yd91.jpg HTTP/1.1\" 200 308724\n",
      "[498/997] https://redgifs.com/watch/bestrealisticlobo\n",
      "[gallery-dl][debug] Starting DownloadJob for 'https://redgifs.com/watch/bestrealisticlobo'\n",
      "[redgifs][debug] Using RedgifsImageExtractor for 'https://redgifs.com/watch/bestrealisticlobo'\n",
      "[urllib3.connectionpool][debug] https://api.redgifs.com:443 \"GET /v2/gifs/bestrealisticlobo HTTP/1.1\" 200 None\n",
      "[urllib3.connectionpool][debug] https://thumbs2.redgifs.com:443 \"GET /BestRealisticLobo.mp4 HTTP/1.1\" 200 5637562\n"
     ]
    },
    {
     "name": "stdout",
     "output_type": "stream",
     "text": [
      "nvme_drive/scraped_files/20220821-003129-reddit/redgifs/redgifs_bestrealisticlobo.mp4\n",
      "nvme_drive/scraped_files/20220821-003129-reddit/imgur/imgur_KRN1ViB_What a body.jpg\n"
     ]
    },
    {
     "name": "stderr",
     "output_type": "stream",
     "text": [
      "[499/997] https://i.imgur.com/KRN1ViB.jpg\n",
      "[gallery-dl][debug] Starting DownloadJob for 'https://i.imgur.com/KRN1ViB.jpg'\n",
      "[imgur][debug] Using ImgurImageExtractor for 'https://i.imgur.com/KRN1ViB.jpg'\n",
      "[urllib3.connectionpool][debug] https://api.imgur.com:443 \"GET /post/v1/media/KRN1ViB?include=media%2Ctags%2Caccount HTTP/1.1\" 200 503\n",
      "[urllib3.connectionpool][debug] https://i.imgur.com:443 \"GET /KRN1ViB.jpg HTTP/1.1\" 200 157552\n",
      "[500/997] https://i.redd.it/pcbpp7z7jjg91.jpg\n",
      "[gallery-dl][debug] Starting DownloadJob for 'https://i.redd.it/pcbpp7z7jjg91.jpg'\n",
      "[reddit][debug] Using RedditImageExtractor for 'https://i.redd.it/pcbpp7z7jjg91.jpg'\n",
      "[urllib3.connectionpool][debug] https://i.redd.it:443 \"GET /pcbpp7z7jjg91.jpg HTTP/1.1\" 200 362779\n"
     ]
    },
    {
     "name": "stdout",
     "output_type": "stream",
     "text": [
      "nvme_drive/scraped_files/20220821-003129-reddit/reddit/pcbpp7z7jjg91.jpg\n"
     ]
    },
    {
     "name": "stderr",
     "output_type": "stream",
     "text": [
      "[501/997] https://www.redgifs.com/watch/insidiouswarlikepipit\n",
      "[gallery-dl][debug] Starting DownloadJob for 'https://www.redgifs.com/watch/insidiouswarlikepipit'\n",
      "[redgifs][debug] Using RedgifsImageExtractor for 'https://www.redgifs.com/watch/insidiouswarlikepipit'\n",
      "[urllib3.connectionpool][debug] https://api.redgifs.com:443 \"GET /v2/gifs/insidiouswarlikepipit HTTP/1.1\" 200 None\n",
      "[urllib3.connectionpool][debug] https://thumbs2.redgifs.com:443 \"GET /InsidiousWarlikePipit.mp4 HTTP/1.1\" 200 23719165\n"
     ]
    },
    {
     "name": "stdout",
     "output_type": "stream",
     "text": [
      "nvme_drive/scraped_files/20220821-003129-reddit/redgifs/redgifs_insidiouswarlikepipit.mp4\n",
      "nvme_drive/scraped_files/20220821-003129-reddit/reddit/cmvpnxmi9sg91.jpg\n",
      "nvme_drive/scraped_files/20220821-003129-reddit/reddit/vx397j7aw4f91.jpg\n"
     ]
    },
    {
     "name": "stderr",
     "output_type": "stream",
     "text": [
      "[502/997] https://i.redd.it/cmvpnxmi9sg91.jpg\n",
      "[gallery-dl][debug] Starting DownloadJob for 'https://i.redd.it/cmvpnxmi9sg91.jpg'\n",
      "[reddit][debug] Using RedditImageExtractor for 'https://i.redd.it/cmvpnxmi9sg91.jpg'\n",
      "[urllib3.connectionpool][debug] https://i.redd.it:443 \"GET /cmvpnxmi9sg91.jpg HTTP/1.1\" 200 168840\n",
      "[503/997] https://i.redd.it/vx397j7aw4f91.jpg\n",
      "[gallery-dl][debug] Starting DownloadJob for 'https://i.redd.it/vx397j7aw4f91.jpg'\n",
      "[reddit][debug] Using RedditImageExtractor for 'https://i.redd.it/vx397j7aw4f91.jpg'\n",
      "[urllib3.connectionpool][debug] https://i.redd.it:443 \"GET /vx397j7aw4f91.jpg HTTP/1.1\" 200 263911\n",
      "[504/997] https://redgifs.com/watch/genuinechubbyzander\n",
      "[gallery-dl][debug] Starting DownloadJob for 'https://redgifs.com/watch/genuinechubbyzander'\n",
      "[redgifs][debug] Using RedgifsImageExtractor for 'https://redgifs.com/watch/genuinechubbyzander'\n",
      "[urllib3.connectionpool][debug] https://api.redgifs.com:443 \"GET /v2/gifs/genuinechubbyzander HTTP/1.1\" 200 None\n",
      "[urllib3.connectionpool][debug] https://thumbs2.redgifs.com:443 \"GET /GenuineChubbyZander.mp4 HTTP/1.1\" 200 13629386\n"
     ]
    },
    {
     "name": "stdout",
     "output_type": "stream",
     "text": [
      "nvme_drive/scraped_files/20220821-003129-reddit/redgifs/redgifs_genuinechubbyzander.mp4\n"
     ]
    },
    {
     "name": "stderr",
     "output_type": "stream",
     "text": [
      "[505/997] https://redgifs.com/watch/adolescentvioletredleech\n",
      "[gallery-dl][debug] Starting DownloadJob for 'https://redgifs.com/watch/adolescentvioletredleech'\n",
      "[redgifs][debug] Using RedgifsImageExtractor for 'https://redgifs.com/watch/adolescentvioletredleech'\n",
      "[urllib3.connectionpool][debug] https://api.redgifs.com:443 \"GET /v2/gifs/adolescentvioletredleech HTTP/1.1\" 200 None\n",
      "[urllib3.connectionpool][debug] https://thumbs2.redgifs.com:443 \"GET /AdolescentVioletredLeech.mp4 HTTP/1.1\" 200 13839212\n"
     ]
    },
    {
     "name": "stdout",
     "output_type": "stream",
     "text": [
      "nvme_drive/scraped_files/20220821-003129-reddit/redgifs/redgifs_adolescentvioletredleech.mp4\n",
      "nvme_drive/scraped_files/20220821-003129-reddit/imgur/imgur_aWcC6Ob_Sassy tits on her bed.jpg\n"
     ]
    },
    {
     "name": "stderr",
     "output_type": "stream",
     "text": [
      "[506/997] https://i.imgur.com/aWcC6Ob.jpg\n",
      "[gallery-dl][debug] Starting DownloadJob for 'https://i.imgur.com/aWcC6Ob.jpg'\n",
      "[imgur][debug] Using ImgurImageExtractor for 'https://i.imgur.com/aWcC6Ob.jpg'\n",
      "[urllib3.connectionpool][debug] https://api.imgur.com:443 \"GET /post/v1/media/aWcC6Ob?include=media%2Ctags%2Caccount HTTP/1.1\" 200 479\n",
      "[urllib3.connectionpool][debug] https://i.imgur.com:443 \"GET /aWcC6Ob.jpg HTTP/1.1\" 200 283629\n",
      "[507/997] https://i.redd.it/srxcivy6na471.jpg\n",
      "[gallery-dl][debug] Starting DownloadJob for 'https://i.redd.it/srxcivy6na471.jpg'\n",
      "[reddit][debug] Using RedditImageExtractor for 'https://i.redd.it/srxcivy6na471.jpg'\n",
      "[urllib3.connectionpool][debug] https://i.redd.it:443 \"GET /srxcivy6na471.jpg HTTP/1.1\" 200 242232\n"
     ]
    },
    {
     "name": "stdout",
     "output_type": "stream",
     "text": [
      "nvme_drive/scraped_files/20220821-003129-reddit/reddit/srxcivy6na471.jpg\n"
     ]
    },
    {
     "name": "stderr",
     "output_type": "stream",
     "text": [
      "[508/997] https://www.redgifs.com/watch/poorrelievedpiglet\n",
      "[gallery-dl][debug] Starting DownloadJob for 'https://www.redgifs.com/watch/poorrelievedpiglet'\n",
      "[redgifs][debug] Using RedgifsImageExtractor for 'https://www.redgifs.com/watch/poorrelievedpiglet'\n",
      "[urllib3.connectionpool][debug] https://api.redgifs.com:443 \"GET /v2/gifs/poorrelievedpiglet HTTP/1.1\" 200 None\n",
      "[urllib3.connectionpool][debug] https://thumbs2.redgifs.com:443 \"GET /PoorRelievedPiglet.mp4 HTTP/1.1\" 200 18132257\n"
     ]
    },
    {
     "name": "stdout",
     "output_type": "stream",
     "text": [
      "nvme_drive/scraped_files/20220821-003129-reddit/redgifs/redgifs_poorrelievedpiglet.mp4\n",
      "nvme_drive/scraped_files/20220821-003129-reddit/reddit/15n05iqn5jf91.jpg\n"
     ]
    },
    {
     "name": "stderr",
     "output_type": "stream",
     "text": [
      "[509/997] https://i.redd.it/15n05iqn5jf91.jpg\n",
      "[gallery-dl][debug] Starting DownloadJob for 'https://i.redd.it/15n05iqn5jf91.jpg'\n",
      "[reddit][debug] Using RedditImageExtractor for 'https://i.redd.it/15n05iqn5jf91.jpg'\n",
      "[urllib3.connectionpool][debug] https://i.redd.it:443 \"GET /15n05iqn5jf91.jpg HTTP/1.1\" 200 67403\n",
      "[510/997] https://i.imgur.com/tWkdnF3.jpg\n",
      "[gallery-dl][debug] Starting DownloadJob for 'https://i.imgur.com/tWkdnF3.jpg'\n",
      "[imgur][debug] Using ImgurImageExtractor for 'https://i.imgur.com/tWkdnF3.jpg'\n",
      "[urllib3.connectionpool][debug] https://api.imgur.com:443 \"GET /post/v1/media/tWkdnF3?include=media%2Ctags%2Caccount HTTP/1.1\" 200 451\n",
      "[urllib3.connectionpool][debug] https://i.imgur.com:443 \"GET /tWkdnF3.jpg HTTP/1.1\" 200 101167\n",
      "[511/997] https://redgifs.com/watch/gratefuldrabamurminnow\n",
      "[gallery-dl][debug] Starting DownloadJob for 'https://redgifs.com/watch/gratefuldrabamurminnow'\n",
      "[redgifs][debug] Using RedgifsImageExtractor for 'https://redgifs.com/watch/gratefuldrabamurminnow'\n",
      "[urllib3.connectionpool][debug] https://api.redgifs.com:443 \"GET /v2/gifs/gratefuldrabamurminnow HTTP/1.1\" 200 None\n",
      "[urllib3.connectionpool][debug] https://thumbs2.redgifs.com:443 \"GET /GratefulDrabAmurminnow.mp4 HTTP/1.1\" 200 9027115\n"
     ]
    },
    {
     "name": "stdout",
     "output_type": "stream",
     "text": [
      "nvme_drive/scraped_files/20220821-003129-reddit/imgur/imgur_tWkdnF3_Well Dressed.jpg\n",
      "nvme_drive/scraped_files/20220821-003129-reddit/redgifs/redgifs_gratefuldrabamurminnow.mp4\n"
     ]
    },
    {
     "name": "stderr",
     "output_type": "stream",
     "text": [
      "[512/997] https://i.redd.it/zcvwqw9il8d91.png\n",
      "[gallery-dl][debug] Starting DownloadJob for 'https://i.redd.it/zcvwqw9il8d91.png'\n",
      "[reddit][debug] Using RedditImageExtractor for 'https://i.redd.it/zcvwqw9il8d91.png'\n",
      "[urllib3.connectionpool][debug] https://i.redd.it:443 \"GET /zcvwqw9il8d91.png HTTP/1.1\" 200 2137251\n"
     ]
    },
    {
     "name": "stdout",
     "output_type": "stream",
     "text": [
      "nvme_drive/scraped_files/20220821-003129-reddit/reddit/zcvwqw9il8d91.png\n",
      "nvme_drive/scraped_files/20220821-003129-reddit/imgur/imgur_5TV2U9K_Reflection.jpg\n"
     ]
    },
    {
     "name": "stderr",
     "output_type": "stream",
     "text": [
      "[513/997] https://i.imgur.com/5TV2U9K.jpg\n",
      "[gallery-dl][debug] Starting DownloadJob for 'https://i.imgur.com/5TV2U9K.jpg'\n",
      "[imgur][debug] Using ImgurImageExtractor for 'https://i.imgur.com/5TV2U9K.jpg'\n",
      "[urllib3.connectionpool][debug] https://api.imgur.com:443 \"GET /post/v1/media/5TV2U9K?include=media%2Ctags%2Caccount HTTP/1.1\" 200 445\n",
      "[urllib3.connectionpool][debug] https://i.imgur.com:443 \"GET /5TV2U9K.jpg HTTP/1.1\" 200 394332\n",
      "[514/997] https://i.imgur.com/9Ip4VfF.jpeg\n",
      "[gallery-dl][debug] Starting DownloadJob for 'https://i.imgur.com/9Ip4VfF.jpeg'\n",
      "[imgur][debug] Using ImgurImageExtractor for 'https://i.imgur.com/9Ip4VfF.jpeg'\n",
      "[urllib3.connectionpool][debug] https://api.imgur.com:443 \"GET /post/v1/media/9Ip4VfF?include=media%2Ctags%2Caccount HTTP/1.1\" 200 454\n",
      "[urllib3.connectionpool][debug] https://i.imgur.com:443 \"GET /9Ip4VfF.jpg HTTP/1.1\" 200 670237\n",
      "[515/997] https://redgifs.com/watch/intentionalboilingolingo\n",
      "[gallery-dl][debug] Starting DownloadJob for 'https://redgifs.com/watch/intentionalboilingolingo'\n",
      "[redgifs][debug] Using RedgifsImageExtractor for 'https://redgifs.com/watch/intentionalboilingolingo'\n"
     ]
    },
    {
     "name": "stdout",
     "output_type": "stream",
     "text": [
      "nvme_drive/scraped_files/20220821-003129-reddit/imgur/imgur_9Ip4VfF_Maid Service.jpg\n"
     ]
    },
    {
     "name": "stderr",
     "output_type": "stream",
     "text": [
      "[urllib3.connectionpool][debug] https://api.redgifs.com:443 \"GET /v2/gifs/intentionalboilingolingo HTTP/1.1\" 200 None\n",
      "[urllib3.connectionpool][debug] https://thumbs2.redgifs.com:443 \"GET /IntentionalBoilingOlingo.mp4 HTTP/1.1\" 200 61304840\n"
     ]
    },
    {
     "name": "stdout",
     "output_type": "stream",
     "text": [
      "nvme_drive/scraped_files/20220821-003129-reddit/redgifs/redgifs_intentionalboilingolingo.mp4\n",
      "nvme_drive/scraped_files/20220821-003129-reddit/reddit/gp7m2rakfre91.jpg\n"
     ]
    },
    {
     "name": "stderr",
     "output_type": "stream",
     "text": [
      "[516/997] https://i.redd.it/gp7m2rakfre91.jpg\n",
      "[gallery-dl][debug] Starting DownloadJob for 'https://i.redd.it/gp7m2rakfre91.jpg'\n",
      "[reddit][debug] Using RedditImageExtractor for 'https://i.redd.it/gp7m2rakfre91.jpg'\n",
      "[urllib3.connectionpool][debug] https://i.redd.it:443 \"GET /gp7m2rakfre91.jpg HTTP/1.1\" 200 144839\n",
      "[517/997] https://www.redgifs.com/watch/blaringvoluminousherculesbeetle\n",
      "[gallery-dl][debug] Starting DownloadJob for 'https://www.redgifs.com/watch/blaringvoluminousherculesbeetle'\n",
      "[redgifs][debug] Using RedgifsImageExtractor for 'https://www.redgifs.com/watch/blaringvoluminousherculesbeetle'\n",
      "[urllib3.connectionpool][debug] https://api.redgifs.com:443 \"GET /v2/gifs/blaringvoluminousherculesbeetle HTTP/1.1\" 200 None\n",
      "[urllib3.connectionpool][debug] https://thumbs2.redgifs.com:443 \"GET /BlaringVoluminousHerculesbeetle.mp4 HTTP/1.1\" 200 37960055\n"
     ]
    },
    {
     "name": "stdout",
     "output_type": "stream",
     "text": [
      "nvme_drive/scraped_files/20220821-003129-reddit/redgifs/redgifs_blaringvoluminousherculesbeetle.mp4\n",
      "nvme_drive/scraped_files/20220821-003129-reddit/imgur/imgur_NmwiDCH_Both Hands.mp4\n"
     ]
    },
    {
     "name": "stderr",
     "output_type": "stream",
     "text": [
      "[518/997] https://i.imgur.com/NmwiDCH.gifv\n",
      "[gallery-dl][debug] Starting DownloadJob for 'https://i.imgur.com/NmwiDCH.gifv'\n",
      "[imgur][debug] Using ImgurImageExtractor for 'https://i.imgur.com/NmwiDCH.gifv'\n",
      "[urllib3.connectionpool][debug] https://api.imgur.com:443 \"GET /post/v1/media/NmwiDCH?include=media%2Ctags%2Caccount HTTP/1.1\" 200 469\n",
      "[urllib3.connectionpool][debug] https://i.imgur.com:443 \"GET /NmwiDCH.mp4 HTTP/1.1\" 200 271160\n",
      "[519/997] https://i.imgur.com/LnvdntK.jpg\n",
      "[gallery-dl][debug] Starting DownloadJob for 'https://i.imgur.com/LnvdntK.jpg'\n",
      "[imgur][debug] Using ImgurImageExtractor for 'https://i.imgur.com/LnvdntK.jpg'\n",
      "[urllib3.connectionpool][debug] https://api.imgur.com:443 \"GET /post/v1/media/LnvdntK?include=media%2Ctags%2Caccount HTTP/1.1\" 200 468\n",
      "[urllib3.connectionpool][debug] https://i.imgur.com:443 \"GET /LnvdntK.jpg HTTP/1.1\" 200 1847524\n"
     ]
    },
    {
     "name": "stdout",
     "output_type": "stream",
     "text": [
      "nvme_drive/scraped_files/20220821-003129-reddit/imgur/imgur_LnvdntK_Coveralls that don't quite cover all.jpg\n"
     ]
    },
    {
     "name": "stderr",
     "output_type": "stream",
     "text": [
      "[520/997] https://i.imgur.com/4M8GN5i.jpg\n",
      "[gallery-dl][debug] Starting DownloadJob for 'https://i.imgur.com/4M8GN5i.jpg'\n",
      "[imgur][debug] Using ImgurImageExtractor for 'https://i.imgur.com/4M8GN5i.jpg'\n",
      "[urllib3.connectionpool][debug] https://api.imgur.com:443 \"GET /post/v1/media/4M8GN5i?include=media%2Ctags%2Caccount HTTP/1.1\" 200 452\n",
      "[urllib3.connectionpool][debug] https://i.imgur.com:443 \"GET /4M8GN5i.jpg HTTP/1.1\" 200 982214\n"
     ]
    },
    {
     "name": "stdout",
     "output_type": "stream",
     "text": [
      "nvme_drive/scraped_files/20220821-003129-reddit/imgur/imgur_4M8GN5i_So Sexy.jpg\n"
     ]
    },
    {
     "name": "stderr",
     "output_type": "stream",
     "text": [
      "[521/997] https://i.imgur.com/LsHv172.gifv\n",
      "[gallery-dl][debug] Starting DownloadJob for 'https://i.imgur.com/LsHv172.gifv'\n",
      "[imgur][debug] Using ImgurImageExtractor for 'https://i.imgur.com/LsHv172.gifv'\n",
      "[urllib3.connectionpool][debug] https://api.imgur.com:443 \"GET /post/v1/media/LsHv172?include=media%2Ctags%2Caccount HTTP/1.1\" 200 463\n",
      "[urllib3.connectionpool][debug] https://i.imgur.com:443 \"GET /LsHv172.mp4 HTTP/1.1\" 200 27523920\n"
     ]
    },
    {
     "name": "stdout",
     "output_type": "stream",
     "text": [
      "nvme_drive/scraped_files/20220821-003129-reddit/imgur/imgur_LsHv172_a little show.mp4\n",
      "nvme_drive/scraped_files/20220821-003129-reddit/reddit/kyxgcm3r1ch91.jpg\n"
     ]
    },
    {
     "name": "stderr",
     "output_type": "stream",
     "text": [
      "[522/997] https://i.redd.it/kyxgcm3r1ch91.jpg\n",
      "[gallery-dl][debug] Starting DownloadJob for 'https://i.redd.it/kyxgcm3r1ch91.jpg'\n",
      "[reddit][debug] Using RedditImageExtractor for 'https://i.redd.it/kyxgcm3r1ch91.jpg'\n",
      "[urllib3.connectionpool][debug] https://i.redd.it:443 \"GET /kyxgcm3r1ch91.jpg HTTP/1.1\" 200 345102\n",
      "[523/997] https://i.imgur.com/raHfxnk.jpg\n",
      "[gallery-dl][debug] Starting DownloadJob for 'https://i.imgur.com/raHfxnk.jpg'\n",
      "[imgur][debug] Using ImgurImageExtractor for 'https://i.imgur.com/raHfxnk.jpg'\n",
      "[urllib3.connectionpool][debug] https://api.imgur.com:443 \"GET /post/v1/media/raHfxnk?include=media%2Ctags%2Caccount HTTP/1.1\" 200 458\n",
      "[urllib3.connectionpool][debug] https://i.imgur.com:443 \"GET /raHfxnk.jpg HTTP/1.1\" 200 2335705\n"
     ]
    },
    {
     "name": "stdout",
     "output_type": "stream",
     "text": [
      "nvme_drive/scraped_files/20220821-003129-reddit/imgur/imgur_raHfxnk_Skye Blue.jpg\n"
     ]
    },
    {
     "name": "stderr",
     "output_type": "stream",
     "text": [
      "[524/997] https://i.imgur.com/RpwARvu.jpg\n",
      "[gallery-dl][debug] Starting DownloadJob for 'https://i.imgur.com/RpwARvu.jpg'\n",
      "[imgur][debug] Using ImgurImageExtractor for 'https://i.imgur.com/RpwARvu.jpg'\n",
      "[urllib3.connectionpool][debug] https://api.imgur.com:443 \"GET /post/v1/media/RpwARvu?include=media%2Ctags%2Caccount HTTP/1.1\" 200 459\n",
      "[urllib3.connectionpool][debug] https://i.imgur.com:443 \"GET /RpwARvu.jpg HTTP/1.1\" 200 1086084\n"
     ]
    },
    {
     "name": "stdout",
     "output_type": "stream",
     "text": [
      "nvme_drive/scraped_files/20220821-003129-reddit/imgur/imgur_RpwARvu_Sapphira.jpg\n",
      "nvme_drive/scraped_files/20220821-003129-reddit/reddit/dsuqowq385d91.jpg\n"
     ]
    },
    {
     "name": "stderr",
     "output_type": "stream",
     "text": [
      "[525/997] https://i.redd.it/dsuqowq385d91.jpg\n",
      "[gallery-dl][debug] Starting DownloadJob for 'https://i.redd.it/dsuqowq385d91.jpg'\n",
      "[reddit][debug] Using RedditImageExtractor for 'https://i.redd.it/dsuqowq385d91.jpg'\n",
      "[urllib3.connectionpool][debug] https://i.redd.it:443 \"GET /dsuqowq385d91.jpg HTTP/1.1\" 200 71707\n",
      "[526/997] https://www.redgifs.com/watch/illfatedstudioushuemul\n",
      "[gallery-dl][debug] Starting DownloadJob for 'https://www.redgifs.com/watch/illfatedstudioushuemul'\n",
      "[redgifs][debug] Using RedgifsImageExtractor for 'https://www.redgifs.com/watch/illfatedstudioushuemul'\n",
      "[urllib3.connectionpool][debug] https://api.redgifs.com:443 \"GET /v2/gifs/illfatedstudioushuemul HTTP/1.1\" 200 None\n",
      "[urllib3.connectionpool][debug] https://thumbs2.redgifs.com:443 \"GET /IllfatedStudiousHuemul.mp4 HTTP/1.1\" 200 6003530\n"
     ]
    },
    {
     "name": "stdout",
     "output_type": "stream",
     "text": [
      "nvme_drive/scraped_files/20220821-003129-reddit/redgifs/redgifs_illfatedstudioushuemul.mp4\n",
      "nvme_drive/scraped_files/20220821-003129-reddit/imgur/imgur_JJsOSPC_Cute cos-play.jpg\n"
     ]
    },
    {
     "name": "stderr",
     "output_type": "stream",
     "text": [
      "[527/997] http://i.imgur.com/JJsOSPC.jpg\n",
      "[gallery-dl][debug] Starting DownloadJob for 'http://i.imgur.com/JJsOSPC.jpg'\n",
      "[imgur][debug] Using ImgurImageExtractor for 'http://i.imgur.com/JJsOSPC.jpg'\n",
      "[urllib3.connectionpool][debug] https://api.imgur.com:443 \"GET /post/v1/media/JJsOSPC?include=media%2Ctags%2Caccount HTTP/1.1\" 200 468\n",
      "[urllib3.connectionpool][debug] https://i.imgur.com:443 \"GET /JJsOSPC.jpg HTTP/1.1\" 200 111114\n",
      "[528/997] https://i.imgur.com/jmZ9bFR.jpg\n",
      "[gallery-dl][debug] Starting DownloadJob for 'https://i.imgur.com/jmZ9bFR.jpg'\n",
      "[imgur][debug] Using ImgurImageExtractor for 'https://i.imgur.com/jmZ9bFR.jpg'\n",
      "[urllib3.connectionpool][debug] https://api.imgur.com:443 \"GET /post/v1/media/jmZ9bFR?include=media%2Ctags%2Caccount HTTP/1.1\" 200 460\n",
      "[urllib3.connectionpool][debug] https://i.imgur.com:443 \"GET /jmZ9bFR.jpg HTTP/1.1\" 200 779756\n",
      "[529/997] https://i.redd.it/eqm1btntzsg91.jpg\n",
      "[gallery-dl][debug] Starting DownloadJob for 'https://i.redd.it/eqm1btntzsg91.jpg'\n",
      "[reddit][debug] Using RedditImageExtractor for 'https://i.redd.it/eqm1btntzsg91.jpg'\n",
      "[urllib3.connectionpool][debug] https://i.redd.it:443 \"GET /eqm1btntzsg91.jpg HTTP/1.1\" 200 374942\n",
      "[530/997] https://i.imgur.com/ln2mjI9.jpg\n",
      "[gallery-dl][debug] Starting DownloadJob for 'https://i.imgur.com/ln2mjI9.jpg'\n",
      "[imgur][debug] Using ImgurImageExtractor for 'https://i.imgur.com/ln2mjI9.jpg'\n"
     ]
    },
    {
     "name": "stdout",
     "output_type": "stream",
     "text": [
      "nvme_drive/scraped_files/20220821-003129-reddit/imgur/imgur_jmZ9bFR_Would-be globe trotter.jpg\n",
      "nvme_drive/scraped_files/20220821-003129-reddit/reddit/eqm1btntzsg91.jpg\n"
     ]
    },
    {
     "name": "stderr",
     "output_type": "stream",
     "text": [
      "[urllib3.connectionpool][debug] https://api.imgur.com:443 \"GET /post/v1/media/ln2mjI9?include=media%2Ctags%2Caccount HTTP/1.1\" 200 450\n",
      "[urllib3.connectionpool][debug] https://i.imgur.com:443 \"GET /ln2mjI9.jpg HTTP/1.1\" 200 213696\n",
      "[531/997] https://i.redd.it/g2vv0zaohed91.jpg\n",
      "[gallery-dl][debug] Starting DownloadJob for 'https://i.redd.it/g2vv0zaohed91.jpg'\n",
      "[reddit][debug] Using RedditImageExtractor for 'https://i.redd.it/g2vv0zaohed91.jpg'\n",
      "[urllib3.connectionpool][debug] https://i.redd.it:443 \"GET /g2vv0zaohed91.jpg HTTP/1.1\" 200 303235\n",
      "[532/997] https://i.imgur.com/gXIaZOk.jpg\n",
      "[gallery-dl][debug] Starting DownloadJob for 'https://i.imgur.com/gXIaZOk.jpg'\n",
      "[imgur][debug] Using ImgurImageExtractor for 'https://i.imgur.com/gXIaZOk.jpg'\n"
     ]
    },
    {
     "name": "stdout",
     "output_type": "stream",
     "text": [
      "nvme_drive/scraped_files/20220821-003129-reddit/imgur/imgur_ln2mjI9_Pretty Pair.jpg\n",
      "nvme_drive/scraped_files/20220821-003129-reddit/reddit/g2vv0zaohed91.jpg\n"
     ]
    },
    {
     "name": "stderr",
     "output_type": "stream",
     "text": [
      "[urllib3.connectionpool][debug] https://api.imgur.com:443 \"GET /post/v1/media/gXIaZOk?include=media%2Ctags%2Caccount HTTP/1.1\" 200 454\n",
      "[urllib3.connectionpool][debug] https://i.imgur.com:443 \"GET /gXIaZOk.jpg HTTP/1.1\" 200 709754\n",
      "[533/997] https://i.redd.it/ifq4z72ymae91.jpg\n",
      "[gallery-dl][debug] Starting DownloadJob for 'https://i.redd.it/ifq4z72ymae91.jpg'\n",
      "[reddit][debug] Using RedditImageExtractor for 'https://i.redd.it/ifq4z72ymae91.jpg'\n",
      "[urllib3.connectionpool][debug] https://i.redd.it:443 \"GET /ifq4z72ymae91.jpg HTTP/1.1\" 200 2165900\n"
     ]
    },
    {
     "name": "stdout",
     "output_type": "stream",
     "text": [
      "nvme_drive/scraped_files/20220821-003129-reddit/imgur/imgur_gXIaZOk_Incredible ginger.jpg\n",
      "nvme_drive/scraped_files/20220821-003129-reddit/reddit/ifq4z72ymae91.jpg\n"
     ]
    },
    {
     "name": "stderr",
     "output_type": "stream",
     "text": [
      "[534/997] https://redgifs.com/watch/blandordinarygar\n",
      "[gallery-dl][debug] Starting DownloadJob for 'https://redgifs.com/watch/blandordinarygar'\n",
      "[redgifs][debug] Using RedgifsImageExtractor for 'https://redgifs.com/watch/blandordinarygar'\n",
      "[urllib3.connectionpool][debug] https://api.redgifs.com:443 \"GET /v2/gifs/blandordinarygar HTTP/1.1\" 200 None\n",
      "[urllib3.connectionpool][debug] https://thumbs2.redgifs.com:443 \"GET /BlandOrdinaryGar.mp4 HTTP/1.1\" 200 34619664\n"
     ]
    },
    {
     "name": "stdout",
     "output_type": "stream",
     "text": [
      "nvme_drive/scraped_files/20220821-003129-reddit/redgifs/redgifs_blandordinarygar.mp4\n"
     ]
    },
    {
     "name": "stderr",
     "output_type": "stream",
     "text": [
      "[535/997] https://www.redgifs.com/watch/untriedecstatickoi\n",
      "[gallery-dl][debug] Starting DownloadJob for 'https://www.redgifs.com/watch/untriedecstatickoi'\n",
      "[redgifs][debug] Using RedgifsImageExtractor for 'https://www.redgifs.com/watch/untriedecstatickoi'\n",
      "[urllib3.connectionpool][debug] https://api.redgifs.com:443 \"GET /v2/gifs/untriedecstatickoi HTTP/1.1\" 200 None\n",
      "[urllib3.connectionpool][debug] https://thumbs2.redgifs.com:443 \"GET /UntriedEcstaticKoi.mp4 HTTP/1.1\" 200 7645106\n"
     ]
    },
    {
     "name": "stdout",
     "output_type": "stream",
     "text": [
      "nvme_drive/scraped_files/20220821-003129-reddit/redgifs/redgifs_untriedecstatickoi.mp4\n"
     ]
    },
    {
     "name": "stderr",
     "output_type": "stream",
     "text": [
      "[536/997] https://i.redd.it/mfq19ru6qli91.gif\n",
      "[gallery-dl][debug] Starting DownloadJob for 'https://i.redd.it/mfq19ru6qli91.gif'\n",
      "[reddit][debug] Using RedditImageExtractor for 'https://i.redd.it/mfq19ru6qli91.gif'\n",
      "[urllib3.connectionpool][debug] https://i.redd.it:443 \"GET /mfq19ru6qli91.gif HTTP/1.1\" 200 2325890\n"
     ]
    },
    {
     "name": "stdout",
     "output_type": "stream",
     "text": [
      "nvme_drive/scraped_files/20220821-003129-reddit/reddit/mfq19ru6qli91.gif\n",
      "nvme_drive/scraped_files/20220821-003129-reddit/imgur/imgur_obNdJeH_Not sure how chairs work....jpg\n"
     ]
    },
    {
     "name": "stderr",
     "output_type": "stream",
     "text": [
      "[537/997] https://i.imgur.com/obNdJeH.jpg\n",
      "[gallery-dl][debug] Starting DownloadJob for 'https://i.imgur.com/obNdJeH.jpg'\n",
      "[imgur][debug] Using ImgurImageExtractor for 'https://i.imgur.com/obNdJeH.jpg'\n",
      "[urllib3.connectionpool][debug] https://api.imgur.com:443 \"GET /post/v1/media/obNdJeH?include=media%2Ctags%2Caccount HTTP/1.1\" 200 463\n",
      "[urllib3.connectionpool][debug] https://i.imgur.com:443 \"GET /obNdJeH.jpg HTTP/1.1\" 200 177431\n",
      "[538/997] https://i.imgur.com/QCLTUfY.jpg\n",
      "[gallery-dl][debug] Starting DownloadJob for 'https://i.imgur.com/QCLTUfY.jpg'\n",
      "[imgur][debug] Using ImgurImageExtractor for 'https://i.imgur.com/QCLTUfY.jpg'\n",
      "[urllib3.connectionpool][debug] https://api.imgur.com:443 \"GET /post/v1/media/QCLTUfY?include=media%2Ctags%2Caccount HTTP/1.1\" 200 476\n",
      "[urllib3.connectionpool][debug] https://i.imgur.com:443 \"GET /QCLTUfY.jpg HTTP/1.1\" 200 813490\n",
      "[539/997] https://i.redd.it/o1a0myynz8e91.jpg\n",
      "[gallery-dl][debug] Starting DownloadJob for 'https://i.redd.it/o1a0myynz8e91.jpg'\n",
      "[reddit][debug] Using RedditImageExtractor for 'https://i.redd.it/o1a0myynz8e91.jpg'\n",
      "[urllib3.connectionpool][debug] https://i.redd.it:443 \"GET /o1a0myynz8e91.jpg HTTP/1.1\" 200 198867\n",
      "[540/997] https://i.imgur.com/V10ijzg.jpeg\n",
      "[gallery-dl][debug] Starting DownloadJob for 'https://i.imgur.com/V10ijzg.jpeg'\n",
      "[imgur][debug] Using ImgurImageExtractor for 'https://i.imgur.com/V10ijzg.jpeg'\n"
     ]
    },
    {
     "name": "stdout",
     "output_type": "stream",
     "text": [
      "nvme_drive/scraped_files/20220821-003129-reddit/imgur/imgur_QCLTUfY_Nothing but heels.jpg\n",
      "nvme_drive/scraped_files/20220821-003129-reddit/reddit/o1a0myynz8e91.jpg\n"
     ]
    },
    {
     "name": "stderr",
     "output_type": "stream",
     "text": [
      "[urllib3.connectionpool][debug] https://api.imgur.com:443 \"GET /post/v1/media/V10ijzg?include=media%2Ctags%2Caccount HTTP/1.1\" 200 500\n",
      "[urllib3.connectionpool][debug] https://i.imgur.com:443 \"GET /V10ijzg.jpg HTTP/1.1\" 200 2072250\n"
     ]
    },
    {
     "name": "stdout",
     "output_type": "stream",
     "text": [
      "nvme_drive/scraped_files/20220821-003129-reddit/imgur/imgur_V10ijzg_Helga Lovekaty.jpg\n"
     ]
    },
    {
     "name": "stderr",
     "output_type": "stream",
     "text": [
      "[541/997] https://i.imgur.com/OYKGDpV.jpg\n",
      "[gallery-dl][debug] Starting DownloadJob for 'https://i.imgur.com/OYKGDpV.jpg'\n",
      "[imgur][debug] Using ImgurImageExtractor for 'https://i.imgur.com/OYKGDpV.jpg'\n",
      "[urllib3.connectionpool][debug] https://api.imgur.com:443 \"GET /post/v1/media/OYKGDpV?include=media%2Ctags%2Caccount HTTP/1.1\" 200 507\n",
      "[urllib3.connectionpool][debug] https://i.imgur.com:443 \"GET /OYKGDpV.jpg HTTP/1.1\" 200 1845294\n"
     ]
    },
    {
     "name": "stdout",
     "output_type": "stream",
     "text": [
      "nvme_drive/scraped_files/20220821-003129-reddit/imgur/imgur_OYKGDpV_Morning bliss.jpg\n"
     ]
    },
    {
     "name": "stderr",
     "output_type": "stream",
     "text": [
      "[542/997] https://redgifs.com/watch/marriedgraciousicelandicsheepdog\n",
      "[gallery-dl][debug] Starting DownloadJob for 'https://redgifs.com/watch/marriedgraciousicelandicsheepdog'\n",
      "[redgifs][debug] Using RedgifsImageExtractor for 'https://redgifs.com/watch/marriedgraciousicelandicsheepdog'\n",
      "[urllib3.connectionpool][debug] https://api.redgifs.com:443 \"GET /v2/gifs/marriedgraciousicelandicsheepdog HTTP/1.1\" 200 None\n",
      "[urllib3.connectionpool][debug] https://thumbs2.redgifs.com:443 \"GET /MarriedGraciousIcelandicsheepdog.mp4 HTTP/1.1\" 200 15837721\n"
     ]
    },
    {
     "name": "stdout",
     "output_type": "stream",
     "text": [
      "nvme_drive/scraped_files/20220821-003129-reddit/redgifs/redgifs_marriedgraciousicelandicsheepdog.mp4\n"
     ]
    },
    {
     "name": "stderr",
     "output_type": "stream",
     "text": [
      "[543/997] https://redgifs.com/watch/worstdarkslategraymarlin\n",
      "[gallery-dl][debug] Starting DownloadJob for 'https://redgifs.com/watch/worstdarkslategraymarlin'\n",
      "[redgifs][debug] Using RedgifsImageExtractor for 'https://redgifs.com/watch/worstdarkslategraymarlin'\n",
      "[urllib3.connectionpool][debug] https://api.redgifs.com:443 \"GET /v2/gifs/worstdarkslategraymarlin HTTP/1.1\" 200 None\n",
      "[urllib3.connectionpool][debug] https://thumbs2.redgifs.com:443 \"GET /WorstDarkslategrayMarlin.mp4 HTTP/1.1\" 200 16153545\n"
     ]
    },
    {
     "name": "stdout",
     "output_type": "stream",
     "text": [
      "nvme_drive/scraped_files/20220821-003129-reddit/redgifs/redgifs_worstdarkslategraymarlin.mp4\n"
     ]
    },
    {
     "name": "stderr",
     "output_type": "stream",
     "text": [
      "[544/997] https://i.imgur.com/kh7QjSd.jpg\n",
      "[gallery-dl][debug] Starting DownloadJob for 'https://i.imgur.com/kh7QjSd.jpg'\n",
      "[imgur][debug] Using ImgurImageExtractor for 'https://i.imgur.com/kh7QjSd.jpg'\n",
      "[urllib3.connectionpool][debug] https://api.imgur.com:443 \"GET /post/v1/media/kh7QjSd?include=media%2Ctags%2Caccount HTTP/1.1\" 200 457\n",
      "[urllib3.connectionpool][debug] https://i.imgur.com:443 \"GET /kh7QjSd.jpg HTTP/1.1\" 200 2665675\n"
     ]
    },
    {
     "name": "stdout",
     "output_type": "stream",
     "text": [
      "nvme_drive/scraped_files/20220821-003129-reddit/imgur/imgur_kh7QjSd_Pondering the puzzle.jpg\n",
      "nvme_drive/scraped_files/20220821-003129-reddit/imgur/imgur_xLPSIaH_Oiled up kissing beauties.jpg\n"
     ]
    },
    {
     "name": "stderr",
     "output_type": "stream",
     "text": [
      "[545/997] https://i.imgur.com/xLPSIaH.jpg?1\n",
      "[gallery-dl][debug] Starting DownloadJob for 'https://i.imgur.com/xLPSIaH.jpg?1'\n",
      "[imgur][debug] Using ImgurImageExtractor for 'https://i.imgur.com/xLPSIaH.jpg?1'\n",
      "[urllib3.connectionpool][debug] https://api.imgur.com:443 \"GET /post/v1/media/xLPSIaH?include=media%2Ctags%2Caccount HTTP/1.1\" 200 472\n",
      "[urllib3.connectionpool][debug] https://i.imgur.com:443 \"GET /xLPSIaH.jpg HTTP/1.1\" 200 55564\n",
      "[546/997] https://i.imgur.com/i7RfLLS.jpg\n",
      "[gallery-dl][debug] Starting DownloadJob for 'https://i.imgur.com/i7RfLLS.jpg'\n",
      "[imgur][debug] Using ImgurImageExtractor for 'https://i.imgur.com/i7RfLLS.jpg'\n",
      "[urllib3.connectionpool][debug] https://api.imgur.com:443 \"GET /post/v1/media/i7RfLLS?include=media%2Ctags%2Caccount HTTP/1.1\" 200 480\n",
      "[urllib3.connectionpool][debug] https://i.imgur.com:443 \"GET /i7RfLLS.jpg HTTP/1.1\" 200 3681083\n"
     ]
    },
    {
     "name": "stdout",
     "output_type": "stream",
     "text": [
      "nvme_drive/scraped_files/20220821-003129-reddit/imgur/imgur_i7RfLLS_Not your typical picnic in the field.jpg\n"
     ]
    },
    {
     "name": "stderr",
     "output_type": "stream",
     "text": [
      "[547/997] http://i.imgur.com/gA2Md43.gifv\n",
      "[gallery-dl][debug] Starting DownloadJob for 'http://i.imgur.com/gA2Md43.gifv'\n",
      "[imgur][debug] Using ImgurImageExtractor for 'http://i.imgur.com/gA2Md43.gifv'\n",
      "[urllib3.connectionpool][debug] https://api.imgur.com:443 \"GET /post/v1/media/gA2Md43?include=media%2Ctags%2Caccount HTTP/1.1\" 200 467\n",
      "[urllib3.connectionpool][debug] https://i.imgur.com:443 \"GET /gA2Md43.mp4 HTTP/1.1\" 200 4325348\n"
     ]
    },
    {
     "name": "stdout",
     "output_type": "stream",
     "text": [
      "nvme_drive/scraped_files/20220821-003129-reddit/imgur/imgur_gA2Md43_pussy is a work of art.mp4\n"
     ]
    },
    {
     "name": "stderr",
     "output_type": "stream",
     "text": [
      "[548/997] https://i.imgur.com/cmNpavF.gifv\n",
      "[gallery-dl][debug] Starting DownloadJob for 'https://i.imgur.com/cmNpavF.gifv'\n",
      "[imgur][debug] Using ImgurImageExtractor for 'https://i.imgur.com/cmNpavF.gifv'\n",
      "[urllib3.connectionpool][debug] https://api.imgur.com:443 \"GET /post/v1/media/cmNpavF?include=media%2Ctags%2Caccount HTTP/1.1\" 200 460\n",
      "[urllib3.connectionpool][debug] https://i.imgur.com:443 \"GET /cmNpavF.mp4 HTTP/1.1\" 200 21168207\n"
     ]
    },
    {
     "name": "stdout",
     "output_type": "stream",
     "text": [
      "nvme_drive/scraped_files/20220821-003129-reddit/imgur/imgur_cmNpavF_taking a dip.mp4\n",
      "nvme_drive/scraped_files/20220821-003129-reddit/imgur/imgur_S5qLkI0_Beautiful ginger showing off.jpg\n"
     ]
    },
    {
     "name": "stderr",
     "output_type": "stream",
     "text": [
      "[549/997] https://i.imgur.com/S5qLkI0.jpg\n",
      "[gallery-dl][debug] Starting DownloadJob for 'https://i.imgur.com/S5qLkI0.jpg'\n",
      "[imgur][debug] Using ImgurImageExtractor for 'https://i.imgur.com/S5qLkI0.jpg'\n",
      "[urllib3.connectionpool][debug] https://api.imgur.com:443 \"GET /post/v1/media/S5qLkI0?include=media%2Ctags%2Caccount HTTP/1.1\" 200 463\n",
      "[urllib3.connectionpool][debug] https://i.imgur.com:443 \"GET /S5qLkI0.jpg HTTP/1.1\" 200 79319\n",
      "[550/997] https://i.redd.it/nkr3338vs9d91.jpg\n",
      "[gallery-dl][debug] Starting DownloadJob for 'https://i.redd.it/nkr3338vs9d91.jpg'\n",
      "[reddit][debug] Using RedditImageExtractor for 'https://i.redd.it/nkr3338vs9d91.jpg'\n",
      "[urllib3.connectionpool][debug] https://i.redd.it:443 \"GET /nkr3338vs9d91.jpg HTTP/1.1\" 200 431699\n"
     ]
    },
    {
     "name": "stdout",
     "output_type": "stream",
     "text": [
      "nvme_drive/scraped_files/20220821-003129-reddit/reddit/nkr3338vs9d91.jpg\n"
     ]
    },
    {
     "name": "stderr",
     "output_type": "stream",
     "text": [
      "[551/997] https://www.redgifs.com/watch/treasuredbeigexenopus\n",
      "[gallery-dl][debug] Starting DownloadJob for 'https://www.redgifs.com/watch/treasuredbeigexenopus'\n",
      "[redgifs][debug] Using RedgifsImageExtractor for 'https://www.redgifs.com/watch/treasuredbeigexenopus'\n",
      "[urllib3.connectionpool][debug] https://api.redgifs.com:443 \"GET /v2/gifs/treasuredbeigexenopus HTTP/1.1\" 200 None\n",
      "[urllib3.connectionpool][debug] https://thumbs2.redgifs.com:443 \"GET /TreasuredBeigeXenopus.mp4 HTTP/1.1\" 200 57387363\n"
     ]
    },
    {
     "name": "stdout",
     "output_type": "stream",
     "text": [
      "nvme_drive/scraped_files/20220821-003129-reddit/redgifs/redgifs_treasuredbeigexenopus.mp4\n"
     ]
    },
    {
     "name": "stderr",
     "output_type": "stream",
     "text": [
      "[552/997] https://i.redd.it/2harrf4xqfe91.gif\n",
      "[gallery-dl][debug] Starting DownloadJob for 'https://i.redd.it/2harrf4xqfe91.gif'\n",
      "[reddit][debug] Using RedditImageExtractor for 'https://i.redd.it/2harrf4xqfe91.gif'\n",
      "[urllib3.connectionpool][debug] https://i.redd.it:443 \"GET /2harrf4xqfe91.gif HTTP/1.1\" 200 1376771\n"
     ]
    },
    {
     "name": "stdout",
     "output_type": "stream",
     "text": [
      "nvme_drive/scraped_files/20220821-003129-reddit/reddit/2harrf4xqfe91.gif\n",
      "nvme_drive/scraped_files/20220821-003129-reddit/reddit/icsl8fa4ixh91.jpg\n",
      "nvme_drive/scraped_files/20220821-003129-reddit/reddit/wn8bblcxkah91.jpg\n",
      "nvme_drive/scraped_files/20220821-003129-reddit/reddit/pyafdmpt6ge91.jpg\n"
     ]
    },
    {
     "name": "stderr",
     "output_type": "stream",
     "text": [
      "[553/997] https://i.redd.it/icsl8fa4ixh91.jpg\n",
      "[gallery-dl][debug] Starting DownloadJob for 'https://i.redd.it/icsl8fa4ixh91.jpg'\n",
      "[reddit][debug] Using RedditImageExtractor for 'https://i.redd.it/icsl8fa4ixh91.jpg'\n",
      "[urllib3.connectionpool][debug] https://i.redd.it:443 \"GET /icsl8fa4ixh91.jpg HTTP/1.1\" 200 299023\n",
      "[554/997] https://i.redd.it/wn8bblcxkah91.jpg\n",
      "[gallery-dl][debug] Starting DownloadJob for 'https://i.redd.it/wn8bblcxkah91.jpg'\n",
      "[reddit][debug] Using RedditImageExtractor for 'https://i.redd.it/wn8bblcxkah91.jpg'\n",
      "[urllib3.connectionpool][debug] https://i.redd.it:443 \"GET /wn8bblcxkah91.jpg HTTP/1.1\" 200 652934\n",
      "[555/997] https://i.redd.it/pyafdmpt6ge91.jpg\n",
      "[gallery-dl][debug] Starting DownloadJob for 'https://i.redd.it/pyafdmpt6ge91.jpg'\n",
      "[reddit][debug] Using RedditImageExtractor for 'https://i.redd.it/pyafdmpt6ge91.jpg'\n",
      "[urllib3.connectionpool][debug] https://i.redd.it:443 \"GET /pyafdmpt6ge91.jpg HTTP/1.1\" 200 129724\n",
      "[556/997] https://i.redd.it/zer3k1mkq9d91.jpg\n",
      "[gallery-dl][debug] Starting DownloadJob for 'https://i.redd.it/zer3k1mkq9d91.jpg'\n",
      "[reddit][debug] Using RedditImageExtractor for 'https://i.redd.it/zer3k1mkq9d91.jpg'\n",
      "[urllib3.connectionpool][debug] https://i.redd.it:443 \"GET /zer3k1mkq9d91.jpg HTTP/1.1\" 200 358205\n",
      "[557/997] https://i.imgur.com/X51zKlK.jpg\n",
      "[gallery-dl][debug] Starting DownloadJob for 'https://i.imgur.com/X51zKlK.jpg'\n",
      "[imgur][debug] Using ImgurImageExtractor for 'https://i.imgur.com/X51zKlK.jpg'\n",
      "[urllib3.connectionpool][debug] https://api.imgur.com:443 \"GET /post/v1/media/X51zKlK?include=media%2Ctags%2Caccount HTTP/1.1\" 200 513\n",
      "[urllib3.connectionpool][debug] https://i.imgur.com:443 \"GET /X51zKlK.jpg HTTP/1.1\" 200 488798\n"
     ]
    },
    {
     "name": "stdout",
     "output_type": "stream",
     "text": [
      "nvme_drive/scraped_files/20220821-003129-reddit/reddit/zer3k1mkq9d91.jpg\n",
      "nvme_drive/scraped_files/20220821-003129-reddit/imgur/imgur_X51zKlK_Sunlit.jpg\n"
     ]
    },
    {
     "name": "stderr",
     "output_type": "stream",
     "text": [
      "[558/997] https://i.imgur.com/p90vA5Y.jpg\n",
      "[gallery-dl][debug] Starting DownloadJob for 'https://i.imgur.com/p90vA5Y.jpg'\n",
      "[imgur][debug] Using ImgurImageExtractor for 'https://i.imgur.com/p90vA5Y.jpg'\n",
      "[urllib3.connectionpool][debug] https://api.imgur.com:443 \"GET /post/v1/media/p90vA5Y?include=media%2Ctags%2Caccount HTTP/1.1\" 200 445\n",
      "[urllib3.connectionpool][debug] https://i.imgur.com:443 \"GET /p90vA5Y.jpg HTTP/1.1\" 200 383637\n"
     ]
    },
    {
     "name": "stdout",
     "output_type": "stream",
     "text": [
      "nvme_drive/scraped_files/20220821-003129-reddit/imgur/imgur_p90vA5Y_Sybil.jpg\n"
     ]
    },
    {
     "name": "stderr",
     "output_type": "stream",
     "text": [
      "[559/997] http://i.imgur.com/VIfuuIh.gifv\n",
      "[gallery-dl][debug] Starting DownloadJob for 'http://i.imgur.com/VIfuuIh.gifv'\n",
      "[imgur][debug] Using ImgurImageExtractor for 'http://i.imgur.com/VIfuuIh.gifv'\n",
      "[urllib3.connectionpool][debug] https://api.imgur.com:443 \"GET /post/v1/media/VIfuuIh?include=media%2Ctags%2Caccount HTTP/1.1\" 200 465\n",
      "[urllib3.connectionpool][debug] https://i.imgur.com:443 \"GET /VIfuuIh.mp4 HTTP/1.1\" 200 4220005\n"
     ]
    },
    {
     "name": "stdout",
     "output_type": "stream",
     "text": [
      "nvme_drive/scraped_files/20220821-003129-reddit/imgur/imgur_VIfuuIh_cameltoes are so hot.mp4\n"
     ]
    },
    {
     "name": "stderr",
     "output_type": "stream",
     "text": [
      "[560/997] https://i.imgur.com/19xB9Ky.jpg\n",
      "[gallery-dl][debug] Starting DownloadJob for 'https://i.imgur.com/19xB9Ky.jpg'\n",
      "[imgur][debug] Using ImgurImageExtractor for 'https://i.imgur.com/19xB9Ky.jpg'\n",
      "[urllib3.connectionpool][debug] https://api.imgur.com:443 \"GET /post/v1/media/19xB9Ky?include=media%2Ctags%2Caccount HTTP/1.1\" 200 447\n",
      "[urllib3.connectionpool][debug] https://i.imgur.com:443 \"GET /19xB9Ky.jpg HTTP/1.1\" 200 255546\n",
      "[561/997] https://i.imgur.com/aj3B5x5.jpg\n",
      "[gallery-dl][debug] Starting DownloadJob for 'https://i.imgur.com/aj3B5x5.jpg'\n",
      "[imgur][debug] Using ImgurImageExtractor for 'https://i.imgur.com/aj3B5x5.jpg'\n",
      "[urllib3.connectionpool][debug] https://api.imgur.com:443 \"GET /post/v1/media/aj3B5x5?include=media%2Ctags%2Caccount HTTP/1.1\" 200 465\n"
     ]
    },
    {
     "name": "stdout",
     "output_type": "stream",
     "text": [
      "nvme_drive/scraped_files/20220821-003129-reddit/imgur/imgur_19xB9Ky_Yukiko.jpg\n"
     ]
    },
    {
     "name": "stderr",
     "output_type": "stream",
     "text": [
      "[urllib3.connectionpool][debug] https://i.imgur.com:443 \"GET /aj3B5x5.jpg HTTP/1.1\" 200 112874\n",
      "[562/997] https://i.imgur.com/kgAX6xZ.jpg\n",
      "[gallery-dl][debug] Starting DownloadJob for 'https://i.imgur.com/kgAX6xZ.jpg'\n",
      "[imgur][debug] Using ImgurImageExtractor for 'https://i.imgur.com/kgAX6xZ.jpg'\n",
      "[urllib3.connectionpool][debug] https://api.imgur.com:443 \"GET /post/v1/media/kgAX6xZ?include=media%2Ctags%2Caccount HTTP/1.1\" 200 473\n",
      "[urllib3.connectionpool][debug] https://i.imgur.com:443 \"GET /kgAX6xZ.jpg HTTP/1.1\" 200 175184\n",
      "[563/997] https://i.imgur.com/kW7dAMb.jpg\n",
      "[gallery-dl][debug] Starting DownloadJob for 'https://i.imgur.com/kW7dAMb.jpg'\n",
      "[imgur][debug] Using ImgurImageExtractor for 'https://i.imgur.com/kW7dAMb.jpg'\n"
     ]
    },
    {
     "name": "stdout",
     "output_type": "stream",
     "text": [
      "nvme_drive/scraped_files/20220821-003129-reddit/imgur/imgur_aj3B5x5_Katya (top) vs Katr1n (bottom).jpg\n",
      "nvme_drive/scraped_files/20220821-003129-reddit/imgur/imgur_kgAX6xZ_Asian Bimbo.jpg\n"
     ]
    },
    {
     "name": "stderr",
     "output_type": "stream",
     "text": [
      "[urllib3.connectionpool][debug] https://api.imgur.com:443 \"GET /post/v1/media/kW7dAMb?include=media%2Ctags%2Caccount HTTP/1.1\" 200 474\n",
      "[urllib3.connectionpool][debug] https://i.imgur.com:443 \"GET /kW7dAMb.jpg HTTP/1.1\" 200 871481\n",
      "[564/997] https://i.imgur.com/uIfpvrg.jpg\n",
      "[gallery-dl][debug] Starting DownloadJob for 'https://i.imgur.com/uIfpvrg.jpg'\n",
      "[imgur][debug] Using ImgurImageExtractor for 'https://i.imgur.com/uIfpvrg.jpg'\n"
     ]
    },
    {
     "name": "stdout",
     "output_type": "stream",
     "text": [
      "nvme_drive/scraped_files/20220821-003129-reddit/imgur/imgur_kW7dAMb_Pink panties.jpg\n"
     ]
    },
    {
     "name": "stderr",
     "output_type": "stream",
     "text": [
      "[urllib3.connectionpool][debug] https://api.imgur.com:443 \"GET /post/v1/media/uIfpvrg?include=media%2Ctags%2Caccount HTTP/1.1\" 200 477\n",
      "[urllib3.connectionpool][debug] https://i.imgur.com:443 \"GET /uIfpvrg.jpg HTTP/1.1\" 200 327472\n"
     ]
    },
    {
     "name": "stdout",
     "output_type": "stream",
     "text": [
      "nvme_drive/scraped_files/20220821-003129-reddit/imgur/imgur_uIfpvrg_Tiny little top.jpg\n"
     ]
    },
    {
     "name": "stderr",
     "output_type": "stream",
     "text": [
      "[565/997] https://redgifs.com/watch/mindlesscaninewhitetippedreefshark\n",
      "[gallery-dl][debug] Starting DownloadJob for 'https://redgifs.com/watch/mindlesscaninewhitetippedreefshark'\n",
      "[redgifs][debug] Using RedgifsImageExtractor for 'https://redgifs.com/watch/mindlesscaninewhitetippedreefshark'\n",
      "[urllib3.connectionpool][debug] https://api.redgifs.com:443 \"GET /v2/gifs/mindlesscaninewhitetippedreefshark HTTP/1.1\" 200 None\n",
      "[urllib3.connectionpool][debug] https://thumbs2.redgifs.com:443 \"GET /MindlessCanineWhitetippedreefshark.mp4 HTTP/1.1\" 200 33875838\n"
     ]
    },
    {
     "name": "stdout",
     "output_type": "stream",
     "text": [
      "nvme_drive/scraped_files/20220821-003129-reddit/redgifs/redgifs_mindlesscaninewhitetippedreefshark.mp4\n",
      "nvme_drive/scraped_files/20220821-003129-reddit/reddit/65sjq94o86e91.jpg\n",
      "nvme_drive/scraped_files/20220821-003129-reddit/imgur/imgur_S7MIfT7_A trio at the beach.jpg\n"
     ]
    },
    {
     "name": "stderr",
     "output_type": "stream",
     "text": [
      "[566/997] https://i.redd.it/65sjq94o86e91.jpg\n",
      "[gallery-dl][debug] Starting DownloadJob for 'https://i.redd.it/65sjq94o86e91.jpg'\n",
      "[reddit][debug] Using RedditImageExtractor for 'https://i.redd.it/65sjq94o86e91.jpg'\n",
      "[urllib3.connectionpool][debug] https://i.redd.it:443 \"GET /65sjq94o86e91.jpg HTTP/1.1\" 200 37506\n",
      "[567/997] https://i.imgur.com/S7MIfT7.jpg\n",
      "[gallery-dl][debug] Starting DownloadJob for 'https://i.imgur.com/S7MIfT7.jpg'\n",
      "[imgur][debug] Using ImgurImageExtractor for 'https://i.imgur.com/S7MIfT7.jpg'\n",
      "[urllib3.connectionpool][debug] https://api.imgur.com:443 \"GET /post/v1/media/S7MIfT7?include=media%2Ctags%2Caccount HTTP/1.1\" 200 481\n",
      "[urllib3.connectionpool][debug] https://i.imgur.com:443 \"GET /S7MIfT7.jpg HTTP/1.1\" 200 111216\n",
      "[568/997] https://i.imgur.com/OsHMa9S.gifv\n",
      "[gallery-dl][debug] Starting DownloadJob for 'https://i.imgur.com/OsHMa9S.gifv'\n",
      "[imgur][debug] Using ImgurImageExtractor for 'https://i.imgur.com/OsHMa9S.gifv'\n",
      "[urllib3.connectionpool][debug] https://api.imgur.com:443 \"GET /post/v1/media/OsHMa9S?include=media%2Ctags%2Caccount HTTP/1.1\" 200 454\n",
      "[urllib3.connectionpool][debug] https://i.imgur.com:443 \"GET /OsHMa9S.mp4 HTTP/1.1\" 200 8552155\n"
     ]
    },
    {
     "name": "stdout",
     "output_type": "stream",
     "text": [
      "nvme_drive/scraped_files/20220821-003129-reddit/imgur/imgur_OsHMa9S_Amazing.mp4\n",
      "nvme_drive/scraped_files/20220821-003129-reddit/reddit/qtbn8lhap5h91.jpg\n"
     ]
    },
    {
     "name": "stderr",
     "output_type": "stream",
     "text": [
      "[569/997] https://i.redd.it/qtbn8lhap5h91.jpg\n",
      "[gallery-dl][debug] Starting DownloadJob for 'https://i.redd.it/qtbn8lhap5h91.jpg'\n",
      "[reddit][debug] Using RedditImageExtractor for 'https://i.redd.it/qtbn8lhap5h91.jpg'\n",
      "[urllib3.connectionpool][debug] https://i.redd.it:443 \"GET /qtbn8lhap5h91.jpg HTTP/1.1\" 200 67130\n",
      "[570/997] https://www.redgifs.com/watch/wittyfruitfulangelwingmussel\n",
      "[gallery-dl][debug] Starting DownloadJob for 'https://www.redgifs.com/watch/wittyfruitfulangelwingmussel'\n",
      "[redgifs][debug] Using RedgifsImageExtractor for 'https://www.redgifs.com/watch/wittyfruitfulangelwingmussel'\n",
      "[urllib3.connectionpool][debug] https://api.redgifs.com:443 \"GET /v2/gifs/wittyfruitfulangelwingmussel HTTP/1.1\" 200 None\n",
      "[urllib3.connectionpool][debug] https://thumbs2.redgifs.com:443 \"GET /WittyFruitfulAngelwingmussel.mp4 HTTP/1.1\" 200 61393270\n"
     ]
    },
    {
     "name": "stdout",
     "output_type": "stream",
     "text": [
      "nvme_drive/scraped_files/20220821-003129-reddit/redgifs/redgifs_wittyfruitfulangelwingmussel.mp4\n"
     ]
    },
    {
     "name": "stderr",
     "output_type": "stream",
     "text": [
      "[571/997] https://i.imgur.com/MSmlslp.jpg\n",
      "[gallery-dl][debug] Starting DownloadJob for 'https://i.imgur.com/MSmlslp.jpg'\n",
      "[imgur][debug] Using ImgurImageExtractor for 'https://i.imgur.com/MSmlslp.jpg'\n",
      "[urllib3.connectionpool][debug] https://api.imgur.com:443 \"GET /post/v1/media/MSmlslp?include=media%2Ctags%2Caccount HTTP/1.1\" 200 449\n",
      "[urllib3.connectionpool][debug] https://i.imgur.com:443 \"GET /MSmlslp.jpg HTTP/1.1\" 200 118078\n",
      "[572/997] https://redgifs.com/watch/specificflawlessemperorshrimp\n",
      "[gallery-dl][debug] Starting DownloadJob for 'https://redgifs.com/watch/specificflawlessemperorshrimp'\n",
      "[redgifs][debug] Using RedgifsImageExtractor for 'https://redgifs.com/watch/specificflawlessemperorshrimp'\n",
      "[urllib3.connectionpool][debug] https://api.redgifs.com:443 \"GET /v2/gifs/specificflawlessemperorshrimp HTTP/1.1\" 200 None\n"
     ]
    },
    {
     "name": "stdout",
     "output_type": "stream",
     "text": [
      "nvme_drive/scraped_files/20220821-003129-reddit/imgur/imgur_MSmlslp_Sexy Selfie.jpg\n"
     ]
    },
    {
     "name": "stderr",
     "output_type": "stream",
     "text": [
      "[urllib3.connectionpool][debug] https://thumbs2.redgifs.com:443 \"GET /SpecificFlawlessEmperorshrimp.mp4 HTTP/1.1\" 200 18762456\n"
     ]
    },
    {
     "name": "stdout",
     "output_type": "stream",
     "text": [
      "nvme_drive/scraped_files/20220821-003129-reddit/redgifs/redgifs_specificflawlessemperorshrimp.mp4\n",
      "nvme_drive/scraped_files/20220821-003129-reddit/reddit/p8jajurdnjg91.jpg\n",
      "nvme_drive/scraped_files/20220821-003129-reddit/reddit/b1cvobzkmji91.jpg\n"
     ]
    },
    {
     "name": "stderr",
     "output_type": "stream",
     "text": [
      "[573/997] https://i.redd.it/p8jajurdnjg91.jpg\n",
      "[gallery-dl][debug] Starting DownloadJob for 'https://i.redd.it/p8jajurdnjg91.jpg'\n",
      "[reddit][debug] Using RedditImageExtractor for 'https://i.redd.it/p8jajurdnjg91.jpg'\n",
      "[urllib3.connectionpool][debug] https://i.redd.it:443 \"GET /p8jajurdnjg91.jpg HTTP/1.1\" 200 940046\n",
      "[574/997] https://i.redd.it/b1cvobzkmji91.jpg\n",
      "[gallery-dl][debug] Starting DownloadJob for 'https://i.redd.it/b1cvobzkmji91.jpg'\n",
      "[reddit][debug] Using RedditImageExtractor for 'https://i.redd.it/b1cvobzkmji91.jpg'\n",
      "[urllib3.connectionpool][debug] https://i.redd.it:443 \"GET /b1cvobzkmji91.jpg HTTP/1.1\" 200 68273\n",
      "[575/997] https://www.redgifs.com/watch/scaredstimulatingbarb\n",
      "[gallery-dl][debug] Starting DownloadJob for 'https://www.redgifs.com/watch/scaredstimulatingbarb'\n",
      "[redgifs][debug] Using RedgifsImageExtractor for 'https://www.redgifs.com/watch/scaredstimulatingbarb'\n",
      "[urllib3.connectionpool][debug] https://api.redgifs.com:443 \"GET /v2/gifs/scaredstimulatingbarb HTTP/1.1\" 200 None\n",
      "[urllib3.connectionpool][debug] https://thumbs2.redgifs.com:443 \"GET /ScaredStimulatingBarb.mp4 HTTP/1.1\" 200 14391832\n"
     ]
    },
    {
     "name": "stdout",
     "output_type": "stream",
     "text": [
      "nvme_drive/scraped_files/20220821-003129-reddit/redgifs/redgifs_scaredstimulatingbarb.mp4\n"
     ]
    },
    {
     "name": "stderr",
     "output_type": "stream",
     "text": [
      "[576/997] https://redgifs.com/watch/thirdluminousgroundhog\n",
      "[gallery-dl][debug] Starting DownloadJob for 'https://redgifs.com/watch/thirdluminousgroundhog'\n",
      "[redgifs][debug] Using RedgifsImageExtractor for 'https://redgifs.com/watch/thirdluminousgroundhog'\n",
      "[urllib3.connectionpool][debug] https://api.redgifs.com:443 \"GET /v2/gifs/thirdluminousgroundhog HTTP/1.1\" 200 None\n",
      "[urllib3.connectionpool][debug] https://thumbs2.redgifs.com:443 \"GET /ThirdLuminousGroundhog.mp4 HTTP/1.1\" 200 7291038\n"
     ]
    },
    {
     "name": "stdout",
     "output_type": "stream",
     "text": [
      "nvme_drive/scraped_files/20220821-003129-reddit/redgifs/redgifs_thirdluminousgroundhog.mp4\n"
     ]
    },
    {
     "name": "stderr",
     "output_type": "stream",
     "text": [
      "[577/997] https://redgifs.com/watch/positivethunderousnightjar\n",
      "[gallery-dl][debug] Starting DownloadJob for 'https://redgifs.com/watch/positivethunderousnightjar'\n",
      "[redgifs][debug] Using RedgifsImageExtractor for 'https://redgifs.com/watch/positivethunderousnightjar'\n",
      "[urllib3.connectionpool][debug] https://api.redgifs.com:443 \"GET /v2/gifs/positivethunderousnightjar HTTP/1.1\" 200 None\n",
      "[urllib3.connectionpool][debug] https://thumbs2.redgifs.com:443 \"GET /PositiveThunderousNightjar.mp4 HTTP/1.1\" 200 10772999\n"
     ]
    },
    {
     "name": "stdout",
     "output_type": "stream",
     "text": [
      "nvme_drive/scraped_files/20220821-003129-reddit/redgifs/redgifs_positivethunderousnightjar.mp4\n",
      "nvme_drive/scraped_files/20220821-003129-reddit/reddit/93xikb71c9291.jpg\n"
     ]
    },
    {
     "name": "stderr",
     "output_type": "stream",
     "text": [
      "[578/997] https://i.redd.it/93xikb71c9291.jpg\n",
      "[gallery-dl][debug] Starting DownloadJob for 'https://i.redd.it/93xikb71c9291.jpg'\n",
      "[reddit][debug] Using RedditImageExtractor for 'https://i.redd.it/93xikb71c9291.jpg'\n",
      "[urllib3.connectionpool][debug] https://i.redd.it:443 \"GET /93xikb71c9291.jpg HTTP/1.1\" 200 95609\n",
      "[579/997] https://redgifs.com/watch/handsomedarkorangeroebuck\n",
      "[gallery-dl][debug] Starting DownloadJob for 'https://redgifs.com/watch/handsomedarkorangeroebuck'\n",
      "[redgifs][debug] Using RedgifsImageExtractor for 'https://redgifs.com/watch/handsomedarkorangeroebuck'\n",
      "[urllib3.connectionpool][debug] https://api.redgifs.com:443 \"GET /v2/gifs/handsomedarkorangeroebuck HTTP/1.1\" 200 None\n",
      "[urllib3.connectionpool][debug] https://thumbs2.redgifs.com:443 \"GET /HandsomeDarkorangeRoebuck.mp4 HTTP/1.1\" 200 29504966\n"
     ]
    },
    {
     "name": "stdout",
     "output_type": "stream",
     "text": [
      "nvme_drive/scraped_files/20220821-003129-reddit/redgifs/redgifs_handsomedarkorangeroebuck.mp4\n"
     ]
    },
    {
     "name": "stderr",
     "output_type": "stream",
     "text": [
      "[580/997] https://redgifs.com/watch/positivebreakableimago\n",
      "[gallery-dl][debug] Starting DownloadJob for 'https://redgifs.com/watch/positivebreakableimago'\n",
      "[redgifs][debug] Using RedgifsImageExtractor for 'https://redgifs.com/watch/positivebreakableimago'\n",
      "[urllib3.connectionpool][debug] https://api.redgifs.com:443 \"GET /v2/gifs/positivebreakableimago HTTP/1.1\" 200 None\n",
      "[urllib3.connectionpool][debug] https://thumbs2.redgifs.com:443 \"GET /PositiveBreakableImago.mp4 HTTP/1.1\" 200 59348817\n"
     ]
    },
    {
     "name": "stdout",
     "output_type": "stream",
     "text": [
      "nvme_drive/scraped_files/20220821-003129-reddit/redgifs/redgifs_positivebreakableimago.mp4\n"
     ]
    },
    {
     "name": "stderr",
     "output_type": "stream",
     "text": [
      "[581/997] https://www.redgifs.com/watch/polishedstunningagouti\n",
      "[gallery-dl][debug] Starting DownloadJob for 'https://www.redgifs.com/watch/polishedstunningagouti'\n",
      "[redgifs][debug] Using RedgifsImageExtractor for 'https://www.redgifs.com/watch/polishedstunningagouti'\n",
      "[urllib3.connectionpool][debug] https://api.redgifs.com:443 \"GET /v2/gifs/polishedstunningagouti HTTP/1.1\" 200 None\n",
      "[urllib3.connectionpool][debug] https://thumbs2.redgifs.com:443 \"GET /PolishedStunningAgouti.mp4 HTTP/1.1\" 200 2146464\n"
     ]
    },
    {
     "name": "stdout",
     "output_type": "stream",
     "text": [
      "nvme_drive/scraped_files/20220821-003129-reddit/redgifs/redgifs_polishedstunningagouti.mp4\n",
      "nvme_drive/scraped_files/20220821-003129-reddit/imgur/imgur_AsNblsb_Caprice and Miela.jpg\n"
     ]
    },
    {
     "name": "stderr",
     "output_type": "stream",
     "text": [
      "[582/997] https://i.imgur.com/AsNblsb.jpg\n",
      "[gallery-dl][debug] Starting DownloadJob for 'https://i.imgur.com/AsNblsb.jpg'\n",
      "[imgur][debug] Using ImgurImageExtractor for 'https://i.imgur.com/AsNblsb.jpg'\n",
      "[urllib3.connectionpool][debug] https://api.imgur.com:443 \"GET /post/v1/media/AsNblsb?include=media%2Ctags%2Caccount HTTP/1.1\" 200 451\n",
      "[urllib3.connectionpool][debug] https://i.imgur.com:443 \"GET /AsNblsb.jpg HTTP/1.1\" 200 372905\n",
      "[583/997] https://i.redd.it/y5gd62drbif91.gif\n",
      "[gallery-dl][debug] Starting DownloadJob for 'https://i.redd.it/y5gd62drbif91.gif'\n",
      "[reddit][debug] Using RedditImageExtractor for 'https://i.redd.it/y5gd62drbif91.gif'\n",
      "[urllib3.connectionpool][debug] https://i.redd.it:443 \"GET /y5gd62drbif91.gif HTTP/1.1\" 200 507047\n"
     ]
    },
    {
     "name": "stdout",
     "output_type": "stream",
     "text": [
      "nvme_drive/scraped_files/20220821-003129-reddit/reddit/y5gd62drbif91.gif\n"
     ]
    },
    {
     "name": "stderr",
     "output_type": "stream",
     "text": [
      "[584/997] https://www.redgifs.com/watch/meeklivelyamericanshorthair\n",
      "[gallery-dl][debug] Starting DownloadJob for 'https://www.redgifs.com/watch/meeklivelyamericanshorthair'\n",
      "[redgifs][debug] Using RedgifsImageExtractor for 'https://www.redgifs.com/watch/meeklivelyamericanshorthair'\n",
      "[urllib3.connectionpool][debug] https://api.redgifs.com:443 \"GET /v2/gifs/meeklivelyamericanshorthair HTTP/1.1\" 200 None\n",
      "[urllib3.connectionpool][debug] https://thumbs2.redgifs.com:443 \"GET /MeekLivelyAmericanshorthair.mp4 HTTP/1.1\" 200 56559156\n"
     ]
    },
    {
     "name": "stdout",
     "output_type": "stream",
     "text": [
      "nvme_drive/scraped_files/20220821-003129-reddit/redgifs/redgifs_meeklivelyamericanshorthair.mp4\n"
     ]
    },
    {
     "name": "stderr",
     "output_type": "stream",
     "text": [
      "[585/997] https://i.imgur.com/t9P3tR4.jpg\n",
      "[gallery-dl][debug] Starting DownloadJob for 'https://i.imgur.com/t9P3tR4.jpg'\n",
      "[imgur][debug] Using ImgurImageExtractor for 'https://i.imgur.com/t9P3tR4.jpg'\n",
      "[urllib3.connectionpool][debug] https://api.imgur.com:443 \"GET /post/v1/media/t9P3tR4?include=media%2Ctags%2Caccount HTTP/1.1\" 200 463\n",
      "[urllib3.connectionpool][debug] https://i.imgur.com:443 \"GET /t9P3tR4.jpg HTTP/1.1\" 200 604692\n"
     ]
    },
    {
     "name": "stdout",
     "output_type": "stream",
     "text": [
      "nvme_drive/scraped_files/20220821-003129-reddit/imgur/imgur_t9P3tR4_Lil Red Riding Wood.jpg\n",
      "nvme_drive/scraped_files/20220821-003129-reddit/imgur/imgur_t922yP3_Change room boobs and tongue.jpg\n"
     ]
    },
    {
     "name": "stderr",
     "output_type": "stream",
     "text": [
      "[586/997] https://i.imgur.com/t922yP3.jpg\n",
      "[gallery-dl][debug] Starting DownloadJob for 'https://i.imgur.com/t922yP3.jpg'\n",
      "[imgur][debug] Using ImgurImageExtractor for 'https://i.imgur.com/t922yP3.jpg'\n",
      "[urllib3.connectionpool][debug] https://api.imgur.com:443 \"GET /post/v1/media/t922yP3?include=media%2Ctags%2Caccount HTTP/1.1\" 200 479\n",
      "[urllib3.connectionpool][debug] https://i.imgur.com:443 \"GET /t922yP3.jpg HTTP/1.1\" 200 201803\n",
      "[587/997] https://i.redd.it/wdtxraelmii91.jpg\n",
      "[gallery-dl][debug] Starting DownloadJob for 'https://i.redd.it/wdtxraelmii91.jpg'\n",
      "[reddit][debug] Using RedditImageExtractor for 'https://i.redd.it/wdtxraelmii91.jpg'\n",
      "[urllib3.connectionpool][debug] https://i.redd.it:443 \"GET /wdtxraelmii91.jpg HTTP/1.1\" 200 1458628\n"
     ]
    },
    {
     "name": "stdout",
     "output_type": "stream",
     "text": [
      "nvme_drive/scraped_files/20220821-003129-reddit/reddit/wdtxraelmii91.jpg\n"
     ]
    },
    {
     "name": "stderr",
     "output_type": "stream",
     "text": [
      "[588/997] https://www.redgifs.com/watch/frailmisguidedostracod\n",
      "[gallery-dl][debug] Starting DownloadJob for 'https://www.redgifs.com/watch/frailmisguidedostracod'\n",
      "[redgifs][debug] Using RedgifsImageExtractor for 'https://www.redgifs.com/watch/frailmisguidedostracod'\n",
      "[urllib3.connectionpool][debug] https://api.redgifs.com:443 \"GET /v2/gifs/frailmisguidedostracod HTTP/1.1\" 200 None\n",
      "[urllib3.connectionpool][debug] https://thumbs2.redgifs.com:443 \"GET /FrailMisguidedOstracod.mp4 HTTP/1.1\" 200 9147827\n"
     ]
    },
    {
     "name": "stdout",
     "output_type": "stream",
     "text": [
      "nvme_drive/scraped_files/20220821-003129-reddit/redgifs/redgifs_frailmisguidedostracod.mp4\n",
      "nvme_drive/scraped_files/20220821-003129-reddit/imgur/imgur_yFctHr9_Pink and big.jpg\n"
     ]
    },
    {
     "name": "stderr",
     "output_type": "stream",
     "text": [
      "[589/997] https://i.imgur.com/yFctHr9.jpg\n",
      "[gallery-dl][debug] Starting DownloadJob for 'https://i.imgur.com/yFctHr9.jpg'\n",
      "[imgur][debug] Using ImgurImageExtractor for 'https://i.imgur.com/yFctHr9.jpg'\n",
      "[urllib3.connectionpool][debug] https://api.imgur.com:443 \"GET /post/v1/media/yFctHr9?include=media%2Ctags%2Caccount HTTP/1.1\" 200 486\n",
      "[urllib3.connectionpool][debug] https://i.imgur.com:443 \"GET /yFctHr9.jpg HTTP/1.1\" 200 72568\n",
      "[590/997] https://i.redd.it/x9amcvh924h91.jpg\n",
      "[gallery-dl][debug] Starting DownloadJob for 'https://i.redd.it/x9amcvh924h91.jpg'\n",
      "[reddit][debug] Using RedditImageExtractor for 'https://i.redd.it/x9amcvh924h91.jpg'\n",
      "[urllib3.connectionpool][debug] https://i.redd.it:443 \"GET /x9amcvh924h91.jpg HTTP/1.1\" 200 328321\n"
     ]
    },
    {
     "name": "stdout",
     "output_type": "stream",
     "text": [
      "nvme_drive/scraped_files/20220821-003129-reddit/reddit/x9amcvh924h91.jpg\n"
     ]
    },
    {
     "name": "stderr",
     "output_type": "stream",
     "text": [
      "[591/997] https://redgifs.com/watch/considerateindelibleconey\n",
      "[gallery-dl][debug] Starting DownloadJob for 'https://redgifs.com/watch/considerateindelibleconey'\n",
      "[redgifs][debug] Using RedgifsImageExtractor for 'https://redgifs.com/watch/considerateindelibleconey'\n",
      "[urllib3.connectionpool][debug] https://api.redgifs.com:443 \"GET /v2/gifs/considerateindelibleconey HTTP/1.1\" 200 None\n",
      "[urllib3.connectionpool][debug] https://thumbs2.redgifs.com:443 \"GET /ConsiderateIndelibleConey.mp4 HTTP/1.1\" 200 14642560\n"
     ]
    },
    {
     "name": "stdout",
     "output_type": "stream",
     "text": [
      "nvme_drive/scraped_files/20220821-003129-reddit/redgifs/redgifs_considerateindelibleconey.mp4\n",
      "nvme_drive/scraped_files/20220821-003129-reddit/imgur/imgur_QkvbjKs_Tousled orange hair.jpg\n"
     ]
    },
    {
     "name": "stderr",
     "output_type": "stream",
     "text": [
      "[592/997] https://i.imgur.com/QkvbjKs.jpg\n",
      "[gallery-dl][debug] Starting DownloadJob for 'https://i.imgur.com/QkvbjKs.jpg'\n",
      "[imgur][debug] Using ImgurImageExtractor for 'https://i.imgur.com/QkvbjKs.jpg'\n",
      "[urllib3.connectionpool][debug] https://api.imgur.com:443 \"GET /post/v1/media/QkvbjKs?include=media%2Ctags%2Caccount HTTP/1.1\" 200 457\n",
      "[urllib3.connectionpool][debug] https://i.imgur.com:443 \"GET /QkvbjKs.jpg HTTP/1.1\" 200 465616\n",
      "[593/997] https://redgifs.com/watch/feistysociableserpent\n",
      "[gallery-dl][debug] Starting DownloadJob for 'https://redgifs.com/watch/feistysociableserpent'\n",
      "[redgifs][debug] Using RedgifsImageExtractor for 'https://redgifs.com/watch/feistysociableserpent'\n",
      "[urllib3.connectionpool][debug] https://api.redgifs.com:443 \"GET /v2/gifs/feistysociableserpent HTTP/1.1\" 200 None\n",
      "[urllib3.connectionpool][debug] https://thumbs2.redgifs.com:443 \"GET /FeistySociableSerpent.mp4 HTTP/1.1\" 200 22978754\n"
     ]
    },
    {
     "name": "stdout",
     "output_type": "stream",
     "text": [
      "nvme_drive/scraped_files/20220821-003129-reddit/redgifs/redgifs_feistysociableserpent.mp4\n"
     ]
    },
    {
     "name": "stderr",
     "output_type": "stream",
     "text": [
      "[594/997] https://i.imgur.com/iSowpP5.jpg\n",
      "[gallery-dl][debug] Starting DownloadJob for 'https://i.imgur.com/iSowpP5.jpg'\n",
      "[imgur][debug] Using ImgurImageExtractor for 'https://i.imgur.com/iSowpP5.jpg'\n",
      "[urllib3.connectionpool][debug] https://api.imgur.com:443 \"GET /post/v1/media/iSowpP5?include=media%2Ctags%2Caccount HTTP/1.1\" 200 466\n",
      "[urllib3.connectionpool][debug] https://i.imgur.com:443 \"GET /iSowpP5.jpg HTTP/1.1\" 200 653415\n"
     ]
    },
    {
     "name": "stdout",
     "output_type": "stream",
     "text": [
      "nvme_drive/scraped_files/20220821-003129-reddit/imgur/imgur_iSowpP5_OctaviaMay Suicide.jpg\n"
     ]
    },
    {
     "name": "stderr",
     "output_type": "stream",
     "text": [
      "[595/997] https://redgifs.com/watch/hilariouszigzagmartin\n",
      "[gallery-dl][debug] Starting DownloadJob for 'https://redgifs.com/watch/hilariouszigzagmartin'\n",
      "[redgifs][debug] Using RedgifsImageExtractor for 'https://redgifs.com/watch/hilariouszigzagmartin'\n",
      "[urllib3.connectionpool][debug] https://api.redgifs.com:443 \"GET /v2/gifs/hilariouszigzagmartin HTTP/1.1\" 200 None\n",
      "[urllib3.connectionpool][debug] https://thumbs2.redgifs.com:443 \"GET /HilariousZigzagMartin.mp4 HTTP/1.1\" 200 8867457\n"
     ]
    },
    {
     "name": "stdout",
     "output_type": "stream",
     "text": [
      "nvme_drive/scraped_files/20220821-003129-reddit/redgifs/redgifs_hilariouszigzagmartin.mp4\n"
     ]
    },
    {
     "name": "stderr",
     "output_type": "stream",
     "text": [
      "[596/997] https://www.redgifs.com/watch/wretchedanykangaroo\n",
      "[gallery-dl][debug] Starting DownloadJob for 'https://www.redgifs.com/watch/wretchedanykangaroo'\n",
      "[redgifs][debug] Using RedgifsImageExtractor for 'https://www.redgifs.com/watch/wretchedanykangaroo'\n",
      "[urllib3.connectionpool][debug] https://api.redgifs.com:443 \"GET /v2/gifs/wretchedanykangaroo HTTP/1.1\" 200 None\n",
      "[urllib3.connectionpool][debug] https://thumbs2.redgifs.com:443 \"GET /WretchedAnyKangaroo.mp4 HTTP/1.1\" 200 31612937\n"
     ]
    },
    {
     "name": "stdout",
     "output_type": "stream",
     "text": [
      "nvme_drive/scraped_files/20220821-003129-reddit/redgifs/redgifs_wretchedanykangaroo.mp4\n"
     ]
    },
    {
     "name": "stderr",
     "output_type": "stream",
     "text": [
      "[597/997] https://i.imgur.com/HOFDTJX.jpg\n",
      "[gallery-dl][debug] Starting DownloadJob for 'https://i.imgur.com/HOFDTJX.jpg'\n",
      "[imgur][debug] Using ImgurImageExtractor for 'https://i.imgur.com/HOFDTJX.jpg'\n",
      "[urllib3.connectionpool][debug] https://api.imgur.com:443 \"GET /post/v1/media/HOFDTJX?include=media%2Ctags%2Caccount HTTP/1.1\" 200 478\n",
      "[urllib3.connectionpool][debug] https://i.imgur.com:443 \"GET /HOFDTJX.jpg HTTP/1.1\" 200 1031256\n"
     ]
    },
    {
     "name": "stdout",
     "output_type": "stream",
     "text": [
      "nvme_drive/scraped_files/20220821-003129-reddit/imgur/imgur_HOFDTJX_Red fishnets.jpg\n"
     ]
    },
    {
     "name": "stderr",
     "output_type": "stream",
     "text": [
      "[598/997] https://i.imgur.com/cb0j6k7.jpg\n",
      "[gallery-dl][debug] Starting DownloadJob for 'https://i.imgur.com/cb0j6k7.jpg'\n",
      "[imgur][debug] Using ImgurImageExtractor for 'https://i.imgur.com/cb0j6k7.jpg'\n",
      "[urllib3.connectionpool][debug] https://api.imgur.com:443 \"GET /post/v1/media/cb0j6k7?include=media%2Ctags%2Caccount HTTP/1.1\" 200 478\n",
      "[urllib3.connectionpool][debug] https://i.imgur.com:443 \"GET /cb0j6k7.jpg HTTP/1.1\" 200 1414905\n"
     ]
    },
    {
     "name": "stdout",
     "output_type": "stream",
     "text": [
      "nvme_drive/scraped_files/20220821-003129-reddit/imgur/imgur_cb0j6k7_Clover - Looking hot.jpg\n"
     ]
    },
    {
     "name": "stderr",
     "output_type": "stream",
     "text": [
      "[599/997] https://i.imgur.com/9T4imCB.jpg\n",
      "[gallery-dl][debug] Starting DownloadJob for 'https://i.imgur.com/9T4imCB.jpg'\n",
      "[imgur][debug] Using ImgurImageExtractor for 'https://i.imgur.com/9T4imCB.jpg'\n",
      "[urllib3.connectionpool][debug] https://api.imgur.com:443 \"GET /post/v1/media/9T4imCB?include=media%2Ctags%2Caccount HTTP/1.1\" 200 468\n",
      "[urllib3.connectionpool][debug] https://i.imgur.com:443 \"GET /9T4imCB.jpg HTTP/1.1\" 200 1321489\n",
      "[600/997] https://i.imgur.com/1Ihxc6x.jpg\n",
      "[gallery-dl][debug] Starting DownloadJob for 'https://i.imgur.com/1Ihxc6x.jpg'\n",
      "[imgur][debug] Using ImgurImageExtractor for 'https://i.imgur.com/1Ihxc6x.jpg'\n"
     ]
    },
    {
     "name": "stdout",
     "output_type": "stream",
     "text": [
      "nvme_drive/scraped_files/20220821-003129-reddit/imgur/imgur_9T4imCB_Corner couch.jpg\n",
      "nvme_drive/scraped_files/20220821-003129-reddit/imgur/imgur_1Ihxc6x_Beautiful busty fertile redhead.jpg\n"
     ]
    },
    {
     "name": "stderr",
     "output_type": "stream",
     "text": [
      "[urllib3.connectionpool][debug] https://api.imgur.com:443 \"GET /post/v1/media/1Ihxc6x?include=media%2Ctags%2Caccount HTTP/1.1\" 200 477\n",
      "[urllib3.connectionpool][debug] https://i.imgur.com:443 \"GET /1Ihxc6x.jpg HTTP/1.1\" 200 259174\n",
      "[601/997] https://redgifs.com/watch/safemuddyurva\n",
      "[gallery-dl][debug] Starting DownloadJob for 'https://redgifs.com/watch/safemuddyurva'\n",
      "[redgifs][debug] Using RedgifsImageExtractor for 'https://redgifs.com/watch/safemuddyurva'\n",
      "[urllib3.connectionpool][debug] https://api.redgifs.com:443 \"GET /v2/gifs/safemuddyurva HTTP/1.1\" 200 None\n",
      "[urllib3.connectionpool][debug] https://thumbs2.redgifs.com:443 \"GET /SafeMuddyUrva.mp4 HTTP/1.1\" 200 39043790\n"
     ]
    },
    {
     "name": "stdout",
     "output_type": "stream",
     "text": [
      "nvme_drive/scraped_files/20220821-003129-reddit/redgifs/redgifs_safemuddyurva.mp4\n",
      "nvme_drive/scraped_files/20220821-003129-reddit/imgur/imgur_Y40VXg9_Catching the light just right.jpg\n"
     ]
    },
    {
     "name": "stderr",
     "output_type": "stream",
     "text": [
      "[602/997] https://i.imgur.com/Y40VXg9.jpg\n",
      "[gallery-dl][debug] Starting DownloadJob for 'https://i.imgur.com/Y40VXg9.jpg'\n",
      "[imgur][debug] Using ImgurImageExtractor for 'https://i.imgur.com/Y40VXg9.jpg'\n",
      "[urllib3.connectionpool][debug] https://api.imgur.com:443 \"GET /post/v1/media/Y40VXg9?include=media%2Ctags%2Caccount HTTP/1.1\" 200 488\n",
      "[urllib3.connectionpool][debug] https://i.imgur.com:443 \"GET /Y40VXg9.jpg HTTP/1.1\" 200 187137\n",
      "[603/997] https://i.imgur.com/K1mZrSq.jpg\n",
      "[gallery-dl][debug] Starting DownloadJob for 'https://i.imgur.com/K1mZrSq.jpg'\n",
      "[imgur][debug] Using ImgurImageExtractor for 'https://i.imgur.com/K1mZrSq.jpg'\n",
      "[urllib3.connectionpool][debug] https://api.imgur.com:443 \"GET /post/v1/media/K1mZrSq?include=media%2Ctags%2Caccount HTTP/1.1\" 200 486\n",
      "[urllib3.connectionpool][debug] https://i.imgur.com:443 \"GET /K1mZrSq.jpg HTTP/1.1\" 200 1462860\n"
     ]
    },
    {
     "name": "stdout",
     "output_type": "stream",
     "text": [
      "nvme_drive/scraped_files/20220821-003129-reddit/imgur/imgur_K1mZrSq_Lily Ivy & Markéta Štroblová.jpg\n"
     ]
    },
    {
     "name": "stderr",
     "output_type": "stream",
     "text": [
      "[604/997] https://redgifs.com/watch/nuttyazurebonobo\n",
      "[gallery-dl][debug] Starting DownloadJob for 'https://redgifs.com/watch/nuttyazurebonobo'\n",
      "[redgifs][debug] Using RedgifsImageExtractor for 'https://redgifs.com/watch/nuttyazurebonobo'\n",
      "[urllib3.connectionpool][debug] https://api.redgifs.com:443 \"GET /v2/gifs/nuttyazurebonobo HTTP/1.1\" 200 None\n",
      "[urllib3.connectionpool][debug] https://thumbs2.redgifs.com:443 \"GET /NuttyAzureBonobo.mp4 HTTP/1.1\" 200 13113612\n"
     ]
    },
    {
     "name": "stdout",
     "output_type": "stream",
     "text": [
      "nvme_drive/scraped_files/20220821-003129-reddit/redgifs/redgifs_nuttyazurebonobo.mp4\n"
     ]
    },
    {
     "name": "stderr",
     "output_type": "stream",
     "text": [
      "[605/997] https://redgifs.com/watch/automaticsnivelingduckling\n",
      "[gallery-dl][debug] Starting DownloadJob for 'https://redgifs.com/watch/automaticsnivelingduckling'\n",
      "[redgifs][debug] Using RedgifsImageExtractor for 'https://redgifs.com/watch/automaticsnivelingduckling'\n",
      "[urllib3.connectionpool][debug] https://api.redgifs.com:443 \"GET /v2/gifs/automaticsnivelingduckling HTTP/1.1\" 200 None\n",
      "[urllib3.connectionpool][debug] https://thumbs2.redgifs.com:443 \"GET /AutomaticSnivelingDuckling.mp4 HTTP/1.1\" 200 26816166\n"
     ]
    },
    {
     "name": "stdout",
     "output_type": "stream",
     "text": [
      "nvme_drive/scraped_files/20220821-003129-reddit/redgifs/redgifs_automaticsnivelingduckling.mp4\n"
     ]
    },
    {
     "name": "stderr",
     "output_type": "stream",
     "text": [
      "[606/997] https://i.imgur.com/Pg75tGy.jpg\n",
      "[gallery-dl][debug] Starting DownloadJob for 'https://i.imgur.com/Pg75tGy.jpg'\n",
      "[imgur][debug] Using ImgurImageExtractor for 'https://i.imgur.com/Pg75tGy.jpg'\n",
      "[urllib3.connectionpool][debug] https://api.imgur.com:443 \"GET /post/v1/media/Pg75tGy?include=media%2Ctags%2Caccount HTTP/1.1\" 200 467\n",
      "[urllib3.connectionpool][debug] https://i.imgur.com:443 \"GET /Pg75tGy.jpg HTTP/1.1\" 200 210866\n",
      "[607/997] https://i.imgur.com/yfBm3Ce.jpg\n",
      "[gallery-dl][debug] Starting DownloadJob for 'https://i.imgur.com/yfBm3Ce.jpg'\n",
      "[imgur][debug] Using ImgurImageExtractor for 'https://i.imgur.com/yfBm3Ce.jpg'\n",
      "[urllib3.connectionpool][debug] https://api.imgur.com:443 \"GET /post/v1/media/yfBm3Ce?include=media%2Ctags%2Caccount HTTP/1.1\" 200 490\n",
      "[urllib3.connectionpool][debug] https://i.imgur.com:443 \"GET /yfBm3Ce.jpg HTTP/1.1\" 200 471404\n"
     ]
    },
    {
     "name": "stdout",
     "output_type": "stream",
     "text": [
      "nvme_drive/scraped_files/20220821-003129-reddit/imgur/imgur_Pg75tGy_Perky blonde changing in her closet.jpg\n",
      "nvme_drive/scraped_files/20220821-003129-reddit/imgur/imgur_yfBm3Ce_Just Waking Up.jpg\n"
     ]
    },
    {
     "name": "stderr",
     "output_type": "stream",
     "text": [
      "[608/997] https://i.imgur.com/s0KisUJ.jpg\n",
      "[gallery-dl][debug] Starting DownloadJob for 'https://i.imgur.com/s0KisUJ.jpg'\n",
      "[imgur][debug] Using ImgurImageExtractor for 'https://i.imgur.com/s0KisUJ.jpg'\n",
      "[urllib3.connectionpool][debug] https://api.imgur.com:443 \"GET /post/v1/media/s0KisUJ?include=media%2Ctags%2Caccount HTTP/1.1\" 200 495\n",
      "[urllib3.connectionpool][debug] https://i.imgur.com:443 \"GET /s0KisUJ.jpg HTTP/1.1\" 200 358324\n",
      "[609/997] https://i.imgur.com/Azp7bKh.jpeg\n",
      "[gallery-dl][debug] Starting DownloadJob for 'https://i.imgur.com/Azp7bKh.jpeg'\n",
      "[imgur][debug] Using ImgurImageExtractor for 'https://i.imgur.com/Azp7bKh.jpeg'\n"
     ]
    },
    {
     "name": "stdout",
     "output_type": "stream",
     "text": [
      "nvme_drive/scraped_files/20220821-003129-reddit/imgur/imgur_s0KisUJ_NEXT \"COLLECTION\" _ #0065 - PEACHES.jpg\n"
     ]
    },
    {
     "name": "stderr",
     "output_type": "stream",
     "text": [
      "[urllib3.connectionpool][debug] https://api.imgur.com:443 \"GET /post/v1/media/Azp7bKh?include=media%2Ctags%2Caccount HTTP/1.1\" 200 449\n",
      "[urllib3.connectionpool][debug] https://i.imgur.com:443 \"GET /Azp7bKh.jpg HTTP/1.1\" 200 1288946\n"
     ]
    },
    {
     "name": "stdout",
     "output_type": "stream",
     "text": [
      "nvme_drive/scraped_files/20220821-003129-reddit/imgur/imgur_Azp7bKh_Cute pigtails.jpg\n"
     ]
    },
    {
     "name": "stderr",
     "output_type": "stream",
     "text": [
      "[610/997] https://i.imgur.com/lPKM3sP.jpg\n",
      "[gallery-dl][debug] Starting DownloadJob for 'https://i.imgur.com/lPKM3sP.jpg'\n",
      "[imgur][debug] Using ImgurImageExtractor for 'https://i.imgur.com/lPKM3sP.jpg'\n",
      "[urllib3.connectionpool][debug] https://api.imgur.com:443 \"GET /post/v1/media/lPKM3sP?include=media%2Ctags%2Caccount HTTP/1.1\" 200 512\n",
      "[urllib3.connectionpool][debug] https://i.imgur.com:443 \"GET /lPKM3sP.jpg HTTP/1.1\" 200 118844\n",
      "[611/997] https://i.imgur.com/2iwuYuw.jpg\n",
      "[gallery-dl][debug] Starting DownloadJob for 'https://i.imgur.com/2iwuYuw.jpg'\n",
      "[imgur][debug] Using ImgurImageExtractor for 'https://i.imgur.com/2iwuYuw.jpg'\n",
      "[urllib3.connectionpool][debug] https://api.imgur.com:443 \"GET /post/v1/media/2iwuYuw?include=media%2Ctags%2Caccount HTTP/1.1\" 200 494\n",
      "[urllib3.connectionpool][debug] https://i.imgur.com:443 \"GET /2iwuYuw.jpg HTTP/1.1\" 200 231967\n",
      "[612/997] https://i.redd.it/hclp7mwveah91.jpg\n",
      "[gallery-dl][debug] Starting DownloadJob for 'https://i.redd.it/hclp7mwveah91.jpg'\n",
      "[reddit][debug] Using RedditImageExtractor for 'https://i.redd.it/hclp7mwveah91.jpg'\n"
     ]
    },
    {
     "name": "stdout",
     "output_type": "stream",
     "text": [
      "nvme_drive/scraped_files/20220821-003129-reddit/imgur/imgur_lPKM3sP_Fit girl.jpg\n",
      "nvme_drive/scraped_files/20220821-003129-reddit/imgur/imgur_2iwuYuw_Fearless young women ready for the next chapter of their lives! ?.jpg\n"
     ]
    },
    {
     "name": "stderr",
     "output_type": "stream",
     "text": [
      "[urllib3.connectionpool][debug] https://i.redd.it:443 \"GET /hclp7mwveah91.jpg HTTP/1.1\" 200 375740\n",
      "[613/997] https://i.redd.it/xr0l0a6n01e91.jpg\n",
      "[gallery-dl][debug] Starting DownloadJob for 'https://i.redd.it/xr0l0a6n01e91.jpg'\n",
      "[reddit][debug] Using RedditImageExtractor for 'https://i.redd.it/xr0l0a6n01e91.jpg'\n",
      "[urllib3.connectionpool][debug] https://i.redd.it:443 \"GET /xr0l0a6n01e91.jpg HTTP/1.1\" 200 168844\n",
      "[614/997] https://i.imgur.com/unKNA53.jpg\n",
      "[gallery-dl][debug] Starting DownloadJob for 'https://i.imgur.com/unKNA53.jpg'\n",
      "[imgur][debug] Using ImgurImageExtractor for 'https://i.imgur.com/unKNA53.jpg'\n"
     ]
    },
    {
     "name": "stdout",
     "output_type": "stream",
     "text": [
      "nvme_drive/scraped_files/20220821-003129-reddit/reddit/hclp7mwveah91.jpg\n",
      "nvme_drive/scraped_files/20220821-003129-reddit/reddit/xr0l0a6n01e91.jpg\n"
     ]
    },
    {
     "name": "stderr",
     "output_type": "stream",
     "text": [
      "[urllib3.connectionpool][debug] https://api.imgur.com:443 \"GET /post/v1/media/unKNA53?include=media%2Ctags%2Caccount HTTP/1.1\" 200 470\n",
      "[urllib3.connectionpool][debug] https://i.imgur.com:443 \"GET /unKNA53.jpg HTTP/1.1\" 200 1054402\n",
      "[615/997] https://i.redd.it/nc3ospphgbi91.gif\n",
      "[gallery-dl][debug] Starting DownloadJob for 'https://i.redd.it/nc3ospphgbi91.gif'\n",
      "[reddit][debug] Using RedditImageExtractor for 'https://i.redd.it/nc3ospphgbi91.gif'\n",
      "[urllib3.connectionpool][debug] https://i.redd.it:443 \"GET /nc3ospphgbi91.gif HTTP/1.1\" 200 612580\n"
     ]
    },
    {
     "name": "stdout",
     "output_type": "stream",
     "text": [
      "nvme_drive/scraped_files/20220821-003129-reddit/imgur/imgur_unKNA53_Caprice.jpg\n",
      "nvme_drive/scraped_files/20220821-003129-reddit/reddit/nc3ospphgbi91.gif\n"
     ]
    },
    {
     "name": "stderr",
     "output_type": "stream",
     "text": [
      "[616/997] https://i.imgur.com/QA4NUnp.jpg\n",
      "[gallery-dl][debug] Starting DownloadJob for 'https://i.imgur.com/QA4NUnp.jpg'\n",
      "[imgur][debug] Using ImgurImageExtractor for 'https://i.imgur.com/QA4NUnp.jpg'\n",
      "[urllib3.connectionpool][debug] https://api.imgur.com:443 \"GET /post/v1/media/QA4NUnp?include=media%2Ctags%2Caccount HTTP/1.1\" 200 455\n",
      "[urllib3.connectionpool][debug] https://i.imgur.com:443 \"GET /QA4NUnp.jpg HTTP/1.1\" 200 565058\n"
     ]
    },
    {
     "name": "stdout",
     "output_type": "stream",
     "text": [
      "nvme_drive/scraped_files/20220821-003129-reddit/imgur/imgur_QA4NUnp_1 vs 2 vs 3 vs 4.jpg\n",
      "nvme_drive/scraped_files/20220821-003129-reddit/imgur/imgur_IAqY6iB_Tousled black hair.jpg\n"
     ]
    },
    {
     "name": "stderr",
     "output_type": "stream",
     "text": [
      "[617/997] https://i.imgur.com/IAqY6iB.jpg\n",
      "[gallery-dl][debug] Starting DownloadJob for 'https://i.imgur.com/IAqY6iB.jpg'\n",
      "[imgur][debug] Using ImgurImageExtractor for 'https://i.imgur.com/IAqY6iB.jpg'\n",
      "[urllib3.connectionpool][debug] https://api.imgur.com:443 \"GET /post/v1/media/IAqY6iB?include=media%2Ctags%2Caccount HTTP/1.1\" 200 456\n",
      "[urllib3.connectionpool][debug] https://i.imgur.com:443 \"GET /IAqY6iB.jpg HTTP/1.1\" 200 519928\n",
      "[618/997] https://i.imgur.com/mPb4VIL.jpg\n",
      "[gallery-dl][debug] Starting DownloadJob for 'https://i.imgur.com/mPb4VIL.jpg'\n",
      "[imgur][debug] Using ImgurImageExtractor for 'https://i.imgur.com/mPb4VIL.jpg'\n",
      "[urllib3.connectionpool][debug] https://api.imgur.com:443 \"GET /post/v1/media/mPb4VIL?include=media%2Ctags%2Caccount HTTP/1.1\" 200 475\n",
      "[urllib3.connectionpool][debug] https://i.imgur.com:443 \"GET /mPb4VIL.jpg HTTP/1.1\" 200 728396\n"
     ]
    },
    {
     "name": "stdout",
     "output_type": "stream",
     "text": [
      "nvme_drive/scraped_files/20220821-003129-reddit/imgur/imgur_mPb4VIL_Chill confidence.jpg\n"
     ]
    },
    {
     "name": "stderr",
     "output_type": "stream",
     "text": [
      "[619/997] https://i.imgur.com/hTizgsZ.jpg\n",
      "[gallery-dl][debug] Starting DownloadJob for 'https://i.imgur.com/hTizgsZ.jpg'\n",
      "[imgur][debug] Using ImgurImageExtractor for 'https://i.imgur.com/hTizgsZ.jpg'\n",
      "[urllib3.connectionpool][debug] https://api.imgur.com:443 \"GET /post/v1/media/hTizgsZ?include=media%2Ctags%2Caccount HTTP/1.1\" 200 451\n",
      "[urllib3.connectionpool][debug] https://i.imgur.com:443 \"GET /hTizgsZ.jpg HTTP/1.1\" 200 845016\n"
     ]
    },
    {
     "name": "stdout",
     "output_type": "stream",
     "text": [
      "nvme_drive/scraped_files/20220821-003129-reddit/imgur/imgur_hTizgsZ_Simply beautiful.jpg\n"
     ]
    },
    {
     "name": "stderr",
     "output_type": "stream",
     "text": [
      "[620/997] https://i.imgur.com/ObAQkkr.jpg\n",
      "[gallery-dl][debug] Starting DownloadJob for 'https://i.imgur.com/ObAQkkr.jpg'\n",
      "[imgur][debug] Using ImgurImageExtractor for 'https://i.imgur.com/ObAQkkr.jpg'\n",
      "[urllib3.connectionpool][debug] https://api.imgur.com:443 \"GET /post/v1/media/ObAQkkr?include=media%2Ctags%2Caccount HTTP/1.1\" 200 514\n",
      "[urllib3.connectionpool][debug] https://i.imgur.com:443 \"GET /ObAQkkr.jpg HTTP/1.1\" 200 341421\n",
      "[621/997] https://www.redgifs.com/watch/bisqueanimatedshrike\n",
      "[gallery-dl][debug] Starting DownloadJob for 'https://www.redgifs.com/watch/bisqueanimatedshrike'\n",
      "[redgifs][debug] Using RedgifsImageExtractor for 'https://www.redgifs.com/watch/bisqueanimatedshrike'\n",
      "[urllib3.connectionpool][debug] https://api.redgifs.com:443 \"GET /v2/gifs/bisqueanimatedshrike HTTP/1.1\" 200 None\n",
      "[urllib3.connectionpool][debug] https://thumbs2.redgifs.com:443 \"GET /BisqueAnimatedShrike.mp4 HTTP/1.1\" 200 24328008\n"
     ]
    },
    {
     "name": "stdout",
     "output_type": "stream",
     "text": [
      "nvme_drive/scraped_files/20220821-003129-reddit/imgur/imgur_ObAQkkr_She Was Always A Rule-Breaker.jpg\n",
      "nvme_drive/scraped_files/20220821-003129-reddit/redgifs/redgifs_bisqueanimatedshrike.mp4\n",
      "nvme_drive/scraped_files/20220821-003129-reddit/reddit/gkgvqv6n0wf91.jpg\n",
      "nvme_drive/scraped_files/20220821-003129-reddit/reddit/6r3hvs045qf91.jpg\n"
     ]
    },
    {
     "name": "stderr",
     "output_type": "stream",
     "text": [
      "[622/997] https://i.redd.it/gkgvqv6n0wf91.jpg\n",
      "[gallery-dl][debug] Starting DownloadJob for 'https://i.redd.it/gkgvqv6n0wf91.jpg'\n",
      "[reddit][debug] Using RedditImageExtractor for 'https://i.redd.it/gkgvqv6n0wf91.jpg'\n",
      "[urllib3.connectionpool][debug] https://i.redd.it:443 \"GET /gkgvqv6n0wf91.jpg HTTP/1.1\" 200 67728\n",
      "[623/997] https://i.redd.it/6r3hvs045qf91.jpg\n",
      "[gallery-dl][debug] Starting DownloadJob for 'https://i.redd.it/6r3hvs045qf91.jpg'\n",
      "[reddit][debug] Using RedditImageExtractor for 'https://i.redd.it/6r3hvs045qf91.jpg'\n",
      "[urllib3.connectionpool][debug] https://i.redd.it:443 \"GET /6r3hvs045qf91.jpg HTTP/1.1\" 200 132520\n",
      "[624/997] https://i.imgur.com/PHl3LHw.jpg\n",
      "[gallery-dl][debug] Starting DownloadJob for 'https://i.imgur.com/PHl3LHw.jpg'\n",
      "[imgur][debug] Using ImgurImageExtractor for 'https://i.imgur.com/PHl3LHw.jpg'\n",
      "[urllib3.connectionpool][debug] https://api.imgur.com:443 \"GET /post/v1/media/PHl3LHw?include=media%2Ctags%2Caccount HTTP/1.1\" 200 474\n",
      "[urllib3.connectionpool][debug] https://i.imgur.com:443 \"GET /PHl3LHw.jpg HTTP/1.1\" 200 1333158\n",
      "[625/997] https://www.redgifs.com/watch/sorrowfulbestsnail\n",
      "[gallery-dl][debug] Starting DownloadJob for 'https://www.redgifs.com/watch/sorrowfulbestsnail'\n",
      "[redgifs][debug] Using RedgifsImageExtractor for 'https://www.redgifs.com/watch/sorrowfulbestsnail'\n"
     ]
    },
    {
     "name": "stdout",
     "output_type": "stream",
     "text": [
      "nvme_drive/scraped_files/20220821-003129-reddit/imgur/imgur_PHl3LHw_Goddamn.jpg\n"
     ]
    },
    {
     "name": "stderr",
     "output_type": "stream",
     "text": [
      "[urllib3.connectionpool][debug] https://api.redgifs.com:443 \"GET /v2/gifs/sorrowfulbestsnail HTTP/1.1\" 200 None\n",
      "[urllib3.connectionpool][debug] https://thumbs2.redgifs.com:443 \"GET /SorrowfulBestSnail.mp4 HTTP/1.1\" 200 20567452\n"
     ]
    },
    {
     "name": "stdout",
     "output_type": "stream",
     "text": [
      "nvme_drive/scraped_files/20220821-003129-reddit/redgifs/redgifs_sorrowfulbestsnail.mp4\n",
      "nvme_drive/scraped_files/20220821-003129-reddit/reddit/ja6s2nc9vcd91.jpg\n",
      "nvme_drive/scraped_files/20220821-003129-reddit/imgur/imgur_YvFC7Oe_Proper posture.jpg\n"
     ]
    },
    {
     "name": "stderr",
     "output_type": "stream",
     "text": [
      "[626/997] https://i.redd.it/ja6s2nc9vcd91.jpg\n",
      "[gallery-dl][debug] Starting DownloadJob for 'https://i.redd.it/ja6s2nc9vcd91.jpg'\n",
      "[reddit][debug] Using RedditImageExtractor for 'https://i.redd.it/ja6s2nc9vcd91.jpg'\n",
      "[urllib3.connectionpool][debug] https://i.redd.it:443 \"GET /ja6s2nc9vcd91.jpg HTTP/1.1\" 200 84852\n",
      "[627/997] https://i.imgur.com/YvFC7Oe.jpg\n",
      "[gallery-dl][debug] Starting DownloadJob for 'https://i.imgur.com/YvFC7Oe.jpg'\n",
      "[imgur][debug] Using ImgurImageExtractor for 'https://i.imgur.com/YvFC7Oe.jpg'\n",
      "[urllib3.connectionpool][debug] https://api.imgur.com:443 \"GET /post/v1/media/YvFC7Oe?include=media%2Ctags%2Caccount HTTP/1.1\" 200 488\n",
      "[urllib3.connectionpool][debug] https://i.imgur.com:443 \"GET /YvFC7Oe.jpg HTTP/1.1\" 200 123309\n",
      "[628/997] https://i.redd.it/k7c8dk2560m81.jpg\n",
      "[gallery-dl][debug] Starting DownloadJob for 'https://i.redd.it/k7c8dk2560m81.jpg'\n",
      "[reddit][debug] Using RedditImageExtractor for 'https://i.redd.it/k7c8dk2560m81.jpg'\n",
      "[urllib3.connectionpool][debug] https://i.redd.it:443 \"GET /k7c8dk2560m81.jpg HTTP/1.1\" 200 1152221\n"
     ]
    },
    {
     "name": "stdout",
     "output_type": "stream",
     "text": [
      "nvme_drive/scraped_files/20220821-003129-reddit/reddit/k7c8dk2560m81.jpg\n"
     ]
    },
    {
     "name": "stderr",
     "output_type": "stream",
     "text": [
      "[629/997] https://redgifs.com/watch/royalbluealertisopod\n",
      "[gallery-dl][debug] Starting DownloadJob for 'https://redgifs.com/watch/royalbluealertisopod'\n",
      "[redgifs][debug] Using RedgifsImageExtractor for 'https://redgifs.com/watch/royalbluealertisopod'\n",
      "[urllib3.connectionpool][debug] https://api.redgifs.com:443 \"GET /v2/gifs/royalbluealertisopod HTTP/1.1\" 200 None\n",
      "[urllib3.connectionpool][debug] https://thumbs2.redgifs.com:443 \"GET /RoyalblueAlertIsopod.mp4 HTTP/1.1\" 200 61264623\n"
     ]
    },
    {
     "name": "stdout",
     "output_type": "stream",
     "text": [
      "nvme_drive/scraped_files/20220821-003129-reddit/redgifs/redgifs_royalbluealertisopod.mp4\n",
      "nvme_drive/scraped_files/20220821-003129-reddit/imgur/imgur_7iinwa1_Caitlin McSwain (album in comments).jpg\n"
     ]
    },
    {
     "name": "stderr",
     "output_type": "stream",
     "text": [
      "[630/997] https://i.imgur.com/7iinwa1.jpg\n",
      "[gallery-dl][debug] Starting DownloadJob for 'https://i.imgur.com/7iinwa1.jpg'\n",
      "[imgur][debug] Using ImgurImageExtractor for 'https://i.imgur.com/7iinwa1.jpg'\n",
      "[urllib3.connectionpool][debug] https://api.imgur.com:443 \"GET /post/v1/media/7iinwa1?include=media%2Ctags%2Caccount HTTP/1.1\" 200 476\n",
      "[urllib3.connectionpool][debug] https://i.imgur.com:443 \"GET /7iinwa1.jpg HTTP/1.1\" 200 151923\n",
      "[631/997] https://redgifs.com/watch/opaqueregularcygnet\n",
      "[gallery-dl][debug] Starting DownloadJob for 'https://redgifs.com/watch/opaqueregularcygnet'\n",
      "[redgifs][debug] Using RedgifsImageExtractor for 'https://redgifs.com/watch/opaqueregularcygnet'\n",
      "[urllib3.connectionpool][debug] https://api.redgifs.com:443 \"GET /v2/gifs/opaqueregularcygnet HTTP/1.1\" 200 None\n",
      "[urllib3.connectionpool][debug] https://thumbs2.redgifs.com:443 \"GET /OpaqueRegularCygnet.mp4 HTTP/1.1\" 200 24559551\n"
     ]
    },
    {
     "name": "stdout",
     "output_type": "stream",
     "text": [
      "nvme_drive/scraped_files/20220821-003129-reddit/redgifs/redgifs_opaqueregularcygnet.mp4\n"
     ]
    },
    {
     "name": "stderr",
     "output_type": "stream",
     "text": [
      "[632/997] https://redgifs.com/watch/notableglaringbuck\n",
      "[gallery-dl][debug] Starting DownloadJob for 'https://redgifs.com/watch/notableglaringbuck'\n",
      "[redgifs][debug] Using RedgifsImageExtractor for 'https://redgifs.com/watch/notableglaringbuck'\n",
      "[urllib3.connectionpool][debug] https://api.redgifs.com:443 \"GET /v2/gifs/notableglaringbuck HTTP/1.1\" 200 None\n",
      "[urllib3.connectionpool][debug] https://thumbs2.redgifs.com:443 \"GET /NotableGlaringBuck.mp4 HTTP/1.1\" 200 39606309\n"
     ]
    },
    {
     "name": "stdout",
     "output_type": "stream",
     "text": [
      "nvme_drive/scraped_files/20220821-003129-reddit/redgifs/redgifs_notableglaringbuck.mp4\n",
      "nvme_drive/scraped_files/20220821-003129-reddit/imgur/imgur_e84Xtws_Handmaiden.jpg\n"
     ]
    },
    {
     "name": "stderr",
     "output_type": "stream",
     "text": [
      "[633/997] https://i.imgur.com/e84Xtws.jpeg\n",
      "[gallery-dl][debug] Starting DownloadJob for 'https://i.imgur.com/e84Xtws.jpeg'\n",
      "[imgur][debug] Using ImgurImageExtractor for 'https://i.imgur.com/e84Xtws.jpeg'\n",
      "[urllib3.connectionpool][debug] https://api.imgur.com:443 \"GET /post/v1/media/e84Xtws?include=media%2Ctags%2Caccount HTTP/1.1\" 200 446\n",
      "[urllib3.connectionpool][debug] https://i.imgur.com:443 \"GET /e84Xtws.jpg HTTP/1.1\" 200 158149\n",
      "[634/997] https://i.imgur.com/1hRVODm.jpg\n",
      "[gallery-dl][debug] Starting DownloadJob for 'https://i.imgur.com/1hRVODm.jpg'\n",
      "[imgur][debug] Using ImgurImageExtractor for 'https://i.imgur.com/1hRVODm.jpg'\n",
      "[urllib3.connectionpool][debug] https://api.imgur.com:443 \"GET /post/v1/media/1hRVODm?include=media%2Ctags%2Caccount HTTP/1.1\" 200 493\n",
      "[urllib3.connectionpool][debug] https://i.imgur.com:443 \"GET /1hRVODm.jpg HTTP/1.1\" 200 240319\n",
      "[635/997] https://i.imgur.com/WrgeHPN.jpg\n",
      "[gallery-dl][debug] Starting DownloadJob for 'https://i.imgur.com/WrgeHPN.jpg'\n",
      "[imgur][debug] Using ImgurImageExtractor for 'https://i.imgur.com/WrgeHPN.jpg'\n",
      "[urllib3.connectionpool][debug] https://api.imgur.com:443 \"GET /post/v1/media/WrgeHPN?include=media%2Ctags%2Caccount HTTP/1.1\" 200 449\n",
      "[urllib3.connectionpool][debug] https://i.imgur.com:443 \"GET /WrgeHPN.jpg HTTP/1.1\" 200 130019\n",
      "[636/997] https://i.imgur.com/uMwdvOb.jpeg\n",
      "[gallery-dl][debug] Starting DownloadJob for 'https://i.imgur.com/uMwdvOb.jpeg'\n",
      "[imgur][debug] Using ImgurImageExtractor for 'https://i.imgur.com/uMwdvOb.jpeg'\n"
     ]
    },
    {
     "name": "stdout",
     "output_type": "stream",
     "text": [
      "nvme_drive/scraped_files/20220821-003129-reddit/imgur/imgur_1hRVODm_Chilling on the counter.jpg\n",
      "nvme_drive/scraped_files/20220821-003129-reddit/imgur/imgur_WrgeHPN_Morning light.jpg\n"
     ]
    },
    {
     "name": "stderr",
     "output_type": "stream",
     "text": [
      "[urllib3.connectionpool][debug] https://api.imgur.com:443 \"GET /post/v1/media/uMwdvOb?include=media%2Ctags%2Caccount HTTP/1.1\" 200 453\n",
      "[urllib3.connectionpool][debug] https://i.imgur.com:443 \"GET /uMwdvOb.jpg HTTP/1.1\" 200 958768\n"
     ]
    },
    {
     "name": "stdout",
     "output_type": "stream",
     "text": [
      "nvme_drive/scraped_files/20220821-003129-reddit/imgur/imgur_uMwdvOb_Tutsi.jpg\n"
     ]
    },
    {
     "name": "stderr",
     "output_type": "stream",
     "text": [
      "[637/997] https://i.imgur.com/urNBKLW.jpg\n",
      "[gallery-dl][debug] Starting DownloadJob for 'https://i.imgur.com/urNBKLW.jpg'\n",
      "[imgur][debug] Using ImgurImageExtractor for 'https://i.imgur.com/urNBKLW.jpg'\n",
      "[urllib3.connectionpool][debug] https://api.imgur.com:443 \"GET /post/v1/media/urNBKLW?include=media%2Ctags%2Caccount HTTP/1.1\" 200 469\n",
      "[urllib3.connectionpool][debug] https://i.imgur.com:443 \"GET /urNBKLW.jpg HTTP/1.1\" 200 560563\n",
      "[638/997] https://i.imgur.com/QLGj9ZC.jpg\n",
      "[gallery-dl][debug] Starting DownloadJob for 'https://i.imgur.com/QLGj9ZC.jpg'\n",
      "[imgur][debug] Using ImgurImageExtractor for 'https://i.imgur.com/QLGj9ZC.jpg'\n"
     ]
    },
    {
     "name": "stdout",
     "output_type": "stream",
     "text": [
      "nvme_drive/scraped_files/20220821-003129-reddit/imgur/imgur_urNBKLW_Not sure that counts as business casual.jpg\n",
      "nvme_drive/scraped_files/20220821-003129-reddit/imgur/imgur_QLGj9ZC_Parking.jpg\n"
     ]
    },
    {
     "name": "stderr",
     "output_type": "stream",
     "text": [
      "[urllib3.connectionpool][debug] https://api.imgur.com:443 \"GET /post/v1/media/QLGj9ZC?include=media%2Ctags%2Caccount HTTP/1.1\" 200 448\n",
      "[urllib3.connectionpool][debug] https://i.imgur.com:443 \"GET /QLGj9ZC.jpg HTTP/1.1\" 200 241187\n",
      "[639/997] https://i.imgur.com/NfM1ERH.jpg\n",
      "[gallery-dl][debug] Starting DownloadJob for 'https://i.imgur.com/NfM1ERH.jpg'\n",
      "[imgur][debug] Using ImgurImageExtractor for 'https://i.imgur.com/NfM1ERH.jpg'\n",
      "[urllib3.connectionpool][debug] https://api.imgur.com:443 \"GET /post/v1/media/NfM1ERH?include=media%2Ctags%2Caccount HTTP/1.1\" 200 498\n",
      "[urllib3.connectionpool][debug] https://i.imgur.com:443 \"GET /NfM1ERH.jpg HTTP/1.1\" 200 115633\n",
      "[640/997] https://i.imgur.com/ru3pm87.jpg\n",
      "[gallery-dl][debug] Starting DownloadJob for 'https://i.imgur.com/ru3pm87.jpg'\n",
      "[imgur][debug] Using ImgurImageExtractor for 'https://i.imgur.com/ru3pm87.jpg'\n",
      "[urllib3.connectionpool][debug] https://api.imgur.com:443 \"GET /post/v1/media/ru3pm87?include=media%2Ctags%2Caccount HTTP/1.1\" 200 440\n"
     ]
    },
    {
     "name": "stdout",
     "output_type": "stream",
     "text": [
      "nvme_drive/scraped_files/20220821-003129-reddit/imgur/imgur_NfM1ERH_Flexure.jpg\n"
     ]
    },
    {
     "name": "stderr",
     "output_type": "stream",
     "text": [
      "[urllib3.connectionpool][debug] https://i.imgur.com:443 \"GET /ru3pm87.jpg HTTP/1.1\" 200 113187\n",
      "[641/997] https://i.imgur.com/0abqmlP.jpg\n",
      "[gallery-dl][debug] Starting DownloadJob for 'https://i.imgur.com/0abqmlP.jpg'\n",
      "[imgur][debug] Using ImgurImageExtractor for 'https://i.imgur.com/0abqmlP.jpg'\n",
      "[urllib3.connectionpool][debug] https://api.imgur.com:443 \"GET /post/v1/media/0abqmlP?include=media%2Ctags%2Caccount HTTP/1.1\" 200 460\n"
     ]
    },
    {
     "name": "stdout",
     "output_type": "stream",
     "text": [
      "nvme_drive/scraped_files/20220821-003129-reddit/imgur/imgur_ru3pm87_Nedda.jpg\n"
     ]
    },
    {
     "name": "stderr",
     "output_type": "stream",
     "text": [
      "[urllib3.connectionpool][debug] https://i.imgur.com:443 \"GET /0abqmlP.jpg HTTP/1.1\" 200 1737608\n"
     ]
    },
    {
     "name": "stdout",
     "output_type": "stream",
     "text": [
      "nvme_drive/scraped_files/20220821-003129-reddit/imgur/imgur_0abqmlP_Mila Amour.jpg\n"
     ]
    },
    {
     "name": "stderr",
     "output_type": "stream",
     "text": [
      "[642/997] https://i.imgur.com/7AeXYOA.jpg\n",
      "[gallery-dl][debug] Starting DownloadJob for 'https://i.imgur.com/7AeXYOA.jpg'\n",
      "[imgur][debug] Using ImgurImageExtractor for 'https://i.imgur.com/7AeXYOA.jpg'\n",
      "[urllib3.connectionpool][debug] https://api.imgur.com:443 \"GET /post/v1/media/7AeXYOA?include=media%2Ctags%2Caccount HTTP/1.1\" 200 465\n",
      "[urllib3.connectionpool][debug] https://i.imgur.com:443 \"GET /7AeXYOA.jpg HTTP/1.1\" 200 69275\n",
      "[643/997] https://i.imgur.com/Z5KE5CN.jpg\n",
      "[gallery-dl][debug] Starting DownloadJob for 'https://i.imgur.com/Z5KE5CN.jpg'\n",
      "[imgur][debug] Using ImgurImageExtractor for 'https://i.imgur.com/Z5KE5CN.jpg'\n",
      "[urllib3.connectionpool][debug] https://api.imgur.com:443 \"GET /post/v1/media/Z5KE5CN?include=media%2Ctags%2Caccount HTTP/1.1\" 200 455\n",
      "[urllib3.connectionpool][debug] https://i.imgur.com:443 \"GET /Z5KE5CN.jpg HTTP/1.1\" 200 82926\n",
      "[644/997] https://redgifs.com/watch/prestigiousstainedram\n",
      "[gallery-dl][debug] Starting DownloadJob for 'https://redgifs.com/watch/prestigiousstainedram'\n",
      "[redgifs][debug] Using RedgifsImageExtractor for 'https://redgifs.com/watch/prestigiousstainedram'\n"
     ]
    },
    {
     "name": "stdout",
     "output_type": "stream",
     "text": [
      "nvme_drive/scraped_files/20220821-003129-reddit/imgur/imgur_7AeXYOA_Eva Lovia.jpg\n",
      "nvme_drive/scraped_files/20220821-003129-reddit/imgur/imgur_Z5KE5CN_Adriana Chechik.jpg\n"
     ]
    },
    {
     "name": "stderr",
     "output_type": "stream",
     "text": [
      "[urllib3.connectionpool][debug] https://api.redgifs.com:443 \"GET /v2/gifs/prestigiousstainedram HTTP/1.1\" 200 None\n",
      "[urllib3.connectionpool][debug] https://thumbs2.redgifs.com:443 \"GET /PrestigiousStainedRam.mp4 HTTP/1.1\" 200 14351307\n"
     ]
    },
    {
     "name": "stdout",
     "output_type": "stream",
     "text": [
      "nvme_drive/scraped_files/20220821-003129-reddit/redgifs/redgifs_prestigiousstainedram.mp4\n"
     ]
    },
    {
     "name": "stderr",
     "output_type": "stream",
     "text": [
      "[645/997] https://i.imgur.com/iNoyp3Y.jpg\n",
      "[gallery-dl][debug] Starting DownloadJob for 'https://i.imgur.com/iNoyp3Y.jpg'\n",
      "[imgur][debug] Using ImgurImageExtractor for 'https://i.imgur.com/iNoyp3Y.jpg'\n",
      "[urllib3.connectionpool][debug] https://api.imgur.com:443 \"GET /post/v1/media/iNoyp3Y?include=media%2Ctags%2Caccount HTTP/1.1\" 200 468\n",
      "[urllib3.connectionpool][debug] https://i.imgur.com:443 \"GET /iNoyp3Y.jpg HTTP/1.1\" 200 1538063\n"
     ]
    },
    {
     "name": "stdout",
     "output_type": "stream",
     "text": [
      "nvme_drive/scraped_files/20220821-003129-reddit/imgur/imgur_iNoyp3Y_Irina.jpg\n"
     ]
    },
    {
     "name": "stderr",
     "output_type": "stream",
     "text": [
      "[646/997] https://i.imgur.com/4CYSKCw.jpg\n",
      "[gallery-dl][debug] Starting DownloadJob for 'https://i.imgur.com/4CYSKCw.jpg'\n",
      "[imgur][debug] Using ImgurImageExtractor for 'https://i.imgur.com/4CYSKCw.jpg'\n",
      "[urllib3.connectionpool][debug] https://api.imgur.com:443 \"GET /post/v1/media/4CYSKCw?include=media%2Ctags%2Caccount HTTP/1.1\" 200 505\n",
      "[urllib3.connectionpool][debug] https://i.imgur.com:443 \"GET /4CYSKCw.jpg HTTP/1.1\" 200 1068929\n"
     ]
    },
    {
     "name": "stdout",
     "output_type": "stream",
     "text": [
      "nvme_drive/scraped_files/20220821-003129-reddit/imgur/imgur_4CYSKCw_Onoff.jpg\n",
      "nvme_drive/scraped_files/20220821-003129-reddit/imgur/imgur_6beKMND_Strapped up.jpg\n"
     ]
    },
    {
     "name": "stderr",
     "output_type": "stream",
     "text": [
      "[647/997] https://i.imgur.com/6beKMND.jpeg\n",
      "[gallery-dl][debug] Starting DownloadJob for 'https://i.imgur.com/6beKMND.jpeg'\n",
      "[imgur][debug] Using ImgurImageExtractor for 'https://i.imgur.com/6beKMND.jpeg'\n",
      "[urllib3.connectionpool][debug] https://api.imgur.com:443 \"GET /post/v1/media/6beKMND?include=media%2Ctags%2Caccount HTTP/1.1\" 200 449\n",
      "[urllib3.connectionpool][debug] https://i.imgur.com:443 \"GET /6beKMND.jpg HTTP/1.1\" 200 81668\n",
      "[648/997] https://i.redd.it/hdkcify4g3d91.jpg\n",
      "[gallery-dl][debug] Starting DownloadJob for 'https://i.redd.it/hdkcify4g3d91.jpg'\n",
      "[reddit][debug] Using RedditImageExtractor for 'https://i.redd.it/hdkcify4g3d91.jpg'\n",
      "[urllib3.connectionpool][debug] https://i.redd.it:443 \"GET /hdkcify4g3d91.jpg HTTP/1.1\" 200 778429\n"
     ]
    },
    {
     "name": "stdout",
     "output_type": "stream",
     "text": [
      "nvme_drive/scraped_files/20220821-003129-reddit/reddit/hdkcify4g3d91.jpg\n"
     ]
    },
    {
     "name": "stderr",
     "output_type": "stream",
     "text": [
      "[649/997] https://redgifs.com/watch/rectangulardensecorydorascatfish\n",
      "[gallery-dl][debug] Starting DownloadJob for 'https://redgifs.com/watch/rectangulardensecorydorascatfish'\n",
      "[redgifs][debug] Using RedgifsImageExtractor for 'https://redgifs.com/watch/rectangulardensecorydorascatfish'\n",
      "[urllib3.connectionpool][debug] https://api.redgifs.com:443 \"GET /v2/gifs/rectangulardensecorydorascatfish HTTP/1.1\" 200 None\n",
      "[urllib3.connectionpool][debug] https://thumbs2.redgifs.com:443 \"GET /RectangularDenseCorydorascatfish.mp4 HTTP/1.1\" 200 16843984\n"
     ]
    },
    {
     "name": "stdout",
     "output_type": "stream",
     "text": [
      "nvme_drive/scraped_files/20220821-003129-reddit/redgifs/redgifs_rectangulardensecorydorascatfish.mp4\n"
     ]
    },
    {
     "name": "stderr",
     "output_type": "stream",
     "text": [
      "[650/997] https://i.redd.it/3f0ohnrqm8h91.jpg\n",
      "[gallery-dl][debug] Starting DownloadJob for 'https://i.redd.it/3f0ohnrqm8h91.jpg'\n",
      "[reddit][debug] Using RedditImageExtractor for 'https://i.redd.it/3f0ohnrqm8h91.jpg'\n",
      "[urllib3.connectionpool][debug] https://i.redd.it:443 \"GET /3f0ohnrqm8h91.jpg HTTP/1.1\" 200 1330062\n"
     ]
    },
    {
     "name": "stdout",
     "output_type": "stream",
     "text": [
      "nvme_drive/scraped_files/20220821-003129-reddit/reddit/3f0ohnrqm8h91.jpg\n",
      "nvme_drive/scraped_files/20220821-003129-reddit/reddit/qxjw7snd7fd91.jpg\n",
      "nvme_drive/scraped_files/20220821-003129-reddit/imgur/imgur_prEpJQx_Smooth n shiny.jpg\n"
     ]
    },
    {
     "name": "stderr",
     "output_type": "stream",
     "text": [
      "[651/997] https://i.redd.it/qxjw7snd7fd91.jpg\n",
      "[gallery-dl][debug] Starting DownloadJob for 'https://i.redd.it/qxjw7snd7fd91.jpg'\n",
      "[reddit][debug] Using RedditImageExtractor for 'https://i.redd.it/qxjw7snd7fd91.jpg'\n",
      "[urllib3.connectionpool][debug] https://i.redd.it:443 \"GET /qxjw7snd7fd91.jpg HTTP/1.1\" 200 68960\n",
      "[652/997] https://i.imgur.com/prEpJQx.jpeg\n",
      "[gallery-dl][debug] Starting DownloadJob for 'https://i.imgur.com/prEpJQx.jpeg'\n",
      "[imgur][debug] Using ImgurImageExtractor for 'https://i.imgur.com/prEpJQx.jpeg'\n",
      "[urllib3.connectionpool][debug] https://api.imgur.com:443 \"GET /post/v1/media/prEpJQx?include=media%2Ctags%2Caccount HTTP/1.1\" 200 452\n",
      "[urllib3.connectionpool][debug] https://i.imgur.com:443 \"GET /prEpJQx.jpg HTTP/1.1\" 200 76938\n",
      "[653/997] https://www.redgifs.com/watch/fumblingtrivialmerganser\n",
      "[gallery-dl][debug] Starting DownloadJob for 'https://www.redgifs.com/watch/fumblingtrivialmerganser'\n",
      "[redgifs][debug] Using RedgifsImageExtractor for 'https://www.redgifs.com/watch/fumblingtrivialmerganser'\n",
      "[urllib3.connectionpool][debug] https://api.redgifs.com:443 \"GET /v2/gifs/fumblingtrivialmerganser HTTP/1.1\" 200 None\n",
      "[urllib3.connectionpool][debug] https://thumbs2.redgifs.com:443 \"GET /FumblingTrivialMerganser.mp4 HTTP/1.1\" 200 2667903\n"
     ]
    },
    {
     "name": "stdout",
     "output_type": "stream",
     "text": [
      "nvme_drive/scraped_files/20220821-003129-reddit/redgifs/redgifs_fumblingtrivialmerganser.mp4\n",
      "nvme_drive/scraped_files/20220821-003129-reddit/reddit/lgk9r4bgvkh91.jpg\n"
     ]
    },
    {
     "name": "stderr",
     "output_type": "stream",
     "text": [
      "[654/997] https://i.redd.it/lgk9r4bgvkh91.jpg\n",
      "[gallery-dl][debug] Starting DownloadJob for 'https://i.redd.it/lgk9r4bgvkh91.jpg'\n",
      "[reddit][debug] Using RedditImageExtractor for 'https://i.redd.it/lgk9r4bgvkh91.jpg'\n",
      "[urllib3.connectionpool][debug] https://i.redd.it:443 \"GET /lgk9r4bgvkh91.jpg HTTP/1.1\" 200 116286\n",
      "[655/997] https://i.redd.it/odml9ia77lg91.jpg\n",
      "[gallery-dl][debug] Starting DownloadJob for 'https://i.redd.it/odml9ia77lg91.jpg'\n",
      "[reddit][debug] Using RedditImageExtractor for 'https://i.redd.it/odml9ia77lg91.jpg'\n",
      "[urllib3.connectionpool][debug] https://i.redd.it:443 \"GET /odml9ia77lg91.jpg HTTP/1.1\" 200 1744370\n"
     ]
    },
    {
     "name": "stdout",
     "output_type": "stream",
     "text": [
      "nvme_drive/scraped_files/20220821-003129-reddit/reddit/odml9ia77lg91.jpg\n"
     ]
    },
    {
     "name": "stderr",
     "output_type": "stream",
     "text": [
      "[656/997] https://redgifs.com/watch/pessimisticmonthlyox\n",
      "[gallery-dl][debug] Starting DownloadJob for 'https://redgifs.com/watch/pessimisticmonthlyox'\n",
      "[redgifs][debug] Using RedgifsImageExtractor for 'https://redgifs.com/watch/pessimisticmonthlyox'\n",
      "[urllib3.connectionpool][debug] https://api.redgifs.com:443 \"GET /v2/gifs/pessimisticmonthlyox HTTP/1.1\" 200 None\n",
      "[urllib3.connectionpool][debug] https://thumbs2.redgifs.com:443 \"GET /PessimisticMonthlyOx.mp4 HTTP/1.1\" 200 43367194\n"
     ]
    },
    {
     "name": "stdout",
     "output_type": "stream",
     "text": [
      "nvme_drive/scraped_files/20220821-003129-reddit/redgifs/redgifs_pessimisticmonthlyox.mp4\n"
     ]
    },
    {
     "name": "stderr",
     "output_type": "stream",
     "text": [
      "[657/997] https://redgifs.com/watch/lividbountifulgrebe\n",
      "[gallery-dl][debug] Starting DownloadJob for 'https://redgifs.com/watch/lividbountifulgrebe'\n",
      "[redgifs][debug] Using RedgifsImageExtractor for 'https://redgifs.com/watch/lividbountifulgrebe'\n",
      "[urllib3.connectionpool][debug] https://api.redgifs.com:443 \"GET /v2/gifs/lividbountifulgrebe HTTP/1.1\" 200 None\n",
      "[urllib3.connectionpool][debug] https://thumbs2.redgifs.com:443 \"GET /LividBountifulGrebe.mp4 HTTP/1.1\" 200 3564837\n"
     ]
    },
    {
     "name": "stdout",
     "output_type": "stream",
     "text": [
      "nvme_drive/scraped_files/20220821-003129-reddit/redgifs/redgifs_lividbountifulgrebe.mp4\n"
     ]
    },
    {
     "name": "stderr",
     "output_type": "stream",
     "text": [
      "[658/997] https://i.imgur.com/zJHkRZs.jpg\n",
      "[gallery-dl][debug] Starting DownloadJob for 'https://i.imgur.com/zJHkRZs.jpg'\n",
      "[imgur][debug] Using ImgurImageExtractor for 'https://i.imgur.com/zJHkRZs.jpg'\n",
      "[urllib3.connectionpool][debug] https://api.imgur.com:443 \"GET /post/v1/media/zJHkRZs?include=media%2Ctags%2Caccount HTTP/1.1\" 200 523\n",
      "[urllib3.connectionpool][debug] https://i.imgur.com:443 \"GET /zJHkRZs.jpg HTTP/1.1\" 200 461271\n"
     ]
    },
    {
     "name": "stdout",
     "output_type": "stream",
     "text": [
      "nvme_drive/scraped_files/20220821-003129-reddit/imgur/imgur_zJHkRZs_There's something about her I just can't put my finger on.jpg\n",
      "nvme_drive/scraped_files/20220821-003129-reddit/imgur/imgur_Xr3V4gl_Katya yearning.mp4\n"
     ]
    },
    {
     "name": "stderr",
     "output_type": "stream",
     "text": [
      "[659/997] https://i.imgur.com/Xr3V4gl.gif\n",
      "[gallery-dl][debug] Starting DownloadJob for 'https://i.imgur.com/Xr3V4gl.gif'\n",
      "[imgur][debug] Using ImgurImageExtractor for 'https://i.imgur.com/Xr3V4gl.gif'\n",
      "[urllib3.connectionpool][debug] https://api.imgur.com:443 \"GET /post/v1/media/Xr3V4gl?include=media%2Ctags%2Caccount HTTP/1.1\" 200 460\n",
      "[urllib3.connectionpool][debug] https://i.imgur.com:443 \"GET /Xr3V4gl.mp4 HTTP/1.1\" 200 73674\n",
      "[660/997] https://www.redgifs.com/watch/ancientformaldog\n",
      "[gallery-dl][debug] Starting DownloadJob for 'https://www.redgifs.com/watch/ancientformaldog'\n",
      "[redgifs][debug] Using RedgifsImageExtractor for 'https://www.redgifs.com/watch/ancientformaldog'\n",
      "[urllib3.connectionpool][debug] https://api.redgifs.com:443 \"GET /v2/gifs/ancientformaldog HTTP/1.1\" 200 None\n",
      "[urllib3.connectionpool][debug] https://thumbs2.redgifs.com:443 \"GET /AncientFormalDog.mp4 HTTP/1.1\" 200 620831\n",
      "[661/997] https://i.redd.it/nfy7yb8vyki91.jpg\n",
      "[gallery-dl][debug] Starting DownloadJob for 'https://i.redd.it/nfy7yb8vyki91.jpg'\n",
      "[reddit][debug] Using RedditImageExtractor for 'https://i.redd.it/nfy7yb8vyki91.jpg'\n",
      "[urllib3.connectionpool][debug] https://i.redd.it:443 \"GET /nfy7yb8vyki91.jpg HTTP/1.1\" 200 321080\n",
      "[662/997] https://i.redd.it/5856uuehjxg91.jpg\n",
      "[gallery-dl][debug] Starting DownloadJob for 'https://i.redd.it/5856uuehjxg91.jpg'\n",
      "[reddit][debug] Using RedditImageExtractor for 'https://i.redd.it/5856uuehjxg91.jpg'\n"
     ]
    },
    {
     "name": "stdout",
     "output_type": "stream",
     "text": [
      "nvme_drive/scraped_files/20220821-003129-reddit/redgifs/redgifs_ancientformaldog.mp4\n",
      "nvme_drive/scraped_files/20220821-003129-reddit/reddit/nfy7yb8vyki91.jpg\n",
      "nvme_drive/scraped_files/20220821-003129-reddit/reddit/5856uuehjxg91.jpg\n"
     ]
    },
    {
     "name": "stderr",
     "output_type": "stream",
     "text": [
      "[urllib3.connectionpool][debug] https://i.redd.it:443 \"GET /5856uuehjxg91.jpg HTTP/1.1\" 200 793760\n",
      "[663/997] https://i.imgur.com/zi3SCry.jpeg\n",
      "[gallery-dl][debug] Starting DownloadJob for 'https://i.imgur.com/zi3SCry.jpeg'\n",
      "[imgur][debug] Using ImgurImageExtractor for 'https://i.imgur.com/zi3SCry.jpeg'\n",
      "[urllib3.connectionpool][debug] https://api.imgur.com:443 \"GET /post/v1/media/zi3SCry?include=media%2Ctags%2Caccount HTTP/1.1\" 200 515\n",
      "[urllib3.connectionpool][debug] https://i.imgur.com:443 \"GET /zi3SCry.jpg HTTP/1.1\" 200 491935\n",
      "[664/997] https://i.imgur.com/9H8K1TV.jpg\n",
      "[gallery-dl][debug] Starting DownloadJob for 'https://i.imgur.com/9H8K1TV.jpg'\n",
      "[imgur][debug] Using ImgurImageExtractor for 'https://i.imgur.com/9H8K1TV.jpg'\n",
      "[urllib3.connectionpool][debug] https://api.imgur.com:443 \"GET /post/v1/media/9H8K1TV?include=media%2Ctags%2Caccount HTTP/1.1\" 200 457\n"
     ]
    },
    {
     "name": "stdout",
     "output_type": "stream",
     "text": [
      "nvme_drive/scraped_files/20220821-003129-reddit/imgur/imgur_zi3SCry_First post in this shrine for Skye Blue ❤️.jpg\n",
      "nvme_drive/scraped_files/20220821-003129-reddit/imgur/imgur_9H8K1TV_Beautiful island girl.jpg\n"
     ]
    },
    {
     "name": "stderr",
     "output_type": "stream",
     "text": [
      "[urllib3.connectionpool][debug] https://i.imgur.com:443 \"GET /9H8K1TV.jpg HTTP/1.1\" 200 88784\n",
      "[665/997] https://redgifs.com/watch/cornsilkscalystoat\n",
      "[gallery-dl][debug] Starting DownloadJob for 'https://redgifs.com/watch/cornsilkscalystoat'\n",
      "[redgifs][debug] Using RedgifsImageExtractor for 'https://redgifs.com/watch/cornsilkscalystoat'\n",
      "[urllib3.connectionpool][debug] https://api.redgifs.com:443 \"GET /v2/gifs/cornsilkscalystoat HTTP/1.1\" 200 None\n",
      "[urllib3.connectionpool][debug] https://thumbs2.redgifs.com:443 \"GET /CornsilkScalyStoat.mp4 HTTP/1.1\" 200 24691544\n"
     ]
    },
    {
     "name": "stdout",
     "output_type": "stream",
     "text": [
      "nvme_drive/scraped_files/20220821-003129-reddit/redgifs/redgifs_cornsilkscalystoat.mp4\n",
      "nvme_drive/scraped_files/20220821-003129-reddit/imgur/imgur_OmjPESg_A work of art.jpg\n"
     ]
    },
    {
     "name": "stderr",
     "output_type": "stream",
     "text": [
      "[666/997] https://i.imgur.com/OmjPESg.jpg\n",
      "[gallery-dl][debug] Starting DownloadJob for 'https://i.imgur.com/OmjPESg.jpg'\n",
      "[imgur][debug] Using ImgurImageExtractor for 'https://i.imgur.com/OmjPESg.jpg'\n",
      "[urllib3.connectionpool][debug] https://api.imgur.com:443 \"GET /post/v1/media/OmjPESg?include=media%2Ctags%2Caccount HTTP/1.1\" 200 492\n",
      "[urllib3.connectionpool][debug] https://i.imgur.com:443 \"GET /OmjPESg.jpg HTTP/1.1\" 200 98457\n",
      "[667/997] https://i.redd.it/a2uh7k7hy3e91.jpg\n",
      "[gallery-dl][debug] Starting DownloadJob for 'https://i.redd.it/a2uh7k7hy3e91.jpg'\n",
      "[reddit][debug] Using RedditImageExtractor for 'https://i.redd.it/a2uh7k7hy3e91.jpg'\n",
      "[urllib3.connectionpool][debug] https://i.redd.it:443 \"GET /a2uh7k7hy3e91.jpg HTTP/1.1\" 200 420335\n"
     ]
    },
    {
     "name": "stdout",
     "output_type": "stream",
     "text": [
      "nvme_drive/scraped_files/20220821-003129-reddit/reddit/a2uh7k7hy3e91.jpg\n"
     ]
    },
    {
     "name": "stderr",
     "output_type": "stream",
     "text": [
      "[668/997] https://i.imgur.com/emwRydY.gifv\n",
      "[gallery-dl][debug] Starting DownloadJob for 'https://i.imgur.com/emwRydY.gifv'\n",
      "[imgur][debug] Using ImgurImageExtractor for 'https://i.imgur.com/emwRydY.gifv'\n",
      "[urllib3.connectionpool][debug] https://api.imgur.com:443 \"GET /post/v1/media/emwRydY?include=media%2Ctags%2Caccount HTTP/1.1\" 200 477\n",
      "[urllib3.connectionpool][debug] https://i.imgur.com:443 \"GET /emwRydY.mp4 HTTP/1.1\" 200 405798\n"
     ]
    },
    {
     "name": "stdout",
     "output_type": "stream",
     "text": [
      "nvme_drive/scraped_files/20220821-003129-reddit/imgur/imgur_emwRydY_Two For Flinching [gifv].mp4\n"
     ]
    },
    {
     "name": "stderr",
     "output_type": "stream",
     "text": [
      "[669/997] https://redgifs.com/watch/whimsicalwheatturkey\n",
      "[gallery-dl][debug] Starting DownloadJob for 'https://redgifs.com/watch/whimsicalwheatturkey'\n",
      "[redgifs][debug] Using RedgifsImageExtractor for 'https://redgifs.com/watch/whimsicalwheatturkey'\n",
      "[urllib3.connectionpool][debug] https://api.redgifs.com:443 \"GET /v2/gifs/whimsicalwheatturkey HTTP/1.1\" 200 None\n",
      "[urllib3.connectionpool][debug] https://thumbs2.redgifs.com:443 \"GET /WhimsicalWheatTurkey.mp4 HTTP/1.1\" 200 3085830\n"
     ]
    },
    {
     "name": "stdout",
     "output_type": "stream",
     "text": [
      "nvme_drive/scraped_files/20220821-003129-reddit/redgifs/redgifs_whimsicalwheatturkey.mp4\n"
     ]
    },
    {
     "name": "stderr",
     "output_type": "stream",
     "text": [
      "[670/997] https://redgifs.com/watch/othervirtualqueenslandgrouper\n",
      "[gallery-dl][debug] Starting DownloadJob for 'https://redgifs.com/watch/othervirtualqueenslandgrouper'\n",
      "[redgifs][debug] Using RedgifsImageExtractor for 'https://redgifs.com/watch/othervirtualqueenslandgrouper'\n",
      "[urllib3.connectionpool][debug] https://api.redgifs.com:443 \"GET /v2/gifs/othervirtualqueenslandgrouper HTTP/1.1\" 200 None\n",
      "[urllib3.connectionpool][debug] https://thumbs2.redgifs.com:443 \"GET /OtherVirtualQueenslandgrouper.mp4 HTTP/1.1\" 200 7916616\n"
     ]
    },
    {
     "name": "stdout",
     "output_type": "stream",
     "text": [
      "nvme_drive/scraped_files/20220821-003129-reddit/redgifs/redgifs_othervirtualqueenslandgrouper.mp4\n"
     ]
    },
    {
     "name": "stderr",
     "output_type": "stream",
     "text": [
      "[671/997] https://i.imgur.com/qRYOaxP.jpg\n",
      "[gallery-dl][debug] Starting DownloadJob for 'https://i.imgur.com/qRYOaxP.jpg'\n",
      "[imgur][debug] Using ImgurImageExtractor for 'https://i.imgur.com/qRYOaxP.jpg'\n",
      "[urllib3.connectionpool][debug] https://api.imgur.com:443 \"GET /post/v1/media/qRYOaxP?include=media%2Ctags%2Caccount HTTP/1.1\" 200 450\n",
      "[urllib3.connectionpool][debug] https://i.imgur.com:443 \"GET /qRYOaxP.jpg HTTP/1.1\" 200 998031\n"
     ]
    },
    {
     "name": "stdout",
     "output_type": "stream",
     "text": [
      "nvme_drive/scraped_files/20220821-003129-reddit/imgur/imgur_qRYOaxP_Anastasiya S.jpg\n"
     ]
    },
    {
     "name": "stderr",
     "output_type": "stream",
     "text": [
      "[672/997] http://i.imgur.com/UuArMdM.png\n",
      "[gallery-dl][debug] Starting DownloadJob for 'http://i.imgur.com/UuArMdM.png'\n",
      "[imgur][debug] Using ImgurImageExtractor for 'http://i.imgur.com/UuArMdM.png'\n",
      "[urllib3.connectionpool][debug] https://api.imgur.com:443 \"GET /post/v1/media/UuArMdM?include=media%2Ctags%2Caccount HTTP/1.1\" 200 465\n",
      "[urllib3.connectionpool][debug] https://i.imgur.com:443 \"GET /UuArMdM.jpg HTTP/1.1\" 200 1884514\n"
     ]
    },
    {
     "name": "stdout",
     "output_type": "stream",
     "text": [
      "nvme_drive/scraped_files/20220821-003129-reddit/imgur/imgur_UuArMdM_spread em.jpg\n"
     ]
    },
    {
     "name": "stderr",
     "output_type": "stream",
     "text": [
      "[673/997] https://www.reddit.com/r/nsfw/comments/w4c6hq/jane_wilde_taking_it_deeeeep/\n",
      "[gallery-dl][debug] Starting DownloadJob for 'https://www.reddit.com/r/nsfw/comments/w4c6hq/jane_wilde_taking_it_deeeeep/'\n",
      "[reddit][debug] Using RedditSubmissionExtractor for 'https://www.reddit.com/r/nsfw/comments/w4c6hq/jane_wilde_taking_it_deeeeep/'\n",
      "[reddit][info] Requesting public access token\n",
      "[urllib3.connectionpool][debug] Starting new HTTPS connection (1): www.reddit.com:443\n",
      "[urllib3.connectionpool][debug] https://www.reddit.com:443 \"POST /api/v1/access_token HTTP/1.1\" 200 151\n",
      "[urllib3.connectionpool][debug] Starting new HTTPS connection (1): oauth.reddit.com:443\n",
      "[urllib3.connectionpool][debug] https://oauth.reddit.com:443 \"GET /comments/w4c6hq/.json?limit=0&raw_json=1 HTTP/1.1\" 200 2175\n",
      "[674/997] https://www.redgifs.com/watch/cornyawfulcassowary\n",
      "[gallery-dl][debug] Starting DownloadJob for 'https://www.redgifs.com/watch/cornyawfulcassowary'\n",
      "[redgifs][debug] Using RedgifsImageExtractor for 'https://www.redgifs.com/watch/cornyawfulcassowary'\n",
      "[urllib3.connectionpool][debug] https://api.redgifs.com:443 \"GET /v2/gifs/cornyawfulcassowary HTTP/1.1\" 200 None\n",
      "[urllib3.connectionpool][debug] https://thumbs2.redgifs.com:443 \"GET /CornyAwfulCassowary.mp4 HTTP/1.1\" 200 47012902\n"
     ]
    },
    {
     "name": "stdout",
     "output_type": "stream",
     "text": [
      "nvme_drive/scraped_files/20220821-003129-reddit/redgifs/redgifs_cornyawfulcassowary.mp4\n"
     ]
    },
    {
     "name": "stderr",
     "output_type": "stream",
     "text": [
      "[675/997] https://i.imgur.com/yOpjzpI.jpg\n",
      "[gallery-dl][debug] Starting DownloadJob for 'https://i.imgur.com/yOpjzpI.jpg'\n",
      "[imgur][debug] Using ImgurImageExtractor for 'https://i.imgur.com/yOpjzpI.jpg'\n",
      "[urllib3.connectionpool][debug] https://api.imgur.com:443 \"GET /post/v1/media/yOpjzpI?include=media%2Ctags%2Caccount HTTP/1.1\" 200 451\n",
      "[urllib3.connectionpool][debug] https://i.imgur.com:443 \"GET /yOpjzpI.jpg HTTP/1.1\" 200 437661\n",
      "[676/997] https://i.redd.it/bzsvipy05ii91.jpg\n",
      "[gallery-dl][debug] Starting DownloadJob for 'https://i.redd.it/bzsvipy05ii91.jpg'\n",
      "[reddit][debug] Using RedditImageExtractor for 'https://i.redd.it/bzsvipy05ii91.jpg'\n",
      "[urllib3.connectionpool][debug] https://i.redd.it:443 \"GET /bzsvipy05ii91.jpg HTTP/1.1\" 200 238359\n",
      "[677/997] https://i.redd.it/90ph7ammsff91.gif\n",
      "[gallery-dl][debug] Starting DownloadJob for 'https://i.redd.it/90ph7ammsff91.gif'\n",
      "[reddit][debug] Using RedditImageExtractor for 'https://i.redd.it/90ph7ammsff91.gif'\n",
      "[urllib3.connectionpool][debug] https://i.redd.it:443 \"GET /90ph7ammsff91.gif HTTP/1.1\" 200 1285265\n"
     ]
    },
    {
     "name": "stdout",
     "output_type": "stream",
     "text": [
      "nvme_drive/scraped_files/20220821-003129-reddit/imgur/imgur_yOpjzpI_Leona Mia.jpg\n",
      "nvme_drive/scraped_files/20220821-003129-reddit/reddit/bzsvipy05ii91.jpg\n",
      "nvme_drive/scraped_files/20220821-003129-reddit/reddit/90ph7ammsff91.gif\n",
      "nvme_drive/scraped_files/20220821-003129-reddit/imgur/imgur_g0HiQd6_Beautiful (Karissa Diamond).jpg\n"
     ]
    },
    {
     "name": "stderr",
     "output_type": "stream",
     "text": [
      "[678/997] https://i.imgur.com/g0HiQd6.jpg\n",
      "[gallery-dl][debug] Starting DownloadJob for 'https://i.imgur.com/g0HiQd6.jpg'\n",
      "[imgur][debug] Using ImgurImageExtractor for 'https://i.imgur.com/g0HiQd6.jpg'\n",
      "[urllib3.connectionpool][debug] https://api.imgur.com:443 \"GET /post/v1/media/g0HiQd6?include=media%2Ctags%2Caccount HTTP/1.1\" 200 466\n",
      "[urllib3.connectionpool][debug] https://i.imgur.com:443 \"GET /g0HiQd6.jpg HTTP/1.1\" 200 97815\n",
      "[679/997] https://www.redgifs.com/watch/fickleanotheryellowhammer\n",
      "[gallery-dl][debug] Starting DownloadJob for 'https://www.redgifs.com/watch/fickleanotheryellowhammer'\n",
      "[redgifs][debug] Using RedgifsImageExtractor for 'https://www.redgifs.com/watch/fickleanotheryellowhammer'\n",
      "[urllib3.connectionpool][debug] https://api.redgifs.com:443 \"GET /v2/gifs/fickleanotheryellowhammer HTTP/1.1\" 200 None\n",
      "[urllib3.connectionpool][debug] https://thumbs2.redgifs.com:443 \"GET /FickleAnotherYellowhammer.mp4 HTTP/1.1\" 200 3110072\n"
     ]
    },
    {
     "name": "stdout",
     "output_type": "stream",
     "text": [
      "nvme_drive/scraped_files/20220821-003129-reddit/redgifs/redgifs_fickleanotheryellowhammer.mp4\n"
     ]
    },
    {
     "name": "stderr",
     "output_type": "stream",
     "text": [
      "[680/997] https://i.imgur.com/X24QCL3.jpg\n",
      "[gallery-dl][debug] Starting DownloadJob for 'https://i.imgur.com/X24QCL3.jpg'\n",
      "[imgur][debug] Using ImgurImageExtractor for 'https://i.imgur.com/X24QCL3.jpg'\n",
      "[urllib3.connectionpool][debug] https://api.imgur.com:443 \"GET /post/v1/media/X24QCL3?include=media%2Ctags%2Caccount HTTP/1.1\" 200 470\n",
      "[urllib3.connectionpool][debug] https://i.imgur.com:443 \"GET /X24QCL3.jpg HTTP/1.1\" 200 1107352\n"
     ]
    },
    {
     "name": "stdout",
     "output_type": "stream",
     "text": [
      "nvme_drive/scraped_files/20220821-003129-reddit/imgur/imgur_X24QCL3_Galina Berezovskaya.jpg\n"
     ]
    },
    {
     "name": "stderr",
     "output_type": "stream",
     "text": [
      "[681/997] https://www.redgifs.com/watch/dearfrontgourami\n",
      "[gallery-dl][debug] Starting DownloadJob for 'https://www.redgifs.com/watch/dearfrontgourami'\n",
      "[redgifs][debug] Using RedgifsImageExtractor for 'https://www.redgifs.com/watch/dearfrontgourami'\n",
      "[urllib3.connectionpool][debug] https://api.redgifs.com:443 \"GET /v2/gifs/dearfrontgourami HTTP/1.1\" 200 None\n",
      "[urllib3.connectionpool][debug] https://thumbs2.redgifs.com:443 \"GET /DearFrontGourami.mp4 HTTP/1.1\" 200 16054851\n"
     ]
    },
    {
     "name": "stdout",
     "output_type": "stream",
     "text": [
      "nvme_drive/scraped_files/20220821-003129-reddit/redgifs/redgifs_dearfrontgourami.mp4\n"
     ]
    },
    {
     "name": "stderr",
     "output_type": "stream",
     "text": [
      "[682/997] https://i.imgur.com/KnOoSq9.jpg\n",
      "[gallery-dl][debug] Starting DownloadJob for 'https://i.imgur.com/KnOoSq9.jpg'\n",
      "[imgur][debug] Using ImgurImageExtractor for 'https://i.imgur.com/KnOoSq9.jpg'\n",
      "[urllib3.connectionpool][debug] https://api.imgur.com:443 \"GET /post/v1/media/KnOoSq9?include=media%2Ctags%2Caccount HTTP/1.1\" 200 479\n",
      "[urllib3.connectionpool][debug] https://i.imgur.com:443 \"GET /KnOoSq9.jpg HTTP/1.1\" 200 1386944\n"
     ]
    },
    {
     "name": "stdout",
     "output_type": "stream",
     "text": [
      "nvme_drive/scraped_files/20220821-003129-reddit/imgur/imgur_KnOoSq9_large labia.jpg\n"
     ]
    },
    {
     "name": "stderr",
     "output_type": "stream",
     "text": [
      "[683/997] https://www.redgifs.com/watch/hotpinkajarflyingfox\n",
      "[gallery-dl][debug] Starting DownloadJob for 'https://www.redgifs.com/watch/hotpinkajarflyingfox'\n",
      "[redgifs][debug] Using RedgifsImageExtractor for 'https://www.redgifs.com/watch/hotpinkajarflyingfox'\n",
      "[urllib3.connectionpool][debug] https://api.redgifs.com:443 \"GET /v2/gifs/hotpinkajarflyingfox HTTP/1.1\" 200 None\n",
      "[urllib3.connectionpool][debug] https://thumbs2.redgifs.com:443 \"GET /HotpinkAjarFlyingfox.mp4 HTTP/1.1\" 200 53428359\n"
     ]
    },
    {
     "name": "stdout",
     "output_type": "stream",
     "text": [
      "nvme_drive/scraped_files/20220821-003129-reddit/redgifs/redgifs_hotpinkajarflyingfox.mp4\n"
     ]
    },
    {
     "name": "stderr",
     "output_type": "stream",
     "text": [
      "[684/997] https://www.redgifs.com/watch/wealthybaggyriograndeescuerzo\n",
      "[gallery-dl][debug] Starting DownloadJob for 'https://www.redgifs.com/watch/wealthybaggyriograndeescuerzo'\n",
      "[redgifs][debug] Using RedgifsImageExtractor for 'https://www.redgifs.com/watch/wealthybaggyriograndeescuerzo'\n",
      "[urllib3.connectionpool][debug] https://api.redgifs.com:443 \"GET /v2/gifs/wealthybaggyriograndeescuerzo HTTP/1.1\" 200 None\n",
      "[urllib3.connectionpool][debug] https://thumbs2.redgifs.com:443 \"GET /WealthyBaggyRiograndeescuerzo.mp4 HTTP/1.1\" 200 3613534\n"
     ]
    },
    {
     "name": "stdout",
     "output_type": "stream",
     "text": [
      "nvme_drive/scraped_files/20220821-003129-reddit/redgifs/redgifs_wealthybaggyriograndeescuerzo.mp4\n"
     ]
    },
    {
     "name": "stderr",
     "output_type": "stream",
     "text": [
      "[685/997] https://i.imgur.com/FI4p3Mn.jpg\n",
      "[gallery-dl][debug] Starting DownloadJob for 'https://i.imgur.com/FI4p3Mn.jpg'\n",
      "[imgur][debug] Using ImgurImageExtractor for 'https://i.imgur.com/FI4p3Mn.jpg'\n",
      "[urllib3.connectionpool][debug] https://api.imgur.com:443 \"GET /post/v1/media/FI4p3Mn?include=media%2Ctags%2Caccount HTTP/1.1\" 200 474\n",
      "[urllib3.connectionpool][debug] https://i.imgur.com:443 \"GET /FI4p3Mn.jpg HTTP/1.1\" 200 1504648\n"
     ]
    },
    {
     "name": "stdout",
     "output_type": "stream",
     "text": [
      "nvme_drive/scraped_files/20220821-003129-reddit/imgur/imgur_FI4p3Mn_Nici Dee.jpg\n",
      "nvme_drive/scraped_files/20220821-003129-reddit/reddit/3xp25dlthfe91.jpg\n"
     ]
    },
    {
     "name": "stderr",
     "output_type": "stream",
     "text": [
      "[686/997] https://i.redd.it/3xp25dlthfe91.jpg\n",
      "[gallery-dl][debug] Starting DownloadJob for 'https://i.redd.it/3xp25dlthfe91.jpg'\n",
      "[reddit][debug] Using RedditImageExtractor for 'https://i.redd.it/3xp25dlthfe91.jpg'\n",
      "[urllib3.connectionpool][debug] https://i.redd.it:443 \"GET /3xp25dlthfe91.jpg HTTP/1.1\" 200 366892\n",
      "[687/997] https://i.imgur.com/g3d0m8E.jpg\n",
      "[gallery-dl][debug] Starting DownloadJob for 'https://i.imgur.com/g3d0m8E.jpg'\n",
      "[imgur][debug] Using ImgurImageExtractor for 'https://i.imgur.com/g3d0m8E.jpg'\n",
      "[urllib3.connectionpool][debug] https://api.imgur.com:443 \"GET /post/v1/media/g3d0m8E?include=media%2Ctags%2Caccount HTTP/1.1\" 200 463\n",
      "[urllib3.connectionpool][debug] https://i.imgur.com:443 \"GET /g3d0m8E.jpg HTTP/1.1\" 200 2896042\n"
     ]
    },
    {
     "name": "stdout",
     "output_type": "stream",
     "text": [
      "nvme_drive/scraped_files/20220821-003129-reddit/imgur/imgur_g3d0m8E_I love going to a wellness.jpg\n",
      "nvme_drive/scraped_files/20220821-003129-reddit/reddit/debnp7xsdt171.jpg\n"
     ]
    },
    {
     "name": "stderr",
     "output_type": "stream",
     "text": [
      "[688/997] https://i.redd.it/debnp7xsdt171.jpg\n",
      "[gallery-dl][debug] Starting DownloadJob for 'https://i.redd.it/debnp7xsdt171.jpg'\n",
      "[reddit][debug] Using RedditImageExtractor for 'https://i.redd.it/debnp7xsdt171.jpg'\n",
      "[urllib3.connectionpool][debug] https://i.redd.it:443 \"GET /debnp7xsdt171.jpg HTTP/1.1\" 200 198838\n",
      "[689/997] https://i.imgur.com/JJfbO88.gif\n",
      "[gallery-dl][debug] Starting DownloadJob for 'https://i.imgur.com/JJfbO88.gif'\n",
      "[imgur][debug] Using ImgurImageExtractor for 'https://i.imgur.com/JJfbO88.gif'\n",
      "[urllib3.connectionpool][debug] https://api.imgur.com:443 \"GET /post/v1/media/JJfbO88?include=media%2Ctags%2Caccount HTTP/1.1\" 200 466\n",
      "[urllib3.connectionpool][debug] https://i.imgur.com:443 \"GET /JJfbO88.mp4 HTTP/1.1\" 200 15152897\n"
     ]
    },
    {
     "name": "stdout",
     "output_type": "stream",
     "text": [
      "nvme_drive/scraped_files/20220821-003129-reddit/imgur/imgur_JJfbO88_Damn.mp4\n",
      "nvme_drive/scraped_files/20220821-003129-reddit/reddit/7v2v2v83yud91.jpg\n",
      "nvme_drive/scraped_files/20220821-003129-reddit/imgur/imgur_JQBZphO_Popsicles.jpg\n"
     ]
    },
    {
     "name": "stderr",
     "output_type": "stream",
     "text": [
      "[690/997] https://i.redd.it/7v2v2v83yud91.jpg\n",
      "[gallery-dl][debug] Starting DownloadJob for 'https://i.redd.it/7v2v2v83yud91.jpg'\n",
      "[reddit][debug] Using RedditImageExtractor for 'https://i.redd.it/7v2v2v83yud91.jpg'\n",
      "[urllib3.connectionpool][debug] https://i.redd.it:443 \"GET /7v2v2v83yud91.jpg HTTP/1.1\" 200 67242\n",
      "[691/997] https://i.imgur.com/JQBZphO.jpg\n",
      "[gallery-dl][debug] Starting DownloadJob for 'https://i.imgur.com/JQBZphO.jpg'\n",
      "[imgur][debug] Using ImgurImageExtractor for 'https://i.imgur.com/JQBZphO.jpg'\n",
      "[urllib3.connectionpool][debug] https://api.imgur.com:443 \"GET /post/v1/media/JQBZphO?include=media%2Ctags%2Caccount HTTP/1.1\" 200 495\n",
      "[urllib3.connectionpool][debug] https://i.imgur.com:443 \"GET /JQBZphO.jpg HTTP/1.1\" 200 276752\n",
      "[692/997] https://www.redgifs.com/watch/cadetbluefriendlyindianelephant\n",
      "[gallery-dl][debug] Starting DownloadJob for 'https://www.redgifs.com/watch/cadetbluefriendlyindianelephant'\n",
      "[redgifs][debug] Using RedgifsImageExtractor for 'https://www.redgifs.com/watch/cadetbluefriendlyindianelephant'\n",
      "[urllib3.connectionpool][debug] https://api.redgifs.com:443 \"GET /v2/gifs/cadetbluefriendlyindianelephant HTTP/1.1\" 200 None\n",
      "[urllib3.connectionpool][debug] https://thumbs2.redgifs.com:443 \"GET /CadetblueFriendlyIndianelephant.mp4 HTTP/1.1\" 200 61393683\n"
     ]
    },
    {
     "name": "stdout",
     "output_type": "stream",
     "text": [
      "nvme_drive/scraped_files/20220821-003129-reddit/redgifs/redgifs_cadetbluefriendlyindianelephant.mp4\n"
     ]
    },
    {
     "name": "stderr",
     "output_type": "stream",
     "text": [
      "[693/997] https://www.redgifs.com/watch/unsungwanavocet\n",
      "[gallery-dl][debug] Starting DownloadJob for 'https://www.redgifs.com/watch/unsungwanavocet'\n",
      "[redgifs][debug] Using RedgifsImageExtractor for 'https://www.redgifs.com/watch/unsungwanavocet'\n",
      "[urllib3.connectionpool][debug] https://api.redgifs.com:443 \"GET /v2/gifs/unsungwanavocet HTTP/1.1\" 200 None\n",
      "[urllib3.connectionpool][debug] https://thumbs2.redgifs.com:443 \"GET /UnsungWanAvocet.mp4 HTTP/1.1\" 200 2530361\n"
     ]
    },
    {
     "name": "stdout",
     "output_type": "stream",
     "text": [
      "nvme_drive/scraped_files/20220821-003129-reddit/redgifs/redgifs_unsungwanavocet.mp4\n"
     ]
    },
    {
     "name": "stderr",
     "output_type": "stream",
     "text": [
      "[694/997] https://i.imgur.com/Fa6BAo5.gifv\n",
      "[gallery-dl][debug] Starting DownloadJob for 'https://i.imgur.com/Fa6BAo5.gifv'\n",
      "[imgur][debug] Using ImgurImageExtractor for 'https://i.imgur.com/Fa6BAo5.gifv'\n",
      "[urllib3.connectionpool][debug] https://api.imgur.com:443 \"GET /post/v1/media/Fa6BAo5?include=media%2Ctags%2Caccount HTTP/1.1\" 200 463\n",
      "[urllib3.connectionpool][debug] https://i.imgur.com:443 \"GET /Fa6BAo5.mp4 HTTP/1.1\" 200 10592585\n"
     ]
    },
    {
     "name": "stdout",
     "output_type": "stream",
     "text": [
      "nvme_drive/scraped_files/20220821-003129-reddit/imgur/imgur_Fa6BAo5_she wants a pair.mp4\n",
      "nvme_drive/scraped_files/20220821-003129-reddit/imgur/imgur_4ghcaH0_Outdoor yoga.jpg\n"
     ]
    },
    {
     "name": "stderr",
     "output_type": "stream",
     "text": [
      "[695/997] https://i.imgur.com/4ghcaH0.jpg\n",
      "[gallery-dl][debug] Starting DownloadJob for 'https://i.imgur.com/4ghcaH0.jpg'\n",
      "[imgur][debug] Using ImgurImageExtractor for 'https://i.imgur.com/4ghcaH0.jpg'\n",
      "[urllib3.connectionpool][debug] https://api.imgur.com:443 \"GET /post/v1/media/4ghcaH0?include=media%2Ctags%2Caccount HTTP/1.1\" 200 491\n",
      "[urllib3.connectionpool][debug] https://i.imgur.com:443 \"GET /4ghcaH0.jpg HTTP/1.1\" 200 379497\n",
      "[696/997] https://i.imgur.com/zGZOxxb.jpg\n",
      "[gallery-dl][debug] Starting DownloadJob for 'https://i.imgur.com/zGZOxxb.jpg'\n",
      "[imgur][debug] Using ImgurImageExtractor for 'https://i.imgur.com/zGZOxxb.jpg'\n",
      "[urllib3.connectionpool][debug] https://api.imgur.com:443 \"GET /post/v1/media/zGZOxxb?include=media%2Ctags%2Caccount HTTP/1.1\" 200 489\n",
      "[urllib3.connectionpool][debug] https://i.imgur.com:443 \"GET /zGZOxxb.jpg HTTP/1.1\" 200 1142300\n"
     ]
    },
    {
     "name": "stdout",
     "output_type": "stream",
     "text": [
      "nvme_drive/scraped_files/20220821-003129-reddit/imgur/imgur_zGZOxxb_JOSEPHINE.jpg\n",
      "nvme_drive/scraped_files/20220821-003129-reddit/imgur/imgur_HCVambG_Morning Java.jpg\n"
     ]
    },
    {
     "name": "stderr",
     "output_type": "stream",
     "text": [
      "[697/997] https://i.imgur.com/HCVambG.jpeg\n",
      "[gallery-dl][debug] Starting DownloadJob for 'https://i.imgur.com/HCVambG.jpeg'\n",
      "[imgur][debug] Using ImgurImageExtractor for 'https://i.imgur.com/HCVambG.jpeg'\n",
      "[urllib3.connectionpool][debug] https://api.imgur.com:443 \"GET /post/v1/media/HCVambG?include=media%2Ctags%2Caccount HTTP/1.1\" 200 453\n",
      "[urllib3.connectionpool][debug] https://i.imgur.com:443 \"GET /HCVambG.jpg HTTP/1.1\" 200 106326\n",
      "[698/997] https://i.imgur.com/h3h7iFi.jpg\n",
      "[gallery-dl][debug] Starting DownloadJob for 'https://i.imgur.com/h3h7iFi.jpg'\n",
      "[imgur][debug] Using ImgurImageExtractor for 'https://i.imgur.com/h3h7iFi.jpg'\n",
      "[urllib3.connectionpool][debug] https://api.imgur.com:443 \"GET /post/v1/media/h3h7iFi?include=media%2Ctags%2Caccount HTTP/1.1\" 200 457\n",
      "[urllib3.connectionpool][debug] https://i.imgur.com:443 \"GET /h3h7iFi.jpg HTTP/1.1\" 200 543837\n",
      "[699/997] https://i.imgur.com/uj4iVdV.gifv\n",
      "[gallery-dl][debug] Starting DownloadJob for 'https://i.imgur.com/uj4iVdV.gifv'\n",
      "[imgur][debug] Using ImgurImageExtractor for 'https://i.imgur.com/uj4iVdV.gifv'\n"
     ]
    },
    {
     "name": "stdout",
     "output_type": "stream",
     "text": [
      "nvme_drive/scraped_files/20220821-003129-reddit/imgur/imgur_h3h7iFi_Classic Carmen.jpg\n"
     ]
    },
    {
     "name": "stderr",
     "output_type": "stream",
     "text": [
      "[urllib3.connectionpool][debug] https://api.imgur.com:443 \"GET /post/v1/media/uj4iVdV?include=media%2Ctags%2Caccount HTTP/1.1\" 200 466\n",
      "[urllib3.connectionpool][debug] https://i.imgur.com:443 \"GET /uj4iVdV.mp4 HTTP/1.1\" 200 13476646\n"
     ]
    },
    {
     "name": "stdout",
     "output_type": "stream",
     "text": [
      "nvme_drive/scraped_files/20220821-003129-reddit/imgur/imgur_uj4iVdV_A day at the beach.mp4\n",
      "nvme_drive/scraped_files/20220821-003129-reddit/imgur/imgur_G2lQPTT_She Is Inked & Oiled.jpg\n",
      "nvme_drive/scraped_files/20220821-003129-reddit/reddit/io88dp03irg91.jpg\n"
     ]
    },
    {
     "name": "stderr",
     "output_type": "stream",
     "text": [
      "[700/997] https://i.imgur.com/G2lQPTT.jpg\n",
      "[gallery-dl][debug] Starting DownloadJob for 'https://i.imgur.com/G2lQPTT.jpg'\n",
      "[imgur][debug] Using ImgurImageExtractor for 'https://i.imgur.com/G2lQPTT.jpg'\n",
      "[urllib3.connectionpool][debug] https://api.imgur.com:443 \"GET /post/v1/media/G2lQPTT?include=media%2Ctags%2Caccount HTTP/1.1\" 200 486\n",
      "[urllib3.connectionpool][debug] https://i.imgur.com:443 \"GET /G2lQPTT.jpg HTTP/1.1\" 200 186571\n",
      "[701/997] https://i.redd.it/io88dp03irg91.jpg\n",
      "[gallery-dl][debug] Starting DownloadJob for 'https://i.redd.it/io88dp03irg91.jpg'\n",
      "[reddit][debug] Using RedditImageExtractor for 'https://i.redd.it/io88dp03irg91.jpg'\n",
      "[urllib3.connectionpool][debug] https://i.redd.it:443 \"GET /io88dp03irg91.jpg HTTP/1.1\" 200 44399\n",
      "[702/997] https://i.redd.it/p5hmh679amg91.jpg\n",
      "[gallery-dl][debug] Starting DownloadJob for 'https://i.redd.it/p5hmh679amg91.jpg'\n",
      "[reddit][debug] Using RedditImageExtractor for 'https://i.redd.it/p5hmh679amg91.jpg'\n",
      "[urllib3.connectionpool][debug] https://i.redd.it:443 \"GET /p5hmh679amg91.jpg HTTP/1.1\" 200 4103960\n"
     ]
    },
    {
     "name": "stdout",
     "output_type": "stream",
     "text": [
      "nvme_drive/scraped_files/20220821-003129-reddit/reddit/p5hmh679amg91.jpg\n"
     ]
    },
    {
     "name": "stderr",
     "output_type": "stream",
     "text": [
      "[703/997] https://www.redgifs.com/watch/thriftyweeklyocelot\n",
      "[gallery-dl][debug] Starting DownloadJob for 'https://www.redgifs.com/watch/thriftyweeklyocelot'\n",
      "[redgifs][debug] Using RedgifsImageExtractor for 'https://www.redgifs.com/watch/thriftyweeklyocelot'\n",
      "[urllib3.connectionpool][debug] https://api.redgifs.com:443 \"GET /v2/gifs/thriftyweeklyocelot HTTP/1.1\" 200 None\n",
      "[urllib3.connectionpool][debug] https://thumbs2.redgifs.com:443 \"GET /ThriftyWeeklyOcelot.mp4 HTTP/1.1\" 200 30530358\n"
     ]
    },
    {
     "name": "stdout",
     "output_type": "stream",
     "text": [
      "nvme_drive/scraped_files/20220821-003129-reddit/redgifs/redgifs_thriftyweeklyocelot.mp4\n"
     ]
    },
    {
     "name": "stderr",
     "output_type": "stream",
     "text": [
      "[704/997] https://www.redgifs.com/watch/angrymaletigershark\n",
      "[gallery-dl][debug] Starting DownloadJob for 'https://www.redgifs.com/watch/angrymaletigershark'\n",
      "[redgifs][debug] Using RedgifsImageExtractor for 'https://www.redgifs.com/watch/angrymaletigershark'\n",
      "[urllib3.connectionpool][debug] https://api.redgifs.com:443 \"GET /v2/gifs/angrymaletigershark HTTP/1.1\" 200 None\n",
      "[urllib3.connectionpool][debug] https://thumbs2.redgifs.com:443 \"GET /AngryMaleTigershark.mp4 HTTP/1.1\" 200 5107817\n"
     ]
    },
    {
     "name": "stdout",
     "output_type": "stream",
     "text": [
      "nvme_drive/scraped_files/20220821-003129-reddit/redgifs/redgifs_angrymaletigershark.mp4\n"
     ]
    },
    {
     "name": "stderr",
     "output_type": "stream",
     "text": [
      "[705/997] https://i.imgur.com/luK0gfF.jpg\n",
      "[gallery-dl][debug] Starting DownloadJob for 'https://i.imgur.com/luK0gfF.jpg'\n",
      "[imgur][debug] Using ImgurImageExtractor for 'https://i.imgur.com/luK0gfF.jpg'\n",
      "[urllib3.connectionpool][debug] https://api.imgur.com:443 \"GET /post/v1/media/luK0gfF?include=media%2Ctags%2Caccount HTTP/1.1\" 200 507\n",
      "[urllib3.connectionpool][debug] https://i.imgur.com:443 \"GET /luK0gfF.jpg HTTP/1.1\" 200 2411032\n"
     ]
    },
    {
     "name": "stdout",
     "output_type": "stream",
     "text": [
      "nvme_drive/scraped_files/20220821-003129-reddit/imgur/imgur_luK0gfF_Forest.jpg\n",
      "nvme_drive/scraped_files/20220821-003129-reddit/imgur/imgur_OlHyrPN_Pornstar with model looks.jpg\n"
     ]
    },
    {
     "name": "stderr",
     "output_type": "stream",
     "text": [
      "[706/997] https://i.imgur.com/OlHyrPN.jpg\n",
      "[gallery-dl][debug] Starting DownloadJob for 'https://i.imgur.com/OlHyrPN.jpg'\n",
      "[imgur][debug] Using ImgurImageExtractor for 'https://i.imgur.com/OlHyrPN.jpg'\n",
      "[urllib3.connectionpool][debug] https://api.imgur.com:443 \"GET /post/v1/media/OlHyrPN?include=media%2Ctags%2Caccount HTTP/1.1\" 200 458\n",
      "[urllib3.connectionpool][debug] https://i.imgur.com:443 \"GET /OlHyrPN.jpg HTTP/1.1\" 200 203208\n",
      "[707/997] https://i.redd.it/qo24bcw7v7i91.jpg\n",
      "[gallery-dl][debug] Starting DownloadJob for 'https://i.redd.it/qo24bcw7v7i91.jpg'\n",
      "[reddit][debug] Using RedditImageExtractor for 'https://i.redd.it/qo24bcw7v7i91.jpg'\n",
      "[urllib3.connectionpool][debug] https://i.redd.it:443 \"GET /qo24bcw7v7i91.jpg HTTP/1.1\" 200 80919\n"
     ]
    },
    {
     "name": "stdout",
     "output_type": "stream",
     "text": [
      "nvme_drive/scraped_files/20220821-003129-reddit/reddit/qo24bcw7v7i91.jpg\n"
     ]
    },
    {
     "name": "stderr",
     "output_type": "stream",
     "text": [
      "[708/997] https://i.imgur.com/YZ6PqJk.jpg\n",
      "[gallery-dl][debug] Starting DownloadJob for 'https://i.imgur.com/YZ6PqJk.jpg'\n",
      "[imgur][debug] Using ImgurImageExtractor for 'https://i.imgur.com/YZ6PqJk.jpg'\n",
      "[urllib3.connectionpool][debug] https://api.imgur.com:443 \"GET /post/v1/media/YZ6PqJk?include=media%2Ctags%2Caccount HTTP/1.1\" 200 465\n",
      "[urllib3.connectionpool][debug] https://i.imgur.com:443 \"GET /YZ6PqJk.jpg HTTP/1.1\" 200 1312778\n"
     ]
    },
    {
     "name": "stdout",
     "output_type": "stream",
     "text": [
      "nvme_drive/scraped_files/20220821-003129-reddit/imgur/imgur_YZ6PqJk_No panties.jpg\n",
      "nvme_drive/scraped_files/20220821-003129-reddit/imgur/imgur_0wORChp_Smooth Outdoors.jpg\n"
     ]
    },
    {
     "name": "stderr",
     "output_type": "stream",
     "text": [
      "[709/997] https://i.imgur.com/0wORChp.jpg\n",
      "[gallery-dl][debug] Starting DownloadJob for 'https://i.imgur.com/0wORChp.jpg'\n",
      "[imgur][debug] Using ImgurImageExtractor for 'https://i.imgur.com/0wORChp.jpg'\n",
      "[urllib3.connectionpool][debug] https://api.imgur.com:443 \"GET /post/v1/media/0wORChp?include=media%2Ctags%2Caccount HTTP/1.1\" 200 502\n",
      "[urllib3.connectionpool][debug] https://i.imgur.com:443 \"GET /0wORChp.jpg HTTP/1.1\" 200 433227\n",
      "[710/997] https://redgifs.com/watch/masculineglamorousamazonparrot\n",
      "[gallery-dl][debug] Starting DownloadJob for 'https://redgifs.com/watch/masculineglamorousamazonparrot'\n",
      "[redgifs][debug] Using RedgifsImageExtractor for 'https://redgifs.com/watch/masculineglamorousamazonparrot'\n",
      "[urllib3.connectionpool][debug] https://api.redgifs.com:443 \"GET /v2/gifs/masculineglamorousamazonparrot HTTP/1.1\" 200 None\n",
      "[urllib3.connectionpool][debug] https://thumbs2.redgifs.com:443 \"GET /MasculineGlamorousAmazonparrot.mp4 HTTP/1.1\" 200 37277285\n"
     ]
    },
    {
     "name": "stdout",
     "output_type": "stream",
     "text": [
      "nvme_drive/scraped_files/20220821-003129-reddit/redgifs/redgifs_masculineglamorousamazonparrot.mp4\n"
     ]
    },
    {
     "name": "stderr",
     "output_type": "stream",
     "text": [
      "[711/997] https://www.redgifs.com/watch/warmuniquebunny\n",
      "[gallery-dl][debug] Starting DownloadJob for 'https://www.redgifs.com/watch/warmuniquebunny'\n",
      "[redgifs][debug] Using RedgifsImageExtractor for 'https://www.redgifs.com/watch/warmuniquebunny'\n",
      "[urllib3.connectionpool][debug] https://api.redgifs.com:443 \"GET /v2/gifs/warmuniquebunny HTTP/1.1\" 200 None\n",
      "[urllib3.connectionpool][debug] https://thumbs2.redgifs.com:443 \"GET /WarmUniqueBunny.mp4 HTTP/1.1\" 200 18770363\n"
     ]
    },
    {
     "name": "stdout",
     "output_type": "stream",
     "text": [
      "nvme_drive/scraped_files/20220821-003129-reddit/redgifs/redgifs_warmuniquebunny.mp4\n"
     ]
    },
    {
     "name": "stderr",
     "output_type": "stream",
     "text": [
      "[712/997] https://i.imgur.com/jGd7g2D.jpg\n",
      "[gallery-dl][debug] Starting DownloadJob for 'https://i.imgur.com/jGd7g2D.jpg'\n",
      "[imgur][debug] Using ImgurImageExtractor for 'https://i.imgur.com/jGd7g2D.jpg'\n",
      "[urllib3.connectionpool][debug] https://api.imgur.com:443 \"GET /post/v1/media/jGd7g2D?include=media%2Ctags%2Caccount HTTP/1.1\" 200 468\n",
      "[urllib3.connectionpool][debug] https://i.imgur.com:443 \"GET /jGd7g2D.jpg HTTP/1.1\" 200 1373420\n"
     ]
    },
    {
     "name": "stdout",
     "output_type": "stream",
     "text": [
      "nvme_drive/scraped_files/20220821-003129-reddit/imgur/imgur_jGd7g2D_Coxy.jpg\n"
     ]
    },
    {
     "name": "stderr",
     "output_type": "stream",
     "text": [
      "[713/997] https://i.imgur.com/lBGzE0B.gifv\n",
      "[gallery-dl][debug] Starting DownloadJob for 'https://i.imgur.com/lBGzE0B.gifv'\n",
      "[imgur][debug] Using ImgurImageExtractor for 'https://i.imgur.com/lBGzE0B.gifv'\n",
      "[urllib3.connectionpool][debug] https://api.imgur.com:443 \"GET /post/v1/media/lBGzE0B?include=media%2Ctags%2Caccount HTTP/1.1\" 200 478\n",
      "[urllib3.connectionpool][debug] https://i.imgur.com:443 \"GET /lBGzE0B.mp4 HTTP/1.1\" 200 567610\n"
     ]
    },
    {
     "name": "stdout",
     "output_type": "stream",
     "text": [
      "nvme_drive/scraped_files/20220821-003129-reddit/imgur/imgur_lBGzE0B_I'm Calling OSHA.mp4\n"
     ]
    },
    {
     "name": "stderr",
     "output_type": "stream",
     "text": [
      "[714/997] https://www.redgifs.com/watch/doubleburdensomemynah\n",
      "[gallery-dl][debug] Starting DownloadJob for 'https://www.redgifs.com/watch/doubleburdensomemynah'\n",
      "[redgifs][debug] Using RedgifsImageExtractor for 'https://www.redgifs.com/watch/doubleburdensomemynah'\n",
      "[urllib3.connectionpool][debug] https://api.redgifs.com:443 \"GET /v2/gifs/doubleburdensomemynah HTTP/1.1\" 200 None\n",
      "[urllib3.connectionpool][debug] https://thumbs2.redgifs.com:443 \"GET /DoubleBurdensomeMynah.mp4 HTTP/1.1\" 200 23541456\n"
     ]
    },
    {
     "name": "stdout",
     "output_type": "stream",
     "text": [
      "nvme_drive/scraped_files/20220821-003129-reddit/redgifs/redgifs_doubleburdensomemynah.mp4\n",
      "nvme_drive/scraped_files/20220821-003129-reddit/imgur/imgur_MxIrK3B_Mina at the beach.jpg\n"
     ]
    },
    {
     "name": "stderr",
     "output_type": "stream",
     "text": [
      "[715/997] https://i.imgur.com/MxIrK3B.jpg\n",
      "[gallery-dl][debug] Starting DownloadJob for 'https://i.imgur.com/MxIrK3B.jpg'\n",
      "[imgur][debug] Using ImgurImageExtractor for 'https://i.imgur.com/MxIrK3B.jpg'\n",
      "[urllib3.connectionpool][debug] https://api.imgur.com:443 \"GET /post/v1/media/MxIrK3B?include=media%2Ctags%2Caccount HTTP/1.1\" 200 505\n",
      "[urllib3.connectionpool][debug] https://i.imgur.com:443 \"GET /MxIrK3B.jpg HTTP/1.1\" 200 236022\n",
      "[716/997] https://i.imgur.com/fw0VJ3e.jpeg\n",
      "[gallery-dl][debug] Starting DownloadJob for 'https://i.imgur.com/fw0VJ3e.jpeg'\n",
      "[imgur][debug] Using ImgurImageExtractor for 'https://i.imgur.com/fw0VJ3e.jpeg'\n",
      "[urllib3.connectionpool][debug] https://api.imgur.com:443 \"GET /post/v1/media/fw0VJ3e?include=media%2Ctags%2Caccount HTTP/1.1\" 200 473\n",
      "[urllib3.connectionpool][debug] https://i.imgur.com:443 \"GET /fw0VJ3e.jpg HTTP/1.1\" 200 4374613\n"
     ]
    },
    {
     "name": "stdout",
     "output_type": "stream",
     "text": [
      "nvme_drive/scraped_files/20220821-003129-reddit/imgur/imgur_fw0VJ3e_Mila Amour.jpg\n",
      "nvme_drive/scraped_files/20220821-003129-reddit/imgur/imgur_IpQBEsI_This look AMAZING..jpg\n"
     ]
    },
    {
     "name": "stderr",
     "output_type": "stream",
     "text": [
      "[717/997] https://i.imgur.com/IpQBEsI.jpg\n",
      "[gallery-dl][debug] Starting DownloadJob for 'https://i.imgur.com/IpQBEsI.jpg'\n",
      "[imgur][debug] Using ImgurImageExtractor for 'https://i.imgur.com/IpQBEsI.jpg'\n",
      "[urllib3.connectionpool][debug] https://api.imgur.com:443 \"GET /post/v1/media/IpQBEsI?include=media%2Ctags%2Caccount HTTP/1.1\" 200 496\n",
      "[urllib3.connectionpool][debug] https://i.imgur.com:443 \"GET /IpQBEsI.jpg HTTP/1.1\" 200 286499\n",
      "[718/997] https://i.redd.it/gab4328036h91.jpg\n",
      "[gallery-dl][debug] Starting DownloadJob for 'https://i.redd.it/gab4328036h91.jpg'\n",
      "[reddit][debug] Using RedditImageExtractor for 'https://i.redd.it/gab4328036h91.jpg'\n",
      "[urllib3.connectionpool][debug] https://i.redd.it:443 \"GET /gab4328036h91.jpg HTTP/1.1\" 200 444487\n"
     ]
    },
    {
     "name": "stdout",
     "output_type": "stream",
     "text": [
      "nvme_drive/scraped_files/20220821-003129-reddit/reddit/gab4328036h91.jpg\n",
      "nvme_drive/scraped_files/20220821-003129-reddit/reddit/hkb46iyqjaf91.jpg\n"
     ]
    },
    {
     "name": "stderr",
     "output_type": "stream",
     "text": [
      "[719/997] https://i.redd.it/hkb46iyqjaf91.jpg\n",
      "[gallery-dl][debug] Starting DownloadJob for 'https://i.redd.it/hkb46iyqjaf91.jpg'\n",
      "[reddit][debug] Using RedditImageExtractor for 'https://i.redd.it/hkb46iyqjaf91.jpg'\n",
      "[urllib3.connectionpool][debug] https://i.redd.it:443 \"GET /hkb46iyqjaf91.jpg HTTP/1.1\" 200 936296\n",
      "[720/997] https://i.redd.it/ysxgst6nutd91.png\n",
      "[gallery-dl][debug] Starting DownloadJob for 'https://i.redd.it/ysxgst6nutd91.png'\n",
      "[reddit][debug] Using RedditImageExtractor for 'https://i.redd.it/ysxgst6nutd91.png'\n",
      "[urllib3.connectionpool][debug] https://i.redd.it:443 \"GET /ysxgst6nutd91.png HTTP/1.1\" 200 1811357\n"
     ]
    },
    {
     "name": "stdout",
     "output_type": "stream",
     "text": [
      "nvme_drive/scraped_files/20220821-003129-reddit/reddit/ysxgst6nutd91.png\n"
     ]
    },
    {
     "name": "stderr",
     "output_type": "stream",
     "text": [
      "[721/997] https://www.redgifs.com/watch/soulfulblondgadwall\n",
      "[gallery-dl][debug] Starting DownloadJob for 'https://www.redgifs.com/watch/soulfulblondgadwall'\n",
      "[redgifs][debug] Using RedgifsImageExtractor for 'https://www.redgifs.com/watch/soulfulblondgadwall'\n",
      "[urllib3.connectionpool][debug] https://api.redgifs.com:443 \"GET /v2/gifs/soulfulblondgadwall HTTP/1.1\" 200 None\n",
      "[urllib3.connectionpool][debug] https://thumbs2.redgifs.com:443 \"GET /SoulfulBlondGadwall.mp4 HTTP/1.1\" 200 19555382\n"
     ]
    },
    {
     "name": "stdout",
     "output_type": "stream",
     "text": [
      "nvme_drive/scraped_files/20220821-003129-reddit/redgifs/redgifs_soulfulblondgadwall.mp4\n",
      "nvme_drive/scraped_files/20220821-003129-reddit/imgur/imgur_HMS5aP0_Dropping it all.jpg\n"
     ]
    },
    {
     "name": "stderr",
     "output_type": "stream",
     "text": [
      "[722/997] https://i.imgur.com/HMS5aP0.jpg\n",
      "[gallery-dl][debug] Starting DownloadJob for 'https://i.imgur.com/HMS5aP0.jpg'\n",
      "[imgur][debug] Using ImgurImageExtractor for 'https://i.imgur.com/HMS5aP0.jpg'\n",
      "[urllib3.connectionpool][debug] https://api.imgur.com:443 \"GET /post/v1/media/HMS5aP0?include=media%2Ctags%2Caccount HTTP/1.1\" 200 456\n",
      "[urllib3.connectionpool][debug] https://i.imgur.com:443 \"GET /HMS5aP0.jpg HTTP/1.1\" 200 223391\n",
      "[723/997] https://i.imgur.com/9vOpw6J.jpg\n",
      "[gallery-dl][debug] Starting DownloadJob for 'https://i.imgur.com/9vOpw6J.jpg'\n",
      "[imgur][debug] Using ImgurImageExtractor for 'https://i.imgur.com/9vOpw6J.jpg'\n",
      "[urllib3.connectionpool][debug] https://api.imgur.com:443 \"GET /post/v1/media/9vOpw6J?include=media%2Ctags%2Caccount HTTP/1.1\" 200 461\n",
      "[urllib3.connectionpool][debug] https://i.imgur.com:443 \"GET /9vOpw6J.jpg HTTP/1.1\" 200 240326\n",
      "[724/997] https://i.imgur.com/R6X1S0E.jpg\n",
      "[gallery-dl][debug] Starting DownloadJob for 'https://i.imgur.com/R6X1S0E.jpg'\n",
      "[imgur][debug] Using ImgurImageExtractor for 'https://i.imgur.com/R6X1S0E.jpg'\n",
      "[urllib3.connectionpool][debug] https://api.imgur.com:443 \"GET /post/v1/media/R6X1S0E?include=media%2Ctags%2Caccount HTTP/1.1\" 200 467\n",
      "[urllib3.connectionpool][debug] https://i.imgur.com:443 \"GET /R6X1S0E.jpg HTTP/1.1\" 200 200978\n"
     ]
    },
    {
     "name": "stdout",
     "output_type": "stream",
     "text": [
      "nvme_drive/scraped_files/20220821-003129-reddit/imgur/imgur_9vOpw6J_Escalada - Rilee Marks.jpg\n",
      "nvme_drive/scraped_files/20220821-003129-reddit/imgur/imgur_R6X1S0E_On the armchair.jpg\n"
     ]
    },
    {
     "name": "stderr",
     "output_type": "stream",
     "text": [
      "[725/997] https://redgifs.com/watch/sadpolishedzigzagsalamander\n",
      "[gallery-dl][debug] Starting DownloadJob for 'https://redgifs.com/watch/sadpolishedzigzagsalamander'\n",
      "[redgifs][debug] Using RedgifsImageExtractor for 'https://redgifs.com/watch/sadpolishedzigzagsalamander'\n",
      "[urllib3.connectionpool][debug] https://api.redgifs.com:443 \"GET /v2/gifs/sadpolishedzigzagsalamander HTTP/1.1\" 200 None\n",
      "[urllib3.connectionpool][debug] https://thumbs2.redgifs.com:443 \"GET /SadPolishedZigzagsalamander.mp4 HTTP/1.1\" 200 52998517\n"
     ]
    },
    {
     "name": "stdout",
     "output_type": "stream",
     "text": [
      "nvme_drive/scraped_files/20220821-003129-reddit/redgifs/redgifs_sadpolishedzigzagsalamander.mp4\n"
     ]
    },
    {
     "name": "stderr",
     "output_type": "stream",
     "text": [
      "[726/997] https://i.imgur.com/vvndb1I.jpg\n",
      "[gallery-dl][debug] Starting DownloadJob for 'https://i.imgur.com/vvndb1I.jpg'\n",
      "[imgur][debug] Using ImgurImageExtractor for 'https://i.imgur.com/vvndb1I.jpg'\n",
      "[urllib3.connectionpool][debug] https://api.imgur.com:443 \"GET /post/v1/media/vvndb1I?include=media%2Ctags%2Caccount HTTP/1.1\" 200 448\n",
      "[urllib3.connectionpool][debug] https://i.imgur.com:443 \"GET /vvndb1I.jpg HTTP/1.1\" 200 2437565\n"
     ]
    },
    {
     "name": "stdout",
     "output_type": "stream",
     "text": [
      "nvme_drive/scraped_files/20220821-003129-reddit/imgur/imgur_vvndb1I_Sophy.jpg\n"
     ]
    },
    {
     "name": "stderr",
     "output_type": "stream",
     "text": [
      "[727/997] https://i.imgur.com/Akn64sC.jpg\n",
      "[gallery-dl][debug] Starting DownloadJob for 'https://i.imgur.com/Akn64sC.jpg'\n",
      "[imgur][debug] Using ImgurImageExtractor for 'https://i.imgur.com/Akn64sC.jpg'\n",
      "[urllib3.connectionpool][debug] https://api.imgur.com:443 \"GET /post/v1/media/Akn64sC?include=media%2Ctags%2Caccount HTTP/1.1\" 200 488\n",
      "[urllib3.connectionpool][debug] https://i.imgur.com:443 \"GET /Akn64sC.jpg HTTP/1.1\" 200 4433746\n"
     ]
    },
    {
     "name": "stdout",
     "output_type": "stream",
     "text": [
      "nvme_drive/scraped_files/20220821-003129-reddit/imgur/imgur_Akn64sC_Against a concrete wall.jpg\n",
      "nvme_drive/scraped_files/20220821-003129-reddit/imgur/imgur_NBrdCsO_Jane G (album in comments).jpg\n",
      "nvme_drive/scraped_files/20220821-003129-reddit/reddit/b87qjvs3fce91.jpg\n"
     ]
    },
    {
     "name": "stderr",
     "output_type": "stream",
     "text": [
      "[728/997] https://i.imgur.com/NBrdCsO.jpg\n",
      "[gallery-dl][debug] Starting DownloadJob for 'https://i.imgur.com/NBrdCsO.jpg'\n",
      "[imgur][debug] Using ImgurImageExtractor for 'https://i.imgur.com/NBrdCsO.jpg'\n",
      "[urllib3.connectionpool][debug] https://api.imgur.com:443 \"GET /post/v1/media/NBrdCsO?include=media%2Ctags%2Caccount HTTP/1.1\" 200 482\n",
      "[urllib3.connectionpool][debug] https://i.imgur.com:443 \"GET /NBrdCsO.jpg HTTP/1.1\" 200 96950\n",
      "[729/997] https://i.redd.it/b87qjvs3fce91.jpg\n",
      "[gallery-dl][debug] Starting DownloadJob for 'https://i.redd.it/b87qjvs3fce91.jpg'\n",
      "[reddit][debug] Using RedditImageExtractor for 'https://i.redd.it/b87qjvs3fce91.jpg'\n",
      "[urllib3.connectionpool][debug] https://i.redd.it:443 \"GET /b87qjvs3fce91.jpg HTTP/1.1\" 200 72921\n",
      "[730/997] https://i.redd.it/tquxr9kkjod91.jpg\n",
      "[gallery-dl][debug] Starting DownloadJob for 'https://i.redd.it/tquxr9kkjod91.jpg'\n",
      "[reddit][debug] Using RedditImageExtractor for 'https://i.redd.it/tquxr9kkjod91.jpg'\n",
      "[urllib3.connectionpool][debug] https://i.redd.it:443 \"GET /tquxr9kkjod91.jpg HTTP/1.1\" 200 571947\n",
      "[731/997] https://i.imgur.com/cURWY3I.gifv\n",
      "[gallery-dl][debug] Starting DownloadJob for 'https://i.imgur.com/cURWY3I.gifv'\n",
      "[imgur][debug] Using ImgurImageExtractor for 'https://i.imgur.com/cURWY3I.gifv'\n",
      "[urllib3.connectionpool][debug] https://api.imgur.com:443 \"GET /post/v1/media/cURWY3I?include=media%2Ctags%2Caccount HTTP/1.1\" 200 484\n"
     ]
    },
    {
     "name": "stdout",
     "output_type": "stream",
     "text": [
      "nvme_drive/scraped_files/20220821-003129-reddit/reddit/tquxr9kkjod91.jpg\n"
     ]
    },
    {
     "name": "stderr",
     "output_type": "stream",
     "text": [
      "[urllib3.connectionpool][debug] https://i.imgur.com:443 \"GET /cURWY3I.mp4 HTTP/1.1\" 200 2642307\n"
     ]
    },
    {
     "name": "stdout",
     "output_type": "stream",
     "text": [
      "nvme_drive/scraped_files/20220821-003129-reddit/imgur/imgur_cURWY3I_Dani Daniels And Elle Alexandra Cuddle.mp4\n",
      "nvme_drive/scraped_files/20220821-003129-reddit/imgur/imgur_grPEJCZ_Agatha D - Fresh.jpg\n"
     ]
    },
    {
     "name": "stderr",
     "output_type": "stream",
     "text": [
      "[732/997] https://i.imgur.com/grPEJCZ.jpg\n",
      "[gallery-dl][debug] Starting DownloadJob for 'https://i.imgur.com/grPEJCZ.jpg'\n",
      "[imgur][debug] Using ImgurImageExtractor for 'https://i.imgur.com/grPEJCZ.jpg'\n",
      "[urllib3.connectionpool][debug] https://api.imgur.com:443 \"GET /post/v1/media/grPEJCZ?include=media%2Ctags%2Caccount HTTP/1.1\" 200 460\n",
      "[urllib3.connectionpool][debug] https://i.imgur.com:443 \"GET /grPEJCZ.jpg HTTP/1.1\" 200 355385\n",
      "[733/997] https://i.redd.it/fr9a378d3bi91.jpg\n",
      "[gallery-dl][debug] Starting DownloadJob for 'https://i.redd.it/fr9a378d3bi91.jpg'\n",
      "[reddit][debug] Using RedditImageExtractor for 'https://i.redd.it/fr9a378d3bi91.jpg'\n",
      "[urllib3.connectionpool][debug] https://i.redd.it:443 \"GET /fr9a378d3bi91.jpg HTTP/1.1\" 200 220615\n"
     ]
    },
    {
     "name": "stdout",
     "output_type": "stream",
     "text": [
      "nvme_drive/scraped_files/20220821-003129-reddit/reddit/fr9a378d3bi91.jpg\n"
     ]
    },
    {
     "name": "stderr",
     "output_type": "stream",
     "text": [
      "[734/997] https://i.imgur.com/nZL4a2O.jpg\n",
      "[gallery-dl][debug] Starting DownloadJob for 'https://i.imgur.com/nZL4a2O.jpg'\n",
      "[imgur][debug] Using ImgurImageExtractor for 'https://i.imgur.com/nZL4a2O.jpg'\n",
      "[urllib3.connectionpool][debug] https://api.imgur.com:443 \"GET /post/v1/media/nZL4a2O?include=media%2Ctags%2Caccount HTTP/1.1\" 200 450\n",
      "[urllib3.connectionpool][debug] https://i.imgur.com:443 \"GET /nZL4a2O.jpg HTTP/1.1\" 200 808316\n"
     ]
    },
    {
     "name": "stdout",
     "output_type": "stream",
     "text": [
      "nvme_drive/scraped_files/20220821-003129-reddit/imgur/imgur_nZL4a2O_Beach time.jpg\n"
     ]
    },
    {
     "name": "stderr",
     "output_type": "stream",
     "text": [
      "[735/997] https://www.redgifs.com/watch/triflingstormyhyrax\n",
      "[gallery-dl][debug] Starting DownloadJob for 'https://www.redgifs.com/watch/triflingstormyhyrax'\n",
      "[redgifs][debug] Using RedgifsImageExtractor for 'https://www.redgifs.com/watch/triflingstormyhyrax'\n",
      "[urllib3.connectionpool][debug] https://api.redgifs.com:443 \"GET /v2/gifs/triflingstormyhyrax HTTP/1.1\" 200 None\n",
      "[urllib3.connectionpool][debug] https://thumbs2.redgifs.com:443 \"GET /TriflingStormyHyrax.mp4 HTTP/1.1\" 200 17246659\n"
     ]
    },
    {
     "name": "stdout",
     "output_type": "stream",
     "text": [
      "nvme_drive/scraped_files/20220821-003129-reddit/redgifs/redgifs_triflingstormyhyrax.mp4\n"
     ]
    },
    {
     "name": "stderr",
     "output_type": "stream",
     "text": [
      "[736/997] https://www.redgifs.com/watch/bitteragreeabletasmaniandevil\n",
      "[gallery-dl][debug] Starting DownloadJob for 'https://www.redgifs.com/watch/bitteragreeabletasmaniandevil'\n",
      "[redgifs][debug] Using RedgifsImageExtractor for 'https://www.redgifs.com/watch/bitteragreeabletasmaniandevil'\n",
      "[urllib3.connectionpool][debug] https://api.redgifs.com:443 \"GET /v2/gifs/bitteragreeabletasmaniandevil HTTP/1.1\" 200 None\n",
      "[urllib3.connectionpool][debug] https://thumbs2.redgifs.com:443 \"GET /BitterAgreeableTasmaniandevil.mp4 HTTP/1.1\" 200 5099005\n"
     ]
    },
    {
     "name": "stdout",
     "output_type": "stream",
     "text": [
      "nvme_drive/scraped_files/20220821-003129-reddit/redgifs/redgifs_bitteragreeabletasmaniandevil.mp4\n",
      "nvme_drive/scraped_files/20220821-003129-reddit/reddit/wy00mya3jcd91.jpg\n",
      "nvme_drive/scraped_files/20220821-003129-reddit/reddit/gt9f5o0vwhi91.jpg\n",
      "nvme_drive/scraped_files/20220821-003129-reddit/reddit/hup2l9y637i91.jpg\n"
     ]
    },
    {
     "name": "stderr",
     "output_type": "stream",
     "text": [
      "[737/997] https://i.redd.it/wy00mya3jcd91.jpg\n",
      "[gallery-dl][debug] Starting DownloadJob for 'https://i.redd.it/wy00mya3jcd91.jpg'\n",
      "[reddit][debug] Using RedditImageExtractor for 'https://i.redd.it/wy00mya3jcd91.jpg'\n",
      "[urllib3.connectionpool][debug] https://i.redd.it:443 \"GET /wy00mya3jcd91.jpg HTTP/1.1\" 200 136690\n",
      "[738/997] https://i.redd.it/gt9f5o0vwhi91.jpg\n",
      "[gallery-dl][debug] Starting DownloadJob for 'https://i.redd.it/gt9f5o0vwhi91.jpg'\n",
      "[reddit][debug] Using RedditImageExtractor for 'https://i.redd.it/gt9f5o0vwhi91.jpg'\n",
      "[urllib3.connectionpool][debug] https://i.redd.it:443 \"GET /gt9f5o0vwhi91.jpg HTTP/1.1\" 200 93888\n",
      "[739/997] https://i.redd.it/hup2l9y637i91.jpg\n",
      "[gallery-dl][debug] Starting DownloadJob for 'https://i.redd.it/hup2l9y637i91.jpg'\n",
      "[reddit][debug] Using RedditImageExtractor for 'https://i.redd.it/hup2l9y637i91.jpg'\n",
      "[urllib3.connectionpool][debug] https://i.redd.it:443 \"GET /hup2l9y637i91.jpg HTTP/1.1\" 200 430212\n",
      "[740/997] https://redgifs.com/watch/ovalboringaustraliancurlew\n",
      "[gallery-dl][debug] Starting DownloadJob for 'https://redgifs.com/watch/ovalboringaustraliancurlew'\n",
      "[redgifs][debug] Using RedgifsImageExtractor for 'https://redgifs.com/watch/ovalboringaustraliancurlew'\n",
      "[urllib3.connectionpool][debug] https://api.redgifs.com:443 \"GET /v2/gifs/ovalboringaustraliancurlew HTTP/1.1\" 200 None\n",
      "[urllib3.connectionpool][debug] https://thumbs2.redgifs.com:443 \"GET /OvalBoringAustraliancurlew.mp4 HTTP/1.1\" 200 40948197\n"
     ]
    },
    {
     "name": "stdout",
     "output_type": "stream",
     "text": [
      "nvme_drive/scraped_files/20220821-003129-reddit/redgifs/redgifs_ovalboringaustraliancurlew.mp4\n",
      "nvme_drive/scraped_files/20220821-003129-reddit/reddit/wuvkwci90le91.jpg\n"
     ]
    },
    {
     "name": "stderr",
     "output_type": "stream",
     "text": [
      "[741/997] https://i.redd.it/wuvkwci90le91.jpg\n",
      "[gallery-dl][debug] Starting DownloadJob for 'https://i.redd.it/wuvkwci90le91.jpg'\n",
      "[reddit][debug] Using RedditImageExtractor for 'https://i.redd.it/wuvkwci90le91.jpg'\n",
      "[urllib3.connectionpool][debug] https://i.redd.it:443 \"GET /wuvkwci90le91.jpg HTTP/1.1\" 200 903181\n",
      "[742/997] https://i.redd.it/ujnbothxw1e91.gif\n",
      "[gallery-dl][debug] Starting DownloadJob for 'https://i.redd.it/ujnbothxw1e91.gif'\n",
      "[reddit][debug] Using RedditImageExtractor for 'https://i.redd.it/ujnbothxw1e91.gif'\n",
      "[urllib3.connectionpool][debug] https://i.redd.it:443 \"GET /ujnbothxw1e91.gif HTTP/1.1\" 200 1099428\n"
     ]
    },
    {
     "name": "stdout",
     "output_type": "stream",
     "text": [
      "nvme_drive/scraped_files/20220821-003129-reddit/reddit/ujnbothxw1e91.gif\n",
      "nvme_drive/scraped_files/20220821-003129-reddit/reddit/nv8vx9bpvjh91.jpg\n"
     ]
    },
    {
     "name": "stderr",
     "output_type": "stream",
     "text": [
      "[743/997] https://i.redd.it/nv8vx9bpvjh91.jpg\n",
      "[gallery-dl][debug] Starting DownloadJob for 'https://i.redd.it/nv8vx9bpvjh91.jpg'\n",
      "[reddit][debug] Using RedditImageExtractor for 'https://i.redd.it/nv8vx9bpvjh91.jpg'\n",
      "[urllib3.connectionpool][debug] https://i.redd.it:443 \"GET /nv8vx9bpvjh91.jpg HTTP/1.1\" 200 1138730\n",
      "[744/997] https://i.redd.it/9jgrb5tpgf381.jpg\n",
      "[gallery-dl][debug] Starting DownloadJob for 'https://i.redd.it/9jgrb5tpgf381.jpg'\n",
      "[reddit][debug] Using RedditImageExtractor for 'https://i.redd.it/9jgrb5tpgf381.jpg'\n",
      "[urllib3.connectionpool][debug] https://i.redd.it:443 \"GET /9jgrb5tpgf381.jpg HTTP/1.1\" 200 476675\n"
     ]
    },
    {
     "name": "stdout",
     "output_type": "stream",
     "text": [
      "nvme_drive/scraped_files/20220821-003129-reddit/reddit/9jgrb5tpgf381.jpg\n"
     ]
    },
    {
     "name": "stderr",
     "output_type": "stream",
     "text": [
      "[745/997] https://i.imgur.com/ZK4pb33.png\n",
      "[gallery-dl][debug] Starting DownloadJob for 'https://i.imgur.com/ZK4pb33.png'\n",
      "[imgur][debug] Using ImgurImageExtractor for 'https://i.imgur.com/ZK4pb33.png'\n",
      "[urllib3.connectionpool][debug] https://api.imgur.com:443 \"GET /post/v1/media/ZK4pb33?include=media%2Ctags%2Caccount HTTP/1.1\" 200 581\n",
      "[urllib3.connectionpool][debug] https://i.imgur.com:443 \"GET /ZK4pb33.png HTTP/1.1\" 200 2655869\n"
     ]
    },
    {
     "name": "stdout",
     "output_type": "stream",
     "text": [
      "nvme_drive/scraped_files/20220821-003129-reddit/imgur/imgur_ZK4pb33_La Sirena in my opinion is the most beautiful, sexy and hot woman in current porn. Mike needs to reserve her for a new anal scene. And you guys, which actress do you want to see with Mike?.png\n"
     ]
    },
    {
     "name": "stderr",
     "output_type": "stream",
     "text": [
      "[746/997] https://www.redgifs.com/watch/silverhollowmeadowhawk\n",
      "[gallery-dl][debug] Starting DownloadJob for 'https://www.redgifs.com/watch/silverhollowmeadowhawk'\n",
      "[redgifs][debug] Using RedgifsImageExtractor for 'https://www.redgifs.com/watch/silverhollowmeadowhawk'\n",
      "[urllib3.connectionpool][debug] https://api.redgifs.com:443 \"GET /v2/gifs/silverhollowmeadowhawk HTTP/1.1\" 200 None\n",
      "[urllib3.connectionpool][debug] https://thumbs2.redgifs.com:443 \"GET /SilverHollowMeadowhawk.mp4 HTTP/1.1\" 200 33298530\n"
     ]
    },
    {
     "name": "stdout",
     "output_type": "stream",
     "text": [
      "nvme_drive/scraped_files/20220821-003129-reddit/redgifs/redgifs_silverhollowmeadowhawk.mp4\n",
      "nvme_drive/scraped_files/20220821-003129-reddit/reddit/q2o4x7aaneh91.jpg\n",
      "nvme_drive/scraped_files/20220821-003129-reddit/reddit/y2vrs311s4h91.jpg\n"
     ]
    },
    {
     "name": "stderr",
     "output_type": "stream",
     "text": [
      "[747/997] https://i.redd.it/q2o4x7aaneh91.jpg\n",
      "[gallery-dl][debug] Starting DownloadJob for 'https://i.redd.it/q2o4x7aaneh91.jpg'\n",
      "[reddit][debug] Using RedditImageExtractor for 'https://i.redd.it/q2o4x7aaneh91.jpg'\n",
      "[urllib3.connectionpool][debug] https://i.redd.it:443 \"GET /q2o4x7aaneh91.jpg HTTP/1.1\" 200 293831\n",
      "[748/997] https://i.redd.it/y2vrs311s4h91.jpg\n",
      "[gallery-dl][debug] Starting DownloadJob for 'https://i.redd.it/y2vrs311s4h91.jpg'\n",
      "[reddit][debug] Using RedditImageExtractor for 'https://i.redd.it/y2vrs311s4h91.jpg'\n",
      "[urllib3.connectionpool][debug] https://i.redd.it:443 \"GET /y2vrs311s4h91.jpg HTTP/1.1\" 200 248726\n",
      "[749/997] https://www.redgifs.com/watch/trustworthyauthorizedpolyturator\n",
      "[gallery-dl][debug] Starting DownloadJob for 'https://www.redgifs.com/watch/trustworthyauthorizedpolyturator'\n",
      "[redgifs][debug] Using RedgifsImageExtractor for 'https://www.redgifs.com/watch/trustworthyauthorizedpolyturator'\n",
      "[urllib3.connectionpool][debug] https://api.redgifs.com:443 \"GET /v2/gifs/trustworthyauthorizedpolyturator HTTP/1.1\" 200 None\n",
      "[urllib3.connectionpool][debug] https://thumbs2.redgifs.com:443 \"GET /TrustworthyAuthorizedPolyturator.mp4 HTTP/1.1\" 200 51477507\n"
     ]
    },
    {
     "name": "stdout",
     "output_type": "stream",
     "text": [
      "nvme_drive/scraped_files/20220821-003129-reddit/redgifs/redgifs_trustworthyauthorizedpolyturator.mp4\n"
     ]
    },
    {
     "name": "stderr",
     "output_type": "stream",
     "text": [
      "[750/997] https://www.redgifs.com/watch/amusingfumblingarctichare\n",
      "[gallery-dl][debug] Starting DownloadJob for 'https://www.redgifs.com/watch/amusingfumblingarctichare'\n",
      "[redgifs][debug] Using RedgifsImageExtractor for 'https://www.redgifs.com/watch/amusingfumblingarctichare'\n",
      "[urllib3.connectionpool][debug] https://api.redgifs.com:443 \"GET /v2/gifs/amusingfumblingarctichare HTTP/1.1\" 410 60\n",
      "[redgifs][error] HttpError: '410 Gone' for 'https://api.redgifs.com/v2/gifs/amusingfumblingarctichare'\n",
      "[751/997] https://redgifs.com/watch/enormousphysicalhermitcrab\n",
      "[gallery-dl][debug] Starting DownloadJob for 'https://redgifs.com/watch/enormousphysicalhermitcrab'\n",
      "[redgifs][debug] Using RedgifsImageExtractor for 'https://redgifs.com/watch/enormousphysicalhermitcrab'\n",
      "[urllib3.connectionpool][debug] https://api.redgifs.com:443 \"GET /v2/gifs/enormousphysicalhermitcrab HTTP/1.1\" 200 None\n",
      "[urllib3.connectionpool][debug] https://thumbs2.redgifs.com:443 \"GET /EnormousPhysicalHermitcrab.mp4 HTTP/1.1\" 200 34644873\n"
     ]
    },
    {
     "name": "stdout",
     "output_type": "stream",
     "text": [
      "nvme_drive/scraped_files/20220821-003129-reddit/redgifs/redgifs_enormousphysicalhermitcrab.mp4\n"
     ]
    },
    {
     "name": "stderr",
     "output_type": "stream",
     "text": [
      "[752/997] https://www.redgifs.com/watch/darkmagentaattachednagapies\n",
      "[gallery-dl][debug] Starting DownloadJob for 'https://www.redgifs.com/watch/darkmagentaattachednagapies'\n",
      "[redgifs][debug] Using RedgifsImageExtractor for 'https://www.redgifs.com/watch/darkmagentaattachednagapies'\n",
      "[urllib3.connectionpool][debug] https://api.redgifs.com:443 \"GET /v2/gifs/darkmagentaattachednagapies HTTP/1.1\" 200 None\n",
      "[urllib3.connectionpool][debug] https://thumbs2.redgifs.com:443 \"GET /DarkmagentaAttachedNagapies.mp4 HTTP/1.1\" 200 30935950\n"
     ]
    },
    {
     "name": "stdout",
     "output_type": "stream",
     "text": [
      "nvme_drive/scraped_files/20220821-003129-reddit/redgifs/redgifs_darkmagentaattachednagapies.mp4\n"
     ]
    },
    {
     "name": "stderr",
     "output_type": "stream",
     "text": [
      "[753/997] https://i.imgur.com/wNCueFQ.jpg\n",
      "[gallery-dl][debug] Starting DownloadJob for 'https://i.imgur.com/wNCueFQ.jpg'\n",
      "[imgur][debug] Using ImgurImageExtractor for 'https://i.imgur.com/wNCueFQ.jpg'\n",
      "[urllib3.connectionpool][debug] https://api.imgur.com:443 \"GET /post/v1/media/wNCueFQ?include=media%2Ctags%2Caccount HTTP/1.1\" 200 469\n",
      "[urllib3.connectionpool][debug] https://i.imgur.com:443 \"GET /wNCueFQ.jpg HTTP/1.1\" 200 1218907\n",
      "[754/997] https://redgifs.com/watch/wearymediumarmyworm\n",
      "[gallery-dl][debug] Starting DownloadJob for 'https://redgifs.com/watch/wearymediumarmyworm'\n",
      "[redgifs][debug] Using RedgifsImageExtractor for 'https://redgifs.com/watch/wearymediumarmyworm'\n"
     ]
    },
    {
     "name": "stdout",
     "output_type": "stream",
     "text": [
      "nvme_drive/scraped_files/20220821-003129-reddit/imgur/imgur_wNCueFQ_Coxy.jpg\n"
     ]
    },
    {
     "name": "stderr",
     "output_type": "stream",
     "text": [
      "[urllib3.connectionpool][debug] https://api.redgifs.com:443 \"GET /v2/gifs/wearymediumarmyworm HTTP/1.1\" 200 None\n",
      "[urllib3.connectionpool][debug] https://thumbs2.redgifs.com:443 \"GET /WearyMediumArmyworm.mp4 HTTP/1.1\" 200 36216353\n"
     ]
    },
    {
     "name": "stdout",
     "output_type": "stream",
     "text": [
      "nvme_drive/scraped_files/20220821-003129-reddit/redgifs/redgifs_wearymediumarmyworm.mp4\n",
      "nvme_drive/scraped_files/20220821-003129-reddit/imgur/imgur_E5qsb1M_Shiny floors.jpg\n"
     ]
    },
    {
     "name": "stderr",
     "output_type": "stream",
     "text": [
      "[755/997] https://i.imgur.com/E5qsb1M.jpg\n",
      "[gallery-dl][debug] Starting DownloadJob for 'https://i.imgur.com/E5qsb1M.jpg'\n",
      "[imgur][debug] Using ImgurImageExtractor for 'https://i.imgur.com/E5qsb1M.jpg'\n",
      "[urllib3.connectionpool][debug] https://api.imgur.com:443 \"GET /post/v1/media/E5qsb1M?include=media%2Ctags%2Caccount HTTP/1.1\" 200 486\n",
      "[urllib3.connectionpool][debug] https://i.imgur.com:443 \"GET /E5qsb1M.jpg HTTP/1.1\" 200 111623\n",
      "[756/997] https://i.imgur.com/tijLdrK.jpg\n",
      "[gallery-dl][debug] Starting DownloadJob for 'https://i.imgur.com/tijLdrK.jpg'\n",
      "[imgur][debug] Using ImgurImageExtractor for 'https://i.imgur.com/tijLdrK.jpg'\n",
      "[urllib3.connectionpool][debug] https://api.imgur.com:443 \"GET /post/v1/media/tijLdrK?include=media%2Ctags%2Caccount HTTP/1.1\" 200 468\n",
      "[urllib3.connectionpool][debug] https://i.imgur.com:443 \"GET /tijLdrK.jpg HTTP/1.1\" 200 144326\n",
      "[757/997] https://i.imgur.com/0nxyak5.jpg\n",
      "[gallery-dl][debug] Starting DownloadJob for 'https://i.imgur.com/0nxyak5.jpg'\n",
      "[imgur][debug] Using ImgurImageExtractor for 'https://i.imgur.com/0nxyak5.jpg'\n",
      "[urllib3.connectionpool][debug] https://api.imgur.com:443 \"GET /post/v1/media/0nxyak5?include=media%2Ctags%2Caccount HTTP/1.1\" 200 484\n",
      "[urllib3.connectionpool][debug] https://i.imgur.com:443 \"GET /0nxyak5.jpg HTTP/1.1\" 200 1337459\n"
     ]
    },
    {
     "name": "stdout",
     "output_type": "stream",
     "text": [
      "nvme_drive/scraped_files/20220821-003129-reddit/imgur/imgur_tijLdrK_Adorable redheads.jpg\n",
      "nvme_drive/scraped_files/20220821-003129-reddit/imgur/imgur_0nxyak5_CHLOE | \"Magya\".jpg\n",
      "nvme_drive/scraped_files/20220821-003129-reddit/imgur/imgur_v1xyV7r_Lana Lane for MPL Studios.jpg\n"
     ]
    },
    {
     "name": "stderr",
     "output_type": "stream",
     "text": [
      "[758/997] https://i.imgur.com/v1xyV7r.jpeg\n",
      "[gallery-dl][debug] Starting DownloadJob for 'https://i.imgur.com/v1xyV7r.jpeg'\n",
      "[imgur][debug] Using ImgurImageExtractor for 'https://i.imgur.com/v1xyV7r.jpeg'\n",
      "[urllib3.connectionpool][debug] https://api.imgur.com:443 \"GET /post/v1/media/v1xyV7r?include=media%2Ctags%2Caccount HTTP/1.1\" 200 466\n",
      "[urllib3.connectionpool][debug] https://i.imgur.com:443 \"GET /v1xyV7r.jpg HTTP/1.1\" 200 225929\n",
      "[759/997] https://i.imgur.com/LXYscNS.jpg\n",
      "[gallery-dl][debug] Starting DownloadJob for 'https://i.imgur.com/LXYscNS.jpg'\n",
      "[imgur][debug] Using ImgurImageExtractor for 'https://i.imgur.com/LXYscNS.jpg'\n",
      "[urllib3.connectionpool][debug] https://api.imgur.com:443 \"GET /post/v1/media/LXYscNS?include=media%2Ctags%2Caccount HTTP/1.1\" 200 452\n",
      "[urllib3.connectionpool][debug] https://i.imgur.com:443 \"GET /LXYscNS.jpg HTTP/1.1\" 200 518930\n",
      "[760/997] https://i.imgur.com/gYZ0zp1.jpg\n",
      "[gallery-dl][debug] Starting DownloadJob for 'https://i.imgur.com/gYZ0zp1.jpg'\n",
      "[imgur][debug] Using ImgurImageExtractor for 'https://i.imgur.com/gYZ0zp1.jpg'\n"
     ]
    },
    {
     "name": "stdout",
     "output_type": "stream",
     "text": [
      "nvme_drive/scraped_files/20220821-003129-reddit/imgur/imgur_LXYscNS_Gloria Sol.jpg\n",
      "nvme_drive/scraped_files/20220821-003129-reddit/imgur/imgur_gYZ0zp1_Jayden Jaymes, the GOAT.jpg\n"
     ]
    },
    {
     "name": "stderr",
     "output_type": "stream",
     "text": [
      "[urllib3.connectionpool][debug] https://api.imgur.com:443 \"GET /post/v1/media/gYZ0zp1?include=media%2Ctags%2Caccount HTTP/1.1\" 200 462\n",
      "[urllib3.connectionpool][debug] https://i.imgur.com:443 \"GET /gYZ0zp1.jpg HTTP/1.1\" 200 149063\n",
      "[761/997] https://i.redd.it/z11quptyfci91.jpg\n",
      "[gallery-dl][debug] Starting DownloadJob for 'https://i.redd.it/z11quptyfci91.jpg'\n",
      "[reddit][debug] Using RedditImageExtractor for 'https://i.redd.it/z11quptyfci91.jpg'\n",
      "[urllib3.connectionpool][debug] https://i.redd.it:443 \"GET /z11quptyfci91.jpg HTTP/1.1\" 200 199187\n",
      "[762/997] https://www.redgifs.com/watch/youngtrustworthyskipper\n",
      "[gallery-dl][debug] Starting DownloadJob for 'https://www.redgifs.com/watch/youngtrustworthyskipper'\n",
      "[redgifs][debug] Using RedgifsImageExtractor for 'https://www.redgifs.com/watch/youngtrustworthyskipper'\n",
      "[urllib3.connectionpool][debug] https://api.redgifs.com:443 \"GET /v2/gifs/youngtrustworthyskipper HTTP/1.1\" 200 None\n"
     ]
    },
    {
     "name": "stdout",
     "output_type": "stream",
     "text": [
      "nvme_drive/scraped_files/20220821-003129-reddit/reddit/z11quptyfci91.jpg\n"
     ]
    },
    {
     "name": "stderr",
     "output_type": "stream",
     "text": [
      "[urllib3.connectionpool][debug] https://thumbs2.redgifs.com:443 \"GET /YoungTrustworthySkipper.mp4 HTTP/1.1\" 200 45950083\n"
     ]
    },
    {
     "name": "stdout",
     "output_type": "stream",
     "text": [
      "nvme_drive/scraped_files/20220821-003129-reddit/redgifs/redgifs_youngtrustworthyskipper.mp4\n"
     ]
    },
    {
     "name": "stderr",
     "output_type": "stream",
     "text": [
      "[763/997] https://i.redd.it/t9teglqbvbh91.gif\n",
      "[gallery-dl][debug] Starting DownloadJob for 'https://i.redd.it/t9teglqbvbh91.gif'\n",
      "[reddit][debug] Using RedditImageExtractor for 'https://i.redd.it/t9teglqbvbh91.gif'\n",
      "[urllib3.connectionpool][debug] https://i.redd.it:443 \"GET /t9teglqbvbh91.gif HTTP/1.1\" 200 2058528\n"
     ]
    },
    {
     "name": "stdout",
     "output_type": "stream",
     "text": [
      "nvme_drive/scraped_files/20220821-003129-reddit/reddit/t9teglqbvbh91.gif\n"
     ]
    },
    {
     "name": "stderr",
     "output_type": "stream",
     "text": [
      "[764/997] https://www.redgifs.com/watch/adorablefailingazurevasesponge\n",
      "[gallery-dl][debug] Starting DownloadJob for 'https://www.redgifs.com/watch/adorablefailingazurevasesponge'\n",
      "[redgifs][debug] Using RedgifsImageExtractor for 'https://www.redgifs.com/watch/adorablefailingazurevasesponge'\n",
      "[urllib3.connectionpool][debug] https://api.redgifs.com:443 \"GET /v2/gifs/adorablefailingazurevasesponge HTTP/1.1\" 200 None\n",
      "[urllib3.connectionpool][debug] https://thumbs2.redgifs.com:443 \"GET /AdorableFailingAzurevasesponge.mp4 HTTP/1.1\" 200 13399950\n"
     ]
    },
    {
     "name": "stdout",
     "output_type": "stream",
     "text": [
      "nvme_drive/scraped_files/20220821-003129-reddit/redgifs/redgifs_adorablefailingazurevasesponge.mp4\n"
     ]
    },
    {
     "name": "stderr",
     "output_type": "stream",
     "text": [
      "[765/997] https://i.imgur.com/uaoTPPK.jpg\n",
      "[gallery-dl][debug] Starting DownloadJob for 'https://i.imgur.com/uaoTPPK.jpg'\n",
      "[imgur][debug] Using ImgurImageExtractor for 'https://i.imgur.com/uaoTPPK.jpg'\n",
      "[urllib3.connectionpool][debug] https://api.imgur.com:443 \"GET /post/v1/media/uaoTPPK?include=media%2Ctags%2Caccount HTTP/1.1\" 200 447\n",
      "[urllib3.connectionpool][debug] https://i.imgur.com:443 \"GET /uaoTPPK.jpg HTTP/1.1\" 200 501521\n",
      "[766/997] https://i.redd.it/18a13bvxpgg91.gif\n",
      "[gallery-dl][debug] Starting DownloadJob for 'https://i.redd.it/18a13bvxpgg91.gif'\n",
      "[reddit][debug] Using RedditImageExtractor for 'https://i.redd.it/18a13bvxpgg91.gif'\n",
      "[urllib3.connectionpool][debug] https://i.redd.it:443 \"GET /18a13bvxpgg91.gif HTTP/1.1\" 200 2048866\n"
     ]
    },
    {
     "name": "stdout",
     "output_type": "stream",
     "text": [
      "nvme_drive/scraped_files/20220821-003129-reddit/imgur/imgur_uaoTPPK_Elsa Jean.jpg\n",
      "nvme_drive/scraped_files/20220821-003129-reddit/reddit/18a13bvxpgg91.gif\n"
     ]
    },
    {
     "name": "stderr",
     "output_type": "stream",
     "text": [
      "[767/997] https://i.imgur.com/fLqLmAX.jpg\n",
      "[gallery-dl][debug] Starting DownloadJob for 'https://i.imgur.com/fLqLmAX.jpg'\n",
      "[imgur][debug] Using ImgurImageExtractor for 'https://i.imgur.com/fLqLmAX.jpg'\n",
      "[urllib3.connectionpool][debug] https://api.imgur.com:443 \"GET /post/v1/media/fLqLmAX?include=media%2Ctags%2Caccount HTTP/1.1\" 200 456\n",
      "[urllib3.connectionpool][debug] https://i.imgur.com:443 \"GET /fLqLmAX.jpg HTTP/1.1\" 200 549650\n",
      "[768/997] https://i.redd.it/blcphdgxz7i91.jpg\n",
      "[gallery-dl][debug] Starting DownloadJob for 'https://i.redd.it/blcphdgxz7i91.jpg'\n",
      "[reddit][debug] Using RedditImageExtractor for 'https://i.redd.it/blcphdgxz7i91.jpg'\n",
      "[urllib3.connectionpool][debug] https://i.redd.it:443 \"GET /blcphdgxz7i91.jpg HTTP/1.1\" 200 278166\n",
      "[769/997] https://i.redd.it/ogdmi120hmh91.jpg\n",
      "[gallery-dl][debug] Starting DownloadJob for 'https://i.redd.it/ogdmi120hmh91.jpg'\n",
      "[reddit][debug] Using RedditImageExtractor for 'https://i.redd.it/ogdmi120hmh91.jpg'\n",
      "[urllib3.connectionpool][debug] https://i.redd.it:443 \"GET /ogdmi120hmh91.jpg HTTP/1.1\" 200 296619\n",
      "[770/997] https://redgifs.com/watch/shygleamingdiplodocus\n",
      "[gallery-dl][debug] Starting DownloadJob for 'https://redgifs.com/watch/shygleamingdiplodocus'\n",
      "[redgifs][debug] Using RedgifsImageExtractor for 'https://redgifs.com/watch/shygleamingdiplodocus'\n"
     ]
    },
    {
     "name": "stdout",
     "output_type": "stream",
     "text": [
      "nvme_drive/scraped_files/20220821-003129-reddit/imgur/imgur_fLqLmAX_Dasha vs Ekaterina.jpg\n",
      "nvme_drive/scraped_files/20220821-003129-reddit/reddit/blcphdgxz7i91.jpg\n",
      "nvme_drive/scraped_files/20220821-003129-reddit/reddit/ogdmi120hmh91.jpg\n"
     ]
    },
    {
     "name": "stderr",
     "output_type": "stream",
     "text": [
      "[urllib3.connectionpool][debug] https://api.redgifs.com:443 \"GET /v2/gifs/shygleamingdiplodocus HTTP/1.1\" 200 None\n",
      "[urllib3.connectionpool][debug] https://thumbs2.redgifs.com:443 \"GET /ShyGleamingDiplodocus.mp4 HTTP/1.1\" 200 1195550\n"
     ]
    },
    {
     "name": "stdout",
     "output_type": "stream",
     "text": [
      "nvme_drive/scraped_files/20220821-003129-reddit/redgifs/redgifs_shygleamingdiplodocus.mp4\n"
     ]
    },
    {
     "name": "stderr",
     "output_type": "stream",
     "text": [
      "[771/997] https://www.redgifs.com/watch/fastfunctionalmorayeel\n",
      "[gallery-dl][debug] Starting DownloadJob for 'https://www.redgifs.com/watch/fastfunctionalmorayeel'\n",
      "[redgifs][debug] Using RedgifsImageExtractor for 'https://www.redgifs.com/watch/fastfunctionalmorayeel'\n",
      "[urllib3.connectionpool][debug] https://api.redgifs.com:443 \"GET /v2/gifs/fastfunctionalmorayeel HTTP/1.1\" 200 None\n",
      "[urllib3.connectionpool][debug] https://thumbs2.redgifs.com:443 \"GET /FastFunctionalMorayeel.mp4 HTTP/1.1\" 200 2578875\n"
     ]
    },
    {
     "name": "stdout",
     "output_type": "stream",
     "text": [
      "nvme_drive/scraped_files/20220821-003129-reddit/redgifs/redgifs_fastfunctionalmorayeel.mp4\n",
      "nvme_drive/scraped_files/20220821-003129-reddit/imgur/imgur_j4BKUeL_Sybil.jpg\n"
     ]
    },
    {
     "name": "stderr",
     "output_type": "stream",
     "text": [
      "[772/997] https://i.imgur.com/j4BKUeL.jpg\n",
      "[gallery-dl][debug] Starting DownloadJob for 'https://i.imgur.com/j4BKUeL.jpg'\n",
      "[imgur][debug] Using ImgurImageExtractor for 'https://i.imgur.com/j4BKUeL.jpg'\n",
      "[urllib3.connectionpool][debug] https://api.imgur.com:443 \"GET /post/v1/media/j4BKUeL?include=media%2Ctags%2Caccount HTTP/1.1\" 200 448\n",
      "[urllib3.connectionpool][debug] https://i.imgur.com:443 \"GET /j4BKUeL.jpg HTTP/1.1\" 200 363734\n",
      "[773/997] https://i.imgur.com/YXi0jTG.jpg\n",
      "[gallery-dl][debug] Starting DownloadJob for 'https://i.imgur.com/YXi0jTG.jpg'\n",
      "[imgur][debug] Using ImgurImageExtractor for 'https://i.imgur.com/YXi0jTG.jpg'\n",
      "[urllib3.connectionpool][debug] https://api.imgur.com:443 \"GET /post/v1/media/YXi0jTG?include=media%2Ctags%2Caccount HTTP/1.1\" 200 472\n",
      "[urllib3.connectionpool][debug] https://i.imgur.com:443 \"GET /YXi0jTG.jpg HTTP/1.1\" 200 396205\n",
      "[774/997] https://www.redgifs.com/watch/shinytrivialagouti\n",
      "[gallery-dl][debug] Starting DownloadJob for 'https://www.redgifs.com/watch/shinytrivialagouti'\n",
      "[redgifs][debug] Using RedgifsImageExtractor for 'https://www.redgifs.com/watch/shinytrivialagouti'\n",
      "[urllib3.connectionpool][debug] https://api.redgifs.com:443 \"GET /v2/gifs/shinytrivialagouti HTTP/1.1\" 200 None\n"
     ]
    },
    {
     "name": "stdout",
     "output_type": "stream",
     "text": [
      "nvme_drive/scraped_files/20220821-003129-reddit/imgur/imgur_YXi0jTG_Ekaterina.jpg\n"
     ]
    },
    {
     "name": "stderr",
     "output_type": "stream",
     "text": [
      "[urllib3.connectionpool][debug] https://thumbs2.redgifs.com:443 \"GET /ShinyTrivialAgouti.mp4 HTTP/1.1\" 200 39509914\n"
     ]
    },
    {
     "name": "stdout",
     "output_type": "stream",
     "text": [
      "nvme_drive/scraped_files/20220821-003129-reddit/redgifs/redgifs_shinytrivialagouti.mp4\n",
      "nvme_drive/scraped_files/20220821-003129-reddit/imgur/imgur_it9A9LN_Arm shadow.jpg\n"
     ]
    },
    {
     "name": "stderr",
     "output_type": "stream",
     "text": [
      "[775/997] https://i.imgur.com/it9A9LN.jpg\n",
      "[gallery-dl][debug] Starting DownloadJob for 'https://i.imgur.com/it9A9LN.jpg'\n",
      "[imgur][debug] Using ImgurImageExtractor for 'https://i.imgur.com/it9A9LN.jpg'\n",
      "[urllib3.connectionpool][debug] https://api.imgur.com:443 \"GET /post/v1/media/it9A9LN?include=media%2Ctags%2Caccount HTTP/1.1\" 200 493\n",
      "[urllib3.connectionpool][debug] https://i.imgur.com:443 \"GET /it9A9LN.jpg HTTP/1.1\" 200 168423\n",
      "[776/997] https://i.imgur.com/HXoZH4t.jpg\n",
      "[gallery-dl][debug] Starting DownloadJob for 'https://i.imgur.com/HXoZH4t.jpg'\n",
      "[imgur][debug] Using ImgurImageExtractor for 'https://i.imgur.com/HXoZH4t.jpg'\n",
      "[urllib3.connectionpool][debug] https://api.imgur.com:443 \"GET /post/v1/media/HXoZH4t?include=media%2Ctags%2Caccount HTTP/1.1\" 200 462\n",
      "[urllib3.connectionpool][debug] https://i.imgur.com:443 \"GET /HXoZH4t.jpg HTTP/1.1\" 200 175901\n",
      "[777/997] https://i.imgur.com/ztxXsTR.jpg\n",
      "[gallery-dl][debug] Starting DownloadJob for 'https://i.imgur.com/ztxXsTR.jpg'\n",
      "[imgur][debug] Using ImgurImageExtractor for 'https://i.imgur.com/ztxXsTR.jpg'\n",
      "[urllib3.connectionpool][debug] https://api.imgur.com:443 \"GET /post/v1/media/ztxXsTR?include=media%2Ctags%2Caccount HTTP/1.1\" 200 470\n",
      "[urllib3.connectionpool][debug] https://i.imgur.com:443 \"GET /ztxXsTR.jpg HTTP/1.1\" 200 292540\n",
      "[778/997] https://i.imgur.com/Gf5soe0.jpg\n",
      "[gallery-dl][debug] Starting DownloadJob for 'https://i.imgur.com/Gf5soe0.jpg'\n",
      "[imgur][debug] Using ImgurImageExtractor for 'https://i.imgur.com/Gf5soe0.jpg'\n"
     ]
    },
    {
     "name": "stdout",
     "output_type": "stream",
     "text": [
      "nvme_drive/scraped_files/20220821-003129-reddit/imgur/imgur_HXoZH4t_I am ready.jpg\n",
      "nvme_drive/scraped_files/20220821-003129-reddit/imgur/imgur_ztxXsTR_Keeping her chin up.jpg\n"
     ]
    },
    {
     "name": "stderr",
     "output_type": "stream",
     "text": [
      "[urllib3.connectionpool][debug] https://api.imgur.com:443 \"GET /post/v1/media/Gf5soe0?include=media%2Ctags%2Caccount HTTP/1.1\" 200 470\n",
      "[urllib3.connectionpool][debug] https://i.imgur.com:443 \"GET /Gf5soe0.jpg HTTP/1.1\" 200 441036\n",
      "[779/997] https://i.imgur.com/xSqBxlM.jpg\n",
      "[gallery-dl][debug] Starting DownloadJob for 'https://i.imgur.com/xSqBxlM.jpg'\n",
      "[imgur][debug] Using ImgurImageExtractor for 'https://i.imgur.com/xSqBxlM.jpg'\n"
     ]
    },
    {
     "name": "stdout",
     "output_type": "stream",
     "text": [
      "nvme_drive/scraped_files/20220821-003129-reddit/imgur/imgur_Gf5soe0_Dressing room self-shooter.jpg\n",
      "nvme_drive/scraped_files/20220821-003129-reddit/imgur/imgur_xSqBxlM_Curvy voluptuous full bodied beauty.jpg\n"
     ]
    },
    {
     "name": "stderr",
     "output_type": "stream",
     "text": [
      "[urllib3.connectionpool][debug] https://api.imgur.com:443 \"GET /post/v1/media/xSqBxlM?include=media%2Ctags%2Caccount HTTP/1.1\" 200 509\n",
      "[urllib3.connectionpool][debug] https://i.imgur.com:443 \"GET /xSqBxlM.jpg HTTP/1.1\" 200 279949\n",
      "[780/997] https://i.redd.it/nkjngeyhuzh91.jpg\n",
      "[gallery-dl][debug] Starting DownloadJob for 'https://i.redd.it/nkjngeyhuzh91.jpg'\n",
      "[reddit][debug] Using RedditImageExtractor for 'https://i.redd.it/nkjngeyhuzh91.jpg'\n",
      "[urllib3.connectionpool][debug] https://i.redd.it:443 \"GET /nkjngeyhuzh91.jpg HTTP/1.1\" 200 291832\n",
      "[781/997] https://i.imgur.com/QQpMfOz.jpg\n",
      "[gallery-dl][debug] Starting DownloadJob for 'https://i.imgur.com/QQpMfOz.jpg'\n",
      "[imgur][debug] Using ImgurImageExtractor for 'https://i.imgur.com/QQpMfOz.jpg'\n"
     ]
    },
    {
     "name": "stdout",
     "output_type": "stream",
     "text": [
      "nvme_drive/scraped_files/20220821-003129-reddit/reddit/nkjngeyhuzh91.jpg\n"
     ]
    },
    {
     "name": "stderr",
     "output_type": "stream",
     "text": [
      "[urllib3.connectionpool][debug] https://api.imgur.com:443 \"GET /post/v1/media/QQpMfOz?include=media%2Ctags%2Caccount HTTP/1.1\" 200 452\n",
      "[urllib3.connectionpool][debug] https://i.imgur.com:443 \"GET /QQpMfOz.jpg HTTP/1.1\" 200 2070178\n"
     ]
    },
    {
     "name": "stdout",
     "output_type": "stream",
     "text": [
      "nvme_drive/scraped_files/20220821-003129-reddit/imgur/imgur_QQpMfOz_Navel piercing.jpg\n"
     ]
    },
    {
     "name": "stderr",
     "output_type": "stream",
     "text": [
      "[782/997] https://i.redd.it/pwszntq52xf91.jpg\n",
      "[gallery-dl][debug] Starting DownloadJob for 'https://i.redd.it/pwszntq52xf91.jpg'\n",
      "[reddit][debug] Using RedditImageExtractor for 'https://i.redd.it/pwszntq52xf91.jpg'\n",
      "[urllib3.connectionpool][debug] https://i.redd.it:443 \"GET /pwszntq52xf91.jpg HTTP/1.1\" 200 262519\n",
      "[783/997] https://www.redgifs.com/watch/slipperyagreeablecatfish\n",
      "[gallery-dl][debug] Starting DownloadJob for 'https://www.redgifs.com/watch/slipperyagreeablecatfish'\n",
      "[redgifs][debug] Using RedgifsImageExtractor for 'https://www.redgifs.com/watch/slipperyagreeablecatfish'\n",
      "[urllib3.connectionpool][debug] https://api.redgifs.com:443 \"GET /v2/gifs/slipperyagreeablecatfish HTTP/1.1\" 200 None\n"
     ]
    },
    {
     "name": "stdout",
     "output_type": "stream",
     "text": [
      "nvme_drive/scraped_files/20220821-003129-reddit/reddit/pwszntq52xf91.jpg\n"
     ]
    },
    {
     "name": "stderr",
     "output_type": "stream",
     "text": [
      "[urllib3.connectionpool][debug] https://thumbs2.redgifs.com:443 \"GET /SlipperyAgreeableCatfish.mp4 HTTP/1.1\" 200 22501146\n"
     ]
    },
    {
     "name": "stdout",
     "output_type": "stream",
     "text": [
      "nvme_drive/scraped_files/20220821-003129-reddit/redgifs/redgifs_slipperyagreeablecatfish.mp4\n",
      "nvme_drive/scraped_files/20220821-003129-reddit/imgur/imgur_xAD7epX_She offers herself up.jpg\n"
     ]
    },
    {
     "name": "stderr",
     "output_type": "stream",
     "text": [
      "[784/997] https://i.imgur.com/xAD7epX.jpg\n",
      "[gallery-dl][debug] Starting DownloadJob for 'https://i.imgur.com/xAD7epX.jpg'\n",
      "[imgur][debug] Using ImgurImageExtractor for 'https://i.imgur.com/xAD7epX.jpg'\n",
      "[urllib3.connectionpool][debug] https://api.imgur.com:443 \"GET /post/v1/media/xAD7epX?include=media%2Ctags%2Caccount HTTP/1.1\" 200 457\n",
      "[urllib3.connectionpool][debug] https://i.imgur.com:443 \"GET /xAD7epX.jpg HTTP/1.1\" 200 210379\n",
      "[785/997] http://i.imgur.com/3XXXPBZ.png\n",
      "[gallery-dl][debug] Starting DownloadJob for 'http://i.imgur.com/3XXXPBZ.png'\n",
      "[imgur][debug] Using ImgurImageExtractor for 'http://i.imgur.com/3XXXPBZ.png'\n",
      "[urllib3.connectionpool][debug] https://api.imgur.com:443 \"GET /post/v1/media/3XXXPBZ?include=media%2Ctags%2Caccount HTTP/1.1\" 200 468\n",
      "[urllib3.connectionpool][debug] https://i.imgur.com:443 \"GET /3XXXPBZ.jpg HTTP/1.1\" 200 257396\n",
      "[786/997] https://i.imgur.com/eKxxgOI.jpg\n",
      "[gallery-dl][debug] Starting DownloadJob for 'https://i.imgur.com/eKxxgOI.jpg'\n",
      "[imgur][debug] Using ImgurImageExtractor for 'https://i.imgur.com/eKxxgOI.jpg'\n",
      "[urllib3.connectionpool][debug] https://api.imgur.com:443 \"GET /post/v1/media/eKxxgOI?include=media%2Ctags%2Caccount HTTP/1.1\" 200 476\n"
     ]
    },
    {
     "name": "stdout",
     "output_type": "stream",
     "text": [
      "nvme_drive/scraped_files/20220821-003129-reddit/imgur/imgur_3XXXPBZ_bit nippy.jpg\n"
     ]
    },
    {
     "name": "stderr",
     "output_type": "stream",
     "text": [
      "[urllib3.connectionpool][debug] https://i.imgur.com:443 \"GET /eKxxgOI.jpg HTTP/1.1\" 200 737107\n",
      "[787/997] https://www.redgifs.com/watch/aromaticannualguanaco\n",
      "[gallery-dl][debug] Starting DownloadJob for 'https://www.redgifs.com/watch/aromaticannualguanaco'\n",
      "[redgifs][debug] Using RedgifsImageExtractor for 'https://www.redgifs.com/watch/aromaticannualguanaco'\n"
     ]
    },
    {
     "name": "stdout",
     "output_type": "stream",
     "text": [
      "nvme_drive/scraped_files/20220821-003129-reddit/imgur/imgur_eKxxgOI_Paradise.jpg\n"
     ]
    },
    {
     "name": "stderr",
     "output_type": "stream",
     "text": [
      "[urllib3.connectionpool][debug] https://api.redgifs.com:443 \"GET /v2/gifs/aromaticannualguanaco HTTP/1.1\" 200 None\n",
      "[urllib3.connectionpool][debug] https://thumbs2.redgifs.com:443 \"GET /AromaticAnnualGuanaco.mp4 HTTP/1.1\" 200 38578301\n"
     ]
    },
    {
     "name": "stdout",
     "output_type": "stream",
     "text": [
      "nvme_drive/scraped_files/20220821-003129-reddit/redgifs/redgifs_aromaticannualguanaco.mp4\n"
     ]
    },
    {
     "name": "stderr",
     "output_type": "stream",
     "text": [
      "[788/997] https://www.redgifs.com/watch/frontperkyindianabat\n",
      "[gallery-dl][debug] Starting DownloadJob for 'https://www.redgifs.com/watch/frontperkyindianabat'\n",
      "[redgifs][debug] Using RedgifsImageExtractor for 'https://www.redgifs.com/watch/frontperkyindianabat'\n",
      "[urllib3.connectionpool][debug] https://api.redgifs.com:443 \"GET /v2/gifs/frontperkyindianabat HTTP/1.1\" 200 None\n",
      "[urllib3.connectionpool][debug] https://thumbs2.redgifs.com:443 \"GET /FrontPerkyIndianabat.mp4 HTTP/1.1\" 200 9238990\n"
     ]
    },
    {
     "name": "stdout",
     "output_type": "stream",
     "text": [
      "nvme_drive/scraped_files/20220821-003129-reddit/redgifs/redgifs_frontperkyindianabat.mp4\n"
     ]
    },
    {
     "name": "stderr",
     "output_type": "stream",
     "text": [
      "[789/997] https://i.imgur.com/IgWnmQ4.jpg\n",
      "[gallery-dl][debug] Starting DownloadJob for 'https://i.imgur.com/IgWnmQ4.jpg'\n",
      "[imgur][debug] Using ImgurImageExtractor for 'https://i.imgur.com/IgWnmQ4.jpg'\n",
      "[urllib3.connectionpool][debug] https://api.imgur.com:443 \"GET /post/v1/media/IgWnmQ4?include=media%2Ctags%2Caccount HTTP/1.1\" 200 447\n",
      "[urllib3.connectionpool][debug] https://i.imgur.com:443 \"GET /IgWnmQ4.jpg HTTP/1.1\" 200 66142\n",
      "[790/997] https://www.redgifs.com/watch/pinkinexperiencedbackswimmer?rel=u%3Aburgerprince%3Bo%3Arecent\n",
      "[gallery-dl][debug] Starting DownloadJob for 'https://www.redgifs.com/watch/pinkinexperiencedbackswimmer?rel=u%3Aburgerprince%3Bo%3Arecent'\n",
      "[redgifs][debug] Using RedgifsImageExtractor for 'https://www.redgifs.com/watch/pinkinexperiencedbackswimmer?rel=u%3Aburgerprince%3Bo%3Arecent'\n",
      "[urllib3.connectionpool][debug] https://api.redgifs.com:443 \"GET /v2/gifs/pinkinexperiencedbackswimmer HTTP/1.1\" 200 None\n"
     ]
    },
    {
     "name": "stdout",
     "output_type": "stream",
     "text": [
      "nvme_drive/scraped_files/20220821-003129-reddit/imgur/imgur_IgWnmQ4_Insert here.jpg\n"
     ]
    },
    {
     "name": "stderr",
     "output_type": "stream",
     "text": [
      "[urllib3.connectionpool][debug] https://thumbs2.redgifs.com:443 \"GET /PinkInexperiencedBackswimmer.mp4 HTTP/1.1\" 200 17863473\n"
     ]
    },
    {
     "name": "stdout",
     "output_type": "stream",
     "text": [
      "nvme_drive/scraped_files/20220821-003129-reddit/redgifs/redgifs_pinkinexperiencedbackswimmer.mp4\n",
      "nvme_drive/scraped_files/20220821-003129-reddit/reddit/lmrjqz4vjje91.jpg\n"
     ]
    },
    {
     "name": "stderr",
     "output_type": "stream",
     "text": [
      "[791/997] https://i.redd.it/lmrjqz4vjje91.jpg\n",
      "[gallery-dl][debug] Starting DownloadJob for 'https://i.redd.it/lmrjqz4vjje91.jpg'\n",
      "[reddit][debug] Using RedditImageExtractor for 'https://i.redd.it/lmrjqz4vjje91.jpg'\n",
      "[urllib3.connectionpool][debug] https://i.redd.it:443 \"GET /lmrjqz4vjje91.jpg HTTP/1.1\" 200 97597\n",
      "[792/997] https://i.imgur.com/hbrnk0i.jpg\n",
      "[gallery-dl][debug] Starting DownloadJob for 'https://i.imgur.com/hbrnk0i.jpg'\n",
      "[imgur][debug] Using ImgurImageExtractor for 'https://i.imgur.com/hbrnk0i.jpg'\n",
      "[urllib3.connectionpool][debug] https://api.imgur.com:443 \"GET /post/v1/media/hbrnk0i?include=media%2Ctags%2Caccount HTTP/1.1\" 200 467\n",
      "[urllib3.connectionpool][debug] https://i.imgur.com:443 \"GET /hbrnk0i.jpg HTTP/1.1\" 200 445965\n"
     ]
    },
    {
     "name": "stdout",
     "output_type": "stream",
     "text": [
      "nvme_drive/scraped_files/20220821-003129-reddit/imgur/imgur_hbrnk0i_They used to be wearing matching outfits.jpg\n",
      "nvme_drive/scraped_files/20220821-003129-reddit/reddit/wvizwd1nzqd91.jpg\n",
      "nvme_drive/scraped_files/20220821-003129-reddit/imgur/imgur_Cz7KWjC_Redhead.jpg\n"
     ]
    },
    {
     "name": "stderr",
     "output_type": "stream",
     "text": [
      "[793/997] https://i.redd.it/wvizwd1nzqd91.jpg\n",
      "[gallery-dl][debug] Starting DownloadJob for 'https://i.redd.it/wvizwd1nzqd91.jpg'\n",
      "[reddit][debug] Using RedditImageExtractor for 'https://i.redd.it/wvizwd1nzqd91.jpg'\n",
      "[urllib3.connectionpool][debug] https://i.redd.it:443 \"GET /wvizwd1nzqd91.jpg HTTP/1.1\" 200 101599\n",
      "[794/997] https://i.imgur.com/Cz7KWjC.jpg\n",
      "[gallery-dl][debug] Starting DownloadJob for 'https://i.imgur.com/Cz7KWjC.jpg'\n",
      "[imgur][debug] Using ImgurImageExtractor for 'https://i.imgur.com/Cz7KWjC.jpg'\n",
      "[urllib3.connectionpool][debug] https://api.imgur.com:443 \"GET /post/v1/media/Cz7KWjC?include=media%2Ctags%2Caccount HTTP/1.1\" 200 472\n",
      "[urllib3.connectionpool][debug] https://i.imgur.com:443 \"GET /Cz7KWjC.jpg HTTP/1.1\" 200 120909\n",
      "[795/997] https://i.imgur.com/b9cjpRM.jpg\n",
      "[gallery-dl][debug] Starting DownloadJob for 'https://i.imgur.com/b9cjpRM.jpg'\n",
      "[imgur][debug] Using ImgurImageExtractor for 'https://i.imgur.com/b9cjpRM.jpg'\n",
      "[urllib3.connectionpool][debug] https://api.imgur.com:443 \"GET /post/v1/media/b9cjpRM?include=media%2Ctags%2Caccount HTTP/1.1\" 200 479\n",
      "[urllib3.connectionpool][debug] https://i.imgur.com:443 \"GET /b9cjpRM.jpg HTTP/1.1\" 200 201112\n",
      "[796/997] https://www.redgifs.com/watch/lawfulunwrittengoldfinch?rel=u%3Aburgerprince%3Bo%3Arecent\n",
      "[gallery-dl][debug] Starting DownloadJob for 'https://www.redgifs.com/watch/lawfulunwrittengoldfinch?rel=u%3Aburgerprince%3Bo%3Arecent'\n",
      "[redgifs][debug] Using RedgifsImageExtractor for 'https://www.redgifs.com/watch/lawfulunwrittengoldfinch?rel=u%3Aburgerprince%3Bo%3Arecent'\n",
      "[urllib3.connectionpool][debug] https://api.redgifs.com:443 \"GET /v2/gifs/lawfulunwrittengoldfinch HTTP/1.1\" 200 None\n"
     ]
    },
    {
     "name": "stdout",
     "output_type": "stream",
     "text": [
      "nvme_drive/scraped_files/20220821-003129-reddit/imgur/imgur_b9cjpRM_Petite redhead getting ready to bathe.jpg\n"
     ]
    },
    {
     "name": "stderr",
     "output_type": "stream",
     "text": [
      "[urllib3.connectionpool][debug] https://thumbs2.redgifs.com:443 \"GET /LawfulUnwrittenGoldfinch.mp4 HTTP/1.1\" 200 44723679\n"
     ]
    },
    {
     "name": "stdout",
     "output_type": "stream",
     "text": [
      "nvme_drive/scraped_files/20220821-003129-reddit/redgifs/redgifs_lawfulunwrittengoldfinch.mp4\n"
     ]
    },
    {
     "name": "stderr",
     "output_type": "stream",
     "text": [
      "[797/997] https://i.imgur.com/Ok5EGPs.jpg\n",
      "[gallery-dl][debug] Starting DownloadJob for 'https://i.imgur.com/Ok5EGPs.jpg'\n",
      "[imgur][debug] Using ImgurImageExtractor for 'https://i.imgur.com/Ok5EGPs.jpg'\n",
      "[urllib3.connectionpool][debug] https://api.imgur.com:443 \"GET /post/v1/media/Ok5EGPs?include=media%2Ctags%2Caccount HTTP/1.1\" 200 462\n",
      "[urllib3.connectionpool][debug] https://i.imgur.com:443 \"GET /Ok5EGPs.jpg HTTP/1.1\" 200 2177422\n"
     ]
    },
    {
     "name": "stdout",
     "output_type": "stream",
     "text": [
      "nvme_drive/scraped_files/20220821-003129-reddit/imgur/imgur_Ok5EGPs_Sweet Peach.jpg\n",
      "nvme_drive/scraped_files/20220821-003129-reddit/imgur/imgur_CZY5CVJ_[FFM] Best seat in the house.jpg\n"
     ]
    },
    {
     "name": "stderr",
     "output_type": "stream",
     "text": [
      "[798/997] https://i.imgur.com/CZY5CVJ.jpeg\n",
      "[gallery-dl][debug] Starting DownloadJob for 'https://i.imgur.com/CZY5CVJ.jpeg'\n",
      "[imgur][debug] Using ImgurImageExtractor for 'https://i.imgur.com/CZY5CVJ.jpeg'\n",
      "[urllib3.connectionpool][debug] https://api.imgur.com:443 \"GET /post/v1/media/CZY5CVJ?include=media%2Ctags%2Caccount HTTP/1.1\" 200 467\n",
      "[urllib3.connectionpool][debug] https://i.imgur.com:443 \"GET /CZY5CVJ.jpg HTTP/1.1\" 200 206630\n",
      "[799/997] https://i.imgur.com/f3wktxW.jpg\n",
      "[gallery-dl][debug] Starting DownloadJob for 'https://i.imgur.com/f3wktxW.jpg'\n",
      "[imgur][debug] Using ImgurImageExtractor for 'https://i.imgur.com/f3wktxW.jpg'\n",
      "[urllib3.connectionpool][debug] https://api.imgur.com:443 \"GET /post/v1/media/f3wktxW?include=media%2Ctags%2Caccount HTTP/1.1\" 200 461\n",
      "[urllib3.connectionpool][debug] https://i.imgur.com:443 \"GET /f3wktxW.jpg HTTP/1.1\" 200 2252291\n"
     ]
    },
    {
     "name": "stdout",
     "output_type": "stream",
     "text": [
      "nvme_drive/scraped_files/20220821-003129-reddit/imgur/imgur_f3wktxW_Valeria Kovalenko.jpg\n"
     ]
    },
    {
     "name": "stderr",
     "output_type": "stream",
     "text": [
      "[800/997] https://redgifs.com/watch/agilemisguidedhart\n",
      "[gallery-dl][debug] Starting DownloadJob for 'https://redgifs.com/watch/agilemisguidedhart'\n",
      "[redgifs][debug] Using RedgifsImageExtractor for 'https://redgifs.com/watch/agilemisguidedhart'\n",
      "[urllib3.connectionpool][debug] https://api.redgifs.com:443 \"GET /v2/gifs/agilemisguidedhart HTTP/1.1\" 200 None\n",
      "[urllib3.connectionpool][debug] https://thumbs2.redgifs.com:443 \"GET /AgileMisguidedHart.mp4 HTTP/1.1\" 200 29685415\n"
     ]
    },
    {
     "name": "stdout",
     "output_type": "stream",
     "text": [
      "nvme_drive/scraped_files/20220821-003129-reddit/redgifs/redgifs_agilemisguidedhart.mp4\n",
      "nvme_drive/scraped_files/20220821-003129-reddit/imgur/imgur_Odn6x5t_Beautiful Brunette showing off with her leg up on the basin.jpg\n"
     ]
    },
    {
     "name": "stderr",
     "output_type": "stream",
     "text": [
      "[801/997] https://i.imgur.com/Odn6x5t.jpg\n",
      "[gallery-dl][debug] Starting DownloadJob for 'https://i.imgur.com/Odn6x5t.jpg'\n",
      "[imgur][debug] Using ImgurImageExtractor for 'https://i.imgur.com/Odn6x5t.jpg'\n",
      "[urllib3.connectionpool][debug] https://api.imgur.com:443 \"GET /post/v1/media/Odn6x5t?include=media%2Ctags%2Caccount HTTP/1.1\" 200 502\n",
      "[urllib3.connectionpool][debug] https://i.imgur.com:443 \"GET /Odn6x5t.jpg HTTP/1.1\" 200 126674\n",
      "[802/997] https://redgifs.com/watch/sillydimpledsalamander\n",
      "[gallery-dl][debug] Starting DownloadJob for 'https://redgifs.com/watch/sillydimpledsalamander'\n",
      "[redgifs][debug] Using RedgifsImageExtractor for 'https://redgifs.com/watch/sillydimpledsalamander'\n",
      "[urllib3.connectionpool][debug] https://api.redgifs.com:443 \"GET /v2/gifs/sillydimpledsalamander HTTP/1.1\" 200 None\n",
      "[urllib3.connectionpool][debug] https://thumbs2.redgifs.com:443 \"GET /SillyDimpledSalamander.mp4 HTTP/1.1\" 200 35438611\n"
     ]
    },
    {
     "name": "stdout",
     "output_type": "stream",
     "text": [
      "nvme_drive/scraped_files/20220821-003129-reddit/redgifs/redgifs_sillydimpledsalamander.mp4\n"
     ]
    },
    {
     "name": "stderr",
     "output_type": "stream",
     "text": [
      "[803/997] https://i.imgur.com/Q6CLX2F.jpg\n",
      "[gallery-dl][debug] Starting DownloadJob for 'https://i.imgur.com/Q6CLX2F.jpg'\n",
      "[imgur][debug] Using ImgurImageExtractor for 'https://i.imgur.com/Q6CLX2F.jpg'\n",
      "[urllib3.connectionpool][debug] https://api.imgur.com:443 \"GET /post/v1/media/Q6CLX2F?include=media%2Ctags%2Caccount HTTP/1.1\" 200 456\n",
      "[urllib3.connectionpool][debug] https://i.imgur.com:443 \"GET /Q6CLX2F.jpg HTTP/1.1\" 200 784273\n"
     ]
    },
    {
     "name": "stdout",
     "output_type": "stream",
     "text": [
      "nvme_drive/scraped_files/20220821-003129-reddit/imgur/imgur_Q6CLX2F_Polina.jpg\n"
     ]
    },
    {
     "name": "stderr",
     "output_type": "stream",
     "text": [
      "[804/997] https://i.imgur.com/l1xjWUM.jpg\n",
      "[gallery-dl][debug] Starting DownloadJob for 'https://i.imgur.com/l1xjWUM.jpg'\n",
      "[imgur][debug] Using ImgurImageExtractor for 'https://i.imgur.com/l1xjWUM.jpg'\n",
      "[urllib3.connectionpool][debug] https://api.imgur.com:443 \"GET /post/v1/media/l1xjWUM?include=media%2Ctags%2Caccount HTTP/1.1\" 200 483\n",
      "[urllib3.connectionpool][debug] https://i.imgur.com:443 \"GET /l1xjWUM.jpg HTTP/1.1\" 200 1246070\n"
     ]
    },
    {
     "name": "stdout",
     "output_type": "stream",
     "text": [
      "nvme_drive/scraped_files/20220821-003129-reddit/imgur/imgur_l1xjWUM_Nensi - Tender Nensi.jpg\n",
      "nvme_drive/scraped_files/20220821-003129-reddit/imgur/imgur_xzNAnUk_Nothing sexier than big tits and flat tummy.jpg\n"
     ]
    },
    {
     "name": "stderr",
     "output_type": "stream",
     "text": [
      "[805/997] https://i.imgur.com/xzNAnUk.jpg\n",
      "[gallery-dl][debug] Starting DownloadJob for 'https://i.imgur.com/xzNAnUk.jpg'\n",
      "[imgur][debug] Using ImgurImageExtractor for 'https://i.imgur.com/xzNAnUk.jpg'\n",
      "[urllib3.connectionpool][debug] https://api.imgur.com:443 \"GET /post/v1/media/xzNAnUk?include=media%2Ctags%2Caccount HTTP/1.1\" 200 472\n",
      "[urllib3.connectionpool][debug] https://i.imgur.com:443 \"GET /xzNAnUk.jpg HTTP/1.1\" 200 209785\n",
      "[806/997] https://i.imgur.com/RtQ4iUM.jpg\n",
      "[gallery-dl][debug] Starting DownloadJob for 'https://i.imgur.com/RtQ4iUM.jpg'\n",
      "[imgur][debug] Using ImgurImageExtractor for 'https://i.imgur.com/RtQ4iUM.jpg'\n",
      "[urllib3.connectionpool][debug] https://api.imgur.com:443 \"GET /post/v1/media/RtQ4iUM?include=media%2Ctags%2Caccount HTTP/1.1\" 200 446\n",
      "[urllib3.connectionpool][debug] https://i.imgur.com:443 \"GET /RtQ4iUM.jpg HTTP/1.1\" 200 286918\n",
      "[807/997] https://i.imgur.com/WTtEg3W.jpg\n",
      "[gallery-dl][debug] Starting DownloadJob for 'https://i.imgur.com/WTtEg3W.jpg'\n",
      "[imgur][debug] Using ImgurImageExtractor for 'https://i.imgur.com/WTtEg3W.jpg'\n"
     ]
    },
    {
     "name": "stdout",
     "output_type": "stream",
     "text": [
      "nvme_drive/scraped_files/20220821-003129-reddit/imgur/imgur_RtQ4iUM_Ballerina.jpg\n"
     ]
    },
    {
     "name": "stderr",
     "output_type": "stream",
     "text": [
      "[urllib3.connectionpool][debug] https://api.imgur.com:443 \"GET /post/v1/media/WTtEg3W?include=media%2Ctags%2Caccount HTTP/1.1\" 200 457\n",
      "[urllib3.connectionpool][debug] https://i.imgur.com:443 \"GET /WTtEg3W.jpg HTTP/1.1\" 200 1253196\n"
     ]
    },
    {
     "name": "stdout",
     "output_type": "stream",
     "text": [
      "nvme_drive/scraped_files/20220821-003129-reddit/imgur/imgur_WTtEg3W_Relaxing on the beach.jpg\n",
      "nvme_drive/scraped_files/20220821-003129-reddit/reddit/zvrhzhtlqrd91.jpg\n"
     ]
    },
    {
     "name": "stderr",
     "output_type": "stream",
     "text": [
      "[808/997] https://i.redd.it/zvrhzhtlqrd91.jpg\n",
      "[gallery-dl][debug] Starting DownloadJob for 'https://i.redd.it/zvrhzhtlqrd91.jpg'\n",
      "[reddit][debug] Using RedditImageExtractor for 'https://i.redd.it/zvrhzhtlqrd91.jpg'\n",
      "[urllib3.connectionpool][debug] https://i.redd.it:443 \"GET /zvrhzhtlqrd91.jpg HTTP/1.1\" 200 329350\n",
      "[809/997] https://redgifs.com/watch/mediumforestgreencornsilkfieldspaniel\n",
      "[gallery-dl][debug] Starting DownloadJob for 'https://redgifs.com/watch/mediumforestgreencornsilkfieldspaniel'\n",
      "[redgifs][debug] Using RedgifsImageExtractor for 'https://redgifs.com/watch/mediumforestgreencornsilkfieldspaniel'\n",
      "[urllib3.connectionpool][debug] https://api.redgifs.com:443 \"GET /v2/gifs/mediumforestgreencornsilkfieldspaniel HTTP/1.1\" 200 None\n",
      "[urllib3.connectionpool][debug] https://thumbs2.redgifs.com:443 \"GET /MediumforestgreenCornsilkFieldspaniel.mp4 HTTP/1.1\" 200 6863617\n"
     ]
    },
    {
     "name": "stdout",
     "output_type": "stream",
     "text": [
      "nvme_drive/scraped_files/20220821-003129-reddit/redgifs/redgifs_mediumforestgreencornsilkfieldspaniel.mp4\n"
     ]
    },
    {
     "name": "stderr",
     "output_type": "stream",
     "text": [
      "[810/997] https://i.imgur.com/9wjO4iy.jpg\n",
      "[gallery-dl][debug] Starting DownloadJob for 'https://i.imgur.com/9wjO4iy.jpg'\n",
      "[imgur][debug] Using ImgurImageExtractor for 'https://i.imgur.com/9wjO4iy.jpg'\n",
      "[urllib3.connectionpool][debug] https://api.imgur.com:443 \"GET /post/v1/media/9wjO4iy?include=media%2Ctags%2Caccount HTTP/1.1\" 200 453\n",
      "[urllib3.connectionpool][debug] https://i.imgur.com:443 \"GET /9wjO4iy.jpg HTTP/1.1\" 200 813909\n",
      "[811/997] https://i.imgur.com/xYH6gOD.jpg\n",
      "[gallery-dl][debug] Starting DownloadJob for 'https://i.imgur.com/xYH6gOD.jpg'\n",
      "[imgur][debug] Using ImgurImageExtractor for 'https://i.imgur.com/xYH6gOD.jpg'\n"
     ]
    },
    {
     "name": "stdout",
     "output_type": "stream",
     "text": [
      "nvme_drive/scraped_files/20220821-003129-reddit/imgur/imgur_9wjO4iy_Alina vs Natasha.jpg\n"
     ]
    },
    {
     "name": "stderr",
     "output_type": "stream",
     "text": [
      "[urllib3.connectionpool][debug] https://api.imgur.com:443 \"GET /post/v1/media/xYH6gOD?include=media%2Ctags%2Caccount HTTP/1.1\" 200 492\n",
      "[urllib3.connectionpool][debug] https://i.imgur.com:443 \"GET /xYH6gOD.jpg HTTP/1.1\" 200 916150\n"
     ]
    },
    {
     "name": "stdout",
     "output_type": "stream",
     "text": [
      "nvme_drive/scraped_files/20220821-003129-reddit/imgur/imgur_xYH6gOD_Filling the frame.jpg\n"
     ]
    },
    {
     "name": "stderr",
     "output_type": "stream",
     "text": [
      "[812/997] https://www.redgifs.com/watch/frizzyhideousmanatee\n",
      "[gallery-dl][debug] Starting DownloadJob for 'https://www.redgifs.com/watch/frizzyhideousmanatee'\n",
      "[redgifs][debug] Using RedgifsImageExtractor for 'https://www.redgifs.com/watch/frizzyhideousmanatee'\n",
      "[urllib3.connectionpool][debug] https://api.redgifs.com:443 \"GET /v2/gifs/frizzyhideousmanatee HTTP/1.1\" 200 None\n",
      "[urllib3.connectionpool][debug] https://thumbs2.redgifs.com:443 \"GET /FrizzyHideousManatee.mp4 HTTP/1.1\" 200 28791455\n"
     ]
    },
    {
     "name": "stdout",
     "output_type": "stream",
     "text": [
      "nvme_drive/scraped_files/20220821-003129-reddit/redgifs/redgifs_frizzyhideousmanatee.mp4\n",
      "nvme_drive/scraped_files/20220821-003129-reddit/reddit/5uaoqx9ziei91.jpg\n"
     ]
    },
    {
     "name": "stderr",
     "output_type": "stream",
     "text": [
      "[813/997] https://i.redd.it/5uaoqx9ziei91.jpg\n",
      "[gallery-dl][debug] Starting DownloadJob for 'https://i.redd.it/5uaoqx9ziei91.jpg'\n",
      "[reddit][debug] Using RedditImageExtractor for 'https://i.redd.it/5uaoqx9ziei91.jpg'\n",
      "[urllib3.connectionpool][debug] https://i.redd.it:443 \"GET /5uaoqx9ziei91.jpg HTTP/1.1\" 200 161099\n",
      "[814/997] https://i.imgur.com/9VEfPMD.jpg\n",
      "[gallery-dl][debug] Starting DownloadJob for 'https://i.imgur.com/9VEfPMD.jpg'\n",
      "[imgur][debug] Using ImgurImageExtractor for 'https://i.imgur.com/9VEfPMD.jpg'\n",
      "[urllib3.connectionpool][debug] https://api.imgur.com:443 \"GET /post/v1/media/9VEfPMD?include=media%2Ctags%2Caccount HTTP/1.1\" 200 461\n",
      "[urllib3.connectionpool][debug] https://i.imgur.com:443 \"GET /9VEfPMD.jpg HTTP/1.1\" 200 319855\n"
     ]
    },
    {
     "name": "stdout",
     "output_type": "stream",
     "text": [
      "nvme_drive/scraped_files/20220821-003129-reddit/imgur/imgur_9VEfPMD_Having fun while shopping.jpg\n"
     ]
    },
    {
     "name": "stderr",
     "output_type": "stream",
     "text": [
      "[815/997] https://i.imgur.com/jcsG7Bf.jpg\n",
      "[gallery-dl][debug] Starting DownloadJob for 'https://i.imgur.com/jcsG7Bf.jpg'\n",
      "[imgur][debug] Using ImgurImageExtractor for 'https://i.imgur.com/jcsG7Bf.jpg'\n",
      "[urllib3.connectionpool][debug] https://api.imgur.com:443 \"GET /post/v1/media/jcsG7Bf?include=media%2Ctags%2Caccount HTTP/1.1\" 200 452\n",
      "[urllib3.connectionpool][debug] https://i.imgur.com:443 \"GET /jcsG7Bf.jpg HTTP/1.1\" 200 380953\n",
      "[816/997] https://www.redgifs.com/watch/carelesswarpedandeancat\n",
      "[gallery-dl][debug] Starting DownloadJob for 'https://www.redgifs.com/watch/carelesswarpedandeancat'\n",
      "[redgifs][debug] Using RedgifsImageExtractor for 'https://www.redgifs.com/watch/carelesswarpedandeancat'\n",
      "[urllib3.connectionpool][debug] https://api.redgifs.com:443 \"GET /v2/gifs/carelesswarpedandeancat HTTP/1.1\" 200 None\n"
     ]
    },
    {
     "name": "stdout",
     "output_type": "stream",
     "text": [
      "nvme_drive/scraped_files/20220821-003129-reddit/imgur/imgur_jcsG7Bf_Oxana Chic.jpg\n"
     ]
    },
    {
     "name": "stderr",
     "output_type": "stream",
     "text": [
      "[urllib3.connectionpool][debug] https://thumbs2.redgifs.com:443 \"GET /CarelessWarpedAndeancat.mp4 HTTP/1.1\" 200 18047859\n"
     ]
    },
    {
     "name": "stdout",
     "output_type": "stream",
     "text": [
      "nvme_drive/scraped_files/20220821-003129-reddit/redgifs/redgifs_carelesswarpedandeancat.mp4\n"
     ]
    },
    {
     "name": "stderr",
     "output_type": "stream",
     "text": [
      "[817/997] https://www.redgifs.com/watch/monumentalfruitfulabyssiniangroundhornbill\n",
      "[gallery-dl][debug] Starting DownloadJob for 'https://www.redgifs.com/watch/monumentalfruitfulabyssiniangroundhornbill'\n",
      "[redgifs][debug] Using RedgifsImageExtractor for 'https://www.redgifs.com/watch/monumentalfruitfulabyssiniangroundhornbill'\n",
      "[urllib3.connectionpool][debug] https://api.redgifs.com:443 \"GET /v2/gifs/monumentalfruitfulabyssiniangroundhornbill HTTP/1.1\" 200 None\n",
      "[urllib3.connectionpool][debug] https://thumbs2.redgifs.com:443 \"GET /MonumentalFruitfulAbyssiniangroundhornbill.mp4 HTTP/1.1\" 200 3501747\n"
     ]
    },
    {
     "name": "stdout",
     "output_type": "stream",
     "text": [
      "nvme_drive/scraped_files/20220821-003129-reddit/redgifs/redgifs_monumentalfruitfulabyssiniangroundhornbill.mp4\n",
      "nvme_drive/scraped_files/20220821-003129-reddit/reddit/bj44dc1mk1f91.jpg\n"
     ]
    },
    {
     "name": "stderr",
     "output_type": "stream",
     "text": [
      "[818/997] https://i.redd.it/bj44dc1mk1f91.jpg\n",
      "[gallery-dl][debug] Starting DownloadJob for 'https://i.redd.it/bj44dc1mk1f91.jpg'\n",
      "[reddit][debug] Using RedditImageExtractor for 'https://i.redd.it/bj44dc1mk1f91.jpg'\n",
      "[urllib3.connectionpool][debug] https://i.redd.it:443 \"GET /bj44dc1mk1f91.jpg HTTP/1.1\" 200 26620\n",
      "[819/997] https://redgifs.com/watch/evergreenupsetdogfish\n",
      "[gallery-dl][debug] Starting DownloadJob for 'https://redgifs.com/watch/evergreenupsetdogfish'\n",
      "[redgifs][debug] Using RedgifsImageExtractor for 'https://redgifs.com/watch/evergreenupsetdogfish'\n",
      "[urllib3.connectionpool][debug] https://api.redgifs.com:443 \"GET /v2/gifs/evergreenupsetdogfish HTTP/1.1\" 200 None\n",
      "[urllib3.connectionpool][debug] https://thumbs2.redgifs.com:443 \"GET /EvergreenUpsetDogfish.mp4 HTTP/1.1\" 200 28823573\n"
     ]
    },
    {
     "name": "stdout",
     "output_type": "stream",
     "text": [
      "nvme_drive/scraped_files/20220821-003129-reddit/redgifs/redgifs_evergreenupsetdogfish.mp4\n",
      "nvme_drive/scraped_files/20220821-003129-reddit/imgur/imgur_dX6z1Vw_15$.mp4\n"
     ]
    },
    {
     "name": "stderr",
     "output_type": "stream",
     "text": [
      "[820/997] https://i.imgur.com/dX6z1Vw.gifv\n",
      "[gallery-dl][debug] Starting DownloadJob for 'https://i.imgur.com/dX6z1Vw.gifv'\n",
      "[imgur][debug] Using ImgurImageExtractor for 'https://i.imgur.com/dX6z1Vw.gifv'\n",
      "[urllib3.connectionpool][debug] https://api.imgur.com:443 \"GET /post/v1/media/dX6z1Vw?include=media%2Ctags%2Caccount HTTP/1.1\" 200 460\n",
      "[urllib3.connectionpool][debug] https://i.imgur.com:443 \"GET /dX6z1Vw.mp4 HTTP/1.1\" 200 354054\n",
      "[821/997] https://www.redgifs.com/watch/blackethicalgroundbeetle\n",
      "[gallery-dl][debug] Starting DownloadJob for 'https://www.redgifs.com/watch/blackethicalgroundbeetle'\n",
      "[redgifs][debug] Using RedgifsImageExtractor for 'https://www.redgifs.com/watch/blackethicalgroundbeetle'\n",
      "[urllib3.connectionpool][debug] https://api.redgifs.com:443 \"GET /v2/gifs/blackethicalgroundbeetle HTTP/1.1\" 200 None\n",
      "[urllib3.connectionpool][debug] https://thumbs2.redgifs.com:443 \"GET /BlackEthicalGroundbeetle.mp4 HTTP/1.1\" 200 9491029\n"
     ]
    },
    {
     "name": "stdout",
     "output_type": "stream",
     "text": [
      "nvme_drive/scraped_files/20220821-003129-reddit/redgifs/redgifs_blackethicalgroundbeetle.mp4\n"
     ]
    },
    {
     "name": "stderr",
     "output_type": "stream",
     "text": [
      "[822/997] https://i.imgur.com/Xm0NKJP.jpg\n",
      "[gallery-dl][debug] Starting DownloadJob for 'https://i.imgur.com/Xm0NKJP.jpg'\n",
      "[imgur][debug] Using ImgurImageExtractor for 'https://i.imgur.com/Xm0NKJP.jpg'\n",
      "[urllib3.connectionpool][debug] https://api.imgur.com:443 \"GET /post/v1/media/Xm0NKJP?include=media%2Ctags%2Caccount HTTP/1.1\" 200 482\n",
      "[urllib3.connectionpool][debug] https://i.imgur.com:443 \"GET /Xm0NKJP.jpg HTTP/1.1\" 200 2685893\n"
     ]
    },
    {
     "name": "stdout",
     "output_type": "stream",
     "text": [
      "nvme_drive/scraped_files/20220821-003129-reddit/imgur/imgur_Xm0NKJP_LIJA.jpg\n"
     ]
    },
    {
     "name": "stderr",
     "output_type": "stream",
     "text": [
      "[823/997] https://www.redgifs.com/watch/secondarybiodegradabledromedary\n",
      "[gallery-dl][debug] Starting DownloadJob for 'https://www.redgifs.com/watch/secondarybiodegradabledromedary'\n",
      "[redgifs][debug] Using RedgifsImageExtractor for 'https://www.redgifs.com/watch/secondarybiodegradabledromedary'\n",
      "[urllib3.connectionpool][debug] https://api.redgifs.com:443 \"GET /v2/gifs/secondarybiodegradabledromedary HTTP/1.1\" 200 None\n",
      "[urllib3.connectionpool][debug] https://thumbs2.redgifs.com:443 \"GET /SecondaryBiodegradableDromedary.mp4 HTTP/1.1\" 200 9871995\n"
     ]
    },
    {
     "name": "stdout",
     "output_type": "stream",
     "text": [
      "nvme_drive/scraped_files/20220821-003129-reddit/redgifs/redgifs_secondarybiodegradabledromedary.mp4\n",
      "nvme_drive/scraped_files/20220821-003129-reddit/imgur/imgur_oJK9a4c_When The Wedding Is Finally Over.jpg\n"
     ]
    },
    {
     "name": "stderr",
     "output_type": "stream",
     "text": [
      "[824/997] https://i.imgur.com/oJK9a4c.jpg\n",
      "[gallery-dl][debug] Starting DownloadJob for 'https://i.imgur.com/oJK9a4c.jpg'\n",
      "[imgur][debug] Using ImgurImageExtractor for 'https://i.imgur.com/oJK9a4c.jpg'\n",
      "[urllib3.connectionpool][debug] https://api.imgur.com:443 \"GET /post/v1/media/oJK9a4c?include=media%2Ctags%2Caccount HTTP/1.1\" 200 511\n",
      "[urllib3.connectionpool][debug] https://i.imgur.com:443 \"GET /oJK9a4c.jpg HTTP/1.1\" 200 225746\n",
      "[825/997] https://i.imgur.com/d4Aic58.jpg\n",
      "[gallery-dl][debug] Starting DownloadJob for 'https://i.imgur.com/d4Aic58.jpg'\n",
      "[imgur][debug] Using ImgurImageExtractor for 'https://i.imgur.com/d4Aic58.jpg'\n",
      "[urllib3.connectionpool][debug] https://api.imgur.com:443 \"GET /post/v1/media/d4Aic58?include=media%2Ctags%2Caccount HTTP/1.1\" 200 485\n",
      "[urllib3.connectionpool][debug] https://i.imgur.com:443 \"GET /d4Aic58.jpg HTTP/1.1\" 200 3073350\n"
     ]
    },
    {
     "name": "stdout",
     "output_type": "stream",
     "text": [
      "nvme_drive/scraped_files/20220821-003129-reddit/imgur/imgur_d4Aic58_Mmmmmh, XoFreja.jpg\n",
      "nvme_drive/scraped_files/20220821-003129-reddit/reddit/tojzzzo05dd91.jpg\n"
     ]
    },
    {
     "name": "stderr",
     "output_type": "stream",
     "text": [
      "[826/997] https://i.redd.it/tojzzzo05dd91.jpg\n",
      "[gallery-dl][debug] Starting DownloadJob for 'https://i.redd.it/tojzzzo05dd91.jpg'\n",
      "[reddit][debug] Using RedditImageExtractor for 'https://i.redd.it/tojzzzo05dd91.jpg'\n",
      "[urllib3.connectionpool][debug] https://i.redd.it:443 \"GET /tojzzzo05dd91.jpg HTTP/1.1\" 200 180558\n",
      "[827/997] https://i.imgur.com/9UWi15c.jpeg\n",
      "[gallery-dl][debug] Starting DownloadJob for 'https://i.imgur.com/9UWi15c.jpeg'\n",
      "[imgur][debug] Using ImgurImageExtractor for 'https://i.imgur.com/9UWi15c.jpeg'\n",
      "[urllib3.connectionpool][debug] https://api.imgur.com:443 \"GET /post/v1/media/9UWi15c?include=media%2Ctags%2Caccount HTTP/1.1\" 200 462\n",
      "[urllib3.connectionpool][debug] https://i.imgur.com:443 \"GET /9UWi15c.jpg HTTP/1.1\" 200 2369849\n"
     ]
    },
    {
     "name": "stdout",
     "output_type": "stream",
     "text": [
      "nvme_drive/scraped_files/20220821-003129-reddit/imgur/imgur_9UWi15c_Mila Amour.jpg\n"
     ]
    },
    {
     "name": "stderr",
     "output_type": "stream",
     "text": [
      "[828/997] https://redgifs.com/watch/uncomfortablegoodnaturedmacaw\n",
      "[gallery-dl][debug] Starting DownloadJob for 'https://redgifs.com/watch/uncomfortablegoodnaturedmacaw'\n",
      "[redgifs][debug] Using RedgifsImageExtractor for 'https://redgifs.com/watch/uncomfortablegoodnaturedmacaw'\n",
      "[urllib3.connectionpool][debug] https://api.redgifs.com:443 \"GET /v2/gifs/uncomfortablegoodnaturedmacaw HTTP/1.1\" 200 None\n",
      "[urllib3.connectionpool][debug] https://thumbs2.redgifs.com:443 \"GET /UncomfortableGoodnaturedMacaw.mp4 HTTP/1.1\" 200 21902118\n"
     ]
    },
    {
     "name": "stdout",
     "output_type": "stream",
     "text": [
      "nvme_drive/scraped_files/20220821-003129-reddit/redgifs/redgifs_uncomfortablegoodnaturedmacaw.mp4\n",
      "nvme_drive/scraped_files/20220821-003129-reddit/reddit/4wyovmgnk9g91.jpg\n",
      "nvme_drive/scraped_files/20220821-003129-reddit/reddit/962808ismbf91.jpg\n"
     ]
    },
    {
     "name": "stderr",
     "output_type": "stream",
     "text": [
      "[829/997] https://i.redd.it/4wyovmgnk9g91.jpg\n",
      "[gallery-dl][debug] Starting DownloadJob for 'https://i.redd.it/4wyovmgnk9g91.jpg'\n",
      "[reddit][debug] Using RedditImageExtractor for 'https://i.redd.it/4wyovmgnk9g91.jpg'\n",
      "[urllib3.connectionpool][debug] https://i.redd.it:443 \"GET /4wyovmgnk9g91.jpg HTTP/1.1\" 200 645981\n",
      "[830/997] https://i.redd.it/962808ismbf91.jpg\n",
      "[gallery-dl][debug] Starting DownloadJob for 'https://i.redd.it/962808ismbf91.jpg'\n",
      "[reddit][debug] Using RedditImageExtractor for 'https://i.redd.it/962808ismbf91.jpg'\n",
      "[urllib3.connectionpool][debug] https://i.redd.it:443 \"GET /962808ismbf91.jpg HTTP/1.1\" 200 178118\n",
      "[831/997] https://i.redd.it/u1qtf0034ke91.jpg\n",
      "[gallery-dl][debug] Starting DownloadJob for 'https://i.redd.it/u1qtf0034ke91.jpg'\n",
      "[reddit][debug] Using RedditImageExtractor for 'https://i.redd.it/u1qtf0034ke91.jpg'\n",
      "[urllib3.connectionpool][debug] https://i.redd.it:443 \"GET /u1qtf0034ke91.jpg HTTP/1.1\" 200 257372\n"
     ]
    },
    {
     "name": "stdout",
     "output_type": "stream",
     "text": [
      "nvme_drive/scraped_files/20220821-003129-reddit/reddit/u1qtf0034ke91.jpg\n"
     ]
    },
    {
     "name": "stderr",
     "output_type": "stream",
     "text": [
      "[832/997] https://i.imgur.com/DlWALGC.jpg\n",
      "[gallery-dl][debug] Starting DownloadJob for 'https://i.imgur.com/DlWALGC.jpg'\n",
      "[imgur][debug] Using ImgurImageExtractor for 'https://i.imgur.com/DlWALGC.jpg'\n",
      "[urllib3.connectionpool][debug] https://api.imgur.com:443 \"GET /post/v1/media/DlWALGC?include=media%2Ctags%2Caccount HTTP/1.1\" 200 454\n",
      "[urllib3.connectionpool][debug] https://i.imgur.com:443 \"GET /DlWALGC.jpg HTTP/1.1\" 200 1020255\n"
     ]
    },
    {
     "name": "stdout",
     "output_type": "stream",
     "text": [
      "nvme_drive/scraped_files/20220821-003129-reddit/imgur/imgur_DlWALGC_Lovely crew.jpg\n"
     ]
    },
    {
     "name": "stderr",
     "output_type": "stream",
     "text": [
      "[833/997] https://i.imgur.com/EZupVlP.png\n",
      "[gallery-dl][debug] Starting DownloadJob for 'https://i.imgur.com/EZupVlP.png'\n",
      "[imgur][debug] Using ImgurImageExtractor for 'https://i.imgur.com/EZupVlP.png'\n",
      "[urllib3.connectionpool][debug] https://api.imgur.com:443 \"GET /post/v1/media/EZupVlP?include=media%2Ctags%2Caccount HTTP/1.1\" 200 450\n",
      "[urllib3.connectionpool][debug] https://i.imgur.com:443 \"GET /EZupVlP.png HTTP/1.1\" 200 774974\n"
     ]
    },
    {
     "name": "stdout",
     "output_type": "stream",
     "text": [
      "nvme_drive/scraped_files/20220821-003129-reddit/imgur/imgur_EZupVlP_Olga Alberti.png\n",
      "nvme_drive/scraped_files/20220821-003129-reddit/imgur/imgur_HUaLXiE_Jess Clarke vs Roxanna June.jpg\n"
     ]
    },
    {
     "name": "stderr",
     "output_type": "stream",
     "text": [
      "[834/997] https://i.imgur.com/HUaLXiE.jpg\n",
      "[gallery-dl][debug] Starting DownloadJob for 'https://i.imgur.com/HUaLXiE.jpg'\n",
      "[imgur][debug] Using ImgurImageExtractor for 'https://i.imgur.com/HUaLXiE.jpg'\n",
      "[urllib3.connectionpool][debug] https://api.imgur.com:443 \"GET /post/v1/media/HUaLXiE?include=media%2Ctags%2Caccount HTTP/1.1\" 200 466\n",
      "[urllib3.connectionpool][debug] https://i.imgur.com:443 \"GET /HUaLXiE.jpg HTTP/1.1\" 200 432328\n",
      "[835/997] https://i.imgur.com/zNT5peV.jpg\n",
      "[gallery-dl][debug] Starting DownloadJob for 'https://i.imgur.com/zNT5peV.jpg'\n",
      "[imgur][debug] Using ImgurImageExtractor for 'https://i.imgur.com/zNT5peV.jpg'\n",
      "[urllib3.connectionpool][debug] https://api.imgur.com:443 \"GET /post/v1/media/zNT5peV?include=media%2Ctags%2Caccount HTTP/1.1\" 200 462\n",
      "[urllib3.connectionpool][debug] https://i.imgur.com:443 \"GET /zNT5peV.jpg HTTP/1.1\" 200 330870\n",
      "[836/997] https://i.imgur.com/T7b5TFO.jpg\n",
      "[gallery-dl][debug] Starting DownloadJob for 'https://i.imgur.com/T7b5TFO.jpg'\n",
      "[imgur][debug] Using ImgurImageExtractor for 'https://i.imgur.com/T7b5TFO.jpg'\n"
     ]
    },
    {
     "name": "stdout",
     "output_type": "stream",
     "text": [
      "nvme_drive/scraped_files/20220821-003129-reddit/imgur/imgur_zNT5peV_Peta Jensen.jpg\n",
      "nvme_drive/scraped_files/20220821-003129-reddit/imgur/imgur_T7b5TFO_carpentry.jpg\n"
     ]
    },
    {
     "name": "stderr",
     "output_type": "stream",
     "text": [
      "[urllib3.connectionpool][debug] https://api.imgur.com:443 \"GET /post/v1/media/T7b5TFO?include=media%2Ctags%2Caccount HTTP/1.1\" 200 446\n",
      "[urllib3.connectionpool][debug] https://i.imgur.com:443 \"GET /T7b5TFO.jpg HTTP/1.1\" 200 168192\n",
      "[837/997] https://i.imgur.com/p3GsSQ7.jpg\n",
      "[gallery-dl][debug] Starting DownloadJob for 'https://i.imgur.com/p3GsSQ7.jpg'\n",
      "[imgur][debug] Using ImgurImageExtractor for 'https://i.imgur.com/p3GsSQ7.jpg'\n",
      "[urllib3.connectionpool][debug] https://api.imgur.com:443 \"GET /post/v1/media/p3GsSQ7?include=media%2Ctags%2Caccount HTTP/1.1\" 200 455\n",
      "[urllib3.connectionpool][debug] https://i.imgur.com:443 \"GET /p3GsSQ7.jpg HTTP/1.1\" 200 154859\n"
     ]
    },
    {
     "name": "stdout",
     "output_type": "stream",
     "text": [
      "nvme_drive/scraped_files/20220821-003129-reddit/imgur/imgur_p3GsSQ7_Gemma Jack teasing.jpg\n"
     ]
    },
    {
     "name": "stderr",
     "output_type": "stream",
     "text": [
      "[838/997] https://www.redgifs.com/watch/grouchyinbornmeerkat\n",
      "[gallery-dl][debug] Starting DownloadJob for 'https://www.redgifs.com/watch/grouchyinbornmeerkat'\n",
      "[redgifs][debug] Using RedgifsImageExtractor for 'https://www.redgifs.com/watch/grouchyinbornmeerkat'\n",
      "[urllib3.connectionpool][debug] https://api.redgifs.com:443 \"GET /v2/gifs/grouchyinbornmeerkat HTTP/1.1\" 200 None\n",
      "[urllib3.connectionpool][debug] https://thumbs2.redgifs.com:443 \"GET /GrouchyInbornMeerkat.mp4 HTTP/1.1\" 200 29397551\n"
     ]
    },
    {
     "name": "stdout",
     "output_type": "stream",
     "text": [
      "nvme_drive/scraped_files/20220821-003129-reddit/redgifs/redgifs_grouchyinbornmeerkat.mp4\n",
      "nvme_drive/scraped_files/20220821-003129-reddit/reddit/zu156frpw9i91.jpg\n",
      "nvme_drive/scraped_files/20220821-003129-reddit/reddit/11cq75rdxai91.jpg\n",
      "nvme_drive/scraped_files/20220821-003129-reddit/reddit/nl3s4jjgnke91.jpg\n"
     ]
    },
    {
     "name": "stderr",
     "output_type": "stream",
     "text": [
      "[839/997] https://i.redd.it/zu156frpw9i91.jpg\n",
      "[gallery-dl][debug] Starting DownloadJob for 'https://i.redd.it/zu156frpw9i91.jpg'\n",
      "[reddit][debug] Using RedditImageExtractor for 'https://i.redd.it/zu156frpw9i91.jpg'\n",
      "[urllib3.connectionpool][debug] https://i.redd.it:443 \"GET /zu156frpw9i91.jpg HTTP/1.1\" 200 94641\n",
      "[840/997] https://i.redd.it/11cq75rdxai91.jpg\n",
      "[gallery-dl][debug] Starting DownloadJob for 'https://i.redd.it/11cq75rdxai91.jpg'\n",
      "[reddit][debug] Using RedditImageExtractor for 'https://i.redd.it/11cq75rdxai91.jpg'\n",
      "[urllib3.connectionpool][debug] https://i.redd.it:443 \"GET /11cq75rdxai91.jpg HTTP/1.1\" 200 120049\n",
      "[841/997] https://i.redd.it/nl3s4jjgnke91.jpg\n",
      "[gallery-dl][debug] Starting DownloadJob for 'https://i.redd.it/nl3s4jjgnke91.jpg'\n",
      "[reddit][debug] Using RedditImageExtractor for 'https://i.redd.it/nl3s4jjgnke91.jpg'\n",
      "[urllib3.connectionpool][debug] https://i.redd.it:443 \"GET /nl3s4jjgnke91.jpg HTTP/1.1\" 200 156727\n",
      "[842/997] https://redgifs.com/watch/wonderfulcandidwolverine\n",
      "[gallery-dl][debug] Starting DownloadJob for 'https://redgifs.com/watch/wonderfulcandidwolverine'\n",
      "[redgifs][debug] Using RedgifsImageExtractor for 'https://redgifs.com/watch/wonderfulcandidwolverine'\n",
      "[urllib3.connectionpool][debug] https://api.redgifs.com:443 \"GET /v2/gifs/wonderfulcandidwolverine HTTP/1.1\" 200 None\n",
      "[urllib3.connectionpool][debug] https://thumbs2.redgifs.com:443 \"GET /WonderfulCandidWolverine.mp4 HTTP/1.1\" 200 35531478\n"
     ]
    },
    {
     "name": "stdout",
     "output_type": "stream",
     "text": [
      "nvme_drive/scraped_files/20220821-003129-reddit/redgifs/redgifs_wonderfulcandidwolverine.mp4\n"
     ]
    },
    {
     "name": "stderr",
     "output_type": "stream",
     "text": [
      "[843/997] https://www.redgifs.com/watch/longtermnavyblackbuck\n",
      "[gallery-dl][debug] Starting DownloadJob for 'https://www.redgifs.com/watch/longtermnavyblackbuck'\n",
      "[redgifs][debug] Using RedgifsImageExtractor for 'https://www.redgifs.com/watch/longtermnavyblackbuck'\n",
      "[urllib3.connectionpool][debug] https://api.redgifs.com:443 \"GET /v2/gifs/longtermnavyblackbuck HTTP/1.1\" 200 None\n",
      "[urllib3.connectionpool][debug] https://thumbs2.redgifs.com:443 \"GET /LongtermNavyBlackbuck.mp4 HTTP/1.1\" 200 24219648\n"
     ]
    },
    {
     "name": "stdout",
     "output_type": "stream",
     "text": [
      "nvme_drive/scraped_files/20220821-003129-reddit/redgifs/redgifs_longtermnavyblackbuck.mp4\n",
      "nvme_drive/scraped_files/20220821-003129-reddit/imgur/imgur_al4sYNF_To Die For.jpg\n"
     ]
    },
    {
     "name": "stderr",
     "output_type": "stream",
     "text": [
      "[844/997] https://i.imgur.com/al4sYNF.jpg\n",
      "[gallery-dl][debug] Starting DownloadJob for 'https://i.imgur.com/al4sYNF.jpg'\n",
      "[imgur][debug] Using ImgurImageExtractor for 'https://i.imgur.com/al4sYNF.jpg'\n",
      "[urllib3.connectionpool][debug] https://api.imgur.com:443 \"GET /post/v1/media/al4sYNF?include=media%2Ctags%2Caccount HTTP/1.1\" 200 483\n",
      "[urllib3.connectionpool][debug] https://i.imgur.com:443 \"GET /al4sYNF.jpg HTTP/1.1\" 200 60398\n",
      "[845/997] https://i.imgur.com/PoEr4n0.png\n",
      "[gallery-dl][debug] Starting DownloadJob for 'https://i.imgur.com/PoEr4n0.png'\n",
      "[imgur][debug] Using ImgurImageExtractor for 'https://i.imgur.com/PoEr4n0.png'\n",
      "[urllib3.connectionpool][debug] https://api.imgur.com:443 \"GET /post/v1/media/PoEr4n0?include=media%2Ctags%2Caccount HTTP/1.1\" 200 467\n",
      "[urllib3.connectionpool][debug] https://i.imgur.com:443 \"GET /PoEr4n0.png HTTP/1.1\" 200 1696824\n"
     ]
    },
    {
     "name": "stdout",
     "output_type": "stream",
     "text": [
      "nvme_drive/scraped_files/20220821-003129-reddit/imgur/imgur_PoEr4n0_Noelle easton has great boobies.png\n",
      "nvme_drive/scraped_files/20220821-003129-reddit/redgifs/redgifs_probableapprehensivewireworm.mp4\n"
     ]
    },
    {
     "name": "stderr",
     "output_type": "stream",
     "text": [
      "[846/997] https://redgifs.com/watch/probableapprehensivewireworm\n",
      "[gallery-dl][debug] Starting DownloadJob for 'https://redgifs.com/watch/probableapprehensivewireworm'\n",
      "[redgifs][debug] Using RedgifsImageExtractor for 'https://redgifs.com/watch/probableapprehensivewireworm'\n",
      "[urllib3.connectionpool][debug] https://api.redgifs.com:443 \"GET /v2/gifs/probableapprehensivewireworm HTTP/1.1\" 200 None\n",
      "[urllib3.connectionpool][debug] https://thumbs2.redgifs.com:443 \"GET /ProbableApprehensiveWireworm.mp4 HTTP/1.1\" 200 49518\n",
      "[847/997] https://i.imgur.com/GTG9aia.jpg\n",
      "[gallery-dl][debug] Starting DownloadJob for 'https://i.imgur.com/GTG9aia.jpg'\n",
      "[imgur][debug] Using ImgurImageExtractor for 'https://i.imgur.com/GTG9aia.jpg'\n",
      "[urllib3.connectionpool][debug] https://api.imgur.com:443 \"GET /post/v1/media/GTG9aia?include=media%2Ctags%2Caccount HTTP/1.1\" 200 449\n",
      "[urllib3.connectionpool][debug] https://i.imgur.com:443 \"GET /GTG9aia.jpg HTTP/1.1\" 200 310843\n",
      "[848/997] https://i.redd.it/xfg3aws5e4g91.jpg\n",
      "[gallery-dl][debug] Starting DownloadJob for 'https://i.redd.it/xfg3aws5e4g91.jpg'\n",
      "[reddit][debug] Using RedditImageExtractor for 'https://i.redd.it/xfg3aws5e4g91.jpg'\n",
      "[urllib3.connectionpool][debug] https://i.redd.it:443 \"GET /xfg3aws5e4g91.jpg HTTP/1.1\" 200 952304\n"
     ]
    },
    {
     "name": "stdout",
     "output_type": "stream",
     "text": [
      "nvme_drive/scraped_files/20220821-003129-reddit/imgur/imgur_GTG9aia_Natalia Lobo.jpg\n",
      "nvme_drive/scraped_files/20220821-003129-reddit/reddit/xfg3aws5e4g91.jpg\n"
     ]
    },
    {
     "name": "stderr",
     "output_type": "stream",
     "text": [
      "[849/997] https://i.imgur.com/556l1rt.jpeg\n",
      "[gallery-dl][debug] Starting DownloadJob for 'https://i.imgur.com/556l1rt.jpeg'\n",
      "[imgur][debug] Using ImgurImageExtractor for 'https://i.imgur.com/556l1rt.jpeg'\n",
      "[urllib3.connectionpool][debug] https://api.imgur.com:443 \"GET /post/v1/media/556l1rt?include=media%2Ctags%2Caccount HTTP/1.1\" 200 456\n",
      "[urllib3.connectionpool][debug] https://i.imgur.com:443 \"GET /556l1rt.jpg HTTP/1.1\" 200 97086\n",
      "[850/997] https://www.redgifs.com/watch/bareagitatedhind\n",
      "[gallery-dl][debug] Starting DownloadJob for 'https://www.redgifs.com/watch/bareagitatedhind'\n",
      "[redgifs][debug] Using RedgifsImageExtractor for 'https://www.redgifs.com/watch/bareagitatedhind'\n",
      "[urllib3.connectionpool][debug] https://api.redgifs.com:443 \"GET /v2/gifs/bareagitatedhind HTTP/1.1\" 200 None\n"
     ]
    },
    {
     "name": "stdout",
     "output_type": "stream",
     "text": [
      "nvme_drive/scraped_files/20220821-003129-reddit/imgur/imgur_556l1rt_Fishnets and chain chokers.jpg\n"
     ]
    },
    {
     "name": "stderr",
     "output_type": "stream",
     "text": [
      "[urllib3.connectionpool][debug] https://thumbs2.redgifs.com:443 \"GET /BareAgitatedHind.mp4 HTTP/1.1\" 200 7259501\n"
     ]
    },
    {
     "name": "stdout",
     "output_type": "stream",
     "text": [
      "nvme_drive/scraped_files/20220821-003129-reddit/redgifs/redgifs_bareagitatedhind.mp4\n"
     ]
    },
    {
     "name": "stderr",
     "output_type": "stream",
     "text": [
      "[851/997] https://i.imgur.com/OWBdbup.gifv\n",
      "[gallery-dl][debug] Starting DownloadJob for 'https://i.imgur.com/OWBdbup.gifv'\n",
      "[imgur][debug] Using ImgurImageExtractor for 'https://i.imgur.com/OWBdbup.gifv'\n",
      "[urllib3.connectionpool][debug] https://api.imgur.com:443 \"GET /post/v1/media/OWBdbup?include=media%2Ctags%2Caccount HTTP/1.1\" 200 459\n",
      "[urllib3.connectionpool][debug] https://i.imgur.com:443 \"GET /OWBdbup.mp4 HTTP/1.1\" 200 1063241\n"
     ]
    },
    {
     "name": "stdout",
     "output_type": "stream",
     "text": [
      "nvme_drive/scraped_files/20220821-003129-reddit/imgur/imgur_OWBdbup_tiny butts.mp4\n"
     ]
    },
    {
     "name": "stderr",
     "output_type": "stream",
     "text": [
      "[852/997] https://www.redgifs.com/watch/discretefilthyamericanalligator\n",
      "[gallery-dl][debug] Starting DownloadJob for 'https://www.redgifs.com/watch/discretefilthyamericanalligator'\n",
      "[redgifs][debug] Using RedgifsImageExtractor for 'https://www.redgifs.com/watch/discretefilthyamericanalligator'\n",
      "[urllib3.connectionpool][debug] https://api.redgifs.com:443 \"GET /v2/gifs/discretefilthyamericanalligator HTTP/1.1\" 200 None\n",
      "[urllib3.connectionpool][debug] https://thumbs2.redgifs.com:443 \"GET /DiscreteFilthyAmericanalligator.mp4 HTTP/1.1\" 200 37282312\n"
     ]
    },
    {
     "name": "stdout",
     "output_type": "stream",
     "text": [
      "nvme_drive/scraped_files/20220821-003129-reddit/redgifs/redgifs_discretefilthyamericanalligator.mp4\n",
      "nvme_drive/scraped_files/20220821-003129-reddit/reddit/tswmml38wei91.jpg\n"
     ]
    },
    {
     "name": "stderr",
     "output_type": "stream",
     "text": [
      "[853/997] https://i.redd.it/tswmml38wei91.jpg\n",
      "[gallery-dl][debug] Starting DownloadJob for 'https://i.redd.it/tswmml38wei91.jpg'\n",
      "[reddit][debug] Using RedditImageExtractor for 'https://i.redd.it/tswmml38wei91.jpg'\n",
      "[urllib3.connectionpool][debug] https://i.redd.it:443 \"GET /tswmml38wei91.jpg HTTP/1.1\" 200 267684\n",
      "[854/997] https://redgifs.com/watch/yearlyquickwittedvelvetworm\n",
      "[gallery-dl][debug] Starting DownloadJob for 'https://redgifs.com/watch/yearlyquickwittedvelvetworm'\n",
      "[redgifs][debug] Using RedgifsImageExtractor for 'https://redgifs.com/watch/yearlyquickwittedvelvetworm'\n",
      "[urllib3.connectionpool][debug] https://api.redgifs.com:443 \"GET /v2/gifs/yearlyquickwittedvelvetworm HTTP/1.1\" 200 None\n",
      "[urllib3.connectionpool][debug] https://thumbs2.redgifs.com:443 \"GET /YearlyQuickwittedVelvetworm.mp4 HTTP/1.1\" 200 21617373\n"
     ]
    },
    {
     "name": "stdout",
     "output_type": "stream",
     "text": [
      "nvme_drive/scraped_files/20220821-003129-reddit/redgifs/redgifs_yearlyquickwittedvelvetworm.mp4\n"
     ]
    },
    {
     "name": "stderr",
     "output_type": "stream",
     "text": [
      "[855/997] https://i.imgur.com/d9vGNO5.jpg\n",
      "[gallery-dl][debug] Starting DownloadJob for 'https://i.imgur.com/d9vGNO5.jpg'\n",
      "[imgur][debug] Using ImgurImageExtractor for 'https://i.imgur.com/d9vGNO5.jpg'\n",
      "[urllib3.connectionpool][debug] https://api.imgur.com:443 \"GET /post/v1/media/d9vGNO5?include=media%2Ctags%2Caccount HTTP/1.1\" 200 461\n",
      "[urllib3.connectionpool][debug] https://i.imgur.com:443 \"GET /d9vGNO5.jpg HTTP/1.1\" 200 2123989\n"
     ]
    },
    {
     "name": "stdout",
     "output_type": "stream",
     "text": [
      "nvme_drive/scraped_files/20220821-003129-reddit/imgur/imgur_d9vGNO5_Heidi & Emily.jpg\n"
     ]
    },
    {
     "name": "stderr",
     "output_type": "stream",
     "text": [
      "[856/997] https://i.imgur.com/PSQwCEG.jpg\n",
      "[gallery-dl][debug] Starting DownloadJob for 'https://i.imgur.com/PSQwCEG.jpg'\n",
      "[imgur][debug] Using ImgurImageExtractor for 'https://i.imgur.com/PSQwCEG.jpg'\n",
      "[urllib3.connectionpool][debug] https://api.imgur.com:443 \"GET /post/v1/media/PSQwCEG?include=media%2Ctags%2Caccount HTTP/1.1\" 200 456\n",
      "[urllib3.connectionpool][debug] https://i.imgur.com:443 \"GET /PSQwCEG.jpg HTTP/1.1\" 200 990163\n",
      "[857/997] https://i.imgur.com/SOsvaSF.jpg\n",
      "[gallery-dl][debug] Starting DownloadJob for 'https://i.imgur.com/SOsvaSF.jpg'\n",
      "[imgur][debug] Using ImgurImageExtractor for 'https://i.imgur.com/SOsvaSF.jpg'\n"
     ]
    },
    {
     "name": "stdout",
     "output_type": "stream",
     "text": [
      "nvme_drive/scraped_files/20220821-003129-reddit/imgur/imgur_PSQwCEG_Sara Jaymes.jpg\n",
      "nvme_drive/scraped_files/20220821-003129-reddit/imgur/imgur_SOsvaSF_Xxlayna Marie.jpg\n"
     ]
    },
    {
     "name": "stderr",
     "output_type": "stream",
     "text": [
      "[urllib3.connectionpool][debug] https://api.imgur.com:443 \"GET /post/v1/media/SOsvaSF?include=media%2Ctags%2Caccount HTTP/1.1\" 200 471\n",
      "[urllib3.connectionpool][debug] https://i.imgur.com:443 \"GET /SOsvaSF.jpg HTTP/1.1\" 200 253967\n",
      "[858/997] https://redgifs.com/watch/tinygratefulcats\n",
      "[gallery-dl][debug] Starting DownloadJob for 'https://redgifs.com/watch/tinygratefulcats'\n",
      "[redgifs][debug] Using RedgifsImageExtractor for 'https://redgifs.com/watch/tinygratefulcats'\n",
      "[urllib3.connectionpool][debug] https://api.redgifs.com:443 \"GET /v2/gifs/tinygratefulcats HTTP/1.1\" 200 None\n",
      "[urllib3.connectionpool][debug] https://thumbs2.redgifs.com:443 \"GET /TinyGratefulCats.mp4 HTTP/1.1\" 200 6260891\n"
     ]
    },
    {
     "name": "stdout",
     "output_type": "stream",
     "text": [
      "nvme_drive/scraped_files/20220821-003129-reddit/redgifs/redgifs_tinygratefulcats.mp4\n"
     ]
    },
    {
     "name": "stderr",
     "output_type": "stream",
     "text": [
      "[859/997] https://i.imgur.com/fMNKFqp.jpg\n",
      "[gallery-dl][debug] Starting DownloadJob for 'https://i.imgur.com/fMNKFqp.jpg'\n",
      "[imgur][debug] Using ImgurImageExtractor for 'https://i.imgur.com/fMNKFqp.jpg'\n",
      "[urllib3.connectionpool][debug] https://api.imgur.com:443 \"GET /post/v1/media/fMNKFqp?include=media%2Ctags%2Caccount HTTP/1.1\" 200 460\n",
      "[urllib3.connectionpool][debug] https://i.imgur.com:443 \"GET /fMNKFqp.jpg HTTP/1.1\" 200 1302133\n"
     ]
    },
    {
     "name": "stdout",
     "output_type": "stream",
     "text": [
      "nvme_drive/scraped_files/20220821-003129-reddit/imgur/imgur_fMNKFqp_Agatha Vega.jpg\n"
     ]
    },
    {
     "name": "stderr",
     "output_type": "stream",
     "text": [
      "[860/997] https://www.redgifs.com/watch/shortvictoriousbluebottle\n",
      "[gallery-dl][debug] Starting DownloadJob for 'https://www.redgifs.com/watch/shortvictoriousbluebottle'\n",
      "[redgifs][debug] Using RedgifsImageExtractor for 'https://www.redgifs.com/watch/shortvictoriousbluebottle'\n",
      "[urllib3.connectionpool][debug] https://api.redgifs.com:443 \"GET /v2/gifs/shortvictoriousbluebottle HTTP/1.1\" 200 None\n",
      "[urllib3.connectionpool][debug] https://thumbs2.redgifs.com:443 \"GET /ShortVictoriousBluebottle.mp4 HTTP/1.1\" 200 17871393\n"
     ]
    },
    {
     "name": "stdout",
     "output_type": "stream",
     "text": [
      "nvme_drive/scraped_files/20220821-003129-reddit/redgifs/redgifs_shortvictoriousbluebottle.mp4\n",
      "nvme_drive/scraped_files/20220821-003129-reddit/imgur/imgur_buVjfB8_Anyone have the time.jpg\n"
     ]
    },
    {
     "name": "stderr",
     "output_type": "stream",
     "text": [
      "[861/997] https://i.imgur.com/buVjfB8.jpg\n",
      "[gallery-dl][debug] Starting DownloadJob for 'https://i.imgur.com/buVjfB8.jpg'\n",
      "[imgur][debug] Using ImgurImageExtractor for 'https://i.imgur.com/buVjfB8.jpg'\n",
      "[urllib3.connectionpool][debug] https://api.imgur.com:443 \"GET /post/v1/media/buVjfB8?include=media%2Ctags%2Caccount HTTP/1.1\" 200 470\n",
      "[urllib3.connectionpool][debug] https://i.imgur.com:443 \"GET /buVjfB8.jpg HTTP/1.1\" 200 209458\n",
      "[862/997] https://i.imgur.com/zzeQmPK.jpg\n",
      "[gallery-dl][debug] Starting DownloadJob for 'https://i.imgur.com/zzeQmPK.jpg'\n",
      "[imgur][debug] Using ImgurImageExtractor for 'https://i.imgur.com/zzeQmPK.jpg'\n",
      "[urllib3.connectionpool][debug] https://api.imgur.com:443 \"GET /post/v1/media/zzeQmPK?include=media%2Ctags%2Caccount HTTP/1.1\" 200 496\n",
      "[urllib3.connectionpool][debug] https://i.imgur.com:443 \"GET /zzeQmPK.jpg HTTP/1.1\" 200 646219\n",
      "[863/997] https://i.imgur.com/OWS34nL.jpg\n",
      "[gallery-dl][debug] Starting DownloadJob for 'https://i.imgur.com/OWS34nL.jpg'\n",
      "[imgur][debug] Using ImgurImageExtractor for 'https://i.imgur.com/OWS34nL.jpg'\n"
     ]
    },
    {
     "name": "stdout",
     "output_type": "stream",
     "text": [
      "nvme_drive/scraped_files/20220821-003129-reddit/imgur/imgur_zzeQmPK_Seated Outdoors.jpg\n"
     ]
    },
    {
     "name": "stderr",
     "output_type": "stream",
     "text": [
      "[urllib3.connectionpool][debug] https://api.imgur.com:443 \"GET /post/v1/media/OWS34nL?include=media%2Ctags%2Caccount HTTP/1.1\" 200 453\n",
      "[urllib3.connectionpool][debug] https://i.imgur.com:443 \"GET /OWS34nL.jpg HTTP/1.1\" 200 2652000\n"
     ]
    },
    {
     "name": "stdout",
     "output_type": "stream",
     "text": [
      "nvme_drive/scraped_files/20220821-003129-reddit/imgur/imgur_OWS34nL_Saskia.jpg\n",
      "nvme_drive/scraped_files/20220821-003129-reddit/imgur/imgur_ceXOuop_Hot brunette stripping.jpg\n"
     ]
    },
    {
     "name": "stderr",
     "output_type": "stream",
     "text": [
      "[864/997] https://i.imgur.com/ceXOuop.jpg\n",
      "[gallery-dl][debug] Starting DownloadJob for 'https://i.imgur.com/ceXOuop.jpg'\n",
      "[imgur][debug] Using ImgurImageExtractor for 'https://i.imgur.com/ceXOuop.jpg'\n",
      "[urllib3.connectionpool][debug] https://api.imgur.com:443 \"GET /post/v1/media/ceXOuop?include=media%2Ctags%2Caccount HTTP/1.1\" 200 454\n",
      "[urllib3.connectionpool][debug] https://i.imgur.com:443 \"GET /ceXOuop.jpg HTTP/1.1\" 200 60481\n",
      "[865/997] https://i.imgur.com/jtlVG9X.jpg\n",
      "[gallery-dl][debug] Starting DownloadJob for 'https://i.imgur.com/jtlVG9X.jpg'\n",
      "[imgur][debug] Using ImgurImageExtractor for 'https://i.imgur.com/jtlVG9X.jpg'\n",
      "[urllib3.connectionpool][debug] https://api.imgur.com:443 \"GET /post/v1/media/jtlVG9X?include=media%2Ctags%2Caccount HTTP/1.1\" 200 450\n",
      "[urllib3.connectionpool][debug] https://i.imgur.com:443 \"GET /jtlVG9X.jpg HTTP/1.1\" 200 270952\n",
      "[866/997] https://i.imgur.com/XUTlm6a.jpg\n",
      "[gallery-dl][debug] Starting DownloadJob for 'https://i.imgur.com/XUTlm6a.jpg'\n",
      "[imgur][debug] Using ImgurImageExtractor for 'https://i.imgur.com/XUTlm6a.jpg'\n",
      "[urllib3.connectionpool][debug] https://api.imgur.com:443 \"GET /post/v1/media/XUTlm6a?include=media%2Ctags%2Caccount HTTP/1.1\" 200 447\n",
      "[urllib3.connectionpool][debug] https://i.imgur.com:443 \"GET /XUTlm6a.jpg HTTP/1.1\" 200 266969\n"
     ]
    },
    {
     "name": "stdout",
     "output_type": "stream",
     "text": [
      "nvme_drive/scraped_files/20220821-003129-reddit/imgur/imgur_jtlVG9X_Work of art.jpg\n",
      "nvme_drive/scraped_files/20220821-003129-reddit/imgur/imgur_XUTlm6a_Beach brunette.jpg\n"
     ]
    },
    {
     "name": "stderr",
     "output_type": "stream",
     "text": [
      "[867/997] https://redgifs.com/watch/esteemedartisticovenbird\n",
      "[gallery-dl][debug] Starting DownloadJob for 'https://redgifs.com/watch/esteemedartisticovenbird'\n",
      "[redgifs][debug] Using RedgifsImageExtractor for 'https://redgifs.com/watch/esteemedartisticovenbird'\n",
      "[urllib3.connectionpool][debug] https://api.redgifs.com:443 \"GET /v2/gifs/esteemedartisticovenbird HTTP/1.1\" 200 None\n",
      "[urllib3.connectionpool][debug] https://thumbs2.redgifs.com:443 \"GET /EsteemedArtisticOvenbird.mp4 HTTP/1.1\" 200 32613473\n"
     ]
    },
    {
     "name": "stdout",
     "output_type": "stream",
     "text": [
      "nvme_drive/scraped_files/20220821-003129-reddit/redgifs/redgifs_esteemedartisticovenbird.mp4\n",
      "nvme_drive/scraped_files/20220821-003129-reddit/imgur/imgur_6FHXXRR_Christina Angel.jpg\n"
     ]
    },
    {
     "name": "stderr",
     "output_type": "stream",
     "text": [
      "[868/997] https://i.imgur.com/6FHXXRR.jpg\n",
      "[gallery-dl][debug] Starting DownloadJob for 'https://i.imgur.com/6FHXXRR.jpg'\n",
      "[imgur][debug] Using ImgurImageExtractor for 'https://i.imgur.com/6FHXXRR.jpg'\n",
      "[urllib3.connectionpool][debug] https://api.imgur.com:443 \"GET /post/v1/media/6FHXXRR?include=media%2Ctags%2Caccount HTTP/1.1\" 200 465\n",
      "[urllib3.connectionpool][debug] https://i.imgur.com:443 \"GET /6FHXXRR.jpg HTTP/1.1\" 200 92016\n",
      "[869/997] https://i.imgur.com/WwuyqyV.jpeg\n",
      "[gallery-dl][debug] Starting DownloadJob for 'https://i.imgur.com/WwuyqyV.jpeg'\n",
      "[imgur][debug] Using ImgurImageExtractor for 'https://i.imgur.com/WwuyqyV.jpeg'\n",
      "[urllib3.connectionpool][debug] https://api.imgur.com:443 \"GET /post/v1/media/WwuyqyV?include=media%2Ctags%2Caccount HTTP/1.1\" 200 446\n",
      "[urllib3.connectionpool][debug] https://i.imgur.com:443 \"GET /WwuyqyV.jpg HTTP/1.1\" 200 119108\n",
      "[870/997] https://www.redgifs.com/watch/fewacrobaticdartfrog\n",
      "[gallery-dl][debug] Starting DownloadJob for 'https://www.redgifs.com/watch/fewacrobaticdartfrog'\n",
      "[redgifs][debug] Using RedgifsImageExtractor for 'https://www.redgifs.com/watch/fewacrobaticdartfrog'\n",
      "[urllib3.connectionpool][debug] https://api.redgifs.com:443 \"GET /v2/gifs/fewacrobaticdartfrog HTTP/1.1\" 200 None\n",
      "[urllib3.connectionpool][debug] https://thumbs2.redgifs.com:443 \"GET /FewAcrobaticDartfrog.mp4 HTTP/1.1\" 200 3095556\n"
     ]
    },
    {
     "name": "stdout",
     "output_type": "stream",
     "text": [
      "nvme_drive/scraped_files/20220821-003129-reddit/imgur/imgur_WwuyqyV_Pool day.jpg\n",
      "nvme_drive/scraped_files/20220821-003129-reddit/redgifs/redgifs_fewacrobaticdartfrog.mp4\n"
     ]
    },
    {
     "name": "stderr",
     "output_type": "stream",
     "text": [
      "[871/997] https://i.imgur.com/GRUp3Ga.jpg\n",
      "[gallery-dl][debug] Starting DownloadJob for 'https://i.imgur.com/GRUp3Ga.jpg'\n",
      "[imgur][debug] Using ImgurImageExtractor for 'https://i.imgur.com/GRUp3Ga.jpg'\n",
      "[urllib3.connectionpool][debug] https://api.imgur.com:443 \"GET /post/v1/media/GRUp3Ga?include=media%2Ctags%2Caccount HTTP/1.1\" 200 507\n",
      "[urllib3.connectionpool][debug] https://i.imgur.com:443 \"GET /GRUp3Ga.jpg HTTP/1.1\" 200 618572\n",
      "[872/997] https://i.imgur.com/hc1vMnq.jpg\n",
      "[gallery-dl][debug] Starting DownloadJob for 'https://i.imgur.com/hc1vMnq.jpg'\n",
      "[imgur][debug] Using ImgurImageExtractor for 'https://i.imgur.com/hc1vMnq.jpg'\n"
     ]
    },
    {
     "name": "stdout",
     "output_type": "stream",
     "text": [
      "nvme_drive/scraped_files/20220821-003129-reddit/imgur/imgur_GRUp3Ga_Getting ready for the day.jpg\n",
      "nvme_drive/scraped_files/20220821-003129-reddit/imgur/imgur_hc1vMnq_Pretty big bed.jpg\n"
     ]
    },
    {
     "name": "stderr",
     "output_type": "stream",
     "text": [
      "[urllib3.connectionpool][debug] https://api.imgur.com:443 \"GET /post/v1/media/hc1vMnq?include=media%2Ctags%2Caccount HTTP/1.1\" 200 486\n",
      "[urllib3.connectionpool][debug] https://i.imgur.com:443 \"GET /hc1vMnq.jpg HTTP/1.1\" 200 273244\n",
      "[873/997] https://i.imgur.com/bllndOS.jpg\n",
      "[gallery-dl][debug] Starting DownloadJob for 'https://i.imgur.com/bllndOS.jpg'\n",
      "[imgur][debug] Using ImgurImageExtractor for 'https://i.imgur.com/bllndOS.jpg'\n",
      "[urllib3.connectionpool][debug] https://api.imgur.com:443 \"GET /post/v1/media/bllndOS?include=media%2Ctags%2Caccount HTTP/1.1\" 200 469\n",
      "[urllib3.connectionpool][debug] https://i.imgur.com:443 \"GET /bllndOS.jpg HTTP/1.1\" 200 2556460\n"
     ]
    },
    {
     "name": "stdout",
     "output_type": "stream",
     "text": [
      "nvme_drive/scraped_files/20220821-003129-reddit/imgur/imgur_bllndOS_Vika A. is so beautiful.jpg\n",
      "nvme_drive/scraped_files/20220821-003129-reddit/reddit/naefrli8w4e91.jpg\n"
     ]
    },
    {
     "name": "stderr",
     "output_type": "stream",
     "text": [
      "[874/997] https://i.redd.it/naefrli8w4e91.jpg\n",
      "[gallery-dl][debug] Starting DownloadJob for 'https://i.redd.it/naefrli8w4e91.jpg'\n",
      "[reddit][debug] Using RedditImageExtractor for 'https://i.redd.it/naefrli8w4e91.jpg'\n",
      "[urllib3.connectionpool][debug] https://i.redd.it:443 \"GET /naefrli8w4e91.jpg HTTP/1.1\" 200 77279\n",
      "[875/997] https://i.imgur.com/fOOHuGP.jpg\n",
      "[gallery-dl][debug] Starting DownloadJob for 'https://i.imgur.com/fOOHuGP.jpg'\n",
      "[imgur][debug] Using ImgurImageExtractor for 'https://i.imgur.com/fOOHuGP.jpg'\n",
      "[urllib3.connectionpool][debug] https://api.imgur.com:443 \"GET /post/v1/media/fOOHuGP?include=media%2Ctags%2Caccount HTTP/1.1\" 200 461\n",
      "[urllib3.connectionpool][debug] https://i.imgur.com:443 \"GET /fOOHuGP.jpg HTTP/1.1\" 200 648270\n"
     ]
    },
    {
     "name": "stdout",
     "output_type": "stream",
     "text": [
      "nvme_drive/scraped_files/20220821-003129-reddit/imgur/imgur_fOOHuGP_One hell of a gambit.jpg\n",
      "nvme_drive/scraped_files/20220821-003129-reddit/reddit/jfg5ghppyjh91.jpg\n"
     ]
    },
    {
     "name": "stderr",
     "output_type": "stream",
     "text": [
      "[876/997] https://i.redd.it/jfg5ghppyjh91.jpg\n",
      "[gallery-dl][debug] Starting DownloadJob for 'https://i.redd.it/jfg5ghppyjh91.jpg'\n",
      "[reddit][debug] Using RedditImageExtractor for 'https://i.redd.it/jfg5ghppyjh91.jpg'\n",
      "[urllib3.connectionpool][debug] https://i.redd.it:443 \"GET /jfg5ghppyjh91.jpg HTTP/1.1\" 200 764845\n",
      "[877/997] https://i.imgur.com/u7RgH72.jpeg\n",
      "[gallery-dl][debug] Starting DownloadJob for 'https://i.imgur.com/u7RgH72.jpeg'\n",
      "[imgur][debug] Using ImgurImageExtractor for 'https://i.imgur.com/u7RgH72.jpeg'\n",
      "[urllib3.connectionpool][debug] https://api.imgur.com:443 \"GET /post/v1/media/u7RgH72?include=media%2Ctags%2Caccount HTTP/1.1\" 200 451\n",
      "[urllib3.connectionpool][debug] https://i.imgur.com:443 \"GET /u7RgH72.jpg HTTP/1.1\" 200 112833\n",
      "[878/997] https://i.imgur.com/HjGd9G5.jpg\n",
      "[gallery-dl][debug] Starting DownloadJob for 'https://i.imgur.com/HjGd9G5.jpg'\n",
      "[imgur][debug] Using ImgurImageExtractor for 'https://i.imgur.com/HjGd9G5.jpg'\n",
      "[urllib3.connectionpool][debug] https://api.imgur.com:443 \"GET /post/v1/media/HjGd9G5?include=media%2Ctags%2Caccount HTTP/1.1\" 200 449\n",
      "[urllib3.connectionpool][debug] https://i.imgur.com:443 \"GET /HjGd9G5.jpg HTTP/1.1\" 200 73112\n",
      "[879/997] https://redgifs.com/watch/coolsecondhandthrip\n",
      "[gallery-dl][debug] Starting DownloadJob for 'https://redgifs.com/watch/coolsecondhandthrip'\n",
      "[redgifs][debug] Using RedgifsImageExtractor for 'https://redgifs.com/watch/coolsecondhandthrip'\n"
     ]
    },
    {
     "name": "stdout",
     "output_type": "stream",
     "text": [
      "nvme_drive/scraped_files/20220821-003129-reddit/imgur/imgur_u7RgH72_Allison Tyler.jpg\n",
      "nvme_drive/scraped_files/20220821-003129-reddit/imgur/imgur_HjGd9G5_Noemi K.jpg\n"
     ]
    },
    {
     "name": "stderr",
     "output_type": "stream",
     "text": [
      "[urllib3.connectionpool][debug] https://api.redgifs.com:443 \"GET /v2/gifs/coolsecondhandthrip HTTP/1.1\" 200 None\n",
      "[urllib3.connectionpool][debug] https://thumbs2.redgifs.com:443 \"GET /CoolSecondhandThrip.mp4 HTTP/1.1\" 200 45247427\n"
     ]
    },
    {
     "name": "stdout",
     "output_type": "stream",
     "text": [
      "nvme_drive/scraped_files/20220821-003129-reddit/redgifs/redgifs_coolsecondhandthrip.mp4\n"
     ]
    },
    {
     "name": "stderr",
     "output_type": "stream",
     "text": [
      "[880/997] https://i.imgur.com/ms2quSG.jpg\n",
      "[gallery-dl][debug] Starting DownloadJob for 'https://i.imgur.com/ms2quSG.jpg'\n",
      "[imgur][debug] Using ImgurImageExtractor for 'https://i.imgur.com/ms2quSG.jpg'\n",
      "[urllib3.connectionpool][debug] https://api.imgur.com:443 \"GET /post/v1/media/ms2quSG?include=media%2Ctags%2Caccount HTTP/1.1\" 200 459\n",
      "[urllib3.connectionpool][debug] https://i.imgur.com:443 \"GET /ms2quSG.jpg HTTP/1.1\" 200 1157297\n"
     ]
    },
    {
     "name": "stdout",
     "output_type": "stream",
     "text": [
      "nvme_drive/scraped_files/20220821-003129-reddit/imgur/imgur_ms2quSG_Shannon.jpg\n",
      "nvme_drive/scraped_files/20220821-003129-reddit/reddit/wfaeej4kq3i91.jpg\n"
     ]
    },
    {
     "name": "stderr",
     "output_type": "stream",
     "text": [
      "[881/997] https://i.redd.it/wfaeej4kq3i91.jpg\n",
      "[gallery-dl][debug] Starting DownloadJob for 'https://i.redd.it/wfaeej4kq3i91.jpg'\n",
      "[reddit][debug] Using RedditImageExtractor for 'https://i.redd.it/wfaeej4kq3i91.jpg'\n",
      "[urllib3.connectionpool][debug] https://i.redd.it:443 \"GET /wfaeej4kq3i91.jpg HTTP/1.1\" 200 768493\n",
      "[882/997] https://i.imgur.com/oQJr7G1.gifv\n",
      "[gallery-dl][debug] Starting DownloadJob for 'https://i.imgur.com/oQJr7G1.gifv'\n",
      "[imgur][debug] Using ImgurImageExtractor for 'https://i.imgur.com/oQJr7G1.gifv'\n",
      "[urllib3.connectionpool][debug] https://api.imgur.com:443 \"GET /post/v1/media/oQJr7G1?include=media%2Ctags%2Caccount HTTP/1.1\" 200 464\n",
      "[urllib3.connectionpool][debug] https://i.imgur.com:443 \"GET /oQJr7G1.mp4 HTTP/1.1\" 200 6868298\n"
     ]
    },
    {
     "name": "stdout",
     "output_type": "stream",
     "text": [
      "nvme_drive/scraped_files/20220821-003129-reddit/imgur/imgur_oQJr7G1_a room with a view.mp4\n"
     ]
    },
    {
     "name": "stderr",
     "output_type": "stream",
     "text": [
      "[883/997] https://i.imgur.com/Qc749zh.png\n",
      "[gallery-dl][debug] Starting DownloadJob for 'https://i.imgur.com/Qc749zh.png'\n",
      "[imgur][debug] Using ImgurImageExtractor for 'https://i.imgur.com/Qc749zh.png'\n",
      "[urllib3.connectionpool][debug] https://api.imgur.com:443 \"GET /post/v1/media/Qc749zh?include=media%2Ctags%2Caccount HTTP/1.1\" 200 525\n",
      "[urllib3.connectionpool][debug] https://i.imgur.com:443 \"GET /Qc749zh.png HTTP/1.1\" 200 4412577\n"
     ]
    },
    {
     "name": "stdout",
     "output_type": "stream",
     "text": [
      "nvme_drive/scraped_files/20220821-003129-reddit/imgur/imgur_Qc749zh_It doesn't even feel like an Exaggeration to say Gabbie carter is one of the most beautiful people on the planet..png\n"
     ]
    },
    {
     "name": "stderr",
     "output_type": "stream",
     "text": [
      "[884/997] https://www.redgifs.com/watch/responsiblevivaciousarcticduck\n",
      "[gallery-dl][debug] Starting DownloadJob for 'https://www.redgifs.com/watch/responsiblevivaciousarcticduck'\n",
      "[redgifs][debug] Using RedgifsImageExtractor for 'https://www.redgifs.com/watch/responsiblevivaciousarcticduck'\n",
      "[urllib3.connectionpool][debug] https://api.redgifs.com:443 \"GET /v2/gifs/responsiblevivaciousarcticduck HTTP/1.1\" 200 None\n",
      "[urllib3.connectionpool][debug] https://thumbs2.redgifs.com:443 \"GET /ResponsibleVivaciousArcticduck.mp4 HTTP/1.1\" 200 10525100\n"
     ]
    },
    {
     "name": "stdout",
     "output_type": "stream",
     "text": [
      "nvme_drive/scraped_files/20220821-003129-reddit/redgifs/redgifs_responsiblevivaciousarcticduck.mp4\n"
     ]
    },
    {
     "name": "stderr",
     "output_type": "stream",
     "text": [
      "[885/997] https://www.redgifs.com/watch/graydarkturquoiseyellowthroat\n",
      "[gallery-dl][debug] Starting DownloadJob for 'https://www.redgifs.com/watch/graydarkturquoiseyellowthroat'\n",
      "[redgifs][debug] Using RedgifsImageExtractor for 'https://www.redgifs.com/watch/graydarkturquoiseyellowthroat'\n",
      "[urllib3.connectionpool][debug] https://api.redgifs.com:443 \"GET /v2/gifs/graydarkturquoiseyellowthroat HTTP/1.1\" 200 None\n",
      "[urllib3.connectionpool][debug] https://thumbs2.redgifs.com:443 \"GET /GrayDarkturquoiseYellowthroat.mp4 HTTP/1.1\" 200 35889622\n"
     ]
    },
    {
     "name": "stdout",
     "output_type": "stream",
     "text": [
      "nvme_drive/scraped_files/20220821-003129-reddit/redgifs/redgifs_graydarkturquoiseyellowthroat.mp4\n",
      "nvme_drive/scraped_files/20220821-003129-reddit/imgur/imgur_AvudUx5_Onoff.jpg\n"
     ]
    },
    {
     "name": "stderr",
     "output_type": "stream",
     "text": [
      "[886/997] https://i.imgur.com/AvudUx5.jpg\n",
      "[gallery-dl][debug] Starting DownloadJob for 'https://i.imgur.com/AvudUx5.jpg'\n",
      "[imgur][debug] Using ImgurImageExtractor for 'https://i.imgur.com/AvudUx5.jpg'\n",
      "[urllib3.connectionpool][debug] https://api.imgur.com:443 \"GET /post/v1/media/AvudUx5?include=media%2Ctags%2Caccount HTTP/1.1\" 200 457\n",
      "[urllib3.connectionpool][debug] https://i.imgur.com:443 \"GET /AvudUx5.jpg HTTP/1.1\" 200 179608\n",
      "[887/997] https://i.redd.it/h1hddodx4qh91.jpg\n",
      "[gallery-dl][debug] Starting DownloadJob for 'https://i.redd.it/h1hddodx4qh91.jpg'\n",
      "[reddit][debug] Using RedditImageExtractor for 'https://i.redd.it/h1hddodx4qh91.jpg'\n",
      "[urllib3.connectionpool][debug] https://i.redd.it:443 \"GET /h1hddodx4qh91.jpg HTTP/1.1\" 200 322407\n"
     ]
    },
    {
     "name": "stdout",
     "output_type": "stream",
     "text": [
      "nvme_drive/scraped_files/20220821-003129-reddit/reddit/h1hddodx4qh91.jpg\n",
      "nvme_drive/scraped_files/20220821-003129-reddit/reddit/mj192vwlpfh91.jpg\n"
     ]
    },
    {
     "name": "stderr",
     "output_type": "stream",
     "text": [
      "[888/997] https://i.redd.it/mj192vwlpfh91.jpg\n",
      "[gallery-dl][debug] Starting DownloadJob for 'https://i.redd.it/mj192vwlpfh91.jpg'\n",
      "[reddit][debug] Using RedditImageExtractor for 'https://i.redd.it/mj192vwlpfh91.jpg'\n",
      "[urllib3.connectionpool][debug] https://i.redd.it:443 \"GET /mj192vwlpfh91.jpg HTTP/1.1\" 200 68964\n",
      "[889/997] https://www.redgifs.com/watch/wellgroomedheartyterrapin\n",
      "[gallery-dl][debug] Starting DownloadJob for 'https://www.redgifs.com/watch/wellgroomedheartyterrapin'\n",
      "[redgifs][debug] Using RedgifsImageExtractor for 'https://www.redgifs.com/watch/wellgroomedheartyterrapin'\n",
      "[urllib3.connectionpool][debug] https://api.redgifs.com:443 \"GET /v2/gifs/wellgroomedheartyterrapin HTTP/1.1\" 200 None\n",
      "[urllib3.connectionpool][debug] https://thumbs2.redgifs.com:443 \"GET /WellgroomedHeartyTerrapin.mp4 HTTP/1.1\" 200 51214724\n"
     ]
    },
    {
     "name": "stdout",
     "output_type": "stream",
     "text": [
      "nvme_drive/scraped_files/20220821-003129-reddit/redgifs/redgifs_wellgroomedheartyterrapin.mp4\n",
      "nvme_drive/scraped_files/20220821-003129-reddit/imgur/imgur_0kxOrJG_Shower.jpg\n"
     ]
    },
    {
     "name": "stderr",
     "output_type": "stream",
     "text": [
      "[890/997] https://i.imgur.com/0kxOrJG.jpg\n",
      "[gallery-dl][debug] Starting DownloadJob for 'https://i.imgur.com/0kxOrJG.jpg'\n",
      "[imgur][debug] Using ImgurImageExtractor for 'https://i.imgur.com/0kxOrJG.jpg'\n",
      "[urllib3.connectionpool][debug] https://api.imgur.com:443 \"GET /post/v1/media/0kxOrJG?include=media%2Ctags%2Caccount HTTP/1.1\" 200 474\n",
      "[urllib3.connectionpool][debug] https://i.imgur.com:443 \"GET /0kxOrJG.jpg HTTP/1.1\" 200 228621\n",
      "[891/997] https://www.redgifs.com/watch/lightyellowquixoticinvisiblerail\n",
      "[gallery-dl][debug] Starting DownloadJob for 'https://www.redgifs.com/watch/lightyellowquixoticinvisiblerail'\n",
      "[redgifs][debug] Using RedgifsImageExtractor for 'https://www.redgifs.com/watch/lightyellowquixoticinvisiblerail'\n",
      "[urllib3.connectionpool][debug] https://api.redgifs.com:443 \"GET /v2/gifs/lightyellowquixoticinvisiblerail HTTP/1.1\" 200 None\n",
      "[urllib3.connectionpool][debug] https://thumbs2.redgifs.com:443 \"GET /LightyellowQuixoticInvisiblerail.mp4 HTTP/1.1\" 200 26040171\n"
     ]
    },
    {
     "name": "stdout",
     "output_type": "stream",
     "text": [
      "nvme_drive/scraped_files/20220821-003129-reddit/redgifs/redgifs_lightyellowquixoticinvisiblerail.mp4\n"
     ]
    },
    {
     "name": "stderr",
     "output_type": "stream",
     "text": [
      "[892/997] https://www.redgifs.com/watch/urbanunsightlykitfox\n",
      "[gallery-dl][debug] Starting DownloadJob for 'https://www.redgifs.com/watch/urbanunsightlykitfox'\n",
      "[redgifs][debug] Using RedgifsImageExtractor for 'https://www.redgifs.com/watch/urbanunsightlykitfox'\n",
      "[urllib3.connectionpool][debug] https://api.redgifs.com:443 \"GET /v2/gifs/urbanunsightlykitfox HTTP/1.1\" 200 None\n",
      "[urllib3.connectionpool][debug] https://thumbs2.redgifs.com:443 \"GET /UrbanUnsightlyKitfox.mp4 HTTP/1.1\" 200 53648402\n"
     ]
    },
    {
     "name": "stdout",
     "output_type": "stream",
     "text": [
      "nvme_drive/scraped_files/20220821-003129-reddit/redgifs/redgifs_urbanunsightlykitfox.mp4\n"
     ]
    },
    {
     "name": "stderr",
     "output_type": "stream",
     "text": [
      "[893/997] https://i.imgur.com/Qr0FsV5.jpg\n",
      "[gallery-dl][debug] Starting DownloadJob for 'https://i.imgur.com/Qr0FsV5.jpg'\n",
      "[imgur][debug] Using ImgurImageExtractor for 'https://i.imgur.com/Qr0FsV5.jpg'\n",
      "[urllib3.connectionpool][debug] https://api.imgur.com:443 \"GET /post/v1/media/Qr0FsV5?include=media%2Ctags%2Caccount HTTP/1.1\" 200 530\n",
      "[urllib3.connectionpool][debug] https://i.imgur.com:443 \"GET /Qr0FsV5.jpg HTTP/1.1\" 200 2932441\n"
     ]
    },
    {
     "name": "stdout",
     "output_type": "stream",
     "text": [
      "nvme_drive/scraped_files/20220821-003129-reddit/imgur/imgur_Qr0FsV5_Love her tits - like succulent low-hanging fruit just waiting to be inhaled.jpg\n",
      "nvme_drive/scraped_files/20220821-003129-reddit/imgur/imgur_uSU4TpI_Galina T.jpg\n"
     ]
    },
    {
     "name": "stderr",
     "output_type": "stream",
     "text": [
      "[894/997] https://i.imgur.com/uSU4TpI.jpg\n",
      "[gallery-dl][debug] Starting DownloadJob for 'https://i.imgur.com/uSU4TpI.jpg'\n",
      "[imgur][debug] Using ImgurImageExtractor for 'https://i.imgur.com/uSU4TpI.jpg'\n",
      "[urllib3.connectionpool][debug] https://api.imgur.com:443 \"GET /post/v1/media/uSU4TpI?include=media%2Ctags%2Caccount HTTP/1.1\" 200 448\n",
      "[urllib3.connectionpool][debug] https://i.imgur.com:443 \"GET /uSU4TpI.jpg HTTP/1.1\" 200 206417\n",
      "[895/997] https://www.redgifs.com/watch/heavenlyjauntypoodle\n",
      "[gallery-dl][debug] Starting DownloadJob for 'https://www.redgifs.com/watch/heavenlyjauntypoodle'\n",
      "[redgifs][debug] Using RedgifsImageExtractor for 'https://www.redgifs.com/watch/heavenlyjauntypoodle'\n",
      "[urllib3.connectionpool][debug] https://api.redgifs.com:443 \"GET /v2/gifs/heavenlyjauntypoodle HTTP/1.1\" 200 None\n",
      "[urllib3.connectionpool][debug] https://thumbs2.redgifs.com:443 \"GET /HeavenlyJauntyPoodle.mp4 HTTP/1.1\" 200 4576664\n"
     ]
    },
    {
     "name": "stdout",
     "output_type": "stream",
     "text": [
      "nvme_drive/scraped_files/20220821-003129-reddit/redgifs/redgifs_heavenlyjauntypoodle.mp4\n"
     ]
    },
    {
     "name": "stderr",
     "output_type": "stream",
     "text": [
      "[896/997] https://www.redgifs.com/watch/viciouspartialnautilus\n",
      "[gallery-dl][debug] Starting DownloadJob for 'https://www.redgifs.com/watch/viciouspartialnautilus'\n",
      "[redgifs][debug] Using RedgifsImageExtractor for 'https://www.redgifs.com/watch/viciouspartialnautilus'\n",
      "[urllib3.connectionpool][debug] https://api.redgifs.com:443 \"GET /v2/gifs/viciouspartialnautilus HTTP/1.1\" 200 None\n",
      "[urllib3.connectionpool][debug] https://thumbs2.redgifs.com:443 \"GET /ViciousPartialNautilus.mp4 HTTP/1.1\" 200 1464753\n"
     ]
    },
    {
     "name": "stdout",
     "output_type": "stream",
     "text": [
      "nvme_drive/scraped_files/20220821-003129-reddit/redgifs/redgifs_viciouspartialnautilus.mp4\n"
     ]
    },
    {
     "name": "stderr",
     "output_type": "stream",
     "text": [
      "[897/997] https://i.imgur.com/tOcmm9q.jpg\n",
      "[gallery-dl][debug] Starting DownloadJob for 'https://i.imgur.com/tOcmm9q.jpg'\n",
      "[imgur][debug] Using ImgurImageExtractor for 'https://i.imgur.com/tOcmm9q.jpg'\n",
      "[urllib3.connectionpool][debug] https://api.imgur.com:443 \"GET /post/v1/media/tOcmm9q?include=media%2Ctags%2Caccount HTTP/1.1\" 200 449\n",
      "[urllib3.connectionpool][debug] https://i.imgur.com:443 \"GET /tOcmm9q.jpg HTTP/1.1\" 200 2534019\n"
     ]
    },
    {
     "name": "stdout",
     "output_type": "stream",
     "text": [
      "nvme_drive/scraped_files/20220821-003129-reddit/imgur/imgur_tOcmm9q_Kayla.jpg\n"
     ]
    },
    {
     "name": "stderr",
     "output_type": "stream",
     "text": [
      "[898/997] https://i.imgur.com/sTS0rmF.jpg\n",
      "[gallery-dl][debug] Starting DownloadJob for 'https://i.imgur.com/sTS0rmF.jpg'\n",
      "[imgur][debug] Using ImgurImageExtractor for 'https://i.imgur.com/sTS0rmF.jpg'\n",
      "[urllib3.connectionpool][debug] https://api.imgur.com:443 \"GET /post/v1/media/sTS0rmF?include=media%2Ctags%2Caccount HTTP/1.1\" 200 459\n",
      "[urllib3.connectionpool][debug] https://i.imgur.com:443 \"GET /sTS0rmF.jpg HTTP/1.1\" 200 1780290\n"
     ]
    },
    {
     "name": "stdout",
     "output_type": "stream",
     "text": [
      "nvme_drive/scraped_files/20220821-003129-reddit/imgur/imgur_sTS0rmF_Viktoriia Aliko.jpg\n",
      "nvme_drive/scraped_files/20220821-003129-reddit/imgur/imgur_6W8mmFk_Petite full length ginger.jpg\n"
     ]
    },
    {
     "name": "stderr",
     "output_type": "stream",
     "text": [
      "[899/997] https://i.imgur.com/6W8mmFk.jpg\n",
      "[gallery-dl][debug] Starting DownloadJob for 'https://i.imgur.com/6W8mmFk.jpg'\n",
      "[imgur][debug] Using ImgurImageExtractor for 'https://i.imgur.com/6W8mmFk.jpg'\n",
      "[urllib3.connectionpool][debug] https://api.imgur.com:443 \"GET /post/v1/media/6W8mmFk?include=media%2Ctags%2Caccount HTTP/1.1\" 200 462\n",
      "[urllib3.connectionpool][debug] https://i.imgur.com:443 \"GET /6W8mmFk.jpg HTTP/1.1\" 200 529248\n",
      "[900/997] https://i.imgur.com/0PjUDyL.jpg\n",
      "[gallery-dl][debug] Starting DownloadJob for 'https://i.imgur.com/0PjUDyL.jpg'\n",
      "[imgur][debug] Using ImgurImageExtractor for 'https://i.imgur.com/0PjUDyL.jpg'\n",
      "[urllib3.connectionpool][debug] https://api.imgur.com:443 \"GET /post/v1/media/0PjUDyL?include=media%2Ctags%2Caccount HTTP/1.1\" 200 479\n",
      "[urllib3.connectionpool][debug] https://i.imgur.com:443 \"GET /0PjUDyL.jpg HTTP/1.1\" 200 236548\n",
      "[901/997] https://www.redgifs.com/watch/adoredimpossiblesphinx\n",
      "[gallery-dl][debug] Starting DownloadJob for 'https://www.redgifs.com/watch/adoredimpossiblesphinx'\n",
      "[redgifs][debug] Using RedgifsImageExtractor for 'https://www.redgifs.com/watch/adoredimpossiblesphinx'\n",
      "[urllib3.connectionpool][debug] https://api.redgifs.com:443 \"GET /v2/gifs/adoredimpossiblesphinx HTTP/1.1\" 200 None\n"
     ]
    },
    {
     "name": "stdout",
     "output_type": "stream",
     "text": [
      "nvme_drive/scraped_files/20220821-003129-reddit/imgur/imgur_0PjUDyL_Important to cover up in the sun.jpg\n"
     ]
    },
    {
     "name": "stderr",
     "output_type": "stream",
     "text": [
      "[urllib3.connectionpool][debug] https://thumbs2.redgifs.com:443 \"GET /AdoredImpossibleSphinx.mp4 HTTP/1.1\" 200 14916223\n"
     ]
    },
    {
     "name": "stdout",
     "output_type": "stream",
     "text": [
      "nvme_drive/scraped_files/20220821-003129-reddit/redgifs/redgifs_adoredimpossiblesphinx.mp4\n"
     ]
    },
    {
     "name": "stderr",
     "output_type": "stream",
     "text": [
      "[902/997] https://www.redgifs.com/watch/farawayextrovertedacaciarat\n",
      "[gallery-dl][debug] Starting DownloadJob for 'https://www.redgifs.com/watch/farawayextrovertedacaciarat'\n",
      "[redgifs][debug] Using RedgifsImageExtractor for 'https://www.redgifs.com/watch/farawayextrovertedacaciarat'\n",
      "[urllib3.connectionpool][debug] https://api.redgifs.com:443 \"GET /v2/gifs/farawayextrovertedacaciarat HTTP/1.1\" 200 None\n",
      "[urllib3.connectionpool][debug] https://thumbs2.redgifs.com:443 \"GET /FarawayExtrovertedAcaciarat.mp4 HTTP/1.1\" 200 23658227\n"
     ]
    },
    {
     "name": "stdout",
     "output_type": "stream",
     "text": [
      "nvme_drive/scraped_files/20220821-003129-reddit/redgifs/redgifs_farawayextrovertedacaciarat.mp4\n",
      "nvme_drive/scraped_files/20220821-003129-reddit/imgur/imgur_fdNb1Bq_Avery Nona.jpg\n"
     ]
    },
    {
     "name": "stderr",
     "output_type": "stream",
     "text": [
      "[903/997] https://i.imgur.com/fdNb1Bq.jpg\n",
      "[gallery-dl][debug] Starting DownloadJob for 'https://i.imgur.com/fdNb1Bq.jpg'\n",
      "[imgur][debug] Using ImgurImageExtractor for 'https://i.imgur.com/fdNb1Bq.jpg'\n",
      "[urllib3.connectionpool][debug] https://api.imgur.com:443 \"GET /post/v1/media/fdNb1Bq?include=media%2Ctags%2Caccount HTTP/1.1\" 200 451\n",
      "[urllib3.connectionpool][debug] https://i.imgur.com:443 \"GET /fdNb1Bq.jpg HTTP/1.1\" 200 224063\n",
      "[904/997] https://www.redgifs.com/watch/courageoushungrybeardeddragon\n",
      "[gallery-dl][debug] Starting DownloadJob for 'https://www.redgifs.com/watch/courageoushungrybeardeddragon'\n",
      "[redgifs][debug] Using RedgifsImageExtractor for 'https://www.redgifs.com/watch/courageoushungrybeardeddragon'\n",
      "[urllib3.connectionpool][debug] https://api.redgifs.com:443 \"GET /v2/gifs/courageoushungrybeardeddragon HTTP/1.1\" 200 None\n",
      "[urllib3.connectionpool][debug] https://thumbs2.redgifs.com:443 \"GET /CourageousHungryBeardeddragon.mp4 HTTP/1.1\" 200 10267782\n"
     ]
    },
    {
     "name": "stdout",
     "output_type": "stream",
     "text": [
      "nvme_drive/scraped_files/20220821-003129-reddit/redgifs/redgifs_courageoushungrybeardeddragon.mp4\n"
     ]
    },
    {
     "name": "stderr",
     "output_type": "stream",
     "text": [
      "[905/997] https://i.imgur.com/Go3DuYg.png\n",
      "[gallery-dl][debug] Starting DownloadJob for 'https://i.imgur.com/Go3DuYg.png'\n",
      "[imgur][debug] Using ImgurImageExtractor for 'https://i.imgur.com/Go3DuYg.png'\n",
      "[urllib3.connectionpool][debug] https://api.imgur.com:443 \"GET /post/v1/media/Go3DuYg?include=media%2Ctags%2Caccount HTTP/1.1\" 200 452\n",
      "[urllib3.connectionpool][debug] https://i.imgur.com:443 \"GET /Go3DuYg.png HTTP/1.1\" 200 1065609\n"
     ]
    },
    {
     "name": "stdout",
     "output_type": "stream",
     "text": [
      "nvme_drive/scraped_files/20220821-003129-reddit/imgur/imgur_Go3DuYg_Hazel Moore.png\n"
     ]
    },
    {
     "name": "stderr",
     "output_type": "stream",
     "text": [
      "[906/997] https://i.imgur.com/yEJulRa.gifv\n",
      "[gallery-dl][debug] Starting DownloadJob for 'https://i.imgur.com/yEJulRa.gifv'\n",
      "[imgur][debug] Using ImgurImageExtractor for 'https://i.imgur.com/yEJulRa.gifv'\n",
      "[urllib3.connectionpool][debug] https://api.imgur.com:443 \"GET /post/v1/media/yEJulRa?include=media%2Ctags%2Caccount HTTP/1.1\" 200 489\n",
      "[urllib3.connectionpool][debug] https://i.imgur.com:443 \"GET /yEJulRa.mp4 HTTP/1.1\" 200 573707\n"
     ]
    },
    {
     "name": "stdout",
     "output_type": "stream",
     "text": [
      "nvme_drive/scraped_files/20220821-003129-reddit/imgur/imgur_yEJulRa_When better call Saul is on [gifv].mp4\n"
     ]
    },
    {
     "name": "stderr",
     "output_type": "stream",
     "text": [
      "[907/997] https://i.imgur.com/NzbIMbq.jpg\n",
      "[gallery-dl][debug] Starting DownloadJob for 'https://i.imgur.com/NzbIMbq.jpg'\n",
      "[imgur][debug] Using ImgurImageExtractor for 'https://i.imgur.com/NzbIMbq.jpg'\n",
      "[urllib3.connectionpool][debug] https://api.imgur.com:443 \"GET /post/v1/media/NzbIMbq?include=media%2Ctags%2Caccount HTTP/1.1\" 200 462\n",
      "[urllib3.connectionpool][debug] https://i.imgur.com:443 \"GET /NzbIMbq.jpg HTTP/1.1\" 200 1556559\n"
     ]
    },
    {
     "name": "stdout",
     "output_type": "stream",
     "text": [
      "nvme_drive/scraped_files/20220821-003129-reddit/imgur/imgur_NzbIMbq_Lisbet's Amazing Rear.jpg\n"
     ]
    },
    {
     "name": "stderr",
     "output_type": "stream",
     "text": [
      "[908/997] https://i.imgur.com/RXV4WhR.jpg\n",
      "[gallery-dl][debug] Starting DownloadJob for 'https://i.imgur.com/RXV4WhR.jpg'\n",
      "[imgur][debug] Using ImgurImageExtractor for 'https://i.imgur.com/RXV4WhR.jpg'\n",
      "[urllib3.connectionpool][debug] https://api.imgur.com:443 \"GET /post/v1/media/RXV4WhR?include=media%2Ctags%2Caccount HTTP/1.1\" 200 473\n",
      "[urllib3.connectionpool][debug] https://i.imgur.com:443 \"GET /RXV4WhR.jpg HTTP/1.1\" 200 2772280\n"
     ]
    },
    {
     "name": "stdout",
     "output_type": "stream",
     "text": [
      "nvme_drive/scraped_files/20220821-003129-reddit/imgur/imgur_RXV4WhR_Helga Lovekaty in pink.jpg\n"
     ]
    },
    {
     "name": "stderr",
     "output_type": "stream",
     "text": [
      "[909/997] https://i.imgur.com/wkSweGC.jpg\n",
      "[gallery-dl][debug] Starting DownloadJob for 'https://i.imgur.com/wkSweGC.jpg'\n",
      "[imgur][debug] Using ImgurImageExtractor for 'https://i.imgur.com/wkSweGC.jpg'\n",
      "[urllib3.connectionpool][debug] https://api.imgur.com:443 \"GET /post/v1/media/wkSweGC?include=media%2Ctags%2Caccount HTTP/1.1\" 200 487\n",
      "[urllib3.connectionpool][debug] https://i.imgur.com:443 \"GET /wkSweGC.jpg HTTP/1.1\" 200 758677\n"
     ]
    },
    {
     "name": "stdout",
     "output_type": "stream",
     "text": [
      "nvme_drive/scraped_files/20220821-003129-reddit/imgur/imgur_wkSweGC_big smile.jpg\n"
     ]
    },
    {
     "name": "stderr",
     "output_type": "stream",
     "text": [
      "[910/997] https://i.imgur.com/eZA9wJC.jpg\n",
      "[gallery-dl][debug] Starting DownloadJob for 'https://i.imgur.com/eZA9wJC.jpg'\n",
      "[imgur][debug] Using ImgurImageExtractor for 'https://i.imgur.com/eZA9wJC.jpg'\n",
      "[urllib3.connectionpool][debug] https://api.imgur.com:443 \"GET /post/v1/media/eZA9wJC?include=media%2Ctags%2Caccount HTTP/1.1\" 200 474\n",
      "[urllib3.connectionpool][debug] https://i.imgur.com:443 \"GET /eZA9wJC.jpg HTTP/1.1\" 200 405561\n",
      "[911/997] https://i.imgur.com/2DwyfaN.jpg\n",
      "[gallery-dl][debug] Starting DownloadJob for 'https://i.imgur.com/2DwyfaN.jpg'\n",
      "[imgur][debug] Using ImgurImageExtractor for 'https://i.imgur.com/2DwyfaN.jpg'\n",
      "[urllib3.connectionpool][debug] https://api.imgur.com:443 \"GET /post/v1/media/2DwyfaN?include=media%2Ctags%2Caccount HTTP/1.1\" 200 464\n",
      "[urllib3.connectionpool][debug] https://i.imgur.com:443 \"GET /2DwyfaN.jpg HTTP/1.1\" 200 111643\n"
     ]
    },
    {
     "name": "stdout",
     "output_type": "stream",
     "text": [
      "nvme_drive/scraped_files/20220821-003129-reddit/imgur/imgur_eZA9wJC_Turning Japanese.jpg\n",
      "nvme_drive/scraped_files/20220821-003129-reddit/imgur/imgur_2DwyfaN_Peeking through.jpg\n"
     ]
    },
    {
     "name": "stderr",
     "output_type": "stream",
     "text": [
      "[912/997] https://www.redgifs.com/watch/defiantneedytaruca\n",
      "[gallery-dl][debug] Starting DownloadJob for 'https://www.redgifs.com/watch/defiantneedytaruca'\n",
      "[redgifs][debug] Using RedgifsImageExtractor for 'https://www.redgifs.com/watch/defiantneedytaruca'\n",
      "[urllib3.connectionpool][debug] https://api.redgifs.com:443 \"GET /v2/gifs/defiantneedytaruca HTTP/1.1\" 200 None\n",
      "[urllib3.connectionpool][debug] https://thumbs2.redgifs.com:443 \"GET /DefiantNeedyTaruca.mp4 HTTP/1.1\" 200 20283373\n"
     ]
    },
    {
     "name": "stdout",
     "output_type": "stream",
     "text": [
      "nvme_drive/scraped_files/20220821-003129-reddit/redgifs/redgifs_defiantneedytaruca.mp4\n"
     ]
    },
    {
     "name": "stderr",
     "output_type": "stream",
     "text": [
      "[913/997] https://i.imgur.com/IWIw8iF.jpg\n",
      "[gallery-dl][debug] Starting DownloadJob for 'https://i.imgur.com/IWIw8iF.jpg'\n",
      "[imgur][debug] Using ImgurImageExtractor for 'https://i.imgur.com/IWIw8iF.jpg'\n",
      "[urllib3.connectionpool][debug] https://api.imgur.com:443 \"GET /post/v1/media/IWIw8iF?include=media%2Ctags%2Caccount HTTP/1.1\" 200 470\n",
      "[urllib3.connectionpool][debug] https://i.imgur.com:443 \"GET /IWIw8iF.jpg HTTP/1.1\" 200 781317\n"
     ]
    },
    {
     "name": "stdout",
     "output_type": "stream",
     "text": [
      "nvme_drive/scraped_files/20220821-003129-reddit/imgur/imgur_IWIw8iF_Green bench.jpg\n",
      "nvme_drive/scraped_files/20220821-003129-reddit/imgur/imgur_Qv77n2Y_LunaPic Edit.jpg\n"
     ]
    },
    {
     "name": "stderr",
     "output_type": "stream",
     "text": [
      "[914/997] https://i.imgur.com/Qv77n2Y.jpg\n",
      "[gallery-dl][debug] Starting DownloadJob for 'https://i.imgur.com/Qv77n2Y.jpg'\n",
      "[imgur][debug] Using ImgurImageExtractor for 'https://i.imgur.com/Qv77n2Y.jpg'\n",
      "[urllib3.connectionpool][debug] https://api.imgur.com:443 \"GET /post/v1/media/Qv77n2Y?include=media%2Ctags%2Caccount HTTP/1.1\" 200 492\n",
      "[urllib3.connectionpool][debug] https://i.imgur.com:443 \"GET /Qv77n2Y.jpg HTTP/1.1\" 200 238159\n",
      "[915/997] https://www.redgifs.com/watch/welldocumentedspicydaddylonglegs\n",
      "[gallery-dl][debug] Starting DownloadJob for 'https://www.redgifs.com/watch/welldocumentedspicydaddylonglegs'\n",
      "[redgifs][debug] Using RedgifsImageExtractor for 'https://www.redgifs.com/watch/welldocumentedspicydaddylonglegs'\n",
      "[urllib3.connectionpool][debug] https://api.redgifs.com:443 \"GET /v2/gifs/welldocumentedspicydaddylonglegs HTTP/1.1\" 200 None\n",
      "[urllib3.connectionpool][debug] https://thumbs2.redgifs.com:443 \"GET /WelldocumentedSpicyDaddylonglegs.mp4 HTTP/1.1\" 200 5556734\n"
     ]
    },
    {
     "name": "stdout",
     "output_type": "stream",
     "text": [
      "nvme_drive/scraped_files/20220821-003129-reddit/redgifs/redgifs_welldocumentedspicydaddylonglegs.mp4\n",
      "nvme_drive/scraped_files/20220821-003129-reddit/imgur/imgur_kASWxra_Anthea.jpg\n"
     ]
    },
    {
     "name": "stderr",
     "output_type": "stream",
     "text": [
      "[916/997] https://i.imgur.com/kASWxra.jpg\n",
      "[gallery-dl][debug] Starting DownloadJob for 'https://i.imgur.com/kASWxra.jpg'\n",
      "[imgur][debug] Using ImgurImageExtractor for 'https://i.imgur.com/kASWxra.jpg'\n",
      "[urllib3.connectionpool][debug] https://api.imgur.com:443 \"GET /post/v1/media/kASWxra?include=media%2Ctags%2Caccount HTTP/1.1\" 200 446\n",
      "[urllib3.connectionpool][debug] https://i.imgur.com:443 \"GET /kASWxra.jpg HTTP/1.1\" 200 398645\n",
      "[917/997] https://i.imgur.com/j0afzA3.jpg\n",
      "[gallery-dl][debug] Starting DownloadJob for 'https://i.imgur.com/j0afzA3.jpg'\n",
      "[imgur][debug] Using ImgurImageExtractor for 'https://i.imgur.com/j0afzA3.jpg'\n",
      "[urllib3.connectionpool][debug] https://api.imgur.com:443 \"GET /post/v1/media/j0afzA3?include=media%2Ctags%2Caccount HTTP/1.1\" 200 447\n",
      "[urllib3.connectionpool][debug] https://i.imgur.com:443 \"GET /j0afzA3.jpg HTTP/1.1\" 200 465592\n",
      "[918/997] https://i.imgur.com/sgYGj62.jpg\n",
      "[gallery-dl][debug] Starting DownloadJob for 'https://i.imgur.com/sgYGj62.jpg'\n",
      "[imgur][debug] Using ImgurImageExtractor for 'https://i.imgur.com/sgYGj62.jpg'\n"
     ]
    },
    {
     "name": "stdout",
     "output_type": "stream",
     "text": [
      "nvme_drive/scraped_files/20220821-003129-reddit/imgur/imgur_j0afzA3_Lady Dee.jpg\n",
      "nvme_drive/scraped_files/20220821-003129-reddit/imgur/imgur_sgYGj62_Well proportioned conference room nudie.jpg\n"
     ]
    },
    {
     "name": "stderr",
     "output_type": "stream",
     "text": [
      "[urllib3.connectionpool][debug] https://api.imgur.com:443 \"GET /post/v1/media/sgYGj62?include=media%2Ctags%2Caccount HTTP/1.1\" 200 514\n",
      "[urllib3.connectionpool][debug] https://i.imgur.com:443 \"GET /sgYGj62.jpg HTTP/1.1\" 200 123811\n",
      "[919/997] https://i.imgur.com/SQCuA41.jpg\n",
      "[gallery-dl][debug] Starting DownloadJob for 'https://i.imgur.com/SQCuA41.jpg'\n",
      "[imgur][debug] Using ImgurImageExtractor for 'https://i.imgur.com/SQCuA41.jpg'\n",
      "[urllib3.connectionpool][debug] https://api.imgur.com:443 \"GET /post/v1/media/SQCuA41?include=media%2Ctags%2Caccount HTTP/1.1\" 200 461\n",
      "[urllib3.connectionpool][debug] https://i.imgur.com:443 \"GET /SQCuA41.jpg HTTP/1.1\" 200 1967139\n"
     ]
    },
    {
     "name": "stdout",
     "output_type": "stream",
     "text": [
      "nvme_drive/scraped_files/20220821-003129-reddit/imgur/imgur_SQCuA41_Dorka.jpg\n",
      "nvme_drive/scraped_files/20220821-003129-reddit/reddit/hg0uu3i04be91.jpg\n"
     ]
    },
    {
     "name": "stderr",
     "output_type": "stream",
     "text": [
      "[920/997] https://i.redd.it/hg0uu3i04be91.jpg\n",
      "[gallery-dl][debug] Starting DownloadJob for 'https://i.redd.it/hg0uu3i04be91.jpg'\n",
      "[reddit][debug] Using RedditImageExtractor for 'https://i.redd.it/hg0uu3i04be91.jpg'\n",
      "[urllib3.connectionpool][debug] https://i.redd.it:443 \"GET /hg0uu3i04be91.jpg HTTP/1.1\" 200 292945\n",
      "[921/997] https://redgifs.com/watch/hurtfulthoughtfulowl\n",
      "[gallery-dl][debug] Starting DownloadJob for 'https://redgifs.com/watch/hurtfulthoughtfulowl'\n",
      "[redgifs][debug] Using RedgifsImageExtractor for 'https://redgifs.com/watch/hurtfulthoughtfulowl'\n",
      "[urllib3.connectionpool][debug] https://api.redgifs.com:443 \"GET /v2/gifs/hurtfulthoughtfulowl HTTP/1.1\" 200 None\n",
      "[urllib3.connectionpool][debug] https://thumbs2.redgifs.com:443 \"GET /HurtfulThoughtfulOwl.mp4 HTTP/1.1\" 200 31100157\n"
     ]
    },
    {
     "name": "stdout",
     "output_type": "stream",
     "text": [
      "nvme_drive/scraped_files/20220821-003129-reddit/redgifs/redgifs_hurtfulthoughtfulowl.mp4\n"
     ]
    },
    {
     "name": "stderr",
     "output_type": "stream",
     "text": [
      "[922/997] https://i.imgur.com/YUvnoHE.jpg\n",
      "[gallery-dl][debug] Starting DownloadJob for 'https://i.imgur.com/YUvnoHE.jpg'\n",
      "[imgur][debug] Using ImgurImageExtractor for 'https://i.imgur.com/YUvnoHE.jpg'\n",
      "[urllib3.connectionpool][debug] https://api.imgur.com:443 \"GET /post/v1/media/YUvnoHE?include=media%2Ctags%2Caccount HTTP/1.1\" 200 472\n",
      "[urllib3.connectionpool][debug] https://i.imgur.com:443 \"GET /YUvnoHE.jpg HTTP/1.1\" 200 601407\n"
     ]
    },
    {
     "name": "stdout",
     "output_type": "stream",
     "text": [
      "nvme_drive/scraped_files/20220821-003129-reddit/imgur/imgur_YUvnoHE_Up on the table.jpg\n"
     ]
    },
    {
     "name": "stderr",
     "output_type": "stream",
     "text": [
      "[923/997] https://i.imgur.com/5Yj8GZE.jpg\n",
      "[gallery-dl][debug] Starting DownloadJob for 'https://i.imgur.com/5Yj8GZE.jpg'\n",
      "[imgur][debug] Using ImgurImageExtractor for 'https://i.imgur.com/5Yj8GZE.jpg'\n",
      "[urllib3.connectionpool][debug] https://api.imgur.com:443 \"GET /post/v1/media/5Yj8GZE?include=media%2Ctags%2Caccount HTTP/1.1\" 200 461\n",
      "[urllib3.connectionpool][debug] https://i.imgur.com:443 \"GET /5Yj8GZE.jpg HTTP/1.1\" 200 1969475\n"
     ]
    },
    {
     "name": "stdout",
     "output_type": "stream",
     "text": [
      "nvme_drive/scraped_files/20220821-003129-reddit/imgur/imgur_5Yj8GZE_Katya Clover.jpg\n",
      "nvme_drive/scraped_files/20220821-003129-reddit/reddit/8iby2igx70t81.jpg\n"
     ]
    },
    {
     "name": "stderr",
     "output_type": "stream",
     "text": [
      "[924/997] https://i.redd.it/8iby2igx70t81.jpg\n",
      "[gallery-dl][debug] Starting DownloadJob for 'https://i.redd.it/8iby2igx70t81.jpg'\n",
      "[reddit][debug] Using RedditImageExtractor for 'https://i.redd.it/8iby2igx70t81.jpg'\n",
      "[urllib3.connectionpool][debug] https://i.redd.it:443 \"GET /8iby2igx70t81.jpg HTTP/1.1\" 200 79262\n",
      "[925/997] https://i.imgur.com/nGW2I5r.jpg\n",
      "[gallery-dl][debug] Starting DownloadJob for 'https://i.imgur.com/nGW2I5r.jpg'\n",
      "[imgur][debug] Using ImgurImageExtractor for 'https://i.imgur.com/nGW2I5r.jpg'\n",
      "[urllib3.connectionpool][debug] https://api.imgur.com:443 \"GET /post/v1/media/nGW2I5r?include=media%2Ctags%2Caccount HTTP/1.1\" 200 455\n",
      "[urllib3.connectionpool][debug] https://i.imgur.com:443 \"GET /nGW2I5r.jpg HTTP/1.1\" 200 180895\n"
     ]
    },
    {
     "name": "stdout",
     "output_type": "stream",
     "text": [
      "nvme_drive/scraped_files/20220821-003129-reddit/imgur/imgur_nGW2I5r_Alexandra Smelova.jpg\n"
     ]
    },
    {
     "name": "stderr",
     "output_type": "stream",
     "text": [
      "[926/997] https://www.redgifs.com/watch/incompleteediblebluebottlejellyfish\n",
      "[gallery-dl][debug] Starting DownloadJob for 'https://www.redgifs.com/watch/incompleteediblebluebottlejellyfish'\n",
      "[redgifs][debug] Using RedgifsImageExtractor for 'https://www.redgifs.com/watch/incompleteediblebluebottlejellyfish'\n",
      "[urllib3.connectionpool][debug] https://api.redgifs.com:443 \"GET /v2/gifs/incompleteediblebluebottlejellyfish HTTP/1.1\" 200 None\n",
      "[urllib3.connectionpool][debug] https://thumbs2.redgifs.com:443 \"GET /IncompleteEdibleBluebottlejellyfish.mp4 HTTP/1.1\" 200 30587068\n"
     ]
    },
    {
     "name": "stdout",
     "output_type": "stream",
     "text": [
      "nvme_drive/scraped_files/20220821-003129-reddit/redgifs/redgifs_incompleteediblebluebottlejellyfish.mp4\n"
     ]
    },
    {
     "name": "stderr",
     "output_type": "stream",
     "text": [
      "[927/997] https://www.redgifs.com/watch/jauntyaggressivelynx?rel=u%3Aburgerprince%3Bo%3Arecent\n",
      "[gallery-dl][debug] Starting DownloadJob for 'https://www.redgifs.com/watch/jauntyaggressivelynx?rel=u%3Aburgerprince%3Bo%3Arecent'\n",
      "[redgifs][debug] Using RedgifsImageExtractor for 'https://www.redgifs.com/watch/jauntyaggressivelynx?rel=u%3Aburgerprince%3Bo%3Arecent'\n",
      "[urllib3.connectionpool][debug] https://api.redgifs.com:443 \"GET /v2/gifs/jauntyaggressivelynx HTTP/1.1\" 200 None\n",
      "[urllib3.connectionpool][debug] https://thumbs2.redgifs.com:443 \"GET /JauntyAggressiveLynx.mp4 HTTP/1.1\" 200 35041441\n"
     ]
    },
    {
     "name": "stdout",
     "output_type": "stream",
     "text": [
      "nvme_drive/scraped_files/20220821-003129-reddit/redgifs/redgifs_jauntyaggressivelynx.mp4\n"
     ]
    },
    {
     "name": "stderr",
     "output_type": "stream",
     "text": [
      "[928/997] https://www.redgifs.com/watch/meanintrepidnightheron\n",
      "[gallery-dl][debug] Starting DownloadJob for 'https://www.redgifs.com/watch/meanintrepidnightheron'\n",
      "[redgifs][debug] Using RedgifsImageExtractor for 'https://www.redgifs.com/watch/meanintrepidnightheron'\n",
      "[urllib3.connectionpool][debug] https://api.redgifs.com:443 \"GET /v2/gifs/meanintrepidnightheron HTTP/1.1\" 200 None\n",
      "[urllib3.connectionpool][debug] https://thumbs2.redgifs.com:443 \"GET /MeanIntrepidNightheron.mp4 HTTP/1.1\" 200 37878676\n"
     ]
    },
    {
     "name": "stdout",
     "output_type": "stream",
     "text": [
      "nvme_drive/scraped_files/20220821-003129-reddit/redgifs/redgifs_meanintrepidnightheron.mp4\n",
      "nvme_drive/scraped_files/20220821-003129-reddit/reddit/ctzwi4o29n591.jpg\n"
     ]
    },
    {
     "name": "stderr",
     "output_type": "stream",
     "text": [
      "[929/997] https://i.redd.it/ctzwi4o29n591.jpg\n",
      "[gallery-dl][debug] Starting DownloadJob for 'https://i.redd.it/ctzwi4o29n591.jpg'\n",
      "[reddit][debug] Using RedditImageExtractor for 'https://i.redd.it/ctzwi4o29n591.jpg'\n",
      "[urllib3.connectionpool][debug] https://i.redd.it:443 \"GET /ctzwi4o29n591.jpg HTTP/1.1\" 200 466805\n",
      "[930/997] https://i.imgur.com/6eVhBzS.gifv\n",
      "[gallery-dl][debug] Starting DownloadJob for 'https://i.imgur.com/6eVhBzS.gifv'\n",
      "[imgur][debug] Using ImgurImageExtractor for 'https://i.imgur.com/6eVhBzS.gifv'\n",
      "[urllib3.connectionpool][debug] https://api.imgur.com:443 \"GET /post/v1/media/6eVhBzS?include=media%2Ctags%2Caccount HTTP/1.1\" 200 473\n",
      "[urllib3.connectionpool][debug] https://i.imgur.com:443 \"GET /6eVhBzS.mp4 HTTP/1.1\" 200 637222\n",
      "[931/997] https://i.imgur.com/r52ZnMh.jpg\n",
      "[gallery-dl][debug] Starting DownloadJob for 'https://i.imgur.com/r52ZnMh.jpg'\n",
      "[imgur][debug] Using ImgurImageExtractor for 'https://i.imgur.com/r52ZnMh.jpg'\n"
     ]
    },
    {
     "name": "stdout",
     "output_type": "stream",
     "text": [
      "nvme_drive/scraped_files/20220821-003129-reddit/imgur/imgur_6eVhBzS_Standoff [gifv].mp4\n"
     ]
    },
    {
     "name": "stderr",
     "output_type": "stream",
     "text": [
      "[urllib3.connectionpool][debug] https://api.imgur.com:443 \"GET /post/v1/media/r52ZnMh?include=media%2Ctags%2Caccount HTTP/1.1\" 200 443\n",
      "[urllib3.connectionpool][debug] https://i.imgur.com:443 \"GET /r52ZnMh.jpg HTTP/1.1\" 200 760326\n",
      "[932/997] https://i.redd.it/5lh53jrjaji91.jpg\n",
      "[gallery-dl][debug] Starting DownloadJob for 'https://i.redd.it/5lh53jrjaji91.jpg'\n",
      "[reddit][debug] Using RedditImageExtractor for 'https://i.redd.it/5lh53jrjaji91.jpg'\n",
      "[urllib3.connectionpool][debug] https://i.redd.it:443 \"GET /5lh53jrjaji91.jpg HTTP/1.1\" 200 713490\n"
     ]
    },
    {
     "name": "stdout",
     "output_type": "stream",
     "text": [
      "nvme_drive/scraped_files/20220821-003129-reddit/imgur/imgur_r52ZnMh_Damn.jpg\n",
      "nvme_drive/scraped_files/20220821-003129-reddit/reddit/5lh53jrjaji91.jpg\n"
     ]
    },
    {
     "name": "stderr",
     "output_type": "stream",
     "text": [
      "[933/997] https://www.redgifs.com/watch/giddymammothsnail\n",
      "[gallery-dl][debug] Starting DownloadJob for 'https://www.redgifs.com/watch/giddymammothsnail'\n",
      "[redgifs][debug] Using RedgifsImageExtractor for 'https://www.redgifs.com/watch/giddymammothsnail'\n",
      "[urllib3.connectionpool][debug] https://api.redgifs.com:443 \"GET /v2/gifs/giddymammothsnail HTTP/1.1\" 200 None\n",
      "[urllib3.connectionpool][debug] https://thumbs2.redgifs.com:443 \"GET /GiddyMammothSnail.mp4 HTTP/1.1\" 200 2420866\n"
     ]
    },
    {
     "name": "stdout",
     "output_type": "stream",
     "text": [
      "nvme_drive/scraped_files/20220821-003129-reddit/redgifs/redgifs_giddymammothsnail.mp4\n",
      "nvme_drive/scraped_files/20220821-003129-reddit/reddit/we4b33zeb6h91.jpg\n"
     ]
    },
    {
     "name": "stderr",
     "output_type": "stream",
     "text": [
      "[934/997] https://i.redd.it/we4b33zeb6h91.jpg\n",
      "[gallery-dl][debug] Starting DownloadJob for 'https://i.redd.it/we4b33zeb6h91.jpg'\n",
      "[reddit][debug] Using RedditImageExtractor for 'https://i.redd.it/we4b33zeb6h91.jpg'\n",
      "[urllib3.connectionpool][debug] https://i.redd.it:443 \"GET /we4b33zeb6h91.jpg HTTP/1.1\" 200 446378\n",
      "[935/997] https://i.imgur.com/FWol5Tb.jpg\n",
      "[gallery-dl][debug] Starting DownloadJob for 'https://i.imgur.com/FWol5Tb.jpg'\n",
      "[imgur][debug] Using ImgurImageExtractor for 'https://i.imgur.com/FWol5Tb.jpg'\n",
      "[urllib3.connectionpool][debug] https://api.imgur.com:443 \"GET /post/v1/media/FWol5Tb?include=media%2Ctags%2Caccount HTTP/1.1\" 200 469\n",
      "[urllib3.connectionpool][debug] https://i.imgur.com:443 \"GET /FWol5Tb.jpg HTTP/1.1\" 200 453755\n",
      "[936/997] https://i.imgur.com/q54ZVuy.jpg\n",
      "[gallery-dl][debug] Starting DownloadJob for 'https://i.imgur.com/q54ZVuy.jpg'\n",
      "[imgur][debug] Using ImgurImageExtractor for 'https://i.imgur.com/q54ZVuy.jpg'\n",
      "[urllib3.connectionpool][debug] https://api.imgur.com:443 \"GET /post/v1/media/q54ZVuy?include=media%2Ctags%2Caccount HTTP/1.1\" 200 451\n"
     ]
    },
    {
     "name": "stdout",
     "output_type": "stream",
     "text": [
      "nvme_drive/scraped_files/20220821-003129-reddit/imgur/imgur_FWol5Tb_Remy, Phoenix, Jada..jpg\n"
     ]
    },
    {
     "name": "stderr",
     "output_type": "stream",
     "text": [
      "[urllib3.connectionpool][debug] https://i.imgur.com:443 \"GET /q54ZVuy.jpg HTTP/1.1\" 200 1174978\n",
      "[937/997] https://www.redgifs.com/watch/pleasingstylishhorsechestnutleafminer\n",
      "[gallery-dl][debug] Starting DownloadJob for 'https://www.redgifs.com/watch/pleasingstylishhorsechestnutleafminer'\n",
      "[redgifs][debug] Using RedgifsImageExtractor for 'https://www.redgifs.com/watch/pleasingstylishhorsechestnutleafminer'\n"
     ]
    },
    {
     "name": "stdout",
     "output_type": "stream",
     "text": [
      "nvme_drive/scraped_files/20220821-003129-reddit/imgur/imgur_q54ZVuy_Milena.jpg\n"
     ]
    },
    {
     "name": "stderr",
     "output_type": "stream",
     "text": [
      "[urllib3.connectionpool][debug] https://api.redgifs.com:443 \"GET /v2/gifs/pleasingstylishhorsechestnutleafminer HTTP/1.1\" 200 None\n",
      "[urllib3.connectionpool][debug] https://thumbs2.redgifs.com:443 \"GET /PleasingStylishHorsechestnutleafminer.mp4 HTTP/1.1\" 200 3962271\n"
     ]
    },
    {
     "name": "stdout",
     "output_type": "stream",
     "text": [
      "nvme_drive/scraped_files/20220821-003129-reddit/redgifs/redgifs_pleasingstylishhorsechestnutleafminer.mp4\n"
     ]
    },
    {
     "name": "stderr",
     "output_type": "stream",
     "text": [
      "[938/997] https://www.redgifs.com/watch/knottyuglymollusk?rel=u%3Aburgerprince%3Bo%3Arecent\n",
      "[gallery-dl][debug] Starting DownloadJob for 'https://www.redgifs.com/watch/knottyuglymollusk?rel=u%3Aburgerprince%3Bo%3Arecent'\n",
      "[redgifs][debug] Using RedgifsImageExtractor for 'https://www.redgifs.com/watch/knottyuglymollusk?rel=u%3Aburgerprince%3Bo%3Arecent'\n",
      "[urllib3.connectionpool][debug] https://api.redgifs.com:443 \"GET /v2/gifs/knottyuglymollusk HTTP/1.1\" 200 None\n",
      "[urllib3.connectionpool][debug] https://thumbs2.redgifs.com:443 \"GET /KnottyUglyMollusk.mp4 HTTP/1.1\" 200 43030979\n"
     ]
    },
    {
     "name": "stdout",
     "output_type": "stream",
     "text": [
      "nvme_drive/scraped_files/20220821-003129-reddit/redgifs/redgifs_knottyuglymollusk.mp4\n",
      "nvme_drive/scraped_files/20220821-003129-reddit/reddit/1txmq6ugkmf91.jpg\n"
     ]
    },
    {
     "name": "stderr",
     "output_type": "stream",
     "text": [
      "[939/997] https://i.redd.it/1txmq6ugkmf91.jpg\n",
      "[gallery-dl][debug] Starting DownloadJob for 'https://i.redd.it/1txmq6ugkmf91.jpg'\n",
      "[reddit][debug] Using RedditImageExtractor for 'https://i.redd.it/1txmq6ugkmf91.jpg'\n",
      "[urllib3.connectionpool][debug] https://i.redd.it:443 \"GET /1txmq6ugkmf91.jpg HTTP/1.1\" 200 220419\n",
      "[940/997] https://i.imgur.com/NwubpFF.jpg\n",
      "[gallery-dl][debug] Starting DownloadJob for 'https://i.imgur.com/NwubpFF.jpg'\n",
      "[imgur][debug] Using ImgurImageExtractor for 'https://i.imgur.com/NwubpFF.jpg'\n",
      "[urllib3.connectionpool][debug] https://api.imgur.com:443 \"GET /post/v1/media/NwubpFF?include=media%2Ctags%2Caccount HTTP/1.1\" 200 459\n",
      "[urllib3.connectionpool][debug] https://i.imgur.com:443 \"GET /NwubpFF.jpg HTTP/1.1\" 200 728107\n"
     ]
    },
    {
     "name": "stdout",
     "output_type": "stream",
     "text": [
      "nvme_drive/scraped_files/20220821-003129-reddit/imgur/imgur_NwubpFF_Mirror Mirror.jpg\n"
     ]
    },
    {
     "name": "stderr",
     "output_type": "stream",
     "text": [
      "[941/997] https://www.redgifs.com/watch/navajowhiteunpleasantiberianbarbel\n",
      "[gallery-dl][debug] Starting DownloadJob for 'https://www.redgifs.com/watch/navajowhiteunpleasantiberianbarbel'\n",
      "[redgifs][debug] Using RedgifsImageExtractor for 'https://www.redgifs.com/watch/navajowhiteunpleasantiberianbarbel'\n",
      "[urllib3.connectionpool][debug] https://api.redgifs.com:443 \"GET /v2/gifs/navajowhiteunpleasantiberianbarbel HTTP/1.1\" 200 None\n",
      "[urllib3.connectionpool][debug] https://thumbs2.redgifs.com:443 \"GET /NavajowhiteUnpleasantIberianbarbel.mp4 HTTP/1.1\" 200 32517119\n"
     ]
    },
    {
     "name": "stdout",
     "output_type": "stream",
     "text": [
      "nvme_drive/scraped_files/20220821-003129-reddit/redgifs/redgifs_navajowhiteunpleasantiberianbarbel.mp4\n"
     ]
    },
    {
     "name": "stderr",
     "output_type": "stream",
     "text": [
      "[942/997] https://i.imgur.com/Jb7ZrEL.jpg\n",
      "[gallery-dl][debug] Starting DownloadJob for 'https://i.imgur.com/Jb7ZrEL.jpg'\n",
      "[imgur][debug] Using ImgurImageExtractor for 'https://i.imgur.com/Jb7ZrEL.jpg'\n",
      "[urllib3.connectionpool][debug] https://api.imgur.com:443 \"GET /post/v1/media/Jb7ZrEL?include=media%2Ctags%2Caccount HTTP/1.1\" 200 471\n",
      "[urllib3.connectionpool][debug] https://i.imgur.com:443 \"GET /Jb7ZrEL.jpg HTTP/1.1\" 200 3213972\n"
     ]
    },
    {
     "name": "stdout",
     "output_type": "stream",
     "text": [
      "nvme_drive/scraped_files/20220821-003129-reddit/imgur/imgur_Jb7ZrEL_Vanessa Alessia & Nancy Ace.jpg\n",
      "nvme_drive/scraped_files/20220821-003129-reddit/reddit/rhapizkrg1f91.jpg\n"
     ]
    },
    {
     "name": "stderr",
     "output_type": "stream",
     "text": [
      "[943/997] https://i.redd.it/rhapizkrg1f91.jpg\n",
      "[gallery-dl][debug] Starting DownloadJob for 'https://i.redd.it/rhapizkrg1f91.jpg'\n",
      "[reddit][debug] Using RedditImageExtractor for 'https://i.redd.it/rhapizkrg1f91.jpg'\n",
      "[urllib3.connectionpool][debug] https://i.redd.it:443 \"GET /rhapizkrg1f91.jpg HTTP/1.1\" 200 402619\n",
      "[944/997] https://www.redgifs.com/watch/unwillingfewiriomotecat\n",
      "[gallery-dl][debug] Starting DownloadJob for 'https://www.redgifs.com/watch/unwillingfewiriomotecat'\n",
      "[redgifs][debug] Using RedgifsImageExtractor for 'https://www.redgifs.com/watch/unwillingfewiriomotecat'\n",
      "[urllib3.connectionpool][debug] https://api.redgifs.com:443 \"GET /v2/gifs/unwillingfewiriomotecat HTTP/1.1\" 200 None\n",
      "[urllib3.connectionpool][debug] https://thumbs2.redgifs.com:443 \"GET /UnwillingFewIriomotecat.mp4 HTTP/1.1\" 200 55520357\n"
     ]
    },
    {
     "name": "stdout",
     "output_type": "stream",
     "text": [
      "nvme_drive/scraped_files/20220821-003129-reddit/redgifs/redgifs_unwillingfewiriomotecat.mp4\n",
      "nvme_drive/scraped_files/20220821-003129-reddit/reddit/mtiu94a60zc91.jpg\n"
     ]
    },
    {
     "name": "stderr",
     "output_type": "stream",
     "text": [
      "[945/997] https://i.redd.it/mtiu94a60zc91.jpg\n",
      "[gallery-dl][debug] Starting DownloadJob for 'https://i.redd.it/mtiu94a60zc91.jpg'\n",
      "[reddit][debug] Using RedditImageExtractor for 'https://i.redd.it/mtiu94a60zc91.jpg'\n",
      "[urllib3.connectionpool][debug] https://i.redd.it:443 \"GET /mtiu94a60zc91.jpg HTTP/1.1\" 200 43622\n",
      "[946/997] https://www.reddit.com/r/nsfw/comments/w5zz5l/jesus_fucking_christ/\n",
      "[gallery-dl][debug] Starting DownloadJob for 'https://www.reddit.com/r/nsfw/comments/w5zz5l/jesus_fucking_christ/'\n",
      "[reddit][debug] Using RedditSubmissionExtractor for 'https://www.reddit.com/r/nsfw/comments/w5zz5l/jesus_fucking_christ/'\n",
      "[urllib3.connectionpool][debug] https://oauth.reddit.com:443 \"GET /comments/w5zz5l/.json?limit=0&raw_json=1 HTTP/1.1\" 200 1818\n",
      "[947/997] https://i.imgur.com/td2hqlc.gif\n",
      "[gallery-dl][debug] Starting DownloadJob for 'https://i.imgur.com/td2hqlc.gif'\n",
      "[imgur][debug] Using ImgurImageExtractor for 'https://i.imgur.com/td2hqlc.gif'\n",
      "[urllib3.connectionpool][debug] https://api.imgur.com:443 \"GET /post/v1/media/td2hqlc?include=media%2Ctags%2Caccount HTTP/1.1\" 200 460\n",
      "[urllib3.connectionpool][debug] https://i.imgur.com:443 \"GET /td2hqlc.mp4 HTTP/1.1\" 200 867674\n",
      "[948/997] https://www.redgifs.com/watch/tiredlongtermxrayfish\n",
      "[gallery-dl][debug] Starting DownloadJob for 'https://www.redgifs.com/watch/tiredlongtermxrayfish'\n",
      "[redgifs][debug] Using RedgifsImageExtractor for 'https://www.redgifs.com/watch/tiredlongtermxrayfish'\n"
     ]
    },
    {
     "name": "stdout",
     "output_type": "stream",
     "text": [
      "nvme_drive/scraped_files/20220821-003129-reddit/imgur/imgur_td2hqlc_Liza del Sierra.mp4\n"
     ]
    },
    {
     "name": "stderr",
     "output_type": "stream",
     "text": [
      "[urllib3.connectionpool][debug] https://api.redgifs.com:443 \"GET /v2/gifs/tiredlongtermxrayfish HTTP/1.1\" 200 None\n",
      "[urllib3.connectionpool][debug] https://thumbs2.redgifs.com:443 \"GET /TiredLongtermXrayfish.mp4 HTTP/1.1\" 200 60265179\n"
     ]
    },
    {
     "name": "stdout",
     "output_type": "stream",
     "text": [
      "nvme_drive/scraped_files/20220821-003129-reddit/redgifs/redgifs_tiredlongtermxrayfish.mp4\n"
     ]
    },
    {
     "name": "stderr",
     "output_type": "stream",
     "text": [
      "[949/997] https://i.imgur.com/5WsjfPH.jpg\n",
      "[gallery-dl][debug] Starting DownloadJob for 'https://i.imgur.com/5WsjfPH.jpg'\n",
      "[imgur][debug] Using ImgurImageExtractor for 'https://i.imgur.com/5WsjfPH.jpg'\n",
      "[urllib3.connectionpool][debug] https://api.imgur.com:443 \"GET /post/v1/media/5WsjfPH?include=media%2Ctags%2Caccount HTTP/1.1\" 200 474\n",
      "[urllib3.connectionpool][debug] https://i.imgur.com:443 \"GET /5WsjfPH.jpg HTTP/1.1\" 200 697562\n"
     ]
    },
    {
     "name": "stdout",
     "output_type": "stream",
     "text": [
      "nvme_drive/scraped_files/20220821-003129-reddit/imgur/imgur_5WsjfPH_the definition of ghost nipples.jpg\n",
      "nvme_drive/scraped_files/20220821-003129-reddit/imgur/imgur_FqLVVAC_Finger in the tush.mp4\n"
     ]
    },
    {
     "name": "stderr",
     "output_type": "stream",
     "text": [
      "[950/997] https://i.imgur.com/FqLVVAC.gifv\n",
      "[gallery-dl][debug] Starting DownloadJob for 'https://i.imgur.com/FqLVVAC.gifv'\n",
      "[imgur][debug] Using ImgurImageExtractor for 'https://i.imgur.com/FqLVVAC.gifv'\n",
      "[urllib3.connectionpool][debug] https://api.imgur.com:443 \"GET /post/v1/media/FqLVVAC?include=media%2Ctags%2Caccount HTTP/1.1\" 200 471\n",
      "[urllib3.connectionpool][debug] https://i.imgur.com:443 \"GET /FqLVVAC.mp4 HTTP/1.1\" 200 99708\n",
      "[951/997] https://www.redgifs.com/watch/incomparablerottenpeccary\n",
      "[gallery-dl][debug] Starting DownloadJob for 'https://www.redgifs.com/watch/incomparablerottenpeccary'\n",
      "[redgifs][debug] Using RedgifsImageExtractor for 'https://www.redgifs.com/watch/incomparablerottenpeccary'\n",
      "[urllib3.connectionpool][debug] https://api.redgifs.com:443 \"GET /v2/gifs/incomparablerottenpeccary HTTP/1.1\" 200 None\n",
      "[urllib3.connectionpool][debug] https://thumbs2.redgifs.com:443 \"GET /IncomparableRottenPeccary.mp4 HTTP/1.1\" 200 10495927\n"
     ]
    },
    {
     "name": "stdout",
     "output_type": "stream",
     "text": [
      "nvme_drive/scraped_files/20220821-003129-reddit/redgifs/redgifs_incomparablerottenpeccary.mp4\n"
     ]
    },
    {
     "name": "stderr",
     "output_type": "stream",
     "text": [
      "[952/997] https://redgifs.com/watch/nonstopreliablehammerheadbird\n",
      "[gallery-dl][debug] Starting DownloadJob for 'https://redgifs.com/watch/nonstopreliablehammerheadbird'\n",
      "[redgifs][debug] Using RedgifsImageExtractor for 'https://redgifs.com/watch/nonstopreliablehammerheadbird'\n",
      "[urllib3.connectionpool][debug] https://api.redgifs.com:443 \"GET /v2/gifs/nonstopreliablehammerheadbird HTTP/1.1\" 200 None\n",
      "[urllib3.connectionpool][debug] https://thumbs2.redgifs.com:443 \"GET /NonstopReliableHammerheadbird.mp4 HTTP/1.1\" 200 43387196\n"
     ]
    },
    {
     "name": "stdout",
     "output_type": "stream",
     "text": [
      "nvme_drive/scraped_files/20220821-003129-reddit/redgifs/redgifs_nonstopreliablehammerheadbird.mp4\n"
     ]
    },
    {
     "name": "stderr",
     "output_type": "stream",
     "text": [
      "[953/997] https://redgifs.com/watch/presentuselessjellyfish\n",
      "[gallery-dl][debug] Starting DownloadJob for 'https://redgifs.com/watch/presentuselessjellyfish'\n",
      "[redgifs][debug] Using RedgifsImageExtractor for 'https://redgifs.com/watch/presentuselessjellyfish'\n",
      "[urllib3.connectionpool][debug] https://api.redgifs.com:443 \"GET /v2/gifs/presentuselessjellyfish HTTP/1.1\" 200 None\n",
      "[urllib3.connectionpool][debug] https://thumbs2.redgifs.com:443 \"GET /PresentUselessJellyfish.mp4 HTTP/1.1\" 200 27120923\n"
     ]
    },
    {
     "name": "stdout",
     "output_type": "stream",
     "text": [
      "nvme_drive/scraped_files/20220821-003129-reddit/redgifs/redgifs_presentuselessjellyfish.mp4\n"
     ]
    },
    {
     "name": "stderr",
     "output_type": "stream",
     "text": [
      "[954/997] https://i.imgur.com/eqCY0GT.gifv\n",
      "[gallery-dl][debug] Starting DownloadJob for 'https://i.imgur.com/eqCY0GT.gifv'\n",
      "[imgur][debug] Using ImgurImageExtractor for 'https://i.imgur.com/eqCY0GT.gifv'\n",
      "[urllib3.connectionpool][debug] https://api.imgur.com:443 \"GET /post/v1/media/eqCY0GT?include=media%2Ctags%2Caccount HTTP/1.1\" 200 467\n",
      "[urllib3.connectionpool][debug] https://i.imgur.com:443 \"GET /eqCY0GT.mp4 HTTP/1.1\" 200 2617482\n"
     ]
    },
    {
     "name": "stdout",
     "output_type": "stream",
     "text": [
      "nvme_drive/scraped_files/20220821-003129-reddit/imgur/imgur_eqCY0GT_So this is perfect.mp4\n"
     ]
    },
    {
     "name": "stderr",
     "output_type": "stream",
     "text": [
      "[955/997] https://redgifs.com/watch/stunningwisehellbender\n",
      "[gallery-dl][debug] Starting DownloadJob for 'https://redgifs.com/watch/stunningwisehellbender'\n",
      "[redgifs][debug] Using RedgifsImageExtractor for 'https://redgifs.com/watch/stunningwisehellbender'\n",
      "[urllib3.connectionpool][debug] https://api.redgifs.com:443 \"GET /v2/gifs/stunningwisehellbender HTTP/1.1\" 200 None\n",
      "[urllib3.connectionpool][debug] https://thumbs2.redgifs.com:443 \"GET /StunningWiseHellbender.mp4 HTTP/1.1\" 200 45074493\n"
     ]
    },
    {
     "name": "stdout",
     "output_type": "stream",
     "text": [
      "nvme_drive/scraped_files/20220821-003129-reddit/redgifs/redgifs_stunningwisehellbender.mp4\n",
      "nvme_drive/scraped_files/20220821-003129-reddit/imgur/imgur_IImixXt_Jayden Jaymes.jpg\n"
     ]
    },
    {
     "name": "stderr",
     "output_type": "stream",
     "text": [
      "[956/997] https://i.imgur.com/IImixXt.jpg\n",
      "[gallery-dl][debug] Starting DownloadJob for 'https://i.imgur.com/IImixXt.jpg'\n",
      "[imgur][debug] Using ImgurImageExtractor for 'https://i.imgur.com/IImixXt.jpg'\n",
      "[urllib3.connectionpool][debug] https://api.imgur.com:443 \"GET /post/v1/media/IImixXt?include=media%2Ctags%2Caccount HTTP/1.1\" 200 472\n",
      "[urllib3.connectionpool][debug] https://i.imgur.com:443 \"GET /IImixXt.jpg HTTP/1.1\" 200 294249\n",
      "[957/997] https://i.redd.it/b920tycxgod91.gif\n",
      "[gallery-dl][debug] Starting DownloadJob for 'https://i.redd.it/b920tycxgod91.gif'\n",
      "[reddit][debug] Using RedditImageExtractor for 'https://i.redd.it/b920tycxgod91.gif'\n",
      "[urllib3.connectionpool][debug] https://i.redd.it:443 \"GET /b920tycxgod91.gif HTTP/1.1\" 200 14889351\n"
     ]
    },
    {
     "name": "stdout",
     "output_type": "stream",
     "text": [
      "nvme_drive/scraped_files/20220821-003129-reddit/reddit/b920tycxgod91.gif\n"
     ]
    },
    {
     "name": "stderr",
     "output_type": "stream",
     "text": [
      "[958/997] https://i.imgur.com/xZ6kGfr.jpg\n",
      "[gallery-dl][debug] Starting DownloadJob for 'https://i.imgur.com/xZ6kGfr.jpg'\n",
      "[imgur][debug] Using ImgurImageExtractor for 'https://i.imgur.com/xZ6kGfr.jpg'\n",
      "[urllib3.connectionpool][debug] https://api.imgur.com:443 \"GET /post/v1/media/xZ6kGfr?include=media%2Ctags%2Caccount HTTP/1.1\" 200 460\n",
      "[urllib3.connectionpool][debug] https://i.imgur.com:443 \"GET /xZ6kGfr.jpg HTTP/1.1\" 200 1462792\n"
     ]
    },
    {
     "name": "stdout",
     "output_type": "stream",
     "text": [
      "nvme_drive/scraped_files/20220821-003129-reddit/imgur/imgur_xZ6kGfr_Trippy.jpg\n"
     ]
    },
    {
     "name": "stderr",
     "output_type": "stream",
     "text": [
      "[959/997] https://www.redgifs.com/watch/dutifultendersifaka\n",
      "[gallery-dl][debug] Starting DownloadJob for 'https://www.redgifs.com/watch/dutifultendersifaka'\n",
      "[redgifs][debug] Using RedgifsImageExtractor for 'https://www.redgifs.com/watch/dutifultendersifaka'\n",
      "[urllib3.connectionpool][debug] https://api.redgifs.com:443 \"GET /v2/gifs/dutifultendersifaka HTTP/1.1\" 200 None\n",
      "[urllib3.connectionpool][debug] https://thumbs2.redgifs.com:443 \"GET /DutifulTenderSifaka.mp4 HTTP/1.1\" 200 44929965\n"
     ]
    },
    {
     "name": "stdout",
     "output_type": "stream",
     "text": [
      "nvme_drive/scraped_files/20220821-003129-reddit/redgifs/redgifs_dutifultendersifaka.mp4\n",
      "nvme_drive/scraped_files/20220821-003129-reddit/imgur/imgur_6UuOML3_Goddamn.jpg\n"
     ]
    },
    {
     "name": "stderr",
     "output_type": "stream",
     "text": [
      "[960/997] https://i.imgur.com/6UuOML3.jpg\n",
      "[gallery-dl][debug] Starting DownloadJob for 'https://i.imgur.com/6UuOML3.jpg'\n",
      "[imgur][debug] Using ImgurImageExtractor for 'https://i.imgur.com/6UuOML3.jpg'\n",
      "[urllib3.connectionpool][debug] https://api.imgur.com:443 \"GET /post/v1/media/6UuOML3?include=media%2Ctags%2Caccount HTTP/1.1\" 200 459\n",
      "[urllib3.connectionpool][debug] https://i.imgur.com:443 \"GET /6UuOML3.jpg HTTP/1.1\" 200 257625\n",
      "[961/997] https://redgifs.com/watch/queasylastingtiti\n",
      "[gallery-dl][debug] Starting DownloadJob for 'https://redgifs.com/watch/queasylastingtiti'\n",
      "[redgifs][debug] Using RedgifsImageExtractor for 'https://redgifs.com/watch/queasylastingtiti'\n",
      "[urllib3.connectionpool][debug] https://api.redgifs.com:443 \"GET /v2/gifs/queasylastingtiti HTTP/1.1\" 200 None\n",
      "[urllib3.connectionpool][debug] https://thumbs2.redgifs.com:443 \"GET /QueasyLastingTiti.mp4 HTTP/1.1\" 200 6051298\n"
     ]
    },
    {
     "name": "stdout",
     "output_type": "stream",
     "text": [
      "nvme_drive/scraped_files/20220821-003129-reddit/redgifs/redgifs_queasylastingtiti.mp4\n",
      "nvme_drive/scraped_files/20220821-003129-reddit/imgur/imgur_xYAWAMl.jpg\n"
     ]
    },
    {
     "name": "stderr",
     "output_type": "stream",
     "text": [
      "[962/997] https://i.imgur.com/xYAWAMl.jpg\n",
      "[gallery-dl][debug] Starting DownloadJob for 'https://i.imgur.com/xYAWAMl.jpg'\n",
      "[imgur][debug] Using ImgurImageExtractor for 'https://i.imgur.com/xYAWAMl.jpg'\n",
      "[urllib3.connectionpool][debug] https://api.imgur.com:443 \"GET /post/v1/media/xYAWAMl?include=media%2Ctags%2Caccount HTTP/1.1\" 200 448\n",
      "[urllib3.connectionpool][debug] https://i.imgur.com:443 \"GET /xYAWAMl.jpg HTTP/1.1\" 200 122550\n",
      "[963/997] https://i.imgur.com/CirGg8W.jpeg\n",
      "[gallery-dl][debug] Starting DownloadJob for 'https://i.imgur.com/CirGg8W.jpeg'\n",
      "[imgur][debug] Using ImgurImageExtractor for 'https://i.imgur.com/CirGg8W.jpeg'\n",
      "[urllib3.connectionpool][debug] https://api.imgur.com:443 \"GET /post/v1/media/CirGg8W?include=media%2Ctags%2Caccount HTTP/1.1\" 200 443\n",
      "[urllib3.connectionpool][debug] https://i.imgur.com:443 \"GET /CirGg8W.jpg HTTP/1.1\" 200 80605\n",
      "[964/997] https://www.redgifs.com/watch/impressionablebitesizedbabirusa\n",
      "[gallery-dl][debug] Starting DownloadJob for 'https://www.redgifs.com/watch/impressionablebitesizedbabirusa'\n",
      "[redgifs][debug] Using RedgifsImageExtractor for 'https://www.redgifs.com/watch/impressionablebitesizedbabirusa'\n",
      "[urllib3.connectionpool][debug] https://api.redgifs.com:443 \"GET /v2/gifs/impressionablebitesizedbabirusa HTTP/1.1\" 200 None\n",
      "[urllib3.connectionpool][debug] https://thumbs2.redgifs.com:443 \"GET /ImpressionableBitesizedBabirusa.mp4 HTTP/1.1\" 200 22420107\n"
     ]
    },
    {
     "name": "stdout",
     "output_type": "stream",
     "text": [
      "nvme_drive/scraped_files/20220821-003129-reddit/imgur/imgur_CirGg8W_Heels.jpg\n",
      "nvme_drive/scraped_files/20220821-003129-reddit/redgifs/redgifs_impressionablebitesizedbabirusa.mp4\n"
     ]
    },
    {
     "name": "stderr",
     "output_type": "stream",
     "text": [
      "[965/997] https://i.imgur.com/WZj0oQS.jpg\n",
      "[gallery-dl][debug] Starting DownloadJob for 'https://i.imgur.com/WZj0oQS.jpg'\n",
      "[imgur][debug] Using ImgurImageExtractor for 'https://i.imgur.com/WZj0oQS.jpg'\n",
      "[urllib3.connectionpool][debug] https://api.imgur.com:443 \"GET /post/v1/media/WZj0oQS?include=media%2Ctags%2Caccount HTTP/1.1\" 200 453\n",
      "[urllib3.connectionpool][debug] https://i.imgur.com:443 \"GET /WZj0oQS.jpg HTTP/1.1\" 200 494069\n",
      "[966/997] https://i.redd.it/ksb3fvjprrd91.jpg\n",
      "[gallery-dl][debug] Starting DownloadJob for 'https://i.redd.it/ksb3fvjprrd91.jpg'\n",
      "[reddit][debug] Using RedditImageExtractor for 'https://i.redd.it/ksb3fvjprrd91.jpg'\n",
      "[urllib3.connectionpool][debug] https://i.redd.it:443 \"GET /ksb3fvjprrd91.jpg HTTP/1.1\" 200 994904\n"
     ]
    },
    {
     "name": "stdout",
     "output_type": "stream",
     "text": [
      "nvme_drive/scraped_files/20220821-003129-reddit/imgur/imgur_WZj0oQS_Exchanging glances.jpg\n",
      "nvme_drive/scraped_files/20220821-003129-reddit/reddit/ksb3fvjprrd91.jpg\n"
     ]
    },
    {
     "name": "stderr",
     "output_type": "stream",
     "text": [
      "[967/997] https://i.imgur.com/1iARK8m.jpg\n",
      "[gallery-dl][debug] Starting DownloadJob for 'https://i.imgur.com/1iARK8m.jpg'\n",
      "[imgur][debug] Using ImgurImageExtractor for 'https://i.imgur.com/1iARK8m.jpg'\n",
      "[urllib3.connectionpool][debug] https://api.imgur.com:443 \"GET /post/v1/media/1iARK8m?include=media%2Ctags%2Caccount HTTP/1.1\" 200 469\n",
      "[urllib3.connectionpool][debug] https://i.imgur.com:443 \"GET /1iARK8m.jpg HTTP/1.1\" 200 84309\n",
      "[968/997] https://i.imgur.com/cO3jZvv.jpg\n",
      "[gallery-dl][debug] Starting DownloadJob for 'https://i.imgur.com/cO3jZvv.jpg'\n",
      "[imgur][debug] Using ImgurImageExtractor for 'https://i.imgur.com/cO3jZvv.jpg'\n",
      "[urllib3.connectionpool][debug] https://api.imgur.com:443 \"GET /post/v1/media/cO3jZvv?include=media%2Ctags%2Caccount HTTP/1.1\" 200 481\n",
      "[urllib3.connectionpool][debug] https://i.imgur.com:443 \"GET /cO3jZvv.jpg HTTP/1.1\" 200 49727\n",
      "[969/997] https://i.imgur.com/ftNJC4x.jpg\n",
      "[gallery-dl][debug] Starting DownloadJob for 'https://i.imgur.com/ftNJC4x.jpg'\n",
      "[imgur][debug] Using ImgurImageExtractor for 'https://i.imgur.com/ftNJC4x.jpg'\n"
     ]
    },
    {
     "name": "stdout",
     "output_type": "stream",
     "text": [
      "nvme_drive/scraped_files/20220821-003129-reddit/imgur/imgur_1iARK8m_Busty blonde against the shower glass.jpg\n",
      "nvme_drive/scraped_files/20220821-003129-reddit/imgur/imgur_cO3jZvv_Keeping her legs warm.jpg\n"
     ]
    },
    {
     "name": "stderr",
     "output_type": "stream",
     "text": [
      "[urllib3.connectionpool][debug] https://api.imgur.com:443 \"GET /post/v1/media/ftNJC4x?include=media%2Ctags%2Caccount HTTP/1.1\" 200 487\n",
      "[urllib3.connectionpool][debug] https://i.imgur.com:443 \"GET /ftNJC4x.jpg HTTP/1.1\" 200 2168196\n"
     ]
    },
    {
     "name": "stdout",
     "output_type": "stream",
     "text": [
      "nvme_drive/scraped_files/20220821-003129-reddit/imgur/imgur_ftNJC4x_Estelle | \"Meja\".jpg\n"
     ]
    },
    {
     "name": "stderr",
     "output_type": "stream",
     "text": [
      "[970/997] https://i.imgur.com/TmrQdjN.jpg\n",
      "[gallery-dl][debug] Starting DownloadJob for 'https://i.imgur.com/TmrQdjN.jpg'\n",
      "[imgur][debug] Using ImgurImageExtractor for 'https://i.imgur.com/TmrQdjN.jpg'\n",
      "[urllib3.connectionpool][debug] https://api.imgur.com:443 \"GET /post/v1/media/TmrQdjN?include=media%2Ctags%2Caccount HTTP/1.1\" 200 470\n",
      "[urllib3.connectionpool][debug] https://i.imgur.com:443 \"GET /TmrQdjN.jpg HTTP/1.1\" 200 1139306\n",
      "[971/997] https://i.imgur.com/oAEcS3f.png\n",
      "[gallery-dl][debug] Starting DownloadJob for 'https://i.imgur.com/oAEcS3f.png'\n",
      "[imgur][debug] Using ImgurImageExtractor for 'https://i.imgur.com/oAEcS3f.png'\n"
     ]
    },
    {
     "name": "stdout",
     "output_type": "stream",
     "text": [
      "nvme_drive/scraped_files/20220821-003129-reddit/imgur/imgur_TmrQdjN_Kay J.jpg\n"
     ]
    },
    {
     "name": "stderr",
     "output_type": "stream",
     "text": [
      "[urllib3.connectionpool][debug] https://api.imgur.com:443 \"GET /post/v1/media/oAEcS3f?include=media%2Ctags%2Caccount HTTP/1.1\" 200 469\n",
      "[urllib3.connectionpool][debug] https://i.imgur.com:443 \"GET /oAEcS3f.png HTTP/1.1\" 200 3756179\n"
     ]
    },
    {
     "name": "stdout",
     "output_type": "stream",
     "text": [
      "nvme_drive/scraped_files/20220821-003129-reddit/imgur/imgur_oAEcS3f_Peta jensen oiled up in the sun.png\n"
     ]
    },
    {
     "name": "stderr",
     "output_type": "stream",
     "text": [
      "[972/997] https://i.imgur.com/kyDFOU4.jpg\n",
      "[gallery-dl][debug] Starting DownloadJob for 'https://i.imgur.com/kyDFOU4.jpg'\n",
      "[imgur][debug] Using ImgurImageExtractor for 'https://i.imgur.com/kyDFOU4.jpg'\n",
      "[urllib3.connectionpool][debug] https://api.imgur.com:443 \"GET /post/v1/media/kyDFOU4?include=media%2Ctags%2Caccount HTTP/1.1\" 200 452\n",
      "[urllib3.connectionpool][debug] https://i.imgur.com:443 \"GET /kyDFOU4.jpg HTTP/1.1\" 200 197784\n"
     ]
    },
    {
     "name": "stdout",
     "output_type": "stream",
     "text": [
      "nvme_drive/scraped_files/20220821-003129-reddit/imgur/imgur_kyDFOU4_Morning light.jpg\n"
     ]
    },
    {
     "name": "stderr",
     "output_type": "stream",
     "text": [
      "[973/997] https://www.redgifs.com/watch/slategraybasicdegu?rel=u%3Aburgerprince%3Bo%3Arecent\n",
      "[gallery-dl][debug] Starting DownloadJob for 'https://www.redgifs.com/watch/slategraybasicdegu?rel=u%3Aburgerprince%3Bo%3Arecent'\n",
      "[redgifs][debug] Using RedgifsImageExtractor for 'https://www.redgifs.com/watch/slategraybasicdegu?rel=u%3Aburgerprince%3Bo%3Arecent'\n",
      "[urllib3.connectionpool][debug] https://api.redgifs.com:443 \"GET /v2/gifs/slategraybasicdegu HTTP/1.1\" 200 None\n",
      "[urllib3.connectionpool][debug] https://thumbs2.redgifs.com:443 \"GET /SlategrayBasicDegu.mp4 HTTP/1.1\" 200 45721513\n"
     ]
    },
    {
     "name": "stdout",
     "output_type": "stream",
     "text": [
      "nvme_drive/scraped_files/20220821-003129-reddit/redgifs/redgifs_slategraybasicdegu.mp4\n",
      "nvme_drive/scraped_files/20220821-003129-reddit/reddit/zzaes2qtl0f91.jpg\n",
      "nvme_drive/scraped_files/20220821-003129-reddit/reddit/msajwes9wia91.jpg\n"
     ]
    },
    {
     "name": "stderr",
     "output_type": "stream",
     "text": [
      "[974/997] https://i.redd.it/zzaes2qtl0f91.jpg\n",
      "[gallery-dl][debug] Starting DownloadJob for 'https://i.redd.it/zzaes2qtl0f91.jpg'\n",
      "[reddit][debug] Using RedditImageExtractor for 'https://i.redd.it/zzaes2qtl0f91.jpg'\n",
      "[urllib3.connectionpool][debug] https://i.redd.it:443 \"GET /zzaes2qtl0f91.jpg HTTP/1.1\" 200 119498\n",
      "[975/997] https://i.redd.it/msajwes9wia91.jpg\n",
      "[gallery-dl][debug] Starting DownloadJob for 'https://i.redd.it/msajwes9wia91.jpg'\n",
      "[reddit][debug] Using RedditImageExtractor for 'https://i.redd.it/msajwes9wia91.jpg'\n",
      "[urllib3.connectionpool][debug] https://i.redd.it:443 \"GET /msajwes9wia91.jpg HTTP/1.1\" 200 113951\n",
      "[976/997] https://www.redgifs.com/watch/actualdeepocelot\n",
      "[gallery-dl][debug] Starting DownloadJob for 'https://www.redgifs.com/watch/actualdeepocelot'\n",
      "[redgifs][debug] Using RedgifsImageExtractor for 'https://www.redgifs.com/watch/actualdeepocelot'\n",
      "[urllib3.connectionpool][debug] https://api.redgifs.com:443 \"GET /v2/gifs/actualdeepocelot HTTP/1.1\" 200 None\n",
      "[urllib3.connectionpool][debug] https://thumbs2.redgifs.com:443 \"GET /ActualDeepOcelot.mp4 HTTP/1.1\" 200 3494629\n"
     ]
    },
    {
     "name": "stdout",
     "output_type": "stream",
     "text": [
      "nvme_drive/scraped_files/20220821-003129-reddit/redgifs/redgifs_actualdeepocelot.mp4\n"
     ]
    },
    {
     "name": "stderr",
     "output_type": "stream",
     "text": [
      "[977/997] https://www.redgifs.com/watch/dependableaquamarineuintagroundsquirrel\n",
      "[gallery-dl][debug] Starting DownloadJob for 'https://www.redgifs.com/watch/dependableaquamarineuintagroundsquirrel'\n",
      "[redgifs][debug] Using RedgifsImageExtractor for 'https://www.redgifs.com/watch/dependableaquamarineuintagroundsquirrel'\n",
      "[urllib3.connectionpool][debug] https://api.redgifs.com:443 \"GET /v2/gifs/dependableaquamarineuintagroundsquirrel HTTP/1.1\" 200 None\n",
      "[urllib3.connectionpool][debug] https://thumbs2.redgifs.com:443 \"GET /DependableAquamarineUintagroundsquirrel.mp4 HTTP/1.1\" 200 42367644\n"
     ]
    },
    {
     "name": "stdout",
     "output_type": "stream",
     "text": [
      "nvme_drive/scraped_files/20220821-003129-reddit/redgifs/redgifs_dependableaquamarineuintagroundsquirrel.mp4\n"
     ]
    },
    {
     "name": "stderr",
     "output_type": "stream",
     "text": [
      "[978/997] https://redgifs.com/watch/spottedheavywalkingstick\n",
      "[gallery-dl][debug] Starting DownloadJob for 'https://redgifs.com/watch/spottedheavywalkingstick'\n",
      "[redgifs][debug] Using RedgifsImageExtractor for 'https://redgifs.com/watch/spottedheavywalkingstick'\n",
      "[urllib3.connectionpool][debug] https://api.redgifs.com:443 \"GET /v2/gifs/spottedheavywalkingstick HTTP/1.1\" 200 None\n",
      "[urllib3.connectionpool][debug] https://thumbs2.redgifs.com:443 \"GET /SpottedHeavyWalkingstick.mp4 HTTP/1.1\" 200 49708525\n"
     ]
    },
    {
     "name": "stdout",
     "output_type": "stream",
     "text": [
      "nvme_drive/scraped_files/20220821-003129-reddit/redgifs/redgifs_spottedheavywalkingstick.mp4\n"
     ]
    },
    {
     "name": "stderr",
     "output_type": "stream",
     "text": [
      "[979/997] https://www.redgifs.com/watch/activesiennaamericanbittern\n",
      "[gallery-dl][debug] Starting DownloadJob for 'https://www.redgifs.com/watch/activesiennaamericanbittern'\n",
      "[redgifs][debug] Using RedgifsImageExtractor for 'https://www.redgifs.com/watch/activesiennaamericanbittern'\n",
      "[urllib3.connectionpool][debug] https://api.redgifs.com:443 \"GET /v2/gifs/activesiennaamericanbittern HTTP/1.1\" 200 None\n",
      "[urllib3.connectionpool][debug] https://thumbs2.redgifs.com:443 \"GET /ActiveSiennaAmericanbittern.mp4 HTTP/1.1\" 200 10512273\n"
     ]
    },
    {
     "name": "stdout",
     "output_type": "stream",
     "text": [
      "nvme_drive/scraped_files/20220821-003129-reddit/redgifs/redgifs_activesiennaamericanbittern.mp4\n",
      "nvme_drive/scraped_files/20220821-003129-reddit/reddit/8zgsd9pxlio51.jpg\n"
     ]
    },
    {
     "name": "stderr",
     "output_type": "stream",
     "text": [
      "[980/997] https://i.redd.it/8zgsd9pxlio51.jpg\n",
      "[gallery-dl][debug] Starting DownloadJob for 'https://i.redd.it/8zgsd9pxlio51.jpg'\n",
      "[reddit][debug] Using RedditImageExtractor for 'https://i.redd.it/8zgsd9pxlio51.jpg'\n",
      "[urllib3.connectionpool][debug] https://i.redd.it:443 \"GET /8zgsd9pxlio51.jpg HTTP/1.1\" 200 528149\n",
      "[981/997] https://redgifs.com/watch/stripedabandonedcassowary\n",
      "[gallery-dl][debug] Starting DownloadJob for 'https://redgifs.com/watch/stripedabandonedcassowary'\n",
      "[redgifs][debug] Using RedgifsImageExtractor for 'https://redgifs.com/watch/stripedabandonedcassowary'\n",
      "[urllib3.connectionpool][debug] https://api.redgifs.com:443 \"GET /v2/gifs/stripedabandonedcassowary HTTP/1.1\" 200 None\n",
      "[urllib3.connectionpool][debug] https://thumbs2.redgifs.com:443 \"GET /StripedAbandonedCassowary.mp4 HTTP/1.1\" 200 17202479\n"
     ]
    },
    {
     "name": "stdout",
     "output_type": "stream",
     "text": [
      "nvme_drive/scraped_files/20220821-003129-reddit/redgifs/redgifs_stripedabandonedcassowary.mp4\n"
     ]
    },
    {
     "name": "stderr",
     "output_type": "stream",
     "text": [
      "[982/997] https://i.imgur.com/yw0TzRc.jpg\n",
      "[gallery-dl][debug] Starting DownloadJob for 'https://i.imgur.com/yw0TzRc.jpg'\n",
      "[imgur][debug] Using ImgurImageExtractor for 'https://i.imgur.com/yw0TzRc.jpg'\n",
      "[urllib3.connectionpool][debug] https://api.imgur.com:443 \"GET /post/v1/media/yw0TzRc?include=media%2Ctags%2Caccount HTTP/1.1\" 200 469\n",
      "[urllib3.connectionpool][debug] https://i.imgur.com:443 \"GET /yw0TzRc.jpg HTTP/1.1\" 200 347879\n",
      "[983/997] https://i.imgur.com/pNkzYQU.jpg\n",
      "[gallery-dl][debug] Starting DownloadJob for 'https://i.imgur.com/pNkzYQU.jpg'\n",
      "[imgur][debug] Using ImgurImageExtractor for 'https://i.imgur.com/pNkzYQU.jpg'\n"
     ]
    },
    {
     "name": "stdout",
     "output_type": "stream",
     "text": [
      "nvme_drive/scraped_files/20220821-003129-reddit/imgur/imgur_yw0TzRc_Weapons of Mass Seduction.jpg\n"
     ]
    },
    {
     "name": "stderr",
     "output_type": "stream",
     "text": [
      "[urllib3.connectionpool][debug] https://api.imgur.com:443 \"GET /post/v1/media/pNkzYQU?include=media%2Ctags%2Caccount HTTP/1.1\" 200 485\n",
      "[urllib3.connectionpool][debug] https://i.imgur.com:443 \"GET /pNkzYQU.jpg HTTP/1.1\" 200 804975\n",
      "[984/997] https://i.imgur.com/ehsxmJz.jpg\n",
      "[gallery-dl][debug] Starting DownloadJob for 'https://i.imgur.com/ehsxmJz.jpg'\n",
      "[imgur][debug] Using ImgurImageExtractor for 'https://i.imgur.com/ehsxmJz.jpg'\n"
     ]
    },
    {
     "name": "stdout",
     "output_type": "stream",
     "text": [
      "nvme_drive/scraped_files/20220821-003129-reddit/imgur/imgur_pNkzYQU_Sonya Blaze.jpg\n",
      "nvme_drive/scraped_files/20220821-003129-reddit/imgur/imgur_ehsxmJz_Where to kiss.jpg\n"
     ]
    },
    {
     "name": "stderr",
     "output_type": "stream",
     "text": [
      "[urllib3.connectionpool][debug] https://api.imgur.com:443 \"GET /post/v1/media/ehsxmJz?include=media%2Ctags%2Caccount HTTP/1.1\" 200 486\n",
      "[urllib3.connectionpool][debug] https://i.imgur.com:443 \"GET /ehsxmJz.jpg HTTP/1.1\" 200 190057\n",
      "[985/997] https://i.redd.it/nci9uuqs4sd91.jpg\n",
      "[gallery-dl][debug] Starting DownloadJob for 'https://i.redd.it/nci9uuqs4sd91.jpg'\n",
      "[reddit][debug] Using RedditImageExtractor for 'https://i.redd.it/nci9uuqs4sd91.jpg'\n",
      "[urllib3.connectionpool][debug] https://i.redd.it:443 \"GET /nci9uuqs4sd91.jpg HTTP/1.1\" 200 295449\n",
      "[986/997] https://i.imgur.com/2l4OHr0.gifv\n",
      "[gallery-dl][debug] Starting DownloadJob for 'https://i.imgur.com/2l4OHr0.gifv'\n",
      "[imgur][debug] Using ImgurImageExtractor for 'https://i.imgur.com/2l4OHr0.gifv'\n"
     ]
    },
    {
     "name": "stdout",
     "output_type": "stream",
     "text": [
      "nvme_drive/scraped_files/20220821-003129-reddit/reddit/nci9uuqs4sd91.jpg\n"
     ]
    },
    {
     "name": "stderr",
     "output_type": "stream",
     "text": [
      "[urllib3.connectionpool][debug] https://api.imgur.com:443 \"GET /post/v1/media/2l4OHr0?include=media%2Ctags%2Caccount HTTP/1.1\" 200 464\n",
      "[urllib3.connectionpool][debug] https://i.imgur.com:443 \"GET /2l4OHr0.mp4 HTTP/1.1\" 200 7652431\n"
     ]
    },
    {
     "name": "stdout",
     "output_type": "stream",
     "text": [
      "nvme_drive/scraped_files/20220821-003129-reddit/imgur/imgur_2l4OHr0_doing her own thing.mp4\n"
     ]
    },
    {
     "name": "stderr",
     "output_type": "stream",
     "text": [
      "[987/997] https://www.redgifs.com/watch/violetbustlingquahog\n",
      "[gallery-dl][debug] Starting DownloadJob for 'https://www.redgifs.com/watch/violetbustlingquahog'\n",
      "[redgifs][debug] Using RedgifsImageExtractor for 'https://www.redgifs.com/watch/violetbustlingquahog'\n",
      "[urllib3.connectionpool][debug] https://api.redgifs.com:443 \"GET /v2/gifs/violetbustlingquahog HTTP/1.1\" 200 None\n",
      "[urllib3.connectionpool][debug] https://thumbs2.redgifs.com:443 \"GET /VioletBustlingQuahog.mp4 HTTP/1.1\" 200 41689454\n"
     ]
    },
    {
     "name": "stdout",
     "output_type": "stream",
     "text": [
      "nvme_drive/scraped_files/20220821-003129-reddit/redgifs/redgifs_violetbustlingquahog.mp4\n",
      "nvme_drive/scraped_files/20220821-003129-reddit/imgur/imgur_wbAueRU_Petite Brunette on&off from front, side, and back.jpg\n"
     ]
    },
    {
     "name": "stderr",
     "output_type": "stream",
     "text": [
      "[988/997] https://i.imgur.com/wbAueRU.jpg\n",
      "[gallery-dl][debug] Starting DownloadJob for 'https://i.imgur.com/wbAueRU.jpg'\n",
      "[imgur][debug] Using ImgurImageExtractor for 'https://i.imgur.com/wbAueRU.jpg'\n",
      "[urllib3.connectionpool][debug] https://api.imgur.com:443 \"GET /post/v1/media/wbAueRU?include=media%2Ctags%2Caccount HTTP/1.1\" 200 497\n",
      "[urllib3.connectionpool][debug] https://i.imgur.com:443 \"GET /wbAueRU.jpg HTTP/1.1\" 200 217148\n",
      "[989/997] https://i.redd.it/uike67vaoeh91.jpg\n",
      "[gallery-dl][debug] Starting DownloadJob for 'https://i.redd.it/uike67vaoeh91.jpg'\n",
      "[reddit][debug] Using RedditImageExtractor for 'https://i.redd.it/uike67vaoeh91.jpg'\n",
      "[urllib3.connectionpool][debug] https://i.redd.it:443 \"GET /uike67vaoeh91.jpg HTTP/1.1\" 200 297003\n"
     ]
    },
    {
     "name": "stdout",
     "output_type": "stream",
     "text": [
      "nvme_drive/scraped_files/20220821-003129-reddit/reddit/uike67vaoeh91.jpg\n"
     ]
    },
    {
     "name": "stderr",
     "output_type": "stream",
     "text": [
      "[990/997] https://i.imgur.com/qrJ7Kiv.jpg\n",
      "[gallery-dl][debug] Starting DownloadJob for 'https://i.imgur.com/qrJ7Kiv.jpg'\n",
      "[imgur][debug] Using ImgurImageExtractor for 'https://i.imgur.com/qrJ7Kiv.jpg'\n",
      "[urllib3.connectionpool][debug] https://api.imgur.com:443 \"GET /post/v1/media/qrJ7Kiv?include=media%2Ctags%2Caccount HTTP/1.1\" 200 486\n",
      "[urllib3.connectionpool][debug] https://i.imgur.com:443 \"GET /qrJ7Kiv.jpg HTTP/1.1\" 200 2520952\n"
     ]
    },
    {
     "name": "stdout",
     "output_type": "stream",
     "text": [
      "nvme_drive/scraped_files/20220821-003129-reddit/imgur/imgur_qrJ7Kiv_Sonya by Danyel Weideman.jpg\n",
      "nvme_drive/scraped_files/20220821-003129-reddit/imgur/imgur_60VPTEB_Hug it out.jpg\n"
     ]
    },
    {
     "name": "stderr",
     "output_type": "stream",
     "text": [
      "[991/997] https://i.imgur.com/60VPTEB.jpg\n",
      "[gallery-dl][debug] Starting DownloadJob for 'https://i.imgur.com/60VPTEB.jpg'\n",
      "[imgur][debug] Using ImgurImageExtractor for 'https://i.imgur.com/60VPTEB.jpg'\n",
      "[urllib3.connectionpool][debug] https://api.imgur.com:443 \"GET /post/v1/media/60VPTEB?include=media%2Ctags%2Caccount HTTP/1.1\" 200 487\n",
      "[urllib3.connectionpool][debug] https://i.imgur.com:443 \"GET /60VPTEB.jpg HTTP/1.1\" 200 187264\n",
      "[992/997] https://www.redgifs.com/watch/extraneousdeeppinkflicker\n",
      "[gallery-dl][debug] Starting DownloadJob for 'https://www.redgifs.com/watch/extraneousdeeppinkflicker'\n",
      "[redgifs][debug] Using RedgifsImageExtractor for 'https://www.redgifs.com/watch/extraneousdeeppinkflicker'\n",
      "[urllib3.connectionpool][debug] https://api.redgifs.com:443 \"GET /v2/gifs/extraneousdeeppinkflicker HTTP/1.1\" 200 None\n",
      "[urllib3.connectionpool][debug] https://thumbs2.redgifs.com:443 \"GET /ExtraneousDeeppinkFlicker.mp4 HTTP/1.1\" 200 9608138\n"
     ]
    },
    {
     "name": "stdout",
     "output_type": "stream",
     "text": [
      "nvme_drive/scraped_files/20220821-003129-reddit/redgifs/redgifs_extraneousdeeppinkflicker.mp4\n"
     ]
    },
    {
     "name": "stderr",
     "output_type": "stream",
     "text": [
      "[993/997] http://i.imgur.com/WObuvXB.png\n",
      "[gallery-dl][debug] Starting DownloadJob for 'http://i.imgur.com/WObuvXB.png'\n",
      "[imgur][debug] Using ImgurImageExtractor for 'http://i.imgur.com/WObuvXB.png'\n",
      "[urllib3.connectionpool][debug] https://api.imgur.com:443 \"GET /post/v1/media/WObuvXB?include=media%2Ctags%2Caccount HTTP/1.1\" 200 465\n",
      "[urllib3.connectionpool][debug] https://i.imgur.com:443 \"GET /WObuvXB.jpg HTTP/1.1\" 200 671761\n"
     ]
    },
    {
     "name": "stdout",
     "output_type": "stream",
     "text": [
      "nvme_drive/scraped_files/20220821-003129-reddit/imgur/imgur_WObuvXB_like cushion.jpg\n"
     ]
    },
    {
     "name": "stderr",
     "output_type": "stream",
     "text": [
      "[994/997] https://www.redgifs.com/watch/awfulcarefulglobefish\n",
      "[gallery-dl][debug] Starting DownloadJob for 'https://www.redgifs.com/watch/awfulcarefulglobefish'\n",
      "[redgifs][debug] Using RedgifsImageExtractor for 'https://www.redgifs.com/watch/awfulcarefulglobefish'\n",
      "[urllib3.connectionpool][debug] https://api.redgifs.com:443 \"GET /v2/gifs/awfulcarefulglobefish HTTP/1.1\" 200 None\n",
      "[urllib3.connectionpool][debug] https://thumbs2.redgifs.com:443 \"GET /AwfulCarefulGlobefish.mp4 HTTP/1.1\" 200 22880060\n"
     ]
    },
    {
     "name": "stdout",
     "output_type": "stream",
     "text": [
      "nvme_drive/scraped_files/20220821-003129-reddit/redgifs/redgifs_awfulcarefulglobefish.mp4\n",
      "nvme_drive/scraped_files/20220821-003129-reddit/imgur/imgur_I6UL3cB_No Man Can Resist - VR Porn Video - VR Popcorn.jpg\n"
     ]
    },
    {
     "name": "stderr",
     "output_type": "stream",
     "text": [
      "[995/997] https://i.imgur.com/I6UL3cB.jpg\n",
      "[gallery-dl][debug] Starting DownloadJob for 'https://i.imgur.com/I6UL3cB.jpg'\n",
      "[imgur][debug] Using ImgurImageExtractor for 'https://i.imgur.com/I6UL3cB.jpg'\n",
      "[urllib3.connectionpool][debug] https://api.imgur.com:443 \"GET /post/v1/media/I6UL3cB?include=media%2Ctags%2Caccount HTTP/1.1\" 200 485\n",
      "[urllib3.connectionpool][debug] https://i.imgur.com:443 \"GET /I6UL3cB.jpg HTTP/1.1\" 200 63037\n",
      "[996/997] https://i.imgur.com/z5lZhqd.jpg\n",
      "[gallery-dl][debug] Starting DownloadJob for 'https://i.imgur.com/z5lZhqd.jpg'\n",
      "[imgur][debug] Using ImgurImageExtractor for 'https://i.imgur.com/z5lZhqd.jpg'\n",
      "[urllib3.connectionpool][debug] https://api.imgur.com:443 \"GET /post/v1/media/z5lZhqd?include=media%2Ctags%2Caccount HTTP/1.1\" 200 496\n",
      "[urllib3.connectionpool][debug] https://i.imgur.com:443 \"GET /z5lZhqd.jpg HTTP/1.1\" 200 95333\n",
      "[997/997] https://i.imgur.com/VOMoSpl.jpeg\n",
      "[gallery-dl][debug] Starting DownloadJob for 'https://i.imgur.com/VOMoSpl.jpeg'\n",
      "[imgur][debug] Using ImgurImageExtractor for 'https://i.imgur.com/VOMoSpl.jpeg'\n",
      "[urllib3.connectionpool][debug] https://api.imgur.com:443 \"GET /post/v1/media/VOMoSpl?include=media%2Ctags%2Caccount HTTP/1.1\" 200 450\n"
     ]
    },
    {
     "name": "stdout",
     "output_type": "stream",
     "text": [
      "nvme_drive/scraped_files/20220821-003129-reddit/imgur/imgur_z5lZhqd_Zsanette Tormay (album in comments).jpg\n",
      "nvme_drive/scraped_files/20220821-003129-reddit/imgur/imgur_VOMoSpl_Lefty loosey.jpg\n"
     ]
    },
    {
     "name": "stderr",
     "output_type": "stream",
     "text": [
      "[urllib3.connectionpool][debug] https://i.imgur.com:443 \"GET /VOMoSpl.jpg HTTP/1.1\" 200 84139\n"
     ]
    },
    {
     "data": {
      "text/plain": [
       "0"
      ]
     },
     "execution_count": 24,
     "metadata": {},
     "output_type": "execute_result"
    }
   ],
   "source": [
    "os.system(COMMAND)"
   ]
  },
  {
   "cell_type": "code",
   "execution_count": 25,
   "metadata": {},
   "outputs": [],
   "source": [
    "model = load_model(ACTIVE_SAFETY_NET_MODEL_PATH)\n",
    "symbol_model = load_model(ACTIVE_SYMBOL_NET_MODEL_PATH)"
   ]
  },
  {
   "cell_type": "code",
   "execution_count": 29,
   "metadata": {},
   "outputs": [
    {
     "name": "stdout",
     "output_type": "stream",
     "text": [
      "Loading nvme_drive/scraped_files/20220821-003129-reddit/reddit/cwjxgbruiaf91.jpg\n",
      "1/1 [==============================] - 0s 42ms/step\n",
      "Image belongs to Pornographic with a 71.83 percent confidence.\n",
      "Could not find nvme_drive/scraped_files/PREDICTED_20220821-003129-reddit/Pornographic creating it now.\n",
      "Loading nvme_drive/scraped_files/20220821-003129-reddit/reddit/f00hiu19q8f91.jpg\n",
      "1/1 [==============================] - 0s 11ms/step\n",
      "Image belongs to Pornographic with a 73.38 percent confidence.\n",
      "Loading nvme_drive/scraped_files/20220821-003129-reddit/reddit/v61dosiao5g91.jpg\n",
      "1/1 [==============================] - 0s 11ms/step\n",
      "Image belongs to Racy with a 66.45 percent confidence.\n",
      "Could not find nvme_drive/scraped_files/PREDICTED_20220821-003129-reddit/Racy creating it now.\n",
      "Loading nvme_drive/scraped_files/20220821-003129-reddit/reddit/hdmk5cvs8uf91.jpg\n",
      "1/1 [==============================] - 0s 11ms/step\n",
      "Image belongs to Pornographic with a 67.55 percent confidence.\n",
      "Loading nvme_drive/scraped_files/20220821-003129-reddit/reddit/srxcivy6na471.jpg\n",
      "1/1 [==============================] - 0s 10ms/step\n",
      "Image belongs to Pornographic with a 84.68 percent confidence.\n",
      "Loading nvme_drive/scraped_files/20220821-003129-reddit/reddit/3up9py72a2e91.jpg\n",
      "1/1 [==============================] - 0s 10ms/step\n",
      "Image belongs to None with a 83.48 percent confidence.\n",
      "Could not find nvme_drive/scraped_files/PREDICTED_20220821-003129-reddit/None creating it now.\n",
      "Loading nvme_drive/scraped_files/20220821-003129-reddit/reddit/b1cvobzkmji91.jpg\n",
      "1/1 [==============================] - 0s 10ms/step\n",
      "Image belongs to Pornographic with a 79.35 percent confidence.\n",
      "Loading nvme_drive/scraped_files/20220821-003129-reddit/reddit/lmrjqz4vjje91.jpg\n",
      "1/1 [==============================] - 0s 10ms/step\n",
      "Image belongs to Pornographic with a 95.58 percent confidence.\n",
      "Loading nvme_drive/scraped_files/20220821-003129-reddit/reddit/lgk9r4bgvkh91.jpg\n",
      "1/1 [==============================] - 0s 10ms/step\n",
      "Image belongs to Pornographic with a 90.52 percent confidence.\n",
      "Loading nvme_drive/scraped_files/20220821-003129-reddit/reddit/gp7m2rakfre91.jpg\n",
      "1/1 [==============================] - 0s 10ms/step\n",
      "Image belongs to Pornographic with a 96.26 percent confidence.\n",
      "Loading nvme_drive/scraped_files/20220821-003129-reddit/reddit/tswmml38wei91.jpg\n",
      "1/1 [==============================] - 0s 10ms/step\n",
      "Image belongs to Pornographic with a 91.77 percent confidence.\n",
      "Loading nvme_drive/scraped_files/20220821-003129-reddit/reddit/jzb8bre7ufg91.jpg\n",
      "1/1 [==============================] - 0s 10ms/step\n",
      "Image belongs to Pornographic with a 63.28 percent confidence.\n",
      "Loading nvme_drive/scraped_files/20220821-003129-reddit/reddit/whfvu3difwd91.jpg\n",
      "1/1 [==============================] - 0s 11ms/step\n",
      "Image belongs to None with a 75.11 percent confidence.\n",
      "Loading nvme_drive/scraped_files/20220821-003129-reddit/reddit/13ccz6tqq3d91.jpg\n",
      "1/1 [==============================] - 0s 11ms/step\n",
      "Image belongs to None with a 51.26 percent confidence.\n",
      "Loading nvme_drive/scraped_files/20220821-003129-reddit/reddit/qo24bcw7v7i91.jpg\n",
      "1/1 [==============================] - 0s 10ms/step\n",
      "Image belongs to Pornographic with a 75.96 percent confidence.\n",
      "Loading nvme_drive/scraped_files/20220821-003129-reddit/reddit/x9amcvh924h91.jpg\n",
      "1/1 [==============================] - 0s 10ms/step\n",
      "Image belongs to Pornographic with a 77.39 percent confidence.\n",
      "Loading nvme_drive/scraped_files/20220821-003129-reddit/reddit/nl3s4jjgnke91.jpg\n",
      "1/1 [==============================] - 0s 10ms/step\n",
      "Image belongs to Pornographic with a 66.91 percent confidence.\n",
      "Loading nvme_drive/scraped_files/20220821-003129-reddit/reddit/rg18hh88hhg91.jpg\n",
      "1/1 [==============================] - 0s 10ms/step\n",
      "Image belongs to Pornographic with a 59.03 percent confidence.\n",
      "Loading nvme_drive/scraped_files/20220821-003129-reddit/reddit/b5sexv8r46g91.jpg\n",
      "1/1 [==============================] - 0s 10ms/step\n",
      "Image belongs to Pornographic with a 54.24 percent confidence.\n",
      "Loading nvme_drive/scraped_files/20220821-003129-reddit/reddit/1mw6w6fjdqg91.jpg\n",
      "1/1 [==============================] - 0s 10ms/step\n",
      "Image belongs to Pornographic with a 75.13 percent confidence.\n",
      "Loading nvme_drive/scraped_files/20220821-003129-reddit/reddit/msajwes9wia91.jpg\n",
      "1/1 [==============================] - 0s 10ms/step\n",
      "Image belongs to Pornographic with a 91.91 percent confidence.\n",
      "Loading nvme_drive/scraped_files/20220821-003129-reddit/reddit/vy38lpkfjci91.jpg\n",
      "1/1 [==============================] - 0s 10ms/step\n",
      "Image belongs to Pornographic with a 66.87 percent confidence.\n",
      "Loading nvme_drive/scraped_files/20220821-003129-reddit/reddit/m7i15y7i8ae91.jpg\n",
      "1/1 [==============================] - 0s 10ms/step\n",
      "Image belongs to None with a 55.20 percent confidence.\n",
      "Loading nvme_drive/scraped_files/20220821-003129-reddit/reddit/8x1x9pwbhie91.jpg\n",
      "1/1 [==============================] - 0s 10ms/step\n",
      "Image belongs to Pornographic with a 94.09 percent confidence.\n",
      "Loading nvme_drive/scraped_files/20220821-003129-reddit/reddit/5lh53jrjaji91.jpg\n",
      "1/1 [==============================] - 0s 10ms/step\n",
      "Image belongs to Pornographic with a 49.20 percent confidence.\n",
      "Loading nvme_drive/scraped_files/20220821-003129-reddit/reddit/5856uuehjxg91.jpg\n",
      "1/1 [==============================] - 0s 10ms/step\n",
      "Image belongs to Pornographic with a 75.24 percent confidence.\n",
      "Loading nvme_drive/scraped_files/20220821-003129-reddit/reddit/tojzzzo05dd91.jpg\n",
      "1/1 [==============================] - 0s 10ms/step\n",
      "Image belongs to Pornographic with a 97.42 percent confidence.\n",
      "Loading nvme_drive/scraped_files/20220821-003129-reddit/reddit/6y3aob9ukug91.jpg\n",
      "1/1 [==============================] - 0s 10ms/step\n",
      "Image belongs to Pornographic with a 86.62 percent confidence.\n",
      "Loading nvme_drive/scraped_files/20220821-003129-reddit/reddit/xjm311pvrae91.jpg\n",
      "1/1 [==============================] - 0s 10ms/step\n",
      "Image belongs to Racy with a 77.04 percent confidence.\n",
      "Loading nvme_drive/scraped_files/20220821-003129-reddit/reddit/1txmq6ugkmf91.jpg\n",
      "1/1 [==============================] - 0s 10ms/step\n",
      "Image belongs to Pornographic with a 78.51 percent confidence.\n",
      "Loading nvme_drive/scraped_files/20220821-003129-reddit/reddit/i9rd51zat7i91.jpg\n",
      "1/1 [==============================] - 0s 10ms/step\n",
      "Image belongs to Pornographic with a 48.40 percent confidence.\n",
      "Loading nvme_drive/scraped_files/20220821-003129-reddit/reddit/3f0ohnrqm8h91.jpg\n",
      "1/1 [==============================] - 0s 10ms/step\n",
      "Image belongs to Pornographic with a 88.02 percent confidence.\n",
      "Loading nvme_drive/scraped_files/20220821-003129-reddit/reddit/2s9ylx1554d91.jpg\n",
      "1/1 [==============================] - 0s 10ms/step\n",
      "Image belongs to Pornographic with a 66.09 percent confidence.\n",
      "Loading nvme_drive/scraped_files/20220821-003129-reddit/reddit/xnpvkj9idjh91.jpg\n",
      "1/1 [==============================] - 0s 10ms/step\n",
      "Image belongs to Pornographic with a 60.00 percent confidence.\n",
      "Loading nvme_drive/scraped_files/20220821-003129-reddit/reddit/zer3k1mkq9d91.jpg\n",
      "1/1 [==============================] - 0s 10ms/step\n",
      "Image belongs to Pornographic with a 70.63 percent confidence.\n",
      "Loading nvme_drive/scraped_files/20220821-003129-reddit/reddit/7t059ftk3ii91.jpg\n",
      "1/1 [==============================] - 0s 10ms/step\n",
      "Image belongs to Pornographic with a 93.45 percent confidence.\n",
      "Loading nvme_drive/scraped_files/20220821-003129-reddit/reddit/hup2l9y637i91.jpg\n",
      "1/1 [==============================] - 0s 10ms/step\n",
      "Image belongs to Racy with a 52.30 percent confidence.\n",
      "Loading nvme_drive/scraped_files/20220821-003129-reddit/reddit/eo0efyeo2ee91.jpg\n",
      "1/1 [==============================] - 0s 10ms/step\n",
      "Image belongs to Pornographic with a 90.04 percent confidence.\n",
      "Loading nvme_drive/scraped_files/20220821-003129-reddit/reddit/we4b33zeb6h91.jpg\n",
      "1/1 [==============================] - 0s 10ms/step\n",
      "Image belongs to Pornographic with a 92.53 percent confidence.\n",
      "Loading nvme_drive/scraped_files/20220821-003129-reddit/reddit/zezw9ckg9rg91.jpg\n",
      "1/1 [==============================] - 0s 10ms/step\n",
      "Image belongs to Pornographic with a 90.11 percent confidence.\n",
      "Loading nvme_drive/scraped_files/20220821-003129-reddit/reddit/wvizwd1nzqd91.jpg\n",
      "1/1 [==============================] - 0s 10ms/step\n",
      "Image belongs to Pornographic with a 45.85 percent confidence.\n",
      "Loading nvme_drive/scraped_files/20220821-003129-reddit/reddit/rhapizkrg1f91.jpg\n",
      "1/1 [==============================] - 0s 10ms/step\n",
      "Image belongs to Pornographic with a 51.69 percent confidence.\n",
      "Loading nvme_drive/scraped_files/20220821-003129-reddit/reddit/abc3t0iocah91.jpg\n",
      "1/1 [==============================] - 0s 10ms/step\n",
      "Image belongs to Pornographic with a 55.60 percent confidence.\n",
      "Loading nvme_drive/scraped_files/20220821-003129-reddit/reddit/pcbpp7z7jjg91.jpg\n",
      "1/1 [==============================] - 0s 10ms/step\n",
      "Image belongs to None with a 97.10 percent confidence.\n",
      "Loading nvme_drive/scraped_files/20220821-003129-reddit/reddit/bzsvipy05ii91.jpg\n",
      "1/1 [==============================] - 0s 10ms/step\n",
      "Image belongs to Pornographic with a 54.53 percent confidence.\n",
      "Loading nvme_drive/scraped_files/20220821-003129-reddit/reddit/g2vv0zaohed91.jpg\n",
      "1/1 [==============================] - 0s 10ms/step\n",
      "Image belongs to Pornographic with a 91.40 percent confidence.\n",
      "Loading nvme_drive/scraped_files/20220821-003129-reddit/reddit/plmlkwwozgi91.jpg\n",
      "1/1 [==============================] - 0s 10ms/step\n",
      "Image belongs to Pornographic with a 50.59 percent confidence.\n",
      "Loading nvme_drive/scraped_files/20220821-003129-reddit/reddit/88n312m4fue91.jpg\n",
      "1/1 [==============================] - 0s 10ms/step\n",
      "Image belongs to Pornographic with a 84.39 percent confidence.\n",
      "Loading nvme_drive/scraped_files/20220821-003129-reddit/reddit/ja6s2nc9vcd91.jpg\n",
      "1/1 [==============================] - 0s 10ms/step\n",
      "Image belongs to Pornographic with a 78.72 percent confidence.\n",
      "Loading nvme_drive/scraped_files/20220821-003129-reddit/reddit/gp4v571droh91.jpg\n",
      "1/1 [==============================] - 0s 10ms/step\n",
      "Image belongs to Pornographic with a 97.57 percent confidence.\n",
      "Loading nvme_drive/scraped_files/20220821-003129-reddit/reddit/qmvagtn8x8d91.jpg\n",
      "1/1 [==============================] - 0s 10ms/step\n",
      "Image belongs to Pornographic with a 61.19 percent confidence.\n",
      "Loading nvme_drive/scraped_files/20220821-003129-reddit/reddit/ikzrnhrwknd91.jpg\n",
      "1/1 [==============================] - 0s 10ms/step\n",
      "Image belongs to None with a 89.60 percent confidence.\n",
      "Loading nvme_drive/scraped_files/20220821-003129-reddit/reddit/eorf5j447be91.jpg\n",
      "1/1 [==============================] - 0s 10ms/step\n",
      "Image belongs to None with a 38.46 percent confidence.\n",
      "Loading nvme_drive/scraped_files/20220821-003129-reddit/reddit/m76jehg3b3e91.jpg\n",
      "1/1 [==============================] - 0s 10ms/step\n",
      "Image belongs to None with a 57.64 percent confidence.\n",
      "Loading nvme_drive/scraped_files/20220821-003129-reddit/reddit/nkjngeyhuzh91.jpg\n",
      "1/1 [==============================] - 0s 10ms/step\n",
      "Image belongs to Pornographic with a 47.77 percent confidence.\n",
      "Loading nvme_drive/scraped_files/20220821-003129-reddit/reddit/ugb30mt5f4h91.jpg\n",
      "1/1 [==============================] - 0s 10ms/step\n",
      "Image belongs to Pornographic with a 71.39 percent confidence.\n",
      "Loading nvme_drive/scraped_files/20220821-003129-reddit/reddit/3v4ello3dbg91.jpg\n",
      "1/1 [==============================] - 0s 10ms/step\n",
      "Image belongs to Pornographic with a 52.30 percent confidence.\n",
      "Loading nvme_drive/scraped_files/20220821-003129-reddit/reddit/nci9uuqs4sd91.jpg\n",
      "1/1 [==============================] - 0s 10ms/step\n",
      "Image belongs to Pornographic with a 93.64 percent confidence.\n",
      "Loading nvme_drive/scraped_files/20220821-003129-reddit/reddit/eiucmqajdsg91.jpg\n",
      "1/1 [==============================] - 0s 10ms/step\n",
      "Image belongs to Pornographic with a 76.84 percent confidence.\n",
      "Loading nvme_drive/scraped_files/20220821-003129-reddit/reddit/gkgvqv6n0wf91.jpg\n",
      "1/1 [==============================] - 0s 10ms/step\n",
      "Image belongs to Pornographic with a 90.00 percent confidence.\n",
      "Loading nvme_drive/scraped_files/20220821-003129-reddit/reddit/q2o4x7aaneh91.jpg\n",
      "1/1 [==============================] - 0s 10ms/step\n",
      "Image belongs to Pornographic with a 46.51 percent confidence.\n",
      "Loading nvme_drive/scraped_files/20220821-003129-reddit/reddit/wy00mya3jcd91.jpg\n",
      "1/1 [==============================] - 0s 10ms/step\n",
      "Image belongs to Pornographic with a 67.46 percent confidence.\n",
      "Loading nvme_drive/scraped_files/20220821-003129-reddit/reddit/pfxr85lp9ee91.jpg\n",
      "1/1 [==============================] - 0s 10ms/step\n",
      "Image belongs to None with a 60.24 percent confidence.\n",
      "Loading nvme_drive/scraped_files/20220821-003129-reddit/reddit/debnp7xsdt171.jpg\n",
      "1/1 [==============================] - 0s 10ms/step\n",
      "Image belongs to Pornographic with a 45.37 percent confidence.\n",
      "Loading nvme_drive/scraped_files/20220821-003129-reddit/reddit/xixvvlwnq4h91.jpg\n",
      "1/1 [==============================] - 0s 10ms/step\n",
      "Image belongs to Pornographic with a 64.73 percent confidence.\n",
      "Loading nvme_drive/scraped_files/20220821-003129-reddit/reddit/uike67vaoeh91.jpg\n",
      "1/1 [==============================] - 0s 10ms/step\n",
      "Image belongs to Pornographic with a 94.89 percent confidence.\n",
      "Loading nvme_drive/scraped_files/20220821-003129-reddit/reddit/wn8bblcxkah91.jpg\n",
      "1/1 [==============================] - 0s 10ms/step\n",
      "Image belongs to Pornographic with a 93.90 percent confidence.\n",
      "Loading nvme_drive/scraped_files/20220821-003129-reddit/reddit/wfaeej4kq3i91.jpg\n",
      "1/1 [==============================] - 0s 10ms/step\n",
      "Image belongs to Pornographic with a 92.94 percent confidence.\n",
      "Loading nvme_drive/scraped_files/20220821-003129-reddit/reddit/nv8vx9bpvjh91.jpg\n",
      "1/1 [==============================] - 0s 10ms/step\n",
      "Image belongs to Pornographic with a 95.50 percent confidence.\n",
      "Loading nvme_drive/scraped_files/20220821-003129-reddit/reddit/zu156frpw9i91.jpg\n",
      "1/1 [==============================] - 0s 10ms/step\n",
      "Image belongs to Pornographic with a 56.29 percent confidence.\n",
      "Loading nvme_drive/scraped_files/20220821-003129-reddit/reddit/zz9v9ucjsle91.jpg\n",
      "1/1 [==============================] - 0s 10ms/step\n",
      "Image belongs to None with a 99.34 percent confidence.\n",
      "Loading nvme_drive/scraped_files/20220821-003129-reddit/reddit/tquxr9kkjod91.jpg\n",
      "1/1 [==============================] - 0s 10ms/step\n",
      "Image belongs to Pornographic with a 77.16 percent confidence.\n",
      "Loading nvme_drive/scraped_files/20220821-003129-reddit/reddit/mtiu94a60zc91.jpg\n",
      "1/1 [==============================] - 0s 10ms/step\n",
      "Image belongs to Pornographic with a 59.89 percent confidence.\n",
      "Loading nvme_drive/scraped_files/20220821-003129-reddit/reddit/ctzwi4o29n591.jpg\n",
      "1/1 [==============================] - 0s 10ms/step\n",
      "Image belongs to Pornographic with a 77.81 percent confidence.\n",
      "Loading nvme_drive/scraped_files/20220821-003129-reddit/reddit/z3hbba4j59h91.jpg\n",
      "1/1 [==============================] - 0s 10ms/step\n",
      "Image belongs to Racy with a 51.89 percent confidence.\n",
      "Loading nvme_drive/scraped_files/20220821-003129-reddit/reddit/nncvg3jwjqf91.jpg\n",
      "1/1 [==============================] - 0s 10ms/step\n",
      "Image belongs to Pornographic with a 66.71 percent confidence.\n",
      "Loading nvme_drive/scraped_files/20220821-003129-reddit/reddit/nkr3338vs9d91.jpg\n",
      "1/1 [==============================] - 0s 10ms/step\n",
      "Image belongs to Pornographic with a 66.34 percent confidence.\n",
      "Loading nvme_drive/scraped_files/20220821-003129-reddit/reddit/fr9a378d3bi91.jpg\n",
      "1/1 [==============================] - 0s 10ms/step\n",
      "Image belongs to None with a 57.08 percent confidence.\n",
      "Loading nvme_drive/scraped_files/20220821-003129-reddit/reddit/bj44dc1mk1f91.jpg\n",
      "1/1 [==============================] - 0s 10ms/step\n",
      "Image belongs to Pornographic with a 69.09 percent confidence.\n",
      "Loading nvme_drive/scraped_files/20220821-003129-reddit/reddit/brxvgha037e91.jpg\n",
      "1/1 [==============================] - 0s 10ms/step\n",
      "Image belongs to Pornographic with a 88.90 percent confidence.\n",
      "Loading nvme_drive/scraped_files/20220821-003129-reddit/reddit/jfg5ghppyjh91.jpg\n",
      "1/1 [==============================] - 0s 10ms/step\n",
      "Image belongs to Pornographic with a 77.87 percent confidence.\n",
      "Loading nvme_drive/scraped_files/20220821-003129-reddit/reddit/34fou1pv9kd91.jpg\n",
      "1/1 [==============================] - 0s 10ms/step\n",
      "Image belongs to None with a 86.24 percent confidence.\n",
      "Loading nvme_drive/scraped_files/20220821-003129-reddit/reddit/io88dp03irg91.jpg\n",
      "1/1 [==============================] - 0s 10ms/step\n",
      "Image belongs to Pornographic with a 87.66 percent confidence.\n",
      "Loading nvme_drive/scraped_files/20220821-003129-reddit/reddit/ywn7edb39pd91.jpg\n",
      "1/1 [==============================] - 0s 10ms/step\n",
      "Image belongs to Pornographic with a 54.64 percent confidence.\n",
      "Loading nvme_drive/scraped_files/20220821-003129-reddit/reddit/3xp25dlthfe91.jpg\n",
      "1/1 [==============================] - 0s 10ms/step\n",
      "Image belongs to None with a 49.12 percent confidence.\n",
      "Loading nvme_drive/scraped_files/20220821-003129-reddit/reddit/ifq4z72ymae91.jpg\n",
      "1/1 [==============================] - 0s 10ms/step\n",
      "Image belongs to Pornographic with a 75.36 percent confidence.\n",
      "Loading nvme_drive/scraped_files/20220821-003129-reddit/reddit/d42fpw0gmaf91.jpg\n",
      "1/1 [==============================] - 0s 10ms/step\n",
      "Image belongs to Pornographic with a 80.63 percent confidence.\n",
      "Loading nvme_drive/scraped_files/20220821-003129-reddit/reddit/9kajrtsz6mi91.jpg\n",
      "1/1 [==============================] - 0s 10ms/step\n",
      "Image belongs to Pornographic with a 69.94 percent confidence.\n",
      "Loading nvme_drive/scraped_files/20220821-003129-reddit/reddit/xfg3aws5e4g91.jpg\n",
      "1/1 [==============================] - 0s 10ms/step\n",
      "Image belongs to Pornographic with a 62.64 percent confidence.\n",
      "Loading nvme_drive/scraped_files/20220821-003129-reddit/reddit/5tuydbrvo6e91.jpg\n",
      "1/1 [==============================] - 0s 10ms/step\n",
      "Image belongs to Pornographic with a 76.88 percent confidence.\n",
      "Loading nvme_drive/scraped_files/20220821-003129-reddit/reddit/mj192vwlpfh91.jpg\n",
      "1/1 [==============================] - 0s 10ms/step\n",
      "Image belongs to Pornographic with a 71.53 percent confidence.\n",
      "Loading nvme_drive/scraped_files/20220821-003129-reddit/reddit/nfy7yb8vyki91.jpg\n",
      "1/1 [==============================] - 0s 10ms/step\n",
      "Image belongs to Pornographic with a 64.76 percent confidence.\n",
      "Loading nvme_drive/scraped_files/20220821-003129-reddit/reddit/msyk6wcdwia91.jpg\n",
      "1/1 [==============================] - 0s 10ms/step\n",
      "Image belongs to Pornographic with a 87.06 percent confidence.\n",
      "Loading nvme_drive/scraped_files/20220821-003129-reddit/reddit/p8jajurdnjg91.jpg\n",
      "1/1 [==============================] - 0s 11ms/step\n",
      "Image belongs to Pornographic with a 70.82 percent confidence.\n",
      "Loading nvme_drive/scraped_files/20220821-003129-reddit/reddit/b0a0c17pjjc91.jpg\n",
      "1/1 [==============================] - 0s 10ms/step\n",
      "Image belongs to Pornographic with a 80.15 percent confidence.\n",
      "Loading nvme_drive/scraped_files/20220821-003129-reddit/reddit/c63iln9olpe91.jpg\n",
      "1/1 [==============================] - 0s 11ms/step\n",
      "Image belongs to None with a 85.10 percent confidence.\n",
      "Loading nvme_drive/scraped_files/20220821-003129-reddit/reddit/87puad1dt8g91.jpg\n",
      "1/1 [==============================] - 0s 11ms/step\n",
      "Image belongs to Pornographic with a 60.01 percent confidence.\n",
      "Loading nvme_drive/scraped_files/20220821-003129-reddit/reddit/nbd6imkcwjf91.jpg\n",
      "1/1 [==============================] - 0s 10ms/step\n",
      "Image belongs to Pornographic with a 66.62 percent confidence.\n",
      "Loading nvme_drive/scraped_files/20220821-003129-reddit/reddit/jmhhlfj2rqd91.jpg\n",
      "1/1 [==============================] - 0s 10ms/step\n",
      "Image belongs to Pornographic with a 63.91 percent confidence.\n",
      "Loading nvme_drive/scraped_files/20220821-003129-reddit/reddit/gi5ux5yg57g91.jpg\n",
      "1/1 [==============================] - 0s 10ms/step\n",
      "Image belongs to Pornographic with a 94.36 percent confidence.\n",
      "Loading nvme_drive/scraped_files/20220821-003129-reddit/reddit/65sjq94o86e91.jpg\n",
      "1/1 [==============================] - 0s 10ms/step\n",
      "Image belongs to Pornographic with a 88.11 percent confidence.\n",
      "Loading nvme_drive/scraped_files/20220821-003129-reddit/reddit/hdkcify4g3d91.jpg\n",
      "1/1 [==============================] - 0s 10ms/step\n",
      "Image belongs to None with a 62.71 percent confidence.\n",
      "Loading nvme_drive/scraped_files/20220821-003129-reddit/reddit/qj081c4ihve91.jpg\n",
      "1/1 [==============================] - 0s 10ms/step\n",
      "Image belongs to Pornographic with a 89.68 percent confidence.\n",
      "Loading nvme_drive/scraped_files/20220821-003129-reddit/reddit/7v2v2v83yud91.jpg\n",
      "1/1 [==============================] - 0s 10ms/step\n",
      "Image belongs to Pornographic with a 93.43 percent confidence.\n",
      "Loading nvme_drive/scraped_files/20220821-003129-reddit/reddit/4wyovmgnk9g91.jpg\n",
      "1/1 [==============================] - 0s 10ms/step\n",
      "Image belongs to Pornographic with a 91.71 percent confidence.\n",
      "Loading nvme_drive/scraped_files/20220821-003129-reddit/reddit/j0onazpxd0y81.jpg\n",
      "1/1 [==============================] - 0s 10ms/step\n",
      "Image belongs to Pornographic with a 84.42 percent confidence.\n",
      "Loading nvme_drive/scraped_files/20220821-003129-reddit/reddit/6nfaz92485f91.jpg\n",
      "1/1 [==============================] - 0s 10ms/step\n",
      "Image belongs to Gore with a 54.67 percent confidence.\n",
      "Could not find nvme_drive/scraped_files/PREDICTED_20220821-003129-reddit/Gore creating it now.\n",
      "Loading nvme_drive/scraped_files/20220821-003129-reddit/reddit/uslad6rhlpd91.jpg\n",
      "1/1 [==============================] - 0s 10ms/step\n",
      "Image belongs to Pornographic with a 52.42 percent confidence.\n",
      "Loading nvme_drive/scraped_files/20220821-003129-reddit/reddit/kcap0cawryb91.jpg\n",
      "1/1 [==============================] - 0s 10ms/step\n",
      "Image belongs to Pornographic with a 92.64 percent confidence.\n",
      "Loading nvme_drive/scraped_files/20220821-003129-reddit/reddit/lzs8cy2w73f91.jpg\n",
      "1/1 [==============================] - 0s 10ms/step\n",
      "Image belongs to Pornographic with a 71.04 percent confidence.\n",
      "Loading nvme_drive/scraped_files/20220821-003129-reddit/reddit/pyafdmpt6ge91.jpg\n",
      "1/1 [==============================] - 0s 10ms/step\n",
      "Image belongs to Pornographic with a 89.05 percent confidence.\n",
      "Loading nvme_drive/scraped_files/20220821-003129-reddit/reddit/z9sxt3ozu7h91.jpg\n",
      "1/1 [==============================] - 0s 10ms/step\n",
      "Image belongs to Pornographic with a 86.98 percent confidence.\n",
      "Loading nvme_drive/scraped_files/20220821-003129-reddit/reddit/t6iyhawgdjf91.jpg\n",
      "1/1 [==============================] - 0s 10ms/step\n",
      "Image belongs to Pornographic with a 77.17 percent confidence.\n",
      "Loading nvme_drive/scraped_files/20220821-003129-reddit/reddit/4bgx7r9vcwf91.jpg\n",
      "1/1 [==============================] - 0s 10ms/step\n",
      "Image belongs to Pornographic with a 87.11 percent confidence.\n",
      "Loading nvme_drive/scraped_files/20220821-003129-reddit/reddit/tfrdrpl6c7g91.jpg\n",
      "1/1 [==============================] - 0s 10ms/step\n",
      "Image belongs to Pornographic with a 73.36 percent confidence.\n",
      "Loading nvme_drive/scraped_files/20220821-003129-reddit/reddit/xkhbn7yjv2h91.jpg\n",
      "1/1 [==============================] - 0s 10ms/step\n",
      "Image belongs to Pornographic with a 83.03 percent confidence.\n",
      "Loading nvme_drive/scraped_files/20220821-003129-reddit/reddit/5ogp4t21qtf91.jpg\n",
      "1/1 [==============================] - 0s 10ms/step\n",
      "Image belongs to Pornographic with a 66.20 percent confidence.\n",
      "Loading nvme_drive/scraped_files/20220821-003129-reddit/reddit/tcvty409wag91.jpg\n",
      "1/1 [==============================] - 0s 10ms/step\n",
      "Image belongs to Pornographic with a 78.14 percent confidence.\n",
      "Loading nvme_drive/scraped_files/20220821-003129-reddit/reddit/o4tm5yryiff91.jpg\n",
      "1/1 [==============================] - 0s 10ms/step\n",
      "Image belongs to Racy with a 89.09 percent confidence.\n",
      "Loading nvme_drive/scraped_files/20220821-003129-reddit/reddit/11cq75rdxai91.jpg\n",
      "1/1 [==============================] - 0s 10ms/step\n",
      "Image belongs to Pornographic with a 91.46 percent confidence.\n",
      "Loading nvme_drive/scraped_files/20220821-003129-reddit/reddit/5uaoqx9ziei91.jpg\n",
      "1/1 [==============================] - 0s 10ms/step\n",
      "Image belongs to Pornographic with a 69.71 percent confidence.\n",
      "Loading nvme_drive/scraped_files/20220821-003129-reddit/reddit/1ynalj8ce8e91.jpg\n",
      "1/1 [==============================] - 0s 10ms/step\n",
      "Image belongs to Pornographic with a 84.29 percent confidence.\n",
      "Loading nvme_drive/scraped_files/20220821-003129-reddit/reddit/k7c8dk2560m81.jpg\n",
      "1/1 [==============================] - 0s 10ms/step\n",
      "Image belongs to Pornographic with a 74.78 percent confidence.\n",
      "Loading nvme_drive/scraped_files/20220821-003129-reddit/reddit/gt9f5o0vwhi91.jpg\n",
      "1/1 [==============================] - 0s 10ms/step\n",
      "Image belongs to Pornographic with a 73.48 percent confidence.\n",
      "Loading nvme_drive/scraped_files/20220821-003129-reddit/reddit/e4iejcj89vd91.jpg\n",
      "1/1 [==============================] - 0s 10ms/step\n",
      "Image belongs to Pornographic with a 70.40 percent confidence.\n",
      "Loading nvme_drive/scraped_files/20220821-003129-reddit/reddit/orwhfa9ozai91.jpg\n",
      "1/1 [==============================] - 0s 10ms/step\n",
      "Image belongs to Pornographic with a 53.53 percent confidence.\n",
      "Loading nvme_drive/scraped_files/20220821-003129-reddit/reddit/ch33foe7swg91.jpg\n",
      "1/1 [==============================] - 0s 10ms/step\n",
      "Image belongs to Pornographic with a 49.31 percent confidence.\n",
      "Loading nvme_drive/scraped_files/20220821-003129-reddit/reddit/su2mvmxe0di91.jpg\n",
      "1/1 [==============================] - 0s 10ms/step\n",
      "Image belongs to Pornographic with a 82.96 percent confidence.\n",
      "Loading nvme_drive/scraped_files/20220821-003129-reddit/reddit/p1d8znlah4f91.jpg\n",
      "1/1 [==============================] - 0s 10ms/step\n",
      "Image belongs to Pornographic with a 69.48 percent confidence.\n",
      "Loading nvme_drive/scraped_files/20220821-003129-reddit/reddit/386am86yf9i91.jpg\n",
      "1/1 [==============================] - 0s 10ms/step\n",
      "Image belongs to Pornographic with a 59.15 percent confidence.\n",
      "Loading nvme_drive/scraped_files/20220821-003129-reddit/reddit/hg0uu3i04be91.jpg\n",
      "1/1 [==============================] - 0s 10ms/step\n",
      "Image belongs to Pornographic with a 77.94 percent confidence.\n",
      "Loading nvme_drive/scraped_files/20220821-003129-reddit/reddit/gkf18kcs4fi91.jpg\n",
      "1/1 [==============================] - 0s 10ms/step\n",
      "Image belongs to Pornographic with a 66.31 percent confidence.\n",
      "Loading nvme_drive/scraped_files/20220821-003129-reddit/reddit/45fu34ooead91.jpg\n",
      "1/1 [==============================] - 0s 10ms/step\n",
      "Image belongs to Pornographic with a 66.86 percent confidence.\n",
      "Loading nvme_drive/scraped_files/20220821-003129-reddit/reddit/dsuqowq385d91.jpg\n",
      "1/1 [==============================] - 0s 10ms/step\n",
      "Image belongs to Pornographic with a 75.64 percent confidence.\n",
      "Loading nvme_drive/scraped_files/20220821-003129-reddit/reddit/am77guzz0ng91.jpg\n",
      "1/1 [==============================] - 0s 10ms/step\n",
      "Image belongs to Pornographic with a 75.42 percent confidence.\n",
      "Loading nvme_drive/scraped_files/20220821-003129-reddit/reddit/bz8kyefrxfd91.jpg\n",
      "1/1 [==============================] - 0s 10ms/step\n",
      "Image belongs to Pornographic with a 84.88 percent confidence.\n",
      "Loading nvme_drive/scraped_files/20220821-003129-reddit/reddit/h33tw44y2tf91.jpg\n",
      "1/1 [==============================] - 0s 10ms/step\n",
      "Image belongs to Racy with a 79.35 percent confidence.\n",
      "Loading nvme_drive/scraped_files/20220821-003129-reddit/reddit/4eb4p228l7a71.jpg\n",
      "1/1 [==============================] - 0s 10ms/step\n",
      "Image belongs to Pornographic with a 95.41 percent confidence.\n",
      "Loading nvme_drive/scraped_files/20220821-003129-reddit/reddit/rtu0z43mhah91.jpg\n",
      "1/1 [==============================] - 0s 10ms/step\n",
      "Image belongs to Pornographic with a 55.70 percent confidence.\n",
      "Loading nvme_drive/scraped_files/20220821-003129-reddit/reddit/qvue7v389yd91.jpg\n",
      "1/1 [==============================] - 0s 10ms/step\n",
      "Image belongs to Pornographic with a 66.66 percent confidence.\n",
      "Loading nvme_drive/scraped_files/20220821-003129-reddit/reddit/15n05iqn5jf91.jpg\n",
      "1/1 [==============================] - 0s 10ms/step\n",
      "Image belongs to Racy with a 61.89 percent confidence.\n",
      "Loading nvme_drive/scraped_files/20220821-003129-reddit/reddit/ogdmi120hmh91.jpg\n",
      "1/1 [==============================] - 0s 10ms/step\n",
      "Image belongs to Pornographic with a 94.32 percent confidence.\n",
      "Loading nvme_drive/scraped_files/20220821-003129-reddit/reddit/a2uh7k7hy3e91.jpg\n",
      "1/1 [==============================] - 0s 10ms/step\n",
      "Image belongs to Pornographic with a 81.01 percent confidence.\n",
      "Loading nvme_drive/scraped_files/20220821-003129-reddit/reddit/zzaes2qtl0f91.jpg\n",
      "1/1 [==============================] - 0s 10ms/step\n",
      "Image belongs to Pornographic with a 84.08 percent confidence.\n",
      "Loading nvme_drive/scraped_files/20220821-003129-reddit/reddit/78ipgxqmgeh91.jpg\n",
      "1/1 [==============================] - 0s 10ms/step\n",
      "Image belongs to Pornographic with a 76.39 percent confidence.\n",
      "Loading nvme_drive/scraped_files/20220821-003129-reddit/reddit/odml9ia77lg91.jpg\n",
      "1/1 [==============================] - 0s 10ms/step\n",
      "Image belongs to Racy with a 39.23 percent confidence.\n",
      "Loading nvme_drive/scraped_files/20220821-003129-reddit/reddit/26yqmhsxaeg91.jpg\n",
      "1/1 [==============================] - 0s 10ms/step\n",
      "Image belongs to Pornographic with a 66.75 percent confidence.\n",
      "Loading nvme_drive/scraped_files/20220821-003129-reddit/reddit/xtmqh0ztecg91.jpg\n",
      "1/1 [==============================] - 0s 10ms/step\n",
      "Image belongs to Pornographic with a 85.55 percent confidence.\n",
      "Loading nvme_drive/scraped_files/20220821-003129-reddit/reddit/q4tcrf11xbh91.jpg\n",
      "1/1 [==============================] - 0s 10ms/step\n",
      "Image belongs to Pornographic with a 92.92 percent confidence.\n",
      "Loading nvme_drive/scraped_files/20220821-003129-reddit/reddit/tsr8ipsnuhd91.jpg\n",
      "1/1 [==============================] - 0s 10ms/step\n",
      "Image belongs to Pornographic with a 89.80 percent confidence.\n",
      "Loading nvme_drive/scraped_files/20220821-003129-reddit/reddit/phyz9n3vb3h91.jpg\n",
      "1/1 [==============================] - 0s 10ms/step\n",
      "Image belongs to Pornographic with a 67.63 percent confidence.\n",
      "Loading nvme_drive/scraped_files/20220821-003129-reddit/reddit/u1qtf0034ke91.jpg\n",
      "1/1 [==============================] - 0s 10ms/step\n",
      "Image belongs to Pornographic with a 86.19 percent confidence.\n",
      "Loading nvme_drive/scraped_files/20220821-003129-reddit/reddit/e7go8ak3i0g91.jpg\n",
      "1/1 [==============================] - 0s 10ms/step\n",
      "Image belongs to Pornographic with a 99.60 percent confidence.\n",
      "Loading nvme_drive/scraped_files/20220821-003129-reddit/reddit/ksb3fvjprrd91.jpg\n",
      "1/1 [==============================] - 0s 10ms/step\n",
      "Image belongs to Pornographic with a 90.78 percent confidence.\n",
      "Loading nvme_drive/scraped_files/20220821-003129-reddit/reddit/sja6qpu4ihh91.jpg\n",
      "1/1 [==============================] - 0s 10ms/step\n",
      "Image belongs to Pornographic with a 76.35 percent confidence.\n",
      "Loading nvme_drive/scraped_files/20220821-003129-reddit/reddit/5x529gbza3g91.jpg\n",
      "1/1 [==============================] - 0s 10ms/step\n",
      "Image belongs to Pornographic with a 64.62 percent confidence.\n",
      "Loading nvme_drive/scraped_files/20220821-003129-reddit/reddit/kyxgcm3r1ch91.jpg\n",
      "1/1 [==============================] - 0s 10ms/step\n",
      "Image belongs to Pornographic with a 98.91 percent confidence.\n",
      "Loading nvme_drive/scraped_files/20220821-003129-reddit/reddit/0qgwdauw0pc91.jpg\n",
      "1/1 [==============================] - 0s 10ms/step\n",
      "Image belongs to Pornographic with a 78.59 percent confidence.\n",
      "Loading nvme_drive/scraped_files/20220821-003129-reddit/reddit/qtbn8lhap5h91.jpg\n",
      "1/1 [==============================] - 0s 10ms/step\n",
      "Image belongs to Pornographic with a 69.10 percent confidence.\n",
      "Loading nvme_drive/scraped_files/20220821-003129-reddit/reddit/icsl8fa4ixh91.jpg\n",
      "1/1 [==============================] - 0s 10ms/step\n",
      "Image belongs to Pornographic with a 56.03 percent confidence.\n",
      "Loading nvme_drive/scraped_files/20220821-003129-reddit/reddit/l6q9upm75hd91.jpg\n",
      "1/1 [==============================] - 0s 10ms/step\n",
      "Image belongs to Pornographic with a 96.77 percent confidence.\n",
      "Loading nvme_drive/scraped_files/20220821-003129-reddit/reddit/z911s0y9bxh91.jpg\n",
      "1/1 [==============================] - 0s 10ms/step\n",
      "Image belongs to Pornographic with a 79.02 percent confidence.\n",
      "Loading nvme_drive/scraped_files/20220821-003129-reddit/reddit/xr0l0a6n01e91.jpg\n",
      "1/1 [==============================] - 0s 10ms/step\n",
      "Image belongs to Pornographic with a 90.26 percent confidence.\n",
      "Loading nvme_drive/scraped_files/20220821-003129-reddit/reddit/f1nv88rmp5d91.jpg\n",
      "1/1 [==============================] - 0s 10ms/step\n",
      "Image belongs to Pornographic with a 90.13 percent confidence.\n",
      "Loading nvme_drive/scraped_files/20220821-003129-reddit/reddit/o1a0myynz8e91.jpg\n",
      "1/1 [==============================] - 0s 10ms/step\n",
      "Image belongs to Pornographic with a 82.64 percent confidence.\n",
      "Loading nvme_drive/scraped_files/20220821-003129-reddit/reddit/zvrhzhtlqrd91.jpg\n",
      "1/1 [==============================] - 0s 10ms/step\n",
      "Image belongs to None with a 58.45 percent confidence.\n",
      "Loading nvme_drive/scraped_files/20220821-003129-reddit/reddit/8iby2igx70t81.jpg\n",
      "1/1 [==============================] - 0s 10ms/step\n",
      "Image belongs to Pornographic with a 56.13 percent confidence.\n",
      "Loading nvme_drive/scraped_files/20220821-003129-reddit/reddit/p5hmh679amg91.jpg\n",
      "1/1 [==============================] - 0s 10ms/step\n",
      "Image belongs to Pornographic with a 68.56 percent confidence.\n",
      "Loading nvme_drive/scraped_files/20220821-003129-reddit/reddit/5ytobspobni91.jpg\n",
      "1/1 [==============================] - 0s 10ms/step\n",
      "Image belongs to Racy with a 55.20 percent confidence.\n",
      "Loading nvme_drive/scraped_files/20220821-003129-reddit/reddit/heyv598e5jm61.jpg\n",
      "1/1 [==============================] - 0s 10ms/step\n",
      "Image belongs to Pornographic with a 71.32 percent confidence.\n",
      "Loading nvme_drive/scraped_files/20220821-003129-reddit/reddit/s175mb45xag91.jpg\n",
      "1/1 [==============================] - 0s 10ms/step\n",
      "Image belongs to Pornographic with a 50.15 percent confidence.\n",
      "Loading nvme_drive/scraped_files/20220821-003129-reddit/reddit/pc2zpobhcag91.jpg\n",
      "1/1 [==============================] - 0s 10ms/step\n",
      "Image belongs to Pornographic with a 91.75 percent confidence.\n",
      "Loading nvme_drive/scraped_files/20220821-003129-reddit/reddit/crfkfinrw7g91.jpg\n",
      "1/1 [==============================] - 0s 10ms/step\n",
      "Image belongs to Pornographic with a 66.15 percent confidence.\n",
      "Loading nvme_drive/scraped_files/20220821-003129-reddit/reddit/vx397j7aw4f91.jpg\n",
      "1/1 [==============================] - 0s 10ms/step\n",
      "Image belongs to Pornographic with a 99.92 percent confidence.\n",
      "Loading nvme_drive/scraped_files/20220821-003129-reddit/reddit/qxjw7snd7fd91.jpg\n",
      "1/1 [==============================] - 0s 10ms/step\n",
      "Image belongs to Pornographic with a 54.49 percent confidence.\n",
      "Loading nvme_drive/scraped_files/20220821-003129-reddit/reddit/30c4xqf63bd91.jpg\n",
      "1/1 [==============================] - 0s 10ms/step\n",
      "Image belongs to None with a 94.77 percent confidence.\n",
      "Loading nvme_drive/scraped_files/20220821-003129-reddit/reddit/naefrli8w4e91.jpg\n",
      "1/1 [==============================] - 0s 10ms/step\n",
      "Image belongs to Pornographic with a 86.49 percent confidence.\n",
      "Loading nvme_drive/scraped_files/20220821-003129-reddit/reddit/93xikb71c9291.jpg\n",
      "1/1 [==============================] - 0s 10ms/step\n",
      "Image belongs to Pornographic with a 61.50 percent confidence.\n",
      "Loading nvme_drive/scraped_files/20220821-003129-reddit/reddit/blcphdgxz7i91.jpg\n",
      "1/1 [==============================] - 0s 10ms/step\n",
      "Image belongs to Pornographic with a 85.33 percent confidence.\n",
      "Loading nvme_drive/scraped_files/20220821-003129-reddit/reddit/pwszntq52xf91.jpg\n",
      "1/1 [==============================] - 0s 10ms/step\n",
      "Image belongs to Pornographic with a 71.26 percent confidence.\n",
      "Loading nvme_drive/scraped_files/20220821-003129-reddit/reddit/6r3hvs045qf91.jpg\n",
      "1/1 [==============================] - 0s 10ms/step\n",
      "Image belongs to Pornographic with a 89.95 percent confidence.\n",
      "Loading nvme_drive/scraped_files/20220821-003129-reddit/reddit/4o3r31wjm9g91.jpg\n",
      "1/1 [==============================] - 0s 11ms/step\n",
      "Image belongs to Pornographic with a 68.16 percent confidence.\n",
      "Loading nvme_drive/scraped_files/20220821-003129-reddit/reddit/hv5ewemrjoh91.jpg\n",
      "1/1 [==============================] - 0s 10ms/step\n",
      "Image belongs to Pornographic with a 99.51 percent confidence.\n",
      "Loading nvme_drive/scraped_files/20220821-003129-reddit/reddit/9h8pljz06hf91.jpg\n",
      "1/1 [==============================] - 0s 10ms/step\n",
      "Image belongs to Pornographic with a 85.18 percent confidence.\n",
      "Loading nvme_drive/scraped_files/20220821-003129-reddit/reddit/ignvctajhte91.jpg\n",
      "1/1 [==============================] - 0s 10ms/step\n",
      "Image belongs to Pornographic with a 53.50 percent confidence.\n",
      "Loading nvme_drive/scraped_files/20220821-003129-reddit/reddit/0zld3gxejyd91.jpg\n",
      "1/1 [==============================] - 0s 10ms/step\n",
      "Image belongs to Pornographic with a 85.66 percent confidence.\n",
      "Loading nvme_drive/scraped_files/20220821-003129-reddit/reddit/wuvkwci90le91.jpg\n",
      "1/1 [==============================] - 0s 10ms/step\n",
      "Image belongs to Pornographic with a 84.55 percent confidence.\n",
      "Loading nvme_drive/scraped_files/20220821-003129-reddit/reddit/z11quptyfci91.jpg\n",
      "1/1 [==============================] - 0s 10ms/step\n",
      "Image belongs to Pornographic with a 81.37 percent confidence.\n",
      "Loading nvme_drive/scraped_files/20220821-003129-reddit/reddit/hocldcvu4de91.jpg\n",
      "1/1 [==============================] - 0s 10ms/step\n",
      "Image belongs to Pornographic with a 76.12 percent confidence.\n",
      "Loading nvme_drive/scraped_files/20220821-003129-reddit/reddit/fm6xirau4wg91.jpg\n",
      "1/1 [==============================] - 0s 10ms/step\n",
      "Image belongs to Pornographic with a 77.54 percent confidence.\n",
      "Loading nvme_drive/scraped_files/20220821-003129-reddit/reddit/h1hddodx4qh91.jpg\n",
      "1/1 [==============================] - 0s 10ms/step\n",
      "Image belongs to Pornographic with a 78.12 percent confidence.\n",
      "Loading nvme_drive/scraped_files/20220821-003129-reddit/reddit/6htc2k645pd91.jpg\n",
      "1/1 [==============================] - 0s 10ms/step\n",
      "Image belongs to Pornographic with a 74.87 percent confidence.\n",
      "Loading nvme_drive/scraped_files/20220821-003129-reddit/reddit/962808ismbf91.jpg\n",
      "1/1 [==============================] - 0s 10ms/step\n",
      "Image belongs to Pornographic with a 71.05 percent confidence.\n",
      "Loading nvme_drive/scraped_files/20220821-003129-reddit/reddit/3117dob2wii91.jpg\n",
      "1/1 [==============================] - 0s 10ms/step\n",
      "Image belongs to Pornographic with a 57.14 percent confidence.\n",
      "Loading nvme_drive/scraped_files/20220821-003129-reddit/reddit/9jgrb5tpgf381.jpg\n",
      "1/1 [==============================] - 0s 10ms/step\n",
      "Image belongs to None with a 84.50 percent confidence.\n",
      "Loading nvme_drive/scraped_files/20220821-003129-reddit/reddit/eqm1btntzsg91.jpg\n",
      "1/1 [==============================] - 0s 10ms/step\n",
      "Image belongs to Pornographic with a 66.58 percent confidence.\n",
      "Loading nvme_drive/scraped_files/20220821-003129-reddit/reddit/b87qjvs3fce91.jpg\n",
      "1/1 [==============================] - 0s 10ms/step\n",
      "Image belongs to Pornographic with a 66.69 percent confidence.\n",
      "Loading nvme_drive/scraped_files/20220821-003129-reddit/reddit/hclp7mwveah91.jpg\n",
      "1/1 [==============================] - 0s 10ms/step\n",
      "Image belongs to Pornographic with a 42.45 percent confidence.\n",
      "Loading nvme_drive/scraped_files/20220821-003129-reddit/reddit/7emeaq96hoh91.jpg\n",
      "1/1 [==============================] - 0s 10ms/step\n",
      "Image belongs to None with a 50.11 percent confidence.\n",
      "Loading nvme_drive/scraped_files/20220821-003129-reddit/reddit/wdtxraelmii91.jpg\n",
      "1/1 [==============================] - 0s 10ms/step\n",
      "Image belongs to Pornographic with a 78.72 percent confidence.\n",
      "Loading nvme_drive/scraped_files/20220821-003129-reddit/reddit/8euy3kibx7w81.jpg\n",
      "1/1 [==============================] - 0s 10ms/step\n",
      "Image belongs to Pornographic with a 78.12 percent confidence.\n",
      "Loading nvme_drive/scraped_files/20220821-003129-reddit/reddit/sjesklz5f1e91.jpg\n",
      "1/1 [==============================] - 0s 10ms/step\n",
      "Image belongs to None with a 75.78 percent confidence.\n",
      "Loading nvme_drive/scraped_files/20220821-003129-reddit/reddit/hkb46iyqjaf91.jpg\n",
      "1/1 [==============================] - 0s 10ms/step\n",
      "Image belongs to None with a 80.90 percent confidence.\n",
      "Loading nvme_drive/scraped_files/20220821-003129-reddit/reddit/k4btjft5fzc91.jpg\n",
      "1/1 [==============================] - 0s 10ms/step\n",
      "Image belongs to Pornographic with a 90.54 percent confidence.\n",
      "Loading nvme_drive/scraped_files/20220821-003129-reddit/reddit/g52y2650khg91.jpg\n",
      "1/1 [==============================] - 0s 10ms/step\n",
      "Image belongs to Pornographic with a 93.77 percent confidence.\n",
      "Loading nvme_drive/scraped_files/20220821-003129-reddit/reddit/kvohpqbfhwe91.jpg\n",
      "1/1 [==============================] - 0s 10ms/step\n",
      "Image belongs to Pornographic with a 81.57 percent confidence.\n",
      "Loading nvme_drive/scraped_files/20220821-003129-reddit/reddit/gab4328036h91.jpg\n",
      "1/1 [==============================] - 0s 10ms/step\n",
      "Image belongs to Pornographic with a 96.29 percent confidence.\n",
      "Loading nvme_drive/scraped_files/20220821-003129-reddit/reddit/8zgsd9pxlio51.jpg\n",
      "1/1 [==============================] - 0s 10ms/step\n",
      "Image belongs to Pornographic with a 99.23 percent confidence.\n",
      "Loading nvme_drive/scraped_files/20220821-003129-reddit/reddit/v9agte7kaie91.jpg\n",
      "1/1 [==============================] - 0s 10ms/step\n",
      "Image belongs to None with a 79.32 percent confidence.\n",
      "Loading nvme_drive/scraped_files/20220821-003129-reddit/reddit/qiv6sir2kxf91.jpg\n",
      "1/1 [==============================] - 0s 10ms/step\n",
      "Image belongs to Pornographic with a 67.23 percent confidence.\n",
      "Loading nvme_drive/scraped_files/20220821-003129-reddit/reddit/d75jcrxzrod91.jpg\n",
      "1/1 [==============================] - 0s 10ms/step\n",
      "Image belongs to Pornographic with a 51.83 percent confidence.\n",
      "Loading nvme_drive/scraped_files/20220821-003129-reddit/reddit/cmvpnxmi9sg91.jpg\n",
      "1/1 [==============================] - 0s 10ms/step\n",
      "Image belongs to Pornographic with a 81.40 percent confidence.\n",
      "Loading nvme_drive/scraped_files/20220821-003129-reddit/reddit/y2vrs311s4h91.jpg\n",
      "1/1 [==============================] - 0s 10ms/step\n",
      "Image belongs to Pornographic with a 76.49 percent confidence.\n",
      "Loading nvme_drive/scraped_files/20220821-003129-reddit/imgur/imgur_buVjfB8_Anyone have the time.jpg\n",
      "1/1 [==============================] - 0s 10ms/step\n",
      "Image belongs to None with a 71.20 percent confidence.\n",
      "Loading nvme_drive/scraped_files/20220821-003129-reddit/imgur/imgur_TJWDGZQ_Hot Body.jpg\n",
      "1/1 [==============================] - 0s 10ms/step\n",
      "Image belongs to Pornographic with a 60.21 percent confidence.\n",
      "Loading nvme_drive/scraped_files/20220821-003129-reddit/imgur/imgur_ztxXsTR_Keeping her chin up.jpg\n",
      "1/1 [==============================] - 0s 10ms/step\n",
      "Image belongs to Pornographic with a 84.32 percent confidence.\n",
      "Loading nvme_drive/scraped_files/20220821-003129-reddit/imgur/imgur_urNBKLW_Not sure that counts as business casual.jpg\n",
      "1/1 [==============================] - 0s 10ms/step\n",
      "Image belongs to Pornographic with a 63.83 percent confidence.\n",
      "Loading nvme_drive/scraped_files/20220821-003129-reddit/imgur/imgur_oVrgV0p_What a babe.jpg\n",
      "1/1 [==============================] - 0s 10ms/step\n",
      "Image belongs to Pornographic with a 65.94 percent confidence.\n",
      "Loading nvme_drive/scraped_files/20220821-003129-reddit/imgur/imgur_U7RqqDo_Leg Stretch.jpg\n",
      "1/1 [==============================] - 0s 10ms/step\n",
      "Image belongs to Pornographic with a 88.77 percent confidence.\n",
      "Loading nvme_drive/scraped_files/20220821-003129-reddit/imgur/imgur_7UK6poB_Smooth.jpg\n",
      "1/1 [==============================] - 0s 10ms/step\n",
      "Image belongs to Pornographic with a 72.62 percent confidence.\n",
      "Loading nvme_drive/scraped_files/20220821-003129-reddit/imgur/imgur_WwuyqyV_Pool day.jpg\n",
      "1/1 [==============================] - 0s 10ms/step\n",
      "Image belongs to Racy with a 71.71 percent confidence.\n",
      "Loading nvme_drive/scraped_files/20220821-003129-reddit/imgur/imgur_9wjO4iy_Alina vs Natasha.jpg\n",
      "1/1 [==============================] - 0s 10ms/step\n",
      "Image belongs to Pornographic with a 97.23 percent confidence.\n",
      "Loading nvme_drive/scraped_files/20220821-003129-reddit/imgur/imgur_jcsG7Bf_Oxana Chic.jpg\n",
      "1/1 [==============================] - 0s 10ms/step\n",
      "Image belongs to Pornographic with a 89.43 percent confidence.\n",
      "Loading nvme_drive/scraped_files/20220821-003129-reddit/imgur/imgur_QCLTUfY_Nothing but heels.jpg\n",
      "1/1 [==============================] - 0s 10ms/step\n",
      "Image belongs to Pornographic with a 93.46 percent confidence.\n",
      "Loading nvme_drive/scraped_files/20220821-003129-reddit/imgur/imgur_ln2mjI9_Pretty Pair.jpg\n",
      "1/1 [==============================] - 0s 10ms/step\n",
      "Image belongs to Pornographic with a 88.52 percent confidence.\n",
      "Loading nvme_drive/scraped_files/20220821-003129-reddit/imgur/imgur_0wY29Nv_Eye Candy.jpg\n",
      "1/1 [==============================] - 0s 10ms/step\n",
      "Image belongs to Pornographic with a 55.05 percent confidence.\n",
      "Loading nvme_drive/scraped_files/20220821-003129-reddit/imgur/imgur_6W8mmFk_Petite full length ginger.jpg\n",
      "1/1 [==============================] - 0s 10ms/step\n",
      "Image belongs to Pornographic with a 71.45 percent confidence.\n",
      "Loading nvme_drive/scraped_files/20220821-003129-reddit/imgur/imgur_zi3SCry_First post in this shrine for Skye Blue ❤️.jpg\n",
      "1/1 [==============================] - 0s 10ms/step\n",
      "Image belongs to Pornographic with a 51.35 percent confidence.\n",
      "Loading nvme_drive/scraped_files/20220821-003129-reddit/imgur/imgur_qpRkqnQ_Gorgeous.jpg\n",
      "1/1 [==============================] - 0s 11ms/step\n",
      "Image belongs to Pornographic with a 69.71 percent confidence.\n",
      "Loading nvme_drive/scraped_files/20220821-003129-reddit/imgur/imgur_HjGd9G5_Noemi K.jpg\n",
      "1/1 [==============================] - 0s 10ms/step\n",
      "Image belongs to Pornographic with a 59.69 percent confidence.\n",
      "Loading nvme_drive/scraped_files/20220821-003129-reddit/imgur/imgur_iNNn8oL_Blue-winged angel.jpg\n",
      "1/1 [==============================] - 0s 10ms/step\n",
      "Image belongs to None with a 91.05 percent confidence.\n",
      "Loading nvme_drive/scraped_files/20220821-003129-reddit/imgur/imgur_Nw7MqB1_That Arch.jpg\n",
      "1/1 [==============================] - 0s 10ms/step\n",
      "Image belongs to Pornographic with a 55.14 percent confidence.\n",
      "Loading nvme_drive/scraped_files/20220821-003129-reddit/imgur/imgur_p3GsSQ7_Gemma Jack teasing.jpg\n",
      "1/1 [==============================] - 0s 10ms/step\n",
      "Image belongs to Pornographic with a 87.08 percent confidence.\n",
      "Loading nvme_drive/scraped_files/20220821-003129-reddit/imgur/imgur_d9vGNO5_Heidi & Emily.jpg\n",
      "1/1 [==============================] - 0s 10ms/step\n",
      "Image belongs to Pornographic with a 88.02 percent confidence.\n",
      "Loading nvme_drive/scraped_files/20220821-003129-reddit/imgur/imgur_zGZOxxb_JOSEPHINE.jpg\n",
      "1/1 [==============================] - 0s 10ms/step\n",
      "Image belongs to Pornographic with a 77.34 percent confidence.\n",
      "Loading nvme_drive/scraped_files/20220821-003129-reddit/imgur/imgur_mPb4VIL_Chill confidence.jpg\n",
      "1/1 [==============================] - 0s 10ms/step\n",
      "Image belongs to Pornographic with a 92.58 percent confidence.\n",
      "Loading nvme_drive/scraped_files/20220821-003129-reddit/imgur/imgur_2S6vCmR_Terrific Titties.jpg\n",
      "1/1 [==============================] - 0s 10ms/step\n",
      "Image belongs to Pornographic with a 76.25 percent confidence.\n",
      "Loading nvme_drive/scraped_files/20220821-003129-reddit/imgur/imgur_zJHkRZs_There's something about her I just can't put my finger on.jpg\n",
      "1/1 [==============================] - 0s 10ms/step\n",
      "Image belongs to Pornographic with a 88.75 percent confidence.\n",
      "Loading nvme_drive/scraped_files/20220821-003129-reddit/imgur/imgur_r52ZnMh_Damn.jpg\n",
      "1/1 [==============================] - 0s 10ms/step\n",
      "Image belongs to None with a 61.57 percent confidence.\n",
      "Loading nvme_drive/scraped_files/20220821-003129-reddit/imgur/imgur_TFnE0Vs_Huge tits.jpg\n",
      "1/1 [==============================] - 0s 10ms/step\n",
      "Image belongs to Pornographic with a 91.03 percent confidence.\n",
      "Loading nvme_drive/scraped_files/20220821-003129-reddit/imgur/imgur_Y40VXg9_Catching the light just right.jpg\n",
      "1/1 [==============================] - 0s 10ms/step\n",
      "Image belongs to None with a 70.34 percent confidence.\n",
      "Loading nvme_drive/scraped_files/20220821-003129-reddit/imgur/imgur_XUTlm6a_Beach brunette.jpg\n",
      "1/1 [==============================] - 0s 10ms/step\n",
      "Image belongs to Pornographic with a 73.86 percent confidence.\n",
      "Loading nvme_drive/scraped_files/20220821-003129-reddit/imgur/imgur_oOJrxo7_Wavy haired ginger with pale skin and deep blue eyes.jpg\n",
      "1/1 [==============================] - 0s 10ms/step\n",
      "Image belongs to Pornographic with a 85.15 percent confidence.\n",
      "Loading nvme_drive/scraped_files/20220821-003129-reddit/imgur/imgur_OWS34nL_Saskia.jpg\n",
      "1/1 [==============================] - 0s 10ms/step\n",
      "Image belongs to None with a 74.34 percent confidence.\n",
      "Loading nvme_drive/scraped_files/20220821-003129-reddit/imgur/imgur_HXoZH4t_I am ready.jpg\n",
      "1/1 [==============================] - 0s 10ms/step\n",
      "Image belongs to Pornographic with a 84.85 percent confidence.\n",
      "Loading nvme_drive/scraped_files/20220821-003129-reddit/imgur/imgur_TmrQdjN_Kay J.jpg\n",
      "1/1 [==============================] - 0s 10ms/step\n",
      "Image belongs to Pornographic with a 66.89 percent confidence.\n",
      "Loading nvme_drive/scraped_files/20220821-003129-reddit/imgur/imgur_9T4imCB_Corner couch.jpg\n",
      "1/1 [==============================] - 0s 10ms/step\n",
      "Image belongs to Pornographic with a 62.12 percent confidence.\n",
      "Loading nvme_drive/scraped_files/20220821-003129-reddit/imgur/imgur_kW7dAMb_Pink panties.jpg\n",
      "1/1 [==============================] - 0s 10ms/step\n",
      "Image belongs to None with a 82.69 percent confidence.\n",
      "Loading nvme_drive/scraped_files/20220821-003129-reddit/imgur/imgur_wSEm8Cl_Eye Candy.jpg\n",
      "1/1 [==============================] - 0s 10ms/step\n",
      "Image belongs to Pornographic with a 67.40 percent confidence.\n",
      "Loading nvme_drive/scraped_files/20220821-003129-reddit/imgur/imgur_v2m0KBS_Flexible.jpg\n",
      "1/1 [==============================] - 0s 10ms/step\n",
      "Image belongs to Pornographic with a 99.04 percent confidence.\n",
      "Loading nvme_drive/scraped_files/20220821-003129-reddit/imgur/imgur_60VPTEB_Hug it out.jpg\n",
      "1/1 [==============================] - 0s 10ms/step\n",
      "Image belongs to Pornographic with a 88.81 percent confidence.\n",
      "Loading nvme_drive/scraped_files/20220821-003129-reddit/imgur/imgur_MxIrK3B_Mina at the beach.jpg\n",
      "1/1 [==============================] - 0s 10ms/step\n",
      "Image belongs to Pornographic with a 64.98 percent confidence.\n",
      "Loading nvme_drive/scraped_files/20220821-003129-reddit/imgur/imgur_fMNKFqp_Agatha Vega.jpg\n",
      "1/1 [==============================] - 0s 10ms/step\n",
      "Image belongs to Pornographic with a 82.77 percent confidence.\n",
      "Loading nvme_drive/scraped_files/20220821-003129-reddit/imgur/imgur_QLGj9ZC_Parking.jpg\n",
      "1/1 [==============================] - 0s 10ms/step\n",
      "Image belongs to Racy with a 85.51 percent confidence.\n",
      "Loading nvme_drive/scraped_files/20220821-003129-reddit/imgur/imgur_NBrdCsO_Jane G (album in comments).jpg\n",
      "1/1 [==============================] - 0s 10ms/step\n",
      "Image belongs to Pornographic with a 92.98 percent confidence.\n",
      "Loading nvme_drive/scraped_files/20220821-003129-reddit/imgur/imgur_S7MIfT7_A trio at the beach.jpg\n",
      "1/1 [==============================] - 0s 10ms/step\n",
      "Image belongs to Pornographic with a 81.09 percent confidence.\n",
      "Loading nvme_drive/scraped_files/20220821-003129-reddit/imgur/imgur_VdPysb5_Onorin (album in comments).jpg\n",
      "1/1 [==============================] - 0s 10ms/step\n",
      "Image belongs to Pornographic with a 83.00 percent confidence.\n",
      "Loading nvme_drive/scraped_files/20220821-003129-reddit/imgur/imgur_kgAX6xZ_Asian Bimbo.jpg\n",
      "1/1 [==============================] - 0s 10ms/step\n",
      "Image belongs to Pornographic with a 62.26 percent confidence.\n",
      "Loading nvme_drive/scraped_files/20220821-003129-reddit/imgur/imgur_q54ZVuy_Milena.jpg\n",
      "1/1 [==============================] - 0s 10ms/step\n",
      "Image belongs to Pornographic with a 89.15 percent confidence.\n",
      "Loading nvme_drive/scraped_files/20220821-003129-reddit/imgur/imgur_7AeXYOA_Eva Lovia.jpg\n",
      "1/1 [==============================] - 0s 10ms/step\n",
      "Image belongs to Pornographic with a 82.81 percent confidence.\n",
      "Loading nvme_drive/scraped_files/20220821-003129-reddit/imgur/imgur_HMS5aP0_Dropping it all.jpg\n",
      "1/1 [==============================] - 0s 10ms/step\n",
      "Image belongs to Pornographic with a 67.21 percent confidence.\n",
      "Loading nvme_drive/scraped_files/20220821-003129-reddit/imgur/imgur_uRcuqF5_Eleven Pretty Pussies.jpg\n",
      "1/1 [==============================] - 0s 10ms/step\n",
      "Image belongs to None with a 95.44 percent confidence.\n",
      "Loading nvme_drive/scraped_files/20220821-003129-reddit/imgur/imgur_unKNA53_Caprice.jpg\n",
      "1/1 [==============================] - 0s 10ms/step\n",
      "Image belongs to Pornographic with a 78.58 percent confidence.\n",
      "Loading nvme_drive/scraped_files/20220821-003129-reddit/imgur/imgur_SQCuA41_Dorka.jpg\n",
      "1/1 [==============================] - 0s 10ms/step\n",
      "Image belongs to Pornographic with a 75.33 percent confidence.\n",
      "Loading nvme_drive/scraped_files/20220821-003129-reddit/imgur/imgur_QQpMfOz_Navel piercing.jpg\n",
      "1/1 [==============================] - 0s 10ms/step\n",
      "Image belongs to None with a 99.10 percent confidence.\n",
      "Loading nvme_drive/scraped_files/20220821-003129-reddit/imgur/imgur_6FHXXRR_Christina Angel.jpg\n",
      "1/1 [==============================] - 0s 10ms/step\n",
      "Image belongs to Pornographic with a 98.31 percent confidence.\n",
      "Loading nvme_drive/scraped_files/20220821-003129-reddit/imgur/imgur_kyDFOU4_Morning light.jpg\n",
      "1/1 [==============================] - 0s 10ms/step\n",
      "Image belongs to Pornographic with a 58.00 percent confidence.\n",
      "Loading nvme_drive/scraped_files/20220821-003129-reddit/imgur/imgur_3Y5PGzR_I see this and I can imagine entering this honey.jpg\n",
      "1/1 [==============================] - 0s 10ms/step\n",
      "Image belongs to Pornographic with a 75.40 percent confidence.\n",
      "Loading nvme_drive/scraped_files/20220821-003129-reddit/imgur/imgur_Ok5EGPs_Sweet Peach.jpg\n",
      "1/1 [==============================] - 0s 10ms/step\n",
      "Image belongs to Pornographic with a 73.76 percent confidence.\n",
      "Loading nvme_drive/scraped_files/20220821-003129-reddit/imgur/imgur_xSqBxlM_Curvy voluptuous full bodied beauty.jpg\n",
      "1/1 [==============================] - 0s 10ms/step\n",
      "Image belongs to Pornographic with a 75.59 percent confidence.\n",
      "Loading nvme_drive/scraped_files/20220821-003129-reddit/imgur/imgur_jtlVG9X_Work of art.jpg\n",
      "1/1 [==============================] - 0s 10ms/step\n",
      "Image belongs to Pornographic with a 67.96 percent confidence.\n",
      "Loading nvme_drive/scraped_files/20220821-003129-reddit/imgur/imgur_2iwuYuw_Fearless young women ready for the next chapter of their lives! ?.jpg\n",
      "1/1 [==============================] - 0s 10ms/step\n",
      "Image belongs to None with a 60.76 percent confidence.\n",
      "Loading nvme_drive/scraped_files/20220821-003129-reddit/imgur/imgur_5TV2U9K_Reflection.jpg\n",
      "1/1 [==============================] - 0s 10ms/step\n",
      "Image belongs to Pornographic with a 68.32 percent confidence.\n",
      "Loading nvme_drive/scraped_files/20220821-003129-reddit/imgur/imgur_cO3jZvv_Keeping her legs warm.jpg\n",
      "1/1 [==============================] - 0s 10ms/step\n",
      "Image belongs to Pornographic with a 67.31 percent confidence.\n",
      "Loading nvme_drive/scraped_files/20220821-003129-reddit/imgur/imgur_eZA9wJC_Turning Japanese.jpg\n",
      "1/1 [==============================] - 0s 10ms/step\n",
      "Image belongs to Pornographic with a 76.73 percent confidence.\n",
      "Loading nvme_drive/scraped_files/20220821-003129-reddit/imgur/imgur_IAqY6iB_Tousled black hair.jpg\n",
      "1/1 [==============================] - 0s 10ms/step\n",
      "Image belongs to Pornographic with a 65.09 percent confidence.\n",
      "Loading nvme_drive/scraped_files/20220821-003129-reddit/imgur/imgur_GRUp3Ga_Getting ready for the day.jpg\n",
      "1/1 [==============================] - 0s 10ms/step\n",
      "Image belongs to None with a 85.46 percent confidence.\n",
      "Loading nvme_drive/scraped_files/20220821-003129-reddit/imgur/imgur_f3wktxW_Valeria Kovalenko.jpg\n",
      "1/1 [==============================] - 0s 10ms/step\n",
      "Image belongs to Pornographic with a 89.73 percent confidence.\n",
      "Loading nvme_drive/scraped_files/20220821-003129-reddit/imgur/imgur_Jb7ZrEL_Vanessa Alessia & Nancy Ace.jpg\n",
      "1/1 [==============================] - 0s 10ms/step\n",
      "Image belongs to Pornographic with a 39.21 percent confidence.\n",
      "Loading nvme_drive/scraped_files/20220821-003129-reddit/imgur/imgur_sTS0rmF_Viktoriia Aliko.jpg\n",
      "1/1 [==============================] - 0s 10ms/step\n",
      "Image belongs to Racy with a 56.37 percent confidence.\n",
      "Loading nvme_drive/scraped_files/20220821-003129-reddit/imgur/imgur_JJsOSPC_Cute cos-play.jpg\n",
      "1/1 [==============================] - 0s 10ms/step\n",
      "Image belongs to Pornographic with a 69.44 percent confidence.\n",
      "Loading nvme_drive/scraped_files/20220821-003129-reddit/imgur/imgur_5zHyjtJ_So Sexy.jpg\n",
      "1/1 [==============================] - 0s 10ms/step\n",
      "Image belongs to Pornographic with a 89.11 percent confidence.\n",
      "Loading nvme_drive/scraped_files/20220821-003129-reddit/imgur/imgur_xYAWAMl.jpg\n",
      "1/1 [==============================] - 0s 10ms/step\n",
      "Image belongs to Pornographic with a 73.77 percent confidence.\n",
      "Loading nvme_drive/scraped_files/20220821-003129-reddit/imgur/imgur_4M8GN5i_So Sexy.jpg\n",
      "1/1 [==============================] - 0s 10ms/step\n",
      "Image belongs to Pornographic with a 83.58 percent confidence.\n",
      "Loading nvme_drive/scraped_files/20220821-003129-reddit/imgur/imgur_RXV4WhR_Helga Lovekaty in pink.jpg\n",
      "1/1 [==============================] - 0s 11ms/step\n",
      "Image belongs to Pornographic with a 76.08 percent confidence.\n",
      "Loading nvme_drive/scraped_files/20220821-003129-reddit/imgur/imgur_wkSweGC_big smile.jpg\n",
      "1/1 [==============================] - 0s 10ms/step\n",
      "Image belongs to Pornographic with a 47.76 percent confidence.\n",
      "Loading nvme_drive/scraped_files/20220821-003129-reddit/imgur/imgur_JCbyjOo_She is ready for the beach.jpg\n",
      "1/1 [==============================] - 0s 10ms/step\n",
      "Image belongs to Pornographic with a 99.41 percent confidence.\n",
      "Loading nvme_drive/scraped_files/20220821-003129-reddit/imgur/imgur_NfM1ERH_Flexure.jpg\n",
      "1/1 [==============================] - 0s 10ms/step\n",
      "Image belongs to Pornographic with a 84.39 percent confidence.\n",
      "Loading nvme_drive/scraped_files/20220821-003129-reddit/imgur/imgur_lFZohrl_Too much to choose from.jpg\n",
      "1/1 [==============================] - 0s 10ms/step\n",
      "Image belongs to Pornographic with a 93.57 percent confidence.\n",
      "Loading nvme_drive/scraped_files/20220821-003129-reddit/imgur/imgur_UFhXKvj_flash 'em.jpg\n",
      "1/1 [==============================] - 0s 10ms/step\n",
      "Image belongs to Pornographic with a 67.21 percent confidence.\n",
      "Loading nvme_drive/scraped_files/20220821-003129-reddit/imgur/imgur_1SCJtTs_Nensi B - Biyane.jpg\n",
      "1/1 [==============================] - 0s 10ms/step\n",
      "Image belongs to Pornographic with a 77.64 percent confidence.\n",
      "Loading nvme_drive/scraped_files/20220821-003129-reddit/imgur/imgur_d4Aic58_Mmmmmh, XoFreja.jpg\n",
      "1/1 [==============================] - 0s 10ms/step\n",
      "Image belongs to None with a 85.38 percent confidence.\n",
      "Loading nvme_drive/scraped_files/20220821-003129-reddit/imgur/imgur_Qr0FsV5_Love her tits - like succulent low-hanging fruit just waiting to be inhaled.jpg\n",
      "1/1 [==============================] - 0s 10ms/step\n",
      "Image belongs to None with a 70.42 percent confidence.\n",
      "Loading nvme_drive/scraped_files/20220821-003129-reddit/imgur/imgur_0nxyak5_CHLOE | \"Magya\".jpg\n",
      "1/1 [==============================] - 0s 10ms/step\n",
      "Image belongs to Pornographic with a 75.42 percent confidence.\n",
      "Loading nvme_drive/scraped_files/20220821-003129-reddit/imgur/imgur_8l7ZjGe_Rachel (album in comments).jpg\n",
      "1/1 [==============================] - 0s 10ms/step\n",
      "Image belongs to Pornographic with a 86.82 percent confidence.\n",
      "Loading nvme_drive/scraped_files/20220821-003129-reddit/imgur/imgur_LbSr1zI_cowgirl.jpg\n",
      "1/1 [==============================] - 0s 10ms/step\n",
      "Image belongs to Pornographic with a 72.67 percent confidence.\n",
      "Loading nvme_drive/scraped_files/20220821-003129-reddit/imgur/imgur_tWkdnF3_Well Dressed.jpg\n",
      "1/1 [==============================] - 0s 10ms/step\n",
      "Image belongs to Racy with a 59.50 percent confidence.\n",
      "Loading nvme_drive/scraped_files/20220821-003129-reddit/imgur/imgur_raHfxnk_Skye Blue.jpg\n",
      "1/1 [==============================] - 0s 10ms/step\n",
      "Image belongs to Pornographic with a 57.53 percent confidence.\n",
      "Loading nvme_drive/scraped_files/20220821-003129-reddit/imgur/imgur_6asa5TW_Selti.jpg\n",
      "1/1 [==============================] - 0s 10ms/step\n",
      "Image belongs to Pornographic with a 77.47 percent confidence.\n",
      "Loading nvme_drive/scraped_files/20220821-003129-reddit/imgur/imgur_LnvdntK_Coveralls that don't quite cover all.jpg\n",
      "1/1 [==============================] - 0s 10ms/step\n",
      "Image belongs to Pornographic with a 85.82 percent confidence.\n",
      "Loading nvme_drive/scraped_files/20220821-003129-reddit/imgur/imgur_Xm0NKJP_LIJA.jpg\n",
      "1/1 [==============================] - 0s 10ms/step\n",
      "Image belongs to Pornographic with a 71.09 percent confidence.\n",
      "Loading nvme_drive/scraped_files/20220821-003129-reddit/imgur/imgur_wmHoBbk_On off.jpg\n",
      "1/1 [==============================] - 0s 10ms/step\n",
      "Image belongs to Pornographic with a 79.01 percent confidence.\n",
      "Loading nvme_drive/scraped_files/20220821-003129-reddit/imgur/imgur_nGW2I5r_Alexandra Smelova.jpg\n",
      "1/1 [==============================] - 0s 10ms/step\n",
      "Image belongs to Pornographic with a 87.15 percent confidence.\n",
      "Loading nvme_drive/scraped_files/20220821-003129-reddit/imgur/imgur_m6Cpcvk_Stacked.jpg\n",
      "1/1 [==============================] - 0s 10ms/step\n",
      "Image belongs to None with a 41.84 percent confidence.\n",
      "Loading nvme_drive/scraped_files/20220821-003129-reddit/imgur/imgur_RtQ4iUM_Ballerina.jpg\n",
      "1/1 [==============================] - 0s 10ms/step\n",
      "Image belongs to Pornographic with a 57.52 percent confidence.\n",
      "Loading nvme_drive/scraped_files/20220821-003129-reddit/imgur/imgur_eKxxgOI_Paradise.jpg\n",
      "1/1 [==============================] - 0s 10ms/step\n",
      "Image belongs to Pornographic with a 48.44 percent confidence.\n",
      "Loading nvme_drive/scraped_files/20220821-003129-reddit/imgur/imgur_iXj9lsv_Ashlynn Brooke (AI Upscaled).jpg\n",
      "1/1 [==============================] - 0s 10ms/step\n",
      "Image belongs to Pornographic with a 65.93 percent confidence.\n",
      "Loading nvme_drive/scraped_files/20220821-003129-reddit/imgur/imgur_vvndb1I_Sophy.jpg\n",
      "1/1 [==============================] - 0s 10ms/step\n",
      "Image belongs to Pornographic with a 67.75 percent confidence.\n",
      "Loading nvme_drive/scraped_files/20220821-003129-reddit/imgur/imgur_FI4p3Mn_Nici Dee.jpg\n",
      "1/1 [==============================] - 0s 10ms/step\n",
      "Image belongs to Pornographic with a 82.45 percent confidence.\n",
      "Loading nvme_drive/scraped_files/20220821-003129-reddit/imgur/imgur_556l1rt_Fishnets and chain chokers.jpg\n",
      "1/1 [==============================] - 0s 10ms/step\n",
      "Image belongs to Pornographic with a 91.66 percent confidence.\n",
      "Loading nvme_drive/scraped_files/20220821-003129-reddit/imgur/imgur_zNT5peV_Peta Jensen.jpg\n",
      "1/1 [==============================] - 0s 10ms/step\n",
      "Image belongs to Pornographic with a 92.82 percent confidence.\n",
      "Loading nvme_drive/scraped_files/20220821-003129-reddit/imgur/imgur_glzeXZw_Clover On A Couch.jpg\n",
      "1/1 [==============================] - 0s 10ms/step\n",
      "Image belongs to Pornographic with a 87.49 percent confidence.\n",
      "Loading nvme_drive/scraped_files/20220821-003129-reddit/imgur/imgur_NzbIMbq_Lisbet's Amazing Rear.jpg\n",
      "1/1 [==============================] - 0s 10ms/step\n",
      "Image belongs to Pornographic with a 78.36 percent confidence.\n",
      "Loading nvme_drive/scraped_files/20220821-003129-reddit/imgur/imgur_ehsxmJz_Where to kiss.jpg\n",
      "1/1 [==============================] - 0s 10ms/step\n",
      "Image belongs to Pornographic with a 64.74 percent confidence.\n",
      "Loading nvme_drive/scraped_files/20220821-003129-reddit/imgur/imgur_YUvnoHE_Up on the table.jpg\n",
      "1/1 [==============================] - 0s 10ms/step\n",
      "Image belongs to Pornographic with a 89.19 percent confidence.\n",
      "Loading nvme_drive/scraped_files/20220821-003129-reddit/imgur/imgur_Qq8SRuS_Kinda cute.jpg\n",
      "1/1 [==============================] - 0s 10ms/step\n",
      "Image belongs to Pornographic with a 93.29 percent confidence.\n",
      "Loading nvme_drive/scraped_files/20220821-003129-reddit/imgur/imgur_tOcmm9q_Kayla.jpg\n",
      "1/1 [==============================] - 0s 10ms/step\n",
      "Image belongs to Pornographic with a 45.39 percent confidence.\n",
      "Loading nvme_drive/scraped_files/20220821-003129-reddit/imgur/imgur_IImixXt_Jayden Jaymes.jpg\n",
      "1/1 [==============================] - 0s 10ms/step\n",
      "Image belongs to Pornographic with a 99.07 percent confidence.\n",
      "Loading nvme_drive/scraped_files/20220821-003129-reddit/imgur/imgur_ZC0U3GP_Exquisite.jpg\n",
      "1/1 [==============================] - 0s 10ms/step\n",
      "Image belongs to Pornographic with a 95.17 percent confidence.\n",
      "Loading nvme_drive/scraped_files/20220821-003129-reddit/imgur/imgur_tM2wpcV_Respect the classics.jpg\n",
      "1/1 [==============================] - 0s 10ms/step\n",
      "Image belongs to Pornographic with a 60.13 percent confidence.\n",
      "Loading nvme_drive/scraped_files/20220821-003129-reddit/imgur/imgur_Odn6x5t_Beautiful Brunette showing off with her leg up on the basin.jpg\n",
      "1/1 [==============================] - 0s 10ms/step\n",
      "Image belongs to Pornographic with a 67.85 percent confidence.\n",
      "Loading nvme_drive/scraped_files/20220821-003129-reddit/imgur/imgur_R6X1S0E_On the armchair.jpg\n",
      "1/1 [==============================] - 0s 10ms/step\n",
      "Image belongs to Pornographic with a 87.76 percent confidence.\n",
      "Loading nvme_drive/scraped_files/20220821-003129-reddit/imgur/imgur_YKzdzc6_White wine.jpg\n",
      "1/1 [==============================] - 0s 10ms/step\n",
      "Image belongs to Pornographic with a 77.42 percent confidence.\n",
      "Loading nvme_drive/scraped_files/20220821-003129-reddit/imgur/imgur_hnE7Wi0_Feeling frosty.jpg\n",
      "1/1 [==============================] - 0s 10ms/step\n",
      "Image belongs to Racy with a 59.00 percent confidence.\n",
      "Loading nvme_drive/scraped_files/20220821-003129-reddit/imgur/imgur_ke2luGx_Damn.jpg\n",
      "1/1 [==============================] - 0s 10ms/step\n",
      "Image belongs to Pornographic with a 58.93 percent confidence.\n",
      "Loading nvme_drive/scraped_files/20220821-003129-reddit/imgur/imgur_Le99uPX_Large breasted beauty.jpg\n",
      "1/1 [==============================] - 0s 10ms/step\n",
      "Image belongs to Pornographic with a 92.22 percent confidence.\n",
      "Loading nvme_drive/scraped_files/20220821-003129-reddit/imgur/imgur_xLPSIaH_Oiled up kissing beauties.jpg\n",
      "1/1 [==============================] - 0s 10ms/step\n",
      "Image belongs to Pornographic with a 97.07 percent confidence.\n",
      "Loading nvme_drive/scraped_files/20220821-003129-reddit/imgur/imgur_GAJ8VFJ_little black dress.jpg\n",
      "1/1 [==============================] - 0s 10ms/step\n",
      "Image belongs to Pornographic with a 64.00 percent confidence.\n",
      "Loading nvme_drive/scraped_files/20220821-003129-reddit/imgur/imgur_zzgRgit_Tattoos and tan.jpg\n",
      "1/1 [==============================] - 0s 10ms/step\n",
      "Image belongs to Pornographic with a 80.44 percent confidence.\n",
      "Loading nvme_drive/scraped_files/20220821-003129-reddit/imgur/imgur_9UWi15c_Mila Amour.jpg\n",
      "1/1 [==============================] - 0s 10ms/step\n",
      "Image belongs to Pornographic with a 70.88 percent confidence.\n",
      "Loading nvme_drive/scraped_files/20220821-003129-reddit/imgur/imgur_nTc8Wfw_That Ass.jpg\n",
      "1/1 [==============================] - 0s 10ms/step\n",
      "Image belongs to Pornographic with a 54.08 percent confidence.\n",
      "Loading nvme_drive/scraped_files/20220821-003129-reddit/imgur/imgur_JQBZphO_Popsicles.jpg\n",
      "1/1 [==============================] - 0s 10ms/step\n",
      "Image belongs to None with a 83.86 percent confidence.\n",
      "Loading nvme_drive/scraped_files/20220821-003129-reddit/imgur/imgur_S5qLkI0_Beautiful ginger showing off.jpg\n",
      "1/1 [==============================] - 0s 10ms/step\n",
      "Image belongs to Pornographic with a 76.05 percent confidence.\n",
      "Loading nvme_drive/scraped_files/20220821-003129-reddit/imgur/imgur_4JsN00i_Touching back.jpg\n",
      "1/1 [==============================] - 0s 10ms/step\n",
      "Image belongs to None with a 37.53 percent confidence.\n",
      "Loading nvme_drive/scraped_files/20220821-003129-reddit/imgur/imgur_WOe6n1B_Left vs right.jpg\n",
      "1/1 [==============================] - 0s 10ms/step\n",
      "Image belongs to Racy with a 81.13 percent confidence.\n",
      "Loading nvme_drive/scraped_files/20220821-003129-reddit/imgur/imgur_Gf5soe0_Dressing room self-shooter.jpg\n",
      "1/1 [==============================] - 0s 10ms/step\n",
      "Image belongs to Pornographic with a 77.77 percent confidence.\n",
      "Loading nvme_drive/scraped_files/20220821-003129-reddit/imgur/imgur_Azp7bKh_Cute pigtails.jpg\n",
      "1/1 [==============================] - 0s 10ms/step\n",
      "Image belongs to Pornographic with a 56.23 percent confidence.\n",
      "Loading nvme_drive/scraped_files/20220821-003129-reddit/imgur/imgur_vAiFCgC_Wow.jpg\n",
      "1/1 [==============================] - 0s 10ms/step\n",
      "Image belongs to Pornographic with a 70.52 percent confidence.\n",
      "Loading nvme_drive/scraped_files/20220821-003129-reddit/imgur/imgur_OmjPESg_A work of art.jpg\n",
      "1/1 [==============================] - 0s 10ms/step\n",
      "Image belongs to Pornographic with a 90.82 percent confidence.\n",
      "Loading nvme_drive/scraped_files/20220821-003129-reddit/imgur/imgur_fw0VJ3e_Mila Amour.jpg\n",
      "1/1 [==============================] - 0s 10ms/step\n",
      "Image belongs to None with a 60.93 percent confidence.\n",
      "Loading nvme_drive/scraped_files/20220821-003129-reddit/imgur/imgur_vfT6YVb_Gorgeous.jpg\n",
      "1/1 [==============================] - 0s 10ms/step\n",
      "Image belongs to Pornographic with a 68.44 percent confidence.\n",
      "Loading nvme_drive/scraped_files/20220821-003129-reddit/imgur/imgur_grPEJCZ_Agatha D - Fresh.jpg\n",
      "1/1 [==============================] - 0s 10ms/step\n",
      "Image belongs to Pornographic with a 98.60 percent confidence.\n",
      "Loading nvme_drive/scraped_files/20220821-003129-reddit/imgur/imgur_4K0N7qK_Phenomenal side view from the bathtub.jpg\n",
      "1/1 [==============================] - 0s 10ms/step\n",
      "Image belongs to Pornographic with a 84.02 percent confidence.\n",
      "Loading nvme_drive/scraped_files/20220821-003129-reddit/imgur/imgur_3C1Uljo_Hair to butt.jpg\n",
      "1/1 [==============================] - 0s 10ms/step\n",
      "Image belongs to Pornographic with a 61.91 percent confidence.\n",
      "Loading nvme_drive/scraped_files/20220821-003129-reddit/imgur/imgur_cb0j6k7_Clover - Looking hot.jpg\n",
      "1/1 [==============================] - 0s 10ms/step\n",
      "Image belongs to Pornographic with a 82.28 percent confidence.\n",
      "Loading nvme_drive/scraped_files/20220821-003129-reddit/imgur/imgur_YvFC7Oe_Proper posture.jpg\n",
      "1/1 [==============================] - 0s 10ms/step\n",
      "Image belongs to Pornographic with a 87.29 percent confidence.\n",
      "Loading nvme_drive/scraped_files/20220821-003129-reddit/imgur/imgur_46RmS7J_Shhh!.jpg\n",
      "1/1 [==============================] - 0s 10ms/step\n",
      "Image belongs to Pornographic with a 93.55 percent confidence.\n",
      "Loading nvme_drive/scraped_files/20220821-003129-reddit/imgur/imgur_4CYSKCw_Onoff.jpg\n",
      "1/1 [==============================] - 0s 10ms/step\n",
      "Image belongs to None with a 51.16 percent confidence.\n",
      "Loading nvme_drive/scraped_files/20220821-003129-reddit/imgur/imgur_AsNblsb_Caprice and Miela.jpg\n",
      "1/1 [==============================] - 0s 10ms/step\n",
      "Image belongs to Pornographic with a 92.55 percent confidence.\n",
      "Loading nvme_drive/scraped_files/20220821-003129-reddit/imgur/imgur_51LeB49_At the beach.jpg\n",
      "1/1 [==============================] - 0s 10ms/step\n",
      "Image belongs to Pornographic with a 58.85 percent confidence.\n",
      "Loading nvme_drive/scraped_files/20220821-003129-reddit/imgur/imgur_KRN1ViB_What a body.jpg\n",
      "1/1 [==============================] - 0s 10ms/step\n",
      "Image belongs to Pornographic with a 68.34 percent confidence.\n",
      "Loading nvme_drive/scraped_files/20220821-003129-reddit/imgur/imgur_b9cjpRM_Petite redhead getting ready to bathe.jpg\n",
      "1/1 [==============================] - 0s 10ms/step\n",
      "Image belongs to Pornographic with a 76.54 percent confidence.\n",
      "Loading nvme_drive/scraped_files/20220821-003129-reddit/imgur/imgur_uaoTPPK_Elsa Jean.jpg\n",
      "1/1 [==============================] - 0s 10ms/step\n",
      "Image belongs to Pornographic with a 71.73 percent confidence.\n",
      "Loading nvme_drive/scraped_files/20220821-003129-reddit/imgur/imgur_T7b5TFO_carpentry.jpg\n",
      "1/1 [==============================] - 0s 10ms/step\n",
      "Image belongs to Pornographic with a 82.46 percent confidence.\n",
      "Loading nvme_drive/scraped_files/20220821-003129-reddit/imgur/imgur_qrJ7Kiv_Sonya by Danyel Weideman.jpg\n",
      "1/1 [==============================] - 0s 10ms/step\n",
      "Image belongs to Gore with a 72.59 percent confidence.\n",
      "Loading nvme_drive/scraped_files/20220821-003129-reddit/imgur/imgur_sgYGj62_Well proportioned conference room nudie.jpg\n",
      "1/1 [==============================] - 0s 10ms/step\n",
      "Image belongs to Pornographic with a 80.65 percent confidence.\n",
      "Loading nvme_drive/scraped_files/20220821-003129-reddit/imgur/imgur_j4BKUeL_Sybil.jpg\n",
      "1/1 [==============================] - 0s 10ms/step\n",
      "Image belongs to Pornographic with a 75.40 percent confidence.\n",
      "Loading nvme_drive/scraped_files/20220821-003129-reddit/imgur/imgur_GTG9aia_Natalia Lobo.jpg\n",
      "1/1 [==============================] - 0s 10ms/step\n",
      "Image belongs to Pornographic with a 61.68 percent confidence.\n",
      "Loading nvme_drive/scraped_files/20220821-003129-reddit/imgur/imgur_1Ihxc6x_Beautiful busty fertile redhead.jpg\n",
      "1/1 [==============================] - 0s 10ms/step\n",
      "Image belongs to Pornographic with a 77.94 percent confidence.\n",
      "Loading nvme_drive/scraped_files/20220821-003129-reddit/imgur/imgur_X24QCL3_Galina Berezovskaya.jpg\n",
      "1/1 [==============================] - 0s 10ms/step\n",
      "Image belongs to None with a 66.88 percent confidence.\n",
      "Loading nvme_drive/scraped_files/20220821-003129-reddit/imgur/imgur_qW4hK3Q_Impeccable sense of fashion.jpg\n",
      "1/1 [==============================] - 0s 10ms/step\n",
      "Image belongs to Pornographic with a 69.08 percent confidence.\n",
      "Loading nvme_drive/scraped_files/20220821-003129-reddit/imgur/imgur_Bjc9V0E_Heavy hangers.jpg\n",
      "1/1 [==============================] - 0s 10ms/step\n",
      "Image belongs to Pornographic with a 66.80 percent confidence.\n",
      "Loading nvme_drive/scraped_files/20220821-003129-reddit/imgur/imgur_YZ6PqJk_No panties.jpg\n",
      "1/1 [==============================] - 0s 10ms/step\n",
      "Image belongs to Pornographic with a 84.93 percent confidence.\n",
      "Loading nvme_drive/scraped_files/20220821-003129-reddit/imgur/imgur_kyRgxAL_Outstanding.jpg\n",
      "1/1 [==============================] - 0s 10ms/step\n",
      "Image belongs to Pornographic with a 53.26 percent confidence.\n",
      "Loading nvme_drive/scraped_files/20220821-003129-reddit/imgur/imgur_0qm8at4_Tanya.jpg\n",
      "1/1 [==============================] - 0s 10ms/step\n",
      "Image belongs to Pornographic with a 81.34 percent confidence.\n",
      "Loading nvme_drive/scraped_files/20220821-003129-reddit/imgur/imgur_ru3pm87_Nedda.jpg\n",
      "1/1 [==============================] - 0s 10ms/step\n",
      "Image belongs to Racy with a 42.80 percent confidence.\n",
      "Loading nvme_drive/scraped_files/20220821-003129-reddit/imgur/imgur_ly7OecO_Neu (High Res).jpg\n",
      "1/1 [==============================] - 0s 10ms/step\n",
      "Image belongs to Pornographic with a 62.14 percent confidence.\n",
      "Loading nvme_drive/scraped_files/20220821-003129-reddit/imgur/imgur_hTizgsZ_Simply beautiful.jpg\n",
      "1/1 [==============================] - 0s 10ms/step\n",
      "Image belongs to Pornographic with a 76.60 percent confidence.\n",
      "Loading nvme_drive/scraped_files/20220821-003129-reddit/imgur/imgur_7qWH3Py_Katerina Hartlova.jpg\n",
      "1/1 [==============================] - 0s 10ms/step\n",
      "Image belongs to Pornographic with a 75.06 percent confidence.\n",
      "Loading nvme_drive/scraped_files/20220821-003129-reddit/imgur/imgur_5Yj8GZE_Katya Clover.jpg\n",
      "1/1 [==============================] - 0s 10ms/step\n",
      "Image belongs to Pornographic with a 84.39 percent confidence.\n",
      "Loading nvme_drive/scraped_files/20220821-003129-reddit/imgur/imgur_zirr5ZU_Ass Up.jpg\n",
      "1/1 [==============================] - 0s 10ms/step\n",
      "Image belongs to None with a 82.55 percent confidence.\n",
      "Loading nvme_drive/scraped_files/20220821-003129-reddit/imgur/imgur_fOOHuGP_One hell of a gambit.jpg\n",
      "1/1 [==============================] - 0s 10ms/step\n",
      "Image belongs to Pornographic with a 67.29 percent confidence.\n",
      "Loading nvme_drive/scraped_files/20220821-003129-reddit/imgur/imgur_DE4cEX3_Disrobing.jpg\n",
      "1/1 [==============================] - 0s 10ms/step\n",
      "Image belongs to Pornographic with a 83.52 percent confidence.\n",
      "Loading nvme_drive/scraped_files/20220821-003129-reddit/imgur/imgur_SOsvaSF_Xxlayna Marie.jpg\n",
      "1/1 [==============================] - 0s 10ms/step\n",
      "Image belongs to Pornographic with a 89.25 percent confidence.\n",
      "Loading nvme_drive/scraped_files/20220821-003129-reddit/imgur/imgur_7iinwa1_Caitlin McSwain (album in comments).jpg\n",
      "1/1 [==============================] - 0s 10ms/step\n",
      "Image belongs to Pornographic with a 47.66 percent confidence.\n",
      "Loading nvme_drive/scraped_files/20220821-003129-reddit/imgur/imgur_gYZ0zp1_Jayden Jaymes, the GOAT.jpg\n",
      "1/1 [==============================] - 0s 10ms/step\n",
      "Image belongs to Pornographic with a 98.38 percent confidence.\n",
      "Loading nvme_drive/scraped_files/20220821-003129-reddit/imgur/imgur_iSowpP5_OctaviaMay Suicide.jpg\n",
      "1/1 [==============================] - 0s 10ms/step\n",
      "Image belongs to Pornographic with a 84.34 percent confidence.\n",
      "Loading nvme_drive/scraped_files/20220821-003129-reddit/imgur/imgur_1hRVODm_Chilling on the counter.jpg\n",
      "1/1 [==============================] - 0s 10ms/step\n",
      "Image belongs to Pornographic with a 57.47 percent confidence.\n",
      "Loading nvme_drive/scraped_files/20220821-003129-reddit/imgur/imgur_xYH6gOD_Filling the frame.jpg\n",
      "1/1 [==============================] - 0s 10ms/step\n",
      "Image belongs to Pornographic with a 68.98 percent confidence.\n",
      "Loading nvme_drive/scraped_files/20220821-003129-reddit/imgur/imgur_0wORChp_Smooth Outdoors.jpg\n",
      "1/1 [==============================] - 0s 10ms/step\n",
      "Image belongs to Pornographic with a 68.22 percent confidence.\n",
      "Loading nvme_drive/scraped_files/20220821-003129-reddit/imgur/imgur_tijLdrK_Adorable redheads.jpg\n",
      "1/1 [==============================] - 0s 10ms/step\n",
      "Image belongs to Pornographic with a 80.94 percent confidence.\n",
      "Loading nvme_drive/scraped_files/20220821-003129-reddit/imgur/imgur_0PjUDyL_Important to cover up in the sun.jpg\n",
      "1/1 [==============================] - 0s 10ms/step\n",
      "Image belongs to Pornographic with a 67.00 percent confidence.\n",
      "Loading nvme_drive/scraped_files/20220821-003129-reddit/imgur/imgur_P0iDAhO_Lana Lane.jpg\n",
      "1/1 [==============================] - 0s 10ms/step\n",
      "Image belongs to Pornographic with a 90.19 percent confidence.\n",
      "Loading nvme_drive/scraped_files/20220821-003129-reddit/imgur/imgur_QA4NUnp_1 vs 2 vs 3 vs 4.jpg\n",
      "1/1 [==============================] - 0s 10ms/step\n",
      "Image belongs to Racy with a 90.21 percent confidence.\n",
      "Loading nvme_drive/scraped_files/20220821-003129-reddit/imgur/imgur_HCVambG_Morning Java.jpg\n",
      "1/1 [==============================] - 0s 10ms/step\n",
      "Image belongs to Pornographic with a 60.48 percent confidence.\n",
      "Loading nvme_drive/scraped_files/20220821-003129-reddit/imgur/imgur_RpwARvu_Sapphira.jpg\n",
      "1/1 [==============================] - 0s 10ms/step\n",
      "Image belongs to Pornographic with a 87.29 percent confidence.\n",
      "Loading nvme_drive/scraped_files/20220821-003129-reddit/imgur/imgur_Bo4Kve6_Good Lord.jpg\n",
      "1/1 [==============================] - 0s 10ms/step\n",
      "Image belongs to Pornographic with a 83.88 percent confidence.\n",
      "Loading nvme_drive/scraped_files/20220821-003129-reddit/imgur/imgur_ttCE2xJ_Farmer's daughter.jpg\n",
      "1/1 [==============================] - 0s 10ms/step\n",
      "Image belongs to Pornographic with a 43.67 percent confidence.\n",
      "Loading nvme_drive/scraped_files/20220821-003129-reddit/imgur/imgur_Z5KE5CN_Adriana Chechik.jpg\n",
      "1/1 [==============================] - 0s 10ms/step\n",
      "Image belongs to Pornographic with a 64.80 percent confidence.\n",
      "Loading nvme_drive/scraped_files/20220821-003129-reddit/imgur/imgur_4ghcaH0_Outdoor yoga.jpg\n",
      "1/1 [==============================] - 0s 10ms/step\n",
      "Image belongs to Pornographic with a 53.07 percent confidence.\n",
      "Loading nvme_drive/scraped_files/20220821-003129-reddit/imgur/imgur_l1xjWUM_Nensi - Tender Nensi.jpg\n",
      "1/1 [==============================] - 0s 10ms/step\n",
      "Image belongs to Pornographic with a 88.12 percent confidence.\n",
      "Loading nvme_drive/scraped_files/20220821-003129-reddit/imgur/imgur_uSU4TpI_Galina T.jpg\n",
      "1/1 [==============================] - 0s 10ms/step\n",
      "Image belongs to Pornographic with a 57.34 percent confidence.\n",
      "Loading nvme_drive/scraped_files/20220821-003129-reddit/imgur/imgur_OZw5N3t_Natural beauty.jpg\n",
      "1/1 [==============================] - 0s 10ms/step\n",
      "Image belongs to Pornographic with a 73.06 percent confidence.\n",
      "Loading nvme_drive/scraped_files/20220821-003129-reddit/imgur/imgur_yFctHr9_Pink and big.jpg\n",
      "1/1 [==============================] - 0s 10ms/step\n",
      "Image belongs to Pornographic with a 69.49 percent confidence.\n",
      "Loading nvme_drive/scraped_files/20220821-003129-reddit/imgur/imgur_g0HiQd6_Beautiful (Karissa Diamond).jpg\n",
      "1/1 [==============================] - 0s 10ms/step\n",
      "Image belongs to Pornographic with a 62.68 percent confidence.\n",
      "Loading nvme_drive/scraped_files/20220821-003129-reddit/imgur/imgur_zzeQmPK_Seated Outdoors.jpg\n",
      "1/1 [==============================] - 0s 10ms/step\n",
      "Image belongs to Pornographic with a 87.01 percent confidence.\n",
      "Loading nvme_drive/scraped_files/20220821-003129-reddit/imgur/imgur_kh7QjSd_Pondering the puzzle.jpg\n",
      "1/1 [==============================] - 0s 10ms/step\n",
      "Image belongs to Pornographic with a 71.92 percent confidence.\n",
      "Loading nvme_drive/scraped_files/20220821-003129-reddit/imgur/imgur_yw0TzRc_Weapons of Mass Seduction.jpg\n",
      "1/1 [==============================] - 0s 10ms/step\n",
      "Image belongs to Pornographic with a 66.75 percent confidence.\n",
      "Loading nvme_drive/scraped_files/20220821-003129-reddit/imgur/imgur_luK0gfF_Forest.jpg\n",
      "1/1 [==============================] - 0s 10ms/step\n",
      "Image belongs to Pornographic with a 85.17 percent confidence.\n",
      "Loading nvme_drive/scraped_files/20220821-003129-reddit/imgur/imgur_w2KD0sc_Statuesque tatted beauty.jpg\n",
      "1/1 [==============================] - 0s 10ms/step\n",
      "Image belongs to Pornographic with a 84.04 percent confidence.\n",
      "Loading nvme_drive/scraped_files/20220821-003129-reddit/imgur/imgur_IgWnmQ4_Insert here.jpg\n",
      "1/1 [==============================] - 0s 10ms/step\n",
      "Image belongs to Pornographic with a 82.60 percent confidence.\n",
      "Loading nvme_drive/scraped_files/20220821-003129-reddit/imgur/imgur_IWIw8iF_Green bench.jpg\n",
      "1/1 [==============================] - 0s 10ms/step\n",
      "Image belongs to Pornographic with a 82.50 percent confidence.\n",
      "Loading nvme_drive/scraped_files/20220821-003129-reddit/imgur/imgur_UuArMdM_spread em.jpg\n",
      "1/1 [==============================] - 0s 10ms/step\n",
      "Image belongs to Pornographic with a 58.47 percent confidence.\n",
      "Loading nvme_drive/scraped_files/20220821-003129-reddit/imgur/imgur_CZY5CVJ_[FFM] Best seat in the house.jpg\n",
      "1/1 [==============================] - 0s 10ms/step\n",
      "Image belongs to Pornographic with a 85.91 percent confidence.\n",
      "Loading nvme_drive/scraped_files/20220821-003129-reddit/imgur/imgur_AvudUx5_Onoff.jpg\n",
      "1/1 [==============================] - 0s 10ms/step\n",
      "Image belongs to Racy with a 50.92 percent confidence.\n",
      "Loading nvme_drive/scraped_files/20220821-003129-reddit/imgur/imgur_ceXOuop_Hot brunette stripping.jpg\n",
      "1/1 [==============================] - 0s 10ms/step\n",
      "Image belongs to Pornographic with a 87.55 percent confidence.\n",
      "Loading nvme_drive/scraped_files/20220821-003129-reddit/imgur/imgur_2DwyfaN_Peeking through.jpg\n",
      "1/1 [==============================] - 0s 10ms/step\n",
      "Image belongs to Pornographic with a 94.53 percent confidence.\n",
      "Loading nvme_drive/scraped_files/20220821-003129-reddit/imgur/imgur_t9P3tR4_Lil Red Riding Wood.jpg\n",
      "1/1 [==============================] - 0s 10ms/step\n",
      "Image belongs to Pornographic with a 58.31 percent confidence.\n",
      "Loading nvme_drive/scraped_files/20220821-003129-reddit/imgur/imgur_YFiMRhF_Red heat.jpg\n",
      "1/1 [==============================] - 0s 10ms/step\n",
      "Image belongs to Pornographic with a 75.14 percent confidence.\n",
      "Loading nvme_drive/scraped_files/20220821-003129-reddit/imgur/imgur_RFMpuea_Fay.jpg\n",
      "1/1 [==============================] - 0s 10ms/step\n",
      "Image belongs to Pornographic with a 64.45 percent confidence.\n",
      "Loading nvme_drive/scraped_files/20220821-003129-reddit/imgur/imgur_HOFDTJX_Red fishnets.jpg\n",
      "1/1 [==============================] - 0s 10ms/step\n",
      "Image belongs to None with a 46.70 percent confidence.\n",
      "Loading nvme_drive/scraped_files/20220821-003129-reddit/imgur/imgur_I6UL3cB_No Man Can Resist - VR Porn Video - VR Popcorn.jpg\n",
      "1/1 [==============================] - 0s 10ms/step\n",
      "Image belongs to Pornographic with a 86.07 percent confidence.\n",
      "Loading nvme_drive/scraped_files/20220821-003129-reddit/imgur/imgur_oDDNmA9_On off.jpg\n",
      "1/1 [==============================] - 0s 10ms/step\n",
      "Image belongs to Pornographic with a 85.31 percent confidence.\n",
      "Loading nvme_drive/scraped_files/20220821-003129-reddit/imgur/imgur_zoFIwO7_love the tanlines.jpg\n",
      "1/1 [==============================] - 0s 10ms/step\n",
      "Image belongs to Racy with a 71.89 percent confidence.\n",
      "Loading nvme_drive/scraped_files/20220821-003129-reddit/imgur/imgur_0f6maGF_Oiled up with amazing tits.jpg\n",
      "1/1 [==============================] - 0s 10ms/step\n",
      "Image belongs to Pornographic with a 70.51 percent confidence.\n",
      "Loading nvme_drive/scraped_files/20220821-003129-reddit/imgur/imgur_E5qsb1M_Shiny floors.jpg\n",
      "1/1 [==============================] - 0s 10ms/step\n",
      "Image belongs to Pornographic with a 78.11 percent confidence.\n",
      "Loading nvme_drive/scraped_files/20220821-003129-reddit/imgur/imgur_IpQBEsI_This look AMAZING..jpg\n",
      "1/1 [==============================] - 0s 10ms/step\n",
      "Image belongs to None with a 57.13 percent confidence.\n",
      "Loading nvme_drive/scraped_files/20220821-003129-reddit/imgur/imgur_fdNb1Bq_Avery Nona.jpg\n",
      "1/1 [==============================] - 0s 10ms/step\n",
      "Image belongs to Pornographic with a 56.99 percent confidence.\n",
      "Loading nvme_drive/scraped_files/20220821-003129-reddit/imgur/imgur_Qv77n2Y_LunaPic Edit.jpg\n",
      "1/1 [==============================] - 0s 10ms/step\n",
      "Image belongs to Pornographic with a 90.29 percent confidence.\n",
      "Loading nvme_drive/scraped_files/20220821-003129-reddit/imgur/imgur_Y8vG6db_Kristy Garret.jpg\n",
      "1/1 [==============================] - 0s 10ms/step\n",
      "Image belongs to Pornographic with a 65.88 percent confidence.\n",
      "Loading nvme_drive/scraped_files/20220821-003129-reddit/imgur/imgur_iNoyp3Y_Irina.jpg\n",
      "1/1 [==============================] - 0s 10ms/step\n",
      "Image belongs to Pornographic with a 91.54 percent confidence.\n",
      "Loading nvme_drive/scraped_files/20220821-003129-reddit/imgur/imgur_bllndOS_Vika A. is so beautiful.jpg\n",
      "1/1 [==============================] - 0s 10ms/step\n",
      "Image belongs to None with a 67.93 percent confidence.\n",
      "Loading nvme_drive/scraped_files/20220821-003129-reddit/imgur/imgur_SIx4hOE_Pose lineup.jpg\n",
      "1/1 [==============================] - 0s 10ms/step\n",
      "Image belongs to Pornographic with a 76.16 percent confidence.\n",
      "Loading nvme_drive/scraped_files/20220821-003129-reddit/imgur/imgur_xZ6kGfr_Trippy.jpg\n",
      "1/1 [==============================] - 0s 10ms/step\n",
      "Image belongs to None with a 96.91 percent confidence.\n",
      "Loading nvme_drive/scraped_files/20220821-003129-reddit/imgur/imgur_GepdXsw_Busty cutie.jpg\n",
      "1/1 [==============================] - 0s 10ms/step\n",
      "Image belongs to Pornographic with a 70.29 percent confidence.\n",
      "Loading nvme_drive/scraped_files/20220821-003129-reddit/imgur/imgur_lPKM3sP_Fit girl.jpg\n",
      "1/1 [==============================] - 0s 10ms/step\n",
      "Image belongs to Pornographic with a 65.62 percent confidence.\n",
      "Loading nvme_drive/scraped_files/20220821-003129-reddit/imgur/imgur_06fUZT2_Seltin.jpg\n",
      "1/1 [==============================] - 0s 10ms/step\n",
      "Image belongs to Pornographic with a 71.38 percent confidence.\n",
      "Loading nvme_drive/scraped_files/20220821-003129-reddit/imgur/imgur_fLqLmAX_Dasha vs Ekaterina.jpg\n",
      "1/1 [==============================] - 0s 10ms/step\n",
      "Image belongs to Pornographic with a 90.18 percent confidence.\n",
      "Loading nvme_drive/scraped_files/20220821-003129-reddit/imgur/imgur_hc1vMnq_Pretty big bed.jpg\n",
      "1/1 [==============================] - 0s 10ms/step\n",
      "Image belongs to Pornographic with a 52.49 percent confidence.\n",
      "Loading nvme_drive/scraped_files/20220821-003129-reddit/imgur/imgur_EoD2zKQ_Looking slightly dazed.jpg\n",
      "1/1 [==============================] - 0s 10ms/step\n",
      "Image belongs to Pornographic with a 72.31 percent confidence.\n",
      "Loading nvme_drive/scraped_files/20220821-003129-reddit/imgur/imgur_p90vA5Y_Sybil.jpg\n",
      "1/1 [==============================] - 0s 10ms/step\n",
      "Image belongs to Pornographic with a 73.04 percent confidence.\n",
      "Loading nvme_drive/scraped_files/20220821-003129-reddit/imgur/imgur_UpdGjwq_Taking a breather on the quad.jpg\n",
      "1/1 [==============================] - 0s 10ms/step\n",
      "Image belongs to Pornographic with a 64.71 percent confidence.\n",
      "Loading nvme_drive/scraped_files/20220821-003129-reddit/imgur/imgur_jGd7g2D_Coxy.jpg\n",
      "1/1 [==============================] - 0s 10ms/step\n",
      "Image belongs to Pornographic with a 80.94 percent confidence.\n",
      "Loading nvme_drive/scraped_files/20220821-003129-reddit/imgur/imgur_u7RgH72_Allison Tyler.jpg\n",
      "1/1 [==============================] - 0s 10ms/step\n",
      "Image belongs to Pornographic with a 67.12 percent confidence.\n",
      "Loading nvme_drive/scraped_files/20220821-003129-reddit/imgur/imgur_NwubpFF_Mirror Mirror.jpg\n",
      "1/1 [==============================] - 0s 10ms/step\n",
      "Image belongs to Pornographic with a 86.91 percent confidence.\n",
      "Loading nvme_drive/scraped_files/20220821-003129-reddit/imgur/imgur_5Q2IBc3_Gorgeous.jpg\n",
      "1/1 [==============================] - 0s 10ms/step\n",
      "Image belongs to Pornographic with a 81.61 percent confidence.\n",
      "Loading nvme_drive/scraped_files/20220821-003129-reddit/imgur/imgur_prEpJQx_Smooth n shiny.jpg\n",
      "1/1 [==============================] - 0s 10ms/step\n",
      "Image belongs to Pornographic with a 88.81 percent confidence.\n",
      "Loading nvme_drive/scraped_files/20220821-003129-reddit/imgur/imgur_xINJhHU_Nice Pair.jpg\n",
      "1/1 [==============================] - 0s 10ms/step\n",
      "Image belongs to Pornographic with a 60.52 percent confidence.\n",
      "Loading nvme_drive/scraped_files/20220821-003129-reddit/imgur/imgur_QnlLVua_A dinner offering.jpg\n",
      "1/1 [==============================] - 0s 10ms/step\n",
      "Image belongs to Pornographic with a 99.56 percent confidence.\n",
      "Loading nvme_drive/scraped_files/20220821-003129-reddit/imgur/imgur_G2lQPTT_She Is Inked & Oiled.jpg\n",
      "1/1 [==============================] - 0s 10ms/step\n",
      "Image belongs to None with a 54.39 percent confidence.\n",
      "Loading nvme_drive/scraped_files/20220821-003129-reddit/imgur/imgur_jocK4LQ_Aerial.jpg\n",
      "1/1 [==============================] - 0s 10ms/step\n",
      "Image belongs to Pornographic with a 56.54 percent confidence.\n",
      "Loading nvme_drive/scraped_files/20220821-003129-reddit/imgur/imgur_TPo2dDd_Trying to hide.jpg\n",
      "1/1 [==============================] - 0s 10ms/step\n",
      "Image belongs to None with a 98.12 percent confidence.\n",
      "Loading nvme_drive/scraped_files/20220821-003129-reddit/imgur/imgur_nZL4a2O_Beach time.jpg\n",
      "1/1 [==============================] - 0s 10ms/step\n",
      "Image belongs to Pornographic with a 59.50 percent confidence.\n",
      "Loading nvme_drive/scraped_files/20220821-003129-reddit/imgur/imgur_t922yP3_Change room boobs and tongue.jpg\n",
      "1/1 [==============================] - 0s 10ms/step\n",
      "Image belongs to Pornographic with a 58.92 percent confidence.\n",
      "Loading nvme_drive/scraped_files/20220821-003129-reddit/imgur/imgur_ZKOkg9J_Guinevere Huney.jpg\n",
      "1/1 [==============================] - 0s 10ms/step\n",
      "Image belongs to Pornographic with a 94.65 percent confidence.\n",
      "Loading nvme_drive/scraped_files/20220821-003129-reddit/imgur/imgur_3XXXPBZ_bit nippy.jpg\n",
      "1/1 [==============================] - 0s 10ms/step\n",
      "Image belongs to Pornographic with a 89.34 percent confidence.\n",
      "Loading nvme_drive/scraped_files/20220821-003129-reddit/imgur/imgur_uIfpvrg_Tiny little top.jpg\n",
      "1/1 [==============================] - 0s 10ms/step\n",
      "Image belongs to Racy with a 57.73 percent confidence.\n",
      "Loading nvme_drive/scraped_files/20220821-003129-reddit/imgur/imgur_xzNAnUk_Nothing sexier than big tits and flat tummy.jpg\n",
      "1/1 [==============================] - 0s 10ms/step\n",
      "Image belongs to Pornographic with a 67.97 percent confidence.\n",
      "Loading nvme_drive/scraped_files/20220821-003129-reddit/imgur/imgur_ZfRU1Iu_Under the skirt.jpg\n",
      "1/1 [==============================] - 0s 10ms/step\n",
      "Image belongs to Pornographic with a 89.66 percent confidence.\n",
      "Loading nvme_drive/scraped_files/20220821-003129-reddit/imgur/imgur_aj3B5x5_Katya (top) vs Katr1n (bottom).jpg\n",
      "1/1 [==============================] - 0s 10ms/step\n",
      "Image belongs to Pornographic with a 87.48 percent confidence.\n",
      "Loading nvme_drive/scraped_files/20220821-003129-reddit/imgur/imgur_Q6CLX2F_Polina.jpg\n",
      "1/1 [==============================] - 0s 10ms/step\n",
      "Image belongs to Pornographic with a 72.62 percent confidence.\n",
      "Loading nvme_drive/scraped_files/20220821-003129-reddit/imgur/imgur_wifZ8ei_Preparation for sleep.jpg\n",
      "1/1 [==============================] - 0s 10ms/step\n",
      "Image belongs to Pornographic with a 82.71 percent confidence.\n",
      "Loading nvme_drive/scraped_files/20220821-003129-reddit/imgur/imgur_obNdJeH_Not sure how chairs work....jpg\n",
      "1/1 [==============================] - 0s 10ms/step\n",
      "Image belongs to Pornographic with a 78.41 percent confidence.\n",
      "Loading nvme_drive/scraped_files/20220821-003129-reddit/imgur/imgur_pNkzYQU_Sonya Blaze.jpg\n",
      "1/1 [==============================] - 0s 10ms/step\n",
      "Image belongs to Pornographic with a 64.28 percent confidence.\n",
      "Loading nvme_drive/scraped_files/20220821-003129-reddit/imgur/imgur_K1mZrSq_Lily Ivy & Markéta Štroblová.jpg\n",
      "1/1 [==============================] - 0s 10ms/step\n",
      "Image belongs to Pornographic with a 63.23 percent confidence.\n",
      "Loading nvme_drive/scraped_files/20220821-003129-reddit/imgur/imgur_PEEWkkk_Busting Out.jpg\n",
      "1/1 [==============================] - 0s 10ms/step\n",
      "Image belongs to Pornographic with a 58.01 percent confidence.\n",
      "Loading nvme_drive/scraped_files/20220821-003129-reddit/imgur/imgur_KnOoSq9_large labia.jpg\n",
      "1/1 [==============================] - 0s 10ms/step\n",
      "Image belongs to Pornographic with a 65.71 percent confidence.\n",
      "Loading nvme_drive/scraped_files/20220821-003129-reddit/imgur/imgur_pRDzqYc_In control.jpg\n",
      "1/1 [==============================] - 0s 10ms/step\n",
      "Image belongs to Pornographic with a 72.96 percent confidence.\n",
      "Loading nvme_drive/scraped_files/20220821-003129-reddit/imgur/imgur_LXYscNS_Gloria Sol.jpg\n",
      "1/1 [==============================] - 0s 10ms/step\n",
      "Image belongs to Pornographic with a 93.09 percent confidence.\n",
      "Loading nvme_drive/scraped_files/20220821-003129-reddit/imgur/imgur_PSQwCEG_Sara Jaymes.jpg\n",
      "1/1 [==============================] - 0s 10ms/step\n",
      "Image belongs to Pornographic with a 71.59 percent confidence.\n",
      "Loading nvme_drive/scraped_files/20220821-003129-reddit/imgur/imgur_yfBm3Ce_Just Waking Up.jpg\n",
      "1/1 [==============================] - 0s 10ms/step\n",
      "Image belongs to Pornographic with a 76.76 percent confidence.\n",
      "Loading nvme_drive/scraped_files/20220821-003129-reddit/imgur/imgur_IlMXPhN_Heavenly.jpg\n",
      "1/1 [==============================] - 0s 10ms/step\n",
      "Image belongs to Pornographic with a 81.52 percent confidence.\n",
      "Loading nvme_drive/scraped_files/20220821-003129-reddit/imgur/imgur_VOMoSpl_Lefty loosey.jpg\n",
      "1/1 [==============================] - 0s 10ms/step\n",
      "Image belongs to Pornographic with a 91.32 percent confidence.\n",
      "Loading nvme_drive/scraped_files/20220821-003129-reddit/imgur/imgur_FWol5Tb_Remy, Phoenix, Jada..jpg\n",
      "1/1 [==============================] - 0s 10ms/step\n",
      "Image belongs to None with a 48.62 percent confidence.\n",
      "Loading nvme_drive/scraped_files/20220821-003129-reddit/imgur/imgur_zOQzylv_Top Tier.jpg\n",
      "1/1 [==============================] - 0s 10ms/step\n",
      "Image belongs to Pornographic with a 45.95 percent confidence.\n",
      "Loading nvme_drive/scraped_files/20220821-003129-reddit/imgur/imgur_yjhvKs3_Pool Day.jpg\n",
      "1/1 [==============================] - 0s 10ms/step\n",
      "Image belongs to Pornographic with a 79.18 percent confidence.\n",
      "Loading nvme_drive/scraped_files/20220821-003129-reddit/imgur/imgur_z5lZhqd_Zsanette Tormay (album in comments).jpg\n",
      "1/1 [==============================] - 0s 10ms/step\n",
      "Image belongs to Pornographic with a 81.23 percent confidence.\n",
      "Loading nvme_drive/scraped_files/20220821-003129-reddit/imgur/imgur_1iARK8m_Busty blonde against the shower glass.jpg\n",
      "1/1 [==============================] - 0s 10ms/step\n",
      "Image belongs to Pornographic with a 48.35 percent confidence.\n",
      "Loading nvme_drive/scraped_files/20220821-003129-reddit/imgur/imgur_f9djDVv_Stacked.jpg\n",
      "1/1 [==============================] - 0s 10ms/step\n",
      "Image belongs to Racy with a 63.36 percent confidence.\n",
      "Loading nvme_drive/scraped_files/20220821-003129-reddit/imgur/imgur_hbrnk0i_They used to be wearing matching outfits.jpg\n",
      "1/1 [==============================] - 0s 10ms/step\n",
      "Image belongs to Pornographic with a 73.58 percent confidence.\n",
      "Loading nvme_drive/scraped_files/20220821-003129-reddit/imgur/imgur_Pg75tGy_Perky blonde changing in her closet.jpg\n",
      "1/1 [==============================] - 0s 10ms/step\n",
      "Image belongs to Pornographic with a 74.93 percent confidence.\n",
      "Loading nvme_drive/scraped_files/20220821-003129-reddit/imgur/imgur_4QzRF9s_Scintillating.jpg\n",
      "1/1 [==============================] - 0s 10ms/step\n",
      "Image belongs to Pornographic with a 73.65 percent confidence.\n",
      "Loading nvme_drive/scraped_files/20220821-003129-reddit/imgur/imgur_pY7kDz4_10_10.jpg\n",
      "1/1 [==============================] - 0s 10ms/step\n",
      "Image belongs to Pornographic with a 73.04 percent confidence.\n",
      "Loading nvme_drive/scraped_files/20220821-003129-reddit/imgur/imgur_mAFZN6m_Hijabi Hiker.jpg\n",
      "1/1 [==============================] - 0s 10ms/step\n",
      "Image belongs to Pornographic with a 52.92 percent confidence.\n",
      "Loading nvme_drive/scraped_files/20220821-003129-reddit/imgur/imgur_h3h7iFi_Classic Carmen.jpg\n",
      "1/1 [==============================] - 0s 10ms/step\n",
      "Image belongs to Pornographic with a 65.61 percent confidence.\n",
      "Loading nvme_drive/scraped_files/20220821-003129-reddit/imgur/imgur_vbRXmqt_Huntress in the wild.jpg\n",
      "1/1 [==============================] - 0s 10ms/step\n",
      "Image belongs to None with a 75.63 percent confidence.\n",
      "Loading nvme_drive/scraped_files/20220821-003129-reddit/imgur/imgur_XHqnv2F_Bubble Bath.jpg\n",
      "1/1 [==============================] - 0s 10ms/step\n",
      "Image belongs to Pornographic with a 45.11 percent confidence.\n",
      "Loading nvme_drive/scraped_files/20220821-003129-reddit/imgur/imgur_HUaLXiE_Jess Clarke vs Roxanna June.jpg\n",
      "1/1 [==============================] - 0s 10ms/step\n",
      "Image belongs to Pornographic with a 86.40 percent confidence.\n",
      "Loading nvme_drive/scraped_files/20220821-003129-reddit/imgur/imgur_agd0DZd_Girl with books.jpg\n",
      "1/1 [==============================] - 0s 10ms/step\n",
      "Image belongs to None with a 96.50 percent confidence.\n",
      "Loading nvme_drive/scraped_files/20220821-003129-reddit/imgur/imgur_EsXMZqb_Hiking day.jpg\n",
      "1/1 [==============================] - 0s 10ms/step\n",
      "Image belongs to Pornographic with a 93.46 percent confidence.\n",
      "Loading nvme_drive/scraped_files/20220821-003129-reddit/imgur/imgur_al4sYNF_To Die For.jpg\n",
      "1/1 [==============================] - 0s 10ms/step\n",
      "Image belongs to Pornographic with a 84.91 percent confidence.\n",
      "Loading nvme_drive/scraped_files/20220821-003129-reddit/imgur/imgur_xAD7epX_She offers herself up.jpg\n",
      "1/1 [==============================] - 0s 10ms/step\n",
      "Image belongs to Pornographic with a 96.36 percent confidence.\n",
      "Loading nvme_drive/scraped_files/20220821-003129-reddit/imgur/imgur_tA2Lycq_Her nipples are divine.jpg\n",
      "1/1 [==============================] - 0s 10ms/step\n",
      "Image belongs to Pornographic with a 84.33 percent confidence.\n",
      "Loading nvme_drive/scraped_files/20220821-003129-reddit/imgur/imgur_aWcC6Ob_Sassy tits on her bed.jpg\n",
      "1/1 [==============================] - 0s 10ms/step\n",
      "Image belongs to Pornographic with a 50.32 percent confidence.\n",
      "Loading nvme_drive/scraped_files/20220821-003129-reddit/imgur/imgur_9vOpw6J_Escalada - Rilee Marks.jpg\n",
      "1/1 [==============================] - 0s 10ms/step\n",
      "Image belongs to Pornographic with a 97.62 percent confidence.\n",
      "Loading nvme_drive/scraped_files/20220821-003129-reddit/imgur/imgur_jlMMc2H_Changing Room Selfie.jpg\n",
      "1/1 [==============================] - 0s 10ms/step\n",
      "Image belongs to Pornographic with a 52.54 percent confidence.\n",
      "Loading nvme_drive/scraped_files/20220821-003129-reddit/imgur/imgur_g3d0m8E_I love going to a wellness.jpg\n",
      "1/1 [==============================] - 0s 10ms/step\n",
      "Image belongs to Pornographic with a 79.76 percent confidence.\n",
      "Loading nvme_drive/scraped_files/20220821-003129-reddit/imgur/imgur_0abqmlP_Mila Amour.jpg\n",
      "1/1 [==============================] - 0s 10ms/step\n",
      "Image belongs to Pornographic with a 55.36 percent confidence.\n",
      "Loading nvme_drive/scraped_files/20220821-003129-reddit/imgur/imgur_PHl3LHw_Goddamn.jpg\n",
      "1/1 [==============================] - 0s 10ms/step\n",
      "Image belongs to Pornographic with a 98.59 percent confidence.\n",
      "Loading nvme_drive/scraped_files/20220821-003129-reddit/imgur/imgur_qRYOaxP_Anastasiya S.jpg\n",
      "1/1 [==============================] - 0s 10ms/step\n",
      "Image belongs to Pornographic with a 82.95 percent confidence.\n",
      "Loading nvme_drive/scraped_files/20220821-003129-reddit/imgur/imgur_y8OASeo_Seize The Day.jpg\n",
      "1/1 [==============================] - 0s 10ms/step\n",
      "Image belongs to Pornographic with a 60.89 percent confidence.\n",
      "Loading nvme_drive/scraped_files/20220821-003129-reddit/imgur/imgur_v1xyV7r_Lana Lane for MPL Studios.jpg\n",
      "1/1 [==============================] - 0s 10ms/step\n",
      "Image belongs to Pornographic with a 98.42 percent confidence.\n",
      "Loading nvme_drive/scraped_files/20220821-003129-reddit/imgur/imgur_wbAueRU_Petite Brunette on&off from front, side, and back.jpg\n",
      "1/1 [==============================] - 0s 10ms/step\n",
      "Image belongs to Pornographic with a 81.23 percent confidence.\n",
      "Loading nvme_drive/scraped_files/20220821-003129-reddit/imgur/imgur_SLS6uEI_Damn.jpg\n",
      "1/1 [==============================] - 0s 10ms/step\n",
      "Image belongs to Pornographic with a 48.65 percent confidence.\n",
      "Loading nvme_drive/scraped_files/20220821-003129-reddit/imgur/imgur_j0afzA3_Lady Dee.jpg\n",
      "1/1 [==============================] - 0s 10ms/step\n",
      "Image belongs to Pornographic with a 72.45 percent confidence.\n",
      "Loading nvme_drive/scraped_files/20220821-003129-reddit/imgur/imgur_UOWY7k6_God Damn.jpg\n",
      "1/1 [==============================] - 0s 10ms/step\n",
      "Image belongs to Pornographic with a 65.56 percent confidence.\n",
      "Loading nvme_drive/scraped_files/20220821-003129-reddit/imgur/imgur_2sGCa4L_Titled tiles.jpg\n",
      "1/1 [==============================] - 0s 10ms/step\n",
      "Image belongs to Pornographic with a 83.26 percent confidence.\n",
      "Loading nvme_drive/scraped_files/20220821-003129-reddit/imgur/imgur_Dh27upJ_Nice pairs.jpg\n",
      "1/1 [==============================] - 0s 10ms/step\n",
      "Image belongs to Pornographic with a 77.50 percent confidence.\n",
      "Loading nvme_drive/scraped_files/20220821-003129-reddit/imgur/imgur_WTtEg3W_Relaxing on the beach.jpg\n",
      "1/1 [==============================] - 0s 10ms/step\n",
      "Image belongs to Pornographic with a 70.86 percent confidence.\n",
      "Loading nvme_drive/scraped_files/20220821-003129-reddit/imgur/imgur_WrgeHPN_Morning light.jpg\n",
      "1/1 [==============================] - 0s 10ms/step\n",
      "Image belongs to Pornographic with a 77.31 percent confidence.\n",
      "Loading nvme_drive/scraped_files/20220821-003129-reddit/imgur/imgur_1mX8RaJ_Pretty Pair.jpg\n",
      "1/1 [==============================] - 0s 10ms/step\n",
      "Image belongs to Pornographic with a 71.19 percent confidence.\n",
      "Loading nvme_drive/scraped_files/20220821-003129-reddit/imgur/imgur_Gm3rsfA_Big pierced tits.jpg\n",
      "1/1 [==============================] - 0s 10ms/step\n",
      "Image belongs to Pornographic with a 55.04 percent confidence.\n",
      "Loading nvme_drive/scraped_files/20220821-003129-reddit/imgur/imgur_wNCueFQ_Coxy.jpg\n",
      "1/1 [==============================] - 0s 10ms/step\n",
      "Image belongs to Pornographic with a 49.19 percent confidence.\n",
      "Loading nvme_drive/scraped_files/20220821-003129-reddit/imgur/imgur_s0KisUJ_NEXT \"COLLECTION\" _ #0065 - PEACHES.jpg\n",
      "1/1 [==============================] - 0s 10ms/step\n",
      "Image belongs to Racy with a 67.29 percent confidence.\n",
      "Loading nvme_drive/scraped_files/20220821-003129-reddit/imgur/imgur_ftNJC4x_Estelle | \"Meja\".jpg\n",
      "1/1 [==============================] - 0s 10ms/step\n",
      "Image belongs to Pornographic with a 57.45 percent confidence.\n",
      "Loading nvme_drive/scraped_files/20220821-003129-reddit/imgur/imgur_gXIaZOk_Incredible ginger.jpg\n",
      "1/1 [==============================] - 0s 10ms/step\n",
      "Image belongs to Pornographic with a 78.29 percent confidence.\n",
      "Loading nvme_drive/scraped_files/20220821-003129-reddit/imgur/imgur_19xB9Ky_Yukiko.jpg\n",
      "1/1 [==============================] - 0s 10ms/step\n",
      "Image belongs to Pornographic with a 87.86 percent confidence.\n",
      "Loading nvme_drive/scraped_files/20220821-003129-reddit/imgur/imgur_9H8K1TV_Beautiful island girl.jpg\n",
      "1/1 [==============================] - 0s 10ms/step\n",
      "Image belongs to Pornographic with a 96.57 percent confidence.\n",
      "Loading nvme_drive/scraped_files/20220821-003129-reddit/imgur/imgur_x0CPrQ5_Bianka.jpg\n",
      "1/1 [==============================] - 0s 11ms/step\n",
      "Image belongs to None with a 40.25 percent confidence.\n",
      "Loading nvme_drive/scraped_files/20220821-003129-reddit/imgur/imgur_7tZOYY9_Solar stripes.jpg\n",
      "1/1 [==============================] - 0s 10ms/step\n",
      "Image belongs to Pornographic with a 70.66 percent confidence.\n",
      "Loading nvme_drive/scraped_files/20220821-003129-reddit/imgur/imgur_3qHWxW4_Hot as hell.jpg\n",
      "1/1 [==============================] - 0s 10ms/step\n",
      "Image belongs to Pornographic with a 36.55 percent confidence.\n",
      "Loading nvme_drive/scraped_files/20220821-003129-reddit/imgur/imgur_X51zKlK_Sunlit.jpg\n",
      "1/1 [==============================] - 0s 10ms/step\n",
      "Image belongs to Pornographic with a 53.90 percent confidence.\n",
      "Loading nvme_drive/scraped_files/20220821-003129-reddit/imgur/imgur_ObAQkkr_She Was Always A Rule-Breaker.jpg\n",
      "1/1 [==============================] - 0s 10ms/step\n",
      "Image belongs to None with a 55.54 percent confidence.\n",
      "Loading nvme_drive/scraped_files/20220821-003129-reddit/imgur/imgur_1eKYf2d_Fantastic.jpg\n",
      "1/1 [==============================] - 0s 10ms/step\n",
      "Image belongs to Pornographic with a 93.57 percent confidence.\n",
      "Loading nvme_drive/scraped_files/20220821-003129-reddit/imgur/imgur_uRJWAgC_White mesh underwear.jpg\n",
      "1/1 [==============================] - 0s 10ms/step\n",
      "Image belongs to Pornographic with a 75.51 percent confidence.\n",
      "Loading nvme_drive/scraped_files/20220821-003129-reddit/imgur/imgur_WObuvXB_like cushion.jpg\n",
      "1/1 [==============================] - 0s 10ms/step\n",
      "Image belongs to Pornographic with a 42.49 percent confidence.\n",
      "Loading nvme_drive/scraped_files/20220821-003129-reddit/imgur/imgur_jmZ9bFR_Would-be globe trotter.jpg\n",
      "1/1 [==============================] - 0s 10ms/step\n",
      "Image belongs to Pornographic with a 70.64 percent confidence.\n",
      "Loading nvme_drive/scraped_files/20220821-003129-reddit/imgur/imgur_m1HWZLC_Selfshot in the bathroom.jpg\n",
      "1/1 [==============================] - 0s 10ms/step\n",
      "Image belongs to None with a 69.29 percent confidence.\n",
      "Loading nvme_drive/scraped_files/20220821-003129-reddit/imgur/imgur_yOpjzpI_Leona Mia.jpg\n",
      "1/1 [==============================] - 0s 10ms/step\n",
      "Image belongs to Pornographic with a 79.92 percent confidence.\n",
      "Loading nvme_drive/scraped_files/20220821-003129-reddit/imgur/imgur_V10ijzg_Helga Lovekaty.jpg\n",
      "1/1 [==============================] - 0s 10ms/step\n",
      "Image belongs to Pornographic with a 52.31 percent confidence.\n",
      "Loading nvme_drive/scraped_files/20220821-003129-reddit/imgur/imgur_YXi0jTG_Ekaterina.jpg\n",
      "1/1 [==============================] - 0s 10ms/step\n",
      "Image belongs to Pornographic with a 70.10 percent confidence.\n",
      "Loading nvme_drive/scraped_files/20220821-003129-reddit/imgur/imgur_it9A9LN_Arm shadow.jpg\n",
      "1/1 [==============================] - 0s 10ms/step\n",
      "Image belongs to Pornographic with a 55.75 percent confidence.\n",
      "Loading nvme_drive/scraped_files/20220821-003129-reddit/imgur/imgur_WZj0oQS_Exchanging glances.jpg\n",
      "1/1 [==============================] - 0s 10ms/step\n",
      "Image belongs to Pornographic with a 79.84 percent confidence.\n",
      "Loading nvme_drive/scraped_files/20220821-003129-reddit/imgur/imgur_HETAEpg_Lifting a leg.jpg\n",
      "1/1 [==============================] - 0s 10ms/step\n",
      "Image belongs to Pornographic with a 87.43 percent confidence.\n",
      "Loading nvme_drive/scraped_files/20220821-003129-reddit/imgur/imgur_6UuOML3_Goddamn.jpg\n",
      "1/1 [==============================] - 0s 10ms/step\n",
      "Image belongs to Pornographic with a 86.57 percent confidence.\n",
      "Loading nvme_drive/scraped_files/20220821-003129-reddit/imgur/imgur_QkvbjKs_Tousled orange hair.jpg\n",
      "1/1 [==============================] - 0s 10ms/step\n",
      "Image belongs to Pornographic with a 79.01 percent confidence.\n",
      "Loading nvme_drive/scraped_files/20220821-003129-reddit/imgur/imgur_rZoc7lf_Covered up.jpg\n",
      "1/1 [==============================] - 0s 10ms/step\n",
      "Image belongs to Pornographic with a 70.37 percent confidence.\n",
      "Loading nvme_drive/scraped_files/20220821-003129-reddit/imgur/imgur_Fl4sB0E_what a pair.jpg\n",
      "1/1 [==============================] - 0s 10ms/step\n",
      "Image belongs to Pornographic with a 91.09 percent confidence.\n",
      "Loading nvme_drive/scraped_files/20220821-003129-reddit/imgur/imgur_9Ip4VfF_Maid Service.jpg\n",
      "1/1 [==============================] - 0s 10ms/step\n",
      "Image belongs to Pornographic with a 75.44 percent confidence.\n",
      "Loading nvme_drive/scraped_files/20220821-003129-reddit/imgur/imgur_9VEfPMD_Having fun while shopping.jpg\n",
      "1/1 [==============================] - 0s 10ms/step\n",
      "Image belongs to Pornographic with a 61.76 percent confidence.\n",
      "Loading nvme_drive/scraped_files/20220821-003129-reddit/imgur/imgur_6beKMND_Strapped up.jpg\n",
      "1/1 [==============================] - 0s 10ms/step\n",
      "Image belongs to Pornographic with a 64.37 percent confidence.\n",
      "Loading nvme_drive/scraped_files/20220821-003129-reddit/imgur/imgur_DlWALGC_Lovely crew.jpg\n",
      "1/1 [==============================] - 0s 10ms/step\n",
      "Image belongs to Pornographic with a 79.12 percent confidence.\n",
      "Loading nvme_drive/scraped_files/20220821-003129-reddit/imgur/imgur_e84Xtws_Handmaiden.jpg\n",
      "1/1 [==============================] - 0s 10ms/step\n",
      "Image belongs to Pornographic with a 73.25 percent confidence.\n",
      "Loading nvme_drive/scraped_files/20220821-003129-reddit/imgur/imgur_uMwdvOb_Tutsi.jpg\n",
      "1/1 [==============================] - 0s 10ms/step\n",
      "Image belongs to Pornographic with a 87.53 percent confidence.\n",
      "Loading nvme_drive/scraped_files/20220821-003129-reddit/imgur/imgur_ms2quSG_Shannon.jpg\n",
      "1/1 [==============================] - 0s 10ms/step\n",
      "Image belongs to Pornographic with a 79.48 percent confidence.\n",
      "Loading nvme_drive/scraped_files/20220821-003129-reddit/imgur/imgur_kASWxra_Anthea.jpg\n",
      "1/1 [==============================] - 0s 10ms/step\n",
      "Image belongs to Pornographic with a 69.44 percent confidence.\n",
      "Loading nvme_drive/scraped_files/20220821-003129-reddit/imgur/imgur_OlHyrPN_Pornstar with model looks.jpg\n",
      "1/1 [==============================] - 0s 10ms/step\n",
      "Image belongs to Pornographic with a 63.09 percent confidence.\n",
      "Loading nvme_drive/scraped_files/20220821-003129-reddit/imgur/imgur_96gCJF4_Wide Rim Hat.jpg\n",
      "1/1 [==============================] - 0s 10ms/step\n",
      "Image belongs to Pornographic with a 69.41 percent confidence.\n",
      "Loading nvme_drive/scraped_files/20220821-003129-reddit/imgur/imgur_B7ZaDvB_Marta Gromova and Katti Colour.jpg\n",
      "1/1 [==============================] - 0s 10ms/step\n",
      "Image belongs to Pornographic with a 68.02 percent confidence.\n",
      "Loading nvme_drive/scraped_files/20220821-003129-reddit/imgur/imgur_9wMFXza_First sip of coffee in the morning.jpg\n",
      "1/1 [==============================] - 0s 10ms/step\n",
      "Image belongs to Pornographic with a 49.91 percent confidence.\n",
      "Loading nvme_drive/scraped_files/20220821-003129-reddit/imgur/imgur_G43PDAc_A spread brunette, waiting to be eaten.jpg\n",
      "1/1 [==============================] - 0s 10ms/step\n",
      "Image belongs to Pornographic with a 78.31 percent confidence.\n",
      "Loading nvme_drive/scraped_files/20220821-003129-reddit/imgur/imgur_OYKGDpV_Morning bliss.jpg\n",
      "1/1 [==============================] - 0s 10ms/step\n",
      "Image belongs to Pornographic with a 70.59 percent confidence.\n",
      "Loading nvme_drive/scraped_files/20220821-003129-reddit/imgur/imgur_Cz7KWjC_Redhead.jpg\n",
      "1/1 [==============================] - 0s 10ms/step\n",
      "Image belongs to Pornographic with a 93.68 percent confidence.\n",
      "Loading nvme_drive/scraped_files/20220821-003129-reddit/imgur/imgur_5WsjfPH_the definition of ghost nipples.jpg\n",
      "1/1 [==============================] - 0s 10ms/step\n",
      "Image belongs to None with a 40.67 percent confidence.\n",
      "Loading nvme_drive/scraped_files/20220821-003129-reddit/imgur/imgur_oJK9a4c_When The Wedding Is Finally Over.jpg\n",
      "1/1 [==============================] - 0s 10ms/step\n",
      "Image belongs to None with a 95.68 percent confidence.\n",
      "Loading nvme_drive/scraped_files/20220821-003129-reddit/imgur/imgur_i7RfLLS_Not your typical picnic in the field.jpg\n",
      "1/1 [==============================] - 0s 10ms/step\n",
      "Image belongs to Pornographic with a 74.91 percent confidence.\n",
      "Loading nvme_drive/scraped_files/20220821-003129-reddit/imgur/imgur_0kxOrJG_Shower.jpg\n",
      "1/1 [==============================] - 0s 10ms/step\n",
      "Image belongs to Pornographic with a 57.11 percent confidence.\n",
      "Loading nvme_drive/scraped_files/20220821-003129-reddit/imgur/imgur_Akn64sC_Against a concrete wall.jpg\n",
      "1/1 [==============================] - 0s 10ms/step\n",
      "Image belongs to None with a 45.97 percent confidence.\n",
      "Loading nvme_drive/scraped_files/20220821-003129-reddit/imgur/imgur_CirGg8W_Heels.jpg\n",
      "1/1 [==============================] - 0s 10ms/step\n",
      "Image belongs to Pornographic with a 86.07 percent confidence.\n",
      "Loading nvme_drive/scraped_files/20220821-003129-reddit/imgur/imgur_MSmlslp_Sexy Selfie.jpg\n",
      "1/1 [==============================] - 0s 10ms/step\n",
      "Image belongs to Pornographic with a 58.26 percent confidence.\n"
     ]
    }
   ],
   "source": [
    "files = glob.glob(OUTPUT_DIRECTORY + '/**/*.jpg', recursive=True)\n",
    "file_count = files.count\n",
    "\n",
    "def load(filename):\n",
    "    print(\"Loading \" + filename)\n",
    "    img = tf.keras.utils.load_img(filename, target_size = (240, 240))\n",
    "    img_array = tf.keras.utils.img_to_array(img)\n",
    "    img_array = tf.expand_dims(img_array, axis=0) # Create a batch\n",
    "    return img_array\n",
    "\n",
    "\n",
    "for file in files:\n",
    "    image = load(file)\n",
    "    predictions = model.predict(image)\n",
    "    score = tf.nn.softmax(predictions[0])\n",
    "    class_name = class_names[np.argmax(score)];\n",
    "    print(\"Image belongs to {} with a {:.2f} percent confidence.\"\n",
    "    .format(class_name, 100 * np.max(score)))\n",
    "    new_directory = PREDICT_DIRECTORY + \"/\" + class_name\n",
    "\n",
    "    if not os.path.isdir(new_directory):\n",
    "        print(\"Could not find \" + new_directory + \" creating it now.\")\n",
    "        os.makedirs(new_directory)\n",
    "\n",
    "    file_name = os.path.basename(file)\n",
    "    new_path = new_directory + \"/\" + file_name\n",
    "    shutil.move(file, new_path)\n"
   ]
  }
 ],
 "metadata": {
  "kernelspec": {
   "display_name": "tf",
   "language": "python",
   "name": "tf"
  },
  "language_info": {
   "codemirror_mode": {
    "name": "ipython",
    "version": 3
   },
   "file_extension": ".py",
   "mimetype": "text/x-python",
   "name": "python",
   "nbconvert_exporter": "python",
   "pygments_lexer": "ipython3",
   "version": "3.9.13"
  },
  "orig_nbformat": 4
 },
 "nbformat": 4,
 "nbformat_minor": 2
}
