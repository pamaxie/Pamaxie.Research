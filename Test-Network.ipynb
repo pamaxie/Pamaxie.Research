{
 "cells": [
  {
   "cell_type": "code",
   "execution_count": 72,
   "metadata": {},
   "outputs": [
    {
     "name": "stdout",
     "output_type": "stream",
     "text": [
      "Creating folder: nvme_drive/scraped_files/20220818-230726-reddit\n",
      "Creating folder: nvme_drive/scraped_files/PREDICTED_20220818-230726-reddit\n",
      "Executable script is: \n",
      "python3 scraper-scripts/reddit-scraper/scraper.py -l 1000 -p day -d nvme_drive/scraped_files/20220818-230726-reddit yuri_jp\n"
     ]
    }
   ],
   "source": [
    "import argparse\n",
    "import sys\n",
    "import praw\n",
    "import glob\n",
    "import os\n",
    "import errno\n",
    "import time\n",
    "import shutil\n",
    "import uuid\n",
    "\n",
    "import tensorflow as tf\n",
    "import numpy as np\n",
    "\n",
    "from PIL import Image\n",
    "from skimage import transform\n",
    "from keras.models import load_model\n",
    "from tensorflow import keras\n",
    "from tensorflow.keras import layers\n",
    "from tensorflow.keras.models import Sequential\n",
    "\n",
    "physical_devices = tf.config.list_physical_devices('GPU') \n",
    "for gpu_instance in physical_devices: \n",
    "    tf.config.experimental.set_memory_growth(gpu_instance, True)\n",
    "\n",
    "timestr = time.strftime(\"%Y%m%d-%H%M%S\")\n",
    "class_names = ['Gore', 'None', 'Pornographic', 'Racy']\n",
    "\n",
    "REDDIT_NAME = \"yuri_jp\"\n",
    "MAX_NUM_FILES = 1000\n",
    "ACTIVE_SAFETY_NET_MODEL_PATH = \"nvme_drive/Active Models/SafetyNet\"\n",
    "ACTIVE_SYMBOL_NET_MODEL_PATH = \"nvme_drive/Active Models/SymbolNet\"\n",
    "SCRIPT_LOCATION = \"scraper-scripts/reddit-scraper/scraper.py\"\n",
    "OUTPUT_DIRECTORY = \"nvme_drive/scraped_files/\" + timestr + \"-reddit\"\n",
    "PREDICT_DIRECTORY = \"nvme_drive/scraped_files/PREDICTED_\" + timestr + \"-reddit\"\n",
    "\n",
    "if not os.path.isdir(OUTPUT_DIRECTORY):\n",
    "    print(\"Creating folder: \" + OUTPUT_DIRECTORY)\n",
    "    os.makedirs(OUTPUT_DIRECTORY)\n",
    "\n",
    "if not os.path.isdir(PREDICT_DIRECTORY):\n",
    "    print(\"Creating folder: \" + PREDICT_DIRECTORY)\n",
    "    os.makedirs(PREDICT_DIRECTORY)\n",
    "\n",
    "COMMAND = \"python3 \"  + SCRIPT_LOCATION + \" -l \" + str(MAX_NUM_FILES) + \" -p day -d \" + OUTPUT_DIRECTORY + \" \" + REDDIT_NAME\n",
    "print(\"Executable script is: \\n\" + COMMAND)"
   ]
  },
  {
   "cell_type": "code",
   "execution_count": 73,
   "metadata": {},
   "outputs": [
    {
     "name": "stderr",
     "output_type": "stream",
     "text": [
      "/media/jupyter_notebooks/scraper-scripts/reddit-scraper/scraper.py:36: DeprecationWarning: Positional arguments for 'BaseListingMixin.top' will no longer be supported in PRAW 8.\n",
      "Call this function with 'time_filter' as a keyword argument.\n",
      "  hot_subreddit = reddit.subreddit(args.subreddit).top(args.period,\n",
      "[gallery-dl][debug] Version 1.22.4\n",
      "[gallery-dl][debug] Python 3.9.13 - Linux-5.18.10-76051810-generic-x86_64-with-glibc2.35\n",
      "[gallery-dl][debug] requests 2.28.1 - urllib3 1.26.11\n",
      "[1/24] https://i.redd.it/ihmrrv5jcdi91.jpg\n",
      "[gallery-dl][debug] Starting DownloadJob for 'https://i.redd.it/ihmrrv5jcdi91.jpg'\n",
      "[reddit][debug] Using RedditImageExtractor for 'https://i.redd.it/ihmrrv5jcdi91.jpg'\n",
      "[urllib3.connectionpool][debug] Starting new HTTPS connection (1): i.redd.it:443\n",
      "[urllib3.connectionpool][debug] https://i.redd.it:443 \"GET /ihmrrv5jcdi91.jpg HTTP/1.1\" 200 862974\n"
     ]
    },
    {
     "name": "stdout",
     "output_type": "stream",
     "text": [
      "nvme_drive/scraped_files/20220818-230726-reddit/reddit/ihmrrv5jcdi91.jpg\n"
     ]
    },
    {
     "name": "stderr",
     "output_type": "stream",
     "text": [
      "[2/24] https://pbs.twimg.com/media/FaSDT2gaAAEjzQ2.jpg\n",
      "[gallery-dl][debug] Starting DownloadJob for 'https://pbs.twimg.com/media/FaSDT2gaAAEjzQ2.jpg'\n",
      "[twitter][debug] Using TwitterImageExtractor for 'https://pbs.twimg.com/media/FaSDT2gaAAEjzQ2.jpg'\n",
      "[urllib3.connectionpool][debug] Starting new HTTPS connection (1): pbs.twimg.com:443\n",
      "[urllib3.connectionpool][debug] https://pbs.twimg.com:443 \"GET /media/FaSDT2gaAAEjzQ2?format=jpg&name=orig HTTP/1.1\" 200 499971\n"
     ]
    },
    {
     "name": "stdout",
     "output_type": "stream",
     "text": [
      "nvme_drive/scraped_files/20220818-230726-reddit/twitter/FaSDT2gaAAEjzQ2.jpg\n",
      "nvme_drive/scraped_files/20220818-230726-reddit/reddit/s8s5fsicjei91.jpg\n"
     ]
    },
    {
     "name": "stderr",
     "output_type": "stream",
     "text": [
      "[3/24] https://i.redd.it/s8s5fsicjei91.jpg\n",
      "[gallery-dl][debug] Starting DownloadJob for 'https://i.redd.it/s8s5fsicjei91.jpg'\n",
      "[reddit][debug] Using RedditImageExtractor for 'https://i.redd.it/s8s5fsicjei91.jpg'\n",
      "[urllib3.connectionpool][debug] https://i.redd.it:443 \"GET /s8s5fsicjei91.jpg HTTP/1.1\" 200 478656\n",
      "[4/24] https://i.redd.it/6ysmk6c4rci91.jpg\n",
      "[gallery-dl][debug] Starting DownloadJob for 'https://i.redd.it/6ysmk6c4rci91.jpg'\n",
      "[reddit][debug] Using RedditImageExtractor for 'https://i.redd.it/6ysmk6c4rci91.jpg'\n",
      "[urllib3.connectionpool][debug] https://i.redd.it:443 \"GET /6ysmk6c4rci91.jpg HTTP/1.1\" 200 1995360\n"
     ]
    },
    {
     "name": "stdout",
     "output_type": "stream",
     "text": [
      "nvme_drive/scraped_files/20220818-230726-reddit/reddit/6ysmk6c4rci91.jpg\n"
     ]
    },
    {
     "name": "stderr",
     "output_type": "stream",
     "text": [
      "[5/24] https://i.redd.it/qlr44rot1di91.jpg\n",
      "[gallery-dl][debug] Starting DownloadJob for 'https://i.redd.it/qlr44rot1di91.jpg'\n",
      "[reddit][debug] Using RedditImageExtractor for 'https://i.redd.it/qlr44rot1di91.jpg'\n",
      "[urllib3.connectionpool][debug] https://i.redd.it:443 \"GET /qlr44rot1di91.jpg HTTP/1.1\" 200 1045662\n"
     ]
    },
    {
     "name": "stdout",
     "output_type": "stream",
     "text": [
      "nvme_drive/scraped_files/20220818-230726-reddit/reddit/qlr44rot1di91.jpg\n",
      "nvme_drive/scraped_files/20220818-230726-reddit/reddit/i97pu0x9mgi91.jpg\n"
     ]
    },
    {
     "name": "stderr",
     "output_type": "stream",
     "text": [
      "[6/24] https://i.redd.it/i97pu0x9mgi91.jpg\n",
      "[gallery-dl][debug] Starting DownloadJob for 'https://i.redd.it/i97pu0x9mgi91.jpg'\n",
      "[reddit][debug] Using RedditImageExtractor for 'https://i.redd.it/i97pu0x9mgi91.jpg'\n",
      "[urllib3.connectionpool][debug] https://i.redd.it:443 \"GET /i97pu0x9mgi91.jpg HTTP/1.1\" 200 387723\n",
      "[7/24] https://pbs.twimg.com/media/FaLQsdJagAMxEA8.jpg\n",
      "[gallery-dl][debug] Starting DownloadJob for 'https://pbs.twimg.com/media/FaLQsdJagAMxEA8.jpg'\n",
      "[twitter][debug] Using TwitterImageExtractor for 'https://pbs.twimg.com/media/FaLQsdJagAMxEA8.jpg'\n",
      "[urllib3.connectionpool][debug] https://pbs.twimg.com:443 \"GET /media/FaLQsdJagAMxEA8?format=jpg&name=orig HTTP/1.1\" 200 359140\n"
     ]
    },
    {
     "name": "stdout",
     "output_type": "stream",
     "text": [
      "nvme_drive/scraped_files/20220818-230726-reddit/twitter/FaLQsdJagAMxEA8.jpg\n"
     ]
    },
    {
     "name": "stderr",
     "output_type": "stream",
     "text": [
      "[8/24] https://pbs.twimg.com/media/FaFvrRAUUAAY2k3.jpg\n",
      "[gallery-dl][debug] Starting DownloadJob for 'https://pbs.twimg.com/media/FaFvrRAUUAAY2k3.jpg'\n",
      "[twitter][debug] Using TwitterImageExtractor for 'https://pbs.twimg.com/media/FaFvrRAUUAAY2k3.jpg'\n",
      "[urllib3.connectionpool][debug] https://pbs.twimg.com:443 \"GET /media/FaFvrRAUUAAY2k3?format=jpg&name=orig HTTP/1.1\" 200 556941\n"
     ]
    },
    {
     "name": "stdout",
     "output_type": "stream",
     "text": [
      "nvme_drive/scraped_files/20220818-230726-reddit/twitter/FaFvrRAUUAAY2k3.jpg\n"
     ]
    },
    {
     "name": "stderr",
     "output_type": "stream",
     "text": [
      "[9/24] https://i.redd.it/2pdkd8t5qfi91.jpg\n",
      "[gallery-dl][debug] Starting DownloadJob for 'https://i.redd.it/2pdkd8t5qfi91.jpg'\n",
      "[reddit][debug] Using RedditImageExtractor for 'https://i.redd.it/2pdkd8t5qfi91.jpg'\n",
      "[urllib3.connectionpool][debug] https://i.redd.it:443 \"GET /2pdkd8t5qfi91.jpg HTTP/1.1\" 200 886764\n"
     ]
    },
    {
     "name": "stdout",
     "output_type": "stream",
     "text": [
      "nvme_drive/scraped_files/20220818-230726-reddit/reddit/2pdkd8t5qfi91.jpg\n",
      "nvme_drive/scraped_files/20220818-230726-reddit/reddit/96oxqsh8ndi91.jpg\n"
     ]
    },
    {
     "name": "stderr",
     "output_type": "stream",
     "text": [
      "[10/24] https://i.redd.it/96oxqsh8ndi91.jpg\n",
      "[gallery-dl][debug] Starting DownloadJob for 'https://i.redd.it/96oxqsh8ndi91.jpg'\n",
      "[reddit][debug] Using RedditImageExtractor for 'https://i.redd.it/96oxqsh8ndi91.jpg'\n",
      "[urllib3.connectionpool][debug] https://i.redd.it:443 \"GET /96oxqsh8ndi91.jpg HTTP/1.1\" 200 484757\n",
      "[11/24] https://i.redd.it/6dndu2np5ci91.jpg\n",
      "[gallery-dl][debug] Starting DownloadJob for 'https://i.redd.it/6dndu2np5ci91.jpg'\n",
      "[reddit][debug] Using RedditImageExtractor for 'https://i.redd.it/6dndu2np5ci91.jpg'\n",
      "[urllib3.connectionpool][debug] https://i.redd.it:443 \"GET /6dndu2np5ci91.jpg HTTP/1.1\" 200 782565\n"
     ]
    },
    {
     "name": "stdout",
     "output_type": "stream",
     "text": [
      "nvme_drive/scraped_files/20220818-230726-reddit/reddit/6dndu2np5ci91.jpg\n",
      "nvme_drive/scraped_files/20220818-230726-reddit/reddit/rjv4a4kkbgi91.jpg\n"
     ]
    },
    {
     "name": "stderr",
     "output_type": "stream",
     "text": [
      "[12/24] https://i.redd.it/rjv4a4kkbgi91.jpg\n",
      "[gallery-dl][debug] Starting DownloadJob for 'https://i.redd.it/rjv4a4kkbgi91.jpg'\n",
      "[reddit][debug] Using RedditImageExtractor for 'https://i.redd.it/rjv4a4kkbgi91.jpg'\n",
      "[urllib3.connectionpool][debug] https://i.redd.it:443 \"GET /rjv4a4kkbgi91.jpg HTTP/1.1\" 200 712377\n",
      "[13/24] https://i.redd.it/u7dbhw2eihi91.jpg\n",
      "[gallery-dl][debug] Starting DownloadJob for 'https://i.redd.it/u7dbhw2eihi91.jpg'\n",
      "[reddit][debug] Using RedditImageExtractor for 'https://i.redd.it/u7dbhw2eihi91.jpg'\n",
      "[urllib3.connectionpool][debug] https://i.redd.it:443 \"GET /u7dbhw2eihi91.jpg HTTP/1.1\" 200 933564\n"
     ]
    },
    {
     "name": "stdout",
     "output_type": "stream",
     "text": [
      "nvme_drive/scraped_files/20220818-230726-reddit/reddit/u7dbhw2eihi91.jpg\n",
      "nvme_drive/scraped_files/20220818-230726-reddit/reddit/9cauyhav0gi91.jpg\n"
     ]
    },
    {
     "name": "stderr",
     "output_type": "stream",
     "text": [
      "[14/24] https://i.redd.it/9cauyhav0gi91.jpg\n",
      "[gallery-dl][debug] Starting DownloadJob for 'https://i.redd.it/9cauyhav0gi91.jpg'\n",
      "[reddit][debug] Using RedditImageExtractor for 'https://i.redd.it/9cauyhav0gi91.jpg'\n",
      "[urllib3.connectionpool][debug] https://i.redd.it:443 \"GET /9cauyhav0gi91.jpg HTTP/1.1\" 200 628796\n",
      "[15/24] https://i.redd.it/z107mvzegci91.jpg\n",
      "[gallery-dl][debug] Starting DownloadJob for 'https://i.redd.it/z107mvzegci91.jpg'\n",
      "[reddit][debug] Using RedditImageExtractor for 'https://i.redd.it/z107mvzegci91.jpg'\n",
      "[urllib3.connectionpool][debug] https://i.redd.it:443 \"GET /z107mvzegci91.jpg HTTP/1.1\" 200 1001021\n"
     ]
    },
    {
     "name": "stdout",
     "output_type": "stream",
     "text": [
      "nvme_drive/scraped_files/20220818-230726-reddit/reddit/z107mvzegci91.jpg\n"
     ]
    },
    {
     "name": "stderr",
     "output_type": "stream",
     "text": [
      "[16/24] https://twitter.com/mangatimekirara/status/1559726832450420736\n",
      "[gallery-dl][debug] Starting DownloadJob for 'https://twitter.com/mangatimekirara/status/1559726832450420736'\n",
      "[twitter][debug] Using TwitterTweetExtractor for 'https://twitter.com/mangatimekirara/status/1559726832450420736'\n",
      "[urllib3.connectionpool][debug] Starting new HTTPS connection (1): twitter.com:443\n",
      "[urllib3.connectionpool][debug] https://twitter.com:443 \"GET /i/api/graphql/ItejhtHVxU7ksltgMmyaLA/TweetDetail?variables=%7B%22focalTweetId%22%3A%221559726832450420736%22%2C%22with_rux_injections%22%3Afalse%2C%22withCommunity%22%3Atrue%2C%22withQuickPromoteEligibilityTweetFields%22%3Atrue%2C%22withBirdwatchNotes%22%3Afalse%2C%22includePromotedContent%22%3Afalse%2C%22withSuperFollowsUserFields%22%3Atrue%2C%22withBirdwatchPivots%22%3Afalse%2C%22withDownvotePerspective%22%3Afalse%2C%22withReactionsMetadata%22%3Afalse%2C%22withReactionsPerspective%22%3Afalse%2C%22withSuperFollowsTweetFields%22%3Atrue%2C%22withClientEventToken%22%3Afalse%2C%22withVoice%22%3Atrue%2C%22withV2Timeline%22%3Afalse%2C%22__fs_interactive_text%22%3Afalse%2C%22__fs_dont_mention_me_view_api_enabled%22%3Afalse%7D HTTP/1.1\" 200 2327\n",
      "[urllib3.connectionpool][debug] https://pbs.twimg.com:443 \"GET /media/FaVC_7WaIAAA1WA?format=jpg&name=orig HTTP/1.1\" 200 730767\n"
     ]
    },
    {
     "name": "stdout",
     "output_type": "stream",
     "text": [
      "nvme_drive/scraped_files/20220818-230726-reddit/twitter/mangatimekirara/1559726832450420736_1.jpg\n",
      "nvme_drive/scraped_files/20220818-230726-reddit/twitter/FaWokHXaUAAlu1J.jpg\n"
     ]
    },
    {
     "name": "stderr",
     "output_type": "stream",
     "text": [
      "[17/24] https://pbs.twimg.com/media/FaWokHXaUAAlu1J.jpg\n",
      "[gallery-dl][debug] Starting DownloadJob for 'https://pbs.twimg.com/media/FaWokHXaUAAlu1J.jpg'\n",
      "[twitter][debug] Using TwitterImageExtractor for 'https://pbs.twimg.com/media/FaWokHXaUAAlu1J.jpg'\n",
      "[urllib3.connectionpool][debug] https://pbs.twimg.com:443 \"GET /media/FaWokHXaUAAlu1J?format=jpg&name=orig HTTP/1.1\" 200 545951\n",
      "[18/24] https://i.redd.it/ljd1xrfzwgi91.jpg\n",
      "[gallery-dl][debug] Starting DownloadJob for 'https://i.redd.it/ljd1xrfzwgi91.jpg'\n",
      "[reddit][debug] Using RedditImageExtractor for 'https://i.redd.it/ljd1xrfzwgi91.jpg'\n",
      "[urllib3.connectionpool][debug] https://i.redd.it:443 \"GET /ljd1xrfzwgi91.jpg HTTP/1.1\" 200 572671\n"
     ]
    },
    {
     "name": "stdout",
     "output_type": "stream",
     "text": [
      "nvme_drive/scraped_files/20220818-230726-reddit/reddit/ljd1xrfzwgi91.jpg\n",
      "nvme_drive/scraped_files/20220818-230726-reddit/reddit/elvlenzm8ei91.jpg\n"
     ]
    },
    {
     "name": "stderr",
     "output_type": "stream",
     "text": [
      "[19/24] https://i.redd.it/elvlenzm8ei91.jpg\n",
      "[gallery-dl][debug] Starting DownloadJob for 'https://i.redd.it/elvlenzm8ei91.jpg'\n",
      "[reddit][debug] Using RedditImageExtractor for 'https://i.redd.it/elvlenzm8ei91.jpg'\n",
      "[urllib3.connectionpool][debug] https://i.redd.it:443 \"GET /elvlenzm8ei91.jpg HTTP/1.1\" 200 217700\n",
      "[20/24] https://twitter.com/_ugaigusuri/status/1556681553802973184\n",
      "[gallery-dl][debug] Starting DownloadJob for 'https://twitter.com/_ugaigusuri/status/1556681553802973184'\n",
      "[twitter][debug] Using TwitterTweetExtractor for 'https://twitter.com/_ugaigusuri/status/1556681553802973184'\n",
      "[urllib3.connectionpool][debug] https://twitter.com:443 \"GET /i/api/graphql/ItejhtHVxU7ksltgMmyaLA/TweetDetail?variables=%7B%22focalTweetId%22%3A%221556681553802973184%22%2C%22with_rux_injections%22%3Afalse%2C%22withCommunity%22%3Atrue%2C%22withQuickPromoteEligibilityTweetFields%22%3Atrue%2C%22withBirdwatchNotes%22%3Afalse%2C%22includePromotedContent%22%3Afalse%2C%22withSuperFollowsUserFields%22%3Atrue%2C%22withBirdwatchPivots%22%3Afalse%2C%22withDownvotePerspective%22%3Afalse%2C%22withReactionsMetadata%22%3Afalse%2C%22withReactionsPerspective%22%3Afalse%2C%22withSuperFollowsTweetFields%22%3Atrue%2C%22withClientEventToken%22%3Afalse%2C%22withVoice%22%3Atrue%2C%22withV2Timeline%22%3Afalse%2C%22__fs_interactive_text%22%3Afalse%2C%22__fs_dont_mention_me_view_api_enabled%22%3Afalse%7D HTTP/1.1\" 200 2644\n",
      "[urllib3.connectionpool][debug] https://pbs.twimg.com:443 \"GET /media/FZpxnrwVUAAkLKC?format=jpg&name=orig HTTP/1.1\" 200 562080\n"
     ]
    },
    {
     "name": "stdout",
     "output_type": "stream",
     "text": [
      "nvme_drive/scraped_files/20220818-230726-reddit/twitter/_ugaigusuri/1556681553802973184_1.jpg\n"
     ]
    },
    {
     "name": "stderr",
     "output_type": "stream",
     "text": [
      "[urllib3.connectionpool][debug] https://pbs.twimg.com:443 \"GET /media/FZpxnrtUcAA0rNA?format=jpg&name=orig HTTP/1.1\" 200 433664\n"
     ]
    },
    {
     "name": "stdout",
     "output_type": "stream",
     "text": [
      "nvme_drive/scraped_files/20220818-230726-reddit/twitter/_ugaigusuri/1556681553802973184_2.jpg\n"
     ]
    },
    {
     "name": "stderr",
     "output_type": "stream",
     "text": [
      "[urllib3.connectionpool][debug] https://pbs.twimg.com:443 \"GET /media/FZpxnruUcAEnD3z?format=jpg&name=orig HTTP/1.1\" 200 507668\n"
     ]
    },
    {
     "name": "stdout",
     "output_type": "stream",
     "text": [
      "nvme_drive/scraped_files/20220818-230726-reddit/twitter/_ugaigusuri/1556681553802973184_3.jpg\n",
      "nvme_drive/scraped_files/20220818-230726-reddit/reddit/mylwvje3thi91.jpg\n"
     ]
    },
    {
     "name": "stderr",
     "output_type": "stream",
     "text": [
      "[21/24] https://i.redd.it/mylwvje3thi91.jpg\n",
      "[gallery-dl][debug] Starting DownloadJob for 'https://i.redd.it/mylwvje3thi91.jpg'\n",
      "[reddit][debug] Using RedditImageExtractor for 'https://i.redd.it/mylwvje3thi91.jpg'\n",
      "[urllib3.connectionpool][debug] https://i.redd.it:443 \"GET /mylwvje3thi91.jpg HTTP/1.1\" 200 521520\n",
      "[22/24] https://i.redd.it/8zkmwxso7hi91.jpg\n",
      "[gallery-dl][debug] Starting DownloadJob for 'https://i.redd.it/8zkmwxso7hi91.jpg'\n",
      "[reddit][debug] Using RedditImageExtractor for 'https://i.redd.it/8zkmwxso7hi91.jpg'\n",
      "[urllib3.connectionpool][debug] https://i.redd.it:443 \"GET /8zkmwxso7hi91.jpg HTTP/1.1\" 200 192593\n"
     ]
    },
    {
     "name": "stdout",
     "output_type": "stream",
     "text": [
      "nvme_drive/scraped_files/20220818-230726-reddit/reddit/8zkmwxso7hi91.jpg\n"
     ]
    },
    {
     "name": "stderr",
     "output_type": "stream",
     "text": [
      "[23/24] https://pbs.twimg.com/media/FaNziC6UIAEe1i2.jpg\n",
      "[gallery-dl][debug] Starting DownloadJob for 'https://pbs.twimg.com/media/FaNziC6UIAEe1i2.jpg'\n",
      "[twitter][debug] Using TwitterImageExtractor for 'https://pbs.twimg.com/media/FaNziC6UIAEe1i2.jpg'\n",
      "[urllib3.connectionpool][debug] https://pbs.twimg.com:443 \"GET /media/FaNziC6UIAEe1i2?format=jpg&name=orig HTTP/1.1\" 200 254771\n"
     ]
    },
    {
     "name": "stdout",
     "output_type": "stream",
     "text": [
      "nvme_drive/scraped_files/20220818-230726-reddit/twitter/FaNziC6UIAEe1i2.jpg\n"
     ]
    },
    {
     "name": "stderr",
     "output_type": "stream",
     "text": [
      "[24/24] https://i.redd.it/0sy0cjwwzii91.jpg\n",
      "[gallery-dl][debug] Starting DownloadJob for 'https://i.redd.it/0sy0cjwwzii91.jpg'\n",
      "[reddit][debug] Using RedditImageExtractor for 'https://i.redd.it/0sy0cjwwzii91.jpg'\n",
      "[urllib3.connectionpool][debug] https://i.redd.it:443 \"GET /0sy0cjwwzii91.jpg HTTP/1.1\" 200 809316\n"
     ]
    },
    {
     "name": "stdout",
     "output_type": "stream",
     "text": [
      "nvme_drive/scraped_files/20220818-230726-reddit/reddit/0sy0cjwwzii91.jpg\n"
     ]
    },
    {
     "data": {
      "text/plain": [
       "0"
      ]
     },
     "execution_count": 73,
     "metadata": {},
     "output_type": "execute_result"
    }
   ],
   "source": [
    "os.system(COMMAND)"
   ]
  },
  {
   "cell_type": "code",
   "execution_count": 74,
   "metadata": {},
   "outputs": [],
   "source": [
    "model = load_model(ACTIVE_SAFETY_NET_MODEL_PATH)"
   ]
  },
  {
   "cell_type": "code",
   "execution_count": 75,
   "metadata": {},
   "outputs": [
    {
     "name": "stdout",
     "output_type": "stream",
     "text": [
      "Loading nvme_drive/scraped_files/20220818-230726-reddit/reddit/i97pu0x9mgi91.jpg\n",
      "1/1 [==============================] - 0s 426ms/step\n",
      "Image belongs to None with a 47.54 percent confidence.\n",
      "Could not find nvme_drive/scraped_files/PREDICTED_20220818-230726-reddit/None creating it now.\n",
      "Loading nvme_drive/scraped_files/20220818-230726-reddit/reddit/96oxqsh8ndi91.jpg\n",
      "1/1 [==============================] - 0s 14ms/step\n",
      "Image belongs to None with a 47.54 percent confidence.\n",
      "Loading nvme_drive/scraped_files/20220818-230726-reddit/reddit/z107mvzegci91.jpg\n",
      "1/1 [==============================] - 0s 14ms/step\n",
      "Image belongs to None with a 47.54 percent confidence.\n",
      "Loading nvme_drive/scraped_files/20220818-230726-reddit/reddit/ihmrrv5jcdi91.jpg\n",
      "1/1 [==============================] - 0s 14ms/step\n",
      "Image belongs to None with a 47.54 percent confidence.\n",
      "Loading nvme_drive/scraped_files/20220818-230726-reddit/reddit/elvlenzm8ei91.jpg\n",
      "1/1 [==============================] - 0s 14ms/step\n",
      "Image belongs to None with a 47.54 percent confidence.\n",
      "Loading nvme_drive/scraped_files/20220818-230726-reddit/reddit/s8s5fsicjei91.jpg\n",
      "1/1 [==============================] - 0s 14ms/step\n",
      "Image belongs to None with a 47.54 percent confidence.\n",
      "Loading nvme_drive/scraped_files/20220818-230726-reddit/reddit/2pdkd8t5qfi91.jpg\n",
      "1/1 [==============================] - 0s 14ms/step\n",
      "Image belongs to None with a 47.54 percent confidence.\n",
      "Loading nvme_drive/scraped_files/20220818-230726-reddit/reddit/qlr44rot1di91.jpg\n",
      "1/1 [==============================] - 0s 14ms/step\n",
      "Image belongs to None with a 47.54 percent confidence.\n",
      "Loading nvme_drive/scraped_files/20220818-230726-reddit/reddit/0sy0cjwwzii91.jpg\n",
      "1/1 [==============================] - 0s 14ms/step\n",
      "Image belongs to None with a 47.54 percent confidence.\n",
      "Loading nvme_drive/scraped_files/20220818-230726-reddit/reddit/u7dbhw2eihi91.jpg\n",
      "1/1 [==============================] - 0s 14ms/step\n",
      "Image belongs to None with a 47.54 percent confidence.\n",
      "Loading nvme_drive/scraped_files/20220818-230726-reddit/reddit/9cauyhav0gi91.jpg\n",
      "1/1 [==============================] - 0s 14ms/step\n",
      "Image belongs to None with a 47.54 percent confidence.\n",
      "Loading nvme_drive/scraped_files/20220818-230726-reddit/reddit/mylwvje3thi91.jpg\n",
      "1/1 [==============================] - 0s 14ms/step\n",
      "Image belongs to None with a 47.54 percent confidence.\n",
      "Loading nvme_drive/scraped_files/20220818-230726-reddit/reddit/8zkmwxso7hi91.jpg\n",
      "1/1 [==============================] - 0s 14ms/step\n",
      "Image belongs to None with a 47.54 percent confidence.\n",
      "Loading nvme_drive/scraped_files/20220818-230726-reddit/reddit/ljd1xrfzwgi91.jpg\n",
      "1/1 [==============================] - 0s 14ms/step\n",
      "Image belongs to None with a 47.54 percent confidence.\n",
      "Loading nvme_drive/scraped_files/20220818-230726-reddit/reddit/rjv4a4kkbgi91.jpg\n",
      "1/1 [==============================] - 0s 14ms/step\n",
      "Image belongs to None with a 47.54 percent confidence.\n",
      "Loading nvme_drive/scraped_files/20220818-230726-reddit/reddit/6dndu2np5ci91.jpg\n",
      "1/1 [==============================] - 0s 14ms/step\n",
      "Image belongs to None with a 47.54 percent confidence.\n",
      "Loading nvme_drive/scraped_files/20220818-230726-reddit/reddit/6ysmk6c4rci91.jpg\n",
      "1/1 [==============================] - 0s 14ms/step\n",
      "Image belongs to None with a 47.54 percent confidence.\n",
      "Loading nvme_drive/scraped_files/20220818-230726-reddit/twitter/FaWokHXaUAAlu1J.jpg\n",
      "1/1 [==============================] - 0s 14ms/step\n",
      "Image belongs to None with a 47.54 percent confidence.\n",
      "Loading nvme_drive/scraped_files/20220818-230726-reddit/twitter/FaFvrRAUUAAY2k3.jpg\n",
      "1/1 [==============================] - 0s 14ms/step\n",
      "Image belongs to None with a 47.54 percent confidence.\n",
      "Loading nvme_drive/scraped_files/20220818-230726-reddit/twitter/FaLQsdJagAMxEA8.jpg\n",
      "1/1 [==============================] - 0s 14ms/step\n",
      "Image belongs to None with a 47.54 percent confidence.\n",
      "Loading nvme_drive/scraped_files/20220818-230726-reddit/twitter/FaSDT2gaAAEjzQ2.jpg\n",
      "1/1 [==============================] - 0s 14ms/step\n",
      "Image belongs to None with a 47.54 percent confidence.\n",
      "Loading nvme_drive/scraped_files/20220818-230726-reddit/twitter/FaNziC6UIAEe1i2.jpg\n",
      "1/1 [==============================] - 0s 14ms/step\n",
      "Image belongs to None with a 47.54 percent confidence.\n",
      "Loading nvme_drive/scraped_files/20220818-230726-reddit/twitter/_ugaigusuri/1556681553802973184_2.jpg\n",
      "1/1 [==============================] - 0s 14ms/step\n",
      "Image belongs to None with a 47.54 percent confidence.\n",
      "Loading nvme_drive/scraped_files/20220818-230726-reddit/twitter/_ugaigusuri/1556681553802973184_1.jpg\n",
      "1/1 [==============================] - 0s 14ms/step\n",
      "Image belongs to None with a 47.54 percent confidence.\n",
      "Loading nvme_drive/scraped_files/20220818-230726-reddit/twitter/_ugaigusuri/1556681553802973184_3.jpg\n",
      "1/1 [==============================] - 0s 14ms/step\n",
      "Image belongs to None with a 47.54 percent confidence.\n",
      "Loading nvme_drive/scraped_files/20220818-230726-reddit/twitter/mangatimekirara/1559726832450420736_1.jpg\n",
      "1/1 [==============================] - 0s 14ms/step\n",
      "Image belongs to None with a 47.54 percent confidence.\n"
     ]
    }
   ],
   "source": [
    "files = glob.glob(OUTPUT_DIRECTORY + '/**/*.jpg', recursive=True)\n",
    "file_count = files.count\n",
    "\n",
    "resize_and_rescale = tf.keras.Sequential([\n",
    "  layers.Resizing(240, 240, crop_to_aspect_ratio=True),\n",
    "  layers.Rescaling(1./255)\n",
    "])\n",
    "\n",
    "def load(filename):\n",
    "    print(\"Loading \" + filename)\n",
    "    img = tf.keras.utils.load_img(filename, target_size = (240, 240))\n",
    "    img_array = tf.keras.utils.img_to_array(img)\n",
    "    img_array = tf.expand_dims(img_array, axis=0) # Create a batch\n",
    "    img_array = tf.keras.applications.resnet50.preprocess_input(img_array)\n",
    "    return img_array\n",
    "\n",
    "\n",
    "for file in files:\n",
    "    image = load(file)\n",
    "    predictions = model.predict(image)\n",
    "    score = tf.nn.softmax(predictions[0])\n",
    "    class_name = class_names[np.argmax(score)];\n",
    "    print(\"Image belongs to {} with a {:.2f} percent confidence.\"\n",
    "    .format(class_name, 100 * np.max(score)))\n",
    "    new_directory = PREDICT_DIRECTORY + \"/\" + class_name\n",
    "\n",
    "    if not os.path.isdir(new_directory):\n",
    "        print(\"Could not find \" + new_directory + \" creating it now.\")\n",
    "        os.makedirs(new_directory)\n",
    "\n",
    "    file_name = os.path.basename(file)\n",
    "    new_path = new_directory + \"/\" + file_name\n",
    "    shutil.move(file, new_path)\n"
   ]
  }
 ],
 "metadata": {
  "kernelspec": {
   "display_name": "tf",
   "language": "python",
   "name": "tf"
  },
  "language_info": {
   "codemirror_mode": {
    "name": "ipython",
    "version": 3
   },
   "file_extension": ".py",
   "mimetype": "text/x-python",
   "name": "python",
   "nbconvert_exporter": "python",
   "pygments_lexer": "ipython3",
   "version": "3.9.13"
  },
  "orig_nbformat": 4
 },
 "nbformat": 4,
 "nbformat_minor": 2
}
