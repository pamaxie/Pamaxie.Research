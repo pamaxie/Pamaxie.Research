{
 "cells": [
  {
   "cell_type": "code",
   "execution_count": 5,
   "metadata": {},
   "outputs": [],
   "source": [
    "#Import Libraries\n",
    "import os\n",
    "import cv2\n",
    "import numpy as np\n",
    "import pandas as pd\n",
    "import matplotlib.pyplot as plt\n",
    "import tensorflow as tf\n",
    "import keras\n",
    "from tensorflow.keras import datasets,models,layers\n",
    "from sklearn.model_selection import train_test_split"
   ]
  },
  {
   "cell_type": "code",
   "execution_count": 16,
   "metadata": {},
   "outputs": [
    {
     "name": "stdout",
     "output_type": "stream",
     "text": [
      "Found a new class with name: Gore\n",
      "Found a new class with name: Racy\n",
      "Found a new class with name: None\n",
      "Found a new class with name: Pornographic\n"
     ]
    },
    {
     "name": "stderr",
     "output_type": "stream",
     "text": [
      "libpng warning: iCCP: known incorrect sRGB profile\n",
      "libpng warning: iCCP: known incorrect sRGB profile\n",
      "libpng warning: iCCP: known incorrect sRGB profile\n",
      "libpng warning: iCCP: extra compressed data\n"
     ]
    },
    {
     "ename": "",
     "evalue": "",
     "output_type": "error",
     "traceback": [
      "The Kernel crashed while executing code in the the current cell or a previous cell. Please review the code in the cell(s) to identify a possible cause of the failure. Click <a href='https://aka.ms/vscodeJupyterKernelCrash'>here</a> for more info. View Jupyter <a href='command:jupyter.viewOutput'>log</a> for further details."
     ]
    },
    {
     "ename": "",
     "evalue": "",
     "output_type": "error",
     "traceback": [
      "\u001b[1;31mCanceled future for execute_request message before replies were done"
     ]
    }
   ],
   "source": [
    "training_data_dir = \"nvme_drive/Training Data\"\n",
    "data = []\n",
    "label = []\n",
    "#directories = []\n",
    "Files = []\n",
    "label_val = 0\n",
    "\n",
    "\n",
    "for item in os.scandir(training_data_dir):\n",
    "    if item.is_dir():\n",
    "        #directories.append(item.path)\n",
    "        Files.append(item.path)\n",
    "        print(\"Found a new class with name: \" + item.name)\n",
    "\n",
    "\n",
    "for path, subdirs, files in os.walk(training_data_dir):\n",
    "    for name in files:\n",
    "        image_array = cv2.imread(os.path.join(path, name), cv2.IMREAD_COLOR)\n",
    "        data.append(image_array)\n",
    "        label.append(label_val)\n",
    "    label_val = 1\n",
    "\n",
    "data = np.asarray(data)\n",
    "label = np.asarray(label)\n",
    "X_train, X_test, y_train, y_test = train_test_split(data, label, test_size=0.33, random_state=42)\n"
   ]
  }
 ],
 "metadata": {
  "kernelspec": {
   "display_name": "tf",
   "language": "python",
   "name": "tf"
  },
  "language_info": {
   "codemirror_mode": {
    "name": "ipython",
    "version": 3
   },
   "file_extension": ".py",
   "mimetype": "text/x-python",
   "name": "python",
   "nbconvert_exporter": "python",
   "pygments_lexer": "ipython3",
   "version": "3.9.13"
  },
  "orig_nbformat": 4
 },
 "nbformat": 4,
 "nbformat_minor": 2
}
