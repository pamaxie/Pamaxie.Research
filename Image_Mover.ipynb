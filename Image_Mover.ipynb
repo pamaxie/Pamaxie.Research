{
 "cells": [
  {
   "cell_type": "code",
   "execution_count": 3,
   "metadata": {},
   "outputs": [
    {
     "name": "stdout",
     "output_type": "stream",
     "text": [
      "Starting to move the files to a new directory\n",
      "Type 1\n",
      "Resizing and Copying file:  /Users/liaduerr/Desktop/Test Output/Type 1/94133c22-4b05-488e-ae90-1991a7d32067.png\n",
      "New Width:  454 New Height:  300\n",
      "Type 3\n",
      "Resizing and Copying file:  /Users/liaduerr/Desktop/Test Output/Type 3/fbc02626-3ffc-452a-88b9-76dddaa14bde.png\n",
      "New Width:  648 New Height:  300\n",
      "Type 2\n",
      "Resizing and Copying file:  /Users/liaduerr/Desktop/Test Output/Type 2/4087ac40-7f09-47fb-9341-2d7e88d8a55a.png\n",
      "New Width:  1084 New Height:  300\n"
     ]
    }
   ],
   "source": [
    "import os\n",
    "import shutil\n",
    "import uuid\n",
    "from PIL import Image\n",
    "from os import walk\n",
    "from os.path import isdir, isfile, join\n",
    "\n",
    "print(\"Starting to move the files to a new directory\")\n",
    "source_dir = \"/Users/liaduerr/Desktop/Test Directory\"\n",
    "dest_dir = \"/Users/liaduerr/Desktop/Test Output\"\n",
    "should_resize = True\n",
    "wanted_size = 300;\n",
    "\n",
    "\n",
    "def get_subdirs(dir_name, dir_path) -> list[str]:\n",
    "    subdir_names = []\n",
    "    for subdir_name in os.listdir(dir_path):\n",
    "        if subdir_name.startswith(\".\"):\n",
    "            continue\n",
    "        subdir_name = dir_name + '/' + subdir_name\n",
    "        subdir_names.append(subdir_name)\n",
    "\n",
    "    return subdir_names\n",
    "\n",
    "dir_names = os.listdir(source_dir)\n",
    "\n",
    "#Change your directory here so you're walking the right directory\n",
    "for file in dir_names:\n",
    "    if file.startswith(\".\"):\n",
    "        continue;\n",
    "\n",
    "    file_path = join(source_dir, file)\n",
    "\n",
    "    if isdir(file_path):\n",
    "        if not os.path.isdir(join(dest_dir, file)):\n",
    "            os.mkdir(join(dest_dir, file))\n",
    "        dir_names.extend(get_subdirs(file, file_path))\n",
    "\n",
    "    if isfile(file_path):\n",
    "        if should_resize:\n",
    "            im = Image.open(file_path)\n",
    "            dir_name = os.path.dirname(file_path)\n",
    "            dir_name = os.path.basename(dir_name)\n",
    "            print(dir_name)\n",
    "            uuid_str = str(uuid.uuid4())\n",
    "            file_name = uuid_str + \".png\"\n",
    "\n",
    "            file_path = join(dest_dir, dir_name, file_name)\n",
    "            print(\"Resizing and Copying file: \", file_path)\n",
    "            aspect = im.width / im.height\n",
    "\n",
    "            new_width = 0\n",
    "            new_height = 0\n",
    "\n",
    "\n",
    "            new_width = int(wanted_size * aspect)\n",
    "            new_height = wanted_size\n",
    "\n",
    "\n",
    "            print(\"New Width: \", new_width, \"New Height: \", new_height)\n",
    "\n",
    "            im = im.resize((new_width, new_height), resample=Image.Resampling.HAMMING)\n",
    "            im.save(file_path)\n",
    "            im.close()\n",
    "        else:\n",
    "            print(\"Copying file: \", file_path)\n",
    "            shutil.copy2(file_path, join(dest_dir, file))\n",
    "\n",
    "\n",
    "\n",
    "\n"
   ]
  }
 ],
 "metadata": {
  "kernelspec": {
   "display_name": "Python 3.9.12 64-bit",
   "language": "python",
   "name": "python3"
  },
  "language_info": {
   "codemirror_mode": {
    "name": "ipython",
    "version": 3
   },
   "file_extension": ".py",
   "mimetype": "text/x-python",
   "name": "python",
   "nbconvert_exporter": "python",
   "pygments_lexer": "ipython3",
   "version": "3.9.12"
  },
  "orig_nbformat": 4,
  "vscode": {
   "interpreter": {
    "hash": "b0fa6594d8f4cbf19f97940f81e996739fb7646882a419484c72d19e05852a7e"
   }
  }
 },
 "nbformat": 4,
 "nbformat_minor": 2
}
