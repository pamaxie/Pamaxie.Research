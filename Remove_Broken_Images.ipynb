{
 "cells": [
  {
   "cell_type": "code",
   "execution_count": 50,
   "metadata": {},
   "outputs": [],
   "source": [
    "import os\n",
    "from os import walk\n",
    "from PIL import Image\n",
    "import PIL\n",
    "count=0\n",
    "\n",
    "for (dir_path, dir_names, file_names) in walk(\"nvme_drive/Training Data\"):\n",
    "    for file_name in file_names:\n",
    "        if file_name.endswith('.png'):\n",
    "            image_path = dir_path + '/' + file_name;\n",
    "            try:\n",
    "                im = Image.open(image_path)\n",
    "                im.verify()\n",
    "                im.close()\n",
    "                im = Image.open(image_path) \n",
    "                im.transpose(PIL.Image.Transpose.FLIP_LEFT_RIGHT)\n",
    "                im.close()\n",
    "\n",
    "                statfile = os.stat(image_path)\n",
    "                filesize = statfile.st_size\n",
    "                if filesize == 0:\n",
    "                    print(image_path)\n",
    "                    os.remove(image_path)\n",
    "                    print(\"removed corrupt image\")\n",
    "                if filesize < 200:\n",
    "                    print(image_path)\n",
    "\n",
    "            except (IOError, SyntaxError) as e:\n",
    "                #Automatically remove images that cause IO Errors :P\n",
    "                print(e)\n",
    "                print(image_path)\n",
    "                os.remove(image_path)\n",
    "                print(\"removed corrupt image\")"
   ]
  }
 ],
 "metadata": {
  "kernelspec": {
   "display_name": "Python 3 (ipykernel)",
   "language": "python",
   "name": "python3"
  },
  "orig_nbformat": 4
 },
 "nbformat": 4,
 "nbformat_minor": 2
}
